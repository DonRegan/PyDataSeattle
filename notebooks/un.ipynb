{
 "cells": [
  {
   "cell_type": "code",
   "execution_count": 5,
   "metadata": {
    "collapsed": true
   },
   "outputs": [],
   "source": [
    "import numpy as np\n",
    "import pandas as pd\n",
    "import seaborn as sns\n",
    "import matplotlib.pyplot as plt\n",
    "\n",
    "%matplotlib inline"
   ]
  },
  {
   "cell_type": "code",
   "execution_count": 1,
   "metadata": {
    "collapsed": false
   },
   "outputs": [
    {
     "name": "stdout",
     "output_type": "stream",
     "text": [
      "<class 'pandas.core.frame.DataFrame'>\n",
      "Int64Index: 1024539 entries, 0 to 1024538\n",
      "Data columns (total 20 columns):\n",
      "rcid               1024539 non-null int64\n",
      "session            1024539 non-null int64\n",
      "date               1024539 non-null datetime64[ns]\n",
      "unres              992822 non-null object\n",
      "vote               1024539 non-null int64\n",
      "ccode              1024539 non-null int64\n",
      "uniquename         1024539 non-null object\n",
      "voetenoldcode      1024539 non-null int64\n",
      "voetenname         1024539 non-null object\n",
      "voetenshortcode    1024539 non-null object\n",
      "cowshortcode       1024539 non-null object\n",
      "cowcode            1024539 non-null int64\n",
      "cowlongname        1024539 non-null object\n",
      "aclpcode           998484 non-null float64\n",
      "wdicode            990090 non-null object\n",
      "imfcode            973443 non-null float64\n",
      "politycode         1024539 non-null int64\n",
      "bankscode          977640 non-null float64\n",
      "dpicode            998484 non-null object\n",
      "uncode             991104 non-null float64\n",
      "dtypes: datetime64[ns](1), float64(4), int64(7), object(8)\n",
      "memory usage: 164.1+ MB\n",
      "dtypes None\n"
     ]
    },
    {
     "data": {
      "text/html": [
       "<div>\n",
       "<table border=\"1\" class=\"dataframe\">\n",
       "  <thead>\n",
       "    <tr style=\"text-align: right;\">\n",
       "      <th></th>\n",
       "      <th>rcid</th>\n",
       "      <th>session</th>\n",
       "      <th>date</th>\n",
       "      <th>unres</th>\n",
       "      <th>vote</th>\n",
       "      <th>ccode</th>\n",
       "      <th>uniquename</th>\n",
       "      <th>voetenoldcode</th>\n",
       "      <th>voetenname</th>\n",
       "      <th>voetenshortcode</th>\n",
       "      <th>cowshortcode</th>\n",
       "      <th>cowcode</th>\n",
       "      <th>cowlongname</th>\n",
       "      <th>aclpcode</th>\n",
       "      <th>wdicode</th>\n",
       "      <th>imfcode</th>\n",
       "      <th>politycode</th>\n",
       "      <th>bankscode</th>\n",
       "      <th>dpicode</th>\n",
       "      <th>uncode</th>\n",
       "    </tr>\n",
       "  </thead>\n",
       "  <tbody>\n",
       "    <tr>\n",
       "      <th>0</th>\n",
       "      <td>3</td>\n",
       "      <td>1</td>\n",
       "      <td>1946-01-01</td>\n",
       "      <td>R/1/66</td>\n",
       "      <td>1</td>\n",
       "      <td>2</td>\n",
       "      <td>United States of America</td>\n",
       "      <td>2</td>\n",
       "      <td>United States of America</td>\n",
       "      <td>USA</td>\n",
       "      <td>USA</td>\n",
       "      <td>2</td>\n",
       "      <td>United States of America</td>\n",
       "      <td>65</td>\n",
       "      <td>USA</td>\n",
       "      <td>111</td>\n",
       "      <td>2</td>\n",
       "      <td>1220</td>\n",
       "      <td>USA</td>\n",
       "      <td>840</td>\n",
       "    </tr>\n",
       "    <tr>\n",
       "      <th>1</th>\n",
       "      <td>3</td>\n",
       "      <td>1</td>\n",
       "      <td>1946-01-01</td>\n",
       "      <td>R/1/66</td>\n",
       "      <td>3</td>\n",
       "      <td>20</td>\n",
       "      <td>Canada</td>\n",
       "      <td>20</td>\n",
       "      <td>Canada</td>\n",
       "      <td>CAN</td>\n",
       "      <td>CAN</td>\n",
       "      <td>20</td>\n",
       "      <td>Canada</td>\n",
       "      <td>52</td>\n",
       "      <td>CAN</td>\n",
       "      <td>156</td>\n",
       "      <td>20</td>\n",
       "      <td>180</td>\n",
       "      <td>CAN</td>\n",
       "      <td>124</td>\n",
       "    </tr>\n",
       "    <tr>\n",
       "      <th>2</th>\n",
       "      <td>3</td>\n",
       "      <td>1</td>\n",
       "      <td>1946-01-01</td>\n",
       "      <td>R/1/66</td>\n",
       "      <td>9</td>\n",
       "      <td>31</td>\n",
       "      <td>Bahamas</td>\n",
       "      <td>31</td>\n",
       "      <td>Bahamas</td>\n",
       "      <td>BHM</td>\n",
       "      <td>BHM</td>\n",
       "      <td>31</td>\n",
       "      <td>Bahamas</td>\n",
       "      <td>49</td>\n",
       "      <td>BHS</td>\n",
       "      <td>313</td>\n",
       "      <td>31</td>\n",
       "      <td>69</td>\n",
       "      <td>BHS</td>\n",
       "      <td>44</td>\n",
       "    </tr>\n",
       "    <tr>\n",
       "      <th>3</th>\n",
       "      <td>3</td>\n",
       "      <td>1</td>\n",
       "      <td>1946-01-01</td>\n",
       "      <td>R/1/66</td>\n",
       "      <td>1</td>\n",
       "      <td>40</td>\n",
       "      <td>Cuba</td>\n",
       "      <td>40</td>\n",
       "      <td>Cuba</td>\n",
       "      <td>CUB</td>\n",
       "      <td>CUB</td>\n",
       "      <td>40</td>\n",
       "      <td>Cuba</td>\n",
       "      <td>154</td>\n",
       "      <td>CUB</td>\n",
       "      <td>928</td>\n",
       "      <td>40</td>\n",
       "      <td>280</td>\n",
       "      <td>CUB</td>\n",
       "      <td>192</td>\n",
       "    </tr>\n",
       "    <tr>\n",
       "      <th>4</th>\n",
       "      <td>3</td>\n",
       "      <td>1</td>\n",
       "      <td>1946-01-01</td>\n",
       "      <td>R/1/66</td>\n",
       "      <td>1</td>\n",
       "      <td>41</td>\n",
       "      <td>Haiti</td>\n",
       "      <td>41</td>\n",
       "      <td>Haiti</td>\n",
       "      <td>HAI</td>\n",
       "      <td>HAI</td>\n",
       "      <td>41</td>\n",
       "      <td>Haiti</td>\n",
       "      <td>58</td>\n",
       "      <td>HTI</td>\n",
       "      <td>263</td>\n",
       "      <td>41</td>\n",
       "      <td>490</td>\n",
       "      <td>HTI</td>\n",
       "      <td>332</td>\n",
       "    </tr>\n",
       "  </tbody>\n",
       "</table>\n",
       "</div>"
      ],
      "text/plain": [
       "   rcid  session       date   unres  vote  ccode                uniquename  \\\n",
       "0     3        1 1946-01-01  R/1/66     1      2  United States of America   \n",
       "1     3        1 1946-01-01  R/1/66     3     20                    Canada   \n",
       "2     3        1 1946-01-01  R/1/66     9     31                   Bahamas   \n",
       "3     3        1 1946-01-01  R/1/66     1     40                      Cuba   \n",
       "4     3        1 1946-01-01  R/1/66     1     41                     Haiti   \n",
       "\n",
       "   voetenoldcode                voetenname voetenshortcode cowshortcode  \\\n",
       "0              2  United States of America             USA          USA   \n",
       "1             20                    Canada             CAN          CAN   \n",
       "2             31                   Bahamas             BHM          BHM   \n",
       "3             40                      Cuba             CUB          CUB   \n",
       "4             41                     Haiti             HAI          HAI   \n",
       "\n",
       "   cowcode               cowlongname  aclpcode wdicode  imfcode  politycode  \\\n",
       "0        2  United States of America        65     USA      111           2   \n",
       "1       20                    Canada        52     CAN      156          20   \n",
       "2       31                   Bahamas        49     BHS      313          31   \n",
       "3       40                      Cuba       154     CUB      928          40   \n",
       "4       41                     Haiti        58     HTI      263          41   \n",
       "\n",
       "   bankscode dpicode  uncode  \n",
       "0       1220     USA     840  \n",
       "1        180     CAN     124  \n",
       "2         69     BHS      44  \n",
       "3        280     CUB     192  \n",
       "4        490     HTI     332  "
      ]
     },
     "execution_count": 1,
     "metadata": {},
     "output_type": "execute_result"
    }
   ],
   "source": [
    "df = pd.read_csv('../data/undata-213.tab.tsv', sep='\\t',\n",
    "                 parse_dates=['date'])\n",
    "print('dtypes', df.info())\n",
    "df.head()"
   ]
  },
  {
   "cell_type": "code",
   "execution_count": 3,
   "metadata": {
    "collapsed": false
   },
   "outputs": [
    {
     "name": "stdout",
     "output_type": "stream",
     "text": [
      "\u001b[34mARM_Data\u001b[m\u001b[m/                 ARM_Data.zip              descriptions-213.tab.tsv  fixed.tsv                 undata-213.tab.tsv\r\n"
     ]
    }
   ],
   "source": [
    "ls ../data/"
   ]
  },
  {
   "cell_type": "code",
   "execution_count": 17,
   "metadata": {
    "collapsed": false
   },
   "outputs": [],
   "source": [
    "df['unres'] = df['unres'].astype('category')\n",
    "df['uniquename'] = df['uniquename'].astype('category')"
   ]
  },
  {
   "cell_type": "code",
   "execution_count": 19,
   "metadata": {
    "collapsed": true
   },
   "outputs": [],
   "source": [
    "df = df[['rcid', 'session', 'date', 'unres', 'vote', 'uniquename']]"
   ]
  },
  {
   "cell_type": "code",
   "execution_count": 21,
   "metadata": {
    "collapsed": false
   },
   "outputs": [
    {
     "data": {
      "text/plain": [
       "rcid                   int64\n",
       "session                int64\n",
       "date          datetime64[ns]\n",
       "unres               category\n",
       "vote                   int64\n",
       "uniquename          category\n",
       "dtype: object"
      ]
     },
     "execution_count": 21,
     "metadata": {},
     "output_type": "execute_result"
    }
   ],
   "source": [
    "df.dtypes"
   ]
  },
  {
   "cell_type": "code",
   "execution_count": 24,
   "metadata": {
    "collapsed": false
   },
   "outputs": [
    {
     "data": {
      "text/plain": [
       "<matplotlib.axes._subplots.AxesSubplot at 0x116c4f898>"
      ]
     },
     "execution_count": 24,
     "metadata": {},
     "output_type": "execute_result"
    }
   ],
   "source": [
    "df.vote.value_counts().plot(kind='bar', width=.9)"
   ]
  },
  {
   "cell_type": "code",
   "execution_count": null,
   "metadata": {
    "collapsed": true
   },
   "outputs": [],
   "source": []
  }
 ],
 "metadata": {
  "kernelspec": {
   "display_name": "Python 3",
   "language": "python",
   "name": "python3"
  },
  "language_info": {
   "codemirror_mode": {
    "name": "ipython",
    "version": 3
   },
   "file_extension": ".py",
   "mimetype": "text/x-python",
   "name": "python",
   "nbconvert_exporter": "python",
   "pygments_lexer": "ipython3",
   "version": "3.4.3"
  }
 },
 "nbformat": 4,
 "nbformat_minor": 0
}
