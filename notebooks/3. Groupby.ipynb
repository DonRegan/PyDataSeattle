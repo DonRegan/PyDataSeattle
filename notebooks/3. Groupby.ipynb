{
 "cells": [
  {
   "cell_type": "markdown",
   "metadata": {},
   "source": [
    "Groupby is an extremly useful operation.\n",
    "\n",
    "The general form is\n",
    "\n",
    "1. Split a table\n",
    "2. Apply an operation to each chunk\n",
    "3. Combine the results\n",
    "\n"
   ]
  },
  {
   "cell_type": "code",
   "execution_count": 1,
   "metadata": {
    "collapsed": true
   },
   "outputs": [],
   "source": [
    "import re\n",
    "import glob\n",
    "import numpy as np\n",
    "import pandas as pd\n",
    "import seaborn as sns\n",
    "import matplotlib.pyplot as plt\n",
    "%matplotlib inline\n",
    "\n",
    "pd.options.display.max_rows = 10\n",
    "plt.rcParams['figure.figsize'] = (12, 6)"
   ]
  },
  {
   "cell_type": "markdown",
   "metadata": {},
   "source": [
    "This is *subset* of the data from beeradvocate, via [Standford](https://snap.stanford.edu/data/web-RateBeer.html). It's strangely formatted.\n",
    "\n",
    "```\n",
    "beer/name: Sausa Weizen\n",
    "beer/beerId: 47986\n",
    "beer/brewerId: 10325\n",
    "beer/ABV: 5.00\n",
    "beer/style: Hefeweizen\n",
    "review/appearance: 2.5\n",
    "review/aroma: 2\n",
    "review/palate: 1.5\n",
    "review/taste: 1.5\n",
    "review/overall: 1.5\n",
    "review/time: 1234817823\n",
    "review/profileName: stcules\n",
    "review/text: A lot of foam. But a lot.\tIn the smell some banana, and then lactic and tart. Not a good start.\tQuite dark orange in color, with a lively carbonation (now visible, under the foam).\tAgain tending to lactic sourness.\tSame for the taste. With some yeast and banana.\t\t\n",
    "\n",
    "beer/name: Red Moon\n",
    "beer/beerId: 48213\n",
    "beer/brewerId: 10325\n",
    "beer/ABV: 6.20\n",
    " ...\n",
    "```\n",
    "\n",
    "We parse them in chunks.\n",
    "\n",
    "```python\n",
    "def format_review(review):\n",
    "    return dict(map(lambda x: x.strip().split(\": \", 1), review))\n",
    "\n",
    "def as_dataframe(reviews):\n",
    "    col_names = {\n",
    "        'beer/ABV': 'abv', 'beer/beerId': 'beer_id', 'beer/brewerId': 'brewer_id',\n",
    "        'beer/name': 'beer_name', 'beer/style': 'beer_style',\n",
    "        'review/appearance': 'review_appearance', 'review/aroma': 'review_aroma',\n",
    "        'review/overall': 'review_overall', 'review/palate': 'review_palate',\n",
    "        'review/profileName': 'profile_name', 'review/taste': 'review_taste',\n",
    "        'review/text': 'text', 'review/time': 'time'\n",
    "    }\n",
    "    df = pd.DataFrame(list(reviews))\n",
    "    numeric = ['abv', 'review_appearance', 'review_aroma',\n",
    "               'review_overall', 'review_palate', 'review_taste']\n",
    "    df = (df.rename(columns=col_names)\n",
    "            .replace('', np.nan))\n",
    "    df[numeric] = df[numeric].astype(float)\n",
    "    df['time'] = pd.to_datetime(df.time.astype(int), unit='s')\n",
    "    return df\n",
    "\n",
    "def main():\n",
    "    with open('beeradvocate.txt') as f:\n",
    "        reviews = filter(lambda x: x != ('\\n',),\n",
    "                         partitionby(lambda x: x == '\\n', f))\n",
    "        reviews = map(format_review, reviews)\n",
    "        reviews = partition(100000, reviews, pad=None)\n",
    "        reviews = filter(None, reviews)\n",
    "        os.makedirs('beer_reviews', exist_ok=True)\n",
    "\n",
    "        for i, subset in enumerate(reviews):\n",
    "            print(i, end='\\r')\n",
    "            df = as_dataframe(subset)\n",
    "            df.to_csv('beer_reviews/review_%s.csv' % i, index=False)\n",
    "```\n",
    "\n"
   ]
  },
  {
   "cell_type": "markdown",
   "metadata": {},
   "source": [
    "To select the subset we'll work with, about a 10th of the reviews, I used [`dask`](http://dask.readthedocs.org).\n",
    "\n",
    "```python\n",
    "\n",
    "In [1]: import dask.dataframe as dd\n",
    "\n",
    "In [2]: df = dd.read_csv('beer_reviews/*.csv', parse_dates=['time'])\n",
    "\n",
    "In [3]: cutoffs = df.time.quantiles([50, 60])\n",
    "\n",
    "In [4]: %time cutoffs = cutoffs.compute()\n",
    "CPU times: user 20.7 s, sys: 8.37 s, total: 29.1 s\n",
    "Wall time: 28.2 s\n",
    "\n",
    "In [5]: %time subset = df[(df.time >= cutoffs[0]) & (df.time <= cutoffs[1])].compute()\n",
    "CPU times: user 20.9 s, sys: 7.68 s, total: 28.6 s\n",
    "Wall time: 27.5 s\n",
    "\n",
    "In [6]: subset.head(100000).to_csv('../notebooks/data/beer_subset.csv', index=False)\n",
    "```\n",
    "\n",
    "All of those files wouldn't fit in memory at once. But we can compute quantiles in chunks and aggregate those together. Just wirting `cutoff = df.time.quantile([10])` doesn't actually do the computation, instead it build of dask graph of what it needs to do when asked for the result.\n",
    "\n",
    "Here's the graph for the percentile to calculate `cutoff`\n",
    "\n",
    "![percentile](../data/cutoffs.png)\n",
    "\n",
    "And the graph for `subset`\n",
    "\n",
    "![subset](../data/subset.png)\n",
    "\n",
    "`subset` fits comfortably in memory, so we can sort it and write it out to csv. That's what we'll work with for this notebook."
   ]
  },
  {
   "cell_type": "code",
   "execution_count": 138,
   "metadata": {
    "collapsed": false
   },
   "outputs": [],
   "source": [
    "df = pd.read_csv('data/beer_subset.csv.gz', parse_dates=['time'], compression='gzip')"
   ]
  },
  {
   "cell_type": "markdown",
   "metadata": {},
   "source": [
    "# A bit of EDA"
   ]
  },
  {
   "cell_type": "code",
   "execution_count": 139,
   "metadata": {
    "collapsed": false
   },
   "outputs": [],
   "source": [
    "review_cols = ['review_appearance', 'review_aroma', 'review_overall',\n",
    "               'review_palate', 'review_taste']"
   ]
  },
  {
   "cell_type": "code",
   "execution_count": 140,
   "metadata": {
    "collapsed": false
   },
   "outputs": [
    {
     "data": {
      "text/html": [
       "<div>\n",
       "<table border=\"1\" class=\"dataframe\">\n",
       "  <thead>\n",
       "    <tr style=\"text-align: right;\">\n",
       "      <th></th>\n",
       "      <th>abv</th>\n",
       "      <th>beer_id</th>\n",
       "      <th>brewer_id</th>\n",
       "      <th>beer_name</th>\n",
       "      <th>beer_style</th>\n",
       "      <th>review_appearance</th>\n",
       "      <th>review_aroma</th>\n",
       "      <th>review_overall</th>\n",
       "      <th>review_palate</th>\n",
       "      <th>profile_name</th>\n",
       "      <th>review_taste</th>\n",
       "      <th>text</th>\n",
       "      <th>time</th>\n",
       "    </tr>\n",
       "  </thead>\n",
       "  <tbody>\n",
       "    <tr>\n",
       "      <th>0</th>\n",
       "      <td>7.0</td>\n",
       "      <td>2511</td>\n",
       "      <td>287</td>\n",
       "      <td>Bell's Cherry Stout</td>\n",
       "      <td>American Stout</td>\n",
       "      <td>4.5</td>\n",
       "      <td>4</td>\n",
       "      <td>4.5</td>\n",
       "      <td>4.0</td>\n",
       "      <td>blaheath</td>\n",
       "      <td>4.5</td>\n",
       "      <td>Batch 8144\\tPitch black in color with a 1/2 f...</td>\n",
       "      <td>2009-10-05 21:31:48</td>\n",
       "    </tr>\n",
       "    <tr>\n",
       "      <th>1</th>\n",
       "      <td>5.7</td>\n",
       "      <td>19736</td>\n",
       "      <td>9790</td>\n",
       "      <td>Duck-Rabbit Porter</td>\n",
       "      <td>American Porter</td>\n",
       "      <td>4.5</td>\n",
       "      <td>4</td>\n",
       "      <td>4.5</td>\n",
       "      <td>4.0</td>\n",
       "      <td>GJ40</td>\n",
       "      <td>4.0</td>\n",
       "      <td>Sampled from a 12oz bottle in a standard pint...</td>\n",
       "      <td>2009-10-05 21:32:09</td>\n",
       "    </tr>\n",
       "    <tr>\n",
       "      <th>2</th>\n",
       "      <td>4.8</td>\n",
       "      <td>11098</td>\n",
       "      <td>3182</td>\n",
       "      <td>Fürstenberg Premium Pilsener</td>\n",
       "      <td>German Pilsener</td>\n",
       "      <td>4.0</td>\n",
       "      <td>3</td>\n",
       "      <td>3.0</td>\n",
       "      <td>3.0</td>\n",
       "      <td>biegaman</td>\n",
       "      <td>3.5</td>\n",
       "      <td>Haystack yellow with an energetic group of bu...</td>\n",
       "      <td>2009-10-05 21:32:13</td>\n",
       "    </tr>\n",
       "    <tr>\n",
       "      <th>3</th>\n",
       "      <td>9.5</td>\n",
       "      <td>28577</td>\n",
       "      <td>3818</td>\n",
       "      <td>Unearthly (Imperial India Pale Ale)</td>\n",
       "      <td>American Double / Imperial IPA</td>\n",
       "      <td>4.0</td>\n",
       "      <td>4</td>\n",
       "      <td>4.0</td>\n",
       "      <td>4.0</td>\n",
       "      <td>nick76</td>\n",
       "      <td>4.0</td>\n",
       "      <td>The aroma has pine, wood, citrus, caramel, an...</td>\n",
       "      <td>2009-10-05 21:32:37</td>\n",
       "    </tr>\n",
       "    <tr>\n",
       "      <th>4</th>\n",
       "      <td>5.8</td>\n",
       "      <td>398</td>\n",
       "      <td>119</td>\n",
       "      <td>Wolaver's Pale Ale</td>\n",
       "      <td>American Pale Ale (APA)</td>\n",
       "      <td>4.0</td>\n",
       "      <td>3</td>\n",
       "      <td>4.0</td>\n",
       "      <td>3.5</td>\n",
       "      <td>champ103</td>\n",
       "      <td>3.0</td>\n",
       "      <td>A: Pours a slightly hazy golden/orange color....</td>\n",
       "      <td>2009-10-05 21:33:14</td>\n",
       "    </tr>\n",
       "  </tbody>\n",
       "</table>\n",
       "</div>"
      ],
      "text/plain": [
       "   abv  beer_id  brewer_id                            beer_name  \\\n",
       "0  7.0     2511        287                  Bell's Cherry Stout   \n",
       "1  5.7    19736       9790                   Duck-Rabbit Porter   \n",
       "2  4.8    11098       3182         Fürstenberg Premium Pilsener   \n",
       "3  9.5    28577       3818  Unearthly (Imperial India Pale Ale)   \n",
       "4  5.8      398        119                   Wolaver's Pale Ale   \n",
       "\n",
       "                       beer_style  review_appearance  review_aroma  \\\n",
       "0                  American Stout                4.5             4   \n",
       "1                 American Porter                4.5             4   \n",
       "2                 German Pilsener                4.0             3   \n",
       "3  American Double / Imperial IPA                4.0             4   \n",
       "4         American Pale Ale (APA)                4.0             3   \n",
       "\n",
       "   review_overall  review_palate profile_name  review_taste  \\\n",
       "0             4.5            4.0     blaheath           4.5   \n",
       "1             4.5            4.0         GJ40           4.0   \n",
       "2             3.0            3.0     biegaman           3.5   \n",
       "3             4.0            4.0       nick76           4.0   \n",
       "4             4.0            3.5     champ103           3.0   \n",
       "\n",
       "                                                text                time  \n",
       "0   Batch 8144\\tPitch black in color with a 1/2 f... 2009-10-05 21:31:48  \n",
       "1   Sampled from a 12oz bottle in a standard pint... 2009-10-05 21:32:09  \n",
       "2   Haystack yellow with an energetic group of bu... 2009-10-05 21:32:13  \n",
       "3   The aroma has pine, wood, citrus, caramel, an... 2009-10-05 21:32:37  \n",
       "4   A: Pours a slightly hazy golden/orange color.... 2009-10-05 21:33:14  "
      ]
     },
     "execution_count": 140,
     "metadata": {},
     "output_type": "execute_result"
    }
   ],
   "source": [
    "df.head()"
   ]
  },
  {
   "cell_type": "code",
   "execution_count": 141,
   "metadata": {
    "collapsed": false
   },
   "outputs": [
    {
     "name": "stdout",
     "output_type": "stream",
     "text": [
      "<class 'pandas.core.frame.DataFrame'>\n",
      "Int64Index: 100000 entries, 0 to 99999\n",
      "Data columns (total 13 columns):\n",
      "abv                  96949 non-null float64\n",
      "beer_id              100000 non-null int64\n",
      "brewer_id            100000 non-null int64\n",
      "beer_name            100000 non-null object\n",
      "beer_style           100000 non-null object\n",
      "review_appearance    100000 non-null float64\n",
      "review_aroma         100000 non-null float64\n",
      "review_overall       100000 non-null float64\n",
      "review_palate        100000 non-null float64\n",
      "profile_name         100000 non-null object\n",
      "review_taste         100000 non-null float64\n",
      "text                 99972 non-null object\n",
      "time                 100000 non-null datetime64[ns]\n",
      "dtypes: datetime64[ns](1), float64(6), int64(2), object(4)\n",
      "memory usage: 10.7+ MB\n"
     ]
    }
   ],
   "source": [
    "df.info()"
   ]
  },
  {
   "cell_type": "code",
   "execution_count": 142,
   "metadata": {
    "collapsed": false
   },
   "outputs": [
    {
     "data": {
      "text/plain": [
       "<matplotlib.axes._subplots.AxesSubplot at 0x118585b70>"
      ]
     },
     "execution_count": 142,
     "metadata": {},
     "output_type": "execute_result"
    },
    {
     "data": {
      "image/png": "[encoded data removed]",
      "text/plain": [
       "<matplotlib.figure.Figure at 0x118585358>"
      ]
     },
     "metadata": {},
     "output_type": "display_data"
    }
   ],
   "source": [
    "df.time.value_counts().resample('d', how='sum').plot()"
   ]
  },
  {
   "cell_type": "code",
   "execution_count": 143,
   "metadata": {
    "collapsed": false
   },
   "outputs": [
    {
     "data": {
      "image/png": "[encoded data removed]",
      "text/plain": [
       "<matplotlib.figure.Figure at 0x111bca710>"
      ]
     },
     "metadata": {},
     "output_type": "display_data"
    }
   ],
   "source": [
    "axes = df[review_cols].plot(kind='hist', subplots=True, layout=(2, 3))\n",
    "[ax.set_ylabel('') for ax in axes.ravel()];"
   ]
  },
  {
   "cell_type": "code",
   "execution_count": 396,
   "metadata": {
    "collapsed": false
   },
   "outputs": [
    {
     "data": {
      "text/plain": [
       "<matplotlib.axes._subplots.AxesSubplot at 0x128b63208>"
      ]
     },
     "execution_count": 396,
     "metadata": {},
     "output_type": "execute_result"
    },
    {
     "data": {
      "image/png": "[encoded data removed]",
      "text/plain": [
       "<matplotlib.figure.Figure at 0x1250730b8>"
      ]
     },
     "metadata": {},
     "output_type": "display_data"
    }
   ],
   "source": [
    "df.beer_id.value_counts().plot(kind='hist', bins=15, color='k', log=True)"
   ]
  },
  {
   "cell_type": "code",
   "execution_count": 402,
   "metadata": {
    "collapsed": false
   },
   "outputs": [
    {
     "data": {
      "text/plain": [
       "<matplotlib.text.Text at 0x114cbce10>"
      ]
     },
     "execution_count": 402,
     "metadata": {},
     "output_type": "execute_result"
    },
    {
     "data": {
      "image/png": "[encoded data removed]",
      "text/plain": [
       "<matplotlib.figure.Figure at 0x13105b588>"
      ]
     },
     "metadata": {},
     "output_type": "display_data"
    }
   ],
   "source": [
    "df.brewer_id.value_counts().plot(kind='hist', bins=20, color='k', log=True)\n",
    "ax.set_title(\"Log number of reviews\")"
   ]
  },
  {
   "cell_type": "code",
   "execution_count": 404,
   "metadata": {
    "collapsed": false
   },
   "outputs": [
    {
     "data": {
      "text/plain": [
       "<matplotlib.axes._subplots.AxesSubplot at 0x11b8f81d0>"
      ]
     },
     "execution_count": 404,
     "metadata": {},
     "output_type": "execute_result"
    },
    {
     "data": {
      "image/png": "[encoded data removed]",
      "text/plain": [
       "<matplotlib.figure.Figure at 0x131a288d0>"
      ]
     },
     "metadata": {},
     "output_type": "display_data"
    }
   ],
   "source": [
    "df.profile_name.value_counts().plot(kind='hist', bins=15, color='k', log=True)"
   ]
  },
  {
   "cell_type": "code",
   "execution_count": 147,
   "metadata": {
    "collapsed": false
   },
   "outputs": [
    {
     "data": {
      "text/plain": [
       "<matplotlib.axes._subplots.AxesSubplot at 0x117b13898>"
      ]
     },
     "execution_count": 147,
     "metadata": {},
     "output_type": "execute_result"
    },
    {
     "data": {
      "image/png": "[encoded data removed]",
      "text/plain": [
       "<matplotlib.figure.Figure at 0x1162f54a8>"
      ]
     },
     "metadata": {},
     "output_type": "display_data"
    }
   ],
   "source": [
    "df.review_overall.value_counts().sort_index().plot(kind='bar', width=1, color='k', rot=0)"
   ]
  },
  {
   "cell_type": "code",
   "execution_count": 148,
   "metadata": {
    "collapsed": false
   },
   "outputs": [
    {
     "data": {
      "text/plain": [
       "<matplotlib.axes._subplots.AxesSubplot at 0x1162ff0f0>"
      ]
     },
     "execution_count": 148,
     "metadata": {},
     "output_type": "execute_result"
    },
    {
     "data": {
      "image/png": "[encoded data removed]",
      "text/plain": [
       "<matplotlib.figure.Figure at 0x114cf44e0>"
      ]
     },
     "metadata": {},
     "output_type": "display_data"
    }
   ],
   "source": [
    "fig, ax = plt.subplots(figsize=(5, 10))\n",
    "sns.countplot(hue='level_1', y=0, data=df[review_cols].stack().reset_index(level=1), ax=ax,\n",
    "              order=np.arange(0, 5.5, .5))"
   ]
  },
  {
   "cell_type": "markdown",
   "metadata": {},
   "source": [
    "# Groupby"
   ]
  },
  {
   "cell_type": "code",
   "execution_count": 51,
   "metadata": {
    "collapsed": true
   },
   "outputs": [],
   "source": [
    "df.groupby?"
   ]
  },
  {
   "cell_type": "markdown",
   "metadata": {},
   "source": [
    "```python\n",
    "df.groupby( grouper )\n",
    "```\n",
    "\n",
    "`grouper` can be many things\n",
    "\n",
    "- Series (or string indicating a column in `df`)\n",
    "- function (to be applied on the index)\n",
    "- dict : *values*\n",
    "- `levels=[]`, names of levels in a MultiIndex"
   ]
  },
  {
   "cell_type": "code",
   "execution_count": 149,
   "metadata": {
    "collapsed": false
   },
   "outputs": [
    {
     "data": {
      "text/plain": [
       "<pandas.core.groupby.DataFrameGroupBy object at 0x117ad57b8>"
      ]
     },
     "execution_count": 149,
     "metadata": {},
     "output_type": "execute_result"
    }
   ],
   "source": [
    "gr = df.groupby('beer_style')\n",
    "gr"
   ]
  },
  {
   "cell_type": "markdown",
   "metadata": {},
   "source": [
    "Haven't really done anything yet. Just some book-keeping.\n",
    "\n",
    "We can select a column (`review_aroma`) and apply a function (`mean`)."
   ]
  },
  {
   "cell_type": "code",
   "execution_count": 150,
   "metadata": {
    "collapsed": false
   },
   "outputs": [
    {
     "data": {
      "text/plain": [
       "beer_style\n",
       "Altbier                       3.599693\n",
       "American Adjunct Lager        2.501012\n",
       "American Amber / Red Ale      3.675518\n",
       "American Amber / Red Lager    3.243689\n",
       "American Barleywine           4.000556\n",
       "                                ...   \n",
       "Vienna Lager                  3.459963\n",
       "Weizenbock                    4.041441\n",
       "Wheatwine                     4.056769\n",
       "Winter Warmer                 3.716659\n",
       "Witbier                       3.631773\n",
       "Name: review_aroma, dtype: float64"
      ]
     },
     "execution_count": 150,
     "metadata": {},
     "output_type": "execute_result"
    }
   ],
   "source": [
    "gr['review_aroma'].mean()"
   ]
  },
  {
   "cell_type": "markdown",
   "metadata": {},
   "source": [
    "Multiple Aggregations on one column"
   ]
  },
  {
   "cell_type": "code",
   "execution_count": 151,
   "metadata": {
    "collapsed": false
   },
   "outputs": [
    {
     "data": {
      "text/html": [
       "<div>\n",
       "<table border=\"1\" class=\"dataframe\">\n",
       "  <thead>\n",
       "    <tr style=\"text-align: right;\">\n",
       "      <th></th>\n",
       "      <th>mean</th>\n",
       "      <th>std</th>\n",
       "      <th>count</th>\n",
       "    </tr>\n",
       "    <tr>\n",
       "      <th>beer_style</th>\n",
       "      <th></th>\n",
       "      <th></th>\n",
       "      <th></th>\n",
       "    </tr>\n",
       "  </thead>\n",
       "  <tbody>\n",
       "    <tr>\n",
       "      <th>Altbier</th>\n",
       "      <td>3.599693</td>\n",
       "      <td>0.568426</td>\n",
       "      <td>326</td>\n",
       "    </tr>\n",
       "    <tr>\n",
       "      <th>American Adjunct Lager</th>\n",
       "      <td>2.501012</td>\n",
       "      <td>0.720936</td>\n",
       "      <td>1482</td>\n",
       "    </tr>\n",
       "    <tr>\n",
       "      <th>American Amber / Red Ale</th>\n",
       "      <td>3.675518</td>\n",
       "      <td>0.626926</td>\n",
       "      <td>2749</td>\n",
       "    </tr>\n",
       "    <tr>\n",
       "      <th>American Amber / Red Lager</th>\n",
       "      <td>3.243689</td>\n",
       "      <td>0.613034</td>\n",
       "      <td>515</td>\n",
       "    </tr>\n",
       "    <tr>\n",
       "      <th>American Barleywine</th>\n",
       "      <td>4.000556</td>\n",
       "      <td>0.514814</td>\n",
       "      <td>1797</td>\n",
       "    </tr>\n",
       "  </tbody>\n",
       "</table>\n",
       "</div>"
      ],
      "text/plain": [
       "                                mean       std  count\n",
       "beer_style                                           \n",
       "Altbier                     3.599693  0.568426    326\n",
       "American Adjunct Lager      2.501012  0.720936   1482\n",
       "American Amber / Red Ale    3.675518  0.626926   2749\n",
       "American Amber / Red Lager  3.243689  0.613034    515\n",
       "American Barleywine         4.000556  0.514814   1797"
      ]
     },
     "execution_count": 151,
     "metadata": {},
     "output_type": "execute_result"
    }
   ],
   "source": [
    "gr['review_aroma'].agg(['mean', 'std', 'count']).head()"
   ]
  },
  {
   "cell_type": "code",
   "execution_count": 152,
   "metadata": {
    "collapsed": false
   },
   "outputs": [
    {
     "data": {
      "text/html": [
       "<div>\n",
       "<table border=\"1\" class=\"dataframe\">\n",
       "  <thead>\n",
       "    <tr style=\"text-align: right;\">\n",
       "      <th></th>\n",
       "      <th>mean</th>\n",
       "      <th>std</th>\n",
       "      <th>count</th>\n",
       "    </tr>\n",
       "    <tr>\n",
       "      <th>beer_style</th>\n",
       "      <th></th>\n",
       "      <th></th>\n",
       "      <th></th>\n",
       "    </tr>\n",
       "  </thead>\n",
       "  <tbody>\n",
       "    <tr>\n",
       "      <th>Altbier</th>\n",
       "      <td>3.599693</td>\n",
       "      <td>0.568426</td>\n",
       "      <td>326</td>\n",
       "    </tr>\n",
       "    <tr>\n",
       "      <th>American Adjunct Lager</th>\n",
       "      <td>2.501012</td>\n",
       "      <td>0.720936</td>\n",
       "      <td>1482</td>\n",
       "    </tr>\n",
       "    <tr>\n",
       "      <th>American Amber / Red Ale</th>\n",
       "      <td>3.675518</td>\n",
       "      <td>0.626926</td>\n",
       "      <td>2749</td>\n",
       "    </tr>\n",
       "    <tr>\n",
       "      <th>American Amber / Red Lager</th>\n",
       "      <td>3.243689</td>\n",
       "      <td>0.613034</td>\n",
       "      <td>515</td>\n",
       "    </tr>\n",
       "    <tr>\n",
       "      <th>American Barleywine</th>\n",
       "      <td>4.000556</td>\n",
       "      <td>0.514814</td>\n",
       "      <td>1797</td>\n",
       "    </tr>\n",
       "  </tbody>\n",
       "</table>\n",
       "</div>"
      ],
      "text/plain": [
       "                                mean       std  count\n",
       "beer_style                                           \n",
       "Altbier                     3.599693  0.568426    326\n",
       "American Adjunct Lager      2.501012  0.720936   1482\n",
       "American Amber / Red Ale    3.675518  0.626926   2749\n",
       "American Amber / Red Lager  3.243689  0.613034    515\n",
       "American Barleywine         4.000556  0.514814   1797"
      ]
     },
     "execution_count": 152,
     "metadata": {},
     "output_type": "execute_result"
    }
   ],
   "source": [
    "gr['review_aroma'].agg([np.mean, np.std, 'count']).head()"
   ]
  },
  {
   "cell_type": "markdown",
   "metadata": {},
   "source": [
    "Single Aggregation on multiple columns"
   ]
  },
  {
   "cell_type": "code",
   "execution_count": 153,
   "metadata": {
    "collapsed": false
   },
   "outputs": [
    {
     "data": {
      "text/html": [
       "<div>\n",
       "<table border=\"1\" class=\"dataframe\">\n",
       "  <thead>\n",
       "    <tr style=\"text-align: right;\">\n",
       "      <th></th>\n",
       "      <th>review_appearance</th>\n",
       "      <th>review_aroma</th>\n",
       "      <th>review_overall</th>\n",
       "      <th>review_palate</th>\n",
       "      <th>review_taste</th>\n",
       "    </tr>\n",
       "    <tr>\n",
       "      <th>beer_style</th>\n",
       "      <th></th>\n",
       "      <th></th>\n",
       "      <th></th>\n",
       "      <th></th>\n",
       "      <th></th>\n",
       "    </tr>\n",
       "  </thead>\n",
       "  <tbody>\n",
       "    <tr>\n",
       "      <th>Altbier</th>\n",
       "      <td>3.819018</td>\n",
       "      <td>3.599693</td>\n",
       "      <td>3.774540</td>\n",
       "      <td>3.684049</td>\n",
       "      <td>3.696319</td>\n",
       "    </tr>\n",
       "    <tr>\n",
       "      <th>American Adjunct Lager</th>\n",
       "      <td>2.802632</td>\n",
       "      <td>2.501012</td>\n",
       "      <td>3.088731</td>\n",
       "      <td>2.743252</td>\n",
       "      <td>2.705128</td>\n",
       "    </tr>\n",
       "    <tr>\n",
       "      <th>American Amber / Red Ale</th>\n",
       "      <td>3.853947</td>\n",
       "      <td>3.675518</td>\n",
       "      <td>3.864496</td>\n",
       "      <td>3.712805</td>\n",
       "      <td>3.759913</td>\n",
       "    </tr>\n",
       "    <tr>\n",
       "      <th>American Amber / Red Lager</th>\n",
       "      <td>3.566019</td>\n",
       "      <td>3.243689</td>\n",
       "      <td>3.600971</td>\n",
       "      <td>3.358252</td>\n",
       "      <td>3.408738</td>\n",
       "    </tr>\n",
       "    <tr>\n",
       "      <th>American Barleywine</th>\n",
       "      <td>4.001948</td>\n",
       "      <td>4.000556</td>\n",
       "      <td>3.893434</td>\n",
       "      <td>3.971619</td>\n",
       "      <td>4.040345</td>\n",
       "    </tr>\n",
       "    <tr>\n",
       "      <th>...</th>\n",
       "      <td>...</td>\n",
       "      <td>...</td>\n",
       "      <td>...</td>\n",
       "      <td>...</td>\n",
       "      <td>...</td>\n",
       "    </tr>\n",
       "    <tr>\n",
       "      <th>Vienna Lager</th>\n",
       "      <td>3.766294</td>\n",
       "      <td>3.459963</td>\n",
       "      <td>3.837989</td>\n",
       "      <td>3.620112</td>\n",
       "      <td>3.634078</td>\n",
       "    </tr>\n",
       "    <tr>\n",
       "      <th>Weizenbock</th>\n",
       "      <td>4.027928</td>\n",
       "      <td>4.041441</td>\n",
       "      <td>4.084685</td>\n",
       "      <td>4.068468</td>\n",
       "      <td>4.111712</td>\n",
       "    </tr>\n",
       "    <tr>\n",
       "      <th>Wheatwine</th>\n",
       "      <td>3.945415</td>\n",
       "      <td>4.056769</td>\n",
       "      <td>3.813319</td>\n",
       "      <td>4.004367</td>\n",
       "      <td>4.066594</td>\n",
       "    </tr>\n",
       "    <tr>\n",
       "      <th>Winter Warmer</th>\n",
       "      <td>3.849075</td>\n",
       "      <td>3.716659</td>\n",
       "      <td>3.759848</td>\n",
       "      <td>3.694115</td>\n",
       "      <td>3.734457</td>\n",
       "    </tr>\n",
       "    <tr>\n",
       "      <th>Witbier</th>\n",
       "      <td>3.647826</td>\n",
       "      <td>3.631773</td>\n",
       "      <td>3.755853</td>\n",
       "      <td>3.598328</td>\n",
       "      <td>3.631438</td>\n",
       "    </tr>\n",
       "  </tbody>\n",
       "</table>\n",
       "<p>104 rows × 5 columns</p>\n",
       "</div>"
      ],
      "text/plain": [
       "                            review_appearance  review_aroma  review_overall  \\\n",
       "beer_style                                                                    \n",
       "Altbier                              3.819018      3.599693        3.774540   \n",
       "American Adjunct Lager               2.802632      2.501012        3.088731   \n",
       "American Amber / Red Ale             3.853947      3.675518        3.864496   \n",
       "American Amber / Red Lager           3.566019      3.243689        3.600971   \n",
       "American Barleywine                  4.001948      4.000556        3.893434   \n",
       "...                                       ...           ...             ...   \n",
       "Vienna Lager                         3.766294      3.459963        3.837989   \n",
       "Weizenbock                           4.027928      4.041441        4.084685   \n",
       "Wheatwine                            3.945415      4.056769        3.813319   \n",
       "Winter Warmer                        3.849075      3.716659        3.759848   \n",
       "Witbier                              3.647826      3.631773        3.755853   \n",
       "\n",
       "                            review_palate  review_taste  \n",
       "beer_style                                               \n",
       "Altbier                          3.684049      3.696319  \n",
       "American Adjunct Lager           2.743252      2.705128  \n",
       "American Amber / Red Ale         3.712805      3.759913  \n",
       "American Amber / Red Lager       3.358252      3.408738  \n",
       "American Barleywine              3.971619      4.040345  \n",
       "...                                   ...           ...  \n",
       "Vienna Lager                     3.620112      3.634078  \n",
       "Weizenbock                       4.068468      4.111712  \n",
       "Wheatwine                        4.004367      4.066594  \n",
       "Winter Warmer                    3.694115      3.734457  \n",
       "Witbier                          3.598328      3.631438  \n",
       "\n",
       "[104 rows x 5 columns]"
      ]
     },
     "execution_count": 153,
     "metadata": {},
     "output_type": "execute_result"
    }
   ],
   "source": [
    "gr[review_cols].mean()"
   ]
  },
  {
   "cell_type": "markdown",
   "metadata": {
    "collapsed": true
   },
   "source": [
    "Multiple aggregations on multiple columns"
   ]
  },
  {
   "cell_type": "code",
   "execution_count": 154,
   "metadata": {
    "collapsed": false
   },
   "outputs": [
    {
     "data": {
      "text/html": [
       "<div>\n",
       "<table border=\"1\" class=\"dataframe\">\n",
       "  <thead>\n",
       "    <tr>\n",
       "      <th></th>\n",
       "      <th colspan=\"3\" halign=\"left\">review_appearance</th>\n",
       "      <th colspan=\"3\" halign=\"left\">review_aroma</th>\n",
       "      <th colspan=\"3\" halign=\"left\">review_overall</th>\n",
       "      <th colspan=\"3\" halign=\"left\">review_palate</th>\n",
       "      <th colspan=\"3\" halign=\"left\">review_taste</th>\n",
       "    </tr>\n",
       "    <tr>\n",
       "      <th></th>\n",
       "      <th>mean</th>\n",
       "      <th>count</th>\n",
       "      <th>std</th>\n",
       "      <th>mean</th>\n",
       "      <th>count</th>\n",
       "      <th>std</th>\n",
       "      <th>mean</th>\n",
       "      <th>count</th>\n",
       "      <th>std</th>\n",
       "      <th>mean</th>\n",
       "      <th>count</th>\n",
       "      <th>std</th>\n",
       "      <th>mean</th>\n",
       "      <th>count</th>\n",
       "      <th>std</th>\n",
       "    </tr>\n",
       "    <tr>\n",
       "      <th>beer_style</th>\n",
       "      <th></th>\n",
       "      <th></th>\n",
       "      <th></th>\n",
       "      <th></th>\n",
       "      <th></th>\n",
       "      <th></th>\n",
       "      <th></th>\n",
       "      <th></th>\n",
       "      <th></th>\n",
       "      <th></th>\n",
       "      <th></th>\n",
       "      <th></th>\n",
       "      <th></th>\n",
       "      <th></th>\n",
       "      <th></th>\n",
       "    </tr>\n",
       "  </thead>\n",
       "  <tbody>\n",
       "    <tr>\n",
       "      <th>Altbier</th>\n",
       "      <td>3.819018</td>\n",
       "      <td>326</td>\n",
       "      <td>0.559731</td>\n",
       "      <td>3.599693</td>\n",
       "      <td>326</td>\n",
       "      <td>0.568426</td>\n",
       "      <td>3.774540</td>\n",
       "      <td>326</td>\n",
       "      <td>0.676367</td>\n",
       "      <td>3.684049</td>\n",
       "      <td>326</td>\n",
       "      <td>0.601171</td>\n",
       "      <td>3.696319</td>\n",
       "      <td>326</td>\n",
       "      <td>0.624957</td>\n",
       "    </tr>\n",
       "    <tr>\n",
       "      <th>American Adjunct Lager</th>\n",
       "      <td>2.802632</td>\n",
       "      <td>1482</td>\n",
       "      <td>0.750881</td>\n",
       "      <td>2.501012</td>\n",
       "      <td>1482</td>\n",
       "      <td>0.720936</td>\n",
       "      <td>3.088731</td>\n",
       "      <td>1482</td>\n",
       "      <td>0.961824</td>\n",
       "      <td>2.743252</td>\n",
       "      <td>1482</td>\n",
       "      <td>0.777189</td>\n",
       "      <td>2.705128</td>\n",
       "      <td>1482</td>\n",
       "      <td>0.813102</td>\n",
       "    </tr>\n",
       "    <tr>\n",
       "      <th>American Amber / Red Ale</th>\n",
       "      <td>3.853947</td>\n",
       "      <td>2749</td>\n",
       "      <td>0.532465</td>\n",
       "      <td>3.675518</td>\n",
       "      <td>2749</td>\n",
       "      <td>0.626926</td>\n",
       "      <td>3.864496</td>\n",
       "      <td>2749</td>\n",
       "      <td>0.649929</td>\n",
       "      <td>3.712805</td>\n",
       "      <td>2749</td>\n",
       "      <td>0.592133</td>\n",
       "      <td>3.759913</td>\n",
       "      <td>2749</td>\n",
       "      <td>0.651262</td>\n",
       "    </tr>\n",
       "    <tr>\n",
       "      <th>American Amber / Red Lager</th>\n",
       "      <td>3.566019</td>\n",
       "      <td>515</td>\n",
       "      <td>0.601159</td>\n",
       "      <td>3.243689</td>\n",
       "      <td>515</td>\n",
       "      <td>0.613034</td>\n",
       "      <td>3.600971</td>\n",
       "      <td>515</td>\n",
       "      <td>0.768101</td>\n",
       "      <td>3.358252</td>\n",
       "      <td>515</td>\n",
       "      <td>0.624799</td>\n",
       "      <td>3.408738</td>\n",
       "      <td>515</td>\n",
       "      <td>0.699792</td>\n",
       "    </tr>\n",
       "    <tr>\n",
       "      <th>American Barleywine</th>\n",
       "      <td>4.001948</td>\n",
       "      <td>1797</td>\n",
       "      <td>0.495381</td>\n",
       "      <td>4.000556</td>\n",
       "      <td>1797</td>\n",
       "      <td>0.514814</td>\n",
       "      <td>3.893434</td>\n",
       "      <td>1797</td>\n",
       "      <td>0.594070</td>\n",
       "      <td>3.971619</td>\n",
       "      <td>1797</td>\n",
       "      <td>0.538368</td>\n",
       "      <td>4.040345</td>\n",
       "      <td>1797</td>\n",
       "      <td>0.555808</td>\n",
       "    </tr>\n",
       "    <tr>\n",
       "      <th>...</th>\n",
       "      <td>...</td>\n",
       "      <td>...</td>\n",
       "      <td>...</td>\n",
       "      <td>...</td>\n",
       "      <td>...</td>\n",
       "      <td>...</td>\n",
       "      <td>...</td>\n",
       "      <td>...</td>\n",
       "      <td>...</td>\n",
       "      <td>...</td>\n",
       "      <td>...</td>\n",
       "      <td>...</td>\n",
       "      <td>...</td>\n",
       "      <td>...</td>\n",
       "      <td>...</td>\n",
       "    </tr>\n",
       "    <tr>\n",
       "      <th>Vienna Lager</th>\n",
       "      <td>3.766294</td>\n",
       "      <td>537</td>\n",
       "      <td>0.584182</td>\n",
       "      <td>3.459963</td>\n",
       "      <td>537</td>\n",
       "      <td>0.620528</td>\n",
       "      <td>3.837989</td>\n",
       "      <td>537</td>\n",
       "      <td>0.702348</td>\n",
       "      <td>3.620112</td>\n",
       "      <td>537</td>\n",
       "      <td>0.619194</td>\n",
       "      <td>3.634078</td>\n",
       "      <td>537</td>\n",
       "      <td>0.667539</td>\n",
       "    </tr>\n",
       "    <tr>\n",
       "      <th>Weizenbock</th>\n",
       "      <td>4.027928</td>\n",
       "      <td>555</td>\n",
       "      <td>0.510392</td>\n",
       "      <td>4.041441</td>\n",
       "      <td>555</td>\n",
       "      <td>0.481699</td>\n",
       "      <td>4.084685</td>\n",
       "      <td>555</td>\n",
       "      <td>0.586429</td>\n",
       "      <td>4.068468</td>\n",
       "      <td>555</td>\n",
       "      <td>0.511419</td>\n",
       "      <td>4.111712</td>\n",
       "      <td>555</td>\n",
       "      <td>0.518735</td>\n",
       "    </tr>\n",
       "    <tr>\n",
       "      <th>Wheatwine</th>\n",
       "      <td>3.945415</td>\n",
       "      <td>458</td>\n",
       "      <td>0.493138</td>\n",
       "      <td>4.056769</td>\n",
       "      <td>458</td>\n",
       "      <td>0.548569</td>\n",
       "      <td>3.813319</td>\n",
       "      <td>458</td>\n",
       "      <td>0.650347</td>\n",
       "      <td>4.004367</td>\n",
       "      <td>458</td>\n",
       "      <td>0.600859</td>\n",
       "      <td>4.066594</td>\n",
       "      <td>458</td>\n",
       "      <td>0.612987</td>\n",
       "    </tr>\n",
       "    <tr>\n",
       "      <th>Winter Warmer</th>\n",
       "      <td>3.849075</td>\n",
       "      <td>2107</td>\n",
       "      <td>0.493310</td>\n",
       "      <td>3.716659</td>\n",
       "      <td>2107</td>\n",
       "      <td>0.571915</td>\n",
       "      <td>3.759848</td>\n",
       "      <td>2107</td>\n",
       "      <td>0.631923</td>\n",
       "      <td>3.694115</td>\n",
       "      <td>2107</td>\n",
       "      <td>0.576365</td>\n",
       "      <td>3.734457</td>\n",
       "      <td>2107</td>\n",
       "      <td>0.627473</td>\n",
       "    </tr>\n",
       "    <tr>\n",
       "      <th>Witbier</th>\n",
       "      <td>3.647826</td>\n",
       "      <td>1495</td>\n",
       "      <td>0.591286</td>\n",
       "      <td>3.631773</td>\n",
       "      <td>1495</td>\n",
       "      <td>0.599275</td>\n",
       "      <td>3.755853</td>\n",
       "      <td>1495</td>\n",
       "      <td>0.717391</td>\n",
       "      <td>3.598328</td>\n",
       "      <td>1495</td>\n",
       "      <td>0.622560</td>\n",
       "      <td>3.631438</td>\n",
       "      <td>1495</td>\n",
       "      <td>0.674364</td>\n",
       "    </tr>\n",
       "  </tbody>\n",
       "</table>\n",
       "<p>104 rows × 15 columns</p>\n",
       "</div>"
      ],
      "text/plain": [
       "                           review_appearance                 review_aroma  \\\n",
       "                                        mean count       std         mean   \n",
       "beer_style                                                                  \n",
       "Altbier                             3.819018   326  0.559731     3.599693   \n",
       "American Adjunct Lager              2.802632  1482  0.750881     2.501012   \n",
       "American Amber / Red Ale            3.853947  2749  0.532465     3.675518   \n",
       "American Amber / Red Lager          3.566019   515  0.601159     3.243689   \n",
       "American Barleywine                 4.001948  1797  0.495381     4.000556   \n",
       "...                                      ...   ...       ...          ...   \n",
       "Vienna Lager                        3.766294   537  0.584182     3.459963   \n",
       "Weizenbock                          4.027928   555  0.510392     4.041441   \n",
       "Wheatwine                           3.945415   458  0.493138     4.056769   \n",
       "Winter Warmer                       3.849075  2107  0.493310     3.716659   \n",
       "Witbier                             3.647826  1495  0.591286     3.631773   \n",
       "\n",
       "                                           review_overall                  \\\n",
       "                           count       std           mean count       std   \n",
       "beer_style                                                                  \n",
       "Altbier                      326  0.568426       3.774540   326  0.676367   \n",
       "American Adjunct Lager      1482  0.720936       3.088731  1482  0.961824   \n",
       "American Amber / Red Ale    2749  0.626926       3.864496  2749  0.649929   \n",
       "American Amber / Red Lager   515  0.613034       3.600971   515  0.768101   \n",
       "American Barleywine         1797  0.514814       3.893434  1797  0.594070   \n",
       "...                          ...       ...            ...   ...       ...   \n",
       "Vienna Lager                 537  0.620528       3.837989   537  0.702348   \n",
       "Weizenbock                   555  0.481699       4.084685   555  0.586429   \n",
       "Wheatwine                    458  0.548569       3.813319   458  0.650347   \n",
       "Winter Warmer               2107  0.571915       3.759848  2107  0.631923   \n",
       "Witbier                     1495  0.599275       3.755853  1495  0.717391   \n",
       "\n",
       "                           review_palate                 review_taste        \\\n",
       "                                    mean count       std         mean count   \n",
       "beer_style                                                                    \n",
       "Altbier                         3.684049   326  0.601171     3.696319   326   \n",
       "American Adjunct Lager          2.743252  1482  0.777189     2.705128  1482   \n",
       "American Amber / Red Ale        3.712805  2749  0.592133     3.759913  2749   \n",
       "American Amber / Red Lager      3.358252   515  0.624799     3.408738   515   \n",
       "American Barleywine             3.971619  1797  0.538368     4.040345  1797   \n",
       "...                                  ...   ...       ...          ...   ...   \n",
       "Vienna Lager                    3.620112   537  0.619194     3.634078   537   \n",
       "Weizenbock                      4.068468   555  0.511419     4.111712   555   \n",
       "Wheatwine                       4.004367   458  0.600859     4.066594   458   \n",
       "Winter Warmer                   3.694115  2107  0.576365     3.734457  2107   \n",
       "Witbier                         3.598328  1495  0.622560     3.631438  1495   \n",
       "\n",
       "                                      \n",
       "                                 std  \n",
       "beer_style                            \n",
       "Altbier                     0.624957  \n",
       "American Adjunct Lager      0.813102  \n",
       "American Amber / Red Ale    0.651262  \n",
       "American Amber / Red Lager  0.699792  \n",
       "American Barleywine         0.555808  \n",
       "...                              ...  \n",
       "Vienna Lager                0.667539  \n",
       "Weizenbock                  0.518735  \n",
       "Wheatwine                   0.612987  \n",
       "Winter Warmer               0.627473  \n",
       "Witbier                     0.674364  \n",
       "\n",
       "[104 rows x 15 columns]"
      ]
     },
     "execution_count": 154,
     "metadata": {},
     "output_type": "execute_result"
    }
   ],
   "source": [
    "gr[review_cols].agg(['mean', 'count', 'std'])"
   ]
  },
  {
   "cell_type": "markdown",
   "metadata": {},
   "source": [
    "Hierarchical Indexes in the columns can be awkward to work with, so I'll usually\n",
    "move a level to the Index with `.stack`."
   ]
  },
  {
   "cell_type": "code",
   "execution_count": 155,
   "metadata": {
    "collapsed": false
   },
   "outputs": [
    {
     "data": {
      "text/html": [
       "<div>\n",
       "<table border=\"1\" class=\"dataframe\">\n",
       "  <thead>\n",
       "    <tr style=\"text-align: right;\">\n",
       "      <th></th>\n",
       "      <th></th>\n",
       "      <th>mean</th>\n",
       "      <th>count</th>\n",
       "      <th>std</th>\n",
       "    </tr>\n",
       "    <tr>\n",
       "      <th>beer_style</th>\n",
       "      <th></th>\n",
       "      <th></th>\n",
       "      <th></th>\n",
       "      <th></th>\n",
       "    </tr>\n",
       "  </thead>\n",
       "  <tbody>\n",
       "    <tr>\n",
       "      <th rowspan=\"5\" valign=\"top\">Altbier</th>\n",
       "      <th>review_appearance</th>\n",
       "      <td>3.819018</td>\n",
       "      <td>326</td>\n",
       "      <td>0.559731</td>\n",
       "    </tr>\n",
       "    <tr>\n",
       "      <th>review_aroma</th>\n",
       "      <td>3.599693</td>\n",
       "      <td>326</td>\n",
       "      <td>0.568426</td>\n",
       "    </tr>\n",
       "    <tr>\n",
       "      <th>review_overall</th>\n",
       "      <td>3.774540</td>\n",
       "      <td>326</td>\n",
       "      <td>0.676367</td>\n",
       "    </tr>\n",
       "    <tr>\n",
       "      <th>review_palate</th>\n",
       "      <td>3.684049</td>\n",
       "      <td>326</td>\n",
       "      <td>0.601171</td>\n",
       "    </tr>\n",
       "    <tr>\n",
       "      <th>review_taste</th>\n",
       "      <td>3.696319</td>\n",
       "      <td>326</td>\n",
       "      <td>0.624957</td>\n",
       "    </tr>\n",
       "    <tr>\n",
       "      <th>...</th>\n",
       "      <th>...</th>\n",
       "      <td>...</td>\n",
       "      <td>...</td>\n",
       "      <td>...</td>\n",
       "    </tr>\n",
       "    <tr>\n",
       "      <th rowspan=\"5\" valign=\"top\">Witbier</th>\n",
       "      <th>review_appearance</th>\n",
       "      <td>3.647826</td>\n",
       "      <td>1495</td>\n",
       "      <td>0.591286</td>\n",
       "    </tr>\n",
       "    <tr>\n",
       "      <th>review_aroma</th>\n",
       "      <td>3.631773</td>\n",
       "      <td>1495</td>\n",
       "      <td>0.599275</td>\n",
       "    </tr>\n",
       "    <tr>\n",
       "      <th>review_overall</th>\n",
       "      <td>3.755853</td>\n",
       "      <td>1495</td>\n",
       "      <td>0.717391</td>\n",
       "    </tr>\n",
       "    <tr>\n",
       "      <th>review_palate</th>\n",
       "      <td>3.598328</td>\n",
       "      <td>1495</td>\n",
       "      <td>0.622560</td>\n",
       "    </tr>\n",
       "    <tr>\n",
       "      <th>review_taste</th>\n",
       "      <td>3.631438</td>\n",
       "      <td>1495</td>\n",
       "      <td>0.674364</td>\n",
       "    </tr>\n",
       "  </tbody>\n",
       "</table>\n",
       "<p>520 rows × 3 columns</p>\n",
       "</div>"
      ],
      "text/plain": [
       "                                  mean  count       std\n",
       "beer_style                                             \n",
       "Altbier    review_appearance  3.819018    326  0.559731\n",
       "           review_aroma       3.599693    326  0.568426\n",
       "           review_overall     3.774540    326  0.676367\n",
       "           review_palate      3.684049    326  0.601171\n",
       "           review_taste       3.696319    326  0.624957\n",
       "...                                ...    ...       ...\n",
       "Witbier    review_appearance  3.647826   1495  0.591286\n",
       "           review_aroma       3.631773   1495  0.599275\n",
       "           review_overall     3.755853   1495  0.717391\n",
       "           review_palate      3.598328   1495  0.622560\n",
       "           review_taste       3.631438   1495  0.674364\n",
       "\n",
       "[520 rows x 3 columns]"
      ]
     },
     "execution_count": 155,
     "metadata": {},
     "output_type": "execute_result"
    }
   ],
   "source": [
    "gr[review_cols].agg(['mean', 'count', 'std']).stack(level=0)"
   ]
  },
  {
   "cell_type": "markdown",
   "metadata": {},
   "source": [
    "You can group by **levels** of a MultiIndex."
   ]
  },
  {
   "cell_type": "code",
   "execution_count": 156,
   "metadata": {
    "collapsed": false
   },
   "outputs": [
    {
     "data": {
      "text/html": [
       "<div>\n",
       "<table border=\"1\" class=\"dataframe\">\n",
       "  <thead>\n",
       "    <tr style=\"text-align: right;\">\n",
       "      <th></th>\n",
       "      <th></th>\n",
       "      <th>mean</th>\n",
       "      <th>count</th>\n",
       "      <th>std</th>\n",
       "    </tr>\n",
       "    <tr>\n",
       "      <th>beer_style</th>\n",
       "      <th></th>\n",
       "      <th></th>\n",
       "      <th></th>\n",
       "      <th></th>\n",
       "    </tr>\n",
       "  </thead>\n",
       "  <tbody>\n",
       "    <tr>\n",
       "      <th rowspan=\"5\" valign=\"top\">Altbier</th>\n",
       "      <th>review_appearance</th>\n",
       "      <td>3.819018</td>\n",
       "      <td>326</td>\n",
       "      <td>0.559731</td>\n",
       "    </tr>\n",
       "    <tr>\n",
       "      <th>review_aroma</th>\n",
       "      <td>3.599693</td>\n",
       "      <td>326</td>\n",
       "      <td>0.568426</td>\n",
       "    </tr>\n",
       "    <tr>\n",
       "      <th>review_overall</th>\n",
       "      <td>3.774540</td>\n",
       "      <td>326</td>\n",
       "      <td>0.676367</td>\n",
       "    </tr>\n",
       "    <tr>\n",
       "      <th>review_palate</th>\n",
       "      <td>3.684049</td>\n",
       "      <td>326</td>\n",
       "      <td>0.601171</td>\n",
       "    </tr>\n",
       "    <tr>\n",
       "      <th>review_taste</th>\n",
       "      <td>3.696319</td>\n",
       "      <td>326</td>\n",
       "      <td>0.624957</td>\n",
       "    </tr>\n",
       "  </tbody>\n",
       "</table>\n",
       "</div>"
      ],
      "text/plain": [
       "                                  mean  count       std\n",
       "beer_style                                             \n",
       "Altbier    review_appearance  3.819018    326  0.559731\n",
       "           review_aroma       3.599693    326  0.568426\n",
       "           review_overall     3.774540    326  0.676367\n",
       "           review_palate      3.684049    326  0.601171\n",
       "           review_taste       3.696319    326  0.624957"
      ]
     },
     "execution_count": 156,
     "metadata": {},
     "output_type": "execute_result"
    }
   ],
   "source": [
    "multi = gr[review_cols].agg(['mean', 'count', 'std']).stack(level=0)\n",
    "multi.head()"
   ]
  },
  {
   "cell_type": "code",
   "execution_count": 157,
   "metadata": {
    "collapsed": false
   },
   "outputs": [
    {
     "data": {
      "text/html": [
       "<div>\n",
       "<table border=\"1\" class=\"dataframe\">\n",
       "  <thead>\n",
       "    <tr style=\"text-align: right;\">\n",
       "      <th></th>\n",
       "      <th>min</th>\n",
       "      <th>max</th>\n",
       "    </tr>\n",
       "    <tr>\n",
       "      <th>beer_style</th>\n",
       "      <th></th>\n",
       "      <th></th>\n",
       "    </tr>\n",
       "  </thead>\n",
       "  <tbody>\n",
       "    <tr>\n",
       "      <th>Altbier</th>\n",
       "      <td>3.599693</td>\n",
       "      <td>3.819018</td>\n",
       "    </tr>\n",
       "    <tr>\n",
       "      <th>American Adjunct Lager</th>\n",
       "      <td>2.501012</td>\n",
       "      <td>3.088731</td>\n",
       "    </tr>\n",
       "    <tr>\n",
       "      <th>American Amber / Red Ale</th>\n",
       "      <td>3.675518</td>\n",
       "      <td>3.864496</td>\n",
       "    </tr>\n",
       "    <tr>\n",
       "      <th>American Amber / Red Lager</th>\n",
       "      <td>3.243689</td>\n",
       "      <td>3.600971</td>\n",
       "    </tr>\n",
       "    <tr>\n",
       "      <th>American Barleywine</th>\n",
       "      <td>3.893434</td>\n",
       "      <td>4.040345</td>\n",
       "    </tr>\n",
       "    <tr>\n",
       "      <th>...</th>\n",
       "      <td>...</td>\n",
       "      <td>...</td>\n",
       "    </tr>\n",
       "    <tr>\n",
       "      <th>Vienna Lager</th>\n",
       "      <td>3.459963</td>\n",
       "      <td>3.837989</td>\n",
       "    </tr>\n",
       "    <tr>\n",
       "      <th>Weizenbock</th>\n",
       "      <td>4.027928</td>\n",
       "      <td>4.111712</td>\n",
       "    </tr>\n",
       "    <tr>\n",
       "      <th>Wheatwine</th>\n",
       "      <td>3.813319</td>\n",
       "      <td>4.066594</td>\n",
       "    </tr>\n",
       "    <tr>\n",
       "      <th>Winter Warmer</th>\n",
       "      <td>3.694115</td>\n",
       "      <td>3.849075</td>\n",
       "    </tr>\n",
       "    <tr>\n",
       "      <th>Witbier</th>\n",
       "      <td>3.598328</td>\n",
       "      <td>3.755853</td>\n",
       "    </tr>\n",
       "  </tbody>\n",
       "</table>\n",
       "<p>104 rows × 2 columns</p>\n",
       "</div>"
      ],
      "text/plain": [
       "                                 min       max\n",
       "beer_style                                    \n",
       "Altbier                     3.599693  3.819018\n",
       "American Adjunct Lager      2.501012  3.088731\n",
       "American Amber / Red Ale    3.675518  3.864496\n",
       "American Amber / Red Lager  3.243689  3.600971\n",
       "American Barleywine         3.893434  4.040345\n",
       "...                              ...       ...\n",
       "Vienna Lager                3.459963  3.837989\n",
       "Weizenbock                  4.027928  4.111712\n",
       "Wheatwine                   3.813319  4.066594\n",
       "Winter Warmer               3.694115  3.849075\n",
       "Witbier                     3.598328  3.755853\n",
       "\n",
       "[104 rows x 2 columns]"
      ]
     },
     "execution_count": 157,
     "metadata": {},
     "output_type": "execute_result"
    }
   ],
   "source": [
    "multi.groupby(level='beer_style')['mean'].agg(['min', 'max'])"
   ]
  },
  {
   "cell_type": "markdown",
   "metadata": {},
   "source": [
    "Group by multiple columns"
   ]
  },
  {
   "cell_type": "code",
   "execution_count": 158,
   "metadata": {
    "collapsed": false
   },
   "outputs": [
    {
     "data": {
      "text/plain": [
       "brewer_id  beer_style                    \n",
       "1          Czech Pilsener                    3.943662\n",
       "3          American Adjunct Lager            3.750000\n",
       "           American Amber / Red Ale          3.750000\n",
       "           American Brown Ale                3.324324\n",
       "           American Double / Imperial IPA    4.333333\n",
       "                                               ...   \n",
       "24926      Belgian Strong Dark Ale           4.000000\n",
       "           Fruit / Vegetable Beer            4.500000\n",
       "24964      American Malt Liquor              3.600000\n",
       "25680      Euro Pale Lager                   3.500000\n",
       "27039      American Double / Imperial IPA    4.875000\n",
       "Name: review_overall, dtype: float64"
      ]
     },
     "execution_count": 158,
     "metadata": {},
     "output_type": "execute_result"
    }
   ],
   "source": [
    "df.groupby(['brewer_id', 'beer_style']).review_overall.mean()"
   ]
  },
  {
   "cell_type": "code",
   "execution_count": 159,
   "metadata": {
    "collapsed": false
   },
   "outputs": [
    {
     "data": {
      "text/html": [
       "<div>\n",
       "<table border=\"1\" class=\"dataframe\">\n",
       "  <thead>\n",
       "    <tr style=\"text-align: right;\">\n",
       "      <th></th>\n",
       "      <th></th>\n",
       "      <th>review_appearance</th>\n",
       "      <th>review_aroma</th>\n",
       "      <th>review_overall</th>\n",
       "      <th>review_palate</th>\n",
       "      <th>review_taste</th>\n",
       "    </tr>\n",
       "    <tr>\n",
       "      <th>brewer_id</th>\n",
       "      <th>beer_style</th>\n",
       "      <th></th>\n",
       "      <th></th>\n",
       "      <th></th>\n",
       "      <th></th>\n",
       "      <th></th>\n",
       "    </tr>\n",
       "  </thead>\n",
       "  <tbody>\n",
       "    <tr>\n",
       "      <th>1</th>\n",
       "      <th>Czech Pilsener</th>\n",
       "      <td>3.605634</td>\n",
       "      <td>3.514085</td>\n",
       "      <td>3.943662</td>\n",
       "      <td>3.633803</td>\n",
       "      <td>3.718310</td>\n",
       "    </tr>\n",
       "    <tr>\n",
       "      <th rowspan=\"4\" valign=\"top\">3</th>\n",
       "      <th>American Adjunct Lager</th>\n",
       "      <td>3.250000</td>\n",
       "      <td>2.500000</td>\n",
       "      <td>3.750000</td>\n",
       "      <td>3.500000</td>\n",
       "      <td>2.750000</td>\n",
       "    </tr>\n",
       "    <tr>\n",
       "      <th>American Amber / Red Ale</th>\n",
       "      <td>3.666667</td>\n",
       "      <td>3.472222</td>\n",
       "      <td>3.750000</td>\n",
       "      <td>3.486111</td>\n",
       "      <td>3.583333</td>\n",
       "    </tr>\n",
       "    <tr>\n",
       "      <th>American Brown Ale</th>\n",
       "      <td>3.513514</td>\n",
       "      <td>3.270270</td>\n",
       "      <td>3.324324</td>\n",
       "      <td>3.081081</td>\n",
       "      <td>3.175676</td>\n",
       "    </tr>\n",
       "    <tr>\n",
       "      <th>American Double / Imperial IPA</th>\n",
       "      <td>3.833333</td>\n",
       "      <td>3.833333</td>\n",
       "      <td>4.333333</td>\n",
       "      <td>3.833333</td>\n",
       "      <td>3.833333</td>\n",
       "    </tr>\n",
       "    <tr>\n",
       "      <th>...</th>\n",
       "      <th>...</th>\n",
       "      <td>...</td>\n",
       "      <td>...</td>\n",
       "      <td>...</td>\n",
       "      <td>...</td>\n",
       "      <td>...</td>\n",
       "    </tr>\n",
       "    <tr>\n",
       "      <th rowspan=\"2\" valign=\"top\">24926</th>\n",
       "      <th>Belgian Strong Dark Ale</th>\n",
       "      <td>3.500000</td>\n",
       "      <td>3.500000</td>\n",
       "      <td>4.000000</td>\n",
       "      <td>4.000000</td>\n",
       "      <td>4.000000</td>\n",
       "    </tr>\n",
       "    <tr>\n",
       "      <th>Fruit / Vegetable Beer</th>\n",
       "      <td>4.500000</td>\n",
       "      <td>4.500000</td>\n",
       "      <td>4.500000</td>\n",
       "      <td>4.500000</td>\n",
       "      <td>4.500000</td>\n",
       "    </tr>\n",
       "    <tr>\n",
       "      <th>24964</th>\n",
       "      <th>American Malt Liquor</th>\n",
       "      <td>3.300000</td>\n",
       "      <td>2.800000</td>\n",
       "      <td>3.600000</td>\n",
       "      <td>3.200000</td>\n",
       "      <td>3.400000</td>\n",
       "    </tr>\n",
       "    <tr>\n",
       "      <th>25680</th>\n",
       "      <th>Euro Pale Lager</th>\n",
       "      <td>4.000000</td>\n",
       "      <td>3.500000</td>\n",
       "      <td>3.500000</td>\n",
       "      <td>3.500000</td>\n",
       "      <td>3.500000</td>\n",
       "    </tr>\n",
       "    <tr>\n",
       "      <th>27039</th>\n",
       "      <th>American Double / Imperial IPA</th>\n",
       "      <td>4.625000</td>\n",
       "      <td>4.750000</td>\n",
       "      <td>4.875000</td>\n",
       "      <td>4.875000</td>\n",
       "      <td>4.875000</td>\n",
       "    </tr>\n",
       "  </tbody>\n",
       "</table>\n",
       "<p>10432 rows × 5 columns</p>\n",
       "</div>"
      ],
      "text/plain": [
       "                                          review_appearance  review_aroma  \\\n",
       "brewer_id beer_style                                                        \n",
       "1         Czech Pilsener                           3.605634      3.514085   \n",
       "3         American Adjunct Lager                   3.250000      2.500000   \n",
       "          American Amber / Red Ale                 3.666667      3.472222   \n",
       "          American Brown Ale                       3.513514      3.270270   \n",
       "          American Double / Imperial IPA           3.833333      3.833333   \n",
       "...                                                     ...           ...   \n",
       "24926     Belgian Strong Dark Ale                  3.500000      3.500000   \n",
       "          Fruit / Vegetable Beer                   4.500000      4.500000   \n",
       "24964     American Malt Liquor                     3.300000      2.800000   \n",
       "25680     Euro Pale Lager                          4.000000      3.500000   \n",
       "27039     American Double / Imperial IPA           4.625000      4.750000   \n",
       "\n",
       "                                          review_overall  review_palate  \\\n",
       "brewer_id beer_style                                                      \n",
       "1         Czech Pilsener                        3.943662       3.633803   \n",
       "3         American Adjunct Lager                3.750000       3.500000   \n",
       "          American Amber / Red Ale              3.750000       3.486111   \n",
       "          American Brown Ale                    3.324324       3.081081   \n",
       "          American Double / Imperial IPA        4.333333       3.833333   \n",
       "...                                                  ...            ...   \n",
       "24926     Belgian Strong Dark Ale               4.000000       4.000000   \n",
       "          Fruit / Vegetable Beer                4.500000       4.500000   \n",
       "24964     American Malt Liquor                  3.600000       3.200000   \n",
       "25680     Euro Pale Lager                       3.500000       3.500000   \n",
       "27039     American Double / Imperial IPA        4.875000       4.875000   \n",
       "\n",
       "                                          review_taste  \n",
       "brewer_id beer_style                                    \n",
       "1         Czech Pilsener                      3.718310  \n",
       "3         American Adjunct Lager              2.750000  \n",
       "          American Amber / Red Ale            3.583333  \n",
       "          American Brown Ale                  3.175676  \n",
       "          American Double / Imperial IPA      3.833333  \n",
       "...                                                ...  \n",
       "24926     Belgian Strong Dark Ale             4.000000  \n",
       "          Fruit / Vegetable Beer              4.500000  \n",
       "24964     American Malt Liquor                3.400000  \n",
       "25680     Euro Pale Lager                     3.500000  \n",
       "27039     American Double / Imperial IPA      4.875000  \n",
       "\n",
       "[10432 rows x 5 columns]"
      ]
     },
     "execution_count": 159,
     "metadata": {},
     "output_type": "execute_result"
    }
   ],
   "source": [
    "df.groupby(['brewer_id', 'beer_style'])[review_cols].mean()"
   ]
  },
  {
   "cell_type": "markdown",
   "metadata": {},
   "source": [
    "Exercise: Plot the relationship between review length (the `text` column) and average `review_overall`."
   ]
  },
  {
   "cell_type": "code",
   "execution_count": 160,
   "metadata": {
    "collapsed": true
   },
   "outputs": [],
   "source": [
    "# Your code goes here"
   ]
  },
  {
   "cell_type": "code",
   "execution_count": 162,
   "metadata": {
    "collapsed": false
   },
   "outputs": [
    {
     "data": {
      "text/plain": [
       "<matplotlib.axes._subplots.AxesSubplot at 0x119ad3048>"
      ]
     },
     "execution_count": 162,
     "metadata": {},
     "output_type": "execute_result"
    },
    {
     "data": {
      "image/png": "[encoded data removed]",
      "text/plain": [
       "<matplotlib.figure.Figure at 0x119a60ef0>"
      ]
     },
     "metadata": {},
     "output_type": "display_data"
    }
   ],
   "source": [
    "%load -r 1:5 solutions_groupby.py"
   ]
  },
  {
   "cell_type": "markdown",
   "metadata": {},
   "source": [
    "Exercise: Which **brewer** (`brewer_id`) has the largest gap between the min and max `review_overall` for two of their beers."
   ]
  },
  {
   "cell_type": "code",
   "execution_count": 163,
   "metadata": {
    "collapsed": true
   },
   "outputs": [],
   "source": [
    "# Your code goes here. You've got this!"
   ]
  },
  {
   "cell_type": "code",
   "execution_count": 165,
   "metadata": {
    "collapsed": false
   },
   "outputs": [
    {
     "data": {
      "text/plain": [
       "brewer_id\n",
       "29      4\n",
       "506     4\n",
       "478     4\n",
       "435     4\n",
       "688     4\n",
       "       ..\n",
       "6266    0\n",
       "884     0\n",
       "882     0\n",
       "6272    0\n",
       "4410    0\n",
       "dtype: float64"
      ]
     },
     "execution_count": 165,
     "metadata": {},
     "output_type": "execute_result"
    }
   ],
   "source": [
    "# %load -r 6:13 solutions_groupby.py\n",
    "# question\n",
    "avg = (df.groupby(['brewer_id', 'beer_name'])\n",
    "       .review_overall\n",
    "       .mean())\n",
    "extrema = avg.groupby(level='brewer_id').agg(['min', 'max'])\n",
    "difference = extrema['max'] - extrema['min']\n",
    "difference.order(ascending=False)"
   ]
  },
  {
   "cell_type": "code",
   "execution_count": 168,
   "metadata": {
    "collapsed": true
   },
   "outputs": [],
   "source": [
    "# Show for those with counts > 20ish"
   ]
  },
  {
   "cell_type": "code",
   "execution_count": 169,
   "metadata": {
    "collapsed": false
   },
   "outputs": [],
   "source": [
    "style = df.beer_style"
   ]
  },
  {
   "cell_type": "code",
   "execution_count": 170,
   "metadata": {
    "collapsed": false
   },
   "outputs": [
    {
     "data": {
      "text/plain": [
       "0                        American Stout\n",
       "1                       American Porter\n",
       "2                       German Pilsener\n",
       "3        American Double / Imperial IPA\n",
       "4               American Pale Ale (APA)\n",
       "                      ...              \n",
       "99995                      American IPA\n",
       "99996          American Amber / Red Ale\n",
       "99997                   American Porter\n",
       "99998                      American IPA\n",
       "99999            Fruit / Vegetable Beer\n",
       "Name: beer_style, dtype: object"
      ]
     },
     "execution_count": 170,
     "metadata": {},
     "output_type": "execute_result"
    }
   ],
   "source": [
    "style.replace({\n",
    "    'india pale ale': 'ipa',\n",
    "    'american pale ale': 'apa'\n",
    "})"
   ]
  },
  {
   "cell_type": "code",
   "execution_count": 171,
   "metadata": {
    "collapsed": true
   },
   "outputs": [],
   "source": [
    "kinds = ['ipa', 'apa', 'amber ale', 'rye', 'scotch', 'stout', 'barleywine', 'porter', 'brown ale', 'lager', 'pilsner',\n",
    "         'tripel', 'biter', 'farmhouse', 'malt liquour', 'rice']"
   ]
  },
  {
   "cell_type": "code",
   "execution_count": 172,
   "metadata": {
    "collapsed": false
   },
   "outputs": [
    {
     "data": {
      "text/plain": [
       "'(?P<ipa>ipa)|(?P<apa>apa)|(?P<amber_ale>amber ale)|(?P<rye>rye)|(?P<scotch>scotch)|(?P<stout>stout)|(?P<barleywine>barleywine)|(?P<porter>porter)|(?P<brown_ale>brown ale)|(?P<lager>lager)|(?P<pilsner>pilsner)|(?P<tripel>tripel)|(?P<biter>biter)|(?P<farmhouse>farmhouse)|(?P<malt_liquour>malt liquour)|(?P<rice>rice)'"
      ]
     },
     "execution_count": 172,
     "metadata": {},
     "output_type": "execute_result"
    }
   ],
   "source": [
    "expr = '|'.join(['(?P<{name}>{pat})'.format(pat=kind, name=kind.replace(' ', '_')) for kind in kinds])\n",
    "expr"
   ]
  },
  {
   "cell_type": "code",
   "execution_count": 173,
   "metadata": {
    "collapsed": false
   },
   "outputs": [
    {
     "data": {
      "text/plain": [
       "0                        American Stout\n",
       "1                       American Porter\n",
       "2                       German Pilsener\n",
       "3        American Double / Imperial IPA\n",
       "4               American Pale Ale (APA)\n",
       "                      ...              \n",
       "99995                      American IPA\n",
       "99996          American Amber / Red Ale\n",
       "99997                   American Porter\n",
       "99998                      American IPA\n",
       "99999            Fruit / Vegetable Beer\n",
       "Name: beer_style, dtype: object"
      ]
     },
     "execution_count": 173,
     "metadata": {},
     "output_type": "execute_result"
    }
   ],
   "source": [
    "style.str.replace('India Pale Ale', 'IPA')"
   ]
  },
  {
   "cell_type": "code",
   "execution_count": 174,
   "metadata": {
    "collapsed": false
   },
   "outputs": [],
   "source": [
    "beer_kind = (style.replace({\n",
    "    'india pale ale': 'ipa',\n",
    "    'american pale ale': 'apa'\n",
    "})\n",
    " .str.extract(expr, flags=re.IGNORECASE).fillna('').sum(1)\n",
    " .str.lower().replace('', 'other')\n",
    ")"
   ]
  },
  {
   "cell_type": "code",
   "execution_count": 175,
   "metadata": {
    "collapsed": false
   },
   "outputs": [
    {
     "data": {
      "text/plain": [
       "brewer_id           \n",
       "1          other        3.943662\n",
       "3          apa          3.347826\n",
       "           brown ale    3.582418\n",
       "           ipa          3.662791\n",
       "           lager        3.772727\n",
       "                          ...   \n",
       "23980      porter       3.681818\n",
       "24926      other        4.166667\n",
       "24964      other        3.600000\n",
       "25680      lager        3.500000\n",
       "27039      ipa          4.875000\n",
       "Name: review_overall, dtype: float64"
      ]
     },
     "execution_count": 175,
     "metadata": {},
     "output_type": "execute_result"
    }
   ],
   "source": [
    "df.groupby(['brewer_id', beer_kind]).review_overall.mean()"
   ]
  },
  {
   "cell_type": "markdown",
   "metadata": {},
   "source": [
    "# Transform"
   ]
  },
  {
   "cell_type": "markdown",
   "metadata": {},
   "source": [
    "Combined Series / DataFrame is the same shape as the input. For example, say you want to standardize the reviews by subtracting the mean."
   ]
  },
  {
   "cell_type": "code",
   "execution_count": 415,
   "metadata": {
    "collapsed": true
   },
   "outputs": [],
   "source": [
    "def de_mean(reviews):\n",
    "    s = reviews - reviews.mean()\n",
    "    return s"
   ]
  },
  {
   "cell_type": "code",
   "execution_count": 407,
   "metadata": {
    "collapsed": false
   },
   "outputs": [
    {
     "data": {
      "text/plain": [
       "0        0.63927\n",
       "1        0.63927\n",
       "2       -0.86073\n",
       "3        0.13927\n",
       "4        0.13927\n",
       "          ...   \n",
       "99995    0.63927\n",
       "99996    0.13927\n",
       "99997   -1.36073\n",
       "99998    0.13927\n",
       "99999    0.63927\n",
       "Name: review_overall, dtype: float64"
      ]
     },
     "execution_count": 407,
     "metadata": {},
     "output_type": "execute_result"
    }
   ],
   "source": [
    "de_mean(df.review_overall)"
   ]
  },
  {
   "cell_type": "markdown",
   "metadata": {},
   "source": [
    "We can do this at the *person* level with `groupby` and `transform`."
   ]
  },
  {
   "cell_type": "code",
   "execution_count": 410,
   "metadata": {
    "collapsed": false
   },
   "outputs": [
    {
     "data": {
      "text/html": [
       "<div>\n",
       "<table border=\"1\" class=\"dataframe\">\n",
       "  <thead>\n",
       "    <tr style=\"text-align: right;\">\n",
       "      <th></th>\n",
       "      <th>abv</th>\n",
       "      <th>beer_id</th>\n",
       "      <th>brewer_id</th>\n",
       "      <th>review_appearance</th>\n",
       "      <th>review_aroma</th>\n",
       "      <th>review_overall</th>\n",
       "      <th>review_palate</th>\n",
       "      <th>review_taste</th>\n",
       "    </tr>\n",
       "  </thead>\n",
       "  <tbody>\n",
       "    <tr>\n",
       "      <th>0</th>\n",
       "      <td>-2.763000</td>\n",
       "      <td>-14386.800000</td>\n",
       "      <td>-250.800000</td>\n",
       "      <td>0.350000</td>\n",
       "      <td>-0.050000</td>\n",
       "      <td>0.500000</td>\n",
       "      <td>-0.100000</td>\n",
       "      <td>0.450000</td>\n",
       "    </tr>\n",
       "    <tr>\n",
       "      <th>1</th>\n",
       "      <td>-1.622833</td>\n",
       "      <td>-8941.000000</td>\n",
       "      <td>4594.447761</td>\n",
       "      <td>0.462687</td>\n",
       "      <td>0.082090</td>\n",
       "      <td>0.395522</td>\n",
       "      <td>0.044776</td>\n",
       "      <td>-0.014925</td>\n",
       "    </tr>\n",
       "    <tr>\n",
       "      <th>2</th>\n",
       "      <td>-2.420000</td>\n",
       "      <td>-11859.162500</td>\n",
       "      <td>450.287500</td>\n",
       "      <td>0.025000</td>\n",
       "      <td>-0.968750</td>\n",
       "      <td>-0.875000</td>\n",
       "      <td>-0.631250</td>\n",
       "      <td>-0.350000</td>\n",
       "    </tr>\n",
       "    <tr>\n",
       "      <th>3</th>\n",
       "      <td>1.673333</td>\n",
       "      <td>-6783.687500</td>\n",
       "      <td>-1250.687500</td>\n",
       "      <td>0.250000</td>\n",
       "      <td>0.281250</td>\n",
       "      <td>0.093750</td>\n",
       "      <td>0.375000</td>\n",
       "      <td>0.312500</td>\n",
       "    </tr>\n",
       "    <tr>\n",
       "      <th>4</th>\n",
       "      <td>-1.996861</td>\n",
       "      <td>-25015.457746</td>\n",
       "      <td>-2934.570423</td>\n",
       "      <td>0.242958</td>\n",
       "      <td>-0.774648</td>\n",
       "      <td>0.295775</td>\n",
       "      <td>-0.242958</td>\n",
       "      <td>-0.683099</td>\n",
       "    </tr>\n",
       "    <tr>\n",
       "      <th>...</th>\n",
       "      <td>...</td>\n",
       "      <td>...</td>\n",
       "      <td>...</td>\n",
       "      <td>...</td>\n",
       "      <td>...</td>\n",
       "      <td>...</td>\n",
       "      <td>...</td>\n",
       "      <td>...</td>\n",
       "    </tr>\n",
       "    <tr>\n",
       "      <th>99995</th>\n",
       "      <td>-0.536528</td>\n",
       "      <td>-12955.893333</td>\n",
       "      <td>2269.973333</td>\n",
       "      <td>0.040000</td>\n",
       "      <td>0.580000</td>\n",
       "      <td>0.466667</td>\n",
       "      <td>0.520000</td>\n",
       "      <td>0.520000</td>\n",
       "    </tr>\n",
       "    <tr>\n",
       "      <th>99996</th>\n",
       "      <td>0.118182</td>\n",
       "      <td>-8688.272727</td>\n",
       "      <td>-3685.636364</td>\n",
       "      <td>0.090909</td>\n",
       "      <td>0.045455</td>\n",
       "      <td>0.090909</td>\n",
       "      <td>-0.181818</td>\n",
       "      <td>0.090909</td>\n",
       "    </tr>\n",
       "    <tr>\n",
       "      <th>99997</th>\n",
       "      <td>-0.500000</td>\n",
       "      <td>-822.000000</td>\n",
       "      <td>-201.500000</td>\n",
       "      <td>0.375000</td>\n",
       "      <td>-0.500000</td>\n",
       "      <td>-1.250000</td>\n",
       "      <td>0.250000</td>\n",
       "      <td>-0.375000</td>\n",
       "    </tr>\n",
       "    <tr>\n",
       "      <th>99998</th>\n",
       "      <td>-0.060876</td>\n",
       "      <td>-40408.033766</td>\n",
       "      <td>-6994.153247</td>\n",
       "      <td>-0.720779</td>\n",
       "      <td>0.331169</td>\n",
       "      <td>0.410390</td>\n",
       "      <td>-0.049351</td>\n",
       "      <td>0.468831</td>\n",
       "    </tr>\n",
       "    <tr>\n",
       "      <th>99999</th>\n",
       "      <td>-1.517449</td>\n",
       "      <td>-4006.112840</td>\n",
       "      <td>-3498.871595</td>\n",
       "      <td>0.025292</td>\n",
       "      <td>0.492218</td>\n",
       "      <td>0.575875</td>\n",
       "      <td>0.145914</td>\n",
       "      <td>0.577821</td>\n",
       "    </tr>\n",
       "  </tbody>\n",
       "</table>\n",
       "<p>100000 rows × 8 columns</p>\n",
       "</div>"
      ],
      "text/plain": [
       "            abv       beer_id    brewer_id  review_appearance  review_aroma  \\\n",
       "0     -2.763000 -14386.800000  -250.800000           0.350000     -0.050000   \n",
       "1     -1.622833  -8941.000000  4594.447761           0.462687      0.082090   \n",
       "2     -2.420000 -11859.162500   450.287500           0.025000     -0.968750   \n",
       "3      1.673333  -6783.687500 -1250.687500           0.250000      0.281250   \n",
       "4     -1.996861 -25015.457746 -2934.570423           0.242958     -0.774648   \n",
       "...         ...           ...          ...                ...           ...   \n",
       "99995 -0.536528 -12955.893333  2269.973333           0.040000      0.580000   \n",
       "99996  0.118182  -8688.272727 -3685.636364           0.090909      0.045455   \n",
       "99997 -0.500000   -822.000000  -201.500000           0.375000     -0.500000   \n",
       "99998 -0.060876 -40408.033766 -6994.153247          -0.720779      0.331169   \n",
       "99999 -1.517449  -4006.112840 -3498.871595           0.025292      0.492218   \n",
       "\n",
       "       review_overall  review_palate  review_taste  \n",
       "0            0.500000      -0.100000      0.450000  \n",
       "1            0.395522       0.044776     -0.014925  \n",
       "2           -0.875000      -0.631250     -0.350000  \n",
       "3            0.093750       0.375000      0.312500  \n",
       "4            0.295775      -0.242958     -0.683099  \n",
       "...               ...            ...           ...  \n",
       "99995        0.466667       0.520000      0.520000  \n",
       "99996        0.090909      -0.181818      0.090909  \n",
       "99997       -1.250000       0.250000     -0.375000  \n",
       "99998        0.410390      -0.049351      0.468831  \n",
       "99999        0.575875       0.145914      0.577821  \n",
       "\n",
       "[100000 rows x 8 columns]"
      ]
     },
     "execution_count": 410,
     "metadata": {},
     "output_type": "execute_result"
    }
   ],
   "source": [
    "df.groupby('profile_name').transform(de_mean)"
   ]
  },
  {
   "cell_type": "code",
   "execution_count": 412,
   "metadata": {
    "collapsed": false
   },
   "outputs": [],
   "source": [
    "user_counts = df.profile_name.value_counts()\n",
    "top_users = user_counts[user_counts > user_counts.quantile(.8)].index"
   ]
  },
  {
   "cell_type": "code",
   "execution_count": 413,
   "metadata": {
    "collapsed": false
   },
   "outputs": [
    {
     "data": {
      "text/plain": [
       "Index(['Mora2000', 'drabmuh', 'northyorksammy', 'nickd717', 'jrallen34',\n",
       "       'womencantsail', 'corby112', 'BeerFMAndy', 'glid02', 'mikesgroove', \n",
       "       ...\n",
       "       'SpecialK088', 'TerryW', 'IBUnit63', 'nickadams2', 'UDbeernut',\n",
       "       'Liverpool08', 'aggiearcher13', 'mithrascruor', 'BBri', 'WWWade'],\n",
       "      dtype='object', length=1192)"
      ]
     },
     "execution_count": 413,
     "metadata": {},
     "output_type": "execute_result"
    }
   ],
   "source": [
    "top_users"
   ]
  },
  {
   "cell_type": "code",
   "execution_count": 416,
   "metadata": {
    "collapsed": false
   },
   "outputs": [
    {
     "data": {
      "text/html": [
       "<div>\n",
       "<table border=\"1\" class=\"dataframe\">\n",
       "  <thead>\n",
       "    <tr style=\"text-align: right;\">\n",
       "      <th></th>\n",
       "      <th>review_appearance</th>\n",
       "      <th>review_aroma</th>\n",
       "      <th>review_overall</th>\n",
       "      <th>review_palate</th>\n",
       "      <th>review_taste</th>\n",
       "    </tr>\n",
       "  </thead>\n",
       "  <tbody>\n",
       "    <tr>\n",
       "      <th>1</th>\n",
       "      <td>0.462687</td>\n",
       "      <td>0.082090</td>\n",
       "      <td>0.395522</td>\n",
       "      <td>0.044776</td>\n",
       "      <td>-0.014925</td>\n",
       "    </tr>\n",
       "    <tr>\n",
       "      <th>2</th>\n",
       "      <td>0.025000</td>\n",
       "      <td>-0.968750</td>\n",
       "      <td>-0.875000</td>\n",
       "      <td>-0.631250</td>\n",
       "      <td>-0.350000</td>\n",
       "    </tr>\n",
       "    <tr>\n",
       "      <th>4</th>\n",
       "      <td>0.242958</td>\n",
       "      <td>-0.774648</td>\n",
       "      <td>0.295775</td>\n",
       "      <td>-0.242958</td>\n",
       "      <td>-0.683099</td>\n",
       "    </tr>\n",
       "    <tr>\n",
       "      <th>5</th>\n",
       "      <td>-0.135593</td>\n",
       "      <td>0.161017</td>\n",
       "      <td>-0.415254</td>\n",
       "      <td>0.084746</td>\n",
       "      <td>0.478814</td>\n",
       "    </tr>\n",
       "    <tr>\n",
       "      <th>6</th>\n",
       "      <td>-0.159389</td>\n",
       "      <td>0.091703</td>\n",
       "      <td>0.303493</td>\n",
       "      <td>-0.010917</td>\n",
       "      <td>0.447598</td>\n",
       "    </tr>\n",
       "    <tr>\n",
       "      <th>...</th>\n",
       "      <td>...</td>\n",
       "      <td>...</td>\n",
       "      <td>...</td>\n",
       "      <td>...</td>\n",
       "      <td>...</td>\n",
       "    </tr>\n",
       "    <tr>\n",
       "      <th>99991</th>\n",
       "      <td>0.211180</td>\n",
       "      <td>0.813665</td>\n",
       "      <td>-0.310559</td>\n",
       "      <td>0.388199</td>\n",
       "      <td>0.409938</td>\n",
       "    </tr>\n",
       "    <tr>\n",
       "      <th>99994</th>\n",
       "      <td>0.279221</td>\n",
       "      <td>0.331169</td>\n",
       "      <td>0.410390</td>\n",
       "      <td>-0.049351</td>\n",
       "      <td>-0.031169</td>\n",
       "    </tr>\n",
       "    <tr>\n",
       "      <th>99995</th>\n",
       "      <td>0.040000</td>\n",
       "      <td>0.580000</td>\n",
       "      <td>0.466667</td>\n",
       "      <td>0.520000</td>\n",
       "      <td>0.520000</td>\n",
       "    </tr>\n",
       "    <tr>\n",
       "      <th>99998</th>\n",
       "      <td>-0.720779</td>\n",
       "      <td>0.331169</td>\n",
       "      <td>0.410390</td>\n",
       "      <td>-0.049351</td>\n",
       "      <td>0.468831</td>\n",
       "    </tr>\n",
       "    <tr>\n",
       "      <th>99999</th>\n",
       "      <td>0.025292</td>\n",
       "      <td>0.492218</td>\n",
       "      <td>0.575875</td>\n",
       "      <td>0.145914</td>\n",
       "      <td>0.577821</td>\n",
       "    </tr>\n",
       "  </tbody>\n",
       "</table>\n",
       "<p>80040 rows × 5 columns</p>\n",
       "</div>"
      ],
      "text/plain": [
       "       review_appearance  review_aroma  review_overall  review_palate  \\\n",
       "1               0.462687      0.082090        0.395522       0.044776   \n",
       "2               0.025000     -0.968750       -0.875000      -0.631250   \n",
       "4               0.242958     -0.774648        0.295775      -0.242958   \n",
       "5              -0.135593      0.161017       -0.415254       0.084746   \n",
       "6              -0.159389      0.091703        0.303493      -0.010917   \n",
       "...                  ...           ...             ...            ...   \n",
       "99991           0.211180      0.813665       -0.310559       0.388199   \n",
       "99994           0.279221      0.331169        0.410390      -0.049351   \n",
       "99995           0.040000      0.580000        0.466667       0.520000   \n",
       "99998          -0.720779      0.331169        0.410390      -0.049351   \n",
       "99999           0.025292      0.492218        0.575875       0.145914   \n",
       "\n",
       "       review_taste  \n",
       "1         -0.014925  \n",
       "2         -0.350000  \n",
       "4         -0.683099  \n",
       "5          0.478814  \n",
       "6          0.447598  \n",
       "...             ...  \n",
       "99991      0.409938  \n",
       "99994     -0.031169  \n",
       "99995      0.520000  \n",
       "99998      0.468831  \n",
       "99999      0.577821  \n",
       "\n",
       "[80040 rows x 5 columns]"
      ]
     },
     "execution_count": 416,
     "metadata": {},
     "output_type": "execute_result"
    }
   ],
   "source": [
    "by_profile = df[df.profile_name.isin(top_users)].groupby('profile_name')\n",
    "standardized = by_profile[review_cols].transform(de_mean)\n",
    "standardized"
   ]
  },
  {
   "cell_type": "code",
   "execution_count": 417,
   "metadata": {
    "collapsed": false
   },
   "outputs": [
    {
     "data": {
      "text/html": [
       "<div>\n",
       "<table border=\"1\" class=\"dataframe\">\n",
       "  <thead>\n",
       "    <tr style=\"text-align: right;\">\n",
       "      <th></th>\n",
       "      <th>abv</th>\n",
       "      <th>beer_id</th>\n",
       "      <th>brewer_id</th>\n",
       "      <th>beer_name</th>\n",
       "      <th>beer_style</th>\n",
       "      <th>review_appearance</th>\n",
       "      <th>review_aroma</th>\n",
       "      <th>review_overall</th>\n",
       "      <th>review_palate</th>\n",
       "      <th>profile_name</th>\n",
       "      <th>review_taste</th>\n",
       "      <th>text</th>\n",
       "      <th>time</th>\n",
       "      <th>std_review_appearance</th>\n",
       "      <th>std_review_aroma</th>\n",
       "      <th>std_review_overall</th>\n",
       "      <th>std_review_palate</th>\n",
       "      <th>std_review_taste</th>\n",
       "    </tr>\n",
       "  </thead>\n",
       "  <tbody>\n",
       "    <tr>\n",
       "      <th>0</th>\n",
       "      <td>7.0</td>\n",
       "      <td>2511</td>\n",
       "      <td>287</td>\n",
       "      <td>Bell's Cherry Stout</td>\n",
       "      <td>American Stout</td>\n",
       "      <td>4.5</td>\n",
       "      <td>4</td>\n",
       "      <td>4.5</td>\n",
       "      <td>4.0</td>\n",
       "      <td>blaheath</td>\n",
       "      <td>4.5</td>\n",
       "      <td>Batch 8144\\tPitch black in color with a 1/2 f...</td>\n",
       "      <td>2009-10-05 21:31:48</td>\n",
       "      <td>NaN</td>\n",
       "      <td>NaN</td>\n",
       "      <td>NaN</td>\n",
       "      <td>NaN</td>\n",
       "      <td>NaN</td>\n",
       "    </tr>\n",
       "    <tr>\n",
       "      <th>1</th>\n",
       "      <td>5.7</td>\n",
       "      <td>19736</td>\n",
       "      <td>9790</td>\n",
       "      <td>Duck-Rabbit Porter</td>\n",
       "      <td>American Porter</td>\n",
       "      <td>4.5</td>\n",
       "      <td>4</td>\n",
       "      <td>4.5</td>\n",
       "      <td>4.0</td>\n",
       "      <td>GJ40</td>\n",
       "      <td>4.0</td>\n",
       "      <td>Sampled from a 12oz bottle in a standard pint...</td>\n",
       "      <td>2009-10-05 21:32:09</td>\n",
       "      <td>0.462687</td>\n",
       "      <td>0.082090</td>\n",
       "      <td>0.395522</td>\n",
       "      <td>0.044776</td>\n",
       "      <td>-0.014925</td>\n",
       "    </tr>\n",
       "    <tr>\n",
       "      <th>2</th>\n",
       "      <td>4.8</td>\n",
       "      <td>11098</td>\n",
       "      <td>3182</td>\n",
       "      <td>Fürstenberg Premium Pilsener</td>\n",
       "      <td>German Pilsener</td>\n",
       "      <td>4.0</td>\n",
       "      <td>3</td>\n",
       "      <td>3.0</td>\n",
       "      <td>3.0</td>\n",
       "      <td>biegaman</td>\n",
       "      <td>3.5</td>\n",
       "      <td>Haystack yellow with an energetic group of bu...</td>\n",
       "      <td>2009-10-05 21:32:13</td>\n",
       "      <td>0.025000</td>\n",
       "      <td>-0.968750</td>\n",
       "      <td>-0.875000</td>\n",
       "      <td>-0.631250</td>\n",
       "      <td>-0.350000</td>\n",
       "    </tr>\n",
       "    <tr>\n",
       "      <th>3</th>\n",
       "      <td>9.5</td>\n",
       "      <td>28577</td>\n",
       "      <td>3818</td>\n",
       "      <td>Unearthly (Imperial India Pale Ale)</td>\n",
       "      <td>American Double / Imperial IPA</td>\n",
       "      <td>4.0</td>\n",
       "      <td>4</td>\n",
       "      <td>4.0</td>\n",
       "      <td>4.0</td>\n",
       "      <td>nick76</td>\n",
       "      <td>4.0</td>\n",
       "      <td>The aroma has pine, wood, citrus, caramel, an...</td>\n",
       "      <td>2009-10-05 21:32:37</td>\n",
       "      <td>NaN</td>\n",
       "      <td>NaN</td>\n",
       "      <td>NaN</td>\n",
       "      <td>NaN</td>\n",
       "      <td>NaN</td>\n",
       "    </tr>\n",
       "    <tr>\n",
       "      <th>4</th>\n",
       "      <td>5.8</td>\n",
       "      <td>398</td>\n",
       "      <td>119</td>\n",
       "      <td>Wolaver's Pale Ale</td>\n",
       "      <td>American Pale Ale (APA)</td>\n",
       "      <td>4.0</td>\n",
       "      <td>3</td>\n",
       "      <td>4.0</td>\n",
       "      <td>3.5</td>\n",
       "      <td>champ103</td>\n",
       "      <td>3.0</td>\n",
       "      <td>A: Pours a slightly hazy golden/orange color....</td>\n",
       "      <td>2009-10-05 21:33:14</td>\n",
       "      <td>0.242958</td>\n",
       "      <td>-0.774648</td>\n",
       "      <td>0.295775</td>\n",
       "      <td>-0.242958</td>\n",
       "      <td>-0.683099</td>\n",
       "    </tr>\n",
       "  </tbody>\n",
       "</table>\n",
       "</div>"
      ],
      "text/plain": [
       "   abv  beer_id  brewer_id                            beer_name  \\\n",
       "0  7.0     2511        287                  Bell's Cherry Stout   \n",
       "1  5.7    19736       9790                   Duck-Rabbit Porter   \n",
       "2  4.8    11098       3182         Fürstenberg Premium Pilsener   \n",
       "3  9.5    28577       3818  Unearthly (Imperial India Pale Ale)   \n",
       "4  5.8      398        119                   Wolaver's Pale Ale   \n",
       "\n",
       "                       beer_style  review_appearance  review_aroma  \\\n",
       "0                  American Stout                4.5             4   \n",
       "1                 American Porter                4.5             4   \n",
       "2                 German Pilsener                4.0             3   \n",
       "3  American Double / Imperial IPA                4.0             4   \n",
       "4         American Pale Ale (APA)                4.0             3   \n",
       "\n",
       "   review_overall  review_palate profile_name  review_taste  \\\n",
       "0             4.5            4.0     blaheath           4.5   \n",
       "1             4.5            4.0         GJ40           4.0   \n",
       "2             3.0            3.0     biegaman           3.5   \n",
       "3             4.0            4.0       nick76           4.0   \n",
       "4             4.0            3.5     champ103           3.0   \n",
       "\n",
       "                                                text                time  \\\n",
       "0   Batch 8144\\tPitch black in color with a 1/2 f... 2009-10-05 21:31:48   \n",
       "1   Sampled from a 12oz bottle in a standard pint... 2009-10-05 21:32:09   \n",
       "2   Haystack yellow with an energetic group of bu... 2009-10-05 21:32:13   \n",
       "3   The aroma has pine, wood, citrus, caramel, an... 2009-10-05 21:32:37   \n",
       "4   A: Pours a slightly hazy golden/orange color.... 2009-10-05 21:33:14   \n",
       "\n",
       "   std_review_appearance  std_review_aroma  std_review_overall  \\\n",
       "0                    NaN               NaN                 NaN   \n",
       "1               0.462687          0.082090            0.395522   \n",
       "2               0.025000         -0.968750           -0.875000   \n",
       "3                    NaN               NaN                 NaN   \n",
       "4               0.242958         -0.774648            0.295775   \n",
       "\n",
       "   std_review_palate  std_review_taste  \n",
       "0                NaN               NaN  \n",
       "1           0.044776         -0.014925  \n",
       "2          -0.631250         -0.350000  \n",
       "3                NaN               NaN  \n",
       "4          -0.242958         -0.683099  "
      ]
     },
     "execution_count": 417,
     "metadata": {},
     "output_type": "execute_result"
    }
   ],
   "source": [
    "pd.concat([df, standardized.add_prefix('std_')], axis=1).head()"
   ]
  },
  {
   "cell_type": "code",
   "execution_count": 418,
   "metadata": {
    "collapsed": false
   },
   "outputs": [
    {
     "data": {
      "text/plain": [
       "Index(['American IPA', 'American Double / Imperial IPA',\n",
       "       'American Double / Imperial Stout', 'Russian Imperial Stout',\n",
       "       'American Porter', 'American Pale Ale (APA)', 'American Strong Ale',\n",
       "       'American Amber / Red Ale', 'Belgian Strong Dark Ale', 'Winter Warmer',\n",
       "       'American Stout', 'Fruit / Vegetable Beer', 'American Barleywine',\n",
       "       'Saison / Farmhouse Ale', 'American Wild Ale', 'American Brown Ale',\n",
       "       'Tripel', 'Belgian Strong Pale Ale', 'Witbier',\n",
       "       'American Adjunct Lager', 'Märzen / Oktoberfest', 'Doppelbock',\n",
       "       'Hefeweizen', 'Scotch Ale / Wee Heavy', 'Oatmeal Stout',\n",
       "       'Czech Pilsener', 'Pumpkin Ale', 'Belgian Pale Ale',\n",
       "       'American Pale Wheat Ale', 'Dubbel', 'Old Ale', 'English Brown Ale',\n",
       "       'English Pale Ale'],\n",
       "      dtype='object')"
      ]
     },
     "execution_count": 418,
     "metadata": {},
     "output_type": "execute_result"
    }
   ],
   "source": [
    "style_counts = df.beer_style.value_counts()\n",
    "top_styles = style_counts[style_counts > 1000].index\n",
    "top_styles"
   ]
  },
  {
   "cell_type": "code",
   "execution_count": 419,
   "metadata": {
    "collapsed": false
   },
   "outputs": [
    {
     "data": {
      "text/html": [
       "<div>\n",
       "<table border=\"1\" class=\"dataframe\">\n",
       "  <thead>\n",
       "    <tr style=\"text-align: right;\">\n",
       "      <th></th>\n",
       "      <th>review_appearance</th>\n",
       "      <th>review_aroma</th>\n",
       "      <th>review_overall</th>\n",
       "      <th>review_palate</th>\n",
       "      <th>review_taste</th>\n",
       "    </tr>\n",
       "    <tr>\n",
       "      <th>beer_style</th>\n",
       "      <th></th>\n",
       "      <th></th>\n",
       "      <th></th>\n",
       "      <th></th>\n",
       "      <th></th>\n",
       "    </tr>\n",
       "  </thead>\n",
       "  <tbody>\n",
       "    <tr>\n",
       "      <th>American Adjunct Lager</th>\n",
       "      <td>0.750881</td>\n",
       "      <td>0.720936</td>\n",
       "      <td>0.961824</td>\n",
       "      <td>0.777189</td>\n",
       "      <td>0.813102</td>\n",
       "    </tr>\n",
       "    <tr>\n",
       "      <th>Fruit / Vegetable Beer</th>\n",
       "      <td>0.662958</td>\n",
       "      <td>0.784562</td>\n",
       "      <td>0.897954</td>\n",
       "      <td>0.744376</td>\n",
       "      <td>0.878298</td>\n",
       "    </tr>\n",
       "    <tr>\n",
       "      <th>Pumpkin Ale</th>\n",
       "      <td>0.538920</td>\n",
       "      <td>0.678338</td>\n",
       "      <td>0.741914</td>\n",
       "      <td>0.655294</td>\n",
       "      <td>0.730874</td>\n",
       "    </tr>\n",
       "    <tr>\n",
       "      <th>American Pale Wheat Ale</th>\n",
       "      <td>0.566832</td>\n",
       "      <td>0.668443</td>\n",
       "      <td>0.736956</td>\n",
       "      <td>0.627013</td>\n",
       "      <td>0.708388</td>\n",
       "    </tr>\n",
       "    <tr>\n",
       "      <th>Witbier</th>\n",
       "      <td>0.591286</td>\n",
       "      <td>0.599275</td>\n",
       "      <td>0.717391</td>\n",
       "      <td>0.622560</td>\n",
       "      <td>0.674364</td>\n",
       "    </tr>\n",
       "    <tr>\n",
       "      <th>...</th>\n",
       "      <td>...</td>\n",
       "      <td>...</td>\n",
       "      <td>...</td>\n",
       "      <td>...</td>\n",
       "      <td>...</td>\n",
       "    </tr>\n",
       "    <tr>\n",
       "      <th>English Brown Ale</th>\n",
       "      <td>0.510767</td>\n",
       "      <td>0.544004</td>\n",
       "      <td>0.614923</td>\n",
       "      <td>0.594584</td>\n",
       "      <td>0.576359</td>\n",
       "    </tr>\n",
       "    <tr>\n",
       "      <th>American IPA</th>\n",
       "      <td>0.487279</td>\n",
       "      <td>0.588062</td>\n",
       "      <td>0.612685</td>\n",
       "      <td>0.527316</td>\n",
       "      <td>0.595619</td>\n",
       "    </tr>\n",
       "    <tr>\n",
       "      <th>Dubbel</th>\n",
       "      <td>0.522164</td>\n",
       "      <td>0.566321</td>\n",
       "      <td>0.611108</td>\n",
       "      <td>0.618170</td>\n",
       "      <td>0.630782</td>\n",
       "    </tr>\n",
       "    <tr>\n",
       "      <th>Scotch Ale / Wee Heavy</th>\n",
       "      <td>0.467664</td>\n",
       "      <td>0.559540</td>\n",
       "      <td>0.596165</td>\n",
       "      <td>0.528217</td>\n",
       "      <td>0.564306</td>\n",
       "    </tr>\n",
       "    <tr>\n",
       "      <th>American Barleywine</th>\n",
       "      <td>0.495381</td>\n",
       "      <td>0.514814</td>\n",
       "      <td>0.594070</td>\n",
       "      <td>0.538368</td>\n",
       "      <td>0.555808</td>\n",
       "    </tr>\n",
       "  </tbody>\n",
       "</table>\n",
       "<p>33 rows × 5 columns</p>\n",
       "</div>"
      ],
      "text/plain": [
       "                         review_appearance  review_aroma  review_overall  \\\n",
       "beer_style                                                                 \n",
       "American Adjunct Lager            0.750881      0.720936        0.961824   \n",
       "Fruit / Vegetable Beer            0.662958      0.784562        0.897954   \n",
       "Pumpkin Ale                       0.538920      0.678338        0.741914   \n",
       "American Pale Wheat Ale           0.566832      0.668443        0.736956   \n",
       "Witbier                           0.591286      0.599275        0.717391   \n",
       "...                                    ...           ...             ...   \n",
       "English Brown Ale                 0.510767      0.544004        0.614923   \n",
       "American IPA                      0.487279      0.588062        0.612685   \n",
       "Dubbel                            0.522164      0.566321        0.611108   \n",
       "Scotch Ale / Wee Heavy            0.467664      0.559540        0.596165   \n",
       "American Barleywine               0.495381      0.514814        0.594070   \n",
       "\n",
       "                         review_palate  review_taste  \n",
       "beer_style                                            \n",
       "American Adjunct Lager        0.777189      0.813102  \n",
       "Fruit / Vegetable Beer        0.744376      0.878298  \n",
       "Pumpkin Ale                   0.655294      0.730874  \n",
       "American Pale Wheat Ale       0.627013      0.708388  \n",
       "Witbier                       0.622560      0.674364  \n",
       "...                                ...           ...  \n",
       "English Brown Ale             0.594584      0.576359  \n",
       "American IPA                  0.527316      0.595619  \n",
       "Dubbel                        0.618170      0.630782  \n",
       "Scotch Ale / Wee Heavy        0.528217      0.564306  \n",
       "American Barleywine           0.538368      0.555808  \n",
       "\n",
       "[33 rows x 5 columns]"
      ]
     },
     "execution_count": 419,
     "metadata": {},
     "output_type": "execute_result"
    }
   ],
   "source": [
    "df.query('beer_style in @top_styles').groupby('beer_style')[review_cols].std().sort('review_overall', ascending=False)"
   ]
  },
  {
   "cell_type": "markdown",
   "metadata": {},
   "source": [
    "# Aside: Beer Recommender\n",
    "\n",
    "See [Harvard CS109](https://github.com/cs109/content) for a more complete example."
   ]
  },
  {
   "cell_type": "code",
   "execution_count": 420,
   "metadata": {
    "collapsed": false
   },
   "outputs": [
    {
     "data": {
      "text/html": [
       "<div>\n",
       "<table border=\"1\" class=\"dataframe\">\n",
       "  <thead>\n",
       "    <tr style=\"text-align: right;\">\n",
       "      <th></th>\n",
       "      <th>beer_id</th>\n",
       "      <th>profile_name</th>\n",
       "      <th>review_overall</th>\n",
       "    </tr>\n",
       "  </thead>\n",
       "  <tbody>\n",
       "    <tr>\n",
       "      <th>0</th>\n",
       "      <td>5</td>\n",
       "      <td>Ek0nomik</td>\n",
       "      <td>3.0</td>\n",
       "    </tr>\n",
       "    <tr>\n",
       "      <th>1</th>\n",
       "      <td>5</td>\n",
       "      <td>HalfFull</td>\n",
       "      <td>4.5</td>\n",
       "    </tr>\n",
       "    <tr>\n",
       "      <th>2</th>\n",
       "      <td>5</td>\n",
       "      <td>Jesstyr</td>\n",
       "      <td>4.0</td>\n",
       "    </tr>\n",
       "    <tr>\n",
       "      <th>3</th>\n",
       "      <td>5</td>\n",
       "      <td>JordonHoltzman</td>\n",
       "      <td>4.0</td>\n",
       "    </tr>\n",
       "    <tr>\n",
       "      <th>4</th>\n",
       "      <td>5</td>\n",
       "      <td>KTCamm</td>\n",
       "      <td>4.0</td>\n",
       "    </tr>\n",
       "  </tbody>\n",
       "</table>\n",
       "</div>"
      ],
      "text/plain": [
       "   beer_id    profile_name  review_overall\n",
       "0        5        Ek0nomik             3.0\n",
       "1        5        HalfFull             4.5\n",
       "2        5         Jesstyr             4.0\n",
       "3        5  JordonHoltzman             4.0\n",
       "4        5          KTCamm             4.0"
      ]
     },
     "execution_count": 420,
     "metadata": {},
     "output_type": "execute_result"
    }
   ],
   "source": [
    "deduped = df.groupby(['beer_id', 'profile_name']).review_overall.mean().reset_index()\n",
    "deduped.head()"
   ]
  },
  {
   "cell_type": "code",
   "execution_count": 432,
   "metadata": {
    "collapsed": false
   },
   "outputs": [],
   "source": [
    "user_counts = deduped.profile_name.value_counts().order()\n",
    "top_users = user_counts[user_counts > user_counts.quantile(.75)].index"
   ]
  },
  {
   "cell_type": "code",
   "execution_count": 433,
   "metadata": {
    "collapsed": false
   },
   "outputs": [],
   "source": [
    "beer_counts = deduped.beer_id.value_counts()\n",
    "top_beers = beer_counts[beer_counts > beer_counts.quantile(.9)].index"
   ]
  },
  {
   "cell_type": "code",
   "execution_count": 434,
   "metadata": {
    "collapsed": false
   },
   "outputs": [],
   "source": [
    "top = deduped.query('beer_id in @top_beers and profile_name in @top_users')\n",
    "user_means = top.groupby('profile_name').review_overall.mean()\n",
    "beer_means = top.groupby('beer_id').review_overall.mean()\n",
    "overall_means = top.mean()"
   ]
  },
  {
   "cell_type": "code",
   "execution_count": 435,
   "metadata": {
    "collapsed": false
   },
   "outputs": [
    {
     "data": {
      "text/plain": [
       "<matplotlib.text.Text at 0x11b409748>"
      ]
     },
     "execution_count": 435,
     "metadata": {},
     "output_type": "execute_result"
    },
    {
     "data": {
      "image/png": "[encoded data removed]",
      "text/plain": [
       "<matplotlib.figure.Figure at 0x125076400>"
      ]
     },
     "metadata": {},
     "output_type": "display_data"
    }
   ],
   "source": [
    "fig, axes = plt.subplots(figsize=(16, 4), ncols=2, sharey=True, sharex=True)\n",
    "\n",
    "sns.distplot(user_means, kde=False, ax=axes[0], color='k', norm_hist=True, hist_kws={'alpha': 1})\n",
    "sns.distplot(beer_means, kde=False, ax=axes[1], color='k', norm_hist=True, hist_kws={'alpha': 1})\n",
    "axes[0].set_title(\"User Averages\")\n",
    "axes[1].set_title(\"Beer Averages\")"
   ]
  },
  {
   "cell_type": "code",
   "execution_count": 441,
   "metadata": {
    "collapsed": false
   },
   "outputs": [
    {
     "data": {
      "text/plain": [
       "beer_id  profile_name  \n",
       "5        Ek0nomik          3.0\n",
       "         HalfFull          4.5\n",
       "         Jesstyr           4.0\n",
       "         JordonHoltzman    4.0\n",
       "         KTCamm            4.0\n",
       "Name: review_overall, dtype: float64"
      ]
     },
     "execution_count": 441,
     "metadata": {},
     "output_type": "execute_result"
    }
   ],
   "source": [
    "s = top.set_index(['beer_id', 'profile_name']).review_overall\n",
    "s.head()"
   ]
  },
  {
   "cell_type": "code",
   "execution_count": 445,
   "metadata": {
    "collapsed": false
   },
   "outputs": [
    {
     "data": {
      "text/plain": [
       "beer_id  profile_name  \n",
       "5        Ek0nomik         -0.857143\n",
       "         HalfFull          0.789474\n",
       "         Jesstyr           0.244318\n",
       "         JordonHoltzman    0.222222\n",
       "         KTCamm            0.166667\n",
       "Name: review_overall, dtype: float64"
      ]
     },
     "execution_count": 445,
     "metadata": {},
     "output_type": "execute_result"
    }
   ],
   "source": [
    "standardized = s.groupby(level='profile_name').transform(de_mean)\n",
    "standardized.head()"
   ]
  },
  {
   "cell_type": "code",
   "execution_count": 446,
   "metadata": {
    "collapsed": true
   },
   "outputs": [],
   "source": [
    "from scipy.stats import pearsonr"
   ]
  },
  {
   "cell_type": "code",
   "execution_count": 505,
   "metadata": {
    "collapsed": true
   },
   "outputs": [],
   "source": [
    "def pearson_sim(common_reviews, reg=2):\n",
    "    \"\"\"\n",
    "    Pearson correlation coefficient between sets\n",
    "    of reviews for two beers, made by a common subset\n",
    "    of reviewers.\n",
    "    \n",
    "    `common_reviews` should be an N x 2 DataFrame where\n",
    "    N is the number of people who've reviewd both beers.\n",
    "    \"\"\"\n",
    "    n_common = len(common_reviews)\n",
    "    if n_common == 0:\n",
    "        return 0, 0\n",
    "    rho = pearsonr(common_reviews.iloc[:, 0], common_reviews.iloc[:, 1])[0]\n",
    "    similarity = (n_common * rho) / (n_common + reg)\n",
    "    return similarity, n_common"
   ]
  },
  {
   "cell_type": "code",
   "execution_count": 506,
   "metadata": {
    "collapsed": true
   },
   "outputs": [],
   "source": [
    "def beer_similarity(standardized, beer_1, beer_2, simfunc=simfunc, **kwargs):\n",
    "    \"\"\"\n",
    "    Compute the similarity between two beers.\n",
    "    \n",
    "    \"\"\"\n",
    "    # get common subset...\n",
    "    reviewers_1 = standardized.loc[beer_1].index\n",
    "    reviewers_2 = standardized.loc[beer_2].index\n",
    "    common_idx = reviewers_1 & reviewers_2  # set intersection\n",
    "\n",
    "    # slice the Multiindex, unstack to be N x 2\n",
    "    common_reviews = standardized.loc[[beer_1, beer_2], common_idx].unstack('beer_id')\n",
    "    # ... review similairty for subset\n",
    "    rho, n_common = simfunc(common_reviews, **kwargs)\n",
    "    return rho, n_common"
   ]
  },
  {
   "cell_type": "code",
   "execution_count": 508,
   "metadata": {
    "collapsed": false
   },
   "outputs": [
    {
     "data": {
      "text/plain": [
       "1264"
      ]
     },
     "execution_count": 508,
     "metadata": {},
     "output_type": "execute_result"
    }
   ],
   "source": [
    "beer_ids = s.index.levels[0]\n",
    "len(beer_ids)"
   ]
  },
  {
   "cell_type": "code",
   "execution_count": 509,
   "metadata": {
    "collapsed": false
   },
   "outputs": [
    {
     "name": "stdout",
     "output_type": "stream",
     "text": [
      "CPU times: user 51min 33s, sys: 50.4 s, total: 52min 24s\n",
      "Wall time: 53min 7s\n"
     ]
    }
   ],
   "source": [
    "%%time\n",
    "sims = []\n",
    "\n",
    "for i, beer_1 in enumerate(beer_ids):\n",
    "    for j, beer_2 in enumerate(beer_ids):\n",
    "        if j >= i:\n",
    "            continue\n",
    "        sim, n_common = beer_similarity(s, beer_1, beer_2)\n",
    "        sims.append((beer_1, beer_2, sim, n_common))\n",
    "        print((i, j), end='\\r')"
   ]
  },
  {
   "cell_type": "code",
   "execution_count": 510,
   "metadata": {
    "collapsed": false
   },
   "outputs": [],
   "source": [
    "sim = pd.DataFrame(sims, columns=['beer_1', 'beer_2', 'score', 'n_common'])\n",
    "sim.to_csv('beer_subset_similarity.csv', index=False)"
   ]
  },
  {
   "cell_type": "code",
   "execution_count": 531,
   "metadata": {
    "collapsed": false
   },
   "outputs": [
    {
     "data": {
      "text/plain": [
       "<matplotlib.axes._subplots.AxesSubplot at 0x12b97ce80>"
      ]
     },
     "execution_count": 531,
     "metadata": {},
     "output_type": "execute_result"
    },
    {
     "data": {
      "image/png": "[encoded data removed]",
      "text/plain": [
       "<matplotlib.figure.Figure at 0x1200686a0>"
      ]
     },
     "metadata": {},
     "output_type": "display_data"
    }
   ],
   "source": [
    "sns.kdeplot(sim[sim.score != 0].dropna().score)"
   ]
  },
  {
   "cell_type": "code",
   "execution_count": 525,
   "metadata": {
    "collapsed": false
   },
   "outputs": [
    {
     "data": {
      "text/html": [
       "<div>\n",
       "<table border=\"1\" class=\"dataframe\">\n",
       "  <thead>\n",
       "    <tr style=\"text-align: right;\">\n",
       "      <th>beer_id</th>\n",
       "      <th>5</th>\n",
       "      <th>36</th>\n",
       "    </tr>\n",
       "    <tr>\n",
       "      <th>profile_name</th>\n",
       "      <th></th>\n",
       "      <th></th>\n",
       "    </tr>\n",
       "  </thead>\n",
       "  <tbody>\n",
       "  </tbody>\n",
       "</table>\n",
       "</div>"
      ],
      "text/plain": [
       "Empty DataFrame\n",
       "Columns: [5, 36]\n",
       "Index: []"
      ]
     },
     "execution_count": 525,
     "metadata": {},
     "output_type": "execute_result"
    }
   ],
   "source": [
    "s.loc[[36, 5]].unstack(0).dropna()"
   ]
  },
  {
   "cell_type": "code",
   "execution_count": 339,
   "metadata": {
    "collapsed": true
   },
   "outputs": [],
   "source": [
    "sim = sim.set_index(['beer_1', 'beer_2']).score"
   ]
  },
  {
   "cell_type": "code",
   "execution_count": 351,
   "metadata": {
    "collapsed": false
   },
   "outputs": [
    {
     "data": {
      "text/plain": [
       "False"
      ]
     },
     "execution_count": 351,
     "metadata": {},
     "output_type": "execute_result"
    }
   ],
   "source": [
    "s.loc[6].isnull().any()"
   ]
  },
  {
   "cell_type": "code",
   "execution_count": 352,
   "metadata": {
    "collapsed": false
   },
   "outputs": [
    {
     "data": {
      "text/plain": [
       "(nan, 117)"
      ]
     },
     "execution_count": 352,
     "metadata": {},
     "output_type": "execute_result"
    }
   ],
   "source": [
    "beer_similarity(s, 10, 6)"
   ]
  },
  {
   "cell_type": "code",
   "execution_count": 354,
   "metadata": {
    "collapsed": true
   },
   "outputs": [],
   "source": [
    "    reviewers_1 = s.loc[beer_1].index\n",
    "    reviewers_2 = s.loc[beer_2].index\n",
    "    common = reviewers_1 & reviewers_2"
   ]
  },
  {
   "cell_type": "code",
   "execution_count": 359,
   "metadata": {
    "collapsed": true
   },
   "outputs": [],
   "source": [
    "deltas = s.sub(s.groupby(level='beer_id').mean(), level=0)\n",
    "# deltas = deltas.loc[[beer_1, beer_2]].unstack(level=0)\n",
    "# rho = pearsonr(deltas[beer_1], deltas[beer_2])[0]\n",
    "\n"
   ]
  },
  {
   "cell_type": "code",
   "execution_count": 365,
   "metadata": {
    "collapsed": false
   },
   "outputs": [],
   "source": [
    "sub = s.loc[:, common]"
   ]
  },
  {
   "cell_type": "code",
   "execution_count": 368,
   "metadata": {
    "collapsed": false
   },
   "outputs": [
    {
     "data": {
      "text/plain": [
       "beer_id  profile_name\n",
       "5        donkeyrunner    0\n",
       "6        donkeyrunner    0\n",
       "7        donkeyrunner    0\n",
       "10       donkeyrunner    0\n",
       "30       donkeyrunner    0\n",
       "                        ..\n",
       "53941    donkeyrunner    0\n",
       "54089    donkeyrunner    0\n",
       "54540    donkeyrunner    0\n",
       "54904    donkeyrunner    0\n",
       "55547    donkeyrunner    0\n",
       "Name: review_overall, dtype: float64"
      ]
     },
     "execution_count": 368,
     "metadata": {},
     "output_type": "execute_result"
    }
   ],
   "source": [
    "sub.sub(sub.groupby(level='beer_id').mean())"
   ]
  },
  {
   "cell_type": "code",
   "execution_count": 360,
   "metadata": {
    "collapsed": false
   },
   "outputs": [
    {
     "data": {
      "text/plain": [
       "beer_id  profile_name    \n",
       "5        Ek0nomik           -0.789474\n",
       "         HalfFull            0.710526\n",
       "         Jesstyr             0.210526\n",
       "         KTCamm              0.210526\n",
       "         KrisPaulk77         0.210526\n",
       "                               ...   \n",
       "63224    rtratzlaff          0.093750\n",
       "         ruckus232           0.093750\n",
       "         smibroncos         -0.406250\n",
       "         superdedooperboy    0.093750\n",
       "         tooyoung            0.593750\n",
       "Name: review_overall, dtype: float64"
      ]
     },
     "execution_count": 360,
     "metadata": {},
     "output_type": "execute_result"
    }
   ],
   "source": [
    "deltas"
   ]
  },
  {
   "cell_type": "code",
   "execution_count": 355,
   "metadata": {
    "collapsed": false
   },
   "outputs": [
    {
     "data": {
      "text/plain": [
       "Index(['donkeyrunner'], dtype='object', name='profile_name')"
      ]
     },
     "execution_count": 355,
     "metadata": {},
     "output_type": "execute_result"
    }
   ],
   "source": [
    "common"
   ]
  },
  {
   "cell_type": "code",
   "execution_count": 353,
   "metadata": {
    "collapsed": true
   },
   "outputs": [],
   "source": [
    "beer_1 = 10\n",
    "beer_2 = 6"
   ]
  },
  {
   "cell_type": "code",
   "execution_count": 344,
   "metadata": {
    "collapsed": false
   },
   "outputs": [
    {
     "data": {
      "text/plain": [
       "beer_2\n",
       "5    0.987730\n",
       "6         NaN\n",
       "7    0.989744\n",
       "Name: score, dtype: float64"
      ]
     },
     "execution_count": 344,
     "metadata": {},
     "output_type": "execute_result"
    }
   ],
   "source": [
    "sim.loc[10]"
   ]
  },
  {
   "cell_type": "code",
   "execution_count": 342,
   "metadata": {
    "collapsed": false
   },
   "outputs": [
    {
     "data": {
      "text/plain": [
       "beer_1  beer_2\n",
       "6       5         0.360911\n",
       "7       5         0.341912\n",
       "        6         0.690432\n",
       "10      5         0.987730\n",
       "        6              NaN\n",
       "                    ...   \n",
       "63224   55900     0.763249\n",
       "        56032    -0.976190\n",
       "        56068          NaN\n",
       "        56074          NaN\n",
       "        57341          NaN\n",
       "Name: score, dtype: float64"
      ]
     },
     "execution_count": 342,
     "metadata": {},
     "output_type": "execute_result"
    }
   ],
   "source": [
    "sim[sim != 0].dropn()"
   ]
  },
  {
   "cell_type": "code",
   "execution_count": 330,
   "metadata": {
    "collapsed": false
   },
   "outputs": [
    {
     "data": {
      "text/plain": [
       "<matplotlib.axes._subplots.AxesSubplot at 0x121b372e8>"
      ]
     },
     "execution_count": 330,
     "metadata": {},
     "output_type": "execute_result"
    },
    {
     "data": {
      "image/png": "[encoded data removed]",
      "text/plain": [
       "<matplotlib.figure.Figure at 0x122bbff28>"
      ]
     },
     "metadata": {},
     "output_type": "display_data"
    }
   ],
   "source": [
    "sns.kdeplot(sim, shade=True)"
   ]
  },
  {
   "cell_type": "code",
   "execution_count": 137,
   "metadata": {
    "collapsed": false
   },
   "outputs": [
    {
     "data": {
      "text/plain": [
       "1904     190\n",
       "355      186\n",
       "56973    170\n",
       "276      169\n",
       "92       168\n",
       "        ... \n",
       "16403     13\n",
       "4355      13\n",
       "1882      13\n",
       "3637      13\n",
       "16441     12\n",
       "dtype: int64"
      ]
     },
     "execution_count": 137,
     "metadata": {},
     "output_type": "execute_result"
    }
   ],
   "source": [
    "top.beer_id.value_counts()"
   ]
  },
  {
   "cell_type": "code",
   "execution_count": 140,
   "metadata": {
    "collapsed": false
   },
   "outputs": [
    {
     "data": {
      "text/plain": [
       "beer_2\n",
       "617     0.813125\n",
       "21      0.786629\n",
       "325     0.776602\n",
       "750     0.725000\n",
       "272     0.661823\n",
       "1796    0.650682\n",
       "982     0.647806\n",
       "1606    0.633333\n",
       "682     0.617175\n",
       "347     0.594322\n",
       "Name: score, dtype: float64"
      ]
     },
     "execution_count": 140,
     "metadata": {},
     "output_type": "execute_result"
    }
   ],
   "source": [
    "sim.loc[1904].nlargest(10)"
   ]
  },
  {
   "cell_type": "code",
   "execution_count": 142,
   "metadata": {
    "collapsed": false
   },
   "outputs": [
    {
     "data": {
      "text/html": [
       "<div>\n",
       "<table border=\"1\" class=\"dataframe\">\n",
       "  <thead>\n",
       "    <tr style=\"text-align: right;\">\n",
       "      <th></th>\n",
       "      <th>abv</th>\n",
       "      <th>beer_id</th>\n",
       "      <th>brewer_id</th>\n",
       "      <th>beer_name</th>\n",
       "      <th>beer_style</th>\n",
       "      <th>review_appearance</th>\n",
       "      <th>review_aroma</th>\n",
       "      <th>review_overall</th>\n",
       "      <th>review_palate</th>\n",
       "      <th>profile_name</th>\n",
       "      <th>review_taste</th>\n",
       "      <th>text</th>\n",
       "      <th>time</th>\n",
       "    </tr>\n",
       "  </thead>\n",
       "  <tbody>\n",
       "    <tr>\n",
       "      <th>304</th>\n",
       "      <td>6.5</td>\n",
       "      <td>617</td>\n",
       "      <td>195</td>\n",
       "      <td>Troubadour Blond Ale</td>\n",
       "      <td>Belgian Pale Ale</td>\n",
       "      <td>4.5</td>\n",
       "      <td>4.5</td>\n",
       "      <td>4.5</td>\n",
       "      <td>4.5</td>\n",
       "      <td>Jason</td>\n",
       "      <td>5.0</td>\n",
       "      <td>Presentation: Slender 11.2 oz brown euro styl...</td>\n",
       "      <td>2001-01-25 22:53:56</td>\n",
       "    </tr>\n",
       "    <tr>\n",
       "      <th>1553</th>\n",
       "      <td>6.8</td>\n",
       "      <td>1904</td>\n",
       "      <td>140</td>\n",
       "      <td>Sierra Nevada Celebration Ale</td>\n",
       "      <td>American IPA</td>\n",
       "      <td>4.0</td>\n",
       "      <td>4.0</td>\n",
       "      <td>4.0</td>\n",
       "      <td>4.0</td>\n",
       "      <td>mattmaples</td>\n",
       "      <td>5.0</td>\n",
       "      <td>This is a good winter / Stong ale. Real big f...</td>\n",
       "      <td>2001-11-03 17:56:36</td>\n",
       "    </tr>\n",
       "    <tr>\n",
       "      <th>1626</th>\n",
       "      <td>6.8</td>\n",
       "      <td>1904</td>\n",
       "      <td>140</td>\n",
       "      <td>Sierra Nevada Celebration Ale</td>\n",
       "      <td>American IPA</td>\n",
       "      <td>5.0</td>\n",
       "      <td>5.0</td>\n",
       "      <td>5.0</td>\n",
       "      <td>5.0</td>\n",
       "      <td>pbrian</td>\n",
       "      <td>5.0</td>\n",
       "      <td>This is why I drink beer.  All year long is m...</td>\n",
       "      <td>2001-11-08 10:46:56</td>\n",
       "    </tr>\n",
       "    <tr>\n",
       "      <th>1641</th>\n",
       "      <td>6.8</td>\n",
       "      <td>1904</td>\n",
       "      <td>140</td>\n",
       "      <td>Sierra Nevada Celebration Ale</td>\n",
       "      <td>American IPA</td>\n",
       "      <td>5.0</td>\n",
       "      <td>4.0</td>\n",
       "      <td>5.0</td>\n",
       "      <td>5.0</td>\n",
       "      <td>John</td>\n",
       "      <td>5.0</td>\n",
       "      <td>Every year when Nov. rolls around one of the ...</td>\n",
       "      <td>2001-11-09 09:27:55</td>\n",
       "    </tr>\n",
       "    <tr>\n",
       "      <th>1643</th>\n",
       "      <td>6.8</td>\n",
       "      <td>1904</td>\n",
       "      <td>140</td>\n",
       "      <td>Sierra Nevada Celebration Ale</td>\n",
       "      <td>American IPA</td>\n",
       "      <td>4.0</td>\n",
       "      <td>4.0</td>\n",
       "      <td>4.0</td>\n",
       "      <td>4.0</td>\n",
       "      <td>Brent</td>\n",
       "      <td>5.0</td>\n",
       "      <td>Huge and hoppy.  This year's edition seemed e...</td>\n",
       "      <td>2001-11-09 09:41:42</td>\n",
       "    </tr>\n",
       "    <tr>\n",
       "      <th>...</th>\n",
       "      <td>...</td>\n",
       "      <td>...</td>\n",
       "      <td>...</td>\n",
       "      <td>...</td>\n",
       "      <td>...</td>\n",
       "      <td>...</td>\n",
       "      <td>...</td>\n",
       "      <td>...</td>\n",
       "      <td>...</td>\n",
       "      <td>...</td>\n",
       "      <td>...</td>\n",
       "      <td>...</td>\n",
       "      <td>...</td>\n",
       "    </tr>\n",
       "    <tr>\n",
       "      <th>97006</th>\n",
       "      <td>6.8</td>\n",
       "      <td>1904</td>\n",
       "      <td>140</td>\n",
       "      <td>Sierra Nevada Celebration Ale</td>\n",
       "      <td>American IPA</td>\n",
       "      <td>4.5</td>\n",
       "      <td>4.5</td>\n",
       "      <td>4.0</td>\n",
       "      <td>4.5</td>\n",
       "      <td>bnuttz</td>\n",
       "      <td>4.0</td>\n",
       "      <td>2003 edition of the Celebration Ale, in a 12 ...</td>\n",
       "      <td>2004-04-12 05:03:42</td>\n",
       "    </tr>\n",
       "    <tr>\n",
       "      <th>97035</th>\n",
       "      <td>6.8</td>\n",
       "      <td>1904</td>\n",
       "      <td>140</td>\n",
       "      <td>Sierra Nevada Celebration Ale</td>\n",
       "      <td>American IPA</td>\n",
       "      <td>3.5</td>\n",
       "      <td>4.0</td>\n",
       "      <td>3.5</td>\n",
       "      <td>3.5</td>\n",
       "      <td>GreenCard</td>\n",
       "      <td>4.0</td>\n",
       "      <td>Appearance: hazelnut brown, good clarity, not...</td>\n",
       "      <td>2004-04-12 14:52:38</td>\n",
       "    </tr>\n",
       "    <tr>\n",
       "      <th>98329</th>\n",
       "      <td>6.8</td>\n",
       "      <td>1904</td>\n",
       "      <td>140</td>\n",
       "      <td>Sierra Nevada Celebration Ale</td>\n",
       "      <td>American IPA</td>\n",
       "      <td>4.0</td>\n",
       "      <td>4.0</td>\n",
       "      <td>4.0</td>\n",
       "      <td>4.0</td>\n",
       "      <td>longpondbeerman</td>\n",
       "      <td>4.5</td>\n",
       "      <td>The 2003 bottle edition pours a lovely, bubbl...</td>\n",
       "      <td>2004-04-19 21:18:56</td>\n",
       "    </tr>\n",
       "    <tr>\n",
       "      <th>99571</th>\n",
       "      <td>6.8</td>\n",
       "      <td>1904</td>\n",
       "      <td>140</td>\n",
       "      <td>Sierra Nevada Celebration Ale</td>\n",
       "      <td>American IPA</td>\n",
       "      <td>5.0</td>\n",
       "      <td>4.5</td>\n",
       "      <td>4.5</td>\n",
       "      <td>4.0</td>\n",
       "      <td>Joey7F</td>\n",
       "      <td>5.0</td>\n",
       "      <td>WOW!! I am so stoked! I just turned 21 (end o...</td>\n",
       "      <td>2004-04-26 21:52:09</td>\n",
       "    </tr>\n",
       "    <tr>\n",
       "      <th>99885</th>\n",
       "      <td>6.8</td>\n",
       "      <td>1904</td>\n",
       "      <td>140</td>\n",
       "      <td>Sierra Nevada Celebration Ale</td>\n",
       "      <td>American IPA</td>\n",
       "      <td>5.0</td>\n",
       "      <td>3.5</td>\n",
       "      <td>4.0</td>\n",
       "      <td>4.0</td>\n",
       "      <td>ClarkVV</td>\n",
       "      <td>4.0</td>\n",
       "      <td>01 in bottle(4.8 rating:4/5/5/5/5). Unbelieva...</td>\n",
       "      <td>2004-04-28 17:35:31</td>\n",
       "    </tr>\n",
       "  </tbody>\n",
       "</table>\n",
       "<p>344 rows × 13 columns</p>\n",
       "</div>"
      ],
      "text/plain": [
       "       abv  beer_id  brewer_id                      beer_name  \\\n",
       "304    6.5      617        195           Troubadour Blond Ale   \n",
       "1553   6.8     1904        140  Sierra Nevada Celebration Ale   \n",
       "1626   6.8     1904        140  Sierra Nevada Celebration Ale   \n",
       "1641   6.8     1904        140  Sierra Nevada Celebration Ale   \n",
       "1643   6.8     1904        140  Sierra Nevada Celebration Ale   \n",
       "...    ...      ...        ...                            ...   \n",
       "97006  6.8     1904        140  Sierra Nevada Celebration Ale   \n",
       "97035  6.8     1904        140  Sierra Nevada Celebration Ale   \n",
       "98329  6.8     1904        140  Sierra Nevada Celebration Ale   \n",
       "99571  6.8     1904        140  Sierra Nevada Celebration Ale   \n",
       "99885  6.8     1904        140  Sierra Nevada Celebration Ale   \n",
       "\n",
       "             beer_style  review_appearance  review_aroma  review_overall  \\\n",
       "304    Belgian Pale Ale                4.5           4.5             4.5   \n",
       "1553       American IPA                4.0           4.0             4.0   \n",
       "1626       American IPA                5.0           5.0             5.0   \n",
       "1641       American IPA                5.0           4.0             5.0   \n",
       "1643       American IPA                4.0           4.0             4.0   \n",
       "...                 ...                ...           ...             ...   \n",
       "97006      American IPA                4.5           4.5             4.0   \n",
       "97035      American IPA                3.5           4.0             3.5   \n",
       "98329      American IPA                4.0           4.0             4.0   \n",
       "99571      American IPA                5.0           4.5             4.5   \n",
       "99885      American IPA                5.0           3.5             4.0   \n",
       "\n",
       "       review_palate     profile_name  review_taste  \\\n",
       "304              4.5            Jason           5.0   \n",
       "1553             4.0       mattmaples           5.0   \n",
       "1626             5.0           pbrian           5.0   \n",
       "1641             5.0             John           5.0   \n",
       "1643             4.0            Brent           5.0   \n",
       "...              ...              ...           ...   \n",
       "97006            4.5           bnuttz           4.0   \n",
       "97035            3.5        GreenCard           4.0   \n",
       "98329            4.0  longpondbeerman           4.5   \n",
       "99571            4.0           Joey7F           5.0   \n",
       "99885            4.0          ClarkVV           4.0   \n",
       "\n",
       "                                                    text                time  \n",
       "304     Presentation: Slender 11.2 oz brown euro styl... 2001-01-25 22:53:56  \n",
       "1553    This is a good winter / Stong ale. Real big f... 2001-11-03 17:56:36  \n",
       "1626    This is why I drink beer.  All year long is m... 2001-11-08 10:46:56  \n",
       "1641    Every year when Nov. rolls around one of the ... 2001-11-09 09:27:55  \n",
       "1643    Huge and hoppy.  This year's edition seemed e... 2001-11-09 09:41:42  \n",
       "...                                                  ...                 ...  \n",
       "97006   2003 edition of the Celebration Ale, in a 12 ... 2004-04-12 05:03:42  \n",
       "97035   Appearance: hazelnut brown, good clarity, not... 2004-04-12 14:52:38  \n",
       "98329   The 2003 bottle edition pours a lovely, bubbl... 2004-04-19 21:18:56  \n",
       "99571   WOW!! I am so stoked! I just turned 21 (end o... 2004-04-26 21:52:09  \n",
       "99885   01 in bottle(4.8 rating:4/5/5/5/5). Unbelieva... 2004-04-28 17:35:31  \n",
       "\n",
       "[344 rows x 13 columns]"
      ]
     },
     "execution_count": 142,
     "metadata": {},
     "output_type": "execute_result"
    }
   ],
   "source": [
    "df[df.beer_id.isin([1904, 617])]"
   ]
  },
  {
   "cell_type": "markdown",
   "metadata": {},
   "source": [
    "TODO: person side.\n",
    "TODO: shrinkage"
   ]
  },
  {
   "cell_type": "code",
   "execution_count": 133,
   "metadata": {
    "collapsed": false
   },
   "outputs": [
    {
     "data": {
      "text/plain": [
       "beer_1  beer_2\n",
       "6       5         0.001360\n",
       "7       5         0.541936\n",
       "        6         0.365374\n",
       "9       5         0.645497\n",
       "        6         0.065164\n",
       "                    ...   \n",
       "56973   47785     0.327276\n",
       "        48050     0.075428\n",
       "        51300    -0.044591\n",
       "        51558    -0.239325\n",
       "        51959     0.141093\n",
       "Name: score, dtype: float64"
      ]
     },
     "execution_count": 133,
     "metadata": {},
     "output_type": "execute_result"
    }
   ],
   "source": [
    "sim"
   ]
  },
  {
   "cell_type": "code",
   "execution_count": 417,
   "metadata": {
    "collapsed": false
   },
   "outputs": [],
   "source": [
    "X = df.set_index(['brewer_id','profile_name'], append=True).sort_index().review_overall"
   ]
  },
  {
   "cell_type": "code",
   "execution_count": 418,
   "metadata": {
    "collapsed": false
   },
   "outputs": [
    {
     "data": {
      "text/plain": [
       "       brewer_id\n",
       "0      10325        1.5\n",
       "1      10325        3.0\n",
       "2      10325        3.0\n",
       "3      10325        3.0\n",
       "1534   16604        4.0\n",
       "                   ... \n",
       "98242  16536        4.5\n",
       "98269  16536        3.5\n",
       "98275  16536        3.5\n",
       "98681  183          2.5\n",
       "98871  183          3.0\n",
       "Name: review_overall, dtype: float64"
      ]
     },
     "execution_count": 418,
     "metadata": {},
     "output_type": "execute_result"
    }
   ],
   "source": [
    "X.loc[slice(None), slice(None), 'stcules']"
   ]
  },
  {
   "cell_type": "code",
   "execution_count": null,
   "metadata": {
    "collapsed": true
   },
   "outputs": [],
   "source": [
    "pearson_sim()"
   ]
  },
  {
   "cell_type": "code",
   "execution_count": null,
   "metadata": {
    "collapsed": true
   },
   "outputs": [],
   "source": []
  },
  {
   "cell_type": "code",
   "execution_count": 61,
   "metadata": {
    "collapsed": false
   },
   "outputs": [],
   "source": [
    "def hm(x, y, **kwargs):\n",
    "    ratings = np.arange(0, 5.5, .5)\n",
    "    grid = (pd.concat([x, y], axis=1)\n",
    "              .assign(n=1)\n",
    "              .groupby([x.name, y.name]).n.sum()\n",
    "              .unstack()\n",
    "              .reindex(index=ratings, columns=ratings)\n",
    "              .sort_index(ascending=False))\n",
    "    sns.heatmap(grid, ax=plt.gca(), cbar=False, square=True)"
   ]
  },
  {
   "cell_type": "code",
   "execution_count": 62,
   "metadata": {
    "collapsed": false
   },
   "outputs": [
    {
     "data": {
      "text/plain": [
       "<seaborn.axisgrid.PairGrid at 0x11a720b38>"
      ]
     },
     "execution_count": 62,
     "metadata": {},
     "output_type": "execute_result"
    },
    {
     "data": {
      "image/png": "[encoded data removed]",
      "text/plain": [
       "<matplotlib.figure.Figure at 0x11a720ac8>"
      ]
     },
     "metadata": {},
     "output_type": "display_data"
    }
   ],
   "source": [
    "g = sns.PairGrid(df[review_cols])\n",
    "g.map_upper(hm)\n",
    "g.map_diag(plt.hist)"
   ]
  },
  {
   "cell_type": "code",
   "execution_count": 131,
   "metadata": {
    "collapsed": false
   },
   "outputs": [
    {
     "data": {
      "text/html": [
       "<div>\n",
       "<table border=\"1\" class=\"dataframe\">\n",
       "  <thead>\n",
       "    <tr style=\"text-align: right;\">\n",
       "      <th></th>\n",
       "      <th>abv</th>\n",
       "      <th>beer_id</th>\n",
       "      <th>brewer_id</th>\n",
       "      <th>review_appearance</th>\n",
       "      <th>review_aroma</th>\n",
       "      <th>review_overall</th>\n",
       "      <th>review_palate</th>\n",
       "      <th>review_taste</th>\n",
       "    </tr>\n",
       "    <tr>\n",
       "      <th>brewer_id</th>\n",
       "      <th></th>\n",
       "      <th></th>\n",
       "      <th></th>\n",
       "      <th></th>\n",
       "      <th></th>\n",
       "      <th></th>\n",
       "      <th></th>\n",
       "      <th></th>\n",
       "    </tr>\n",
       "  </thead>\n",
       "  <tbody>\n",
       "    <tr>\n",
       "      <th>False</th>\n",
       "      <td>6.859996</td>\n",
       "      <td>23855.965276</td>\n",
       "      <td>3752.719210</td>\n",
       "      <td>3.753874</td>\n",
       "      <td>3.660576</td>\n",
       "      <td>3.733939</td>\n",
       "      <td>3.661322</td>\n",
       "      <td>3.697032</td>\n",
       "    </tr>\n",
       "    <tr>\n",
       "      <th>True</th>\n",
       "      <td>7.870967</td>\n",
       "      <td>28449.897874</td>\n",
       "      <td>3632.194312</td>\n",
       "      <td>4.054861</td>\n",
       "      <td>3.990960</td>\n",
       "      <td>4.029596</td>\n",
       "      <td>3.984891</td>\n",
       "      <td>4.066066</td>\n",
       "    </tr>\n",
       "  </tbody>\n",
       "</table>\n",
       "</div>"
      ],
      "text/plain": [
       "                abv       beer_id    brewer_id  review_appearance  \\\n",
       "brewer_id                                                           \n",
       "False      6.859996  23855.965276  3752.719210           3.753874   \n",
       "True       7.870967  28449.897874  3632.194312           4.054861   \n",
       "\n",
       "           review_aroma  review_overall  review_palate  review_taste  \n",
       "brewer_id                                                             \n",
       "False          3.660576        3.733939       3.661322      3.697032  \n",
       "True           3.990960        4.029596       3.984891      4.066066  "
      ]
     },
     "execution_count": 131,
     "metadata": {},
     "output_type": "execute_result"
    }
   ],
   "source": [
    "df.groupby(df.brewer_id.isin(ecclectic_brewers)).mean()"
   ]
  },
  {
   "cell_type": "code",
   "execution_count": 116,
   "metadata": {
    "collapsed": false
   },
   "outputs": [],
   "source": [
    "gr = df.groupby(['brewer_id', 'beer_style'])\n",
    "f = gr.review_overall.agg(['mean', 'count'])"
   ]
  },
  {
   "cell_type": "code",
   "execution_count": 118,
   "metadata": {
    "collapsed": false
   },
   "outputs": [
    {
     "data": {
      "text/html": [
       "<div>\n",
       "<table border=\"1\" class=\"dataframe\">\n",
       "  <thead>\n",
       "    <tr>\n",
       "      <th></th>\n",
       "      <th></th>\n",
       "      <th colspan=\"3\" halign=\"left\">abv</th>\n",
       "      <th colspan=\"3\" halign=\"left\">beer_id</th>\n",
       "      <th colspan=\"3\" halign=\"left\">review_appearance</th>\n",
       "      <th colspan=\"3\" halign=\"left\">review_aroma</th>\n",
       "      <th colspan=\"3\" halign=\"left\">review_overall</th>\n",
       "      <th colspan=\"3\" halign=\"left\">review_palate</th>\n",
       "      <th colspan=\"3\" halign=\"left\">review_taste</th>\n",
       "    </tr>\n",
       "    <tr>\n",
       "      <th></th>\n",
       "      <th></th>\n",
       "      <th>mean</th>\n",
       "      <th>std</th>\n",
       "      <th>count</th>\n",
       "      <th>mean</th>\n",
       "      <th>std</th>\n",
       "      <th>count</th>\n",
       "      <th>mean</th>\n",
       "      <th>std</th>\n",
       "      <th>count</th>\n",
       "      <th>mean</th>\n",
       "      <th>...</th>\n",
       "      <th>count</th>\n",
       "      <th>mean</th>\n",
       "      <th>std</th>\n",
       "      <th>count</th>\n",
       "      <th>mean</th>\n",
       "      <th>std</th>\n",
       "      <th>count</th>\n",
       "      <th>mean</th>\n",
       "      <th>std</th>\n",
       "      <th>count</th>\n",
       "    </tr>\n",
       "    <tr>\n",
       "      <th>brewer_id</th>\n",
       "      <th>beer_style</th>\n",
       "      <th></th>\n",
       "      <th></th>\n",
       "      <th></th>\n",
       "      <th></th>\n",
       "      <th></th>\n",
       "      <th></th>\n",
       "      <th></th>\n",
       "      <th></th>\n",
       "      <th></th>\n",
       "      <th></th>\n",
       "      <th></th>\n",
       "      <th></th>\n",
       "      <th></th>\n",
       "      <th></th>\n",
       "      <th></th>\n",
       "      <th></th>\n",
       "      <th></th>\n",
       "      <th></th>\n",
       "      <th></th>\n",
       "      <th></th>\n",
       "      <th></th>\n",
       "    </tr>\n",
       "  </thead>\n",
       "  <tbody>\n",
       "    <tr>\n",
       "      <th rowspan=\"4\" valign=\"top\">1</th>\n",
       "      <th>Baltic Porter</th>\n",
       "      <td>7.000000</td>\n",
       "      <td>0.000000e+00</td>\n",
       "      <td>4</td>\n",
       "      <td>67962.000000</td>\n",
       "      <td>0.000000</td>\n",
       "      <td>4</td>\n",
       "      <td>4.500000</td>\n",
       "      <td>0.408248</td>\n",
       "      <td>4</td>\n",
       "      <td>3.875000</td>\n",
       "      <td>...</td>\n",
       "      <td>4</td>\n",
       "      <td>4.125000</td>\n",
       "      <td>0.250000</td>\n",
       "      <td>4</td>\n",
       "      <td>4.250000</td>\n",
       "      <td>0.957427</td>\n",
       "      <td>4</td>\n",
       "      <td>4.250000</td>\n",
       "      <td>0.288675</td>\n",
       "      <td>4</td>\n",
       "    </tr>\n",
       "    <tr>\n",
       "      <th>Czech Pilsener</th>\n",
       "      <td>4.418392</td>\n",
       "      <td>1.339966e-01</td>\n",
       "      <td>1343</td>\n",
       "      <td>1623.051378</td>\n",
       "      <td>6429.660449</td>\n",
       "      <td>1343</td>\n",
       "      <td>3.681310</td>\n",
       "      <td>0.565791</td>\n",
       "      <td>1343</td>\n",
       "      <td>3.435220</td>\n",
       "      <td>...</td>\n",
       "      <td>1343</td>\n",
       "      <td>3.821668</td>\n",
       "      <td>0.725591</td>\n",
       "      <td>1343</td>\n",
       "      <td>3.626210</td>\n",
       "      <td>0.609388</td>\n",
       "      <td>1343</td>\n",
       "      <td>3.644825</td>\n",
       "      <td>0.653479</td>\n",
       "      <td>1343</td>\n",
       "    </tr>\n",
       "    <tr>\n",
       "      <th>Euro Strong Lager</th>\n",
       "      <td>6.700000</td>\n",
       "      <td>NaN</td>\n",
       "      <td>6</td>\n",
       "      <td>59315.000000</td>\n",
       "      <td>0.000000</td>\n",
       "      <td>6</td>\n",
       "      <td>3.333333</td>\n",
       "      <td>0.605530</td>\n",
       "      <td>6</td>\n",
       "      <td>3.333333</td>\n",
       "      <td>...</td>\n",
       "      <td>6</td>\n",
       "      <td>3.416667</td>\n",
       "      <td>0.376386</td>\n",
       "      <td>6</td>\n",
       "      <td>3.333333</td>\n",
       "      <td>0.408248</td>\n",
       "      <td>6</td>\n",
       "      <td>3.583333</td>\n",
       "      <td>0.584523</td>\n",
       "      <td>6</td>\n",
       "    </tr>\n",
       "    <tr>\n",
       "      <th>Vienna Lager</th>\n",
       "      <td>5.300000</td>\n",
       "      <td>0.000000e+00</td>\n",
       "      <td>4</td>\n",
       "      <td>69068.000000</td>\n",
       "      <td>0.000000</td>\n",
       "      <td>4</td>\n",
       "      <td>3.375000</td>\n",
       "      <td>0.478714</td>\n",
       "      <td>4</td>\n",
       "      <td>3.625000</td>\n",
       "      <td>...</td>\n",
       "      <td>4</td>\n",
       "      <td>3.625000</td>\n",
       "      <td>0.250000</td>\n",
       "      <td>4</td>\n",
       "      <td>3.750000</td>\n",
       "      <td>0.645497</td>\n",
       "      <td>4</td>\n",
       "      <td>3.500000</td>\n",
       "      <td>0.408248</td>\n",
       "      <td>4</td>\n",
       "    </tr>\n",
       "    <tr>\n",
       "      <th rowspan=\"8\" valign=\"top\">2</th>\n",
       "      <th>American Blonde Ale</th>\n",
       "      <td>NaN</td>\n",
       "      <td>NaN</td>\n",
       "      <td>0</td>\n",
       "      <td>7144.000000</td>\n",
       "      <td>0.000000</td>\n",
       "      <td>2</td>\n",
       "      <td>3.250000</td>\n",
       "      <td>0.353553</td>\n",
       "      <td>2</td>\n",
       "      <td>3.750000</td>\n",
       "      <td>...</td>\n",
       "      <td>2</td>\n",
       "      <td>3.750000</td>\n",
       "      <td>0.353553</td>\n",
       "      <td>2</td>\n",
       "      <td>3.500000</td>\n",
       "      <td>0.000000</td>\n",
       "      <td>2</td>\n",
       "      <td>3.500000</td>\n",
       "      <td>0.000000</td>\n",
       "      <td>2</td>\n",
       "    </tr>\n",
       "    <tr>\n",
       "      <th>American Dark Wheat Ale</th>\n",
       "      <td>NaN</td>\n",
       "      <td>NaN</td>\n",
       "      <td>0</td>\n",
       "      <td>6873.000000</td>\n",
       "      <td>0.000000</td>\n",
       "      <td>8</td>\n",
       "      <td>3.062500</td>\n",
       "      <td>0.562996</td>\n",
       "      <td>8</td>\n",
       "      <td>2.375000</td>\n",
       "      <td>...</td>\n",
       "      <td>8</td>\n",
       "      <td>2.187500</td>\n",
       "      <td>0.961305</td>\n",
       "      <td>8</td>\n",
       "      <td>2.187500</td>\n",
       "      <td>1.032940</td>\n",
       "      <td>8</td>\n",
       "      <td>2.125000</td>\n",
       "      <td>0.991031</td>\n",
       "      <td>8</td>\n",
       "    </tr>\n",
       "    <tr>\n",
       "      <th>American IPA</th>\n",
       "      <td>NaN</td>\n",
       "      <td>NaN</td>\n",
       "      <td>0</td>\n",
       "      <td>3.000000</td>\n",
       "      <td>0.000000</td>\n",
       "      <td>3</td>\n",
       "      <td>3.833333</td>\n",
       "      <td>0.288675</td>\n",
       "      <td>3</td>\n",
       "      <td>4.000000</td>\n",
       "      <td>...</td>\n",
       "      <td>3</td>\n",
       "      <td>4.166667</td>\n",
       "      <td>0.288675</td>\n",
       "      <td>3</td>\n",
       "      <td>4.166667</td>\n",
       "      <td>0.288675</td>\n",
       "      <td>3</td>\n",
       "      <td>4.166667</td>\n",
       "      <td>0.288675</td>\n",
       "      <td>3</td>\n",
       "    </tr>\n",
       "    <tr>\n",
       "      <th>American Pale Ale (APA)</th>\n",
       "      <td>NaN</td>\n",
       "      <td>NaN</td>\n",
       "      <td>0</td>\n",
       "      <td>7203.000000</td>\n",
       "      <td>0.000000</td>\n",
       "      <td>3</td>\n",
       "      <td>3.666667</td>\n",
       "      <td>0.763763</td>\n",
       "      <td>3</td>\n",
       "      <td>3.833333</td>\n",
       "      <td>...</td>\n",
       "      <td>3</td>\n",
       "      <td>4.000000</td>\n",
       "      <td>0.500000</td>\n",
       "      <td>3</td>\n",
       "      <td>3.833333</td>\n",
       "      <td>0.577350</td>\n",
       "      <td>3</td>\n",
       "      <td>3.833333</td>\n",
       "      <td>0.577350</td>\n",
       "      <td>3</td>\n",
       "    </tr>\n",
       "    <tr>\n",
       "      <th>American Pale Wheat Ale</th>\n",
       "      <td>NaN</td>\n",
       "      <td>NaN</td>\n",
       "      <td>0</td>\n",
       "      <td>7222.000000</td>\n",
       "      <td>0.000000</td>\n",
       "      <td>6</td>\n",
       "      <td>3.000000</td>\n",
       "      <td>0.948683</td>\n",
       "      <td>6</td>\n",
       "      <td>2.583333</td>\n",
       "      <td>...</td>\n",
       "      <td>6</td>\n",
       "      <td>3.083333</td>\n",
       "      <td>0.917424</td>\n",
       "      <td>6</td>\n",
       "      <td>3.083333</td>\n",
       "      <td>0.917424</td>\n",
       "      <td>6</td>\n",
       "      <td>2.666667</td>\n",
       "      <td>1.032796</td>\n",
       "      <td>6</td>\n",
       "    </tr>\n",
       "    <tr>\n",
       "      <th>American Porter</th>\n",
       "      <td>NaN</td>\n",
       "      <td>NaN</td>\n",
       "      <td>0</td>\n",
       "      <td>7220.000000</td>\n",
       "      <td>0.000000</td>\n",
       "      <td>6</td>\n",
       "      <td>3.166667</td>\n",
       "      <td>1.032796</td>\n",
       "      <td>6</td>\n",
       "      <td>3.250000</td>\n",
       "      <td>...</td>\n",
       "      <td>6</td>\n",
       "      <td>2.416667</td>\n",
       "      <td>1.200694</td>\n",
       "      <td>6</td>\n",
       "      <td>2.500000</td>\n",
       "      <td>1.140175</td>\n",
       "      <td>6</td>\n",
       "      <td>2.833333</td>\n",
       "      <td>0.930949</td>\n",
       "      <td>6</td>\n",
       "    </tr>\n",
       "    <tr>\n",
       "      <th>American Stout</th>\n",
       "      <td>NaN</td>\n",
       "      <td>NaN</td>\n",
       "      <td>0</td>\n",
       "      <td>4.000000</td>\n",
       "      <td>0.000000</td>\n",
       "      <td>10</td>\n",
       "      <td>3.950000</td>\n",
       "      <td>0.643342</td>\n",
       "      <td>10</td>\n",
       "      <td>3.800000</td>\n",
       "      <td>...</td>\n",
       "      <td>10</td>\n",
       "      <td>3.700000</td>\n",
       "      <td>0.674949</td>\n",
       "      <td>10</td>\n",
       "      <td>3.700000</td>\n",
       "      <td>0.752773</td>\n",
       "      <td>10</td>\n",
       "      <td>3.450000</td>\n",
       "      <td>0.831665</td>\n",
       "      <td>10</td>\n",
       "    </tr>\n",
       "    <tr>\n",
       "      <th>English Brown Ale</th>\n",
       "      <td>NaN</td>\n",
       "      <td>NaN</td>\n",
       "      <td>0</td>\n",
       "      <td>5491.000000</td>\n",
       "      <td>0.000000</td>\n",
       "      <td>2</td>\n",
       "      <td>3.500000</td>\n",
       "      <td>0.000000</td>\n",
       "      <td>2</td>\n",
       "      <td>3.500000</td>\n",
       "      <td>...</td>\n",
       "      <td>2</td>\n",
       "      <td>3.500000</td>\n",
       "      <td>0.000000</td>\n",
       "      <td>2</td>\n",
       "      <td>3.500000</td>\n",
       "      <td>0.000000</td>\n",
       "      <td>2</td>\n",
       "      <td>3.750000</td>\n",
       "      <td>0.353553</td>\n",
       "      <td>2</td>\n",
       "    </tr>\n",
       "    <tr>\n",
       "      <th rowspan=\"12\" valign=\"top\">5</th>\n",
       "      <th>American Amber / Red Ale</th>\n",
       "      <td>NaN</td>\n",
       "      <td>NaN</td>\n",
       "      <td>0</td>\n",
       "      <td>16014.000000</td>\n",
       "      <td>0.000000</td>\n",
       "      <td>17</td>\n",
       "      <td>3.705882</td>\n",
       "      <td>0.435130</td>\n",
       "      <td>17</td>\n",
       "      <td>3.647059</td>\n",
       "      <td>...</td>\n",
       "      <td>17</td>\n",
       "      <td>3.794118</td>\n",
       "      <td>0.435130</td>\n",
       "      <td>17</td>\n",
       "      <td>3.617647</td>\n",
       "      <td>0.451712</td>\n",
       "      <td>17</td>\n",
       "      <td>3.676471</td>\n",
       "      <td>0.430885</td>\n",
       "      <td>17</td>\n",
       "    </tr>\n",
       "    <tr>\n",
       "      <th>American Blonde Ale</th>\n",
       "      <td>4.600000</td>\n",
       "      <td>NaN</td>\n",
       "      <td>1</td>\n",
       "      <td>10723.000000</td>\n",
       "      <td>NaN</td>\n",
       "      <td>1</td>\n",
       "      <td>4.000000</td>\n",
       "      <td>NaN</td>\n",
       "      <td>1</td>\n",
       "      <td>4.000000</td>\n",
       "      <td>...</td>\n",
       "      <td>1</td>\n",
       "      <td>4.000000</td>\n",
       "      <td>NaN</td>\n",
       "      <td>1</td>\n",
       "      <td>4.000000</td>\n",
       "      <td>NaN</td>\n",
       "      <td>1</td>\n",
       "      <td>3.000000</td>\n",
       "      <td>NaN</td>\n",
       "      <td>1</td>\n",
       "    </tr>\n",
       "    <tr>\n",
       "      <th>American IPA</th>\n",
       "      <td>5.000000</td>\n",
       "      <td>0.000000e+00</td>\n",
       "      <td>84</td>\n",
       "      <td>15690.000000</td>\n",
       "      <td>0.000000</td>\n",
       "      <td>84</td>\n",
       "      <td>3.738095</td>\n",
       "      <td>0.481440</td>\n",
       "      <td>84</td>\n",
       "      <td>3.750000</td>\n",
       "      <td>...</td>\n",
       "      <td>84</td>\n",
       "      <td>3.702381</td>\n",
       "      <td>0.649926</td>\n",
       "      <td>84</td>\n",
       "      <td>3.648810</td>\n",
       "      <td>0.495642</td>\n",
       "      <td>84</td>\n",
       "      <td>3.672619</td>\n",
       "      <td>0.551526</td>\n",
       "      <td>84</td>\n",
       "    </tr>\n",
       "    <tr>\n",
       "      <th>American Pale Ale (APA)</th>\n",
       "      <td>5.126882</td>\n",
       "      <td>9.684118e-02</td>\n",
       "      <td>93</td>\n",
       "      <td>7844.980952</td>\n",
       "      <td>3106.760547</td>\n",
       "      <td>105</td>\n",
       "      <td>3.719048</td>\n",
       "      <td>0.504422</td>\n",
       "      <td>105</td>\n",
       "      <td>3.557143</td>\n",
       "      <td>...</td>\n",
       "      <td>105</td>\n",
       "      <td>3.766667</td>\n",
       "      <td>0.584523</td>\n",
       "      <td>105</td>\n",
       "      <td>3.480952</td>\n",
       "      <td>0.612073</td>\n",
       "      <td>105</td>\n",
       "      <td>3.628571</td>\n",
       "      <td>0.588465</td>\n",
       "      <td>105</td>\n",
       "    </tr>\n",
       "    <tr>\n",
       "      <th>English India Pale Ale (IPA)</th>\n",
       "      <td>4.200000</td>\n",
       "      <td>2.816263e-07</td>\n",
       "      <td>84</td>\n",
       "      <td>13.000000</td>\n",
       "      <td>0.000000</td>\n",
       "      <td>84</td>\n",
       "      <td>3.095238</td>\n",
       "      <td>0.623226</td>\n",
       "      <td>84</td>\n",
       "      <td>3.059524</td>\n",
       "      <td>...</td>\n",
       "      <td>84</td>\n",
       "      <td>3.250000</td>\n",
       "      <td>0.692037</td>\n",
       "      <td>84</td>\n",
       "      <td>3.101190</td>\n",
       "      <td>0.652981</td>\n",
       "      <td>84</td>\n",
       "      <td>3.029762</td>\n",
       "      <td>0.673738</td>\n",
       "      <td>84</td>\n",
       "    </tr>\n",
       "    <tr>\n",
       "      <th>English Porter</th>\n",
       "      <td>4.000000</td>\n",
       "      <td>0.000000e+00</td>\n",
       "      <td>121</td>\n",
       "      <td>1460.000000</td>\n",
       "      <td>0.000000</td>\n",
       "      <td>121</td>\n",
       "      <td>3.942149</td>\n",
       "      <td>0.492401</td>\n",
       "      <td>121</td>\n",
       "      <td>3.979339</td>\n",
       "      <td>...</td>\n",
       "      <td>121</td>\n",
       "      <td>4.053719</td>\n",
       "      <td>0.590909</td>\n",
       "      <td>121</td>\n",
       "      <td>3.785124</td>\n",
       "      <td>0.618555</td>\n",
       "      <td>121</td>\n",
       "      <td>4.008264</td>\n",
       "      <td>0.555216</td>\n",
       "      <td>121</td>\n",
       "    </tr>\n",
       "    <tr>\n",
       "      <th>Fruit / Vegetable Beer</th>\n",
       "      <td>NaN</td>\n",
       "      <td>NaN</td>\n",
       "      <td>0</td>\n",
       "      <td>18335.000000</td>\n",
       "      <td>NaN</td>\n",
       "      <td>1</td>\n",
       "      <td>4.000000</td>\n",
       "      <td>NaN</td>\n",
       "      <td>1</td>\n",
       "      <td>4.000000</td>\n",
       "      <td>...</td>\n",
       "      <td>1</td>\n",
       "      <td>3.000000</td>\n",
       "      <td>NaN</td>\n",
       "      <td>1</td>\n",
       "      <td>3.000000</td>\n",
       "      <td>NaN</td>\n",
       "      <td>1</td>\n",
       "      <td>3.000000</td>\n",
       "      <td>NaN</td>\n",
       "      <td>1</td>\n",
       "    </tr>\n",
       "    <tr>\n",
       "      <th>Hefeweizen</th>\n",
       "      <td>NaN</td>\n",
       "      <td>NaN</td>\n",
       "      <td>0</td>\n",
       "      <td>10544.281250</td>\n",
       "      <td>1815.619776</td>\n",
       "      <td>96</td>\n",
       "      <td>3.432292</td>\n",
       "      <td>0.526257</td>\n",
       "      <td>96</td>\n",
       "      <td>3.307292</td>\n",
       "      <td>...</td>\n",
       "      <td>96</td>\n",
       "      <td>3.411458</td>\n",
       "      <td>0.695833</td>\n",
       "      <td>96</td>\n",
       "      <td>3.197917</td>\n",
       "      <td>0.520522</td>\n",
       "      <td>96</td>\n",
       "      <td>3.223958</td>\n",
       "      <td>0.668344</td>\n",
       "      <td>96</td>\n",
       "    </tr>\n",
       "    <tr>\n",
       "      <th>Herbed / Spiced Beer</th>\n",
       "      <td>NaN</td>\n",
       "      <td>NaN</td>\n",
       "      <td>0</td>\n",
       "      <td>18338.000000</td>\n",
       "      <td>0.000000</td>\n",
       "      <td>2</td>\n",
       "      <td>3.000000</td>\n",
       "      <td>0.000000</td>\n",
       "      <td>2</td>\n",
       "      <td>3.750000</td>\n",
       "      <td>...</td>\n",
       "      <td>2</td>\n",
       "      <td>3.500000</td>\n",
       "      <td>0.000000</td>\n",
       "      <td>2</td>\n",
       "      <td>3.000000</td>\n",
       "      <td>0.707107</td>\n",
       "      <td>2</td>\n",
       "      <td>3.500000</td>\n",
       "      <td>0.000000</td>\n",
       "      <td>2</td>\n",
       "    </tr>\n",
       "    <tr>\n",
       "      <th>Russian Imperial Stout</th>\n",
       "      <td>6.000000</td>\n",
       "      <td>0.000000e+00</td>\n",
       "      <td>86</td>\n",
       "      <td>12.000000</td>\n",
       "      <td>0.000000</td>\n",
       "      <td>86</td>\n",
       "      <td>4.075581</td>\n",
       "      <td>0.528691</td>\n",
       "      <td>86</td>\n",
       "      <td>3.767442</td>\n",
       "      <td>...</td>\n",
       "      <td>86</td>\n",
       "      <td>3.709302</td>\n",
       "      <td>0.661838</td>\n",
       "      <td>86</td>\n",
       "      <td>3.534884</td>\n",
       "      <td>0.631481</td>\n",
       "      <td>86</td>\n",
       "      <td>3.686047</td>\n",
       "      <td>0.558604</td>\n",
       "      <td>86</td>\n",
       "    </tr>\n",
       "    <tr>\n",
       "      <th>Scottish Ale</th>\n",
       "      <td>4.700000</td>\n",
       "      <td>2.018952e-07</td>\n",
       "      <td>85</td>\n",
       "      <td>11.000000</td>\n",
       "      <td>0.000000</td>\n",
       "      <td>85</td>\n",
       "      <td>3.500000</td>\n",
       "      <td>0.449868</td>\n",
       "      <td>85</td>\n",
       "      <td>3.388235</td>\n",
       "      <td>...</td>\n",
       "      <td>85</td>\n",
       "      <td>3.394118</td>\n",
       "      <td>0.577835</td>\n",
       "      <td>85</td>\n",
       "      <td>3.235294</td>\n",
       "      <td>0.543294</td>\n",
       "      <td>85</td>\n",
       "      <td>3.270588</td>\n",
       "      <td>0.580194</td>\n",
       "      <td>85</td>\n",
       "    </tr>\n",
       "    <tr>\n",
       "      <th>Winter Warmer</th>\n",
       "      <td>NaN</td>\n",
       "      <td>NaN</td>\n",
       "      <td>0</td>\n",
       "      <td>11870.000000</td>\n",
       "      <td>0.000000</td>\n",
       "      <td>46</td>\n",
       "      <td>3.815217</td>\n",
       "      <td>0.385266</td>\n",
       "      <td>46</td>\n",
       "      <td>3.750000</td>\n",
       "      <td>...</td>\n",
       "      <td>46</td>\n",
       "      <td>3.815217</td>\n",
       "      <td>0.608812</td>\n",
       "      <td>46</td>\n",
       "      <td>3.673913</td>\n",
       "      <td>0.598307</td>\n",
       "      <td>46</td>\n",
       "      <td>3.793478</td>\n",
       "      <td>0.543406</td>\n",
       "      <td>46</td>\n",
       "    </tr>\n",
       "    <tr>\n",
       "      <th rowspan=\"6\" valign=\"top\">14</th>\n",
       "      <th>Altbier</th>\n",
       "      <td>4.900000</td>\n",
       "      <td>0.000000e+00</td>\n",
       "      <td>2</td>\n",
       "      <td>32486.000000</td>\n",
       "      <td>0.000000</td>\n",
       "      <td>2</td>\n",
       "      <td>4.250000</td>\n",
       "      <td>0.353553</td>\n",
       "      <td>2</td>\n",
       "      <td>4.000000</td>\n",
       "      <td>...</td>\n",
       "      <td>2</td>\n",
       "      <td>4.000000</td>\n",
       "      <td>0.000000</td>\n",
       "      <td>2</td>\n",
       "      <td>4.250000</td>\n",
       "      <td>1.060660</td>\n",
       "      <td>2</td>\n",
       "      <td>4.000000</td>\n",
       "      <td>0.000000</td>\n",
       "      <td>2</td>\n",
       "    </tr>\n",
       "    <tr>\n",
       "      <th>American Amber / Red Ale</th>\n",
       "      <td>4.919118</td>\n",
       "      <td>5.322927e-01</td>\n",
       "      <td>34</td>\n",
       "      <td>8888.411765</td>\n",
       "      <td>21979.500698</td>\n",
       "      <td>34</td>\n",
       "      <td>3.750000</td>\n",
       "      <td>0.540062</td>\n",
       "      <td>34</td>\n",
       "      <td>3.720588</td>\n",
       "      <td>...</td>\n",
       "      <td>34</td>\n",
       "      <td>3.735294</td>\n",
       "      <td>0.709623</td>\n",
       "      <td>34</td>\n",
       "      <td>3.632353</td>\n",
       "      <td>0.581388</td>\n",
       "      <td>34</td>\n",
       "      <td>3.750000</td>\n",
       "      <td>0.720374</td>\n",
       "      <td>34</td>\n",
       "    </tr>\n",
       "    <tr>\n",
       "      <th>American Barleywine</th>\n",
       "      <td>11.475610</td>\n",
       "      <td>1.090424e-01</td>\n",
       "      <td>41</td>\n",
       "      <td>3248.170732</td>\n",
       "      <td>12407.651571</td>\n",
       "      <td>41</td>\n",
       "      <td>4.048780</td>\n",
       "      <td>0.350087</td>\n",
       "      <td>41</td>\n",
       "      <td>4.256098</td>\n",
       "      <td>...</td>\n",
       "      <td>41</td>\n",
       "      <td>4.207317</td>\n",
       "      <td>0.417965</td>\n",
       "      <td>41</td>\n",
       "      <td>4.268293</td>\n",
       "      <td>0.355274</td>\n",
       "      <td>41</td>\n",
       "      <td>4.365854</td>\n",
       "      <td>0.418694</td>\n",
       "      <td>41</td>\n",
       "    </tr>\n",
       "    <tr>\n",
       "      <th>American Brown Ale</th>\n",
       "      <td>6.300000</td>\n",
       "      <td>9.733398e-08</td>\n",
       "      <td>3</td>\n",
       "      <td>26722.000000</td>\n",
       "      <td>0.000000</td>\n",
       "      <td>3</td>\n",
       "      <td>3.833333</td>\n",
       "      <td>0.288675</td>\n",
       "      <td>3</td>\n",
       "      <td>3.833333</td>\n",
       "      <td>...</td>\n",
       "      <td>3</td>\n",
       "      <td>4.333333</td>\n",
       "      <td>0.288675</td>\n",
       "      <td>3</td>\n",
       "      <td>4.166667</td>\n",
       "      <td>0.288675</td>\n",
       "      <td>3</td>\n",
       "      <td>4.333333</td>\n",
       "      <td>0.288675</td>\n",
       "      <td>3</td>\n",
       "    </tr>\n",
       "    <tr>\n",
       "      <th>American Double / Imperial IPA</th>\n",
       "      <td>9.000000</td>\n",
       "      <td>0.000000e+00</td>\n",
       "      <td>32</td>\n",
       "      <td>13816.000000</td>\n",
       "      <td>0.000000</td>\n",
       "      <td>32</td>\n",
       "      <td>4.062500</td>\n",
       "      <td>0.353553</td>\n",
       "      <td>32</td>\n",
       "      <td>4.203125</td>\n",
       "      <td>...</td>\n",
       "      <td>32</td>\n",
       "      <td>4.078125</td>\n",
       "      <td>0.708353</td>\n",
       "      <td>32</td>\n",
       "      <td>4.078125</td>\n",
       "      <td>0.610518</td>\n",
       "      <td>32</td>\n",
       "      <td>4.234375</td>\n",
       "      <td>0.647382</td>\n",
       "      <td>32</td>\n",
       "    </tr>\n",
       "    <tr>\n",
       "      <th>American IPA</th>\n",
       "      <td>6.579592</td>\n",
       "      <td>3.906007e-01</td>\n",
       "      <td>98</td>\n",
       "      <td>24052.382353</td>\n",
       "      <td>24468.513285</td>\n",
       "      <td>102</td>\n",
       "      <td>4.058824</td>\n",
       "      <td>0.374259</td>\n",
       "      <td>102</td>\n",
       "      <td>4.014706</td>\n",
       "      <td>...</td>\n",
       "      <td>102</td>\n",
       "      <td>4.142157</td>\n",
       "      <td>0.430159</td>\n",
       "      <td>102</td>\n",
       "      <td>4.029412</td>\n",
       "      <td>0.357546</td>\n",
       "      <td>102</td>\n",
       "      <td>4.147059</td>\n",
       "      <td>0.389136</td>\n",
       "      <td>102</td>\n",
       "    </tr>\n",
       "    <tr>\n",
       "      <th>...</th>\n",
       "      <th>...</th>\n",
       "      <td>...</td>\n",
       "      <td>...</td>\n",
       "      <td>...</td>\n",
       "      <td>...</td>\n",
       "      <td>...</td>\n",
       "      <td>...</td>\n",
       "      <td>...</td>\n",
       "      <td>...</td>\n",
       "      <td>...</td>\n",
       "      <td>...</td>\n",
       "      <td>...</td>\n",
       "      <td>...</td>\n",
       "      <td>...</td>\n",
       "      <td>...</td>\n",
       "      <td>...</td>\n",
       "      <td>...</td>\n",
       "      <td>...</td>\n",
       "      <td>...</td>\n",
       "      <td>...</td>\n",
       "      <td>...</td>\n",
       "      <td>...</td>\n",
       "    </tr>\n",
       "    <tr>\n",
       "      <th>26946</th>\n",
       "      <th>American Malt Liquor</th>\n",
       "      <td>7.000000</td>\n",
       "      <td>0.000000e+00</td>\n",
       "      <td>8</td>\n",
       "      <td>74145.000000</td>\n",
       "      <td>0.000000</td>\n",
       "      <td>8</td>\n",
       "      <td>3.062500</td>\n",
       "      <td>0.495516</td>\n",
       "      <td>8</td>\n",
       "      <td>2.875000</td>\n",
       "      <td>...</td>\n",
       "      <td>8</td>\n",
       "      <td>3.125000</td>\n",
       "      <td>0.353553</td>\n",
       "      <td>8</td>\n",
       "      <td>3.187500</td>\n",
       "      <td>0.593867</td>\n",
       "      <td>8</td>\n",
       "      <td>2.750000</td>\n",
       "      <td>0.597614</td>\n",
       "      <td>8</td>\n",
       "    </tr>\n",
       "    <tr>\n",
       "      <th>26983</th>\n",
       "      <th>English Porter</th>\n",
       "      <td>4.800000</td>\n",
       "      <td>NaN</td>\n",
       "      <td>1</td>\n",
       "      <td>75708.000000</td>\n",
       "      <td>NaN</td>\n",
       "      <td>1</td>\n",
       "      <td>3.500000</td>\n",
       "      <td>NaN</td>\n",
       "      <td>1</td>\n",
       "      <td>3.500000</td>\n",
       "      <td>...</td>\n",
       "      <td>1</td>\n",
       "      <td>3.500000</td>\n",
       "      <td>NaN</td>\n",
       "      <td>1</td>\n",
       "      <td>3.500000</td>\n",
       "      <td>NaN</td>\n",
       "      <td>1</td>\n",
       "      <td>3.500000</td>\n",
       "      <td>NaN</td>\n",
       "      <td>1</td>\n",
       "    </tr>\n",
       "    <tr>\n",
       "      <th rowspan=\"7\" valign=\"top\">26990</th>\n",
       "      <th>American Amber / Red Ale</th>\n",
       "      <td>5.000000</td>\n",
       "      <td>0.000000e+00</td>\n",
       "      <td>3</td>\n",
       "      <td>74676.000000</td>\n",
       "      <td>0.000000</td>\n",
       "      <td>3</td>\n",
       "      <td>4.000000</td>\n",
       "      <td>0.500000</td>\n",
       "      <td>3</td>\n",
       "      <td>4.166667</td>\n",
       "      <td>...</td>\n",
       "      <td>3</td>\n",
       "      <td>4.166667</td>\n",
       "      <td>0.288675</td>\n",
       "      <td>3</td>\n",
       "      <td>4.333333</td>\n",
       "      <td>0.577350</td>\n",
       "      <td>3</td>\n",
       "      <td>4.166667</td>\n",
       "      <td>0.288675</td>\n",
       "      <td>3</td>\n",
       "    </tr>\n",
       "    <tr>\n",
       "      <th>American Black Ale</th>\n",
       "      <td>10.000000</td>\n",
       "      <td>NaN</td>\n",
       "      <td>1</td>\n",
       "      <td>74672.000000</td>\n",
       "      <td>NaN</td>\n",
       "      <td>1</td>\n",
       "      <td>4.500000</td>\n",
       "      <td>NaN</td>\n",
       "      <td>1</td>\n",
       "      <td>4.000000</td>\n",
       "      <td>...</td>\n",
       "      <td>1</td>\n",
       "      <td>4.000000</td>\n",
       "      <td>NaN</td>\n",
       "      <td>1</td>\n",
       "      <td>4.000000</td>\n",
       "      <td>NaN</td>\n",
       "      <td>1</td>\n",
       "      <td>4.000000</td>\n",
       "      <td>NaN</td>\n",
       "      <td>1</td>\n",
       "    </tr>\n",
       "    <tr>\n",
       "      <th>American Double / Imperial IPA</th>\n",
       "      <td>8.850000</td>\n",
       "      <td>0.000000e+00</td>\n",
       "      <td>4</td>\n",
       "      <td>74683.000000</td>\n",
       "      <td>0.000000</td>\n",
       "      <td>4</td>\n",
       "      <td>4.500000</td>\n",
       "      <td>0.000000</td>\n",
       "      <td>4</td>\n",
       "      <td>4.000000</td>\n",
       "      <td>...</td>\n",
       "      <td>4</td>\n",
       "      <td>4.125000</td>\n",
       "      <td>0.250000</td>\n",
       "      <td>4</td>\n",
       "      <td>4.125000</td>\n",
       "      <td>0.250000</td>\n",
       "      <td>4</td>\n",
       "      <td>4.125000</td>\n",
       "      <td>0.250000</td>\n",
       "      <td>4</td>\n",
       "    </tr>\n",
       "    <tr>\n",
       "      <th>American IPA</th>\n",
       "      <td>7.200000</td>\n",
       "      <td>0.000000e+00</td>\n",
       "      <td>2</td>\n",
       "      <td>75898.000000</td>\n",
       "      <td>0.000000</td>\n",
       "      <td>2</td>\n",
       "      <td>4.250000</td>\n",
       "      <td>0.353553</td>\n",
       "      <td>2</td>\n",
       "      <td>4.750000</td>\n",
       "      <td>...</td>\n",
       "      <td>2</td>\n",
       "      <td>4.750000</td>\n",
       "      <td>0.353553</td>\n",
       "      <td>2</td>\n",
       "      <td>4.500000</td>\n",
       "      <td>0.000000</td>\n",
       "      <td>2</td>\n",
       "      <td>4.750000</td>\n",
       "      <td>0.353553</td>\n",
       "      <td>2</td>\n",
       "    </tr>\n",
       "    <tr>\n",
       "      <th>American Pale Ale (APA)</th>\n",
       "      <td>5.500000</td>\n",
       "      <td>NaN</td>\n",
       "      <td>1</td>\n",
       "      <td>76766.000000</td>\n",
       "      <td>NaN</td>\n",
       "      <td>1</td>\n",
       "      <td>3.500000</td>\n",
       "      <td>NaN</td>\n",
       "      <td>1</td>\n",
       "      <td>3.500000</td>\n",
       "      <td>...</td>\n",
       "      <td>1</td>\n",
       "      <td>3.500000</td>\n",
       "      <td>NaN</td>\n",
       "      <td>1</td>\n",
       "      <td>3.500000</td>\n",
       "      <td>NaN</td>\n",
       "      <td>1</td>\n",
       "      <td>4.000000</td>\n",
       "      <td>NaN</td>\n",
       "      <td>1</td>\n",
       "    </tr>\n",
       "    <tr>\n",
       "      <th>American Porter</th>\n",
       "      <td>6.200000</td>\n",
       "      <td>0.000000e+00</td>\n",
       "      <td>6</td>\n",
       "      <td>74675.000000</td>\n",
       "      <td>0.000000</td>\n",
       "      <td>6</td>\n",
       "      <td>4.166667</td>\n",
       "      <td>0.605530</td>\n",
       "      <td>6</td>\n",
       "      <td>4.000000</td>\n",
       "      <td>...</td>\n",
       "      <td>6</td>\n",
       "      <td>4.166667</td>\n",
       "      <td>0.258199</td>\n",
       "      <td>6</td>\n",
       "      <td>4.166667</td>\n",
       "      <td>0.258199</td>\n",
       "      <td>6</td>\n",
       "      <td>4.416667</td>\n",
       "      <td>0.204124</td>\n",
       "      <td>6</td>\n",
       "    </tr>\n",
       "    <tr>\n",
       "      <th>Winter Warmer</th>\n",
       "      <td>5.850000</td>\n",
       "      <td>1.909188e+00</td>\n",
       "      <td>2</td>\n",
       "      <td>76588.000000</td>\n",
       "      <td>113.137085</td>\n",
       "      <td>2</td>\n",
       "      <td>3.750000</td>\n",
       "      <td>0.353553</td>\n",
       "      <td>2</td>\n",
       "      <td>4.250000</td>\n",
       "      <td>...</td>\n",
       "      <td>2</td>\n",
       "      <td>4.000000</td>\n",
       "      <td>0.000000</td>\n",
       "      <td>2</td>\n",
       "      <td>4.250000</td>\n",
       "      <td>0.353553</td>\n",
       "      <td>2</td>\n",
       "      <td>4.000000</td>\n",
       "      <td>0.000000</td>\n",
       "      <td>2</td>\n",
       "    </tr>\n",
       "    <tr>\n",
       "      <th rowspan=\"5\" valign=\"top\">27021</th>\n",
       "      <th>American Amber / Red Ale</th>\n",
       "      <td>NaN</td>\n",
       "      <td>NaN</td>\n",
       "      <td>0</td>\n",
       "      <td>75083.000000</td>\n",
       "      <td>0.000000</td>\n",
       "      <td>2</td>\n",
       "      <td>3.500000</td>\n",
       "      <td>0.000000</td>\n",
       "      <td>2</td>\n",
       "      <td>3.750000</td>\n",
       "      <td>...</td>\n",
       "      <td>2</td>\n",
       "      <td>3.750000</td>\n",
       "      <td>0.353553</td>\n",
       "      <td>2</td>\n",
       "      <td>3.750000</td>\n",
       "      <td>0.353553</td>\n",
       "      <td>2</td>\n",
       "      <td>3.750000</td>\n",
       "      <td>0.353553</td>\n",
       "      <td>2</td>\n",
       "    </tr>\n",
       "    <tr>\n",
       "      <th>American Blonde Ale</th>\n",
       "      <td>NaN</td>\n",
       "      <td>NaN</td>\n",
       "      <td>0</td>\n",
       "      <td>75805.000000</td>\n",
       "      <td>0.000000</td>\n",
       "      <td>2</td>\n",
       "      <td>3.750000</td>\n",
       "      <td>0.353553</td>\n",
       "      <td>2</td>\n",
       "      <td>3.750000</td>\n",
       "      <td>...</td>\n",
       "      <td>2</td>\n",
       "      <td>4.250000</td>\n",
       "      <td>0.353553</td>\n",
       "      <td>2</td>\n",
       "      <td>4.250000</td>\n",
       "      <td>0.353553</td>\n",
       "      <td>2</td>\n",
       "      <td>3.750000</td>\n",
       "      <td>0.353553</td>\n",
       "      <td>2</td>\n",
       "    </tr>\n",
       "    <tr>\n",
       "      <th>American IPA</th>\n",
       "      <td>NaN</td>\n",
       "      <td>NaN</td>\n",
       "      <td>0</td>\n",
       "      <td>75082.000000</td>\n",
       "      <td>0.000000</td>\n",
       "      <td>4</td>\n",
       "      <td>4.250000</td>\n",
       "      <td>0.645497</td>\n",
       "      <td>4</td>\n",
       "      <td>4.250000</td>\n",
       "      <td>...</td>\n",
       "      <td>4</td>\n",
       "      <td>4.125000</td>\n",
       "      <td>0.250000</td>\n",
       "      <td>4</td>\n",
       "      <td>4.125000</td>\n",
       "      <td>0.250000</td>\n",
       "      <td>4</td>\n",
       "      <td>4.375000</td>\n",
       "      <td>0.478714</td>\n",
       "      <td>4</td>\n",
       "    </tr>\n",
       "    <tr>\n",
       "      <th>American Porter</th>\n",
       "      <td>6.900000</td>\n",
       "      <td>NaN</td>\n",
       "      <td>1</td>\n",
       "      <td>77198.000000</td>\n",
       "      <td>NaN</td>\n",
       "      <td>1</td>\n",
       "      <td>4.000000</td>\n",
       "      <td>NaN</td>\n",
       "      <td>1</td>\n",
       "      <td>4.000000</td>\n",
       "      <td>...</td>\n",
       "      <td>1</td>\n",
       "      <td>4.000000</td>\n",
       "      <td>NaN</td>\n",
       "      <td>1</td>\n",
       "      <td>4.000000</td>\n",
       "      <td>NaN</td>\n",
       "      <td>1</td>\n",
       "      <td>4.000000</td>\n",
       "      <td>NaN</td>\n",
       "      <td>1</td>\n",
       "    </tr>\n",
       "    <tr>\n",
       "      <th>Tripel</th>\n",
       "      <td>8.900000</td>\n",
       "      <td>NaN</td>\n",
       "      <td>1</td>\n",
       "      <td>77199.000000</td>\n",
       "      <td>NaN</td>\n",
       "      <td>1</td>\n",
       "      <td>4.000000</td>\n",
       "      <td>NaN</td>\n",
       "      <td>1</td>\n",
       "      <td>4.000000</td>\n",
       "      <td>...</td>\n",
       "      <td>1</td>\n",
       "      <td>3.500000</td>\n",
       "      <td>NaN</td>\n",
       "      <td>1</td>\n",
       "      <td>3.500000</td>\n",
       "      <td>NaN</td>\n",
       "      <td>1</td>\n",
       "      <td>4.000000</td>\n",
       "      <td>NaN</td>\n",
       "      <td>1</td>\n",
       "    </tr>\n",
       "    <tr>\n",
       "      <th>27079</th>\n",
       "      <th>American Blonde Ale</th>\n",
       "      <td>5.500000</td>\n",
       "      <td>NaN</td>\n",
       "      <td>1</td>\n",
       "      <td>74870.000000</td>\n",
       "      <td>NaN</td>\n",
       "      <td>1</td>\n",
       "      <td>3.000000</td>\n",
       "      <td>NaN</td>\n",
       "      <td>1</td>\n",
       "      <td>3.500000</td>\n",
       "      <td>...</td>\n",
       "      <td>1</td>\n",
       "      <td>4.000000</td>\n",
       "      <td>NaN</td>\n",
       "      <td>1</td>\n",
       "      <td>4.000000</td>\n",
       "      <td>NaN</td>\n",
       "      <td>1</td>\n",
       "      <td>4.000000</td>\n",
       "      <td>NaN</td>\n",
       "      <td>1</td>\n",
       "    </tr>\n",
       "    <tr>\n",
       "      <th>27080</th>\n",
       "      <th>Scottish Ale</th>\n",
       "      <td>3.900000</td>\n",
       "      <td>0.000000e+00</td>\n",
       "      <td>2</td>\n",
       "      <td>75185.000000</td>\n",
       "      <td>0.000000</td>\n",
       "      <td>2</td>\n",
       "      <td>3.750000</td>\n",
       "      <td>0.353553</td>\n",
       "      <td>2</td>\n",
       "      <td>3.250000</td>\n",
       "      <td>...</td>\n",
       "      <td>2</td>\n",
       "      <td>3.500000</td>\n",
       "      <td>0.000000</td>\n",
       "      <td>2</td>\n",
       "      <td>3.750000</td>\n",
       "      <td>0.353553</td>\n",
       "      <td>2</td>\n",
       "      <td>3.500000</td>\n",
       "      <td>0.000000</td>\n",
       "      <td>2</td>\n",
       "    </tr>\n",
       "    <tr>\n",
       "      <th>27133</th>\n",
       "      <th>American IPA</th>\n",
       "      <td>5.900000</td>\n",
       "      <td>NaN</td>\n",
       "      <td>1</td>\n",
       "      <td>75063.000000</td>\n",
       "      <td>NaN</td>\n",
       "      <td>1</td>\n",
       "      <td>4.000000</td>\n",
       "      <td>NaN</td>\n",
       "      <td>1</td>\n",
       "      <td>3.000000</td>\n",
       "      <td>...</td>\n",
       "      <td>1</td>\n",
       "      <td>4.000000</td>\n",
       "      <td>NaN</td>\n",
       "      <td>1</td>\n",
       "      <td>4.000000</td>\n",
       "      <td>NaN</td>\n",
       "      <td>1</td>\n",
       "      <td>4.000000</td>\n",
       "      <td>NaN</td>\n",
       "      <td>1</td>\n",
       "    </tr>\n",
       "    <tr>\n",
       "      <th>27136</th>\n",
       "      <th>American Pale Ale (APA)</th>\n",
       "      <td>4.800000</td>\n",
       "      <td>0.000000e+00</td>\n",
       "      <td>2</td>\n",
       "      <td>74980.000000</td>\n",
       "      <td>0.000000</td>\n",
       "      <td>2</td>\n",
       "      <td>3.250000</td>\n",
       "      <td>0.353553</td>\n",
       "      <td>2</td>\n",
       "      <td>3.250000</td>\n",
       "      <td>...</td>\n",
       "      <td>2</td>\n",
       "      <td>3.500000</td>\n",
       "      <td>0.000000</td>\n",
       "      <td>2</td>\n",
       "      <td>3.750000</td>\n",
       "      <td>0.353553</td>\n",
       "      <td>2</td>\n",
       "      <td>3.500000</td>\n",
       "      <td>0.000000</td>\n",
       "      <td>2</td>\n",
       "    </tr>\n",
       "    <tr>\n",
       "      <th>27361</th>\n",
       "      <th>English Bitter</th>\n",
       "      <td>3.900000</td>\n",
       "      <td>NaN</td>\n",
       "      <td>1</td>\n",
       "      <td>75529.000000</td>\n",
       "      <td>NaN</td>\n",
       "      <td>1</td>\n",
       "      <td>3.500000</td>\n",
       "      <td>NaN</td>\n",
       "      <td>1</td>\n",
       "      <td>3.000000</td>\n",
       "      <td>...</td>\n",
       "      <td>1</td>\n",
       "      <td>3.500000</td>\n",
       "      <td>NaN</td>\n",
       "      <td>1</td>\n",
       "      <td>3.500000</td>\n",
       "      <td>NaN</td>\n",
       "      <td>1</td>\n",
       "      <td>3.000000</td>\n",
       "      <td>NaN</td>\n",
       "      <td>1</td>\n",
       "    </tr>\n",
       "    <tr>\n",
       "      <th rowspan=\"8\" valign=\"top\">27632</th>\n",
       "      <th>American Amber / Red Ale</th>\n",
       "      <td>6.900000</td>\n",
       "      <td>9.899495e-01</td>\n",
       "      <td>2</td>\n",
       "      <td>75761.000000</td>\n",
       "      <td>1.414214</td>\n",
       "      <td>2</td>\n",
       "      <td>4.000000</td>\n",
       "      <td>0.000000</td>\n",
       "      <td>2</td>\n",
       "      <td>4.000000</td>\n",
       "      <td>...</td>\n",
       "      <td>2</td>\n",
       "      <td>4.000000</td>\n",
       "      <td>0.000000</td>\n",
       "      <td>2</td>\n",
       "      <td>4.000000</td>\n",
       "      <td>0.000000</td>\n",
       "      <td>2</td>\n",
       "      <td>4.000000</td>\n",
       "      <td>0.000000</td>\n",
       "      <td>2</td>\n",
       "    </tr>\n",
       "    <tr>\n",
       "      <th>American Blonde Ale</th>\n",
       "      <td>4.100000</td>\n",
       "      <td>NaN</td>\n",
       "      <td>1</td>\n",
       "      <td>75755.000000</td>\n",
       "      <td>NaN</td>\n",
       "      <td>1</td>\n",
       "      <td>3.000000</td>\n",
       "      <td>NaN</td>\n",
       "      <td>1</td>\n",
       "      <td>3.000000</td>\n",
       "      <td>...</td>\n",
       "      <td>1</td>\n",
       "      <td>3.000000</td>\n",
       "      <td>NaN</td>\n",
       "      <td>1</td>\n",
       "      <td>3.000000</td>\n",
       "      <td>NaN</td>\n",
       "      <td>1</td>\n",
       "      <td>3.000000</td>\n",
       "      <td>NaN</td>\n",
       "      <td>1</td>\n",
       "    </tr>\n",
       "    <tr>\n",
       "      <th>American IPA</th>\n",
       "      <td>6.600000</td>\n",
       "      <td>NaN</td>\n",
       "      <td>1</td>\n",
       "      <td>75759.000000</td>\n",
       "      <td>NaN</td>\n",
       "      <td>1</td>\n",
       "      <td>4.000000</td>\n",
       "      <td>NaN</td>\n",
       "      <td>1</td>\n",
       "      <td>4.500000</td>\n",
       "      <td>...</td>\n",
       "      <td>1</td>\n",
       "      <td>4.000000</td>\n",
       "      <td>NaN</td>\n",
       "      <td>1</td>\n",
       "      <td>4.000000</td>\n",
       "      <td>NaN</td>\n",
       "      <td>1</td>\n",
       "      <td>4.000000</td>\n",
       "      <td>NaN</td>\n",
       "      <td>1</td>\n",
       "    </tr>\n",
       "    <tr>\n",
       "      <th>American Pale Ale (APA)</th>\n",
       "      <td>5.200000</td>\n",
       "      <td>NaN</td>\n",
       "      <td>1</td>\n",
       "      <td>75757.000000</td>\n",
       "      <td>NaN</td>\n",
       "      <td>1</td>\n",
       "      <td>3.000000</td>\n",
       "      <td>NaN</td>\n",
       "      <td>1</td>\n",
       "      <td>3.000000</td>\n",
       "      <td>...</td>\n",
       "      <td>1</td>\n",
       "      <td>3.000000</td>\n",
       "      <td>NaN</td>\n",
       "      <td>1</td>\n",
       "      <td>3.000000</td>\n",
       "      <td>NaN</td>\n",
       "      <td>1</td>\n",
       "      <td>3.000000</td>\n",
       "      <td>NaN</td>\n",
       "      <td>1</td>\n",
       "    </tr>\n",
       "    <tr>\n",
       "      <th>Baltic Porter</th>\n",
       "      <td>6.400000</td>\n",
       "      <td>NaN</td>\n",
       "      <td>1</td>\n",
       "      <td>75763.000000</td>\n",
       "      <td>NaN</td>\n",
       "      <td>1</td>\n",
       "      <td>4.000000</td>\n",
       "      <td>NaN</td>\n",
       "      <td>1</td>\n",
       "      <td>4.000000</td>\n",
       "      <td>...</td>\n",
       "      <td>1</td>\n",
       "      <td>4.000000</td>\n",
       "      <td>NaN</td>\n",
       "      <td>1</td>\n",
       "      <td>4.000000</td>\n",
       "      <td>NaN</td>\n",
       "      <td>1</td>\n",
       "      <td>4.000000</td>\n",
       "      <td>NaN</td>\n",
       "      <td>1</td>\n",
       "    </tr>\n",
       "    <tr>\n",
       "      <th>English Bitter</th>\n",
       "      <td>4.300000</td>\n",
       "      <td>NaN</td>\n",
       "      <td>1</td>\n",
       "      <td>75758.000000</td>\n",
       "      <td>NaN</td>\n",
       "      <td>1</td>\n",
       "      <td>3.500000</td>\n",
       "      <td>NaN</td>\n",
       "      <td>1</td>\n",
       "      <td>3.500000</td>\n",
       "      <td>...</td>\n",
       "      <td>1</td>\n",
       "      <td>3.000000</td>\n",
       "      <td>NaN</td>\n",
       "      <td>1</td>\n",
       "      <td>3.500000</td>\n",
       "      <td>NaN</td>\n",
       "      <td>1</td>\n",
       "      <td>3.000000</td>\n",
       "      <td>NaN</td>\n",
       "      <td>1</td>\n",
       "    </tr>\n",
       "    <tr>\n",
       "      <th>English India Pale Ale (IPA)</th>\n",
       "      <td>8.700000</td>\n",
       "      <td>NaN</td>\n",
       "      <td>1</td>\n",
       "      <td>75761.000000</td>\n",
       "      <td>NaN</td>\n",
       "      <td>1</td>\n",
       "      <td>4.000000</td>\n",
       "      <td>NaN</td>\n",
       "      <td>1</td>\n",
       "      <td>4.500000</td>\n",
       "      <td>...</td>\n",
       "      <td>1</td>\n",
       "      <td>4.000000</td>\n",
       "      <td>NaN</td>\n",
       "      <td>1</td>\n",
       "      <td>4.500000</td>\n",
       "      <td>NaN</td>\n",
       "      <td>1</td>\n",
       "      <td>4.500000</td>\n",
       "      <td>NaN</td>\n",
       "      <td>1</td>\n",
       "    </tr>\n",
       "    <tr>\n",
       "      <th>Russian Imperial Stout</th>\n",
       "      <td>10.200000</td>\n",
       "      <td>NaN</td>\n",
       "      <td>1</td>\n",
       "      <td>75764.000000</td>\n",
       "      <td>NaN</td>\n",
       "      <td>1</td>\n",
       "      <td>4.000000</td>\n",
       "      <td>NaN</td>\n",
       "      <td>1</td>\n",
       "      <td>4.500000</td>\n",
       "      <td>...</td>\n",
       "      <td>1</td>\n",
       "      <td>4.500000</td>\n",
       "      <td>NaN</td>\n",
       "      <td>1</td>\n",
       "      <td>4.500000</td>\n",
       "      <td>NaN</td>\n",
       "      <td>1</td>\n",
       "      <td>4.500000</td>\n",
       "      <td>NaN</td>\n",
       "      <td>1</td>\n",
       "    </tr>\n",
       "    <tr>\n",
       "      <th>27645</th>\n",
       "      <th>American Pale Ale (APA)</th>\n",
       "      <td>5.500000</td>\n",
       "      <td>NaN</td>\n",
       "      <td>1</td>\n",
       "      <td>77281.000000</td>\n",
       "      <td>NaN</td>\n",
       "      <td>1</td>\n",
       "      <td>4.000000</td>\n",
       "      <td>NaN</td>\n",
       "      <td>1</td>\n",
       "      <td>4.000000</td>\n",
       "      <td>...</td>\n",
       "      <td>1</td>\n",
       "      <td>4.500000</td>\n",
       "      <td>NaN</td>\n",
       "      <td>1</td>\n",
       "      <td>4.500000</td>\n",
       "      <td>NaN</td>\n",
       "      <td>1</td>\n",
       "      <td>4.500000</td>\n",
       "      <td>NaN</td>\n",
       "      <td>1</td>\n",
       "    </tr>\n",
       "    <tr>\n",
       "      <th rowspan=\"2\" valign=\"top\">27797</th>\n",
       "      <th>American Pale Lager</th>\n",
       "      <td>NaN</td>\n",
       "      <td>NaN</td>\n",
       "      <td>0</td>\n",
       "      <td>76277.000000</td>\n",
       "      <td>0.000000</td>\n",
       "      <td>4</td>\n",
       "      <td>3.750000</td>\n",
       "      <td>0.957427</td>\n",
       "      <td>4</td>\n",
       "      <td>3.125000</td>\n",
       "      <td>...</td>\n",
       "      <td>4</td>\n",
       "      <td>3.250000</td>\n",
       "      <td>0.500000</td>\n",
       "      <td>4</td>\n",
       "      <td>3.125000</td>\n",
       "      <td>0.478714</td>\n",
       "      <td>4</td>\n",
       "      <td>3.250000</td>\n",
       "      <td>0.288675</td>\n",
       "      <td>4</td>\n",
       "    </tr>\n",
       "    <tr>\n",
       "      <th>Light Lager</th>\n",
       "      <td>4.200000</td>\n",
       "      <td>0.000000e+00</td>\n",
       "      <td>2</td>\n",
       "      <td>76265.000000</td>\n",
       "      <td>0.000000</td>\n",
       "      <td>2</td>\n",
       "      <td>3.750000</td>\n",
       "      <td>0.353553</td>\n",
       "      <td>2</td>\n",
       "      <td>3.250000</td>\n",
       "      <td>...</td>\n",
       "      <td>2</td>\n",
       "      <td>3.250000</td>\n",
       "      <td>0.353553</td>\n",
       "      <td>2</td>\n",
       "      <td>3.500000</td>\n",
       "      <td>0.707107</td>\n",
       "      <td>2</td>\n",
       "      <td>3.250000</td>\n",
       "      <td>0.353553</td>\n",
       "      <td>2</td>\n",
       "    </tr>\n",
       "  </tbody>\n",
       "</table>\n",
       "<p>5289 rows × 21 columns</p>\n",
       "</div>"
      ],
      "text/plain": [
       "                                                 abv                      \\\n",
       "                                                mean           std count   \n",
       "brewer_id beer_style                                                       \n",
       "1          Baltic Porter                    7.000000  0.000000e+00     4   \n",
       "           Czech Pilsener                   4.418392  1.339966e-01  1343   \n",
       "           Euro Strong Lager                6.700000           NaN     6   \n",
       "           Vienna Lager                     5.300000  0.000000e+00     4   \n",
       "2          American Blonde Ale                   NaN           NaN     0   \n",
       "           American Dark Wheat Ale               NaN           NaN     0   \n",
       "           American IPA                          NaN           NaN     0   \n",
       "           American Pale Ale (APA)               NaN           NaN     0   \n",
       "           American Pale Wheat Ale               NaN           NaN     0   \n",
       "           American Porter                       NaN           NaN     0   \n",
       "           American Stout                        NaN           NaN     0   \n",
       "           English Brown Ale                     NaN           NaN     0   \n",
       "5          American Amber / Red Ale              NaN           NaN     0   \n",
       "           American Blonde Ale              4.600000           NaN     1   \n",
       "           American IPA                     5.000000  0.000000e+00    84   \n",
       "           American Pale Ale (APA)          5.126882  9.684118e-02    93   \n",
       "           English India Pale Ale (IPA)     4.200000  2.816263e-07    84   \n",
       "           English Porter                   4.000000  0.000000e+00   121   \n",
       "           Fruit / Vegetable Beer                NaN           NaN     0   \n",
       "           Hefeweizen                            NaN           NaN     0   \n",
       "           Herbed / Spiced Beer                  NaN           NaN     0   \n",
       "           Russian Imperial Stout           6.000000  0.000000e+00    86   \n",
       "           Scottish Ale                     4.700000  2.018952e-07    85   \n",
       "           Winter Warmer                         NaN           NaN     0   \n",
       "14         Altbier                          4.900000  0.000000e+00     2   \n",
       "           American Amber / Red Ale         4.919118  5.322927e-01    34   \n",
       "           American Barleywine             11.475610  1.090424e-01    41   \n",
       "           American Brown Ale               6.300000  9.733398e-08     3   \n",
       "           American Double / Imperial IPA   9.000000  0.000000e+00    32   \n",
       "           American IPA                     6.579592  3.906007e-01    98   \n",
       "...                                              ...           ...   ...   \n",
       "26946      American Malt Liquor             7.000000  0.000000e+00     8   \n",
       "26983      English Porter                   4.800000           NaN     1   \n",
       "26990      American Amber / Red Ale         5.000000  0.000000e+00     3   \n",
       "           American Black Ale              10.000000           NaN     1   \n",
       "           American Double / Imperial IPA   8.850000  0.000000e+00     4   \n",
       "           American IPA                     7.200000  0.000000e+00     2   \n",
       "           American Pale Ale (APA)          5.500000           NaN     1   \n",
       "           American Porter                  6.200000  0.000000e+00     6   \n",
       "           Winter Warmer                    5.850000  1.909188e+00     2   \n",
       "27021      American Amber / Red Ale              NaN           NaN     0   \n",
       "           American Blonde Ale                   NaN           NaN     0   \n",
       "           American IPA                          NaN           NaN     0   \n",
       "           American Porter                  6.900000           NaN     1   \n",
       "           Tripel                           8.900000           NaN     1   \n",
       "27079      American Blonde Ale              5.500000           NaN     1   \n",
       "27080      Scottish Ale                     3.900000  0.000000e+00     2   \n",
       "27133      American IPA                     5.900000           NaN     1   \n",
       "27136      American Pale Ale (APA)          4.800000  0.000000e+00     2   \n",
       "27361      English Bitter                   3.900000           NaN     1   \n",
       "27632      American Amber / Red Ale         6.900000  9.899495e-01     2   \n",
       "           American Blonde Ale              4.100000           NaN     1   \n",
       "           American IPA                     6.600000           NaN     1   \n",
       "           American Pale Ale (APA)          5.200000           NaN     1   \n",
       "           Baltic Porter                    6.400000           NaN     1   \n",
       "           English Bitter                   4.300000           NaN     1   \n",
       "           English India Pale Ale (IPA)     8.700000           NaN     1   \n",
       "           Russian Imperial Stout          10.200000           NaN     1   \n",
       "27645      American Pale Ale (APA)          5.500000           NaN     1   \n",
       "27797      American Pale Lager                   NaN           NaN     0   \n",
       "           Light Lager                      4.200000  0.000000e+00     2   \n",
       "\n",
       "                                                beer_id                      \\\n",
       "                                                   mean           std count   \n",
       "brewer_id beer_style                                                          \n",
       "1          Baltic Porter                   67962.000000      0.000000     4   \n",
       "           Czech Pilsener                   1623.051378   6429.660449  1343   \n",
       "           Euro Strong Lager               59315.000000      0.000000     6   \n",
       "           Vienna Lager                    69068.000000      0.000000     4   \n",
       "2          American Blonde Ale              7144.000000      0.000000     2   \n",
       "           American Dark Wheat Ale          6873.000000      0.000000     8   \n",
       "           American IPA                        3.000000      0.000000     3   \n",
       "           American Pale Ale (APA)          7203.000000      0.000000     3   \n",
       "           American Pale Wheat Ale          7222.000000      0.000000     6   \n",
       "           American Porter                  7220.000000      0.000000     6   \n",
       "           American Stout                      4.000000      0.000000    10   \n",
       "           English Brown Ale                5491.000000      0.000000     2   \n",
       "5          American Amber / Red Ale        16014.000000      0.000000    17   \n",
       "           American Blonde Ale             10723.000000           NaN     1   \n",
       "           American IPA                    15690.000000      0.000000    84   \n",
       "           American Pale Ale (APA)          7844.980952   3106.760547   105   \n",
       "           English India Pale Ale (IPA)       13.000000      0.000000    84   \n",
       "           English Porter                   1460.000000      0.000000   121   \n",
       "           Fruit / Vegetable Beer          18335.000000           NaN     1   \n",
       "           Hefeweizen                      10544.281250   1815.619776    96   \n",
       "           Herbed / Spiced Beer            18338.000000      0.000000     2   \n",
       "           Russian Imperial Stout             12.000000      0.000000    86   \n",
       "           Scottish Ale                       11.000000      0.000000    85   \n",
       "           Winter Warmer                   11870.000000      0.000000    46   \n",
       "14         Altbier                         32486.000000      0.000000     2   \n",
       "           American Amber / Red Ale         8888.411765  21979.500698    34   \n",
       "           American Barleywine              3248.170732  12407.651571    41   \n",
       "           American Brown Ale              26722.000000      0.000000     3   \n",
       "           American Double / Imperial IPA  13816.000000      0.000000    32   \n",
       "           American IPA                    24052.382353  24468.513285   102   \n",
       "...                                                 ...           ...   ...   \n",
       "26946      American Malt Liquor            74145.000000      0.000000     8   \n",
       "26983      English Porter                  75708.000000           NaN     1   \n",
       "26990      American Amber / Red Ale        74676.000000      0.000000     3   \n",
       "           American Black Ale              74672.000000           NaN     1   \n",
       "           American Double / Imperial IPA  74683.000000      0.000000     4   \n",
       "           American IPA                    75898.000000      0.000000     2   \n",
       "           American Pale Ale (APA)         76766.000000           NaN     1   \n",
       "           American Porter                 74675.000000      0.000000     6   \n",
       "           Winter Warmer                   76588.000000    113.137085     2   \n",
       "27021      American Amber / Red Ale        75083.000000      0.000000     2   \n",
       "           American Blonde Ale             75805.000000      0.000000     2   \n",
       "           American IPA                    75082.000000      0.000000     4   \n",
       "           American Porter                 77198.000000           NaN     1   \n",
       "           Tripel                          77199.000000           NaN     1   \n",
       "27079      American Blonde Ale             74870.000000           NaN     1   \n",
       "27080      Scottish Ale                    75185.000000      0.000000     2   \n",
       "27133      American IPA                    75063.000000           NaN     1   \n",
       "27136      American Pale Ale (APA)         74980.000000      0.000000     2   \n",
       "27361      English Bitter                  75529.000000           NaN     1   \n",
       "27632      American Amber / Red Ale        75761.000000      1.414214     2   \n",
       "           American Blonde Ale             75755.000000           NaN     1   \n",
       "           American IPA                    75759.000000           NaN     1   \n",
       "           American Pale Ale (APA)         75757.000000           NaN     1   \n",
       "           Baltic Porter                   75763.000000           NaN     1   \n",
       "           English Bitter                  75758.000000           NaN     1   \n",
       "           English India Pale Ale (IPA)    75761.000000           NaN     1   \n",
       "           Russian Imperial Stout          75764.000000           NaN     1   \n",
       "27645      American Pale Ale (APA)         77281.000000           NaN     1   \n",
       "27797      American Pale Lager             76277.000000      0.000000     4   \n",
       "           Light Lager                     76265.000000      0.000000     2   \n",
       "\n",
       "                                          review_appearance                  \\\n",
       "                                                       mean       std count   \n",
       "brewer_id beer_style                                                          \n",
       "1          Baltic Porter                           4.500000  0.408248     4   \n",
       "           Czech Pilsener                          3.681310  0.565791  1343   \n",
       "           Euro Strong Lager                       3.333333  0.605530     6   \n",
       "           Vienna Lager                            3.375000  0.478714     4   \n",
       "2          American Blonde Ale                     3.250000  0.353553     2   \n",
       "           American Dark Wheat Ale                 3.062500  0.562996     8   \n",
       "           American IPA                            3.833333  0.288675     3   \n",
       "           American Pale Ale (APA)                 3.666667  0.763763     3   \n",
       "           American Pale Wheat Ale                 3.000000  0.948683     6   \n",
       "           American Porter                         3.166667  1.032796     6   \n",
       "           American Stout                          3.950000  0.643342    10   \n",
       "           English Brown Ale                       3.500000  0.000000     2   \n",
       "5          American Amber / Red Ale                3.705882  0.435130    17   \n",
       "           American Blonde Ale                     4.000000       NaN     1   \n",
       "           American IPA                            3.738095  0.481440    84   \n",
       "           American Pale Ale (APA)                 3.719048  0.504422   105   \n",
       "           English India Pale Ale (IPA)            3.095238  0.623226    84   \n",
       "           English Porter                          3.942149  0.492401   121   \n",
       "           Fruit / Vegetable Beer                  4.000000       NaN     1   \n",
       "           Hefeweizen                              3.432292  0.526257    96   \n",
       "           Herbed / Spiced Beer                    3.000000  0.000000     2   \n",
       "           Russian Imperial Stout                  4.075581  0.528691    86   \n",
       "           Scottish Ale                            3.500000  0.449868    85   \n",
       "           Winter Warmer                           3.815217  0.385266    46   \n",
       "14         Altbier                                 4.250000  0.353553     2   \n",
       "           American Amber / Red Ale                3.750000  0.540062    34   \n",
       "           American Barleywine                     4.048780  0.350087    41   \n",
       "           American Brown Ale                      3.833333  0.288675     3   \n",
       "           American Double / Imperial IPA          4.062500  0.353553    32   \n",
       "           American IPA                            4.058824  0.374259   102   \n",
       "...                                                     ...       ...   ...   \n",
       "26946      American Malt Liquor                    3.062500  0.495516     8   \n",
       "26983      English Porter                          3.500000       NaN     1   \n",
       "26990      American Amber / Red Ale                4.000000  0.500000     3   \n",
       "           American Black Ale                      4.500000       NaN     1   \n",
       "           American Double / Imperial IPA          4.500000  0.000000     4   \n",
       "           American IPA                            4.250000  0.353553     2   \n",
       "           American Pale Ale (APA)                 3.500000       NaN     1   \n",
       "           American Porter                         4.166667  0.605530     6   \n",
       "           Winter Warmer                           3.750000  0.353553     2   \n",
       "27021      American Amber / Red Ale                3.500000  0.000000     2   \n",
       "           American Blonde Ale                     3.750000  0.353553     2   \n",
       "           American IPA                            4.250000  0.645497     4   \n",
       "           American Porter                         4.000000       NaN     1   \n",
       "           Tripel                                  4.000000       NaN     1   \n",
       "27079      American Blonde Ale                     3.000000       NaN     1   \n",
       "27080      Scottish Ale                            3.750000  0.353553     2   \n",
       "27133      American IPA                            4.000000       NaN     1   \n",
       "27136      American Pale Ale (APA)                 3.250000  0.353553     2   \n",
       "27361      English Bitter                          3.500000       NaN     1   \n",
       "27632      American Amber / Red Ale                4.000000  0.000000     2   \n",
       "           American Blonde Ale                     3.000000       NaN     1   \n",
       "           American IPA                            4.000000       NaN     1   \n",
       "           American Pale Ale (APA)                 3.000000       NaN     1   \n",
       "           Baltic Porter                           4.000000       NaN     1   \n",
       "           English Bitter                          3.500000       NaN     1   \n",
       "           English India Pale Ale (IPA)            4.000000       NaN     1   \n",
       "           Russian Imperial Stout                  4.000000       NaN     1   \n",
       "27645      American Pale Ale (APA)                 4.000000       NaN     1   \n",
       "27797      American Pale Lager                     3.750000  0.957427     4   \n",
       "           Light Lager                             3.750000  0.353553     2   \n",
       "\n",
       "                                          review_aroma  ...         \\\n",
       "                                                  mean  ...  count   \n",
       "brewer_id beer_style                                    ...          \n",
       "1          Baltic Porter                      3.875000  ...      4   \n",
       "           Czech Pilsener                     3.435220  ...   1343   \n",
       "           Euro Strong Lager                  3.333333  ...      6   \n",
       "           Vienna Lager                       3.625000  ...      4   \n",
       "2          American Blonde Ale                3.750000  ...      2   \n",
       "           American Dark Wheat Ale            2.375000  ...      8   \n",
       "           American IPA                       4.000000  ...      3   \n",
       "           American Pale Ale (APA)            3.833333  ...      3   \n",
       "           American Pale Wheat Ale            2.583333  ...      6   \n",
       "           American Porter                    3.250000  ...      6   \n",
       "           American Stout                     3.800000  ...     10   \n",
       "           English Brown Ale                  3.500000  ...      2   \n",
       "5          American Amber / Red Ale           3.647059  ...     17   \n",
       "           American Blonde Ale                4.000000  ...      1   \n",
       "           American IPA                       3.750000  ...     84   \n",
       "           American Pale Ale (APA)            3.557143  ...    105   \n",
       "           English India Pale Ale (IPA)       3.059524  ...     84   \n",
       "           English Porter                     3.979339  ...    121   \n",
       "           Fruit / Vegetable Beer             4.000000  ...      1   \n",
       "           Hefeweizen                         3.307292  ...     96   \n",
       "           Herbed / Spiced Beer               3.750000  ...      2   \n",
       "           Russian Imperial Stout             3.767442  ...     86   \n",
       "           Scottish Ale                       3.388235  ...     85   \n",
       "           Winter Warmer                      3.750000  ...     46   \n",
       "14         Altbier                            4.000000  ...      2   \n",
       "           American Amber / Red Ale           3.720588  ...     34   \n",
       "           American Barleywine                4.256098  ...     41   \n",
       "           American Brown Ale                 3.833333  ...      3   \n",
       "           American Double / Imperial IPA     4.203125  ...     32   \n",
       "           American IPA                       4.014706  ...    102   \n",
       "...                                                ...  ...    ...   \n",
       "26946      American Malt Liquor               2.875000  ...      8   \n",
       "26983      English Porter                     3.500000  ...      1   \n",
       "26990      American Amber / Red Ale           4.166667  ...      3   \n",
       "           American Black Ale                 4.000000  ...      1   \n",
       "           American Double / Imperial IPA     4.000000  ...      4   \n",
       "           American IPA                       4.750000  ...      2   \n",
       "           American Pale Ale (APA)            3.500000  ...      1   \n",
       "           American Porter                    4.000000  ...      6   \n",
       "           Winter Warmer                      4.250000  ...      2   \n",
       "27021      American Amber / Red Ale           3.750000  ...      2   \n",
       "           American Blonde Ale                3.750000  ...      2   \n",
       "           American IPA                       4.250000  ...      4   \n",
       "           American Porter                    4.000000  ...      1   \n",
       "           Tripel                             4.000000  ...      1   \n",
       "27079      American Blonde Ale                3.500000  ...      1   \n",
       "27080      Scottish Ale                       3.250000  ...      2   \n",
       "27133      American IPA                       3.000000  ...      1   \n",
       "27136      American Pale Ale (APA)            3.250000  ...      2   \n",
       "27361      English Bitter                     3.000000  ...      1   \n",
       "27632      American Amber / Red Ale           4.000000  ...      2   \n",
       "           American Blonde Ale                3.000000  ...      1   \n",
       "           American IPA                       4.500000  ...      1   \n",
       "           American Pale Ale (APA)            3.000000  ...      1   \n",
       "           Baltic Porter                      4.000000  ...      1   \n",
       "           English Bitter                     3.500000  ...      1   \n",
       "           English India Pale Ale (IPA)       4.500000  ...      1   \n",
       "           Russian Imperial Stout             4.500000  ...      1   \n",
       "27645      American Pale Ale (APA)            4.000000  ...      1   \n",
       "27797      American Pale Lager                3.125000  ...      4   \n",
       "           Light Lager                        3.250000  ...      2   \n",
       "\n",
       "                                          review_overall                  \\\n",
       "                                                    mean       std count   \n",
       "brewer_id beer_style                                                       \n",
       "1          Baltic Porter                        4.125000  0.250000     4   \n",
       "           Czech Pilsener                       3.821668  0.725591  1343   \n",
       "           Euro Strong Lager                    3.416667  0.376386     6   \n",
       "           Vienna Lager                         3.625000  0.250000     4   \n",
       "2          American Blonde Ale                  3.750000  0.353553     2   \n",
       "           American Dark Wheat Ale              2.187500  0.961305     8   \n",
       "           American IPA                         4.166667  0.288675     3   \n",
       "           American Pale Ale (APA)              4.000000  0.500000     3   \n",
       "           American Pale Wheat Ale              3.083333  0.917424     6   \n",
       "           American Porter                      2.416667  1.200694     6   \n",
       "           American Stout                       3.700000  0.674949    10   \n",
       "           English Brown Ale                    3.500000  0.000000     2   \n",
       "5          American Amber / Red Ale             3.794118  0.435130    17   \n",
       "           American Blonde Ale                  4.000000       NaN     1   \n",
       "           American IPA                         3.702381  0.649926    84   \n",
       "           American Pale Ale (APA)              3.766667  0.584523   105   \n",
       "           English India Pale Ale (IPA)         3.250000  0.692037    84   \n",
       "           English Porter                       4.053719  0.590909   121   \n",
       "           Fruit / Vegetable Beer               3.000000       NaN     1   \n",
       "           Hefeweizen                           3.411458  0.695833    96   \n",
       "           Herbed / Spiced Beer                 3.500000  0.000000     2   \n",
       "           Russian Imperial Stout               3.709302  0.661838    86   \n",
       "           Scottish Ale                         3.394118  0.577835    85   \n",
       "           Winter Warmer                        3.815217  0.608812    46   \n",
       "14         Altbier                              4.000000  0.000000     2   \n",
       "           American Amber / Red Ale             3.735294  0.709623    34   \n",
       "           American Barleywine                  4.207317  0.417965    41   \n",
       "           American Brown Ale                   4.333333  0.288675     3   \n",
       "           American Double / Imperial IPA       4.078125  0.708353    32   \n",
       "           American IPA                         4.142157  0.430159   102   \n",
       "...                                                  ...       ...   ...   \n",
       "26946      American Malt Liquor                 3.125000  0.353553     8   \n",
       "26983      English Porter                       3.500000       NaN     1   \n",
       "26990      American Amber / Red Ale             4.166667  0.288675     3   \n",
       "           American Black Ale                   4.000000       NaN     1   \n",
       "           American Double / Imperial IPA       4.125000  0.250000     4   \n",
       "           American IPA                         4.750000  0.353553     2   \n",
       "           American Pale Ale (APA)              3.500000       NaN     1   \n",
       "           American Porter                      4.166667  0.258199     6   \n",
       "           Winter Warmer                        4.000000  0.000000     2   \n",
       "27021      American Amber / Red Ale             3.750000  0.353553     2   \n",
       "           American Blonde Ale                  4.250000  0.353553     2   \n",
       "           American IPA                         4.125000  0.250000     4   \n",
       "           American Porter                      4.000000       NaN     1   \n",
       "           Tripel                               3.500000       NaN     1   \n",
       "27079      American Blonde Ale                  4.000000       NaN     1   \n",
       "27080      Scottish Ale                         3.500000  0.000000     2   \n",
       "27133      American IPA                         4.000000       NaN     1   \n",
       "27136      American Pale Ale (APA)              3.500000  0.000000     2   \n",
       "27361      English Bitter                       3.500000       NaN     1   \n",
       "27632      American Amber / Red Ale             4.000000  0.000000     2   \n",
       "           American Blonde Ale                  3.000000       NaN     1   \n",
       "           American IPA                         4.000000       NaN     1   \n",
       "           American Pale Ale (APA)              3.000000       NaN     1   \n",
       "           Baltic Porter                        4.000000       NaN     1   \n",
       "           English Bitter                       3.000000       NaN     1   \n",
       "           English India Pale Ale (IPA)         4.000000       NaN     1   \n",
       "           Russian Imperial Stout               4.500000       NaN     1   \n",
       "27645      American Pale Ale (APA)              4.500000       NaN     1   \n",
       "27797      American Pale Lager                  3.250000  0.500000     4   \n",
       "           Light Lager                          3.250000  0.353553     2   \n",
       "\n",
       "                                          review_palate                  \\\n",
       "                                                   mean       std count   \n",
       "brewer_id beer_style                                                      \n",
       "1          Baltic Porter                       4.250000  0.957427     4   \n",
       "           Czech Pilsener                      3.626210  0.609388  1343   \n",
       "           Euro Strong Lager                   3.333333  0.408248     6   \n",
       "           Vienna Lager                        3.750000  0.645497     4   \n",
       "2          American Blonde Ale                 3.500000  0.000000     2   \n",
       "           American Dark Wheat Ale             2.187500  1.032940     8   \n",
       "           American IPA                        4.166667  0.288675     3   \n",
       "           American Pale Ale (APA)             3.833333  0.577350     3   \n",
       "           American Pale Wheat Ale             3.083333  0.917424     6   \n",
       "           American Porter                     2.500000  1.140175     6   \n",
       "           American Stout                      3.700000  0.752773    10   \n",
       "           English Brown Ale                   3.500000  0.000000     2   \n",
       "5          American Amber / Red Ale            3.617647  0.451712    17   \n",
       "           American Blonde Ale                 4.000000       NaN     1   \n",
       "           American IPA                        3.648810  0.495642    84   \n",
       "           American Pale Ale (APA)             3.480952  0.612073   105   \n",
       "           English India Pale Ale (IPA)        3.101190  0.652981    84   \n",
       "           English Porter                      3.785124  0.618555   121   \n",
       "           Fruit / Vegetable Beer              3.000000       NaN     1   \n",
       "           Hefeweizen                          3.197917  0.520522    96   \n",
       "           Herbed / Spiced Beer                3.000000  0.707107     2   \n",
       "           Russian Imperial Stout              3.534884  0.631481    86   \n",
       "           Scottish Ale                        3.235294  0.543294    85   \n",
       "           Winter Warmer                       3.673913  0.598307    46   \n",
       "14         Altbier                             4.250000  1.060660     2   \n",
       "           American Amber / Red Ale            3.632353  0.581388    34   \n",
       "           American Barleywine                 4.268293  0.355274    41   \n",
       "           American Brown Ale                  4.166667  0.288675     3   \n",
       "           American Double / Imperial IPA      4.078125  0.610518    32   \n",
       "           American IPA                        4.029412  0.357546   102   \n",
       "...                                                 ...       ...   ...   \n",
       "26946      American Malt Liquor                3.187500  0.593867     8   \n",
       "26983      English Porter                      3.500000       NaN     1   \n",
       "26990      American Amber / Red Ale            4.333333  0.577350     3   \n",
       "           American Black Ale                  4.000000       NaN     1   \n",
       "           American Double / Imperial IPA      4.125000  0.250000     4   \n",
       "           American IPA                        4.500000  0.000000     2   \n",
       "           American Pale Ale (APA)             3.500000       NaN     1   \n",
       "           American Porter                     4.166667  0.258199     6   \n",
       "           Winter Warmer                       4.250000  0.353553     2   \n",
       "27021      American Amber / Red Ale            3.750000  0.353553     2   \n",
       "           American Blonde Ale                 4.250000  0.353553     2   \n",
       "           American IPA                        4.125000  0.250000     4   \n",
       "           American Porter                     4.000000       NaN     1   \n",
       "           Tripel                              3.500000       NaN     1   \n",
       "27079      American Blonde Ale                 4.000000       NaN     1   \n",
       "27080      Scottish Ale                        3.750000  0.353553     2   \n",
       "27133      American IPA                        4.000000       NaN     1   \n",
       "27136      American Pale Ale (APA)             3.750000  0.353553     2   \n",
       "27361      English Bitter                      3.500000       NaN     1   \n",
       "27632      American Amber / Red Ale            4.000000  0.000000     2   \n",
       "           American Blonde Ale                 3.000000       NaN     1   \n",
       "           American IPA                        4.000000       NaN     1   \n",
       "           American Pale Ale (APA)             3.000000       NaN     1   \n",
       "           Baltic Porter                       4.000000       NaN     1   \n",
       "           English Bitter                      3.500000       NaN     1   \n",
       "           English India Pale Ale (IPA)        4.500000       NaN     1   \n",
       "           Russian Imperial Stout              4.500000       NaN     1   \n",
       "27645      American Pale Ale (APA)             4.500000       NaN     1   \n",
       "27797      American Pale Lager                 3.125000  0.478714     4   \n",
       "           Light Lager                         3.500000  0.707107     2   \n",
       "\n",
       "                                          review_taste                  \n",
       "                                                  mean       std count  \n",
       "brewer_id beer_style                                                    \n",
       "1          Baltic Porter                      4.250000  0.288675     4  \n",
       "           Czech Pilsener                     3.644825  0.653479  1343  \n",
       "           Euro Strong Lager                  3.583333  0.584523     6  \n",
       "           Vienna Lager                       3.500000  0.408248     4  \n",
       "2          American Blonde Ale                3.500000  0.000000     2  \n",
       "           American Dark Wheat Ale            2.125000  0.991031     8  \n",
       "           American IPA                       4.166667  0.288675     3  \n",
       "           American Pale Ale (APA)            3.833333  0.577350     3  \n",
       "           American Pale Wheat Ale            2.666667  1.032796     6  \n",
       "           American Porter                    2.833333  0.930949     6  \n",
       "           American Stout                     3.450000  0.831665    10  \n",
       "           English Brown Ale                  3.750000  0.353553     2  \n",
       "5          American Amber / Red Ale           3.676471  0.430885    17  \n",
       "           American Blonde Ale                3.000000       NaN     1  \n",
       "           American IPA                       3.672619  0.551526    84  \n",
       "           American Pale Ale (APA)            3.628571  0.588465   105  \n",
       "           English India Pale Ale (IPA)       3.029762  0.673738    84  \n",
       "           English Porter                     4.008264  0.555216   121  \n",
       "           Fruit / Vegetable Beer             3.000000       NaN     1  \n",
       "           Hefeweizen                         3.223958  0.668344    96  \n",
       "           Herbed / Spiced Beer               3.500000  0.000000     2  \n",
       "           Russian Imperial Stout             3.686047  0.558604    86  \n",
       "           Scottish Ale                       3.270588  0.580194    85  \n",
       "           Winter Warmer                      3.793478  0.543406    46  \n",
       "14         Altbier                            4.000000  0.000000     2  \n",
       "           American Amber / Red Ale           3.750000  0.720374    34  \n",
       "           American Barleywine                4.365854  0.418694    41  \n",
       "           American Brown Ale                 4.333333  0.288675     3  \n",
       "           American Double / Imperial IPA     4.234375  0.647382    32  \n",
       "           American IPA                       4.147059  0.389136   102  \n",
       "...                                                ...       ...   ...  \n",
       "26946      American Malt Liquor               2.750000  0.597614     8  \n",
       "26983      English Porter                     3.500000       NaN     1  \n",
       "26990      American Amber / Red Ale           4.166667  0.288675     3  \n",
       "           American Black Ale                 4.000000       NaN     1  \n",
       "           American Double / Imperial IPA     4.125000  0.250000     4  \n",
       "           American IPA                       4.750000  0.353553     2  \n",
       "           American Pale Ale (APA)            4.000000       NaN     1  \n",
       "           American Porter                    4.416667  0.204124     6  \n",
       "           Winter Warmer                      4.000000  0.000000     2  \n",
       "27021      American Amber / Red Ale           3.750000  0.353553     2  \n",
       "           American Blonde Ale                3.750000  0.353553     2  \n",
       "           American IPA                       4.375000  0.478714     4  \n",
       "           American Porter                    4.000000       NaN     1  \n",
       "           Tripel                             4.000000       NaN     1  \n",
       "27079      American Blonde Ale                4.000000       NaN     1  \n",
       "27080      Scottish Ale                       3.500000  0.000000     2  \n",
       "27133      American IPA                       4.000000       NaN     1  \n",
       "27136      American Pale Ale (APA)            3.500000  0.000000     2  \n",
       "27361      English Bitter                     3.000000       NaN     1  \n",
       "27632      American Amber / Red Ale           4.000000  0.000000     2  \n",
       "           American Blonde Ale                3.000000       NaN     1  \n",
       "           American IPA                       4.000000       NaN     1  \n",
       "           American Pale Ale (APA)            3.000000       NaN     1  \n",
       "           Baltic Porter                      4.000000       NaN     1  \n",
       "           English Bitter                     3.000000       NaN     1  \n",
       "           English India Pale Ale (IPA)       4.500000       NaN     1  \n",
       "           Russian Imperial Stout             4.500000       NaN     1  \n",
       "27645      American Pale Ale (APA)            4.500000       NaN     1  \n",
       "27797      American Pale Lager                3.250000  0.288675     4  \n",
       "           Light Lager                        3.250000  0.353553     2  \n",
       "\n",
       "[5289 rows x 21 columns]"
      ]
     },
     "execution_count": 118,
     "metadata": {},
     "output_type": "execute_result"
    }
   ],
   "source": [
    "gr.agg(['mean', 'std', 'count'])"
   ]
  },
  {
   "cell_type": "code",
   "execution_count": 95,
   "metadata": {
    "collapsed": true
   },
   "outputs": [],
   "source": [
    "styles = ['ipa|india pale ale', 'amber ale', 'stout', 'barleywine', 'porter', 'brown ale', 'lager']"
   ]
  },
  {
   "cell_type": "code",
   "execution_count": 96,
   "metadata": {
    "collapsed": false
   },
   "outputs": [
    {
     "data": {
      "text/plain": [
       "'(?P<ipa>ipa|india pale ale)|(?P<amber_ale>amber ale)|(?P<stout>stout)|(?P<barleywine>barleywine)|(?P<porter>porter)|(?P<brown_ale>brown ale)|(?P<lager>lager)'"
      ]
     },
     "execution_count": 96,
     "metadata": {},
     "output_type": "execute_result"
    }
   ],
   "source": [
    "expr = '|'.join([r'(?P<{name}>{x})'.format(name=x.split('|')[0].replace(' ', '_'), x=x) for x in styles])\n",
    "expr"
   ]
  },
  {
   "cell_type": "code",
   "execution_count": 104,
   "metadata": {
    "collapsed": false
   },
   "outputs": [],
   "source": [
    "style = df.beer_style.str.extract(expr, flags=re.IGNORECASE)"
   ]
  },
  {
   "cell_type": "code",
   "execution_count": 109,
   "metadata": {
    "collapsed": false
   },
   "outputs": [
    {
     "data": {
      "text/plain": [
       "0              \n",
       "1              \n",
       "2         Stout\n",
       "3              \n",
       "4           IPA\n",
       "5              \n",
       "6              \n",
       "7              \n",
       "8              \n",
       "9              \n",
       "10             \n",
       "11             \n",
       "12             \n",
       "13             \n",
       "14        Stout\n",
       "15        Stout\n",
       "16        Lager\n",
       "17             \n",
       "18             \n",
       "19             \n",
       "20             \n",
       "21             \n",
       "22             \n",
       "23             \n",
       "24             \n",
       "25             \n",
       "26             \n",
       "27             \n",
       "28             \n",
       "29             \n",
       "          ...  \n",
       "199970         \n",
       "199971         \n",
       "199972         \n",
       "199973         \n",
       "199974         \n",
       "199975         \n",
       "199976         \n",
       "199977         \n",
       "199978         \n",
       "199979         \n",
       "199980         \n",
       "199981         \n",
       "199982         \n",
       "199983         \n",
       "199984         \n",
       "199985         \n",
       "199986         \n",
       "199987         \n",
       "199988         \n",
       "199989         \n",
       "199990         \n",
       "199991         \n",
       "199992         \n",
       "199993         \n",
       "199994         \n",
       "199995         \n",
       "199996         \n",
       "199997         \n",
       "199998         \n",
       "199999         \n",
       "dtype: object"
      ]
     },
     "execution_count": 109,
     "metadata": {},
     "output_type": "execute_result"
    }
   ],
   "source": [
    "style = style.fillna('').sum(1)\n",
    "style"
   ]
  },
  {
   "cell_type": "code",
   "execution_count": 112,
   "metadata": {
    "collapsed": false
   },
   "outputs": [],
   "source": [
    "gr = df.groupby(style).review_overall"
   ]
  },
  {
   "cell_type": "code",
   "execution_count": 61,
   "metadata": {
    "collapsed": false
   },
   "outputs": [
    {
     "data": {
      "text/plain": [
       " American IPA                           24797\n",
       " American Double / Imperial Stout       18077\n",
       " American Double / Imperial IPA         13590\n",
       " American Pale Ale (APA)                 9971\n",
       " American Porter                         6769\n",
       " American Amber / Red Ale                5701\n",
       " American Barleywine                     5589\n",
       " Russian Imperial Stout                  4568\n",
       " Rye Beer                                4220\n",
       " Fruit / Vegetable Beer                  4021\n",
       " English Pale Ale                        3988\n",
       " Hefeweizen                              3822\n",
       " Scotch Ale / Wee Heavy                  3784\n",
       " Saison / Farmhouse Ale                  3468\n",
       " American Brown Ale                      3367\n",
       " American Strong Ale                     3352\n",
       " Czech Pilsener                          3211\n",
       " Euro Pale Lager                         2955\n",
       " American Pale Wheat Ale                 2788\n",
       " American Stout                          2669\n",
       " Old Ale                                 2664\n",
       " Extra Special / Strong Bitter (ESB)     2596\n",
       " Tripel                                  2440\n",
       " Pumpkin Ale                             2397\n",
       " Belgian Strong Pale Ale                 2372\n",
       " American Adjunct Lager                  2301\n",
       " Märzen / Oktoberfest                    2130\n",
       " Rauchbier                               2021\n",
       " Flanders Red Ale                        2011\n",
       " Maibock / Helles Bock                   1923\n",
       "                                        ...  \n",
       " Euro Strong Lager                        449\n",
       " Quadrupel (Quad)                         429\n",
       " Irish Red Ale                            417\n",
       " Berliner Weissbier                       396\n",
       " Schwarzbier                              381\n",
       " Vienna Lager                             349\n",
       " Flanders Oud Bruin                       305\n",
       " American Malt Liquor                     295\n",
       " English Dark Mild Ale                    286\n",
       " Keller Bier / Zwickel Bier               284\n",
       " Smoked Beer                              163\n",
       " English Pale Mild Ale                    155\n",
       " Scottish Gruit / Ancient Herbed Ale      152\n",
       " Black & Tan                              140\n",
       " Lambic - Fruit                           138\n",
       " Dortmunder / Export Lager                 94\n",
       " Kristalweizen                             83\n",
       " Low Alcohol Beer                          83\n",
       " Gose                                      78\n",
       " Chile Beer                                64\n",
       " Braggot                                   47\n",
       " Eisbock                                   44\n",
       " Happoshu                                  44\n",
       " American Dark Wheat Ale                   31\n",
       " Lambic - Unblended                        30\n",
       " Roggenbier                                24\n",
       " Gueuze                                    22\n",
       " Faro                                      12\n",
       " Kvass                                      6\n",
       " Sahti                                      5\n",
       "dtype: int64"
      ]
     },
     "execution_count": 61,
     "metadata": {},
     "output_type": "execute_result"
    }
   ],
   "source": [
    "df.beer_style.value_counts()"
   ]
  },
  {
   "cell_type": "code",
   "execution_count": 4,
   "metadata": {
    "collapsed": false
   },
   "outputs": [],
   "source": [
    "ecclectic_brewers = df.groupby(['brewer_id']).beer_style.nunique().nlargest(20).index"
   ]
  },
  {
   "cell_type": "code",
   "execution_count": 56,
   "metadata": {
    "collapsed": false
   },
   "outputs": [
    {
     "data": {
      "text/html": [
       "<div>\n",
       "<table border=\"1\" class=\"dataframe\">\n",
       "  <thead>\n",
       "    <tr style=\"text-align: right;\">\n",
       "      <th></th>\n",
       "      <th></th>\n",
       "      <th>mean</th>\n",
       "      <th>count</th>\n",
       "    </tr>\n",
       "    <tr>\n",
       "      <th>brewer_id</th>\n",
       "      <th>beer_style</th>\n",
       "      <th></th>\n",
       "      <th></th>\n",
       "    </tr>\n",
       "  </thead>\n",
       "  <tbody>\n",
       "    <tr>\n",
       "      <th rowspan=\"4\" valign=\"top\">1</th>\n",
       "      <th>Baltic Porter</th>\n",
       "      <td>4.125000</td>\n",
       "      <td>4</td>\n",
       "    </tr>\n",
       "    <tr>\n",
       "      <th>Czech Pilsener</th>\n",
       "      <td>3.821668</td>\n",
       "      <td>1343</td>\n",
       "    </tr>\n",
       "    <tr>\n",
       "      <th>Euro Strong Lager</th>\n",
       "      <td>3.416667</td>\n",
       "      <td>6</td>\n",
       "    </tr>\n",
       "    <tr>\n",
       "      <th>Vienna Lager</th>\n",
       "      <td>3.625000</td>\n",
       "      <td>4</td>\n",
       "    </tr>\n",
       "    <tr>\n",
       "      <th rowspan=\"8\" valign=\"top\">2</th>\n",
       "      <th>American Blonde Ale</th>\n",
       "      <td>3.750000</td>\n",
       "      <td>2</td>\n",
       "    </tr>\n",
       "    <tr>\n",
       "      <th>American Dark Wheat Ale</th>\n",
       "      <td>2.187500</td>\n",
       "      <td>8</td>\n",
       "    </tr>\n",
       "    <tr>\n",
       "      <th>American IPA</th>\n",
       "      <td>4.166667</td>\n",
       "      <td>3</td>\n",
       "    </tr>\n",
       "    <tr>\n",
       "      <th>American Pale Ale (APA)</th>\n",
       "      <td>4.000000</td>\n",
       "      <td>3</td>\n",
       "    </tr>\n",
       "    <tr>\n",
       "      <th>American Pale Wheat Ale</th>\n",
       "      <td>3.083333</td>\n",
       "      <td>6</td>\n",
       "    </tr>\n",
       "    <tr>\n",
       "      <th>American Porter</th>\n",
       "      <td>2.416667</td>\n",
       "      <td>6</td>\n",
       "    </tr>\n",
       "    <tr>\n",
       "      <th>American Stout</th>\n",
       "      <td>3.700000</td>\n",
       "      <td>10</td>\n",
       "    </tr>\n",
       "    <tr>\n",
       "      <th>English Brown Ale</th>\n",
       "      <td>3.500000</td>\n",
       "      <td>2</td>\n",
       "    </tr>\n",
       "    <tr>\n",
       "      <th rowspan=\"12\" valign=\"top\">5</th>\n",
       "      <th>American Amber / Red Ale</th>\n",
       "      <td>3.794118</td>\n",
       "      <td>17</td>\n",
       "    </tr>\n",
       "    <tr>\n",
       "      <th>American Blonde Ale</th>\n",
       "      <td>4.000000</td>\n",
       "      <td>1</td>\n",
       "    </tr>\n",
       "    <tr>\n",
       "      <th>American IPA</th>\n",
       "      <td>3.702381</td>\n",
       "      <td>84</td>\n",
       "    </tr>\n",
       "    <tr>\n",
       "      <th>American Pale Ale (APA)</th>\n",
       "      <td>3.766667</td>\n",
       "      <td>105</td>\n",
       "    </tr>\n",
       "    <tr>\n",
       "      <th>English India Pale Ale (IPA)</th>\n",
       "      <td>3.250000</td>\n",
       "      <td>84</td>\n",
       "    </tr>\n",
       "    <tr>\n",
       "      <th>English Porter</th>\n",
       "      <td>4.053719</td>\n",
       "      <td>121</td>\n",
       "    </tr>\n",
       "    <tr>\n",
       "      <th>Fruit / Vegetable Beer</th>\n",
       "      <td>3.000000</td>\n",
       "      <td>1</td>\n",
       "    </tr>\n",
       "    <tr>\n",
       "      <th>Hefeweizen</th>\n",
       "      <td>3.411458</td>\n",
       "      <td>96</td>\n",
       "    </tr>\n",
       "    <tr>\n",
       "      <th>Herbed / Spiced Beer</th>\n",
       "      <td>3.500000</td>\n",
       "      <td>2</td>\n",
       "    </tr>\n",
       "    <tr>\n",
       "      <th>Russian Imperial Stout</th>\n",
       "      <td>3.709302</td>\n",
       "      <td>86</td>\n",
       "    </tr>\n",
       "    <tr>\n",
       "      <th>Scottish Ale</th>\n",
       "      <td>3.394118</td>\n",
       "      <td>85</td>\n",
       "    </tr>\n",
       "    <tr>\n",
       "      <th>Winter Warmer</th>\n",
       "      <td>3.815217</td>\n",
       "      <td>46</td>\n",
       "    </tr>\n",
       "    <tr>\n",
       "      <th rowspan=\"6\" valign=\"top\">14</th>\n",
       "      <th>Altbier</th>\n",
       "      <td>4.000000</td>\n",
       "      <td>2</td>\n",
       "    </tr>\n",
       "    <tr>\n",
       "      <th>American Amber / Red Ale</th>\n",
       "      <td>3.735294</td>\n",
       "      <td>34</td>\n",
       "    </tr>\n",
       "    <tr>\n",
       "      <th>American Barleywine</th>\n",
       "      <td>4.207317</td>\n",
       "      <td>41</td>\n",
       "    </tr>\n",
       "    <tr>\n",
       "      <th>American Brown Ale</th>\n",
       "      <td>4.333333</td>\n",
       "      <td>3</td>\n",
       "    </tr>\n",
       "    <tr>\n",
       "      <th>American Double / Imperial IPA</th>\n",
       "      <td>4.078125</td>\n",
       "      <td>32</td>\n",
       "    </tr>\n",
       "    <tr>\n",
       "      <th>American IPA</th>\n",
       "      <td>4.142157</td>\n",
       "      <td>102</td>\n",
       "    </tr>\n",
       "    <tr>\n",
       "      <th>...</th>\n",
       "      <th>...</th>\n",
       "      <td>...</td>\n",
       "      <td>...</td>\n",
       "    </tr>\n",
       "    <tr>\n",
       "      <th>26946</th>\n",
       "      <th>American Malt Liquor</th>\n",
       "      <td>3.125000</td>\n",
       "      <td>8</td>\n",
       "    </tr>\n",
       "    <tr>\n",
       "      <th>26983</th>\n",
       "      <th>English Porter</th>\n",
       "      <td>3.500000</td>\n",
       "      <td>1</td>\n",
       "    </tr>\n",
       "    <tr>\n",
       "      <th rowspan=\"7\" valign=\"top\">26990</th>\n",
       "      <th>American Amber / Red Ale</th>\n",
       "      <td>4.166667</td>\n",
       "      <td>3</td>\n",
       "    </tr>\n",
       "    <tr>\n",
       "      <th>American Black Ale</th>\n",
       "      <td>4.000000</td>\n",
       "      <td>1</td>\n",
       "    </tr>\n",
       "    <tr>\n",
       "      <th>American Double / Imperial IPA</th>\n",
       "      <td>4.125000</td>\n",
       "      <td>4</td>\n",
       "    </tr>\n",
       "    <tr>\n",
       "      <th>American IPA</th>\n",
       "      <td>4.750000</td>\n",
       "      <td>2</td>\n",
       "    </tr>\n",
       "    <tr>\n",
       "      <th>American Pale Ale (APA)</th>\n",
       "      <td>3.500000</td>\n",
       "      <td>1</td>\n",
       "    </tr>\n",
       "    <tr>\n",
       "      <th>American Porter</th>\n",
       "      <td>4.166667</td>\n",
       "      <td>6</td>\n",
       "    </tr>\n",
       "    <tr>\n",
       "      <th>Winter Warmer</th>\n",
       "      <td>4.000000</td>\n",
       "      <td>2</td>\n",
       "    </tr>\n",
       "    <tr>\n",
       "      <th rowspan=\"5\" valign=\"top\">27021</th>\n",
       "      <th>American Amber / Red Ale</th>\n",
       "      <td>3.750000</td>\n",
       "      <td>2</td>\n",
       "    </tr>\n",
       "    <tr>\n",
       "      <th>American Blonde Ale</th>\n",
       "      <td>4.250000</td>\n",
       "      <td>2</td>\n",
       "    </tr>\n",
       "    <tr>\n",
       "      <th>American IPA</th>\n",
       "      <td>4.125000</td>\n",
       "      <td>4</td>\n",
       "    </tr>\n",
       "    <tr>\n",
       "      <th>American Porter</th>\n",
       "      <td>4.000000</td>\n",
       "      <td>1</td>\n",
       "    </tr>\n",
       "    <tr>\n",
       "      <th>Tripel</th>\n",
       "      <td>3.500000</td>\n",
       "      <td>1</td>\n",
       "    </tr>\n",
       "    <tr>\n",
       "      <th>27079</th>\n",
       "      <th>American Blonde Ale</th>\n",
       "      <td>4.000000</td>\n",
       "      <td>1</td>\n",
       "    </tr>\n",
       "    <tr>\n",
       "      <th>27080</th>\n",
       "      <th>Scottish Ale</th>\n",
       "      <td>3.500000</td>\n",
       "      <td>2</td>\n",
       "    </tr>\n",
       "    <tr>\n",
       "      <th>27133</th>\n",
       "      <th>American IPA</th>\n",
       "      <td>4.000000</td>\n",
       "      <td>1</td>\n",
       "    </tr>\n",
       "    <tr>\n",
       "      <th>27136</th>\n",
       "      <th>American Pale Ale (APA)</th>\n",
       "      <td>3.500000</td>\n",
       "      <td>2</td>\n",
       "    </tr>\n",
       "    <tr>\n",
       "      <th>27361</th>\n",
       "      <th>English Bitter</th>\n",
       "      <td>3.500000</td>\n",
       "      <td>1</td>\n",
       "    </tr>\n",
       "    <tr>\n",
       "      <th rowspan=\"8\" valign=\"top\">27632</th>\n",
       "      <th>American Amber / Red Ale</th>\n",
       "      <td>4.000000</td>\n",
       "      <td>2</td>\n",
       "    </tr>\n",
       "    <tr>\n",
       "      <th>American Blonde Ale</th>\n",
       "      <td>3.000000</td>\n",
       "      <td>1</td>\n",
       "    </tr>\n",
       "    <tr>\n",
       "      <th>American IPA</th>\n",
       "      <td>4.000000</td>\n",
       "      <td>1</td>\n",
       "    </tr>\n",
       "    <tr>\n",
       "      <th>American Pale Ale (APA)</th>\n",
       "      <td>3.000000</td>\n",
       "      <td>1</td>\n",
       "    </tr>\n",
       "    <tr>\n",
       "      <th>Baltic Porter</th>\n",
       "      <td>4.000000</td>\n",
       "      <td>1</td>\n",
       "    </tr>\n",
       "    <tr>\n",
       "      <th>English Bitter</th>\n",
       "      <td>3.000000</td>\n",
       "      <td>1</td>\n",
       "    </tr>\n",
       "    <tr>\n",
       "      <th>English India Pale Ale (IPA)</th>\n",
       "      <td>4.000000</td>\n",
       "      <td>1</td>\n",
       "    </tr>\n",
       "    <tr>\n",
       "      <th>Russian Imperial Stout</th>\n",
       "      <td>4.500000</td>\n",
       "      <td>1</td>\n",
       "    </tr>\n",
       "    <tr>\n",
       "      <th>27645</th>\n",
       "      <th>American Pale Ale (APA)</th>\n",
       "      <td>4.500000</td>\n",
       "      <td>1</td>\n",
       "    </tr>\n",
       "    <tr>\n",
       "      <th rowspan=\"2\" valign=\"top\">27797</th>\n",
       "      <th>American Pale Lager</th>\n",
       "      <td>3.250000</td>\n",
       "      <td>4</td>\n",
       "    </tr>\n",
       "    <tr>\n",
       "      <th>Light Lager</th>\n",
       "      <td>3.250000</td>\n",
       "      <td>2</td>\n",
       "    </tr>\n",
       "  </tbody>\n",
       "</table>\n",
       "<p>5289 rows × 2 columns</p>\n",
       "</div>"
      ],
      "text/plain": [
       "                                               mean  count\n",
       "brewer_id beer_style                                      \n",
       "1          Baltic Porter                   4.125000      4\n",
       "           Czech Pilsener                  3.821668   1343\n",
       "           Euro Strong Lager               3.416667      6\n",
       "           Vienna Lager                    3.625000      4\n",
       "2          American Blonde Ale             3.750000      2\n",
       "           American Dark Wheat Ale         2.187500      8\n",
       "           American IPA                    4.166667      3\n",
       "           American Pale Ale (APA)         4.000000      3\n",
       "           American Pale Wheat Ale         3.083333      6\n",
       "           American Porter                 2.416667      6\n",
       "           American Stout                  3.700000     10\n",
       "           English Brown Ale               3.500000      2\n",
       "5          American Amber / Red Ale        3.794118     17\n",
       "           American Blonde Ale             4.000000      1\n",
       "           American IPA                    3.702381     84\n",
       "           American Pale Ale (APA)         3.766667    105\n",
       "           English India Pale Ale (IPA)    3.250000     84\n",
       "           English Porter                  4.053719    121\n",
       "           Fruit / Vegetable Beer          3.000000      1\n",
       "           Hefeweizen                      3.411458     96\n",
       "           Herbed / Spiced Beer            3.500000      2\n",
       "           Russian Imperial Stout          3.709302     86\n",
       "           Scottish Ale                    3.394118     85\n",
       "           Winter Warmer                   3.815217     46\n",
       "14         Altbier                         4.000000      2\n",
       "           American Amber / Red Ale        3.735294     34\n",
       "           American Barleywine             4.207317     41\n",
       "           American Brown Ale              4.333333      3\n",
       "           American Double / Imperial IPA  4.078125     32\n",
       "           American IPA                    4.142157    102\n",
       "...                                             ...    ...\n",
       "26946      American Malt Liquor            3.125000      8\n",
       "26983      English Porter                  3.500000      1\n",
       "26990      American Amber / Red Ale        4.166667      3\n",
       "           American Black Ale              4.000000      1\n",
       "           American Double / Imperial IPA  4.125000      4\n",
       "           American IPA                    4.750000      2\n",
       "           American Pale Ale (APA)         3.500000      1\n",
       "           American Porter                 4.166667      6\n",
       "           Winter Warmer                   4.000000      2\n",
       "27021      American Amber / Red Ale        3.750000      2\n",
       "           American Blonde Ale             4.250000      2\n",
       "           American IPA                    4.125000      4\n",
       "           American Porter                 4.000000      1\n",
       "           Tripel                          3.500000      1\n",
       "27079      American Blonde Ale             4.000000      1\n",
       "27080      Scottish Ale                    3.500000      2\n",
       "27133      American IPA                    4.000000      1\n",
       "27136      American Pale Ale (APA)         3.500000      2\n",
       "27361      English Bitter                  3.500000      1\n",
       "27632      American Amber / Red Ale        4.000000      2\n",
       "           American Blonde Ale             3.000000      1\n",
       "           American IPA                    4.000000      1\n",
       "           American Pale Ale (APA)         3.000000      1\n",
       "           Baltic Porter                   4.000000      1\n",
       "           English Bitter                  3.000000      1\n",
       "           English India Pale Ale (IPA)    4.000000      1\n",
       "           Russian Imperial Stout          4.500000      1\n",
       "27645      American Pale Ale (APA)         4.500000      1\n",
       "27797      American Pale Lager             3.250000      4\n",
       "           Light Lager                     3.250000      2\n",
       "\n",
       "[5289 rows x 2 columns]"
      ]
     },
     "execution_count": 56,
     "metadata": {},
     "output_type": "execute_result"
    }
   ],
   "source": [
    "f"
   ]
  },
  {
   "cell_type": "code",
   "execution_count": 16,
   "metadata": {
    "collapsed": false
   },
   "outputs": [
    {
     "data": {
      "text/plain": [
       "<matplotlib.axes._subplots.AxesSubplot at 0x11f5aae10>"
      ]
     },
     "execution_count": 16,
     "metadata": {},
     "output_type": "execute_result"
    },
    {
     "data": {
      "image/png": "[encoded data removed]",
      "text/plain": [
       "<matplotlib.figure.Figure at 0x11f5ad128>"
      ]
     },
     "metadata": {},
     "output_type": "display_data"
    }
   ],
   "source": [
    "df.text.str.len().plot(kind='hist', bins=40)"
   ]
  },
  {
   "cell_type": "code",
   "execution_count": 23,
   "metadata": {
    "collapsed": false
   },
   "outputs": [
    {
     "data": {
      "text/plain": [
       "<matplotlib.axes._subplots.AxesSubplot at 0x116b13860>"
      ]
     },
     "execution_count": 23,
     "metadata": {},
     "output_type": "execute_result"
    },
    {
     "data": {
      "image/png": "[encoded data removed]",
      "text/plain": [
       "<matplotlib.figure.Figure at 0x118273550>"
      ]
     },
     "metadata": {},
     "output_type": "display_data"
    }
   ],
   "source": [
    "df.groupby(df.text.str.len()).review_overall.mean().plot(style='k.', figsize=(12, 5))"
   ]
  },
  {
   "cell_type": "code",
   "execution_count": 36,
   "metadata": {
    "collapsed": false
   },
   "outputs": [
    {
     "data": {
      "image/png": "[encoded data removed]",
      "text/plain": [
       "<matplotlib.figure.Figure at 0x11fb93588>"
      ]
     },
     "metadata": {},
     "output_type": "display_data"
    }
   ],
   "source": [
    "ax = (df.groupby(df.text.str.len())\n",
    "   .review_overall.agg(['mean', 'std', 'count'])\n",
    "   .query('count > 5')['mean']\n",
    "   .plot(style='k.', figsize=(12, 5))\n",
    " )"
   ]
  },
  {
   "cell_type": "code",
   "execution_count": 39,
   "metadata": {
    "collapsed": false
   },
   "outputs": [
    {
     "ename": "TypeError",
     "evalue": "object of type 'float' has no len()",
     "output_type": "error",
     "traceback": [
      "\u001b[0;31m---------------------------------------------------------------------------\u001b[0m",
      "\u001b[0;31mTypeError\u001b[0m                                 Traceback (most recent call last)",
      "\u001b[0;32m<ipython-input-39-0af6c8567917>\u001b[0m in \u001b[0;36m<module>\u001b[0;34m()\u001b[0m\n\u001b[0;32m----> 1\u001b[0;31m \u001b[0mdf\u001b[0m\u001b[0;34m.\u001b[0m\u001b[0mtext\u001b[0m\u001b[0;34m.\u001b[0m\u001b[0mstr\u001b[0m\u001b[0;34m.\u001b[0m\u001b[0msplit\u001b[0m\u001b[0;34m(\u001b[0m\u001b[0;34m)\u001b[0m\u001b[0;34m.\u001b[0m\u001b[0mapply\u001b[0m\u001b[0;34m(\u001b[0m\u001b[0mlen\u001b[0m\u001b[0;34m)\u001b[0m\u001b[0;34m\u001b[0m\u001b[0m\n\u001b[0m",
      "\u001b[0;32m/Users/tom.augspurger/Envs/sea/lib/python3.4/site-packages/pandas/core/series.py\u001b[0m in \u001b[0;36mapply\u001b[0;34m(self, func, convert_dtype, args, **kwds)\u001b[0m\n\u001b[1;32m   2058\u001b[0m             \u001b[0mvalues\u001b[0m \u001b[0;34m=\u001b[0m \u001b[0mlib\u001b[0m\u001b[0;34m.\u001b[0m\u001b[0mmap_infer\u001b[0m\u001b[0;34m(\u001b[0m\u001b[0mvalues\u001b[0m\u001b[0;34m,\u001b[0m \u001b[0mlib\u001b[0m\u001b[0;34m.\u001b[0m\u001b[0mTimestamp\u001b[0m\u001b[0;34m)\u001b[0m\u001b[0;34m\u001b[0m\u001b[0m\n\u001b[1;32m   2059\u001b[0m \u001b[0;34m\u001b[0m\u001b[0m\n\u001b[0;32m-> 2060\u001b[0;31m         \u001b[0mmapped\u001b[0m \u001b[0;34m=\u001b[0m \u001b[0mlib\u001b[0m\u001b[0;34m.\u001b[0m\u001b[0mmap_infer\u001b[0m\u001b[0;34m(\u001b[0m\u001b[0mvalues\u001b[0m\u001b[0;34m,\u001b[0m \u001b[0mf\u001b[0m\u001b[0;34m,\u001b[0m \u001b[0mconvert\u001b[0m\u001b[0;34m=\u001b[0m\u001b[0mconvert_dtype\u001b[0m\u001b[0;34m)\u001b[0m\u001b[0;34m\u001b[0m\u001b[0m\n\u001b[0m\u001b[1;32m   2061\u001b[0m         \u001b[0;32mif\u001b[0m \u001b[0mlen\u001b[0m\u001b[0;34m(\u001b[0m\u001b[0mmapped\u001b[0m\u001b[0;34m)\u001b[0m \u001b[0;32mand\u001b[0m \u001b[0misinstance\u001b[0m\u001b[0;34m(\u001b[0m\u001b[0mmapped\u001b[0m\u001b[0;34m[\u001b[0m\u001b[0;36m0\u001b[0m\u001b[0;34m]\u001b[0m\u001b[0;34m,\u001b[0m \u001b[0mSeries\u001b[0m\u001b[0;34m)\u001b[0m\u001b[0;34m:\u001b[0m\u001b[0;34m\u001b[0m\u001b[0m\n\u001b[1;32m   2062\u001b[0m             \u001b[0;32mfrom\u001b[0m \u001b[0mpandas\u001b[0m\u001b[0;34m.\u001b[0m\u001b[0mcore\u001b[0m\u001b[0;34m.\u001b[0m\u001b[0mframe\u001b[0m \u001b[0;32mimport\u001b[0m \u001b[0mDataFrame\u001b[0m\u001b[0;34m\u001b[0m\u001b[0m\n",
      "\u001b[0;32mpandas/src/inference.pyx\u001b[0m in \u001b[0;36mpandas.lib.map_infer (pandas/lib.c:58435)\u001b[0;34m()\u001b[0m\n",
      "\u001b[0;31mTypeError\u001b[0m: object of type 'float' has no len()"
     ]
    }
   ],
   "source": [
    "df.text.str.split().apply(len)"
   ]
  },
  {
   "cell_type": "code",
   "execution_count": 42,
   "metadata": {
    "collapsed": false
   },
   "outputs": [
    {
     "data": {
      "image/png": "[encoded data removed]",
      "text/plain": [
       "<matplotlib.figure.Figure at 0x17393f128>"
      ]
     },
     "metadata": {},
     "output_type": "display_data"
    }
   ],
   "source": [
    "ax = (df.groupby(df.text.str.count(' '))\n",
    "   .review_overall.agg(['mean', 'std', 'count'])\n",
    "   .query('count > 5')['mean']\n",
    "   .plot(style='k.', figsize=(12, 5))\n",
    " )"
   ]
  },
  {
   "cell_type": "code",
   "execution_count": 29,
   "metadata": {
    "collapsed": true
   },
   "outputs": [],
   "source": [
    "import statsmodels.api as sm"
   ]
  },
  {
   "cell_type": "code",
   "execution_count": 30,
   "metadata": {
    "collapsed": true
   },
   "outputs": [],
   "source": [
    "y = sm.nonparametric.lowess(df.review_overall, df.text.str.len())"
   ]
  },
  {
   "cell_type": "code",
   "execution_count": 33,
   "metadata": {
    "collapsed": true
   },
   "outputs": [],
   "source": [
    "import matplotlib.pyplot as plt"
   ]
  },
  {
   "cell_type": "code",
   "execution_count": null,
   "metadata": {
    "collapsed": true
   },
   "outputs": [],
   "source": []
  },
  {
   "cell_type": "code",
   "execution_count": 104,
   "metadata": {
    "collapsed": true
   },
   "outputs": [],
   "source": [
    "%matplotlib inline\n",
    "\n",
    "from itertools import islice\n",
    "from toolz import partitionby\n",
    "\n",
    "import numpy as np\n",
    "import pandas as pd\n",
    "\n",
    "pd.options.display.max_rows = 10"
   ]
  },
  {
   "cell_type": "code",
   "execution_count": 36,
   "metadata": {
    "collapsed": false
   },
   "outputs": [
    {
     "data": {
      "text/plain": [
       "['beer/name: Sausa Weizen\\n',\n",
       " 'beer/beerId: 47986\\n',\n",
       " 'beer/brewerId: 10325\\n',\n",
       " 'beer/ABV: 5.00\\n',\n",
       " 'beer/style: Hefeweizen\\n',\n",
       " 'review/appearance: 2.5\\n',\n",
       " 'review/aroma: 2\\n',\n",
       " 'review/palate: 1.5\\n',\n",
       " 'review/taste: 1.5\\n',\n",
       " 'review/overall: 1.5\\n',\n",
       " 'review/time: 1234817823\\n',\n",
       " 'review/profileName: stcules\\n',\n",
       " 'review/text: A lot of foam. But a lot.\\tIn the smell some banana, and then lactic and tart. Not a good start.\\tQuite dark orange in color, with a lively carbonation (now visible, under the foam).\\tAgain tending to lactic sourness.\\tSame for the taste. With some yeast and banana.\\t\\t\\n',\n",
       " '\\n',\n",
       " 'beer/name: Red Moon\\n']"
      ]
     },
     "execution_count": 36,
     "metadata": {},
     "output_type": "execute_result"
    }
   ],
   "source": [
    "f = open('../data/beeradvocate.txt')\n",
    "f.readlines(545)"
   ]
  },
  {
   "cell_type": "code",
   "execution_count": 48,
   "metadata": {
    "collapsed": false
   },
   "outputs": [],
   "source": [
    "f.seek(0)\n",
    "reviews = filter(lambda x: x != ('\\n',), partitionby(lambda x: x == '\\n', f))"
   ]
  },
  {
   "cell_type": "code",
   "execution_count": 49,
   "metadata": {
    "collapsed": false
   },
   "outputs": [
    {
     "data": {
      "text/plain": [
       "('beer/name: Sausa Weizen\\n',\n",
       " 'beer/beerId: 47986\\n',\n",
       " 'beer/brewerId: 10325\\n',\n",
       " 'beer/ABV: 5.00\\n',\n",
       " 'beer/style: Hefeweizen\\n',\n",
       " 'review/appearance: 2.5\\n',\n",
       " 'review/aroma: 2\\n',\n",
       " 'review/palate: 1.5\\n',\n",
       " 'review/taste: 1.5\\n',\n",
       " 'review/overall: 1.5\\n',\n",
       " 'review/time: 1234817823\\n',\n",
       " 'review/profileName: stcules\\n',\n",
       " 'review/text: A lot of foam. But a lot.\\tIn the smell some banana, and then lactic and tart. Not a good start.\\tQuite dark orange in color, with a lively carbonation (now visible, under the foam).\\tAgain tending to lactic sourness.\\tSame for the taste. With some yeast and banana.\\t\\t\\n')"
      ]
     },
     "execution_count": 49,
     "metadata": {},
     "output_type": "execute_result"
    }
   ],
   "source": [
    "review = next(reviews)\n",
    "review"
   ]
  },
  {
   "cell_type": "code",
   "execution_count": 55,
   "metadata": {
    "collapsed": false
   },
   "outputs": [
    {
     "name": "stdout",
     "output_type": "stream",
     "text": [
      " 22212596 ../data/beeradvocate.txt\r\n"
     ]
    }
   ],
   "source": [
    "!wc -l ../data/beeradvocate.txt"
   ]
  },
  {
   "cell_type": "code",
   "execution_count": 136,
   "metadata": {
    "collapsed": true
   },
   "outputs": [],
   "source": [
    "def to_json(reviews, i):\n",
    "    with open('reviews-{}.json'.format(i), 'w') as f:\n",
    "        json.dump(reviews, f)"
   ]
  },
  {
   "cell_type": "code",
   "execution_count": 137,
   "metadata": {
    "collapsed": false
   },
   "outputs": [
    {
     "name": "stdout",
     "output_type": "stream",
     "text": []
    }
   ],
   "source": [
    "with open('../data/beeradvocate.txt') as f:\n",
    "    reviews = filter(lambda x: x != ('\\n',),\n",
    "                     partitionby(lambda x: x == '\\n', f))\n",
    "    reviews = map(format_review, reviews)\n",
    "    reviews = partition(10000, reviews, pad=None)\n",
    "    reviews = filter(None, reviews)\n",
    "    for i, subset in enumerate(reviews):\n",
    "        to_json(subset, i)\n",
    "        print(i, end='\\r')\n",
    "\n"
   ]
  },
  {
   "cell_type": "code",
   "execution_count": 127,
   "metadata": {
    "collapsed": false
   },
   "outputs": [],
   "source": [
    "# %load ../data/parse_beer.py\n",
    "from itertools import islice\n",
    "\n",
    "import pandas as pd\n",
    "from toolz import partitionby, partition\n",
    "\n",
    "\n",
    "def format_review(review):\n",
    "    return dict(map(lambda x: x.strip().split(\":\", 1), review))\n",
    "\n",
    "with open('../data/beeradvocate.txt') as f:\n",
    "    reviews = filter(lambda x: x != ('\\n',),\n",
    "                     partitionby(lambda x: x == '\\n', f))\n",
    "    reviews = map(format_review, reviews)\n",
    "    subset = islice(reviews, 100000)\n",
    "    df = pd.DataFrame(list(subset))\n",
    "\n",
    "\n",
    "col_names = {\n",
    "    'beer/ABV': 'abv',\n",
    "    'beer/beerId': 'beer_id',\n",
    "    'beer/brewerId': 'brewer_id',\n",
    "    'beer/name': 'beer_name',\n",
    "    'beer/style': 'beer_style',\n",
    "    'review/appearance': 'review_appearance',\n",
    "    'review/aroma': 'review_aroma',\n",
    "    'review/overall': 'review_overall',\n",
    "    'review/palate': 'review_palate',\n",
    "    'review/profileName': 'profile_name',\n",
    "    'review/taste': 'review_taste',\n",
    "    'review/text': 'text',\n",
    "    'review/time': 'time'\n",
    "}\n",
    "\n",
    "numeric = ['abv', 'review_appearance', 'review_aroma',\n",
    "           'review_overall', 'review_palate', 'review_taste']\n",
    "df = (df.rename(columns=col_names)\n",
    "        .replace('', np.nan))\n",
    "df[numeric] = df[numeric].astype(float)\n",
    "df['time'] = pd.to_datetime(df.time.astype(int), unit='s')\n"
   ]
  },
  {
   "cell_type": "code",
   "execution_count": 96,
   "metadata": {
    "collapsed": false
   },
   "outputs": [],
   "source": [
    "import seaborn as sns"
   ]
  },
  {
   "cell_type": "code",
   "execution_count": 91,
   "metadata": {
    "collapsed": false
   },
   "outputs": [],
   "source": [
    "df[numeric] = df[numeric].astype(float)"
   ]
  },
  {
   "cell_type": "code",
   "execution_count": 98,
   "metadata": {
    "collapsed": false
   },
   "outputs": [
    {
     "name": "stdout",
     "output_type": "stream",
     "text": [
      "<class 'pandas.core.frame.DataFrame'>\n",
      "Int64Index: 100000 entries, 0 to 99999\n",
      "Data columns (total 13 columns):\n",
      "abv                  97223 non-null float64\n",
      "beer_id              100000 non-null object\n",
      "brewer_id            100000 non-null object\n",
      "beer_name            100000 non-null object\n",
      "beer_style           100000 non-null object\n",
      "review_appearance    100000 non-null float64\n",
      "review_aroma         100000 non-null float64\n",
      "review_overall       100000 non-null float64\n",
      "review_palate        100000 non-null float64\n",
      "profile_name         99985 non-null object\n",
      "review_taste         100000 non-null float64\n",
      "text                 99975 non-null object\n",
      "time                 100000 non-null datetime64[ns]\n",
      "dtypes: datetime64[ns](1), float64(6), object(6)\n",
      "memory usage: 10.7+ MB\n"
     ]
    }
   ],
   "source": [
    "df.info()"
   ]
  },
  {
   "cell_type": "code",
   "execution_count": 110,
   "metadata": {
    "collapsed": false
   },
   "outputs": [
    {
     "data": {
      "text/plain": [
       "<matplotlib.axes._subplots.AxesSubplot at 0x107cf5908>"
      ]
     },
     "execution_count": 110,
     "metadata": {},
     "output_type": "execute_result"
    },
    {
     "data": {
      "image/png": "[encoded data removed]",
      "text/plain": [
       "<matplotlib.figure.Figure at 0x10c0d6320>"
      ]
     },
     "metadata": {},
     "output_type": "display_data"
    }
   ],
   "source": [
    "df.groupby('beer_id').review_overall.mean().plot(kind='hist', bins=10)"
   ]
  },
  {
   "cell_type": "code",
   "execution_count": 111,
   "metadata": {
    "collapsed": false
   },
   "outputs": [
    {
     "data": {
      "text/plain": [
       "<matplotlib.axes._subplots.AxesSubplot at 0x10bede080>"
      ]
     },
     "execution_count": 111,
     "metadata": {},
     "output_type": "execute_result"
    },
    {
     "data": {
      "image/png": "[encoded data removed]",
      "text/plain": [
       "<matplotlib.figure.Figure at 0x10ae59b70>"
      ]
     },
     "metadata": {},
     "output_type": "display_data"
    }
   ],
   "source": [
    "df.groupby('brewer_id').review_overall.mean().plot(kind='hist', bins=10)"
   ]
  },
  {
   "cell_type": "code",
   "execution_count": 113,
   "metadata": {
    "collapsed": false
   },
   "outputs": [
    {
     "data": {
      "text/plain": [
       "<matplotlib.axes._subplots.AxesSubplot at 0x1079f69b0>"
      ]
     },
     "execution_count": 113,
     "metadata": {},
     "output_type": "execute_result"
    },
    {
     "data": {
      "image/png": "[encoded data removed]",
      "text/plain": [
       "<matplotlib.figure.Figure at 0x1079f9da0>"
      ]
     },
     "metadata": {},
     "output_type": "display_data"
    }
   ],
   "source": [
    "df.groupby('profile_name').review_overall.mean().plot(kind='hist', bins=10)"
   ]
  },
  {
   "cell_type": "code",
   "execution_count": 123,
   "metadata": {
    "collapsed": false
   },
   "outputs": [
    {
     "data": {
      "text/plain": [
       "<matplotlib.axes._subplots.AxesSubplot at 0x16f65c668>"
      ]
     },
     "execution_count": 123,
     "metadata": {},
     "output_type": "execute_result"
    },
    {
     "data": {
      "image/png": "[encoded data removed]",
      "text/plain": [
       "<matplotlib.figure.Figure at 0x16f08dc18>"
      ]
     },
     "metadata": {},
     "output_type": "display_data"
    }
   ],
   "source": [
    "df.profile_name.value_counts().value_counts().sort_index().pipe(np.log).plot(kind='bar', grid=False, figsize=(12, 5))"
   ]
  },
  {
   "cell_type": "code",
   "execution_count": 102,
   "metadata": {
    "collapsed": false
   },
   "outputs": [
    {
     "data": {
      "text/plain": [
       "<seaborn.axisgrid.PairGrid at 0x162383fd0>"
      ]
     },
     "execution_count": 102,
     "metadata": {},
     "output_type": "execute_result"
    },
    {
     "data": {
      "image/png": "[encoded data removed]",
      "text/plain": [
       "<matplotlib.figure.Figure at 0x16f2f8ba8>"
      ]
     },
     "metadata": {},
     "output_type": "display_data"
    }
   ],
   "source": [
    "sns.pairplot(df.sample(5000),\n",
    "             vars=['review_appearance', 'review_aroma', 'review_overall', 'review_palate', 'review_taste'])"
   ]
  },
  {
   "cell_type": "code",
   "execution_count": 56,
   "metadata": {
    "collapsed": true
   },
   "outputs": [],
   "source": [
    "import dask.dataframe as dd\n",
    "df = dd.read_csv('../data/beer_reviews/*.csv')\n",
    "counts = df.profile_name.value_counts().compute().nlargest(100)\n",
    "top_users = counts.nlargest(100)\n",
    "top_users\n",
    "%time\n",
    "top = df[df.profile_name.isin(top_users.index)].compute()\n",
    "top.to_csv('top_users_beer.csv', index=False)\n",
    "top = pd.read_csv('top_users_beer.csv')\n",
    "top.head()\n",
    "review_cols = ['review_appearance', 'review_aroma', 'review_overall',\n",
    "               'review_palate', 'review_taste']\n",
    "cols = ['beer_name', 'beer_style', 'profile_name']\n",
    "top[cols] = top[cols].apply(lambda x: x.str.strip())\n",
    "top.profile_name.value_counts().plot(kind='hist', color='k')"
   ]
  },
  {
   "cell_type": "code",
   "execution_count": null,
   "metadata": {
    "collapsed": true
   },
   "outputs": [],
   "source": []
  }
 ],
 "metadata": {
  "kernelspec": {
   "display_name": "Python 3",
   "language": "python",
   "name": "python3"
  },
  "language_info": {
   "codemirror_mode": {
    "name": "ipython",
    "version": 3
   },
   "file_extension": ".py",
   "mimetype": "text/x-python",
   "name": "python",
   "nbconvert_exporter": "python",
   "pygments_lexer": "ipython3",
   "version": "3.4.3"
  }
 },
 "nbformat": 4,
 "nbformat_minor": 0
}
