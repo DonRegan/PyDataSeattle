{
 "cells": [
  {
   "cell_type": "code",
   "execution_count": 2,
   "metadata": {
    "collapsed": true
   },
   "outputs": [],
   "source": [
    "import numpy as np\n",
    "import pandas as pd\n",
    "import seaborn as sns\n",
    "import matplotlib.pyplot as plt\n",
    "\n",
    "sns.set_style(\"white\")\n",
    "\n",
    "plt.rcParams['figure.figsize'] = (12, 8)\n",
    "\n",
    "%matplotlib inline"
   ]
  },
  {
   "cell_type": "code",
   "execution_count": 3,
   "metadata": {
    "collapsed": true
   },
   "outputs": [],
   "source": [
    "pd.options.display.max_rows = 20"
   ]
  },
  {
   "cell_type": "code",
   "execution_count": 4,
   "metadata": {
    "collapsed": false
   },
   "outputs": [
    {
     "name": "stdout",
     "output_type": "stream",
     "text": [
      "  432102 iowa-liquor.csv.gz\r\n"
     ]
    }
   ],
   "source": [
    "! wc -l iowa-liquor.csv.gz"
   ]
  },
  {
   "cell_type": "code",
   "execution_count": 5,
   "metadata": {
    "collapsed": false
   },
   "outputs": [
    {
     "name": "stderr",
     "output_type": "stream",
     "text": [
      "/Users/tom.augspurger/Envs/py3/lib/python3.4/site-packages/pandas-0.16.1_144_ga8b5798-py3.4-macosx-10.10-x86_64.egg/pandas/io/parsers.py:1170: DtypeWarning: Columns (6) have mixed types. Specify dtype option on import or set low_memory=False.\n",
      "  data = self._reader.read(nrows)\n"
     ]
    }
   ],
   "source": [
    "df = pd.read_csv(\"iowa-liquor.csv.gz\", nrows=None, parse_dates=['DATE'], compression=\"gzip\")"
   ]
  },
  {
   "cell_type": "code",
   "execution_count": 9,
   "metadata": {
    "collapsed": false
   },
   "outputs": [],
   "source": [
    "df = df.sort('DATE')"
   ]
  },
  {
   "cell_type": "code",
   "execution_count": 15,
   "metadata": {
    "collapsed": false
   },
   "outputs": [],
   "source": [
    "df[df.DATE < pd.Timestamp('2014-07-01')].to_csv('liquor-small.csv', index=False)"
   ]
  },
  {
   "cell_type": "code",
   "execution_count": 12,
   "metadata": {
    "collapsed": false
   },
   "outputs": [
    {
     "data": {
      "text/plain": [
       "2014    2733404\n",
       "2015     316509\n",
       "dtype: int64"
      ]
     },
     "execution_count": 12,
     "metadata": {},
     "output_type": "execute_result"
    }
   ],
   "source": [
    "df.DATE.dt.year.value_counts()"
   ]
  },
  {
   "cell_type": "code",
   "execution_count": null,
   "metadata": {
    "collapsed": true
   },
   "outputs": [],
   "source": [
    "df[df.DATE < pd.Timestamp('')]"
   ]
  },
  {
   "cell_type": "code",
   "execution_count": 52,
   "metadata": {
    "collapsed": false
   },
   "outputs": [],
   "source": [
    "s = df.ZIPCODE.head().iloc[0]"
   ]
  },
  {
   "cell_type": "code",
   "execution_count": 54,
   "metadata": {
    "collapsed": false
   },
   "outputs": [],
   "source": [
    "import re"
   ]
  },
  {
   "cell_type": "code",
   "execution_count": 57,
   "metadata": {
    "collapsed": false
   },
   "outputs": [
    {
     "data": {
      "text/plain": [
       "<_sre.SRE_Match object; span=(0, 5), match='50401'>"
      ]
     },
     "execution_count": 57,
     "metadata": {},
     "output_type": "execute_result"
    }
   ],
   "source": [
    "re.match('\\d{5}', str(s))"
   ]
  },
  {
   "cell_type": "code",
   "execution_count": 65,
   "metadata": {
    "collapsed": false
   },
   "outputs": [],
   "source": [
    "s = df.ZIPCODE.astype(str)"
   ]
  },
  {
   "cell_type": "code",
   "execution_count": 69,
   "metadata": {
    "collapsed": false
   },
   "outputs": [
    {
     "data": {
      "text/plain": [
       "0    50401\n",
       "1    50401\n",
       "2    50401\n",
       "3    50401\n",
       "4    50401\n",
       "Name: ZIPCODE, dtype: object"
      ]
     },
     "execution_count": 69,
     "metadata": {},
     "output_type": "execute_result"
    }
   ],
   "source": [
    "s.head().str.extract('(\\d{5})')"
   ]
  },
  {
   "cell_type": "code",
   "execution_count": 2,
   "metadata": {
    "collapsed": true
   },
   "outputs": [],
   "source": [
    "df.dropna?"
   ]
  },
  {
   "cell_type": "code",
   "execution_count": 161,
   "metadata": {
    "collapsed": false
   },
   "outputs": [
    {
     "name": "stdout",
     "output_type": "stream",
     "text": [
      "<class 'pandas.core.frame.DataFrame'>\n",
      "Int64Index: 100000 entries, 0 to 99999\n",
      "Data columns (total 22 columns):\n",
      "DATE                 100000 non-null datetime64[ns]\n",
      "CONVENIENCE STORE    10575 non-null object\n",
      "STORE                100000 non-null int64\n",
      "NAME                 100000 non-null object\n",
      "ADDRESS              100000 non-null object\n",
      "CITY                 100000 non-null object\n",
      "ZIPCODE              100000 non-null object\n",
      "STORE LOCATION       100000 non-null object\n",
      "COUNTY NUMBER        100000 non-null int64\n",
      "COUNTY               100000 non-null object\n",
      "CATEGORY             100000 non-null int64\n",
      "CATEGORY NAME        100000 non-null object\n",
      "VENDOR NO            100000 non-null int64\n",
      "VENDOR               100000 non-null object\n",
      "ITEM                 100000 non-null int64\n",
      "DESCRIPTION          100000 non-null object\n",
      "PACK                 100000 non-null int64\n",
      "LITER SIZE           100000 non-null int64\n",
      "STATE BTL COST       100000 non-null object\n",
      "BTL PRICE            100000 non-null object\n",
      "BOTTLE QTY           100000 non-null int64\n",
      "TOTAL                100000 non-null object\n",
      "dtypes: datetime64[ns](1), int64(8), object(13)\n",
      "memory usage: 17.5+ MB\n"
     ]
    }
   ],
   "source": [
    "df.info()"
   ]
  },
  {
   "cell_type": "code",
   "execution_count": 16,
   "metadata": {
    "collapsed": false
   },
   "outputs": [
    {
     "data": {
      "text/plain": [
       "array([nan, 'Y'], dtype=object)"
      ]
     },
     "execution_count": 16,
     "metadata": {},
     "output_type": "execute_result"
    }
   ],
   "source": [
    "df['CONVENIENCE STORE'].unique()"
   ]
  },
  {
   "cell_type": "code",
   "execution_count": 18,
   "metadata": {
    "collapsed": true
   },
   "outputs": [],
   "source": [
    "df['CONVENIENCE STORE'] = df['CONVENIENCE STORE'] == 'Y'"
   ]
  },
  {
   "cell_type": "code",
   "execution_count": 212,
   "metadata": {
    "collapsed": true
   },
   "outputs": [],
   "source": [
    "df['store'] = pd.Categorical(df['NAME'], ordered=False)\n",
    "# store_map =\n",
    "df = df.drop(['STORE', 'NAME'], axis=1)"
   ]
  },
  {
   "cell_type": "code",
   "execution_count": 29,
   "metadata": {
    "collapsed": false
   },
   "outputs": [],
   "source": [
    "df['CITY'] = pd.Categorical(df['CITY'], ordered=False)"
   ]
  },
  {
   "cell_type": "code",
   "execution_count": 23,
   "metadata": {
    "collapsed": false
   },
   "outputs": [
    {
     "data": {
      "text/plain": [
       "Hy-vee  #2 / Ames                       272\n",
       "Hy-Vee Food Store #1 / Ames             248\n",
       "Hy-Vee Food Store / Johnston            215\n",
       "Hy-Vee Food Store #1 / Mason City       210\n",
       "Hy-Vee Food and Drug / Clinton          209\n",
       "Central City 2                          194\n",
       "Hy-Vee Food Store / Fleur / DSM         192\n",
       "Hy-Vee #3 / BDI / Des Moines            171\n",
       "Hy-Vee / Urbandale                      167\n",
       "Pit Stop Liquors / Newton               165\n",
       "                                       ... \n",
       "Tequila's Liquor Store                   10\n",
       "Kum & Go #208 / SE 14th DM               10\n",
       "Monroe Liquor                             9\n",
       "Casey's General Store #1705 / Lake M      8\n",
       "Wal-Mart 0841 / Tipton                    8\n",
       "The Secret Cellar                         7\n",
       "Casey's General Store #3026 / St Cha      5\n",
       "Mississippi River Distillery              3\n",
       "Wine and Spirits Gallery                  1\n",
       "Hy-Vee Food Store / Muscatine             1\n",
       "dtype: int64"
      ]
     },
     "execution_count": 23,
     "metadata": {},
     "output_type": "execute_result"
    }
   ],
   "source": [
    "df.NAME.value_counts()"
   ]
  },
  {
   "cell_type": "code",
   "execution_count": 35,
   "metadata": {
    "collapsed": false
   },
   "outputs": [],
   "source": [
    "s = df['STORE LOCATION'].iloc[0]"
   ]
  },
  {
   "cell_type": "code",
   "execution_count": 36,
   "metadata": {
    "collapsed": false
   },
   "outputs": [
    {
     "data": {
      "text/plain": [
       "'2400 4TH ST SW\\nMASON CITY 50401\\n(43.148463097000047, -93.236272961999987)'"
      ]
     },
     "execution_count": 36,
     "metadata": {},
     "output_type": "execute_result"
    }
   ],
   "source": [
    "s"
   ]
  },
  {
   "cell_type": "code",
   "execution_count": 75,
   "metadata": {
    "collapsed": false
   },
   "outputs": [
    {
     "data": {
      "text/html": [
       "<div style=\"max-height:1000px;max-width:1500px;overflow:auto;\">\n",
       "<table border=\"1\" class=\"dataframe\">\n",
       "  <thead>\n",
       "    <tr style=\"text-align: right;\">\n",
       "      <th></th>\n",
       "      <th>DATE</th>\n",
       "      <th>CONVENIENCE STORE</th>\n",
       "      <th>ADDRESS</th>\n",
       "      <th>CITY</th>\n",
       "      <th>ZIPCODE</th>\n",
       "      <th>STORE LOCATION</th>\n",
       "      <th>COUNTY NUMBER</th>\n",
       "      <th>COUNTY</th>\n",
       "      <th>CATEGORY</th>\n",
       "      <th>CATEGORY NAME</th>\n",
       "      <th>...</th>\n",
       "      <th>DESCRIPTION</th>\n",
       "      <th>PACK</th>\n",
       "      <th>LITER SIZE</th>\n",
       "      <th>STATE BTL COST</th>\n",
       "      <th>BTL PRICE</th>\n",
       "      <th>BOTTLE QTY</th>\n",
       "      <th>TOTAL</th>\n",
       "      <th>store</th>\n",
       "      <th>lat</th>\n",
       "      <th>lng</th>\n",
       "    </tr>\n",
       "  </thead>\n",
       "  <tbody>\n",
       "    <tr>\n",
       "      <th>0</th>\n",
       "      <td>2015-02-26</td>\n",
       "      <td>False</td>\n",
       "      <td>2400 4TH ST SW</td>\n",
       "      <td>MASON CITY</td>\n",
       "      <td>50401</td>\n",
       "      <td>2400 4TH ST SW\\nMASON CITY 50401\\n(43.14846309...</td>\n",
       "      <td>17</td>\n",
       "      <td>Cerro Gordo</td>\n",
       "      <td>1022100</td>\n",
       "      <td>TEQUILA</td>\n",
       "      <td>...</td>\n",
       "      <td>Juarez Tequila Silver</td>\n",
       "      <td>12</td>\n",
       "      <td>1000</td>\n",
       "      <td>$6.92</td>\n",
       "      <td>$10.38</td>\n",
       "      <td>48</td>\n",
       "      <td>$498.24</td>\n",
       "      <td>Hy-Vee Food Store #1 / Mason City</td>\n",
       "      <td>43.148463</td>\n",
       "      <td>-93.236273</td>\n",
       "    </tr>\n",
       "    <tr>\n",
       "      <th>1</th>\n",
       "      <td>2015-02-26</td>\n",
       "      <td>False</td>\n",
       "      <td>2400 4TH ST SW</td>\n",
       "      <td>MASON CITY</td>\n",
       "      <td>50401</td>\n",
       "      <td>2400 4TH ST SW\\nMASON CITY 50401\\n(43.14846309...</td>\n",
       "      <td>17</td>\n",
       "      <td>Cerro Gordo</td>\n",
       "      <td>1022100</td>\n",
       "      <td>TEQUILA</td>\n",
       "      <td>...</td>\n",
       "      <td>Juarez Tequila Silver</td>\n",
       "      <td>6</td>\n",
       "      <td>1750</td>\n",
       "      <td>$13.50</td>\n",
       "      <td>$20.25</td>\n",
       "      <td>6</td>\n",
       "      <td>$121.50</td>\n",
       "      <td>Hy-Vee Food Store #1 / Mason City</td>\n",
       "      <td>43.148463</td>\n",
       "      <td>-93.236273</td>\n",
       "    </tr>\n",
       "    <tr>\n",
       "      <th>2</th>\n",
       "      <td>2015-02-26</td>\n",
       "      <td>False</td>\n",
       "      <td>2400 4TH ST SW</td>\n",
       "      <td>MASON CITY</td>\n",
       "      <td>50401</td>\n",
       "      <td>2400 4TH ST SW\\nMASON CITY 50401\\n(43.14846309...</td>\n",
       "      <td>17</td>\n",
       "      <td>Cerro Gordo</td>\n",
       "      <td>1012200</td>\n",
       "      <td>SCOTCH WHISKIES</td>\n",
       "      <td>...</td>\n",
       "      <td>Lauder's</td>\n",
       "      <td>24</td>\n",
       "      <td>375</td>\n",
       "      <td>$3.21</td>\n",
       "      <td>$4.82</td>\n",
       "      <td>3</td>\n",
       "      <td>$14.46</td>\n",
       "      <td>Hy-Vee Food Store #1 / Mason City</td>\n",
       "      <td>43.148463</td>\n",
       "      <td>-93.236273</td>\n",
       "    </tr>\n",
       "    <tr>\n",
       "      <th>3</th>\n",
       "      <td>2015-02-26</td>\n",
       "      <td>False</td>\n",
       "      <td>2400 4TH ST SW</td>\n",
       "      <td>MASON CITY</td>\n",
       "      <td>50401</td>\n",
       "      <td>2400 4TH ST SW\\nMASON CITY 50401\\n(43.14846309...</td>\n",
       "      <td>17</td>\n",
       "      <td>Cerro Gordo</td>\n",
       "      <td>1022100</td>\n",
       "      <td>TEQUILA</td>\n",
       "      <td>...</td>\n",
       "      <td>Patron Silver Tequila</td>\n",
       "      <td>12</td>\n",
       "      <td>375</td>\n",
       "      <td>$14.00</td>\n",
       "      <td>$21.00</td>\n",
       "      <td>2</td>\n",
       "      <td>$42.00</td>\n",
       "      <td>Hy-Vee Food Store #1 / Mason City</td>\n",
       "      <td>43.148463</td>\n",
       "      <td>-93.236273</td>\n",
       "    </tr>\n",
       "    <tr>\n",
       "      <th>4</th>\n",
       "      <td>2015-02-26</td>\n",
       "      <td>False</td>\n",
       "      <td>2400 4TH ST SW</td>\n",
       "      <td>MASON CITY</td>\n",
       "      <td>50401</td>\n",
       "      <td>2400 4TH ST SW\\nMASON CITY 50401\\n(43.14846309...</td>\n",
       "      <td>17</td>\n",
       "      <td>Cerro Gordo</td>\n",
       "      <td>1022100</td>\n",
       "      <td>TEQUILA</td>\n",
       "      <td>...</td>\n",
       "      <td>Tortilla White Tequila</td>\n",
       "      <td>12</td>\n",
       "      <td>1000</td>\n",
       "      <td>$6.64</td>\n",
       "      <td>$9.96</td>\n",
       "      <td>24</td>\n",
       "      <td>$239.04</td>\n",
       "      <td>Hy-Vee Food Store #1 / Mason City</td>\n",
       "      <td>43.148463</td>\n",
       "      <td>-93.236273</td>\n",
       "    </tr>\n",
       "  </tbody>\n",
       "</table>\n",
       "<p>5 rows × 23 columns</p>\n",
       "</div>"
      ],
      "text/plain": [
       "        DATE CONVENIENCE STORE         ADDRESS        CITY  ZIPCODE  \\\n",
       "0 2015-02-26             False  2400 4TH ST SW  MASON CITY    50401   \n",
       "1 2015-02-26             False  2400 4TH ST SW  MASON CITY    50401   \n",
       "2 2015-02-26             False  2400 4TH ST SW  MASON CITY    50401   \n",
       "3 2015-02-26             False  2400 4TH ST SW  MASON CITY    50401   \n",
       "4 2015-02-26             False  2400 4TH ST SW  MASON CITY    50401   \n",
       "\n",
       "                                      STORE LOCATION  COUNTY NUMBER  \\\n",
       "0  2400 4TH ST SW\\nMASON CITY 50401\\n(43.14846309...             17   \n",
       "1  2400 4TH ST SW\\nMASON CITY 50401\\n(43.14846309...             17   \n",
       "2  2400 4TH ST SW\\nMASON CITY 50401\\n(43.14846309...             17   \n",
       "3  2400 4TH ST SW\\nMASON CITY 50401\\n(43.14846309...             17   \n",
       "4  2400 4TH ST SW\\nMASON CITY 50401\\n(43.14846309...             17   \n",
       "\n",
       "        COUNTY  CATEGORY    CATEGORY NAME    ...                 DESCRIPTION  \\\n",
       "0  Cerro Gordo   1022100          TEQUILA    ...       Juarez Tequila Silver   \n",
       "1  Cerro Gordo   1022100          TEQUILA    ...       Juarez Tequila Silver   \n",
       "2  Cerro Gordo   1012200  SCOTCH WHISKIES    ...                    Lauder's   \n",
       "3  Cerro Gordo   1022100          TEQUILA    ...       Patron Silver Tequila   \n",
       "4  Cerro Gordo   1022100          TEQUILA    ...      Tortilla White Tequila   \n",
       "\n",
       "  PACK  LITER SIZE STATE BTL COST  BTL PRICE  BOTTLE QTY    TOTAL  \\\n",
       "0   12        1000          $6.92     $10.38          48  $498.24   \n",
       "1    6        1750         $13.50     $20.25           6  $121.50   \n",
       "2   24         375          $3.21      $4.82           3   $14.46   \n",
       "3   12         375         $14.00     $21.00           2   $42.00   \n",
       "4   12        1000          $6.64      $9.96          24  $239.04   \n",
       "\n",
       "                               store        lat        lng  \n",
       "0  Hy-Vee Food Store #1 / Mason City  43.148463 -93.236273  \n",
       "1  Hy-Vee Food Store #1 / Mason City  43.148463 -93.236273  \n",
       "2  Hy-Vee Food Store #1 / Mason City  43.148463 -93.236273  \n",
       "3  Hy-Vee Food Store #1 / Mason City  43.148463 -93.236273  \n",
       "4  Hy-Vee Food Store #1 / Mason City  43.148463 -93.236273  \n",
       "\n",
       "[5 rows x 23 columns]"
      ]
     },
     "execution_count": 75,
     "metadata": {},
     "output_type": "execute_result"
    }
   ],
   "source": [
    "df[['lat', 'lng']] = df['STORE LOCATION'].str.extract(regex).astype(float)\n",
    "df.head()"
   ]
  },
  {
   "cell_type": "code",
   "execution_count": 79,
   "metadata": {
    "collapsed": false
   },
   "outputs": [],
   "source": [
    "df['COUNTY'] = pd.Categorical(df.COUNTY, ordered=False)\n",
    "df = df.drop(['COUNTY', 'COUNTY NUMBER'], axis=1)"
   ]
  },
  {
   "cell_type": "code",
   "execution_count": 80,
   "metadata": {
    "collapsed": false
   },
   "outputs": [
    {
     "name": "stdout",
     "output_type": "stream",
     "text": [
      "<class 'pandas.core.frame.DataFrame'>\n",
      "Int64Index: 10000 entries, 0 to 9999\n",
      "Data columns (total 21 columns):\n",
      "DATE                 10000 non-null datetime64[ns]\n",
      "CONVENIENCE STORE    10000 non-null bool\n",
      "ADDRESS              10000 non-null object\n",
      "CITY                 10000 non-null category\n",
      "ZIPCODE              10000 non-null int64\n",
      "STORE LOCATION       10000 non-null object\n",
      "CATEGORY             10000 non-null int64\n",
      "CATEGORY NAME        10000 non-null object\n",
      "VENDOR NO            10000 non-null int64\n",
      "VENDOR               10000 non-null object\n",
      "ITEM                 10000 non-null int64\n",
      "DESCRIPTION          10000 non-null object\n",
      "PACK                 10000 non-null int64\n",
      "LITER SIZE           10000 non-null int64\n",
      "STATE BTL COST       10000 non-null object\n",
      "BTL PRICE            10000 non-null object\n",
      "BOTTLE QTY           10000 non-null int64\n",
      "TOTAL                10000 non-null object\n",
      "store                10000 non-null category\n",
      "lat                  10000 non-null float64\n",
      "lng                  10000 non-null float64\n",
      "dtypes: bool(1), category(2), datetime64[ns](1), float64(2), int64(7), object(8)\n",
      "memory usage: 1.5+ MB\n"
     ]
    }
   ],
   "source": [
    "df.info()"
   ]
  },
  {
   "cell_type": "code",
   "execution_count": 83,
   "metadata": {
    "collapsed": false
   },
   "outputs": [
    {
     "data": {
      "text/plain": [
       "80 PROOF VODKA                      1321\n",
       "CANADIAN WHISKIES                    924\n",
       "STRAIGHT BOURBON WHISKIES            550\n",
       "FLAVORED VODKA                       504\n",
       "SPICED RUM                           501\n",
       "TEQUILA                              486\n",
       "BLENDED WHISKIES                     426\n",
       "IMPORTED VODKA                       418\n",
       "WHISKEY LIQUEUR                      377\n",
       "PUERTO RICO & VIRGIN ISLANDS RUM     344\n",
       "                                    ... \n",
       "DARK CREME DE CACAO                    8\n",
       "BOTTLED IN BOND BOURBON                7\n",
       "WHITE CREME DE MENTHE                  6\n",
       "ROCK & RYE                             3\n",
       "ANISETTE                               2\n",
       "SPEARMINT SCHNAPPS                     2\n",
       "MISCELLANEOUS BRANDIES                 2\n",
       "LOW PROOF VODKA                        2\n",
       "OTHER PROOF VODKA                      2\n",
       "CREME DE ALMOND                        1\n",
       "dtype: int64"
      ]
     },
     "execution_count": 83,
     "metadata": {},
     "output_type": "execute_result"
    }
   ],
   "source": [
    "df['CATEGORY NAME'].value_counts()"
   ]
  },
  {
   "cell_type": "code",
   "execution_count": 84,
   "metadata": {
    "collapsed": true
   },
   "outputs": [],
   "source": [
    "df['CATEGORY'] = pd.Categorical(df['CATEGORY'], ordered=False)"
   ]
  },
  {
   "cell_type": "code",
   "execution_count": 86,
   "metadata": {
    "collapsed": true
   },
   "outputs": [],
   "source": [
    "df = df.drop(['CATEGORY', 'CATEGORY NAME'], axis=1)"
   ]
  },
  {
   "cell_type": "code",
   "execution_count": 87,
   "metadata": {
    "collapsed": false
   },
   "outputs": [
    {
     "name": "stdout",
     "output_type": "stream",
     "text": [
      "<class 'pandas.core.frame.DataFrame'>\n",
      "Int64Index: 10000 entries, 0 to 9999\n",
      "Data columns (total 19 columns):\n",
      "DATE                 10000 non-null datetime64[ns]\n",
      "CONVENIENCE STORE    10000 non-null bool\n",
      "ADDRESS              10000 non-null object\n",
      "CITY                 10000 non-null category\n",
      "ZIPCODE              10000 non-null int64\n",
      "STORE LOCATION       10000 non-null object\n",
      "VENDOR NO            10000 non-null int64\n",
      "VENDOR               10000 non-null object\n",
      "ITEM                 10000 non-null int64\n",
      "DESCRIPTION          10000 non-null object\n",
      "PACK                 10000 non-null int64\n",
      "LITER SIZE           10000 non-null int64\n",
      "STATE BTL COST       10000 non-null object\n",
      "BTL PRICE            10000 non-null object\n",
      "BOTTLE QTY           10000 non-null int64\n",
      "TOTAL                10000 non-null object\n",
      "store                10000 non-null category\n",
      "lat                  10000 non-null float64\n",
      "lng                  10000 non-null float64\n",
      "dtypes: bool(1), category(2), datetime64[ns](1), float64(2), int64(6), object(7)\n",
      "memory usage: 1.3+ MB\n"
     ]
    }
   ],
   "source": [
    "df.info()"
   ]
  },
  {
   "cell_type": "code",
   "execution_count": 91,
   "metadata": {
    "collapsed": false
   },
   "outputs": [],
   "source": [
    "df['VENDOR'] = pd.Categorical(df.VENDOR, ordered=False)\n",
    "df = df.drop(['VENDOR', 'VENDOR NO'], axis=1)"
   ]
  },
  {
   "cell_type": "code",
   "execution_count": 92,
   "metadata": {
    "collapsed": false
   },
   "outputs": [
    {
     "name": "stdout",
     "output_type": "stream",
     "text": [
      "<class 'pandas.core.frame.DataFrame'>\n",
      "Int64Index: 10000 entries, 0 to 9999\n",
      "Data columns (total 17 columns):\n",
      "DATE                 10000 non-null datetime64[ns]\n",
      "CONVENIENCE STORE    10000 non-null bool\n",
      "ADDRESS              10000 non-null object\n",
      "CITY                 10000 non-null category\n",
      "ZIPCODE              10000 non-null int64\n",
      "STORE LOCATION       10000 non-null object\n",
      "ITEM                 10000 non-null int64\n",
      "DESCRIPTION          10000 non-null object\n",
      "PACK                 10000 non-null int64\n",
      "LITER SIZE           10000 non-null int64\n",
      "STATE BTL COST       10000 non-null object\n",
      "BTL PRICE            10000 non-null object\n",
      "BOTTLE QTY           10000 non-null int64\n",
      "TOTAL                10000 non-null object\n",
      "store                10000 non-null category\n",
      "lat                  10000 non-null float64\n",
      "lng                  10000 non-null float64\n",
      "dtypes: bool(1), category(2), datetime64[ns](1), float64(2), int64(5), object(6)\n",
      "memory usage: 1.2+ MB\n"
     ]
    }
   ],
   "source": [
    "df.info()"
   ]
  },
  {
   "cell_type": "code",
   "execution_count": 96,
   "metadata": {
    "collapsed": false
   },
   "outputs": [
    {
     "data": {
      "text/html": [
       "<div style=\"max-height:1000px;max-width:1500px;overflow:auto;\">\n",
       "<table border=\"1\" class=\"dataframe\">\n",
       "  <thead>\n",
       "    <tr style=\"text-align: right;\">\n",
       "      <th></th>\n",
       "      <th>ITEM</th>\n",
       "      <th>DESCRIPTION</th>\n",
       "    </tr>\n",
       "  </thead>\n",
       "  <tbody>\n",
       "    <tr>\n",
       "      <th>0</th>\n",
       "      <td>87937</td>\n",
       "      <td>Juarez Tequila Silver</td>\n",
       "    </tr>\n",
       "    <tr>\n",
       "      <th>1</th>\n",
       "      <td>87938</td>\n",
       "      <td>Juarez Tequila Silver</td>\n",
       "    </tr>\n",
       "    <tr>\n",
       "      <th>2</th>\n",
       "      <td>8824</td>\n",
       "      <td>Lauder's</td>\n",
       "    </tr>\n",
       "    <tr>\n",
       "      <th>3</th>\n",
       "      <td>88294</td>\n",
       "      <td>Patron Silver Tequila</td>\n",
       "    </tr>\n",
       "    <tr>\n",
       "      <th>4</th>\n",
       "      <td>88767</td>\n",
       "      <td>Tortilla White Tequila</td>\n",
       "    </tr>\n",
       "    <tr>\n",
       "      <th>5</th>\n",
       "      <td>89175</td>\n",
       "      <td>Don Julio Anejo Tequila</td>\n",
       "    </tr>\n",
       "    <tr>\n",
       "      <th>6</th>\n",
       "      <td>89182</td>\n",
       "      <td>El Mayor Reposado</td>\n",
       "    </tr>\n",
       "    <tr>\n",
       "      <th>7</th>\n",
       "      <td>89197</td>\n",
       "      <td>Jose Cuervo Especial Reposado Tequila</td>\n",
       "    </tr>\n",
       "    <tr>\n",
       "      <th>8</th>\n",
       "      <td>89198</td>\n",
       "      <td>Jose Cuervo Especial Reposado Tequila</td>\n",
       "    </tr>\n",
       "    <tr>\n",
       "      <th>9</th>\n",
       "      <td>89199</td>\n",
       "      <td>Jose Cuervo Especial Reposado Square</td>\n",
       "    </tr>\n",
       "    <tr>\n",
       "      <th>...</th>\n",
       "      <td>...</td>\n",
       "      <td>...</td>\n",
       "    </tr>\n",
       "    <tr>\n",
       "      <th>9613</th>\n",
       "      <td>15951</td>\n",
       "      <td>Bastille Hand Crafted Whisky</td>\n",
       "    </tr>\n",
       "    <tr>\n",
       "      <th>9627</th>\n",
       "      <td>22151</td>\n",
       "      <td>Wild Turkey 101 Mini</td>\n",
       "    </tr>\n",
       "    <tr>\n",
       "      <th>9651</th>\n",
       "      <td>30036</td>\n",
       "      <td>Five O'clock</td>\n",
       "    </tr>\n",
       "    <tr>\n",
       "      <th>9691</th>\n",
       "      <td>4139</td>\n",
       "      <td>Pearl Mini Party Pack</td>\n",
       "    </tr>\n",
       "    <tr>\n",
       "      <th>9729</th>\n",
       "      <td>67540</td>\n",
       "      <td>Kahlua French Vanilla Liqueur</td>\n",
       "    </tr>\n",
       "    <tr>\n",
       "      <th>9753</th>\n",
       "      <td>9428</td>\n",
       "      <td>Passport Scotch</td>\n",
       "    </tr>\n",
       "    <tr>\n",
       "      <th>9820</th>\n",
       "      <td>41146</td>\n",
       "      <td>Sweet Carolina Sweet Tea Flavored Vodka</td>\n",
       "    </tr>\n",
       "    <tr>\n",
       "      <th>9866</th>\n",
       "      <td>65065</td>\n",
       "      <td>Goldschlager Cinnamon Schnapps</td>\n",
       "    </tr>\n",
       "    <tr>\n",
       "      <th>9898</th>\n",
       "      <td>10552</td>\n",
       "      <td>Black Velvet Cinnamon Rush Mini</td>\n",
       "    </tr>\n",
       "    <tr>\n",
       "      <th>9947</th>\n",
       "      <td>67275</td>\n",
       "      <td>Yukon Jack Wicked Hot</td>\n",
       "    </tr>\n",
       "  </tbody>\n",
       "</table>\n",
       "<p>1481 rows × 2 columns</p>\n",
       "</div>"
      ],
      "text/plain": [
       "       ITEM                              DESCRIPTION\n",
       "0     87937                    Juarez Tequila Silver\n",
       "1     87938                    Juarez Tequila Silver\n",
       "2      8824                                 Lauder's\n",
       "3     88294                    Patron Silver Tequila\n",
       "4     88767                   Tortilla White Tequila\n",
       "5     89175                  Don Julio Anejo Tequila\n",
       "6     89182                        El Mayor Reposado\n",
       "7     89197    Jose Cuervo Especial Reposado Tequila\n",
       "8     89198    Jose Cuervo Especial Reposado Tequila\n",
       "9     89199     Jose Cuervo Especial Reposado Square\n",
       "...     ...                                      ...\n",
       "9613  15951             Bastille Hand Crafted Whisky\n",
       "9627  22151                     Wild Turkey 101 Mini\n",
       "9651  30036                             Five O'clock\n",
       "9691   4139                    Pearl Mini Party Pack\n",
       "9729  67540            Kahlua French Vanilla Liqueur\n",
       "9753   9428                          Passport Scotch\n",
       "9820  41146  Sweet Carolina Sweet Tea Flavored Vodka\n",
       "9866  65065           Goldschlager Cinnamon Schnapps\n",
       "9898  10552          Black Velvet Cinnamon Rush Mini\n",
       "9947  67275                    Yukon Jack Wicked Hot\n",
       "\n",
       "[1481 rows x 2 columns]"
      ]
     },
     "execution_count": 96,
     "metadata": {},
     "output_type": "execute_result"
    }
   ],
   "source": [
    "df[['ITEM', 'DESCRIPTION']].drop_duplicates()"
   ]
  },
  {
   "cell_type": "code",
   "execution_count": 101,
   "metadata": {
    "collapsed": false
   },
   "outputs": [
    {
     "data": {
      "text/plain": [
       "1095"
      ]
     },
     "execution_count": 101,
     "metadata": {},
     "output_type": "execute_result"
    }
   ],
   "source": [
    "df.DESCRIPTION.nunique()"
   ]
  },
  {
   "cell_type": "code",
   "execution_count": 102,
   "metadata": {
    "collapsed": false
   },
   "outputs": [
    {
     "data": {
      "text/plain": [
       "False"
      ]
     },
     "execution_count": 102,
     "metadata": {},
     "output_type": "execute_result"
    }
   ],
   "source": [
    "# TODO: n_items > n_description\n",
    "# item -> desc is probalby unique, but some desc -> mulitple items.\n",
    "df.ITEM.nunique() == df.DESCRIPTION.nunique() #== df[['ITEM', 'DESCRIPTION']].drop_duplicates().shape[0]"
   ]
  },
  {
   "cell_type": "code",
   "execution_count": 104,
   "metadata": {
    "collapsed": false
   },
   "outputs": [
    {
     "name": "stdout",
     "output_type": "stream",
     "text": [
      "<class 'pandas.core.frame.DataFrame'>\n",
      "Int64Index: 10000 entries, 0 to 9999\n",
      "Data columns (total 17 columns):\n",
      "DATE                 10000 non-null datetime64[ns]\n",
      "CONVENIENCE STORE    10000 non-null bool\n",
      "ADDRESS              10000 non-null object\n",
      "CITY                 10000 non-null category\n",
      "ZIPCODE              10000 non-null int64\n",
      "STORE LOCATION       10000 non-null object\n",
      "ITEM                 10000 non-null int64\n",
      "DESCRIPTION          10000 non-null object\n",
      "PACK                 10000 non-null int64\n",
      "LITER SIZE           10000 non-null int64\n",
      "STATE BTL COST       10000 non-null object\n",
      "BTL PRICE            10000 non-null object\n",
      "BOTTLE QTY           10000 non-null int64\n",
      "TOTAL                10000 non-null object\n",
      "store                10000 non-null category\n",
      "lat                  10000 non-null float64\n",
      "lng                  10000 non-null float64\n",
      "dtypes: bool(1), category(2), datetime64[ns](1), float64(2), int64(5), object(6)\n",
      "memory usage: 1.2+ MB\n"
     ]
    }
   ],
   "source": [
    "df.info()"
   ]
  },
  {
   "cell_type": "code",
   "execution_count": 121,
   "metadata": {
    "collapsed": true
   },
   "outputs": [],
   "source": [
    "sns.set_style(\"dark\")"
   ]
  },
  {
   "cell_type": "code",
   "execution_count": 122,
   "metadata": {
    "collapsed": false
   },
   "outputs": [
    {
     "data": {
      "image/png": "[encoded data removed]",
      "text/plain": [
       "<matplotlib.figure.Figure at 0x1138a9c50>"
      ]
     },
     "metadata": {},
     "output_type": "display_data"
    }
   ],
   "source": [
    "ax = df.PACK.value_counts().sort_index().plot(kind='bar', width=.9, rot=0)\n",
    "ax.grid(axis='y')"
   ]
  },
  {
   "cell_type": "code",
   "execution_count": 125,
   "metadata": {
    "collapsed": false
   },
   "outputs": [
    {
     "data": {
      "text/plain": [
       "<matplotlib.axes._subplots.AxesSubplot at 0x113aefa20>"
      ]
     },
     "execution_count": 125,
     "metadata": {},
     "output_type": "execute_result"
    },
    {
     "data": {
      "image/png": "[encoded data removed]",
      "text/plain": [
       "<matplotlib.figure.Figure at 0x113ae97f0>"
      ]
     },
     "metadata": {},
     "output_type": "display_data"
    }
   ],
   "source": [
    "df['LITER SIZE'].value_counts().sort_index().plot(kind='bar', width=.9)"
   ]
  },
  {
   "cell_type": "code",
   "execution_count": 127,
   "metadata": {
    "collapsed": false
   },
   "outputs": [
    {
     "name": "stdout",
     "output_type": "stream",
     "text": [
      "<class 'pandas.core.frame.DataFrame'>\n",
      "Int64Index: 10000 entries, 0 to 9999\n",
      "Data columns (total 17 columns):\n",
      "DATE                 10000 non-null datetime64[ns]\n",
      "CONVENIENCE STORE    10000 non-null bool\n",
      "ADDRESS              10000 non-null object\n",
      "CITY                 10000 non-null category\n",
      "ZIPCODE              10000 non-null int64\n",
      "STORE LOCATION       10000 non-null object\n",
      "ITEM                 10000 non-null int64\n",
      "DESCRIPTION          10000 non-null object\n",
      "PACK                 10000 non-null int64\n",
      "LITER SIZE           10000 non-null int64\n",
      "STATE BTL COST       10000 non-null object\n",
      "BTL PRICE            10000 non-null object\n",
      "BOTTLE QTY           10000 non-null int64\n",
      "TOTAL                10000 non-null object\n",
      "store                10000 non-null category\n",
      "lat                  10000 non-null float64\n",
      "lng                  10000 non-null float64\n",
      "dtypes: bool(1), category(2), datetime64[ns](1), float64(2), int64(5), object(6)\n",
      "memory usage: 1.2+ MB\n"
     ]
    }
   ],
   "source": [
    "df.info()"
   ]
  },
  {
   "cell_type": "code",
   "execution_count": 132,
   "metadata": {
    "collapsed": false
   },
   "outputs": [],
   "source": [
    "df['STATE BTL COST'] = df['STATE BTL COST'].str.strip('$').astype(float)"
   ]
  },
  {
   "cell_type": "code",
   "execution_count": 133,
   "metadata": {
    "collapsed": false
   },
   "outputs": [
    {
     "name": "stdout",
     "output_type": "stream",
     "text": [
      "<class 'pandas.core.frame.DataFrame'>\n",
      "Int64Index: 10000 entries, 0 to 9999\n",
      "Data columns (total 17 columns):\n",
      "DATE                 10000 non-null datetime64[ns]\n",
      "CONVENIENCE STORE    10000 non-null bool\n",
      "ADDRESS              10000 non-null object\n",
      "CITY                 10000 non-null category\n",
      "ZIPCODE              10000 non-null int64\n",
      "STORE LOCATION       10000 non-null object\n",
      "ITEM                 10000 non-null int64\n",
      "DESCRIPTION          10000 non-null object\n",
      "PACK                 10000 non-null int64\n",
      "LITER SIZE           10000 non-null int64\n",
      "STATE BTL COST       10000 non-null float64\n",
      "BTL PRICE            10000 non-null object\n",
      "BOTTLE QTY           10000 non-null int64\n",
      "TOTAL                10000 non-null object\n",
      "store                10000 non-null category\n",
      "lat                  10000 non-null float64\n",
      "lng                  10000 non-null float64\n",
      "dtypes: bool(1), category(2), datetime64[ns](1), float64(3), int64(5), object(5)\n",
      "memory usage: 1.2+ MB\n"
     ]
    }
   ],
   "source": [
    "df.info()"
   ]
  },
  {
   "cell_type": "code",
   "execution_count": 136,
   "metadata": {
    "collapsed": false
   },
   "outputs": [],
   "source": [
    "df['BTL PRICE'] = df['BTL PRICE'].str.strip('$').astype(float)"
   ]
  },
  {
   "cell_type": "code",
   "execution_count": 142,
   "metadata": {
    "collapsed": false
   },
   "outputs": [
    {
     "data": {
      "text/plain": [
       "<matplotlib.axes._subplots.AxesSubplot at 0x113be10b8>"
      ]
     },
     "execution_count": 142,
     "metadata": {},
     "output_type": "execute_result"
    },
    {
     "data": {
      "image/png": "[encoded data removed]",
      "text/plain": [
       "<matplotlib.figure.Figure at 0x113be6fd0>"
      ]
     },
     "metadata": {},
     "output_type": "display_data"
    }
   ],
   "source": [
    "np.log(1 + df['BOTTLE QTY'].value_counts().sort_index()).plot()"
   ]
  },
  {
   "cell_type": "code",
   "execution_count": 147,
   "metadata": {
    "collapsed": false
   },
   "outputs": [],
   "source": [
    "df['TOTAL'] = df['TOTAL'].str.strip('$').astype(float)"
   ]
  },
  {
   "cell_type": "code",
   "execution_count": 5,
   "metadata": {
    "collapsed": true
   },
   "outputs": [],
   "source": [
    "from functools import wraps"
   ]
  },
  {
   "cell_type": "code",
   "execution_count": 6,
   "metadata": {
    "collapsed": true
   },
   "outputs": [],
   "source": [
    "def log_shape(func):\n",
    "    @wraps(func)\n",
    "    def wrapper(*args, **kwargs):\n",
    "        df = args[0]\n",
    "        print(func.__name__, \"input \", df.shape)\n",
    "        result = func(*args, **kwargs)\n",
    "        print(\" \" * len(func.__name__), \"output\", result.shape)\n",
    "        return result\n",
    "    return wrapper\n",
    "\n",
    "def count_null(func):\n",
    "    @wraps(func)\n",
    "    def wrapper(*args, **kwargs):\n",
    "        df = args[0]\n",
    "        print(func.__name__, \"missing\", df.isnull().sum().sum())\n",
    "        result = func(*args, **kwargs)\n",
    "        print(\" \" * len(func.__name__), \"output\", result.isnull().sum().sum())\n",
    "        return result\n",
    "    return wrapper\n",
    "\n",
    "def no_missing(func):\n",
    "    @wraps(func)\n",
    "    def wrapper(*args, **kwarsg):\n",
    "        df = args[0]\n",
    "        assert df.isnull().sum().sum() == 0\n",
    "        result = func(*args, **kwargs)\n",
    "        return results\n",
    "    return wrapper"
   ]
  },
  {
   "cell_type": "code",
   "execution_count": 72,
   "metadata": {
    "collapsed": false
   },
   "outputs": [],
   "source": [
    "# @log_shape\n",
    "# @count_null\n",
    "def is_convenience(df):\n",
    "    df['is_convenience'] = df['CONVENIENCE STORE'] == 'Y'\n",
    "    df = df.drop('CONVENIENCE STORE', axis=1)\n",
    "    return df\n",
    "\n",
    "def as_categorical(df, columns):\n",
    "    for col in columns:\n",
    "        df[col] = df[col].astype('category')\n",
    "    return df\n",
    "\n",
    "def drop_unused(df, columns):\n",
    "    return df.drop(columns, axis=1)\n",
    "\n",
    "def extract_latlng(df):\n",
    "    import re\n",
    "    regex = re.compile(r\"\\((?P<lat>\\-?\\d+\\.\\d+?),\\s*(?P<lng>\\-?\\d+\\.\\d+?)\\)$\")\n",
    "    df[['lat', 'lng']] = df['STORE LOCATION'].str.extract(regex).astype(float)\n",
    "    return df\n",
    "\n",
    "def strip_dollar(df, columns):\n",
    "    df[columns] = df[columns].apply(lambda s: s.str.strip('$').astype(float))\n",
    "    return df\n",
    "\n",
    "def clean_zip(df):\n",
    "    df['ZIPCODE'] = df.ZIPCODE.astype(str)\n",
    "    df['ZIPCODE'] = df.ZIPCODE.str.extract(r'(\\d{5})')\n",
    "    return df"
   ]
  },
  {
   "cell_type": "code",
   "execution_count": 8,
   "metadata": {
    "collapsed": true
   },
   "outputs": [],
   "source": [
    "dollar_cols = ['BTL PRICE', 'TOTAL']\n",
    "cats = ['NAME', 'CITY', 'COUNTY', 'CATEGORY NAME', 'VENDOR', 'DESCRIPTION', 'ZIPCODE']\n",
    "clean = ['STORE', 'COUNTY NUMBER', 'CATEGORY', 'VENDOR NO']"
   ]
  },
  {
   "cell_type": "code",
   "execution_count": 75,
   "metadata": {
    "collapsed": false
   },
   "outputs": [],
   "source": [
    "def prep(fp, nrows=10000):\n",
    "    df = pd.read_csv(fp, nrows=nrows, parse_dates=['DATE'])\n",
    "    df = clean_zip(df)\n",
    "    df = is_convenience(df)\n",
    "    df = as_categorical(df, columns=cats)\n",
    "    df = extract_latlng(df)\n",
    "    df = strip_dollar(df, dollar_cols)\n",
    "    df = drop_unused(df, clean)\n",
    "    return df"
   ]
  },
  {
   "cell_type": "code",
   "execution_count": 76,
   "metadata": {
    "collapsed": true
   },
   "outputs": [],
   "source": [
    "def pipe(self, func, *args, **kwargs):\n",
    "    pipe_func = getattr(func, '__pipe_func__', func)\n",
    "    return pipe_func(self, *args, **kwargs)\n",
    "\n",
    "pd.DataFrame.pipe = pipe"
   ]
  },
  {
   "cell_type": "code",
   "execution_count": 77,
   "metadata": {
    "collapsed": true
   },
   "outputs": [],
   "source": [
    "def prep_pipey(fp, nrows=10000):\n",
    "    df = (pd.read_csv(fp, nrows=nrows, parse_dates=['DATE'], compression='gzip')\n",
    "            .pipe(clean_zip)\n",
    "            .pipe(is_convenience)\n",
    "            .pipe(as_categorical, columns=cats)\n",
    "            .pipe(extract_latlng)\n",
    "            .pipe(strip_dollar, columns=dollar_cols)\n",
    "            .pipe(drop_unused, clean)\n",
    "          )\n",
    "    return df\n"
   ]
  },
  {
   "cell_type": "code",
   "execution_count": 78,
   "metadata": {
    "collapsed": false
   },
   "outputs": [
    {
     "name": "stdout",
     "output_type": "stream",
     "text": [
      "CPU times: user 3min 31s, sys: 7.96 s, total: 3min 39s\n",
      "Wall time: 3min 42s\n"
     ]
    },
    {
     "name": "stderr",
     "output_type": "stream",
     "text": [
      "/Users/tom.augspurger/Envs/py3/lib/python3.4/site-packages/pandas-0.16.1_119_g342c91b-py3.4-macosx-10.10-x86_64.egg/pandas/io/parsers.py:1170: DtypeWarning: Columns (6) have mixed types. Specify dtype option on import or set low_memory=False.\n",
      "  data = self._reader.read(nrows)\n"
     ]
    }
   ],
   "source": [
    "%%time\n",
    "df = prep_pipey('iowa-liquor.csv.gz', nrows=None)"
   ]
  },
  {
   "cell_type": "code",
   "execution_count": 80,
   "metadata": {
    "collapsed": false
   },
   "outputs": [],
   "source": [
    "df = df.rename(columns=lambda x: x.lower().replace(' ', '_'))"
   ]
  },
  {
   "cell_type": "code",
   "execution_count": 81,
   "metadata": {
    "collapsed": false
   },
   "outputs": [
    {
     "name": "stdout",
     "output_type": "stream",
     "text": [
      "<class 'pandas.io.pytables.HDFStore'>\n",
      "File path: store.h5\n",
      "/cleaned                                     [invalid_HDFStore node: object of type 'NoneType' has no len()]                   \n",
      "/cleaned                                     series_table (typ->appendable,nrows->1939,ncols->1,indexers->[index],dc->[values])\n",
      "/cleaned/meta/values_block_0/meta            series_table (typ->appendable,nrows->381,ncols->1,indexers->[index],dc->[values]) \n",
      "/cleaned/meta/values_block_1/meta            series_table (typ->legacy,nrows->None,ncols->0,indexers->[])                      \n",
      "/cleaned/meta/values_block_2/meta                                                                                              \n"
     ]
    }
   ],
   "source": [
    "store = pd.HDFStore(\"store.h5\")\n",
    "print(store)\n",
    "store.close()"
   ]
  },
  {
   "cell_type": "code",
   "execution_count": 82,
   "metadata": {
    "collapsed": false
   },
   "outputs": [
    {
     "name": "stdout",
     "output_type": "stream",
     "text": [
      "<class 'pandas.io.pytables.HDFStore'>\n",
      "File path: store.h5\n",
      "Empty\n"
     ]
    }
   ],
   "source": [
    "with pd.HDFStore(\"store.h5\") as store:\n",
    "    store.remove(\"cleaned\")\n",
    "    print(store)"
   ]
  },
  {
   "cell_type": "code",
   "execution_count": 83,
   "metadata": {
    "collapsed": false
   },
   "outputs": [
    {
     "name": "stdout",
     "output_type": "stream",
     "text": [
      "CPU times: user 7.53 s, sys: 2.62 s, total: 10.2 s\n",
      "Wall time: 11.2 s\n"
     ]
    }
   ],
   "source": [
    "%%time\n",
    "# df = prep_pipey('iowa-liquor.csv', nrows=None)\n",
    "df.to_hdf(\"store.h5\", \"cleaned\", format='table')"
   ]
  },
  {
   "cell_type": "code",
   "execution_count": 88,
   "metadata": {
    "collapsed": true
   },
   "outputs": [],
   "source": [
    "%matplotlib inline"
   ]
  },
  {
   "cell_type": "code",
   "execution_count": 89,
   "metadata": {
    "collapsed": false
   },
   "outputs": [
    {
     "data": {
      "text/plain": [
       "<matplotlib.axes._subplots.AxesSubplot at 0x119b39b70>"
      ]
     },
     "execution_count": 89,
     "metadata": {},
     "output_type": "execute_result"
    },
    {
     "data": {
      "image/png": "[encoded data removed]",
      "text/plain": [
       "<matplotlib.figure.Figure at 0x110bcae48>"
      ]
     },
     "metadata": {},
     "output_type": "display_data"
    }
   ],
   "source": [
    "df.date.value_counts().sort_index().plot()"
   ]
  },
  {
   "cell_type": "markdown",
   "metadata": {},
   "source": [
    "# Analysis"
   ]
  },
  {
   "cell_type": "code",
   "execution_count": 3,
   "metadata": {
    "collapsed": false
   },
   "outputs": [],
   "source": [
    "df = pd.read_hdf('store.h5', 'cleaned')"
   ]
  },
  {
   "cell_type": "code",
   "execution_count": 5,
   "metadata": {
    "collapsed": false
   },
   "outputs": [
    {
     "data": {
      "text/plain": [
       "<matplotlib.axes._subplots.AxesSubplot at 0x1821ddf60>"
      ]
     },
     "execution_count": 5,
     "metadata": {},
     "output_type": "execute_result"
    },
    {
     "data": {
      "image/png": "[encoded data removed]",
      "text/plain": [
       "<matplotlib.figure.Figure at 0x1821ede10>"
      ]
     },
     "metadata": {},
     "output_type": "display_data"
    }
   ],
   "source": [
    "df['date'].value_counts().order().plot()"
   ]
  },
  {
   "cell_type": "code",
   "execution_count": 43,
   "metadata": {
    "collapsed": false
   },
   "outputs": [
    {
     "data": {
      "text/plain": [
       "<matplotlib.axes._subplots.AxesSubplot at 0x119fcf128>"
      ]
     },
     "execution_count": 43,
     "metadata": {},
     "output_type": "execute_result"
    },
    {
     "data": {
      "image/png": "[encoded data removed]",
      "text/plain": [
       "<matplotlib.figure.Figure at 0x119fe3860>"
      ]
     },
     "metadata": {},
     "output_type": "display_data"
    }
   ],
   "source": [
    "ts = df.date.value_counts().sort_index()\n",
    "pd.rolling_median(ts, 5).plot()"
   ]
  },
  {
   "cell_type": "code",
   "execution_count": 48,
   "metadata": {
    "collapsed": false
   },
   "outputs": [
    {
     "data": {
      "text/plain": [
       "<matplotlib.axes._subplots.AxesSubplot at 0x11a625400>"
      ]
     },
     "execution_count": 48,
     "metadata": {},
     "output_type": "execute_result"
    },
    {
     "data": {
      "image/png": "[encoded data removed]",
      "text/plain": [
       "<matplotlib.figure.Figure at 0x11a98bf60>"
      ]
     },
     "metadata": {},
     "output_type": "display_data"
    }
   ],
   "source": [
    "ts.loc[:'2014-05'].plot()"
   ]
  },
  {
   "cell_type": "code",
   "execution_count": 57,
   "metadata": {
    "collapsed": false
   },
   "outputs": [],
   "source": [
    "sub = df[df.date < pd.Timestamp('2014-06-01')]"
   ]
  },
  {
   "cell_type": "code",
   "execution_count": 12,
   "metadata": {
    "collapsed": false
   },
   "outputs": [
    {
     "data": {
      "text/plain": [
       "<matplotlib.axes._subplots.AxesSubplot at 0x158405828>"
      ]
     },
     "execution_count": 12,
     "metadata": {},
     "output_type": "execute_result"
    },
    {
     "data": {
      "image/png": "[encoded data removed]",
      "text/plain": [
       "<matplotlib.figure.Figure at 0x15840e940>"
      ]
     },
     "metadata": {},
     "output_type": "display_data"
    }
   ],
   "source": [
    "# Has the number of unique items increased?\n",
    "df.groupby('date').description.nunique().plot()"
   ]
  },
  {
   "cell_type": "code",
   "execution_count": 6,
   "metadata": {
    "collapsed": true
   },
   "outputs": [],
   "source": [
    "import statsmodels.api as sm"
   ]
  },
  {
   "cell_type": "code",
   "execution_count": 7,
   "metadata": {
    "collapsed": false
   },
   "outputs": [],
   "source": [
    "x = df.groupby('date').description.nunique()\n",
    "x = x.resample('W', how='sum').fillna(method='ffill')"
   ]
  },
  {
   "cell_type": "code",
   "execution_count": 9,
   "metadata": {
    "collapsed": false
   },
   "outputs": [],
   "source": [
    "r = sm.tsa.seasonal_decompose(x)"
   ]
  },
  {
   "cell_type": "code",
   "execution_count": 11,
   "metadata": {
    "collapsed": false
   },
   "outputs": [
    {
     "ename": "NonGuiException",
     "evalue": "",
     "output_type": "error",
     "traceback": [
      "\u001b[0;31m---------------------------------------------------------------------------\u001b[0m",
      "\u001b[0;31mNonGuiException\u001b[0m                           Traceback (most recent call last)",
      "\u001b[0;32m<ipython-input-11-0c750d6dd258>\u001b[0m in \u001b[0;36m<module>\u001b[0;34m()\u001b[0m\n\u001b[0;32m----> 1\u001b[0;31m \u001b[0mr\u001b[0m\u001b[0;34m.\u001b[0m\u001b[0mplot\u001b[0m\u001b[0;34m(\u001b[0m\u001b[0;34m)\u001b[0m\u001b[0;34m\u001b[0m\u001b[0m\n\u001b[0m",
      "\u001b[0;32m/Users/tom.augspurger/Envs/py3/lib/python3.4/site-packages/statsmodels/tsa/seasonal.py\u001b[0m in \u001b[0;36mplot\u001b[0;34m(self)\u001b[0m\n\u001b[1;32m    124\u001b[0m         \u001b[0mfig\u001b[0m\u001b[0;34m,\u001b[0m \u001b[0maxes\u001b[0m \u001b[0;34m=\u001b[0m \u001b[0mplt\u001b[0m\u001b[0;34m.\u001b[0m\u001b[0msubplots\u001b[0m\u001b[0;34m(\u001b[0m\u001b[0;36m4\u001b[0m\u001b[0;34m,\u001b[0m \u001b[0;36m1\u001b[0m\u001b[0;34m,\u001b[0m \u001b[0msharex\u001b[0m\u001b[0;34m=\u001b[0m\u001b[0;32mTrue\u001b[0m\u001b[0;34m)\u001b[0m\u001b[0;34m\u001b[0m\u001b[0m\n\u001b[1;32m    125\u001b[0m         \u001b[0;32mif\u001b[0m \u001b[0mhasattr\u001b[0m\u001b[0;34m(\u001b[0m\u001b[0mself\u001b[0m\u001b[0;34m.\u001b[0m\u001b[0mobserved\u001b[0m\u001b[0;34m,\u001b[0m \u001b[0;34m'plot'\u001b[0m\u001b[0;34m)\u001b[0m\u001b[0;34m:\u001b[0m  \u001b[0;31m# got pandas use it\u001b[0m\u001b[0;34m\u001b[0m\u001b[0m\n\u001b[0;32m--> 126\u001b[0;31m             \u001b[0mself\u001b[0m\u001b[0;34m.\u001b[0m\u001b[0mobserved\u001b[0m\u001b[0;34m.\u001b[0m\u001b[0mplot\u001b[0m\u001b[0;34m(\u001b[0m\u001b[0max\u001b[0m\u001b[0;34m=\u001b[0m\u001b[0maxes\u001b[0m\u001b[0;34m[\u001b[0m\u001b[0;36m0\u001b[0m\u001b[0;34m]\u001b[0m\u001b[0;34m,\u001b[0m \u001b[0mlegend\u001b[0m\u001b[0;34m=\u001b[0m\u001b[0;32mFalse\u001b[0m\u001b[0;34m)\u001b[0m\u001b[0;34m\u001b[0m\u001b[0m\n\u001b[0m\u001b[1;32m    127\u001b[0m             \u001b[0maxes\u001b[0m\u001b[0;34m[\u001b[0m\u001b[0;36m0\u001b[0m\u001b[0;34m]\u001b[0m\u001b[0;34m.\u001b[0m\u001b[0mset_ylabel\u001b[0m\u001b[0;34m(\u001b[0m\u001b[0;34m'Observed'\u001b[0m\u001b[0;34m)\u001b[0m\u001b[0;34m\u001b[0m\u001b[0m\n\u001b[1;32m    128\u001b[0m             \u001b[0mself\u001b[0m\u001b[0;34m.\u001b[0m\u001b[0mtrend\u001b[0m\u001b[0;34m.\u001b[0m\u001b[0mplot\u001b[0m\u001b[0;34m(\u001b[0m\u001b[0max\u001b[0m\u001b[0;34m=\u001b[0m\u001b[0maxes\u001b[0m\u001b[0;34m[\u001b[0m\u001b[0;36m1\u001b[0m\u001b[0;34m]\u001b[0m\u001b[0;34m,\u001b[0m \u001b[0mlegend\u001b[0m\u001b[0;34m=\u001b[0m\u001b[0;32mFalse\u001b[0m\u001b[0;34m)\u001b[0m\u001b[0;34m\u001b[0m\u001b[0m\n",
      "\u001b[0;32m/Users/tom.augspurger/Envs/py3/lib/python3.4/site-packages/pandas-0.16.1_144_ga8b5798-py3.4-macosx-10.10-x86_64.egg/pandas/tools/plotting.py\u001b[0m in \u001b[0;36mplot_series\u001b[0;34m(data, kind, ax, figsize, use_index, title, grid, legend, style, logx, logy, loglog, xticks, yticks, xlim, ylim, rot, fontsize, colormap, table, yerr, xerr, label, secondary_y, **kwds)\u001b[0m\n\u001b[1;32m   2517\u001b[0m                  \u001b[0myerr\u001b[0m\u001b[0;34m=\u001b[0m\u001b[0myerr\u001b[0m\u001b[0;34m,\u001b[0m \u001b[0mxerr\u001b[0m\u001b[0;34m=\u001b[0m\u001b[0mxerr\u001b[0m\u001b[0;34m,\u001b[0m\u001b[0;34m\u001b[0m\u001b[0m\n\u001b[1;32m   2518\u001b[0m                  \u001b[0mlabel\u001b[0m\u001b[0;34m=\u001b[0m\u001b[0mlabel\u001b[0m\u001b[0;34m,\u001b[0m \u001b[0msecondary_y\u001b[0m\u001b[0;34m=\u001b[0m\u001b[0msecondary_y\u001b[0m\u001b[0;34m,\u001b[0m\u001b[0;34m\u001b[0m\u001b[0m\n\u001b[0;32m-> 2519\u001b[0;31m                  **kwds)\n\u001b[0m\u001b[1;32m   2520\u001b[0m \u001b[0;34m\u001b[0m\u001b[0m\n\u001b[1;32m   2521\u001b[0m \u001b[0;34m\u001b[0m\u001b[0m\n",
      "\u001b[0;32m/Users/tom.augspurger/Envs/py3/lib/python3.4/site-packages/pandas-0.16.1_144_ga8b5798-py3.4-macosx-10.10-x86_64.egg/pandas/tools/plotting.py\u001b[0m in \u001b[0;36m_plot\u001b[0;34m(data, x, y, subplots, ax, kind, **kwds)\u001b[0m\n\u001b[1;32m   2322\u001b[0m         \u001b[0mplot_obj\u001b[0m \u001b[0;34m=\u001b[0m \u001b[0mklass\u001b[0m\u001b[0;34m(\u001b[0m\u001b[0mdata\u001b[0m\u001b[0;34m,\u001b[0m \u001b[0msubplots\u001b[0m\u001b[0;34m=\u001b[0m\u001b[0msubplots\u001b[0m\u001b[0;34m,\u001b[0m \u001b[0max\u001b[0m\u001b[0;34m=\u001b[0m\u001b[0max\u001b[0m\u001b[0;34m,\u001b[0m \u001b[0mkind\u001b[0m\u001b[0;34m=\u001b[0m\u001b[0mkind\u001b[0m\u001b[0;34m,\u001b[0m \u001b[0;34m**\u001b[0m\u001b[0mkwds\u001b[0m\u001b[0;34m)\u001b[0m\u001b[0;34m\u001b[0m\u001b[0m\n\u001b[1;32m   2323\u001b[0m \u001b[0;34m\u001b[0m\u001b[0m\n\u001b[0;32m-> 2324\u001b[0;31m     \u001b[0mplot_obj\u001b[0m\u001b[0;34m.\u001b[0m\u001b[0mgenerate\u001b[0m\u001b[0;34m(\u001b[0m\u001b[0;34m)\u001b[0m\u001b[0;34m\u001b[0m\u001b[0m\n\u001b[0m\u001b[1;32m   2325\u001b[0m     \u001b[0mplot_obj\u001b[0m\u001b[0;34m.\u001b[0m\u001b[0mdraw\u001b[0m\u001b[0;34m(\u001b[0m\u001b[0;34m)\u001b[0m\u001b[0;34m\u001b[0m\u001b[0m\n\u001b[1;32m   2326\u001b[0m     \u001b[0;32mreturn\u001b[0m \u001b[0mplot_obj\u001b[0m\u001b[0;34m.\u001b[0m\u001b[0mresult\u001b[0m\u001b[0;34m\u001b[0m\u001b[0m\n",
      "\u001b[0;32m/Users/tom.augspurger/Envs/py3/lib/python3.4/site-packages/pandas-0.16.1_144_ga8b5798-py3.4-macosx-10.10-x86_64.egg/pandas/tools/plotting.py\u001b[0m in \u001b[0;36mgenerate\u001b[0;34m(self)\u001b[0m\n\u001b[1;32m    912\u001b[0m         \u001b[0mself\u001b[0m\u001b[0;34m.\u001b[0m\u001b[0m_compute_plot_data\u001b[0m\u001b[0;34m(\u001b[0m\u001b[0;34m)\u001b[0m\u001b[0;34m\u001b[0m\u001b[0m\n\u001b[1;32m    913\u001b[0m         \u001b[0mself\u001b[0m\u001b[0;34m.\u001b[0m\u001b[0m_setup_subplots\u001b[0m\u001b[0;34m(\u001b[0m\u001b[0;34m)\u001b[0m\u001b[0;34m\u001b[0m\u001b[0m\n\u001b[0;32m--> 914\u001b[0;31m         \u001b[0mself\u001b[0m\u001b[0;34m.\u001b[0m\u001b[0m_make_plot\u001b[0m\u001b[0;34m(\u001b[0m\u001b[0;34m)\u001b[0m\u001b[0;34m\u001b[0m\u001b[0m\n\u001b[0m\u001b[1;32m    915\u001b[0m         \u001b[0mself\u001b[0m\u001b[0;34m.\u001b[0m\u001b[0m_add_table\u001b[0m\u001b[0;34m(\u001b[0m\u001b[0;34m)\u001b[0m\u001b[0;34m\u001b[0m\u001b[0m\n\u001b[1;32m    916\u001b[0m         \u001b[0mself\u001b[0m\u001b[0;34m.\u001b[0m\u001b[0m_make_legend\u001b[0m\u001b[0;34m(\u001b[0m\u001b[0;34m)\u001b[0m\u001b[0;34m\u001b[0m\u001b[0m\n",
      "\u001b[0;32m/Users/tom.augspurger/Envs/py3/lib/python3.4/site-packages/pandas-0.16.1_144_ga8b5798-py3.4-macosx-10.10-x86_64.egg/pandas/tools/plotting.py\u001b[0m in \u001b[0;36m_make_plot\u001b[0;34m(self)\u001b[0m\n\u001b[1;32m   1623\u001b[0m             \u001b[0mkwds\u001b[0m\u001b[0;34m[\u001b[0m\u001b[0;34m'label'\u001b[0m\u001b[0;34m]\u001b[0m \u001b[0;34m=\u001b[0m \u001b[0mlabel\u001b[0m\u001b[0;34m\u001b[0m\u001b[0m\n\u001b[1;32m   1624\u001b[0m \u001b[0;34m\u001b[0m\u001b[0m\n\u001b[0;32m-> 1625\u001b[0;31m             \u001b[0mnewlines\u001b[0m \u001b[0;34m=\u001b[0m \u001b[0mplotf\u001b[0m\u001b[0;34m(\u001b[0m\u001b[0max\u001b[0m\u001b[0;34m,\u001b[0m \u001b[0mx\u001b[0m\u001b[0;34m,\u001b[0m \u001b[0my\u001b[0m\u001b[0;34m,\u001b[0m \u001b[0mstyle\u001b[0m\u001b[0;34m=\u001b[0m\u001b[0mstyle\u001b[0m\u001b[0;34m,\u001b[0m \u001b[0mcolumn_num\u001b[0m\u001b[0;34m=\u001b[0m\u001b[0mi\u001b[0m\u001b[0;34m,\u001b[0m \u001b[0;34m**\u001b[0m\u001b[0mkwds\u001b[0m\u001b[0;34m)\u001b[0m\u001b[0;34m\u001b[0m\u001b[0m\n\u001b[0m\u001b[1;32m   1626\u001b[0m             \u001b[0mself\u001b[0m\u001b[0;34m.\u001b[0m\u001b[0m_add_legend_handle\u001b[0m\u001b[0;34m(\u001b[0m\u001b[0mnewlines\u001b[0m\u001b[0;34m[\u001b[0m\u001b[0;36m0\u001b[0m\u001b[0;34m]\u001b[0m\u001b[0;34m,\u001b[0m \u001b[0mlabel\u001b[0m\u001b[0;34m,\u001b[0m \u001b[0mindex\u001b[0m\u001b[0;34m=\u001b[0m\u001b[0mi\u001b[0m\u001b[0;34m)\u001b[0m\u001b[0;34m\u001b[0m\u001b[0m\n\u001b[1;32m   1627\u001b[0m \u001b[0;34m\u001b[0m\u001b[0m\n",
      "\u001b[0;32m/Users/tom.augspurger/Envs/py3/lib/python3.4/site-packages/pandas-0.16.1_144_ga8b5798-py3.4-macosx-10.10-x86_64.egg/pandas/tools/plotting.py\u001b[0m in \u001b[0;36m_plot\u001b[0;34m(ax, x, data, style, **kwds)\u001b[0m\n\u001b[1;32m   1660\u001b[0m             \u001b[0;31m# accept x to be consistent with normal plot func,\u001b[0m\u001b[0;34m\u001b[0m\u001b[0;34m\u001b[0m\u001b[0m\n\u001b[1;32m   1661\u001b[0m             \u001b[0;31m# x is not passed to tsplot as it uses data.index as x coordinate\u001b[0m\u001b[0;34m\u001b[0m\u001b[0;34m\u001b[0m\u001b[0m\n\u001b[0;32m-> 1662\u001b[0;31m             \u001b[0mlines\u001b[0m \u001b[0;34m=\u001b[0m \u001b[0mtsplot\u001b[0m\u001b[0;34m(\u001b[0m\u001b[0mdata\u001b[0m\u001b[0;34m,\u001b[0m \u001b[0mplotf\u001b[0m\u001b[0;34m,\u001b[0m \u001b[0max\u001b[0m\u001b[0;34m=\u001b[0m\u001b[0max\u001b[0m\u001b[0;34m,\u001b[0m \u001b[0mstyle\u001b[0m\u001b[0;34m=\u001b[0m\u001b[0mstyle\u001b[0m\u001b[0;34m,\u001b[0m \u001b[0;34m**\u001b[0m\u001b[0mkwds\u001b[0m\u001b[0;34m)\u001b[0m\u001b[0;34m\u001b[0m\u001b[0m\n\u001b[0m\u001b[1;32m   1663\u001b[0m             \u001b[0;32mreturn\u001b[0m \u001b[0mlines\u001b[0m\u001b[0;34m\u001b[0m\u001b[0m\n\u001b[1;32m   1664\u001b[0m         \u001b[0;32mreturn\u001b[0m \u001b[0m_plot\u001b[0m\u001b[0;34m\u001b[0m\u001b[0m\n",
      "\u001b[0;32m/Users/tom.augspurger/Envs/py3/lib/python3.4/site-packages/pandas-0.16.1_144_ga8b5798-py3.4-macosx-10.10-x86_64.egg/pandas/tseries/plotting.py\u001b[0m in \u001b[0;36mtsplot\u001b[0;34m(series, plotf, **kwargs)\u001b[0m\n\u001b[1;32m     61\u001b[0m \u001b[0;34m\u001b[0m\u001b[0m\n\u001b[1;32m     62\u001b[0m     \u001b[0;31m# set date formatter, locators and rescale limits\u001b[0m\u001b[0;34m\u001b[0m\u001b[0;34m\u001b[0m\u001b[0m\n\u001b[0;32m---> 63\u001b[0;31m     \u001b[0mformat_dateaxis\u001b[0m\u001b[0;34m(\u001b[0m\u001b[0max\u001b[0m\u001b[0;34m,\u001b[0m \u001b[0max\u001b[0m\u001b[0;34m.\u001b[0m\u001b[0mfreq\u001b[0m\u001b[0;34m)\u001b[0m\u001b[0;34m\u001b[0m\u001b[0m\n\u001b[0m\u001b[1;32m     64\u001b[0m \u001b[0;34m\u001b[0m\u001b[0m\n\u001b[1;32m     65\u001b[0m     \u001b[0;31m# x and y coord info\u001b[0m\u001b[0;34m\u001b[0m\u001b[0;34m\u001b[0m\u001b[0m\n",
      "\u001b[0;32m/Users/tom.augspurger/Envs/py3/lib/python3.4/site-packages/pandas-0.16.1_144_ga8b5798-py3.4-macosx-10.10-x86_64.egg/pandas/tseries/plotting.py\u001b[0m in \u001b[0;36mformat_dateaxis\u001b[0;34m(subplot, freq)\u001b[0m\n\u001b[1;32m    220\u001b[0m     \u001b[0msubplot\u001b[0m\u001b[0;34m.\u001b[0m\u001b[0mxaxis\u001b[0m\u001b[0;34m.\u001b[0m\u001b[0mset_major_formatter\u001b[0m\u001b[0;34m(\u001b[0m\u001b[0mmajformatter\u001b[0m\u001b[0;34m)\u001b[0m\u001b[0;34m\u001b[0m\u001b[0m\n\u001b[1;32m    221\u001b[0m     \u001b[0msubplot\u001b[0m\u001b[0;34m.\u001b[0m\u001b[0mxaxis\u001b[0m\u001b[0;34m.\u001b[0m\u001b[0mset_minor_formatter\u001b[0m\u001b[0;34m(\u001b[0m\u001b[0mminformatter\u001b[0m\u001b[0;34m)\u001b[0m\u001b[0;34m\u001b[0m\u001b[0m\n\u001b[0;32m--> 222\u001b[0;31m     \u001b[0mpylab\u001b[0m\u001b[0;34m.\u001b[0m\u001b[0mdraw_if_interactive\u001b[0m\u001b[0;34m(\u001b[0m\u001b[0;34m)\u001b[0m\u001b[0;34m\u001b[0m\u001b[0m\n\u001b[0m",
      "\u001b[0;32m/Users/tom.augspurger/Envs/py3/lib/python3.4/site-packages/IPython/utils/decorators.py\u001b[0m in \u001b[0;36mwrapper\u001b[0;34m(*args, **kw)\u001b[0m\n\u001b[1;32m     41\u001b[0m     \u001b[0;32mdef\u001b[0m \u001b[0mwrapper\u001b[0m\u001b[0;34m(\u001b[0m\u001b[0;34m*\u001b[0m\u001b[0margs\u001b[0m\u001b[0;34m,\u001b[0m\u001b[0;34m**\u001b[0m\u001b[0mkw\u001b[0m\u001b[0;34m)\u001b[0m\u001b[0;34m:\u001b[0m\u001b[0;34m\u001b[0m\u001b[0m\n\u001b[1;32m     42\u001b[0m         \u001b[0mwrapper\u001b[0m\u001b[0;34m.\u001b[0m\u001b[0mcalled\u001b[0m \u001b[0;34m=\u001b[0m \u001b[0;32mFalse\u001b[0m\u001b[0;34m\u001b[0m\u001b[0m\n\u001b[0;32m---> 43\u001b[0;31m         \u001b[0mout\u001b[0m \u001b[0;34m=\u001b[0m \u001b[0mfunc\u001b[0m\u001b[0;34m(\u001b[0m\u001b[0;34m*\u001b[0m\u001b[0margs\u001b[0m\u001b[0;34m,\u001b[0m\u001b[0;34m**\u001b[0m\u001b[0mkw\u001b[0m\u001b[0;34m)\u001b[0m\u001b[0;34m\u001b[0m\u001b[0m\n\u001b[0m\u001b[1;32m     44\u001b[0m         \u001b[0mwrapper\u001b[0m\u001b[0;34m.\u001b[0m\u001b[0mcalled\u001b[0m \u001b[0;34m=\u001b[0m \u001b[0;32mTrue\u001b[0m\u001b[0;34m\u001b[0m\u001b[0m\n\u001b[1;32m     45\u001b[0m         \u001b[0;32mreturn\u001b[0m \u001b[0mout\u001b[0m\u001b[0;34m\u001b[0m\u001b[0m\n",
      "\u001b[0;32m/Users/tom.augspurger/Envs/py3/lib/python3.4/site-packages/matplotlib/backends/backend_tkagg.py\u001b[0m in \u001b[0;36mdraw_if_interactive\u001b[0;34m()\u001b[0m\n\u001b[1;32m     65\u001b[0m         \u001b[0mfigManager\u001b[0m \u001b[0;34m=\u001b[0m  \u001b[0mGcf\u001b[0m\u001b[0;34m.\u001b[0m\u001b[0mget_active\u001b[0m\u001b[0;34m(\u001b[0m\u001b[0;34m)\u001b[0m\u001b[0;34m\u001b[0m\u001b[0m\n\u001b[1;32m     66\u001b[0m         \u001b[0;32mif\u001b[0m \u001b[0mfigManager\u001b[0m \u001b[0;32mis\u001b[0m \u001b[0;32mnot\u001b[0m \u001b[0;32mNone\u001b[0m\u001b[0;34m:\u001b[0m\u001b[0;34m\u001b[0m\u001b[0m\n\u001b[0;32m---> 67\u001b[0;31m             \u001b[0mfigManager\u001b[0m\u001b[0;34m.\u001b[0m\u001b[0mshow\u001b[0m\u001b[0;34m(\u001b[0m\u001b[0;34m)\u001b[0m\u001b[0;34m\u001b[0m\u001b[0m\n\u001b[0m\u001b[1;32m     68\u001b[0m \u001b[0;34m\u001b[0m\u001b[0m\n\u001b[1;32m     69\u001b[0m \u001b[0;32mclass\u001b[0m \u001b[0mShow\u001b[0m\u001b[0;34m(\u001b[0m\u001b[0mShowBase\u001b[0m\u001b[0;34m)\u001b[0m\u001b[0;34m:\u001b[0m\u001b[0;34m\u001b[0m\u001b[0m\n",
      "\u001b[0;32m/Users/tom.augspurger/Envs/py3/lib/python3.4/site-packages/matplotlib/backend_bases.py\u001b[0m in \u001b[0;36mshow\u001b[0;34m(self)\u001b[0m\n\u001b[1;32m   2573\u001b[0m         \u001b[0moptional\u001b[0m \u001b[0mwarning\u001b[0m\u001b[0;34m.\u001b[0m\u001b[0;34m\u001b[0m\u001b[0m\n\u001b[1;32m   2574\u001b[0m         \"\"\"\n\u001b[0;32m-> 2575\u001b[0;31m         \u001b[0;32mraise\u001b[0m \u001b[0mNonGuiException\u001b[0m\u001b[0;34m(\u001b[0m\u001b[0;34m)\u001b[0m\u001b[0;34m\u001b[0m\u001b[0m\n\u001b[0m\u001b[1;32m   2576\u001b[0m \u001b[0;34m\u001b[0m\u001b[0m\n\u001b[1;32m   2577\u001b[0m     \u001b[0;32mdef\u001b[0m \u001b[0mdestroy\u001b[0m\u001b[0;34m(\u001b[0m\u001b[0mself\u001b[0m\u001b[0;34m)\u001b[0m\u001b[0;34m:\u001b[0m\u001b[0;34m\u001b[0m\u001b[0m\n",
      "\u001b[0;31mNonGuiException\u001b[0m: "
     ]
    },
    {
     "data": {
      "image/png": "[encoded data removed]",
      "text/plain": [
       "<matplotlib.figure.Figure at 0x16df94438>"
      ]
     },
     "metadata": {},
     "output_type": "display_data"
    }
   ],
   "source": [
    "r.plot()"
   ]
  },
  {
   "cell_type": "code",
   "execution_count": 103,
   "metadata": {
    "collapsed": false
   },
   "outputs": [
    {
     "data": {
      "text/plain": [
       "0    811471\n",
       "1    675970\n",
       "2    897104\n",
       "3    602358\n",
       "4     55303\n",
       "5      7707\n",
       "Name: total, dtype: int64"
      ]
     },
     "execution_count": 103,
     "metadata": {},
     "output_type": "execute_result"
    }
   ],
   "source": [
    "df.groupby(df.date.dt.dayofweek).total.count()"
   ]
  },
  {
   "cell_type": "code",
   "execution_count": 32,
   "metadata": {
    "collapsed": false
   },
   "outputs": [
    {
     "data": {
      "text/plain": [
       "<matplotlib.axes._subplots.AxesSubplot at 0x117e3bd30>"
      ]
     },
     "execution_count": 32,
     "metadata": {},
     "output_type": "execute_result"
    },
    {
     "data": {
      "image/png": "[encoded data removed]",
      "text/plain": [
       "<matplotlib.figure.Figure at 0x118483080>"
      ]
     },
     "metadata": {},
     "output_type": "display_data"
    }
   ],
   "source": [
    "df.groupby('category_name').btl_price.sum().order(ascending=False).head(10).plot(kind='barh')"
   ]
  },
  {
   "cell_type": "code",
   "execution_count": 82,
   "metadata": {
    "collapsed": false
   },
   "outputs": [
    {
     "data": {
      "text/html": [
       "<div style=\"max-height:1000px;max-width:1500px;overflow:auto;\">\n",
       "<table border=\"1\" class=\"dataframe\">\n",
       "  <thead>\n",
       "    <tr style=\"text-align: right;\">\n",
       "      <th></th>\n",
       "      <th>date</th>\n",
       "      <th>name</th>\n",
       "      <th>address</th>\n",
       "      <th>city</th>\n",
       "      <th>zipcode</th>\n",
       "      <th>store_location</th>\n",
       "      <th>county</th>\n",
       "      <th>category_name</th>\n",
       "      <th>vendor</th>\n",
       "      <th>item</th>\n",
       "      <th>description</th>\n",
       "      <th>pack</th>\n",
       "      <th>liter_size</th>\n",
       "      <th>state_btl_cost</th>\n",
       "      <th>btl_price</th>\n",
       "      <th>bottle_qty</th>\n",
       "      <th>total</th>\n",
       "      <th>is_convenience</th>\n",
       "      <th>lat</th>\n",
       "      <th>lng</th>\n",
       "    </tr>\n",
       "  </thead>\n",
       "  <tbody>\n",
       "    <tr>\n",
       "      <th>1434297</th>\n",
       "      <td>2014-05-29</td>\n",
       "      <td>Walgreens #07453 / Des Moines</td>\n",
       "      <td>104 E EUCLID AVE</td>\n",
       "      <td>DES MOINES</td>\n",
       "      <td>50313</td>\n",
       "      <td>104 E EUCLID AVE\\nDES MOINES 50313\\n(41.627727...</td>\n",
       "      <td>Polk</td>\n",
       "      <td>PUERTO RICO &amp; VIRGIN ISLANDS RUM</td>\n",
       "      <td>Luxco-St Louis</td>\n",
       "      <td>45278</td>\n",
       "      <td>Paramount White Rum</td>\n",
       "      <td>6</td>\n",
       "      <td>1750</td>\n",
       "      <td>$7.84</td>\n",
       "      <td>11.76</td>\n",
       "      <td>6</td>\n",
       "      <td>70.56</td>\n",
       "      <td>False</td>\n",
       "      <td>41.627728</td>\n",
       "      <td>-93.617180</td>\n",
       "    </tr>\n",
       "    <tr>\n",
       "      <th>1434298</th>\n",
       "      <td>2014-05-29</td>\n",
       "      <td>U S Gas</td>\n",
       "      <td>3000 SW 9th ST</td>\n",
       "      <td>DES MOINES</td>\n",
       "      <td>50315</td>\n",
       "      <td>3000 SW 9th ST\\nDES MOINES 50315\\n(41.55787854...</td>\n",
       "      <td>Polk</td>\n",
       "      <td>IMPORTED VODKA</td>\n",
       "      <td>Moet Hennessy USA Inc.</td>\n",
       "      <td>34155</td>\n",
       "      <td>Belvedere Vodka</td>\n",
       "      <td>6</td>\n",
       "      <td>750</td>\n",
       "      <td>$17.15</td>\n",
       "      <td>25.73</td>\n",
       "      <td>2</td>\n",
       "      <td>51.46</td>\n",
       "      <td>True</td>\n",
       "      <td>41.557879</td>\n",
       "      <td>-93.625737</td>\n",
       "    </tr>\n",
       "    <tr>\n",
       "      <th>1434299</th>\n",
       "      <td>2014-05-29</td>\n",
       "      <td>Smokin' Joe's #11 Tobacco and Liquor</td>\n",
       "      <td>1606 CAMANCHE AVE</td>\n",
       "      <td>CLINTON</td>\n",
       "      <td>52732</td>\n",
       "      <td>1606 CAMANCHE AVE\\nCLINTON 52732\\n(41.82829173...</td>\n",
       "      <td>Clinton</td>\n",
       "      <td>AMERICAN GRAPE BRANDIES</td>\n",
       "      <td>Heaven Hill Distilleries Inc.</td>\n",
       "      <td>52316</td>\n",
       "      <td>Christian Bros Brandy</td>\n",
       "      <td>12</td>\n",
       "      <td>750</td>\n",
       "      <td>$5.92</td>\n",
       "      <td>8.88</td>\n",
       "      <td>1</td>\n",
       "      <td>8.88</td>\n",
       "      <td>False</td>\n",
       "      <td>41.828292</td>\n",
       "      <td>-90.204119</td>\n",
       "    </tr>\n",
       "    <tr>\n",
       "      <th>1434300</th>\n",
       "      <td>2014-05-29</td>\n",
       "      <td>Sycamore Convenience</td>\n",
       "      <td>617 SYCAMORE</td>\n",
       "      <td>WATERLOO</td>\n",
       "      <td>50703</td>\n",
       "      <td>617 SYCAMORE\\nWATERLOO 50703\\n(42.497833997000...</td>\n",
       "      <td>Black Hawk</td>\n",
       "      <td>FLAVORED RUM</td>\n",
       "      <td>Jim Beam Brands</td>\n",
       "      <td>44419</td>\n",
       "      <td>Cruzan Black Cherry Rum</td>\n",
       "      <td>12</td>\n",
       "      <td>750</td>\n",
       "      <td>$6.83</td>\n",
       "      <td>10.25</td>\n",
       "      <td>2</td>\n",
       "      <td>20.50</td>\n",
       "      <td>False</td>\n",
       "      <td>42.497834</td>\n",
       "      <td>-92.335315</td>\n",
       "    </tr>\n",
       "    <tr>\n",
       "      <th>1434301</th>\n",
       "      <td>2014-05-29</td>\n",
       "      <td>Walgreens #07453 / Des Moines</td>\n",
       "      <td>104 E EUCLID AVE</td>\n",
       "      <td>DES MOINES</td>\n",
       "      <td>50313</td>\n",
       "      <td>104 E EUCLID AVE\\nDES MOINES 50313\\n(41.627727...</td>\n",
       "      <td>Polk</td>\n",
       "      <td>PUERTO RICO &amp; VIRGIN ISLANDS RUM</td>\n",
       "      <td>Bacardi U.S.A. Inc.</td>\n",
       "      <td>43126</td>\n",
       "      <td>Bacardi Superior Rum</td>\n",
       "      <td>12</td>\n",
       "      <td>750</td>\n",
       "      <td>$8.00</td>\n",
       "      <td>12.00</td>\n",
       "      <td>12</td>\n",
       "      <td>144.00</td>\n",
       "      <td>False</td>\n",
       "      <td>41.627728</td>\n",
       "      <td>-93.617180</td>\n",
       "    </tr>\n",
       "    <tr>\n",
       "      <th>1434302</th>\n",
       "      <td>2014-05-29</td>\n",
       "      <td>Central City Liquor Inc.</td>\n",
       "      <td>1460 2ND AVE</td>\n",
       "      <td>DES MOINES</td>\n",
       "      <td>50314</td>\n",
       "      <td>1460 2ND AVE\\nDES MOINES 50314\\n(41.6055703350...</td>\n",
       "      <td>Polk</td>\n",
       "      <td>SINGLE MALT SCOTCH</td>\n",
       "      <td>Moet Hennessy USA Inc.</td>\n",
       "      <td>5103</td>\n",
       "      <td>Glenmorangie Lasanta</td>\n",
       "      <td>6</td>\n",
       "      <td>750</td>\n",
       "      <td>$27.99</td>\n",
       "      <td>41.99</td>\n",
       "      <td>6</td>\n",
       "      <td>251.94</td>\n",
       "      <td>False</td>\n",
       "      <td>41.605570</td>\n",
       "      <td>-93.619827</td>\n",
       "    </tr>\n",
       "    <tr>\n",
       "      <th>1434303</th>\n",
       "      <td>2014-05-29</td>\n",
       "      <td>Smokin' Joe's #11 Tobacco and Liquor</td>\n",
       "      <td>1606 CAMANCHE AVE</td>\n",
       "      <td>CLINTON</td>\n",
       "      <td>52732</td>\n",
       "      <td>1606 CAMANCHE AVE\\nCLINTON 52732\\n(41.82829173...</td>\n",
       "      <td>Clinton</td>\n",
       "      <td>AMERICAN GRAPE BRANDIES</td>\n",
       "      <td>Heaven Hill Distilleries Inc.</td>\n",
       "      <td>52314</td>\n",
       "      <td>Christian Bros Brandy</td>\n",
       "      <td>24</td>\n",
       "      <td>375</td>\n",
       "      <td>$3.23</td>\n",
       "      <td>4.85</td>\n",
       "      <td>1</td>\n",
       "      <td>4.85</td>\n",
       "      <td>False</td>\n",
       "      <td>41.828292</td>\n",
       "      <td>-90.204119</td>\n",
       "    </tr>\n",
       "    <tr>\n",
       "      <th>1434304</th>\n",
       "      <td>2014-05-29</td>\n",
       "      <td>Central City Liquor Inc.</td>\n",
       "      <td>1460 2ND AVE</td>\n",
       "      <td>DES MOINES</td>\n",
       "      <td>50314</td>\n",
       "      <td>1460 2ND AVE\\nDES MOINES 50314\\n(41.6055703350...</td>\n",
       "      <td>Polk</td>\n",
       "      <td>STRAIGHT RYE WHISKIES</td>\n",
       "      <td>Wilson Daniels Ltd.</td>\n",
       "      <td>27102</td>\n",
       "      <td>Templeton Rye</td>\n",
       "      <td>6</td>\n",
       "      <td>750</td>\n",
       "      <td>$18.09</td>\n",
       "      <td>27.14</td>\n",
       "      <td>6</td>\n",
       "      <td>162.84</td>\n",
       "      <td>False</td>\n",
       "      <td>41.605570</td>\n",
       "      <td>-93.619827</td>\n",
       "    </tr>\n",
       "    <tr>\n",
       "      <th>1434305</th>\n",
       "      <td>2014-05-29</td>\n",
       "      <td>0753 Wal-mart / Cedar Fall</td>\n",
       "      <td>525 BRANDILYNN BLVD</td>\n",
       "      <td>CEDAR FALLS</td>\n",
       "      <td>50613</td>\n",
       "      <td>525 BRANDILYNN BLVD\\nCEDAR FALLS 50613\\n(42.48...</td>\n",
       "      <td>Black Hawk</td>\n",
       "      <td>IMPORTED VODKA</td>\n",
       "      <td>Jim Beam Brands</td>\n",
       "      <td>34578</td>\n",
       "      <td>Pinnacle Vodka</td>\n",
       "      <td>6</td>\n",
       "      <td>1750</td>\n",
       "      <td>$12.08</td>\n",
       "      <td>18.12</td>\n",
       "      <td>6</td>\n",
       "      <td>108.72</td>\n",
       "      <td>False</td>\n",
       "      <td>42.485056</td>\n",
       "      <td>-92.441150</td>\n",
       "    </tr>\n",
       "    <tr>\n",
       "      <th>1434306</th>\n",
       "      <td>2014-05-29</td>\n",
       "      <td>Central City Liquor Inc.</td>\n",
       "      <td>1460 2ND AVE</td>\n",
       "      <td>DES MOINES</td>\n",
       "      <td>50314</td>\n",
       "      <td>1460 2ND AVE\\nDES MOINES 50314\\n(41.6055703350...</td>\n",
       "      <td>Polk</td>\n",
       "      <td>CANADIAN WHISKIES</td>\n",
       "      <td>Diageo Americas</td>\n",
       "      <td>11290</td>\n",
       "      <td>Crown Royal Canadian Whisky Mini</td>\n",
       "      <td>10</td>\n",
       "      <td>300</td>\n",
       "      <td>$6.90</td>\n",
       "      <td>10.35</td>\n",
       "      <td>1</td>\n",
       "      <td>10.35</td>\n",
       "      <td>False</td>\n",
       "      <td>41.605570</td>\n",
       "      <td>-93.619827</td>\n",
       "    </tr>\n",
       "    <tr>\n",
       "      <th>...</th>\n",
       "      <td>...</td>\n",
       "      <td>...</td>\n",
       "      <td>...</td>\n",
       "      <td>...</td>\n",
       "      <td>...</td>\n",
       "      <td>...</td>\n",
       "      <td>...</td>\n",
       "      <td>...</td>\n",
       "      <td>...</td>\n",
       "      <td>...</td>\n",
       "      <td>...</td>\n",
       "      <td>...</td>\n",
       "      <td>...</td>\n",
       "      <td>...</td>\n",
       "      <td>...</td>\n",
       "      <td>...</td>\n",
       "      <td>...</td>\n",
       "      <td>...</td>\n",
       "      <td>...</td>\n",
       "      <td>...</td>\n",
       "    </tr>\n",
       "    <tr>\n",
       "      <th>3049903</th>\n",
       "      <td>2014-01-02</td>\n",
       "      <td>Shop n Save / 6th Ave</td>\n",
       "      <td>1829 6TH AVE</td>\n",
       "      <td>DES MOINES</td>\n",
       "      <td>50314</td>\n",
       "      <td>1829 6TH AVE\\nDES MOINES 50314\\n(41.6110713290...</td>\n",
       "      <td>Polk</td>\n",
       "      <td>TEQUILA</td>\n",
       "      <td>The Patron Spirits Company</td>\n",
       "      <td>88296</td>\n",
       "      <td>Patron Tequila Silver</td>\n",
       "      <td>12</td>\n",
       "      <td>750</td>\n",
       "      <td>$27.00</td>\n",
       "      <td>40.50</td>\n",
       "      <td>12</td>\n",
       "      <td>486.00</td>\n",
       "      <td>False</td>\n",
       "      <td>41.611071</td>\n",
       "      <td>-93.625774</td>\n",
       "    </tr>\n",
       "    <tr>\n",
       "      <th>3049904</th>\n",
       "      <td>2014-01-02</td>\n",
       "      <td>The Cooler</td>\n",
       "      <td>4920 JOHNSON AVE NW</td>\n",
       "      <td>CEDAR RAPIDS</td>\n",
       "      <td>52405</td>\n",
       "      <td>4920 JOHNSON AVE NW\\nCEDAR RAPIDS 52405\\n(41.9...</td>\n",
       "      <td>Linn</td>\n",
       "      <td>80 PROOF VODKA</td>\n",
       "      <td>Diageo Americas</td>\n",
       "      <td>37991</td>\n",
       "      <td>Smirnoff Vodka 80 Prf Mini</td>\n",
       "      <td>12</td>\n",
       "      <td>500</td>\n",
       "      <td>$7.47</td>\n",
       "      <td>11.20</td>\n",
       "      <td>2</td>\n",
       "      <td>22.40</td>\n",
       "      <td>False</td>\n",
       "      <td>41.968047</td>\n",
       "      <td>-91.734391</td>\n",
       "    </tr>\n",
       "    <tr>\n",
       "      <th>3049905</th>\n",
       "      <td>2014-01-02</td>\n",
       "      <td>Hy-vee Drugstore / Iowa C</td>\n",
       "      <td>310 N 1ST ST</td>\n",
       "      <td>IOWA CITY</td>\n",
       "      <td>52245</td>\n",
       "      <td>310 N 1ST ST\\nIOWA CITY 52245\\n(41.66583006500...</td>\n",
       "      <td>Johnson</td>\n",
       "      <td>AMERICAN DRY GINS</td>\n",
       "      <td>Pernod Ricard USA/Austin Nichols</td>\n",
       "      <td>32236</td>\n",
       "      <td>Seagram's Extra Dry Gin</td>\n",
       "      <td>12</td>\n",
       "      <td>750</td>\n",
       "      <td>$6.49</td>\n",
       "      <td>9.74</td>\n",
       "      <td>4</td>\n",
       "      <td>38.96</td>\n",
       "      <td>False</td>\n",
       "      <td>41.665830</td>\n",
       "      <td>-91.502064</td>\n",
       "    </tr>\n",
       "    <tr>\n",
       "      <th>3049906</th>\n",
       "      <td>2014-01-02</td>\n",
       "      <td>Lickety Liquor</td>\n",
       "      <td>2501 HUBBELL AVE</td>\n",
       "      <td>DES MOINES</td>\n",
       "      <td>50317</td>\n",
       "      <td>2501 HUBBELL AVE\\nDES MOINES 50317\\n(41.607763...</td>\n",
       "      <td>Polk</td>\n",
       "      <td>BLENDED WHISKIES</td>\n",
       "      <td>Jim Beam Brands</td>\n",
       "      <td>22784</td>\n",
       "      <td>Beam's 8 Star Bl Whiskey</td>\n",
       "      <td>24</td>\n",
       "      <td>375</td>\n",
       "      <td>$1.90</td>\n",
       "      <td>2.85</td>\n",
       "      <td>24</td>\n",
       "      <td>68.40</td>\n",
       "      <td>False</td>\n",
       "      <td>41.607763</td>\n",
       "      <td>-93.570462</td>\n",
       "    </tr>\n",
       "    <tr>\n",
       "      <th>3049907</th>\n",
       "      <td>2014-01-02</td>\n",
       "      <td>Lickety Liquor</td>\n",
       "      <td>2501 HUBBELL AVE</td>\n",
       "      <td>DES MOINES</td>\n",
       "      <td>50317</td>\n",
       "      <td>2501 HUBBELL AVE\\nDES MOINES 50317\\n(41.607763...</td>\n",
       "      <td>Polk</td>\n",
       "      <td>TENNESSEE WHISKIES</td>\n",
       "      <td>Brown-Forman Corporation</td>\n",
       "      <td>26828</td>\n",
       "      <td>Jack Daniels Old #7 Black Lbl</td>\n",
       "      <td>6</td>\n",
       "      <td>1750</td>\n",
       "      <td>$27.70</td>\n",
       "      <td>41.55</td>\n",
       "      <td>1</td>\n",
       "      <td>41.55</td>\n",
       "      <td>False</td>\n",
       "      <td>41.607763</td>\n",
       "      <td>-93.570462</td>\n",
       "    </tr>\n",
       "    <tr>\n",
       "      <th>3049908</th>\n",
       "      <td>2014-01-02</td>\n",
       "      <td>Lickety Liquor</td>\n",
       "      <td>2501 HUBBELL AVE</td>\n",
       "      <td>DES MOINES</td>\n",
       "      <td>50317</td>\n",
       "      <td>2501 HUBBELL AVE\\nDES MOINES 50317\\n(41.607763...</td>\n",
       "      <td>Polk</td>\n",
       "      <td>IMPORTED VODKA</td>\n",
       "      <td>Bacardi U.S.A. Inc.</td>\n",
       "      <td>34425</td>\n",
       "      <td>Grey Goose Vodka</td>\n",
       "      <td>6</td>\n",
       "      <td>1750</td>\n",
       "      <td>$35.42</td>\n",
       "      <td>53.13</td>\n",
       "      <td>1</td>\n",
       "      <td>53.13</td>\n",
       "      <td>False</td>\n",
       "      <td>41.607763</td>\n",
       "      <td>-93.570462</td>\n",
       "    </tr>\n",
       "    <tr>\n",
       "      <th>3049909</th>\n",
       "      <td>2014-01-02</td>\n",
       "      <td>Walgreens #05144 / Clinton</td>\n",
       "      <td>1905 N  2ND ST</td>\n",
       "      <td>CLINTON</td>\n",
       "      <td>52732</td>\n",
       "      <td>1905 N 2ND ST\\nCLINTON 52732\\n(41.866335062000...</td>\n",
       "      <td>Clinton</td>\n",
       "      <td>SPICED RUM</td>\n",
       "      <td>Diageo Americas</td>\n",
       "      <td>43336</td>\n",
       "      <td>Captain Morgan Original Spiced</td>\n",
       "      <td>12</td>\n",
       "      <td>750</td>\n",
       "      <td>$8.75</td>\n",
       "      <td>13.12</td>\n",
       "      <td>24</td>\n",
       "      <td>314.88</td>\n",
       "      <td>False</td>\n",
       "      <td>41.866335</td>\n",
       "      <td>-90.182079</td>\n",
       "    </tr>\n",
       "    <tr>\n",
       "      <th>3049910</th>\n",
       "      <td>2014-01-02</td>\n",
       "      <td>Hy-vee Drugstore / Iowa C</td>\n",
       "      <td>310 N 1ST ST</td>\n",
       "      <td>IOWA CITY</td>\n",
       "      <td>52245</td>\n",
       "      <td>310 N 1ST ST\\nIOWA CITY 52245\\n(41.66583006500...</td>\n",
       "      <td>Johnson</td>\n",
       "      <td>IMPORTED DRY GINS</td>\n",
       "      <td>Diageo Americas</td>\n",
       "      <td>28867</td>\n",
       "      <td>Tanqueray Gin</td>\n",
       "      <td>12</td>\n",
       "      <td>1000</td>\n",
       "      <td>$14.99</td>\n",
       "      <td>22.48</td>\n",
       "      <td>4</td>\n",
       "      <td>89.92</td>\n",
       "      <td>False</td>\n",
       "      <td>41.665830</td>\n",
       "      <td>-91.502064</td>\n",
       "    </tr>\n",
       "    <tr>\n",
       "      <th>3049911</th>\n",
       "      <td>2014-01-02</td>\n",
       "      <td>Gary's Foods / Mt Vernon</td>\n",
       "      <td>715  1ST AVE S</td>\n",
       "      <td>MOUNT VERNON</td>\n",
       "      <td>52314</td>\n",
       "      <td>715 1ST AVE S\\nMOUNT VERNON 52314\\n(41.9167325...</td>\n",
       "      <td>Linn</td>\n",
       "      <td>80 PROOF VODKA</td>\n",
       "      <td>Phillips Beverage Company</td>\n",
       "      <td>37346</td>\n",
       "      <td>Phillips Vodka</td>\n",
       "      <td>12</td>\n",
       "      <td>750</td>\n",
       "      <td>$3.57</td>\n",
       "      <td>5.35</td>\n",
       "      <td>12</td>\n",
       "      <td>64.20</td>\n",
       "      <td>False</td>\n",
       "      <td>41.916733</td>\n",
       "      <td>-91.422371</td>\n",
       "    </tr>\n",
       "    <tr>\n",
       "      <th>3049912</th>\n",
       "      <td>2014-01-02</td>\n",
       "      <td>Hy-vee Drugstore / Iowa C</td>\n",
       "      <td>310 N 1ST ST</td>\n",
       "      <td>IOWA CITY</td>\n",
       "      <td>52245</td>\n",
       "      <td>310 N 1ST ST\\nIOWA CITY 52245\\n(41.66583006500...</td>\n",
       "      <td>Johnson</td>\n",
       "      <td>IMPORTED DRY GINS</td>\n",
       "      <td>Pernod Ricard USA/Austin Nichols</td>\n",
       "      <td>28088</td>\n",
       "      <td>Beefeater Gin</td>\n",
       "      <td>6</td>\n",
       "      <td>1750</td>\n",
       "      <td>$22.49</td>\n",
       "      <td>33.74</td>\n",
       "      <td>3</td>\n",
       "      <td>101.22</td>\n",
       "      <td>False</td>\n",
       "      <td>41.665830</td>\n",
       "      <td>-91.502064</td>\n",
       "    </tr>\n",
       "  </tbody>\n",
       "</table>\n",
       "<p>1615616 rows × 20 columns</p>\n",
       "</div>"
      ],
      "text/plain": [
       "              date                                  name              address  \\\n",
       "1434297 2014-05-29         Walgreens #07453 / Des Moines     104 E EUCLID AVE   \n",
       "1434298 2014-05-29                               U S Gas       3000 SW 9th ST   \n",
       "1434299 2014-05-29  Smokin' Joe's #11 Tobacco and Liquor    1606 CAMANCHE AVE   \n",
       "1434300 2014-05-29                  Sycamore Convenience         617 SYCAMORE   \n",
       "1434301 2014-05-29         Walgreens #07453 / Des Moines     104 E EUCLID AVE   \n",
       "1434302 2014-05-29              Central City Liquor Inc.         1460 2ND AVE   \n",
       "1434303 2014-05-29  Smokin' Joe's #11 Tobacco and Liquor    1606 CAMANCHE AVE   \n",
       "1434304 2014-05-29              Central City Liquor Inc.         1460 2ND AVE   \n",
       "1434305 2014-05-29            0753 Wal-mart / Cedar Fall  525 BRANDILYNN BLVD   \n",
       "1434306 2014-05-29              Central City Liquor Inc.         1460 2ND AVE   \n",
       "...            ...                                   ...                  ...   \n",
       "3049903 2014-01-02                 Shop n Save / 6th Ave         1829 6TH AVE   \n",
       "3049904 2014-01-02                            The Cooler  4920 JOHNSON AVE NW   \n",
       "3049905 2014-01-02             Hy-vee Drugstore / Iowa C         310 N 1ST ST   \n",
       "3049906 2014-01-02                        Lickety Liquor     2501 HUBBELL AVE   \n",
       "3049907 2014-01-02                        Lickety Liquor     2501 HUBBELL AVE   \n",
       "3049908 2014-01-02                        Lickety Liquor     2501 HUBBELL AVE   \n",
       "3049909 2014-01-02            Walgreens #05144 / Clinton       1905 N  2ND ST   \n",
       "3049910 2014-01-02             Hy-vee Drugstore / Iowa C         310 N 1ST ST   \n",
       "3049911 2014-01-02              Gary's Foods / Mt Vernon       715  1ST AVE S   \n",
       "3049912 2014-01-02             Hy-vee Drugstore / Iowa C         310 N 1ST ST   \n",
       "\n",
       "                 city zipcode  \\\n",
       "1434297    DES MOINES   50313   \n",
       "1434298    DES MOINES   50315   \n",
       "1434299       CLINTON   52732   \n",
       "1434300      WATERLOO   50703   \n",
       "1434301    DES MOINES   50313   \n",
       "1434302    DES MOINES   50314   \n",
       "1434303       CLINTON   52732   \n",
       "1434304    DES MOINES   50314   \n",
       "1434305   CEDAR FALLS   50613   \n",
       "1434306    DES MOINES   50314   \n",
       "...               ...     ...   \n",
       "3049903    DES MOINES   50314   \n",
       "3049904  CEDAR RAPIDS   52405   \n",
       "3049905     IOWA CITY   52245   \n",
       "3049906    DES MOINES   50317   \n",
       "3049907    DES MOINES   50317   \n",
       "3049908    DES MOINES   50317   \n",
       "3049909       CLINTON   52732   \n",
       "3049910     IOWA CITY   52245   \n",
       "3049911  MOUNT VERNON   52314   \n",
       "3049912     IOWA CITY   52245   \n",
       "\n",
       "                                            store_location      county  \\\n",
       "1434297  104 E EUCLID AVE\\nDES MOINES 50313\\n(41.627727...        Polk   \n",
       "1434298  3000 SW 9th ST\\nDES MOINES 50315\\n(41.55787854...        Polk   \n",
       "1434299  1606 CAMANCHE AVE\\nCLINTON 52732\\n(41.82829173...     Clinton   \n",
       "1434300  617 SYCAMORE\\nWATERLOO 50703\\n(42.497833997000...  Black Hawk   \n",
       "1434301  104 E EUCLID AVE\\nDES MOINES 50313\\n(41.627727...        Polk   \n",
       "1434302  1460 2ND AVE\\nDES MOINES 50314\\n(41.6055703350...        Polk   \n",
       "1434303  1606 CAMANCHE AVE\\nCLINTON 52732\\n(41.82829173...     Clinton   \n",
       "1434304  1460 2ND AVE\\nDES MOINES 50314\\n(41.6055703350...        Polk   \n",
       "1434305  525 BRANDILYNN BLVD\\nCEDAR FALLS 50613\\n(42.48...  Black Hawk   \n",
       "1434306  1460 2ND AVE\\nDES MOINES 50314\\n(41.6055703350...        Polk   \n",
       "...                                                    ...         ...   \n",
       "3049903  1829 6TH AVE\\nDES MOINES 50314\\n(41.6110713290...        Polk   \n",
       "3049904  4920 JOHNSON AVE NW\\nCEDAR RAPIDS 52405\\n(41.9...        Linn   \n",
       "3049905  310 N 1ST ST\\nIOWA CITY 52245\\n(41.66583006500...     Johnson   \n",
       "3049906  2501 HUBBELL AVE\\nDES MOINES 50317\\n(41.607763...        Polk   \n",
       "3049907  2501 HUBBELL AVE\\nDES MOINES 50317\\n(41.607763...        Polk   \n",
       "3049908  2501 HUBBELL AVE\\nDES MOINES 50317\\n(41.607763...        Polk   \n",
       "3049909  1905 N 2ND ST\\nCLINTON 52732\\n(41.866335062000...     Clinton   \n",
       "3049910  310 N 1ST ST\\nIOWA CITY 52245\\n(41.66583006500...     Johnson   \n",
       "3049911  715 1ST AVE S\\nMOUNT VERNON 52314\\n(41.9167325...        Linn   \n",
       "3049912  310 N 1ST ST\\nIOWA CITY 52245\\n(41.66583006500...     Johnson   \n",
       "\n",
       "                            category_name                            vendor  \\\n",
       "1434297  PUERTO RICO & VIRGIN ISLANDS RUM                    Luxco-St Louis   \n",
       "1434298                    IMPORTED VODKA            Moet Hennessy USA Inc.   \n",
       "1434299           AMERICAN GRAPE BRANDIES     Heaven Hill Distilleries Inc.   \n",
       "1434300                      FLAVORED RUM                   Jim Beam Brands   \n",
       "1434301  PUERTO RICO & VIRGIN ISLANDS RUM               Bacardi U.S.A. Inc.   \n",
       "1434302                SINGLE MALT SCOTCH            Moet Hennessy USA Inc.   \n",
       "1434303           AMERICAN GRAPE BRANDIES     Heaven Hill Distilleries Inc.   \n",
       "1434304             STRAIGHT RYE WHISKIES               Wilson Daniels Ltd.   \n",
       "1434305                    IMPORTED VODKA                   Jim Beam Brands   \n",
       "1434306                 CANADIAN WHISKIES                   Diageo Americas   \n",
       "...                                   ...                               ...   \n",
       "3049903                           TEQUILA        The Patron Spirits Company   \n",
       "3049904                    80 PROOF VODKA                   Diageo Americas   \n",
       "3049905                 AMERICAN DRY GINS  Pernod Ricard USA/Austin Nichols   \n",
       "3049906                  BLENDED WHISKIES                   Jim Beam Brands   \n",
       "3049907                TENNESSEE WHISKIES          Brown-Forman Corporation   \n",
       "3049908                    IMPORTED VODKA               Bacardi U.S.A. Inc.   \n",
       "3049909                        SPICED RUM                   Diageo Americas   \n",
       "3049910                 IMPORTED DRY GINS                   Diageo Americas   \n",
       "3049911                    80 PROOF VODKA         Phillips Beverage Company   \n",
       "3049912                 IMPORTED DRY GINS  Pernod Ricard USA/Austin Nichols   \n",
       "\n",
       "          item                       description  pack  liter_size  \\\n",
       "1434297  45278               Paramount White Rum     6        1750   \n",
       "1434298  34155                   Belvedere Vodka     6         750   \n",
       "1434299  52316             Christian Bros Brandy    12         750   \n",
       "1434300  44419           Cruzan Black Cherry Rum    12         750   \n",
       "1434301  43126              Bacardi Superior Rum    12         750   \n",
       "1434302   5103              Glenmorangie Lasanta     6         750   \n",
       "1434303  52314             Christian Bros Brandy    24         375   \n",
       "1434304  27102                     Templeton Rye     6         750   \n",
       "1434305  34578                    Pinnacle Vodka     6        1750   \n",
       "1434306  11290  Crown Royal Canadian Whisky Mini    10         300   \n",
       "...        ...                               ...   ...         ...   \n",
       "3049903  88296             Patron Tequila Silver    12         750   \n",
       "3049904  37991        Smirnoff Vodka 80 Prf Mini    12         500   \n",
       "3049905  32236           Seagram's Extra Dry Gin    12         750   \n",
       "3049906  22784          Beam's 8 Star Bl Whiskey    24         375   \n",
       "3049907  26828     Jack Daniels Old #7 Black Lbl     6        1750   \n",
       "3049908  34425                  Grey Goose Vodka     6        1750   \n",
       "3049909  43336    Captain Morgan Original Spiced    12         750   \n",
       "3049910  28867                     Tanqueray Gin    12        1000   \n",
       "3049911  37346                    Phillips Vodka    12         750   \n",
       "3049912  28088                     Beefeater Gin     6        1750   \n",
       "\n",
       "        state_btl_cost  btl_price  bottle_qty   total is_convenience  \\\n",
       "1434297          $7.84      11.76           6   70.56          False   \n",
       "1434298         $17.15      25.73           2   51.46           True   \n",
       "1434299          $5.92       8.88           1    8.88          False   \n",
       "1434300          $6.83      10.25           2   20.50          False   \n",
       "1434301          $8.00      12.00          12  144.00          False   \n",
       "1434302         $27.99      41.99           6  251.94          False   \n",
       "1434303          $3.23       4.85           1    4.85          False   \n",
       "1434304         $18.09      27.14           6  162.84          False   \n",
       "1434305         $12.08      18.12           6  108.72          False   \n",
       "1434306          $6.90      10.35           1   10.35          False   \n",
       "...                ...        ...         ...     ...            ...   \n",
       "3049903         $27.00      40.50          12  486.00          False   \n",
       "3049904          $7.47      11.20           2   22.40          False   \n",
       "3049905          $6.49       9.74           4   38.96          False   \n",
       "3049906          $1.90       2.85          24   68.40          False   \n",
       "3049907         $27.70      41.55           1   41.55          False   \n",
       "3049908         $35.42      53.13           1   53.13          False   \n",
       "3049909          $8.75      13.12          24  314.88          False   \n",
       "3049910         $14.99      22.48           4   89.92          False   \n",
       "3049911          $3.57       5.35          12   64.20          False   \n",
       "3049912         $22.49      33.74           3  101.22          False   \n",
       "\n",
       "               lat        lng  \n",
       "1434297  41.627728 -93.617180  \n",
       "1434298  41.557879 -93.625737  \n",
       "1434299  41.828292 -90.204119  \n",
       "1434300  42.497834 -92.335315  \n",
       "1434301  41.627728 -93.617180  \n",
       "1434302  41.605570 -93.619827  \n",
       "1434303  41.828292 -90.204119  \n",
       "1434304  41.605570 -93.619827  \n",
       "1434305  42.485056 -92.441150  \n",
       "1434306  41.605570 -93.619827  \n",
       "...            ...        ...  \n",
       "3049903  41.611071 -93.625774  \n",
       "3049904  41.968047 -91.734391  \n",
       "3049905  41.665830 -91.502064  \n",
       "3049906  41.607763 -93.570462  \n",
       "3049907  41.607763 -93.570462  \n",
       "3049908  41.607763 -93.570462  \n",
       "3049909  41.866335 -90.182079  \n",
       "3049910  41.665830 -91.502064  \n",
       "3049911  41.916733 -91.422371  \n",
       "3049912  41.665830 -91.502064  \n",
       "\n",
       "[1615616 rows x 20 columns]"
      ]
     },
     "execution_count": 82,
     "metadata": {},
     "output_type": "execute_result"
    }
   ],
   "source": [
    "sub."
   ]
  },
  {
   "cell_type": "code",
   "execution_count": null,
   "metadata": {
    "collapsed": true
   },
   "outputs": [],
   "source": []
  }
 ],
 "metadata": {
  "kernelspec": {
   "display_name": "Python 3",
   "language": "python",
   "name": "python3"
  },
  "language_info": {
   "codemirror_mode": {
    "name": "ipython",
    "version": 3
   },
   "file_extension": ".py",
   "mimetype": "text/x-python",
   "name": "python",
   "nbconvert_exporter": "python",
   "pygments_lexer": "ipython3",
   "version": "3.4.3"
  }
 },
 "nbformat": 4,
 "nbformat_minor": 0
}
