{
 "cells": [
  {
   "cell_type": "markdown",
   "metadata": {},
   "source": [
    "# Tidy Data\n",
    "\n",
    "> Structuring datasets to facilitate analysis [(Wickham 2014)](http://www.jstatsoft.org/v59/i10/paper)\n",
    "\n",
    "If there's one maxim I can impart it's that your tools shouldn't get in the way of your analysis. Your problem is already difficult enough, don't let the data or your tools make it any harder.\n",
    "\n",
    "## The Rules\n",
    "\n",
    "In a tidy dataset...\n",
    "\n",
    "1. Each variable forms a column\n",
    "2. Each observation forms a row\n",
    "3. Each type of observational unit forms a table\n",
    "\n",
    "We'll cover a few methods that help you get there."
   ]
  },
  {
   "cell_type": "markdown",
   "metadata": {},
   "source": [
    "Based on [this](http://stackoverflow.com/questions/22695680/python-pandas-timedelta-specific-rows) StackOverflow question."
   ]
  },
  {
   "cell_type": "code",
   "execution_count": 1,
   "metadata": {
    "collapsed": true
   },
   "outputs": [],
   "source": [
    "import numpy as np\n",
    "import pandas as pd\n",
    "import seaborn as sns\n",
    "import matplotlib.pyplot as plt\n",
    "\n",
    "pd.options.display.max_rows = 10\n",
    "%matplotlib inline"
   ]
  },
  {
   "cell_type": "markdown",
   "metadata": {},
   "source": [
    "Earlier, I fetched some data\n",
    "\n",
    "```python\n",
    "tables = pd.read_html(\"http://www.basketball-reference.com/leagues/NBA_2015_games.html\")\n",
    "games = tables[0]\n",
    "games.to_csv('data/games.csv', index=False)\n",
    "```"
   ]
  },
  {
   "cell_type": "code",
   "execution_count": 28,
   "metadata": {
    "collapsed": true
   },
   "outputs": [],
   "source": [
    "pd.read_html?"
   ]
  },
  {
   "cell_type": "code",
   "execution_count": 29,
   "metadata": {
    "collapsed": false
   },
   "outputs": [
    {
     "name": "stdout",
     "output_type": "stream",
     "text": [
      "Date,Unnamed: 1,Visitor/Neutral,PTS,Home/Neutral,PTS.1,Unnamed: 6,Notes\r\n",
      "\"Tue, Oct 28, 2014\",Box Score,Houston Rockets,108,Los Angeles Lakers,90,,\r\n"
     ]
    }
   ],
   "source": [
    "!head -n 2 data/games.csv"
   ]
  },
  {
   "cell_type": "markdown",
   "metadata": {},
   "source": [
    "The Question:\n",
    "> **How many days of rest did each team get between each game?**\n",
    "\n",
    "Whether or not your dataset is tidy depends on your question. Given our question, what is an observation?"
   ]
  },
  {
   "cell_type": "code",
   "execution_count": 3,
   "metadata": {
    "collapsed": false
   },
   "outputs": [
    {
     "data": {
      "text/html": [
       "<div>\n",
       "<table border=\"1\" class=\"dataframe\">\n",
       "  <thead>\n",
       "    <tr style=\"text-align: right;\">\n",
       "      <th></th>\n",
       "      <th></th>\n",
       "      <th>away_team</th>\n",
       "      <th>away_points</th>\n",
       "      <th>home_team</th>\n",
       "      <th>home_points</th>\n",
       "    </tr>\n",
       "    <tr>\n",
       "      <th>game_id</th>\n",
       "      <th>date</th>\n",
       "      <th></th>\n",
       "      <th></th>\n",
       "      <th></th>\n",
       "      <th></th>\n",
       "    </tr>\n",
       "  </thead>\n",
       "  <tbody>\n",
       "    <tr>\n",
       "      <th>0</th>\n",
       "      <th>2014-10-28</th>\n",
       "      <td>Houston Rockets</td>\n",
       "      <td>108</td>\n",
       "      <td>Los Angeles Lakers</td>\n",
       "      <td>90</td>\n",
       "    </tr>\n",
       "    <tr>\n",
       "      <th>1</th>\n",
       "      <th>2014-10-28</th>\n",
       "      <td>Orlando Magic</td>\n",
       "      <td>84</td>\n",
       "      <td>New Orleans Pelicans</td>\n",
       "      <td>101</td>\n",
       "    </tr>\n",
       "    <tr>\n",
       "      <th>2</th>\n",
       "      <th>2014-10-28</th>\n",
       "      <td>Dallas Mavericks</td>\n",
       "      <td>100</td>\n",
       "      <td>San Antonio Spurs</td>\n",
       "      <td>101</td>\n",
       "    </tr>\n",
       "    <tr>\n",
       "      <th>3</th>\n",
       "      <th>2014-10-29</th>\n",
       "      <td>Brooklyn Nets</td>\n",
       "      <td>105</td>\n",
       "      <td>Boston Celtics</td>\n",
       "      <td>121</td>\n",
       "    </tr>\n",
       "    <tr>\n",
       "      <th>4</th>\n",
       "      <th>2014-10-29</th>\n",
       "      <td>Milwaukee Bucks</td>\n",
       "      <td>106</td>\n",
       "      <td>Charlotte Hornets</td>\n",
       "      <td>108</td>\n",
       "    </tr>\n",
       "  </tbody>\n",
       "</table>\n",
       "</div>"
      ],
      "text/plain": [
       "                           away_team  away_points             home_team  \\\n",
       "game_id date                                                              \n",
       "0       2014-10-28   Houston Rockets          108    Los Angeles Lakers   \n",
       "1       2014-10-28     Orlando Magic           84  New Orleans Pelicans   \n",
       "2       2014-10-28  Dallas Mavericks          100     San Antonio Spurs   \n",
       "3       2014-10-29     Brooklyn Nets          105        Boston Celtics   \n",
       "4       2014-10-29   Milwaukee Bucks          106     Charlotte Hornets   \n",
       "\n",
       "                    home_points  \n",
       "game_id date                     \n",
       "0       2014-10-28           90  \n",
       "1       2014-10-28          101  \n",
       "2       2014-10-28          101  \n",
       "3       2014-10-29          121  \n",
       "4       2014-10-29          108  "
      ]
     },
     "execution_count": 3,
     "metadata": {},
     "output_type": "execute_result"
    }
   ],
   "source": [
    "column_names = ['date', '_', 'away_team', 'away_points', 'home_team',\n",
    "                'home_points', 'n_ot', 'notes']\n",
    "games = (pd.read_csv('data/games.csv', names=column_names, parse_dates=['date'],\n",
    "                     skiprows=1)\n",
    "           .drop(['_', 'notes', 'n_ot'], axis='columns')\n",
    "           .set_index('date', append=True))\n",
    "games.index.names = ['game_id', 'date']\n",
    "games.head()"
   ]
  },
  {
   "cell_type": "markdown",
   "metadata": {},
   "source": [
    "Is `games` a tidy dataset, given our question? No, we have multiple observations (teams) per row. We'll use `pd.melt` to fix that."
   ]
  },
  {
   "cell_type": "code",
   "execution_count": 4,
   "metadata": {
    "collapsed": false
   },
   "outputs": [],
   "source": [
    "tidy = pd.melt(games.sort_index().reset_index(),\n",
    "               id_vars=['game_id', 'date'], value_vars=['away_team', 'home_team'],\n",
    "               value_name='team')"
   ]
  },
  {
   "cell_type": "code",
   "execution_count": 5,
   "metadata": {
    "collapsed": false
   },
   "outputs": [
    {
     "data": {
      "text/html": [
       "<div>\n",
       "<table border=\"1\" class=\"dataframe\">\n",
       "  <thead>\n",
       "    <tr style=\"text-align: right;\">\n",
       "      <th></th>\n",
       "      <th>game_id</th>\n",
       "      <th>date</th>\n",
       "      <th>variable</th>\n",
       "      <th>team</th>\n",
       "    </tr>\n",
       "  </thead>\n",
       "  <tbody>\n",
       "    <tr>\n",
       "      <th>0</th>\n",
       "      <td>0</td>\n",
       "      <td>2014-10-28</td>\n",
       "      <td>away_team</td>\n",
       "      <td>Houston Rockets</td>\n",
       "    </tr>\n",
       "    <tr>\n",
       "      <th>1</th>\n",
       "      <td>1</td>\n",
       "      <td>2014-10-28</td>\n",
       "      <td>away_team</td>\n",
       "      <td>Orlando Magic</td>\n",
       "    </tr>\n",
       "    <tr>\n",
       "      <th>2</th>\n",
       "      <td>2</td>\n",
       "      <td>2014-10-28</td>\n",
       "      <td>away_team</td>\n",
       "      <td>Dallas Mavericks</td>\n",
       "    </tr>\n",
       "    <tr>\n",
       "      <th>3</th>\n",
       "      <td>3</td>\n",
       "      <td>2014-10-29</td>\n",
       "      <td>away_team</td>\n",
       "      <td>Brooklyn Nets</td>\n",
       "    </tr>\n",
       "    <tr>\n",
       "      <th>4</th>\n",
       "      <td>4</td>\n",
       "      <td>2014-10-29</td>\n",
       "      <td>away_team</td>\n",
       "      <td>Milwaukee Bucks</td>\n",
       "    </tr>\n",
       "  </tbody>\n",
       "</table>\n",
       "</div>"
      ],
      "text/plain": [
       "   game_id       date   variable              team\n",
       "0        0 2014-10-28  away_team   Houston Rockets\n",
       "1        1 2014-10-28  away_team     Orlando Magic\n",
       "2        2 2014-10-28  away_team  Dallas Mavericks\n",
       "3        3 2014-10-29  away_team     Brooklyn Nets\n",
       "4        4 2014-10-29  away_team   Milwaukee Bucks"
      ]
     },
     "execution_count": 5,
     "metadata": {},
     "output_type": "execute_result"
    }
   ],
   "source": [
    "tidy.head()"
   ]
  },
  {
   "cell_type": "markdown",
   "metadata": {},
   "source": [
    "Now the translation from question to operation is direct:"
   ]
  },
  {
   "cell_type": "code",
   "execution_count": 6,
   "metadata": {
    "collapsed": false
   },
   "outputs": [
    {
     "data": {
      "text/plain": [
       "0      NaN\n",
       "1      NaN\n",
       "2      NaN\n",
       "3      NaN\n",
       "4      NaN\n",
       "        ..\n",
       "2455     1\n",
       "2456     4\n",
       "2457     4\n",
       "2458     1\n",
       "2459    10\n",
       "dtype: float64"
      ]
     },
     "execution_count": 6,
     "metadata": {},
     "output_type": "execute_result"
    }
   ],
   "source": [
    "# For each team... get number of dates between games\n",
    "tidy.groupby('team')['date'].diff().dt.days - 1"
   ]
  },
  {
   "cell_type": "code",
   "execution_count": 7,
   "metadata": {
    "collapsed": false
   },
   "outputs": [
    {
     "data": {
      "text/html": [
       "<div>\n",
       "<table border=\"1\" class=\"dataframe\">\n",
       "  <thead>\n",
       "    <tr style=\"text-align: right;\">\n",
       "      <th></th>\n",
       "      <th>game_id</th>\n",
       "      <th>date</th>\n",
       "      <th>variable</th>\n",
       "      <th>team</th>\n",
       "      <th>rest</th>\n",
       "    </tr>\n",
       "  </thead>\n",
       "  <tbody>\n",
       "    <tr>\n",
       "      <th>10</th>\n",
       "      <td>10</td>\n",
       "      <td>2014-10-29</td>\n",
       "      <td>away_team</td>\n",
       "      <td>Los Angeles Lakers</td>\n",
       "      <td>0</td>\n",
       "    </tr>\n",
       "    <tr>\n",
       "      <th>14</th>\n",
       "      <td>14</td>\n",
       "      <td>2014-10-29</td>\n",
       "      <td>away_team</td>\n",
       "      <td>Houston Rockets</td>\n",
       "      <td>0</td>\n",
       "    </tr>\n",
       "    <tr>\n",
       "      <th>15</th>\n",
       "      <td>15</td>\n",
       "      <td>2014-10-30</td>\n",
       "      <td>away_team</td>\n",
       "      <td>New York Knicks</td>\n",
       "      <td>0</td>\n",
       "    </tr>\n",
       "    <tr>\n",
       "      <th>16</th>\n",
       "      <td>16</td>\n",
       "      <td>2014-10-30</td>\n",
       "      <td>away_team</td>\n",
       "      <td>Utah Jazz</td>\n",
       "      <td>0</td>\n",
       "    </tr>\n",
       "    <tr>\n",
       "      <th>17</th>\n",
       "      <td>17</td>\n",
       "      <td>2014-10-30</td>\n",
       "      <td>away_team</td>\n",
       "      <td>Oklahoma City Thunder</td>\n",
       "      <td>0</td>\n",
       "    </tr>\n",
       "  </tbody>\n",
       "</table>\n",
       "</div>"
      ],
      "text/plain": [
       "    game_id       date   variable                   team  rest\n",
       "10       10 2014-10-29  away_team     Los Angeles Lakers     0\n",
       "14       14 2014-10-29  away_team        Houston Rockets     0\n",
       "15       15 2014-10-30  away_team        New York Knicks     0\n",
       "16       16 2014-10-30  away_team              Utah Jazz     0\n",
       "17       17 2014-10-30  away_team  Oklahoma City Thunder     0"
      ]
     },
     "execution_count": 7,
     "metadata": {},
     "output_type": "execute_result"
    }
   ],
   "source": [
    "tidy['rest'] = tidy.sort('date').groupby('team').date.diff().dt.days - 1\n",
    "tidy.dropna().head()"
   ]
  },
  {
   "cell_type": "code",
   "execution_count": 8,
   "metadata": {
    "collapsed": false
   },
   "outputs": [],
   "source": [
    "un = pd.pivot_table(tidy, values='rest',\n",
    "                    index=['game_id', 'date'],\n",
    "                    columns='variable').rename(\n",
    "    columns={'away_team': 'away_rest', 'home_team': 'home_rest'}\n",
    ")\n",
    "un.columns.name = None"
   ]
  },
  {
   "cell_type": "code",
   "execution_count": 9,
   "metadata": {
    "collapsed": false
   },
   "outputs": [
    {
     "data": {
      "text/html": [
       "<div>\n",
       "<table border=\"1\" class=\"dataframe\">\n",
       "  <thead>\n",
       "    <tr style=\"text-align: right;\">\n",
       "      <th></th>\n",
       "      <th></th>\n",
       "      <th>away_rest</th>\n",
       "      <th>home_rest</th>\n",
       "    </tr>\n",
       "    <tr>\n",
       "      <th>game_id</th>\n",
       "      <th>date</th>\n",
       "      <th></th>\n",
       "      <th></th>\n",
       "    </tr>\n",
       "  </thead>\n",
       "  <tbody>\n",
       "    <tr>\n",
       "      <th>16</th>\n",
       "      <th>2014-10-30</th>\n",
       "      <td>0</td>\n",
       "      <td>1</td>\n",
       "    </tr>\n",
       "    <tr>\n",
       "      <th>18</th>\n",
       "      <th>2014-10-30</th>\n",
       "      <td>0</td>\n",
       "      <td>0</td>\n",
       "    </tr>\n",
       "    <tr>\n",
       "      <th>19</th>\n",
       "      <th>2014-10-30</th>\n",
       "      <td>0</td>\n",
       "      <td>1</td>\n",
       "    </tr>\n",
       "    <tr>\n",
       "      <th>20</th>\n",
       "      <th>2014-10-31</th>\n",
       "      <td>0</td>\n",
       "      <td>1</td>\n",
       "    </tr>\n",
       "    <tr>\n",
       "      <th>21</th>\n",
       "      <th>2014-10-31</th>\n",
       "      <td>1</td>\n",
       "      <td>1</td>\n",
       "    </tr>\n",
       "  </tbody>\n",
       "</table>\n",
       "</div>"
      ],
      "text/plain": [
       "                    away_rest  home_rest\n",
       "game_id date                            \n",
       "16      2014-10-30          0          1\n",
       "18      2014-10-30          0          0\n",
       "19      2014-10-30          0          1\n",
       "20      2014-10-31          0          1\n",
       "21      2014-10-31          1          1"
      ]
     },
     "execution_count": 9,
     "metadata": {},
     "output_type": "execute_result"
    }
   ],
   "source": [
    "un.dropna().head()"
   ]
  },
  {
   "cell_type": "code",
   "execution_count": 10,
   "metadata": {
    "collapsed": false
   },
   "outputs": [
    {
     "data": {
      "text/html": [
       "<div>\n",
       "<table border=\"1\" class=\"dataframe\">\n",
       "  <thead>\n",
       "    <tr style=\"text-align: right;\">\n",
       "      <th></th>\n",
       "      <th></th>\n",
       "      <th>away_team</th>\n",
       "      <th>away_points</th>\n",
       "      <th>home_team</th>\n",
       "      <th>home_points</th>\n",
       "      <th>away_rest</th>\n",
       "      <th>home_rest</th>\n",
       "    </tr>\n",
       "    <tr>\n",
       "      <th>game_id</th>\n",
       "      <th>date</th>\n",
       "      <th></th>\n",
       "      <th></th>\n",
       "      <th></th>\n",
       "      <th></th>\n",
       "      <th></th>\n",
       "      <th></th>\n",
       "    </tr>\n",
       "  </thead>\n",
       "  <tbody>\n",
       "    <tr>\n",
       "      <th>0</th>\n",
       "      <th>2014-10-28</th>\n",
       "      <td>Houston Rockets</td>\n",
       "      <td>108</td>\n",
       "      <td>Los Angeles Lakers</td>\n",
       "      <td>90</td>\n",
       "      <td>NaN</td>\n",
       "      <td>NaN</td>\n",
       "    </tr>\n",
       "    <tr>\n",
       "      <th>1</th>\n",
       "      <th>2014-10-28</th>\n",
       "      <td>Orlando Magic</td>\n",
       "      <td>84</td>\n",
       "      <td>New Orleans Pelicans</td>\n",
       "      <td>101</td>\n",
       "      <td>NaN</td>\n",
       "      <td>NaN</td>\n",
       "    </tr>\n",
       "    <tr>\n",
       "      <th>2</th>\n",
       "      <th>2014-10-28</th>\n",
       "      <td>Dallas Mavericks</td>\n",
       "      <td>100</td>\n",
       "      <td>San Antonio Spurs</td>\n",
       "      <td>101</td>\n",
       "      <td>NaN</td>\n",
       "      <td>NaN</td>\n",
       "    </tr>\n",
       "    <tr>\n",
       "      <th>3</th>\n",
       "      <th>2014-10-29</th>\n",
       "      <td>Brooklyn Nets</td>\n",
       "      <td>105</td>\n",
       "      <td>Boston Celtics</td>\n",
       "      <td>121</td>\n",
       "      <td>NaN</td>\n",
       "      <td>NaN</td>\n",
       "    </tr>\n",
       "    <tr>\n",
       "      <th>4</th>\n",
       "      <th>2014-10-29</th>\n",
       "      <td>Milwaukee Bucks</td>\n",
       "      <td>106</td>\n",
       "      <td>Charlotte Hornets</td>\n",
       "      <td>108</td>\n",
       "      <td>NaN</td>\n",
       "      <td>NaN</td>\n",
       "    </tr>\n",
       "    <tr>\n",
       "      <th>...</th>\n",
       "      <th>...</th>\n",
       "      <td>...</td>\n",
       "      <td>...</td>\n",
       "      <td>...</td>\n",
       "      <td>...</td>\n",
       "      <td>...</td>\n",
       "      <td>...</td>\n",
       "    </tr>\n",
       "    <tr>\n",
       "      <th>1225</th>\n",
       "      <th>2015-04-15</th>\n",
       "      <td>Oklahoma City Thunder</td>\n",
       "      <td>138</td>\n",
       "      <td>Minnesota Timberwolves</td>\n",
       "      <td>113</td>\n",
       "      <td>1</td>\n",
       "      <td>1</td>\n",
       "    </tr>\n",
       "    <tr>\n",
       "      <th>1226</th>\n",
       "      <th>2015-04-15</th>\n",
       "      <td>San Antonio Spurs</td>\n",
       "      <td>103</td>\n",
       "      <td>New Orleans Pelicans</td>\n",
       "      <td>108</td>\n",
       "      <td>2</td>\n",
       "      <td>1</td>\n",
       "    </tr>\n",
       "    <tr>\n",
       "      <th>1227</th>\n",
       "      <th>2015-04-15</th>\n",
       "      <td>Detroit Pistons</td>\n",
       "      <td>112</td>\n",
       "      <td>New York Knicks</td>\n",
       "      <td>90</td>\n",
       "      <td>1</td>\n",
       "      <td>1</td>\n",
       "    </tr>\n",
       "    <tr>\n",
       "      <th>1228</th>\n",
       "      <th>2015-04-15</th>\n",
       "      <td>Miami Heat</td>\n",
       "      <td>105</td>\n",
       "      <td>Philadelphia 76ers</td>\n",
       "      <td>101</td>\n",
       "      <td>1</td>\n",
       "      <td>1</td>\n",
       "    </tr>\n",
       "    <tr>\n",
       "      <th>1229</th>\n",
       "      <th>2015-04-15</th>\n",
       "      <td>Charlotte Hornets</td>\n",
       "      <td>87</td>\n",
       "      <td>Toronto Raptors</td>\n",
       "      <td>92</td>\n",
       "      <td>1</td>\n",
       "      <td>0</td>\n",
       "    </tr>\n",
       "  </tbody>\n",
       "</table>\n",
       "<p>1230 rows × 6 columns</p>\n",
       "</div>"
      ],
      "text/plain": [
       "                                away_team  away_points  \\\n",
       "game_id date                                             \n",
       "0       2014-10-28        Houston Rockets          108   \n",
       "1       2014-10-28          Orlando Magic           84   \n",
       "2       2014-10-28       Dallas Mavericks          100   \n",
       "3       2014-10-29          Brooklyn Nets          105   \n",
       "4       2014-10-29        Milwaukee Bucks          106   \n",
       "...                                   ...          ...   \n",
       "1225    2015-04-15  Oklahoma City Thunder          138   \n",
       "1226    2015-04-15      San Antonio Spurs          103   \n",
       "1227    2015-04-15        Detroit Pistons          112   \n",
       "1228    2015-04-15             Miami Heat          105   \n",
       "1229    2015-04-15      Charlotte Hornets           87   \n",
       "\n",
       "                                 home_team  home_points  away_rest  home_rest  \n",
       "game_id date                                                                   \n",
       "0       2014-10-28      Los Angeles Lakers           90        NaN        NaN  \n",
       "1       2014-10-28    New Orleans Pelicans          101        NaN        NaN  \n",
       "2       2014-10-28       San Antonio Spurs          101        NaN        NaN  \n",
       "3       2014-10-29          Boston Celtics          121        NaN        NaN  \n",
       "4       2014-10-29       Charlotte Hornets          108        NaN        NaN  \n",
       "...                                    ...          ...        ...        ...  \n",
       "1225    2015-04-15  Minnesota Timberwolves          113          1          1  \n",
       "1226    2015-04-15    New Orleans Pelicans          108          2          1  \n",
       "1227    2015-04-15         New York Knicks           90          1          1  \n",
       "1228    2015-04-15      Philadelphia 76ers          101          1          1  \n",
       "1229    2015-04-15         Toronto Raptors           92          1          0  \n",
       "\n",
       "[1230 rows x 6 columns]"
      ]
     },
     "execution_count": 10,
     "metadata": {},
     "output_type": "execute_result"
    }
   ],
   "source": [
    "df = pd.concat([games, un], axis=1)\n",
    "df"
   ]
  },
  {
   "cell_type": "code",
   "execution_count": 11,
   "metadata": {
    "collapsed": false
   },
   "outputs": [
    {
     "data": {
      "image/png": "[encoded data removed]",
      "text/plain": [
       "<matplotlib.figure.Figure at 0x11623d7f0>"
      ]
     },
     "metadata": {},
     "output_type": "display_data"
    }
   ],
   "source": [
    "g = sns.FacetGrid(data=tidy.dropna(), col='team', col_wrap=5, hue='team')\n",
    "g.map(sns.barplot, \"variable\", \"rest\");"
   ]
  },
  {
   "cell_type": "code",
   "execution_count": 12,
   "metadata": {
    "collapsed": false
   },
   "outputs": [
    {
     "data": {
      "text/plain": [
       "<matplotlib.axes._subplots.AxesSubplot at 0x11724fda0>"
      ]
     },
     "execution_count": 12,
     "metadata": {},
     "output_type": "execute_result"
    },
    {
     "data": {
      "image/png": "[encoded data removed]",
      "text/plain": [
       "<matplotlib.figure.Figure at 0x117245a58>"
      ]
     },
     "metadata": {},
     "output_type": "display_data"
    }
   ],
   "source": [
    "delta = (un.home_rest - un.away_rest).dropna().astype(int)\n",
    "(delta.value_counts()\n",
    "    .reindex(np.arange(delta.min(), delta.max() + 1), fill_value=0)\n",
    "    .sort_index().plot(kind='bar', color='k', width=.9, rot=0, figsize=(12, 6)))"
   ]
  },
  {
   "cell_type": "markdown",
   "metadata": {
    "collapsed": true
   },
   "source": [
    "# Stack / Unstack"
   ]
  },
  {
   "cell_type": "markdown",
   "metadata": {},
   "source": [
    "An \"observation\" depends on the question. Home team advantage?"
   ]
  },
  {
   "cell_type": "code",
   "execution_count": 13,
   "metadata": {
    "collapsed": false
   },
   "outputs": [
    {
     "name": "stdout",
     "output_type": "stream",
     "text": [
      "Home win percent: 0.574796747967\n"
     ]
    },
    {
     "data": {
      "image/png": "[encoded data removed]",
      "text/plain": [
       "<matplotlib.figure.Figure at 0x117f6aeb8>"
      ]
     },
     "metadata": {},
     "output_type": "display_data"
    }
   ],
   "source": [
    "home_adv = games.home_points - games.away_points\n",
    "ax = (home_adv).plot(kind='hist', bins=80, color='k', figsize=(10, 5))\n",
    "ax.set_xlim(-40, 40)\n",
    "mu = home_adv.mean()\n",
    "ax.vlines(mu, *ax.get_ylim(), color='steelblue', linewidth=3)\n",
    "print('Home win percent:', (home_adv > 0).mean())"
   ]
  },
  {
   "cell_type": "markdown",
   "metadata": {},
   "source": [
    "# Team Strength"
   ]
  },
  {
   "cell_type": "markdown",
   "metadata": {},
   "source": [
    "# Mini Project: Home Court Advantage?\n",
    "\n",
    "What's the effect (in terms of probability to win) of being\n",
    "the home team."
   ]
  },
  {
   "cell_type": "markdown",
   "metadata": {},
   "source": [
    "### Step 1: Calculate Win %"
   ]
  },
  {
   "cell_type": "markdown",
   "metadata": {},
   "source": [
    "We need to create an indicator for whether the home team won.\n",
    "Add it as a column called `home_win` in `games`."
   ]
  },
  {
   "cell_type": "code",
   "execution_count": null,
   "metadata": {
    "collapsed": true
   },
   "outputs": [],
   "source": [
    "# games['home_win'] = ...  # fill this in"
   ]
  },
  {
   "cell_type": "code",
   "execution_count": 18,
   "metadata": {
    "collapsed": true
   },
   "outputs": [],
   "source": [
    "#%load -r 1:4 solutions_tidy.py"
   ]
  },
  {
   "cell_type": "markdown",
   "metadata": {},
   "source": [
    "### Step 2: Find the win percent for each team\n",
    "\n",
    "Teams are split across two columns. It's easiest to calculate number of wins and\n",
    "number of games as away, and the number of wins and number of games as home. Then\n",
    "combine those two results to get the win percent."
   ]
  },
  {
   "cell_type": "code",
   "execution_count": null,
   "metadata": {
    "collapsed": true
   },
   "outputs": [],
   "source": [
    "wins_as_away = ...\n",
    "\n",
    "wins_as_home = ..."
   ]
  },
  {
   "cell_type": "code",
   "execution_count": 86,
   "metadata": {
    "collapsed": false
   },
   "outputs": [],
   "source": [
    "%load -r 5:13 solutions_tidy.py\n",
    "# This gives the number of wins and games for away and home."
   ]
  },
  {
   "cell_type": "markdown",
   "metadata": {},
   "source": [
    "Now calculate the win percent."
   ]
  },
  {
   "cell_type": "code",
   "execution_count": null,
   "metadata": {
    "collapsed": true
   },
   "outputs": [],
   "source": [
    "strenght = "
   ]
  },
  {
   "cell_type": "code",
   "execution_count": 20,
   "metadata": {
    "collapsed": true
   },
   "outputs": [],
   "source": [
    "# %load -r 15:20 solutions_tidy.py"
   ]
  },
  {
   "cell_type": "code",
   "execution_count": 88,
   "metadata": {
    "collapsed": false
   },
   "outputs": [
    {
     "data": {
      "text/plain": [
       "<matplotlib.axes._subplots.AxesSubplot at 0x1102b6ba8>"
      ]
     },
     "execution_count": 88,
     "metadata": {},
     "output_type": "execute_result"
    },
    {
     "data": {
      "image/png": "[encoded data removed]",
      "text/plain": [
       "<matplotlib.figure.Figure at 0x110f9ef98>"
      ]
     },
     "metadata": {},
     "output_type": "display_data"
    }
   ],
   "source": [
    "strength.order().plot(kind='barh', figsize=(5, 12))"
   ]
  },
  {
   "cell_type": "markdown",
   "metadata": {},
   "source": [
    "Bring the `strength` valuess in for each team, for each game."
   ]
  },
  {
   "cell_type": "code",
   "execution_count": 95,
   "metadata": {
    "collapsed": false
   },
   "outputs": [
    {
     "data": {
      "text/html": [
       "<div>\n",
       "<table border=\"1\" class=\"dataframe\">\n",
       "  <thead>\n",
       "    <tr style=\"text-align: right;\">\n",
       "      <th></th>\n",
       "      <th></th>\n",
       "      <th>away_team</th>\n",
       "      <th>away_points</th>\n",
       "      <th>home_team</th>\n",
       "      <th>home_points</th>\n",
       "      <th>home_win</th>\n",
       "    </tr>\n",
       "    <tr>\n",
       "      <th>game_id</th>\n",
       "      <th>date</th>\n",
       "      <th></th>\n",
       "      <th></th>\n",
       "      <th></th>\n",
       "      <th></th>\n",
       "      <th></th>\n",
       "    </tr>\n",
       "  </thead>\n",
       "  <tbody>\n",
       "    <tr>\n",
       "      <th>0</th>\n",
       "      <th>2014-10-28</th>\n",
       "      <td>Houston Rockets</td>\n",
       "      <td>108</td>\n",
       "      <td>Los Angeles Lakers</td>\n",
       "      <td>90</td>\n",
       "      <td>False</td>\n",
       "    </tr>\n",
       "    <tr>\n",
       "      <th>1</th>\n",
       "      <th>2014-10-28</th>\n",
       "      <td>Orlando Magic</td>\n",
       "      <td>84</td>\n",
       "      <td>New Orleans Pelicans</td>\n",
       "      <td>101</td>\n",
       "      <td>True</td>\n",
       "    </tr>\n",
       "    <tr>\n",
       "      <th>2</th>\n",
       "      <th>2014-10-28</th>\n",
       "      <td>Dallas Mavericks</td>\n",
       "      <td>100</td>\n",
       "      <td>San Antonio Spurs</td>\n",
       "      <td>101</td>\n",
       "      <td>True</td>\n",
       "    </tr>\n",
       "    <tr>\n",
       "      <th>3</th>\n",
       "      <th>2014-10-29</th>\n",
       "      <td>Brooklyn Nets</td>\n",
       "      <td>105</td>\n",
       "      <td>Boston Celtics</td>\n",
       "      <td>121</td>\n",
       "      <td>True</td>\n",
       "    </tr>\n",
       "    <tr>\n",
       "      <th>4</th>\n",
       "      <th>2014-10-29</th>\n",
       "      <td>Milwaukee Bucks</td>\n",
       "      <td>106</td>\n",
       "      <td>Charlotte Hornets</td>\n",
       "      <td>108</td>\n",
       "      <td>True</td>\n",
       "    </tr>\n",
       "  </tbody>\n",
       "</table>\n",
       "</div>"
      ],
      "text/plain": [
       "                           away_team  away_points             home_team  \\\n",
       "game_id date                                                              \n",
       "0       2014-10-28   Houston Rockets          108    Los Angeles Lakers   \n",
       "1       2014-10-28     Orlando Magic           84  New Orleans Pelicans   \n",
       "2       2014-10-28  Dallas Mavericks          100     San Antonio Spurs   \n",
       "3       2014-10-29     Brooklyn Nets          105        Boston Celtics   \n",
       "4       2014-10-29   Milwaukee Bucks          106     Charlotte Hornets   \n",
       "\n",
       "                    home_points home_win  \n",
       "game_id date                              \n",
       "0       2014-10-28           90    False  \n",
       "1       2014-10-28          101     True  \n",
       "2       2014-10-28          101     True  \n",
       "3       2014-10-29          121     True  \n",
       "4       2014-10-29          108     True  "
      ]
     },
     "execution_count": 95,
     "metadata": {},
     "output_type": "execute_result"
    }
   ],
   "source": [
    "games.head()"
   ]
  },
  {
   "cell_type": "markdown",
   "metadata": {},
   "source": [
    "For SQL people"
   ]
  },
  {
   "cell_type": "code",
   "execution_count": 96,
   "metadata": {
    "collapsed": false
   },
   "outputs": [
    {
     "data": {
      "text/html": [
       "<div>\n",
       "<table border=\"1\" class=\"dataframe\">\n",
       "  <thead>\n",
       "    <tr style=\"text-align: right;\">\n",
       "      <th></th>\n",
       "      <th>away_team</th>\n",
       "      <th>away_strength</th>\n",
       "    </tr>\n",
       "  </thead>\n",
       "  <tbody>\n",
       "    <tr>\n",
       "      <th>0</th>\n",
       "      <td>Atlanta Hawks</td>\n",
       "      <td>0.731707</td>\n",
       "    </tr>\n",
       "    <tr>\n",
       "      <th>1</th>\n",
       "      <td>Boston Celtics</td>\n",
       "      <td>0.487805</td>\n",
       "    </tr>\n",
       "    <tr>\n",
       "      <th>2</th>\n",
       "      <td>Brooklyn Nets</td>\n",
       "      <td>0.463415</td>\n",
       "    </tr>\n",
       "    <tr>\n",
       "      <th>3</th>\n",
       "      <td>Charlotte Hornets</td>\n",
       "      <td>0.402439</td>\n",
       "    </tr>\n",
       "    <tr>\n",
       "      <th>4</th>\n",
       "      <td>Chicago Bulls</td>\n",
       "      <td>0.609756</td>\n",
       "    </tr>\n",
       "  </tbody>\n",
       "</table>\n",
       "</div>"
      ],
      "text/plain": [
       "           away_team  away_strength\n",
       "0      Atlanta Hawks       0.731707\n",
       "1     Boston Celtics       0.487805\n",
       "2      Brooklyn Nets       0.463415\n",
       "3  Charlotte Hornets       0.402439\n",
       "4      Chicago Bulls       0.609756"
      ]
     },
     "execution_count": 96,
     "metadata": {},
     "output_type": "execute_result"
    }
   ],
   "source": [
    "strength.head().reset_index().rename(columns=lambda x: 'away_' + x)"
   ]
  },
  {
   "cell_type": "code",
   "execution_count": 97,
   "metadata": {
    "collapsed": false
   },
   "outputs": [
    {
     "data": {
      "text/html": [
       "<div>\n",
       "<table border=\"1\" class=\"dataframe\">\n",
       "  <thead>\n",
       "    <tr style=\"text-align: right;\">\n",
       "      <th></th>\n",
       "      <th></th>\n",
       "      <th>away_team</th>\n",
       "      <th>away_points</th>\n",
       "      <th>home_team</th>\n",
       "      <th>home_points</th>\n",
       "      <th>home_win</th>\n",
       "      <th>away_strength</th>\n",
       "      <th>home_strength</th>\n",
       "    </tr>\n",
       "    <tr>\n",
       "      <th>game_id</th>\n",
       "      <th>date</th>\n",
       "      <th></th>\n",
       "      <th></th>\n",
       "      <th></th>\n",
       "      <th></th>\n",
       "      <th></th>\n",
       "      <th></th>\n",
       "      <th></th>\n",
       "    </tr>\n",
       "  </thead>\n",
       "  <tbody>\n",
       "    <tr>\n",
       "      <th>0</th>\n",
       "      <th>2014-10-28</th>\n",
       "      <td>Houston Rockets</td>\n",
       "      <td>108</td>\n",
       "      <td>Los Angeles Lakers</td>\n",
       "      <td>90</td>\n",
       "      <td>False</td>\n",
       "      <td>0.682927</td>\n",
       "      <td>0.256098</td>\n",
       "    </tr>\n",
       "    <tr>\n",
       "      <th>661</th>\n",
       "      <th>2015-01-25</th>\n",
       "      <td>Houston Rockets</td>\n",
       "      <td>99</td>\n",
       "      <td>Los Angeles Lakers</td>\n",
       "      <td>87</td>\n",
       "      <td>False</td>\n",
       "      <td>0.682927</td>\n",
       "      <td>0.256098</td>\n",
       "    </tr>\n",
       "    <tr>\n",
       "      <th>541</th>\n",
       "      <th>2015-01-09</th>\n",
       "      <td>Orlando Magic</td>\n",
       "      <td>84</td>\n",
       "      <td>Los Angeles Lakers</td>\n",
       "      <td>101</td>\n",
       "      <td>True</td>\n",
       "      <td>0.304878</td>\n",
       "      <td>0.256098</td>\n",
       "    </tr>\n",
       "    <tr>\n",
       "      <th>932</th>\n",
       "      <th>2015-03-08</th>\n",
       "      <td>Dallas Mavericks</td>\n",
       "      <td>100</td>\n",
       "      <td>Los Angeles Lakers</td>\n",
       "      <td>93</td>\n",
       "      <td>False</td>\n",
       "      <td>0.609756</td>\n",
       "      <td>0.256098</td>\n",
       "    </tr>\n",
       "    <tr>\n",
       "      <th>1197</th>\n",
       "      <th>2015-04-12</th>\n",
       "      <td>Dallas Mavericks</td>\n",
       "      <td>120</td>\n",
       "      <td>Los Angeles Lakers</td>\n",
       "      <td>106</td>\n",
       "      <td>False</td>\n",
       "      <td>0.609756</td>\n",
       "      <td>0.256098</td>\n",
       "    </tr>\n",
       "    <tr>\n",
       "      <th>...</th>\n",
       "      <th>...</th>\n",
       "      <td>...</td>\n",
       "      <td>...</td>\n",
       "      <td>...</td>\n",
       "      <td>...</td>\n",
       "      <td>...</td>\n",
       "      <td>...</td>\n",
       "      <td>...</td>\n",
       "    </tr>\n",
       "    <tr>\n",
       "      <th>214</th>\n",
       "      <th>2014-11-26</th>\n",
       "      <td>Sacramento Kings</td>\n",
       "      <td>89</td>\n",
       "      <td>Houston Rockets</td>\n",
       "      <td>102</td>\n",
       "      <td>True</td>\n",
       "      <td>0.353659</td>\n",
       "      <td>0.682927</td>\n",
       "    </tr>\n",
       "    <tr>\n",
       "      <th>1112</th>\n",
       "      <th>2015-04-01</th>\n",
       "      <td>Sacramento Kings</td>\n",
       "      <td>111</td>\n",
       "      <td>Houston Rockets</td>\n",
       "      <td>115</td>\n",
       "      <td>True</td>\n",
       "      <td>0.353659</td>\n",
       "      <td>0.682927</td>\n",
       "    </tr>\n",
       "    <tr>\n",
       "      <th>476</th>\n",
       "      <th>2014-12-31</th>\n",
       "      <td>Charlotte Hornets</td>\n",
       "      <td>83</td>\n",
       "      <td>Houston Rockets</td>\n",
       "      <td>102</td>\n",
       "      <td>True</td>\n",
       "      <td>0.402439</td>\n",
       "      <td>0.682927</td>\n",
       "    </tr>\n",
       "    <tr>\n",
       "      <th>380</th>\n",
       "      <th>2014-12-18</th>\n",
       "      <td>New Orleans Pelicans</td>\n",
       "      <td>99</td>\n",
       "      <td>Houston Rockets</td>\n",
       "      <td>90</td>\n",
       "      <td>False</td>\n",
       "      <td>0.548780</td>\n",
       "      <td>0.682927</td>\n",
       "    </tr>\n",
       "    <tr>\n",
       "      <th>1195</th>\n",
       "      <th>2015-04-12</th>\n",
       "      <td>New Orleans Pelicans</td>\n",
       "      <td>114</td>\n",
       "      <td>Houston Rockets</td>\n",
       "      <td>121</td>\n",
       "      <td>True</td>\n",
       "      <td>0.548780</td>\n",
       "      <td>0.682927</td>\n",
       "    </tr>\n",
       "  </tbody>\n",
       "</table>\n",
       "<p>1230 rows × 7 columns</p>\n",
       "</div>"
      ],
      "text/plain": [
       "                               away_team  away_points           home_team  \\\n",
       "game_id date                                                                \n",
       "0       2014-10-28       Houston Rockets          108  Los Angeles Lakers   \n",
       "661     2015-01-25       Houston Rockets           99  Los Angeles Lakers   \n",
       "541     2015-01-09         Orlando Magic           84  Los Angeles Lakers   \n",
       "932     2015-03-08      Dallas Mavericks          100  Los Angeles Lakers   \n",
       "1197    2015-04-12      Dallas Mavericks          120  Los Angeles Lakers   \n",
       "...                                  ...          ...                 ...   \n",
       "214     2014-11-26      Sacramento Kings           89     Houston Rockets   \n",
       "1112    2015-04-01      Sacramento Kings          111     Houston Rockets   \n",
       "476     2014-12-31     Charlotte Hornets           83     Houston Rockets   \n",
       "380     2014-12-18  New Orleans Pelicans           99     Houston Rockets   \n",
       "1195    2015-04-12  New Orleans Pelicans          114     Houston Rockets   \n",
       "\n",
       "                    home_points home_win  away_strength  home_strength  \n",
       "game_id date                                                            \n",
       "0       2014-10-28           90    False       0.682927       0.256098  \n",
       "661     2015-01-25           87    False       0.682927       0.256098  \n",
       "541     2015-01-09          101     True       0.304878       0.256098  \n",
       "932     2015-03-08           93    False       0.609756       0.256098  \n",
       "1197    2015-04-12          106    False       0.609756       0.256098  \n",
       "...                         ...      ...            ...            ...  \n",
       "214     2014-11-26          102     True       0.353659       0.682927  \n",
       "1112    2015-04-01          115     True       0.353659       0.682927  \n",
       "476     2014-12-31          102     True       0.402439       0.682927  \n",
       "380     2014-12-18           90    False       0.548780       0.682927  \n",
       "1195    2015-04-12          121     True       0.548780       0.682927  \n",
       "\n",
       "[1230 rows x 7 columns]"
      ]
     },
     "execution_count": 97,
     "metadata": {},
     "output_type": "execute_result"
    }
   ],
   "source": [
    "(pd.merge(games.reset_index(), strength.reset_index().add_prefix('away_'))\n",
    "   .pipe(pd.merge, strength.reset_index().add_prefix('home_'))\n",
    "   .set_index(['game_id', 'date']))"
   ]
  },
  {
   "cell_type": "markdown",
   "metadata": {},
   "source": [
    "For python people"
   ]
  },
  {
   "cell_type": "code",
   "execution_count": 98,
   "metadata": {
    "collapsed": false
   },
   "outputs": [
    {
     "data": {
      "text/html": [
       "<div>\n",
       "<table border=\"1\" class=\"dataframe\">\n",
       "  <thead>\n",
       "    <tr style=\"text-align: right;\">\n",
       "      <th></th>\n",
       "      <th></th>\n",
       "      <th>away_team</th>\n",
       "      <th>away_points</th>\n",
       "      <th>home_team</th>\n",
       "      <th>home_points</th>\n",
       "      <th>home_win</th>\n",
       "      <th>away_strength</th>\n",
       "      <th>home_strength</th>\n",
       "    </tr>\n",
       "    <tr>\n",
       "      <th>game_id</th>\n",
       "      <th>date</th>\n",
       "      <th></th>\n",
       "      <th></th>\n",
       "      <th></th>\n",
       "      <th></th>\n",
       "      <th></th>\n",
       "      <th></th>\n",
       "      <th></th>\n",
       "    </tr>\n",
       "  </thead>\n",
       "  <tbody>\n",
       "    <tr>\n",
       "      <th>0</th>\n",
       "      <th>2014-10-28</th>\n",
       "      <td>Houston Rockets</td>\n",
       "      <td>108</td>\n",
       "      <td>Los Angeles Lakers</td>\n",
       "      <td>90</td>\n",
       "      <td>False</td>\n",
       "      <td>0.682927</td>\n",
       "      <td>0.256098</td>\n",
       "    </tr>\n",
       "    <tr>\n",
       "      <th>1</th>\n",
       "      <th>2014-10-28</th>\n",
       "      <td>Orlando Magic</td>\n",
       "      <td>84</td>\n",
       "      <td>New Orleans Pelicans</td>\n",
       "      <td>101</td>\n",
       "      <td>True</td>\n",
       "      <td>0.304878</td>\n",
       "      <td>0.548780</td>\n",
       "    </tr>\n",
       "    <tr>\n",
       "      <th>2</th>\n",
       "      <th>2014-10-28</th>\n",
       "      <td>Dallas Mavericks</td>\n",
       "      <td>100</td>\n",
       "      <td>San Antonio Spurs</td>\n",
       "      <td>101</td>\n",
       "      <td>True</td>\n",
       "      <td>0.609756</td>\n",
       "      <td>0.670732</td>\n",
       "    </tr>\n",
       "    <tr>\n",
       "      <th>3</th>\n",
       "      <th>2014-10-29</th>\n",
       "      <td>Brooklyn Nets</td>\n",
       "      <td>105</td>\n",
       "      <td>Boston Celtics</td>\n",
       "      <td>121</td>\n",
       "      <td>True</td>\n",
       "      <td>0.463415</td>\n",
       "      <td>0.487805</td>\n",
       "    </tr>\n",
       "    <tr>\n",
       "      <th>4</th>\n",
       "      <th>2014-10-29</th>\n",
       "      <td>Milwaukee Bucks</td>\n",
       "      <td>106</td>\n",
       "      <td>Charlotte Hornets</td>\n",
       "      <td>108</td>\n",
       "      <td>True</td>\n",
       "      <td>0.500000</td>\n",
       "      <td>0.402439</td>\n",
       "    </tr>\n",
       "  </tbody>\n",
       "</table>\n",
       "</div>"
      ],
      "text/plain": [
       "                           away_team  away_points             home_team  \\\n",
       "game_id date                                                              \n",
       "0       2014-10-28   Houston Rockets          108    Los Angeles Lakers   \n",
       "1       2014-10-28     Orlando Magic           84  New Orleans Pelicans   \n",
       "2       2014-10-28  Dallas Mavericks          100     San Antonio Spurs   \n",
       "3       2014-10-29     Brooklyn Nets          105        Boston Celtics   \n",
       "4       2014-10-29   Milwaukee Bucks          106     Charlotte Hornets   \n",
       "\n",
       "                    home_points home_win  away_strength  home_strength  \n",
       "game_id date                                                            \n",
       "0       2014-10-28           90    False       0.682927       0.256098  \n",
       "1       2014-10-28          101     True       0.304878       0.548780  \n",
       "2       2014-10-28          101     True       0.609756       0.670732  \n",
       "3       2014-10-29          121     True       0.463415       0.487805  \n",
       "4       2014-10-29          108     True       0.500000       0.402439  "
      ]
     },
     "execution_count": 98,
     "metadata": {},
     "output_type": "execute_result"
    }
   ],
   "source": [
    "games = games.assign(away_strength=games.away_team.map(strength),\n",
    "                     home_strength=games.home_team.map(strength))\n",
    "games.head()"
   ]
  },
  {
   "cell_type": "code",
   "execution_count": 99,
   "metadata": {
    "collapsed": false
   },
   "outputs": [],
   "source": [
    "X = pd.concat([games, un], axis=1).set_index(['away_team', 'home_team'], append=True).dropna()"
   ]
  },
  {
   "cell_type": "code",
   "execution_count": 100,
   "metadata": {
    "collapsed": false
   },
   "outputs": [
    {
     "data": {
      "text/html": [
       "<div>\n",
       "<table border=\"1\" class=\"dataframe\">\n",
       "  <thead>\n",
       "    <tr style=\"text-align: right;\">\n",
       "      <th></th>\n",
       "      <th></th>\n",
       "      <th></th>\n",
       "      <th></th>\n",
       "      <th>away_points</th>\n",
       "      <th>home_points</th>\n",
       "      <th>home_win</th>\n",
       "      <th>away_strength</th>\n",
       "      <th>home_strength</th>\n",
       "      <th>away_rest</th>\n",
       "      <th>home_rest</th>\n",
       "    </tr>\n",
       "    <tr>\n",
       "      <th>game_id</th>\n",
       "      <th>date</th>\n",
       "      <th>away_team</th>\n",
       "      <th>home_team</th>\n",
       "      <th></th>\n",
       "      <th></th>\n",
       "      <th></th>\n",
       "      <th></th>\n",
       "      <th></th>\n",
       "      <th></th>\n",
       "      <th></th>\n",
       "    </tr>\n",
       "  </thead>\n",
       "  <tbody>\n",
       "    <tr>\n",
       "      <th>16</th>\n",
       "      <th>2014-10-30</th>\n",
       "      <th>Utah Jazz</th>\n",
       "      <th>Dallas Mavericks</th>\n",
       "      <td>102</td>\n",
       "      <td>120</td>\n",
       "      <td>True</td>\n",
       "      <td>0.463415</td>\n",
       "      <td>0.609756</td>\n",
       "      <td>0</td>\n",
       "      <td>1</td>\n",
       "    </tr>\n",
       "    <tr>\n",
       "      <th>18</th>\n",
       "      <th>2014-10-30</th>\n",
       "      <th>Detroit Pistons</th>\n",
       "      <th>Minnesota Timberwolves</th>\n",
       "      <td>91</td>\n",
       "      <td>97</td>\n",
       "      <td>True</td>\n",
       "      <td>0.390244</td>\n",
       "      <td>0.195122</td>\n",
       "      <td>0</td>\n",
       "      <td>0</td>\n",
       "    </tr>\n",
       "    <tr>\n",
       "      <th>19</th>\n",
       "      <th>2014-10-30</th>\n",
       "      <th>Washington Wizards</th>\n",
       "      <th>Orlando Magic</th>\n",
       "      <td>105</td>\n",
       "      <td>98</td>\n",
       "      <td>False</td>\n",
       "      <td>0.560976</td>\n",
       "      <td>0.304878</td>\n",
       "      <td>0</td>\n",
       "      <td>1</td>\n",
       "    </tr>\n",
       "    <tr>\n",
       "      <th>20</th>\n",
       "      <th>2014-10-31</th>\n",
       "      <th>Cleveland Cavaliers</th>\n",
       "      <th>Chicago Bulls</th>\n",
       "      <td>114</td>\n",
       "      <td>108</td>\n",
       "      <td>False</td>\n",
       "      <td>0.646341</td>\n",
       "      <td>0.609756</td>\n",
       "      <td>0</td>\n",
       "      <td>1</td>\n",
       "    </tr>\n",
       "    <tr>\n",
       "      <th>21</th>\n",
       "      <th>2014-10-31</th>\n",
       "      <th>Memphis Grizzlies</th>\n",
       "      <th>Indiana Pacers</th>\n",
       "      <td>97</td>\n",
       "      <td>89</td>\n",
       "      <td>False</td>\n",
       "      <td>0.670732</td>\n",
       "      <td>0.463415</td>\n",
       "      <td>1</td>\n",
       "      <td>1</td>\n",
       "    </tr>\n",
       "  </tbody>\n",
       "</table>\n",
       "</div>"
      ],
      "text/plain": [
       "                                                               away_points  \\\n",
       "game_id date       away_team           home_team                             \n",
       "16      2014-10-30 Utah Jazz           Dallas Mavericks                102   \n",
       "18      2014-10-30 Detroit Pistons     Minnesota Timberwolves           91   \n",
       "19      2014-10-30 Washington Wizards  Orlando Magic                   105   \n",
       "20      2014-10-31 Cleveland Cavaliers Chicago Bulls                   114   \n",
       "21      2014-10-31 Memphis Grizzlies   Indiana Pacers                   97   \n",
       "\n",
       "                                                               home_points  \\\n",
       "game_id date       away_team           home_team                             \n",
       "16      2014-10-30 Utah Jazz           Dallas Mavericks                120   \n",
       "18      2014-10-30 Detroit Pistons     Minnesota Timberwolves           97   \n",
       "19      2014-10-30 Washington Wizards  Orlando Magic                    98   \n",
       "20      2014-10-31 Cleveland Cavaliers Chicago Bulls                   108   \n",
       "21      2014-10-31 Memphis Grizzlies   Indiana Pacers                   89   \n",
       "\n",
       "                                                              home_win  \\\n",
       "game_id date       away_team           home_team                         \n",
       "16      2014-10-30 Utah Jazz           Dallas Mavericks           True   \n",
       "18      2014-10-30 Detroit Pistons     Minnesota Timberwolves     True   \n",
       "19      2014-10-30 Washington Wizards  Orlando Magic             False   \n",
       "20      2014-10-31 Cleveland Cavaliers Chicago Bulls             False   \n",
       "21      2014-10-31 Memphis Grizzlies   Indiana Pacers            False   \n",
       "\n",
       "                                                               away_strength  \\\n",
       "game_id date       away_team           home_team                               \n",
       "16      2014-10-30 Utah Jazz           Dallas Mavericks             0.463415   \n",
       "18      2014-10-30 Detroit Pistons     Minnesota Timberwolves       0.390244   \n",
       "19      2014-10-30 Washington Wizards  Orlando Magic                0.560976   \n",
       "20      2014-10-31 Cleveland Cavaliers Chicago Bulls                0.646341   \n",
       "21      2014-10-31 Memphis Grizzlies   Indiana Pacers               0.670732   \n",
       "\n",
       "                                                               home_strength  \\\n",
       "game_id date       away_team           home_team                               \n",
       "16      2014-10-30 Utah Jazz           Dallas Mavericks             0.609756   \n",
       "18      2014-10-30 Detroit Pistons     Minnesota Timberwolves       0.195122   \n",
       "19      2014-10-30 Washington Wizards  Orlando Magic                0.304878   \n",
       "20      2014-10-31 Cleveland Cavaliers Chicago Bulls                0.609756   \n",
       "21      2014-10-31 Memphis Grizzlies   Indiana Pacers               0.463415   \n",
       "\n",
       "                                                               away_rest  \\\n",
       "game_id date       away_team           home_team                           \n",
       "16      2014-10-30 Utah Jazz           Dallas Mavericks                0   \n",
       "18      2014-10-30 Detroit Pistons     Minnesota Timberwolves          0   \n",
       "19      2014-10-30 Washington Wizards  Orlando Magic                   0   \n",
       "20      2014-10-31 Cleveland Cavaliers Chicago Bulls                   0   \n",
       "21      2014-10-31 Memphis Grizzlies   Indiana Pacers                  1   \n",
       "\n",
       "                                                               home_rest  \n",
       "game_id date       away_team           home_team                          \n",
       "16      2014-10-30 Utah Jazz           Dallas Mavericks                1  \n",
       "18      2014-10-30 Detroit Pistons     Minnesota Timberwolves          0  \n",
       "19      2014-10-30 Washington Wizards  Orlando Magic                   1  \n",
       "20      2014-10-31 Cleveland Cavaliers Chicago Bulls                   1  \n",
       "21      2014-10-31 Memphis Grizzlies   Indiana Pacers                  1  "
      ]
     },
     "execution_count": 100,
     "metadata": {},
     "output_type": "execute_result"
    }
   ],
   "source": [
    "X.head()"
   ]
  },
  {
   "cell_type": "code",
   "execution_count": 101,
   "metadata": {
    "collapsed": false
   },
   "outputs": [],
   "source": [
    "X['home_win'] = X.home_win.astype(int)"
   ]
  },
  {
   "cell_type": "code",
   "execution_count": 102,
   "metadata": {
    "collapsed": true
   },
   "outputs": [],
   "source": [
    "import statsmodels.api as sm"
   ]
  },
  {
   "cell_type": "code",
   "execution_count": 103,
   "metadata": {
    "collapsed": false
   },
   "outputs": [
    {
     "name": "stdout",
     "output_type": "stream",
     "text": [
      "Optimization terminated successfully.\n",
      "         Current function value: 0.564564\n",
      "         Iterations 6\n"
     ]
    },
    {
     "data": {
      "text/html": [
       "<table class=\"simpletable\">\n",
       "<caption>Logit Regression Results</caption>\n",
       "<tr>\n",
       "  <th>Dep. Variable:</th>     <td>home_win</td>     <th>  No. Observations:  </th>  <td>  1213</td>  \n",
       "</tr>\n",
       "<tr>\n",
       "  <th>Model:</th>               <td>Logit</td>      <th>  Df Residuals:      </th>  <td>  1208</td>  \n",
       "</tr>\n",
       "<tr>\n",
       "  <th>Method:</th>               <td>MLE</td>       <th>  Df Model:          </th>  <td>     4</td>  \n",
       "</tr>\n",
       "<tr>\n",
       "  <th>Date:</th>          <td>Thu, 23 Jul 2015</td> <th>  Pseudo R-squ.:     </th>  <td>0.1728</td>  \n",
       "</tr>\n",
       "<tr>\n",
       "  <th>Time:</th>              <td>11:59:00</td>     <th>  Log-Likelihood:    </th> <td> -684.82</td> \n",
       "</tr>\n",
       "<tr>\n",
       "  <th>converged:</th>           <td>True</td>       <th>  LL-Null:           </th> <td> -827.83</td> \n",
       "</tr>\n",
       "<tr>\n",
       "  <th> </th>                      <td> </td>        <th>  LLR p-value:       </th> <td>1.120e-60</td>\n",
       "</tr>\n",
       "</table>\n",
       "<table class=\"simpletable\">\n",
       "<tr>\n",
       "        <td></td>           <th>coef</th>     <th>std err</th>      <th>z</th>      <th>P>|z|</th> <th>[95.0% Conf. Int.]</th> \n",
       "</tr>\n",
       "<tr>\n",
       "  <th>Intercept</th>     <td>   -0.3637</td> <td>    0.302</td> <td>   -1.205</td> <td> 0.228</td> <td>   -0.956     0.228</td>\n",
       "</tr>\n",
       "<tr>\n",
       "  <th>home_strength</th> <td>    5.5604</td> <td>    0.449</td> <td>   12.389</td> <td> 0.000</td> <td>    4.681     6.440</td>\n",
       "</tr>\n",
       "<tr>\n",
       "  <th>away_strength</th> <td>   -4.3474</td> <td>    0.442</td> <td>   -9.835</td> <td> 0.000</td> <td>   -5.214    -3.481</td>\n",
       "</tr>\n",
       "<tr>\n",
       "  <th>home_rest</th>     <td>    0.1327</td> <td>    0.069</td> <td>    1.913</td> <td> 0.056</td> <td>   -0.003     0.269</td>\n",
       "</tr>\n",
       "<tr>\n",
       "  <th>away_rest</th>     <td>   -0.0345</td> <td>    0.066</td> <td>   -0.526</td> <td> 0.599</td> <td>   -0.163     0.094</td>\n",
       "</tr>\n",
       "</table>"
      ],
      "text/plain": [
       "<class 'statsmodels.iolib.summary.Summary'>\n",
       "\"\"\"\n",
       "                           Logit Regression Results                           \n",
       "==============================================================================\n",
       "Dep. Variable:               home_win   No. Observations:                 1213\n",
       "Model:                          Logit   Df Residuals:                     1208\n",
       "Method:                           MLE   Df Model:                            4\n",
       "Date:                Thu, 23 Jul 2015   Pseudo R-squ.:                  0.1728\n",
       "Time:                        11:59:00   Log-Likelihood:                -684.82\n",
       "converged:                       True   LL-Null:                       -827.83\n",
       "                                        LLR p-value:                 1.120e-60\n",
       "=================================================================================\n",
       "                    coef    std err          z      P>|z|      [95.0% Conf. Int.]\n",
       "---------------------------------------------------------------------------------\n",
       "Intercept        -0.3637      0.302     -1.205      0.228        -0.956     0.228\n",
       "home_strength     5.5604      0.449     12.389      0.000         4.681     6.440\n",
       "away_strength    -4.3474      0.442     -9.835      0.000        -5.214    -3.481\n",
       "home_rest         0.1327      0.069      1.913      0.056        -0.003     0.269\n",
       "away_rest        -0.0345      0.066     -0.526      0.599        -0.163     0.094\n",
       "=================================================================================\n",
       "\"\"\""
      ]
     },
     "execution_count": 103,
     "metadata": {},
     "output_type": "execute_result"
    }
   ],
   "source": [
    "mod = sm.Logit.from_formula('home_win ~ home_strength + away_strength + home_rest + away_rest', X)\n",
    "res = mod.fit()\n",
    "res.summary()"
   ]
  },
  {
   "cell_type": "code",
   "execution_count": 104,
   "metadata": {
    "collapsed": false
   },
   "outputs": [
    {
     "name": "stdout",
     "output_type": "stream",
     "text": [
      "Optimization terminated successfully.\n",
      "         Current function value: 0.682125\n",
      "         Iterations 4\n"
     ]
    },
    {
     "data": {
      "text/html": [
       "<table class=\"simpletable\">\n",
       "<caption>Logit Regression Results</caption>\n",
       "<tr>\n",
       "  <th>Dep. Variable:</th>     <td>home_win</td>     <th>  No. Observations:  </th>  <td>  1213</td>  \n",
       "</tr>\n",
       "<tr>\n",
       "  <th>Model:</th>               <td>Logit</td>      <th>  Df Residuals:      </th>  <td>  1211</td>  \n",
       "</tr>\n",
       "<tr>\n",
       "  <th>Method:</th>               <td>MLE</td>       <th>  Df Model:          </th>  <td>     1</td>  \n",
       "</tr>\n",
       "<tr>\n",
       "  <th>Date:</th>          <td>Thu, 23 Jul 2015</td> <th>  Pseudo R-squ.:     </th> <td>0.0004950</td>\n",
       "</tr>\n",
       "<tr>\n",
       "  <th>Time:</th>              <td>11:59:15</td>     <th>  Log-Likelihood:    </th> <td> -827.42</td> \n",
       "</tr>\n",
       "<tr>\n",
       "  <th>converged:</th>           <td>True</td>       <th>  LL-Null:           </th> <td> -827.83</td> \n",
       "</tr>\n",
       "<tr>\n",
       "  <th> </th>                      <td> </td>        <th>  LLR p-value:       </th>  <td>0.3653</td>  \n",
       "</tr>\n",
       "</table>\n",
       "<table class=\"simpletable\">\n",
       "<tr>\n",
       "         <td></td>            <th>coef</th>     <th>std err</th>      <th>z</th>      <th>P>|z|</th> <th>[95.0% Conf. Int.]</th> \n",
       "</tr>\n",
       "<tr>\n",
       "  <th>Intercept</th>       <td>    0.2815</td> <td>    0.060</td> <td>    4.721</td> <td> 0.000</td> <td>    0.165     0.398</td>\n",
       "</tr>\n",
       "<tr>\n",
       "  <th>rest_difference</th> <td>    0.0473</td> <td>    0.052</td> <td>    0.903</td> <td> 0.366</td> <td>   -0.055     0.150</td>\n",
       "</tr>\n",
       "</table>"
      ],
      "text/plain": [
       "<class 'statsmodels.iolib.summary.Summary'>\n",
       "\"\"\"\n",
       "                           Logit Regression Results                           \n",
       "==============================================================================\n",
       "Dep. Variable:               home_win   No. Observations:                 1213\n",
       "Model:                          Logit   Df Residuals:                     1211\n",
       "Method:                           MLE   Df Model:                            1\n",
       "Date:                Thu, 23 Jul 2015   Pseudo R-squ.:               0.0004950\n",
       "Time:                        11:59:15   Log-Likelihood:                -827.42\n",
       "converged:                       True   LL-Null:                       -827.83\n",
       "                                        LLR p-value:                    0.3653\n",
       "===================================================================================\n",
       "                      coef    std err          z      P>|z|      [95.0% Conf. Int.]\n",
       "-----------------------------------------------------------------------------------\n",
       "Intercept           0.2815      0.060      4.721      0.000         0.165     0.398\n",
       "rest_difference     0.0473      0.052      0.903      0.366        -0.055     0.150\n",
       "===================================================================================\n",
       "\"\"\""
      ]
     },
     "execution_count": 104,
     "metadata": {},
     "output_type": "execute_result"
    }
   ],
   "source": [
    "mod = sm.Logit.from_formula('home_win ~ rest_difference',\n",
    "                            X.assign(rest_difference=lambda df: df.home_rest - df.away_rest))\n",
    "res = mod.fit()\n",
    "res.summary()"
   ]
  },
  {
   "cell_type": "code",
   "execution_count": 136,
   "metadata": {
    "collapsed": false
   },
   "outputs": [
    {
     "data": {
      "text/html": [
       "<table class=\"simpletable\">\n",
       "<caption>OLS Regression Results</caption>\n",
       "<tr>\n",
       "  <th>Dep. Variable:</th>         <td>spread</td>      <th>  R-squared:         </th> <td>   0.238</td>\n",
       "</tr>\n",
       "<tr>\n",
       "  <th>Model:</th>                   <td>OLS</td>       <th>  Adj. R-squared:    </th> <td>   0.236</td>\n",
       "</tr>\n",
       "<tr>\n",
       "  <th>Method:</th>             <td>Least Squares</td>  <th>  F-statistic:       </th> <td>   127.7</td>\n",
       "</tr>\n",
       "<tr>\n",
       "  <th>Date:</th>             <td>Sat, 18 Jul 2015</td> <th>  Prob (F-statistic):</th> <td>5.56e-72</td>\n",
       "</tr>\n",
       "<tr>\n",
       "  <th>Time:</th>                 <td>09:04:26</td>     <th>  Log-Likelihood:    </th> <td> -4776.2</td>\n",
       "</tr>\n",
       "<tr>\n",
       "  <th>No. Observations:</th>      <td>  1230</td>      <th>  AIC:               </th> <td>   9560.</td>\n",
       "</tr>\n",
       "<tr>\n",
       "  <th>Df Residuals:</th>          <td>  1226</td>      <th>  BIC:               </th> <td>   9581.</td>\n",
       "</tr>\n",
       "<tr>\n",
       "  <th>Df Model:</th>              <td>     3</td>      <th>                     </th>     <td> </td>   \n",
       "</tr>\n",
       "<tr>\n",
       "  <th>Covariance Type:</th>      <td>nonrobust</td>    <th>                     </th>     <td> </td>   \n",
       "</tr>\n",
       "</table>\n",
       "<table class=\"simpletable\">\n",
       "<tr>\n",
       "         <td></td>            <th>coef</th>     <th>std err</th>      <th>t</th>      <th>P>|t|</th> <th>[95.0% Conf. Int.]</th> \n",
       "</tr>\n",
       "<tr>\n",
       "  <th>Intercept</th>       <td>   -0.2877</td> <td>    1.532</td> <td>   -0.188</td> <td> 0.851</td> <td>   -3.293     2.718</td>\n",
       "</tr>\n",
       "<tr>\n",
       "  <th>home_strength</th>   <td>   30.7402</td> <td>    2.082</td> <td>   14.766</td> <td> 0.000</td> <td>   26.656    34.825</td>\n",
       "</tr>\n",
       "<tr>\n",
       "  <th>away_strength</th>   <td>  -25.6633</td> <td>    2.082</td> <td>  -12.328</td> <td> 0.000</td> <td>  -29.747   -21.579</td>\n",
       "</tr>\n",
       "<tr>\n",
       "  <th>rest_difference</th> <td>    0.6016</td> <td>    0.303</td> <td>    1.987</td> <td> 0.047</td> <td>    0.008     1.196</td>\n",
       "</tr>\n",
       "</table>\n",
       "<table class=\"simpletable\">\n",
       "<tr>\n",
       "  <th>Omnibus:</th>       <td> 9.454</td> <th>  Durbin-Watson:     </th> <td>   2.004</td>\n",
       "</tr>\n",
       "<tr>\n",
       "  <th>Prob(Omnibus):</th> <td> 0.009</td> <th>  Jarque-Bera (JB):  </th> <td>  11.813</td>\n",
       "</tr>\n",
       "<tr>\n",
       "  <th>Skew:</th>          <td> 0.102</td> <th>  Prob(JB):          </th> <td> 0.00272</td>\n",
       "</tr>\n",
       "<tr>\n",
       "  <th>Kurtosis:</th>      <td> 3.435</td> <th>  Cond. No.          </th> <td>    10.2</td>\n",
       "</tr>\n",
       "</table>"
      ],
      "text/plain": [
       "<class 'statsmodels.iolib.summary.Summary'>\n",
       "\"\"\"\n",
       "                            OLS Regression Results                            \n",
       "==============================================================================\n",
       "Dep. Variable:                 spread   R-squared:                       0.238\n",
       "Model:                            OLS   Adj. R-squared:                  0.236\n",
       "Method:                 Least Squares   F-statistic:                     127.7\n",
       "Date:                Sat, 18 Jul 2015   Prob (F-statistic):           5.56e-72\n",
       "Time:                        09:04:26   Log-Likelihood:                -4776.2\n",
       "No. Observations:                1230   AIC:                             9560.\n",
       "Df Residuals:                    1226   BIC:                             9581.\n",
       "Df Model:                           3                                         \n",
       "Covariance Type:            nonrobust                                         \n",
       "===================================================================================\n",
       "                      coef    std err          t      P>|t|      [95.0% Conf. Int.]\n",
       "-----------------------------------------------------------------------------------\n",
       "Intercept          -0.2877      1.532     -0.188      0.851        -3.293     2.718\n",
       "home_strength      30.7402      2.082     14.766      0.000        26.656    34.825\n",
       "away_strength     -25.6633      2.082    -12.328      0.000       -29.747   -21.579\n",
       "rest_difference     0.6016      0.303      1.987      0.047         0.008     1.196\n",
       "==============================================================================\n",
       "Omnibus:                        9.454   Durbin-Watson:                   2.004\n",
       "Prob(Omnibus):                  0.009   Jarque-Bera (JB):               11.813\n",
       "Skew:                           0.102   Prob(JB):                      0.00272\n",
       "Kurtosis:                       3.435   Cond. No.                         10.2\n",
       "==============================================================================\n",
       "\n",
       "Warnings:\n",
       "[1] Standard Errors assume that the covariance matrix of the errors is correctly specified.\n",
       "\"\"\""
      ]
     },
     "execution_count": 136,
     "metadata": {},
     "output_type": "execute_result"
    }
   ],
   "source": [
    "mod = sm.OLS.from_formula('spread ~ home_strength + away_strength + rest_difference',\n",
    "                            X.assign(rest_difference=lambda df: df.home_rest - df.away_rest,\n",
    "                                     spread=lambda df: df.home_points - df.away_points))\n",
    "res = mod.fit()\n",
    "res.summary()"
   ]
  },
  {
   "cell_type": "markdown",
   "metadata": {
    "collapsed": true
   },
   "source": [
    "# Recap\n",
    "\n",
    "- Tidy data: one row per observation\n",
    "    - melt / stack: wide to long\n",
    "    - pivot_table / unstack: long to wide"
   ]
  },
  {
   "cell_type": "code",
   "execution_count": null,
   "metadata": {
    "collapsed": true
   },
   "outputs": [],
   "source": []
  }
 ],
 "metadata": {
  "kernelspec": {
   "display_name": "Python 3",
   "language": "python",
   "name": "python3"
  },
  "language_info": {
   "codemirror_mode": {
    "name": "ipython",
    "version": 3
   },
   "file_extension": ".py",
   "mimetype": "text/x-python",
   "name": "python",
   "nbconvert_exporter": "python",
   "pygments_lexer": "ipython3",
   "version": "3.4.3"
  }
 },
 "nbformat": 4,
 "nbformat_minor": 0
}
