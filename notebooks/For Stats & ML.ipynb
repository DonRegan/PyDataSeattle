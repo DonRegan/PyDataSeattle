{
 "cells": [
  {
   "cell_type": "markdown",
   "metadata": {},
   "source": [
    "# Statistics and Machine Learning\n",
    "\n",
    "Some operations are specific to stats people\n",
    "\n",
    "- `get_dummies`\n",
    "- `from_dummies` ([someday](https://github.com/pydata/pandas/issues/8745)?)\n",
    "- `factorize`\n",
    "- `sample`\n",
    "- ...\n",
    "\n",
    "Note: not talking about your `mean`s and `std`s here."
   ]
  },
  {
   "cell_type": "markdown",
   "metadata": {},
   "source": [
    "It's quite common to have categorical data (in the statistical sense), which must be transformed before putting them into an algorithm. There are a couple ways to handle this.\n",
    "\n",
    "### Factorization\n",
    "\n",
    "This basically creates a mapping between the categories and integers. This sometimes makes sense if you're representing soemthing like responses to a survey where the responses are `bad`, `neutral` and `good`."
   ]
  },
  {
   "cell_type": "code",
   "execution_count": 213,
   "metadata": {
    "collapsed": false
   },
   "outputs": [
    {
     "data": {
      "text/plain": [
       "0        good\n",
       "1        good\n",
       "2     neutral\n",
       "3        good\n",
       "4        good\n",
       "       ...   \n",
       "35        bad\n",
       "36       good\n",
       "37        bad\n",
       "38        bad\n",
       "39        bad\n",
       "dtype: category\n",
       "Categories (3, object): [bad, neutral, good]"
      ]
     },
     "execution_count": 213,
     "metadata": {},
     "output_type": "execute_result"
    }
   ],
   "source": [
    "s = pd.Series(pd.Categorical(np.random.choice(['bad', 'neutral', 'good'], size=40),\n",
    "                             categories=['bad', 'neutral', 'good'], ordered=True))\n",
    "s"
   ]
  },
  {
   "cell_type": "code",
   "execution_count": 215,
   "metadata": {
    "collapsed": false
   },
   "outputs": [
    {
     "data": {
      "text/plain": [
       "0     2\n",
       "1     2\n",
       "2     1\n",
       "3     2\n",
       "4     2\n",
       "     ..\n",
       "35    0\n",
       "36    2\n",
       "37    0\n",
       "38    0\n",
       "39    0\n",
       "dtype: int8"
      ]
     },
     "execution_count": 215,
     "metadata": {},
     "output_type": "execute_result"
    }
   ],
   "source": [
    "s.cat.codes"
   ]
  },
  {
   "cell_type": "markdown",
   "metadata": {},
   "source": [
    "This can potentially be misleading. If you feed it into something like OLS it implies that the \"distance\" between `bad` and `neutral` is the same as between `neutral` and `good`."
   ]
  },
  {
   "cell_type": "code",
   "execution_count": 216,
   "metadata": {
    "collapsed": true
   },
   "outputs": [],
   "source": [
    "from sklearn import datasets"
   ]
  },
  {
   "cell_type": "code",
   "execution_count": 234,
   "metadata": {
    "collapsed": false
   },
   "outputs": [
    {
     "data": {
      "text/plain": [
       "['sepal length (cm)',\n",
       " 'sepal width (cm)',\n",
       " 'petal length (cm)',\n",
       " 'petal width (cm)']"
      ]
     },
     "execution_count": 234,
     "metadata": {},
     "output_type": "execute_result"
    }
   ],
   "source": [
    "iris['feature_names']"
   ]
  },
  {
   "cell_type": "code",
   "execution_count": 237,
   "metadata": {
    "collapsed": false
   },
   "outputs": [],
   "source": [
    "iris = datasets.load_iris()\n",
    "\n",
    "X = iris['data']\n",
    "y = iris['target']\n",
    "feature_names = iris['feature_names']\n",
    "target_names = iris['target_names']\n"
   ]
  },
  {
   "cell_type": "code",
   "execution_count": 240,
   "metadata": {
    "collapsed": false
   },
   "outputs": [
    {
     "data": {
      "text/html": [
       "<div>\n",
       "<table border=\"1\" class=\"dataframe\">\n",
       "  <thead>\n",
       "    <tr style=\"text-align: right;\">\n",
       "      <th></th>\n",
       "      <th>sepal length (cm)</th>\n",
       "      <th>sepal width (cm)</th>\n",
       "      <th>petal length (cm)</th>\n",
       "      <th>petal width (cm)</th>\n",
       "    </tr>\n",
       "  </thead>\n",
       "  <tbody>\n",
       "    <tr>\n",
       "      <th>0</th>\n",
       "      <td>5.1</td>\n",
       "      <td>3.5</td>\n",
       "      <td>1.4</td>\n",
       "      <td>0.2</td>\n",
       "    </tr>\n",
       "    <tr>\n",
       "      <th>1</th>\n",
       "      <td>4.9</td>\n",
       "      <td>3.0</td>\n",
       "      <td>1.4</td>\n",
       "      <td>0.2</td>\n",
       "    </tr>\n",
       "    <tr>\n",
       "      <th>2</th>\n",
       "      <td>4.7</td>\n",
       "      <td>3.2</td>\n",
       "      <td>1.3</td>\n",
       "      <td>0.2</td>\n",
       "    </tr>\n",
       "    <tr>\n",
       "      <th>3</th>\n",
       "      <td>4.6</td>\n",
       "      <td>3.1</td>\n",
       "      <td>1.5</td>\n",
       "      <td>0.2</td>\n",
       "    </tr>\n",
       "    <tr>\n",
       "      <th>4</th>\n",
       "      <td>5.0</td>\n",
       "      <td>3.6</td>\n",
       "      <td>1.4</td>\n",
       "      <td>0.2</td>\n",
       "    </tr>\n",
       "    <tr>\n",
       "      <th>...</th>\n",
       "      <td>...</td>\n",
       "      <td>...</td>\n",
       "      <td>...</td>\n",
       "      <td>...</td>\n",
       "    </tr>\n",
       "    <tr>\n",
       "      <th>145</th>\n",
       "      <td>6.7</td>\n",
       "      <td>3.0</td>\n",
       "      <td>5.2</td>\n",
       "      <td>2.3</td>\n",
       "    </tr>\n",
       "    <tr>\n",
       "      <th>146</th>\n",
       "      <td>6.3</td>\n",
       "      <td>2.5</td>\n",
       "      <td>5.0</td>\n",
       "      <td>1.9</td>\n",
       "    </tr>\n",
       "    <tr>\n",
       "      <th>147</th>\n",
       "      <td>6.5</td>\n",
       "      <td>3.0</td>\n",
       "      <td>5.2</td>\n",
       "      <td>2.0</td>\n",
       "    </tr>\n",
       "    <tr>\n",
       "      <th>148</th>\n",
       "      <td>6.2</td>\n",
       "      <td>3.4</td>\n",
       "      <td>5.4</td>\n",
       "      <td>2.3</td>\n",
       "    </tr>\n",
       "    <tr>\n",
       "      <th>149</th>\n",
       "      <td>5.9</td>\n",
       "      <td>3.0</td>\n",
       "      <td>5.1</td>\n",
       "      <td>1.8</td>\n",
       "    </tr>\n",
       "  </tbody>\n",
       "</table>\n",
       "<p>150 rows × 4 columns</p>\n",
       "</div>"
      ],
      "text/plain": [
       "     sepal length (cm)  sepal width (cm)  petal length (cm)  petal width (cm)\n",
       "0                  5.1               3.5                1.4               0.2\n",
       "1                  4.9               3.0                1.4               0.2\n",
       "2                  4.7               3.2                1.3               0.2\n",
       "3                  4.6               3.1                1.5               0.2\n",
       "4                  5.0               3.6                1.4               0.2\n",
       "..                 ...               ...                ...               ...\n",
       "145                6.7               3.0                5.2               2.3\n",
       "146                6.3               2.5                5.0               1.9\n",
       "147                6.5               3.0                5.2               2.0\n",
       "148                6.2               3.4                5.4               2.3\n",
       "149                5.9               3.0                5.1               1.8\n",
       "\n",
       "[150 rows x 4 columns]"
      ]
     },
     "execution_count": 240,
     "metadata": {},
     "output_type": "execute_result"
    }
   ],
   "source": [
    "pd.DataFrame(X, columns=feature_namesdd)"
   ]
  },
  {
   "cell_type": "code",
   "execution_count": 171,
   "metadata": {
    "collapsed": true
   },
   "outputs": [],
   "source": [
    "import statsmodels.api as sm"
   ]
  },
  {
   "cell_type": "code",
   "execution_count": null,
   "metadata": {
    "collapsed": true
   },
   "outputs": [],
   "source": []
  },
  {
   "cell_type": "code",
   "execution_count": null,
   "metadata": {
    "collapsed": true
   },
   "outputs": [],
   "source": []
  },
  {
   "cell_type": "code",
   "execution_count": null,
   "metadata": {
    "collapsed": true
   },
   "outputs": [],
   "source": []
  },
  {
   "cell_type": "markdown",
   "metadata": {},
   "source": [
    "# Integration with other libraries\n",
    "\n",
    "The two foundational libraries for stats in python are statsmodels and scikit-learn.\n",
    "Everyone speaks *lingua franca* of NumPy arrays, but there is some integration at the higher level of DataFrames."
   ]
  },
  {
   "cell_type": "markdown",
   "metadata": {},
   "source": [
    "# Statsmodels"
   ]
  },
  {
   "cell_type": "markdown",
   "metadata": {},
   "source": [
    "Brief primer: you give a **estimator** (OLS, WLS, GLM) a **formula** and **dataset**. You then fit that model. The integration with pandas here is fantastic."
   ]
  },
  {
   "cell_type": "markdown",
   "metadata": {},
   "source": [
    "http://nbviewer.ipython.org/urls/umich.box.com/shared/static/zyl08wsmxwoh6ts70v4o.ipynb?\n"
   ]
  },
  {
   "cell_type": "code",
   "execution_count": 125,
   "metadata": {
    "collapsed": true
   },
   "outputs": [],
   "source": [
    "import statsmodels.api as sm\n",
    "%matplotlib inline\n",
    "pd.options.display.max_rows = 10"
   ]
  },
  {
   "cell_type": "markdown",
   "metadata": {},
   "source": [
    "We've got some longintudinal data (repeated measures of the same individual on children with HIV. There are two treatment arms, and each child receives an anti-retroviral theropy or are  in the control. Here's the data:"
   ]
  },
  {
   "cell_type": "code",
   "execution_count": 138,
   "metadata": {
    "collapsed": false
   },
   "outputs": [
    {
     "data": {
      "text/html": [
       "<div>\n",
       "<table border=\"1\" class=\"dataframe\">\n",
       "  <thead>\n",
       "    <tr style=\"text-align: right;\">\n",
       "      <th></th>\n",
       "      <th></th>\n",
       "      <th>VDATE</th>\n",
       "      <th>CD4PCT</th>\n",
       "      <th>arv</th>\n",
       "      <th>visage</th>\n",
       "      <th>treatmnt</th>\n",
       "      <th>CD4CNT</th>\n",
       "      <th>baseage</th>\n",
       "    </tr>\n",
       "    <tr>\n",
       "      <th>newpid</th>\n",
       "      <th>VISIT</th>\n",
       "      <th></th>\n",
       "      <th></th>\n",
       "      <th></th>\n",
       "      <th></th>\n",
       "      <th></th>\n",
       "      <th></th>\n",
       "      <th></th>\n",
       "    </tr>\n",
       "  </thead>\n",
       "  <tbody>\n",
       "    <tr>\n",
       "      <th rowspan=\"5\" valign=\"top\">1</th>\n",
       "      <th>1</th>\n",
       "      <td>1988-06-29</td>\n",
       "      <td>18</td>\n",
       "      <td>0</td>\n",
       "      <td>3.910000</td>\n",
       "      <td>1</td>\n",
       "      <td>323</td>\n",
       "      <td>3.91</td>\n",
       "    </tr>\n",
       "    <tr>\n",
       "      <th>4</th>\n",
       "      <td>1989-01-19</td>\n",
       "      <td>37</td>\n",
       "      <td>0</td>\n",
       "      <td>4.468333</td>\n",
       "      <td>1</td>\n",
       "      <td>610</td>\n",
       "      <td>3.91</td>\n",
       "    </tr>\n",
       "    <tr>\n",
       "      <th>7</th>\n",
       "      <td>1989-04-13</td>\n",
       "      <td>13</td>\n",
       "      <td>0</td>\n",
       "      <td>4.698333</td>\n",
       "      <td>1</td>\n",
       "      <td>324</td>\n",
       "      <td>3.91</td>\n",
       "    </tr>\n",
       "    <tr>\n",
       "      <th>13</th>\n",
       "      <td>1989-11-30</td>\n",
       "      <td>13</td>\n",
       "      <td>0</td>\n",
       "      <td>5.330833</td>\n",
       "      <td>1</td>\n",
       "      <td>626</td>\n",
       "      <td>3.91</td>\n",
       "    </tr>\n",
       "    <tr>\n",
       "      <th>19</th>\n",
       "      <td>1990-06-07</td>\n",
       "      <td>12</td>\n",
       "      <td>1</td>\n",
       "      <td>5.848333</td>\n",
       "      <td>1</td>\n",
       "      <td>220</td>\n",
       "      <td>3.91</td>\n",
       "    </tr>\n",
       "  </tbody>\n",
       "</table>\n",
       "</div>"
      ],
      "text/plain": [
       "                  VDATE  CD4PCT  arv    visage  treatmnt  CD4CNT  baseage\n",
       "newpid VISIT                                                             \n",
       "1      1     1988-06-29      18    0  3.910000         1     323     3.91\n",
       "       4     1989-01-19      37    0  4.468333         1     610     3.91\n",
       "       7     1989-04-13      13    0  4.698333         1     324     3.91\n",
       "       13    1989-11-30      13    0  5.330833         1     626     3.91\n",
       "       19    1990-06-07      12    1  5.848333         1     220     3.91"
      ]
     },
     "execution_count": 138,
     "metadata": {},
     "output_type": "execute_result"
    }
   ],
   "source": [
    "df = pd.read_csv('data/cd4.csv', parse_dates=['VDATE'], index_col=['newpid', 'VISIT'])\n",
    "df = df.dropna()  # estimator can't handle NaNs so ignore for now.\n",
    "df.head()"
   ]
  },
  {
   "cell_type": "markdown",
   "metadata": {},
   "source": [
    "Some basic statistics:"
   ]
  },
  {
   "cell_type": "code",
   "execution_count": 139,
   "metadata": {
    "collapsed": false
   },
   "outputs": [
    {
     "data": {
      "text/html": [
       "<div>\n",
       "<table border=\"1\" class=\"dataframe\">\n",
       "  <thead>\n",
       "    <tr style=\"text-align: right;\">\n",
       "      <th>treatmnt</th>\n",
       "      <th>1</th>\n",
       "      <th>2</th>\n",
       "    </tr>\n",
       "    <tr>\n",
       "      <th>arv</th>\n",
       "      <th></th>\n",
       "      <th></th>\n",
       "    </tr>\n",
       "  </thead>\n",
       "  <tbody>\n",
       "    <tr>\n",
       "      <th>0</th>\n",
       "      <td>486</td>\n",
       "      <td>402</td>\n",
       "    </tr>\n",
       "    <tr>\n",
       "      <th>1</th>\n",
       "      <td>48</td>\n",
       "      <td>42</td>\n",
       "    </tr>\n",
       "  </tbody>\n",
       "</table>\n",
       "</div>"
      ],
      "text/plain": [
       "treatmnt    1    2\n",
       "arv               \n",
       "0         486  402\n",
       "1          48   42"
      ]
     },
     "execution_count": 139,
     "metadata": {},
     "output_type": "execute_result"
    }
   ],
   "source": [
    "df.assign(cnt=1).groupby(['arv', 'treatmnt']).cnt.sum().unstack()"
   ]
  },
  {
   "cell_type": "code",
   "execution_count": 109,
   "metadata": {
    "collapsed": false
   },
   "outputs": [
    {
     "name": "stdout",
     "output_type": "stream",
     "text": [
      "<class 'pandas.core.frame.DataFrame'>\n",
      "MultiIndex: 978 entries, (1, 1) to (254, 7)\n",
      "Data columns (total 7 columns):\n",
      "VDATE       978 non-null datetime64[ns]\n",
      "CD4PCT      978 non-null float64\n",
      "arv         978 non-null float64\n",
      "visage      978 non-null float64\n",
      "treatmnt    978 non-null int64\n",
      "CD4CNT      978 non-null float64\n",
      "baseage     978 non-null float64\n",
      "dtypes: datetime64[ns](1), float64(5), int64(1)\n",
      "memory usage: 58.5+ KB\n"
     ]
    }
   ],
   "source": [
    "df.info()"
   ]
  },
  {
   "cell_type": "code",
   "execution_count": 141,
   "metadata": {
    "collapsed": false
   },
   "outputs": [
    {
     "data": {
      "text/plain": [
       "arv\n",
       "0    947.930180\n",
       "1    926.166667\n",
       "Name: CD4CNT, dtype: float64"
      ]
     },
     "execution_count": 141,
     "metadata": {},
     "output_type": "execute_result"
    }
   ],
   "source": [
    "df.groupby('arv').CD4CNT.mean()"
   ]
  },
  {
   "cell_type": "code",
   "execution_count": 144,
   "metadata": {
    "collapsed": false
   },
   "outputs": [
    {
     "data": {
      "text/plain": [
       "<seaborn.axisgrid.FacetGrid at 0x11616ed68>"
      ]
     },
     "execution_count": 144,
     "metadata": {},
     "output_type": "execute_result"
    },
    {
     "data": {
      "image/png": "[encoded data removed]",
      "text/plain": [
       "<matplotlib.figure.Figure at 0x10bcd0780>"
      ]
     },
     "metadata": {},
     "output_type": "display_data"
    }
   ],
   "source": [
    "sns.factorplot(x='arv', y='CD4CNT', col='treatmnt', data=df)"
   ]
  },
  {
   "cell_type": "code",
   "execution_count": 147,
   "metadata": {
    "collapsed": false
   },
   "outputs": [
    {
     "data": {
      "text/plain": [
       "<seaborn.axisgrid.FacetGrid at 0x117fae550>"
      ]
     },
     "execution_count": 147,
     "metadata": {},
     "output_type": "execute_result"
    },
    {
     "data": {
      "image/png": "[encoded data removed]",
      "text/plain": [
       "<matplotlib.figure.Figure at 0x117faeeb8>"
      ]
     },
     "metadata": {},
     "output_type": "display_data"
    }
   ],
   "source": [
    "sns.lmplot(\"visage\", \"CD4PCT\", data=df, hue=\"arv\")"
   ]
  },
  {
   "cell_type": "markdown",
   "metadata": {},
   "source": [
    "These statistics are throwing away alot of informatin. They don't tie one observation of an individual to the second observatino *of the same individual*. We'd expect some people to consistently have higher or lower `CD4PCT` than others. We'll use a GEE model, but we have to extract the age at the time of each observation to get there."
   ]
  },
  {
   "cell_type": "code",
   "execution_count": 160,
   "metadata": {
    "collapsed": false
   },
   "outputs": [],
   "source": [
    "# apply instead of transform becasue of dtypes.\n",
    "years_since = df.groupby(level='newpid').VDATE.apply(lambda x: (x - x.min()).dt.days / 365)\n",
    "df['age'] = df.baseage + years_since"
   ]
  },
  {
   "cell_type": "code",
   "execution_count": 161,
   "metadata": {
    "collapsed": false
   },
   "outputs": [
    {
     "data": {
      "text/html": [
       "<div>\n",
       "<table border=\"1\" class=\"dataframe\">\n",
       "  <thead>\n",
       "    <tr style=\"text-align: right;\">\n",
       "      <th></th>\n",
       "      <th></th>\n",
       "      <th>VDATE</th>\n",
       "      <th>CD4PCT</th>\n",
       "      <th>arv</th>\n",
       "      <th>visage</th>\n",
       "      <th>treatmnt</th>\n",
       "      <th>CD4CNT</th>\n",
       "      <th>baseage</th>\n",
       "      <th>age</th>\n",
       "    </tr>\n",
       "    <tr>\n",
       "      <th>newpid</th>\n",
       "      <th>VISIT</th>\n",
       "      <th></th>\n",
       "      <th></th>\n",
       "      <th></th>\n",
       "      <th></th>\n",
       "      <th></th>\n",
       "      <th></th>\n",
       "      <th></th>\n",
       "      <th></th>\n",
       "    </tr>\n",
       "  </thead>\n",
       "  <tbody>\n",
       "    <tr>\n",
       "      <th rowspan=\"5\" valign=\"top\">1</th>\n",
       "      <th>1</th>\n",
       "      <td>1988-06-29</td>\n",
       "      <td>18</td>\n",
       "      <td>0</td>\n",
       "      <td>3.910000</td>\n",
       "      <td>1</td>\n",
       "      <td>323</td>\n",
       "      <td>3.91</td>\n",
       "      <td>3.910000</td>\n",
       "    </tr>\n",
       "    <tr>\n",
       "      <th>4</th>\n",
       "      <td>1989-01-19</td>\n",
       "      <td>37</td>\n",
       "      <td>0</td>\n",
       "      <td>4.468333</td>\n",
       "      <td>1</td>\n",
       "      <td>610</td>\n",
       "      <td>3.91</td>\n",
       "      <td>4.468904</td>\n",
       "    </tr>\n",
       "    <tr>\n",
       "      <th>7</th>\n",
       "      <td>1989-04-13</td>\n",
       "      <td>13</td>\n",
       "      <td>0</td>\n",
       "      <td>4.698333</td>\n",
       "      <td>1</td>\n",
       "      <td>324</td>\n",
       "      <td>3.91</td>\n",
       "      <td>4.699041</td>\n",
       "    </tr>\n",
       "    <tr>\n",
       "      <th>13</th>\n",
       "      <td>1989-11-30</td>\n",
       "      <td>13</td>\n",
       "      <td>0</td>\n",
       "      <td>5.330833</td>\n",
       "      <td>1</td>\n",
       "      <td>626</td>\n",
       "      <td>3.91</td>\n",
       "      <td>5.331918</td>\n",
       "    </tr>\n",
       "    <tr>\n",
       "      <th>19</th>\n",
       "      <td>1990-06-07</td>\n",
       "      <td>12</td>\n",
       "      <td>1</td>\n",
       "      <td>5.848333</td>\n",
       "      <td>1</td>\n",
       "      <td>220</td>\n",
       "      <td>3.91</td>\n",
       "      <td>5.849726</td>\n",
       "    </tr>\n",
       "  </tbody>\n",
       "</table>\n",
       "</div>"
      ],
      "text/plain": [
       "                  VDATE  CD4PCT  arv    visage  treatmnt  CD4CNT  baseage  \\\n",
       "newpid VISIT                                                                \n",
       "1      1     1988-06-29      18    0  3.910000         1     323     3.91   \n",
       "       4     1989-01-19      37    0  4.468333         1     610     3.91   \n",
       "       7     1989-04-13      13    0  4.698333         1     324     3.91   \n",
       "       13    1989-11-30      13    0  5.330833         1     626     3.91   \n",
       "       19    1990-06-07      12    1  5.848333         1     220     3.91   \n",
       "\n",
       "                   age  \n",
       "newpid VISIT            \n",
       "1      1      3.910000  \n",
       "       4      4.468904  \n",
       "       7      4.699041  \n",
       "       13     5.331918  \n",
       "       19     5.849726  "
      ]
     },
     "execution_count": 161,
     "metadata": {},
     "output_type": "execute_result"
    }
   ],
   "source": [
    "df.head()"
   ]
  },
  {
   "cell_type": "code",
   "execution_count": 165,
   "metadata": {
    "collapsed": false
   },
   "outputs": [
    {
     "data": {
      "text/html": [
       "<table class=\"simpletable\">\n",
       "<caption>GEE Regression Results</caption>\n",
       "<tr>\n",
       "  <th>Dep. Variable:</th>               <td>CD4PCT</td>        <th>  No. Observations:  </th>    <td>978</td>  \n",
       "</tr>\n",
       "<tr>\n",
       "  <th>Model:</th>                         <td>GEE</td>         <th>  No. clusters:      </th>    <td>226</td>  \n",
       "</tr>\n",
       "<tr>\n",
       "  <th>Method:</th>                    <td>Generalized</td>     <th>  Min. cluster size: </th>     <td>1</td>   \n",
       "</tr>\n",
       "<tr>\n",
       "  <th></th>                      <td>Estimating Equations</td> <th>  Max. cluster size: </th>     <td>7</td>   \n",
       "</tr>\n",
       "<tr>\n",
       "  <th>Family:</th>                     <td>Gaussian</td>       <th>  Mean cluster size: </th>    <td>4.3</td>  \n",
       "</tr>\n",
       "<tr>\n",
       "  <th>Dependence structure:</th>     <td>Independence</td>     <th>  Num. iterations:   </th>     <td>2</td>   \n",
       "</tr>\n",
       "<tr>\n",
       "  <th>Date:</th>                   <td>Thu, 25 Jun 2015</td>   <th>  Scale:             </th>  <td>171.820</td>\n",
       "</tr>\n",
       "<tr>\n",
       "  <th>Covariance type: </th>            <td>robust</td>        <th>  Time:              </th> <td>22:51:34</td>\n",
       "</tr>\n",
       "</table>\n",
       "<table class=\"simpletable\">\n",
       "<tr>\n",
       "      <td></td>         <th>coef</th>     <th>std err</th>      <th>z</th>      <th>P>|z|</th> <th>[95.0% Conf. Int.]</th> \n",
       "</tr>\n",
       "<tr>\n",
       "  <th>Intercept</th> <td>   23.9086</td> <td>    2.997</td> <td>    7.977</td> <td> 0.000</td> <td>   18.034    29.783</td>\n",
       "</tr>\n",
       "<tr>\n",
       "  <th>age</th>       <td>   -0.9923</td> <td>    0.373</td> <td>   -2.661</td> <td> 0.008</td> <td>   -1.723    -0.261</td>\n",
       "</tr>\n",
       "<tr>\n",
       "  <th>arv</th>       <td>    1.6919</td> <td>    2.070</td> <td>    0.817</td> <td> 0.414</td> <td>   -2.365     5.749</td>\n",
       "</tr>\n",
       "<tr>\n",
       "  <th>treatmnt</th>  <td>    2.7020</td> <td>    1.635</td> <td>    1.653</td> <td> 0.098</td> <td>   -0.503     5.907</td>\n",
       "</tr>\n",
       "</table>\n",
       "<table class=\"simpletable\">\n",
       "<tr>\n",
       "  <th>Skew:</th>          <td>      0.2773</td> <th>  Kurtosis:          </th> <td>     -0.3432</td>\n",
       "</tr>\n",
       "<tr>\n",
       "  <th>Centered skew:</th> <td>      0.2924</td> <th>  Centered kurtosis: </th> <td>      3.2945</td>\n",
       "</tr>\n",
       "</table>"
      ],
      "text/plain": [
       "<class 'statsmodels.iolib.summary.Summary'>\n",
       "\"\"\"\n",
       "                               GEE Regression Results                              \n",
       "===================================================================================\n",
       "Dep. Variable:                      CD4PCT   No. Observations:                  978\n",
       "Model:                                 GEE   No. clusters:                      226\n",
       "Method:                        Generalized   Min. cluster size:                   1\n",
       "                      Estimating Equations   Max. cluster size:                   7\n",
       "Family:                           Gaussian   Mean cluster size:                 4.3\n",
       "Dependence structure:         Independence   Num. iterations:                     2\n",
       "Date:                     Thu, 25 Jun 2015   Scale:                         171.820\n",
       "Covariance type:                    robust   Time:                         22:51:34\n",
       "==============================================================================\n",
       "                 coef    std err          z      P>|z|      [95.0% Conf. Int.]\n",
       "------------------------------------------------------------------------------\n",
       "Intercept     23.9086      2.997      7.977      0.000        18.034    29.783\n",
       "age           -0.9923      0.373     -2.661      0.008        -1.723    -0.261\n",
       "arv            1.6919      2.070      0.817      0.414        -2.365     5.749\n",
       "treatmnt       2.7020      1.635      1.653      0.098        -0.503     5.907\n",
       "==============================================================================\n",
       "Skew:                          0.2773   Kurtosis:                      -0.3432\n",
       "Centered skew:                 0.2924   Centered kurtosis:              3.2945\n",
       "==============================================================================\n",
       "\"\"\""
      ]
     },
     "execution_count": 165,
     "metadata": {},
     "output_type": "execute_result"
    }
   ],
   "source": [
    "mod_basic = sm.GEE.from_formula(\"CD4PCT ~ age + arv + treatmnt\", \"newpid\", df.reset_index())\n",
    "res_basic = mod_basic.fit()\n",
    "res_basic.summary()"
   ]
  },
  {
   "cell_type": "code",
   "execution_count": 166,
   "metadata": {
    "collapsed": false
   },
   "outputs": [
    {
     "data": {
      "text/html": [
       "<table class=\"simpletable\">\n",
       "<caption>GEE Regression Results</caption>\n",
       "<tr>\n",
       "  <th>Dep. Variable:</th>               <td>CD4PCT</td>        <th>  No. Observations:  </th>    <td>978</td>  \n",
       "</tr>\n",
       "<tr>\n",
       "  <th>Model:</th>                         <td>GEE</td>         <th>  No. clusters:      </th>    <td>226</td>  \n",
       "</tr>\n",
       "<tr>\n",
       "  <th>Method:</th>                    <td>Generalized</td>     <th>  Min. cluster size: </th>     <td>1</td>   \n",
       "</tr>\n",
       "<tr>\n",
       "  <th></th>                      <td>Estimating Equations</td> <th>  Max. cluster size: </th>     <td>7</td>   \n",
       "</tr>\n",
       "<tr>\n",
       "  <th>Family:</th>                     <td>Gaussian</td>       <th>  Mean cluster size: </th>    <td>4.3</td>  \n",
       "</tr>\n",
       "<tr>\n",
       "  <th>Dependence structure:</th>     <td>Exchangeable</td>     <th>  Num. iterations:   </th>    <td>10</td>   \n",
       "</tr>\n",
       "<tr>\n",
       "  <th>Date:</th>                   <td>Thu, 25 Jun 2015</td>   <th>  Scale:             </th>  <td>175.419</td>\n",
       "</tr>\n",
       "<tr>\n",
       "  <th>Covariance type: </th>            <td>robust</td>        <th>  Time:              </th> <td>22:52:10</td>\n",
       "</tr>\n",
       "</table>\n",
       "<table class=\"simpletable\">\n",
       "<tr>\n",
       "      <td></td>         <th>coef</th>     <th>std err</th>      <th>z</th>      <th>P>|z|</th> <th>[95.0% Conf. Int.]</th> \n",
       "</tr>\n",
       "<tr>\n",
       "  <th>Intercept</th> <td>   27.4284</td> <td>    2.801</td> <td>    9.792</td> <td> 0.000</td> <td>   21.939    32.918</td>\n",
       "</tr>\n",
       "<tr>\n",
       "  <th>age</th>       <td>   -1.7609</td> <td>    0.336</td> <td>   -5.244</td> <td> 0.000</td> <td>   -2.419    -1.103</td>\n",
       "</tr>\n",
       "<tr>\n",
       "  <th>arv</th>       <td>    1.9451</td> <td>    1.181</td> <td>    1.647</td> <td> 0.100</td> <td>   -0.369     4.260</td>\n",
       "</tr>\n",
       "<tr>\n",
       "  <th>treatmnt</th>  <td>    1.9567</td> <td>    1.569</td> <td>    1.247</td> <td> 0.212</td> <td>   -1.119     5.032</td>\n",
       "</tr>\n",
       "</table>\n",
       "<table class=\"simpletable\">\n",
       "<tr>\n",
       "  <th>Skew:</th>          <td>      0.2521</td> <th>  Kurtosis:          </th> <td>     -0.3788</td>\n",
       "</tr>\n",
       "<tr>\n",
       "  <th>Centered skew:</th> <td>      0.2914</td> <th>  Centered kurtosis: </th> <td>      3.3861</td>\n",
       "</tr>\n",
       "</table>"
      ],
      "text/plain": [
       "<class 'statsmodels.iolib.summary.Summary'>\n",
       "\"\"\"\n",
       "                               GEE Regression Results                              \n",
       "===================================================================================\n",
       "Dep. Variable:                      CD4PCT   No. Observations:                  978\n",
       "Model:                                 GEE   No. clusters:                      226\n",
       "Method:                        Generalized   Min. cluster size:                   1\n",
       "                      Estimating Equations   Max. cluster size:                   7\n",
       "Family:                           Gaussian   Mean cluster size:                 4.3\n",
       "Dependence structure:         Exchangeable   Num. iterations:                    10\n",
       "Date:                     Thu, 25 Jun 2015   Scale:                         175.419\n",
       "Covariance type:                    robust   Time:                         22:52:10\n",
       "==============================================================================\n",
       "                 coef    std err          z      P>|z|      [95.0% Conf. Int.]\n",
       "------------------------------------------------------------------------------\n",
       "Intercept     27.4284      2.801      9.792      0.000        21.939    32.918\n",
       "age           -1.7609      0.336     -5.244      0.000        -2.419    -1.103\n",
       "arv            1.9451      1.181      1.647      0.100        -0.369     4.260\n",
       "treatmnt       1.9567      1.569      1.247      0.212        -1.119     5.032\n",
       "==============================================================================\n",
       "Skew:                          0.2521   Kurtosis:                      -0.3788\n",
       "Centered skew:                 0.2914   Centered kurtosis:              3.3861\n",
       "==============================================================================\n",
       "\"\"\""
      ]
     },
     "execution_count": 166,
     "metadata": {},
     "output_type": "execute_result"
    }
   ],
   "source": [
    "ex = sm.cov_struct.Exchangeable()\n",
    "mod_exchangable = sm.GEE.from_formula(\"CD4PCT ~ age + arv + treatmnt\", \"newpid\", df.reset_index(),\n",
    "                                      cov_struct=ex)\n",
    "res_exchangable = mod_exchangable.fit()\n",
    "res_exchangable.summary()"
   ]
  },
  {
   "cell_type": "code",
   "execution_count": 168,
   "metadata": {
    "collapsed": false
   },
   "outputs": [
    {
     "data": {
      "text/plain": [
       "<matplotlib.collections.PathCollection at 0x11814f9e8>"
      ]
     },
     "execution_count": 168,
     "metadata": {},
     "output_type": "execute_result"
    },
    {
     "data": {
      "image/png": "[encoded data removed]",
      "text/plain": [
       "<matplotlib.figure.Figure at 0x1180f9e80>"
      ]
     },
     "metadata": {},
     "output_type": "display_data"
    }
   ],
   "source": [
    "plt.scatter(res_basic.fittedvalues, res_exchangable.fittedvalues)"
   ]
  },
  {
   "cell_type": "code",
   "execution_count": 170,
   "metadata": {
    "collapsed": false
   },
   "outputs": [
    {
     "data": {
      "text/plain": [
       "<matplotlib.axes._subplots.AxesSubplot at 0x118180a58>"
      ]
     },
     "execution_count": 170,
     "metadata": {},
     "output_type": "execute_result"
    },
    {
     "data": {
      "image/png": "[encoded data removed]",
      "text/plain": [
       "<matplotlib.figure.Figure at 0x11825a630>"
      ]
     },
     "metadata": {},
     "output_type": "display_data"
    }
   ],
   "source": [
    "sns.kdeplot(res_basic.fittedvalues, shade=True, label='Basic')\n",
    "sns.kdeplot(res_exchangable.fittedvalues, shade=True, label='Exchangeable')"
   ]
  },
  {
   "cell_type": "code",
   "execution_count": 148,
   "metadata": {
    "collapsed": false
   },
   "outputs": [],
   "source": [
    "# aside: MultiIndex slicers if we don't get there elsewhere.\n",
    "# df.loc[(slice(None), 1), 'first_visit_date'] = df.loc[(slice(None), 1), :].VDATE\n",
    "# df.head()"
   ]
  },
  {
   "cell_type": "markdown",
   "metadata": {
    "collapsed": true
   },
   "source": [
    "# Scikit-learn\n",
    "\n",
    "An awesome library. It deals with NumPy arrays (and DataFrames to an extent)."
   ]
  },
  {
   "cell_type": "code",
   "execution_count": null,
   "metadata": {
    "collapsed": true
   },
   "outputs": [],
   "source": []
  }
 ],
 "metadata": {
  "kernelspec": {
   "display_name": "Python 3",
   "language": "python",
   "name": "python3"
  },
  "language_info": {
   "codemirror_mode": {
    "name": "ipython",
    "version": 3
   },
   "file_extension": ".py",
   "mimetype": "text/x-python",
   "name": "python",
   "nbconvert_exporter": "python",
   "pygments_lexer": "ipython3",
   "version": "3.4.3"
  }
 },
 "nbformat": 4,
 "nbformat_minor": 0
}
