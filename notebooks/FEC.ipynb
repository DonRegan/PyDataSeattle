{
 "cells": [
  {
   "cell_type": "markdown",
   "metadata": {},
   "source": [
    "- http://www.fec.gov/finance/disclosure/ftpdet.shtml#a2015_2016\n",
    "- ftp://ftp.fec.gov/FEC/2016/indiv16.zip\n",
    "- http://www.fec.gov/finance/disclosure/metadata/DataDictionaryContributionsbyIndividuals.shtml"
   ]
  },
  {
   "cell_type": "code",
   "execution_count": 4,
   "metadata": {
    "collapsed": true
   },
   "outputs": [],
   "source": [
    "import numpy as np\n",
    "import pandas as pd\n",
    "import seaborn as sns\n",
    "import matplotlib.pyplot as plt\n",
    "\n",
    "sns.set_style('ticks')\n",
    "\n",
    "pd.options.display.max_rows = 10\n",
    "%matplotlib inline\n",
    "plt.rcParams['figure.figsize'] = (16, 9)"
   ]
  },
  {
   "cell_type": "code",
   "execution_count": 26,
   "metadata": {
    "collapsed": false
   },
   "outputs": [
    {
     "name": "stdout",
     "output_type": "stream",
     "text": [
      "Archive:  cm16.zip\n",
      "  inflating: cm.txt                  \n",
      "Archive:  cn16.zip\n",
      "  inflating: cn.txt                  \n"
     ]
    }
   ],
   "source": [
    "!mv /Users/tom.augspurger/Downloads/cm16.zip .\n",
    "!mv /Users/tom.augspurger/Downloads/cn16.zip .\n",
    "\n",
    "!unzip cm16.zip\n",
    "!unzip cn16.zip "
   ]
  },
  {
   "cell_type": "code",
   "execution_count": 340,
   "metadata": {
    "collapsed": false
   },
   "outputs": [
    {
     "name": "stdout",
     "output_type": "stream",
     "text": [
      "  % Total    % Received % Xferd  Average Speed   Time    Time     Time  Current\n",
      "                                 Dload  Upload   Total   Spent    Left  Speed\n",
      "100  910k  100  910k    0     0   582k      0  0:00:01  0:00:01 --:--:--  582k\n",
      "Archive:  pas216.zip\n",
      "  inflating: itpas2.txt              \n"
     ]
    }
   ],
   "source": [
    "!curl -O \"ftp://ftp.fec.gov/FEC/2016/pas216.zip\"\n",
    "!unzip pas216.zip"
   ]
  },
  {
   "cell_type": "code",
   "execution_count": 341,
   "metadata": {
    "collapsed": false
   },
   "outputs": [
    {
     "name": "stdout",
     "output_type": "stream",
     "text": [
      "  % Total    % Received % Xferd  Average Speed   Time    Time     Time  Current\n",
      "                                 Dload  Upload   Total   Spent    Left  Speed\n",
      "100   158  100   158    0     0    962      0 --:--:-- --:--:-- --:--:--   963\n",
      "  % Total    % Received % Xferd  Average Speed   Time    Time     Time  Current\n",
      "                                 Dload  Upload   Total   Spent    Left  Speed\n",
      "100   180  100   180    0     0   1834      0 --:--:-- --:--:-- --:--:--  1836\n",
      "  % Total    % Received % Xferd  Average Speed   Time    Time     Time  Current\n",
      "                                 Dload  Upload   Total   Spent    Left  Speed\n",
      "100   204  100   204    0     0   1980      0 --:--:-- --:--:-- --:--:--  2000\n",
      "  % Total    % Received % Xferd  Average Speed   Time    Time     Time  Current\n",
      "                                 Dload  Upload   Total   Spent    Left  Speed\n",
      "100   212  100   212    0     0   2153      0 --:--:-- --:--:-- --:--:--  2163\n"
     ]
    }
   ],
   "source": [
    "!curl -o cm_names.csv \"http://www.fec.gov/finance/disclosure/metadata/cm_header_file.csv\"\n",
    "!curl -o cn_names.csv \"http://www.fec.gov/finance/disclosure/metadata/cn_header_file.csv\"\n",
    "!curl -o in_names.csv \"http://www.fec.gov/finance/disclosure/metadata/indiv_header_file.csv\"\n",
    "!curl -o cc_names.csv \"http://www.fec.gov/finance/disclosure/metadata/pas2_header_file.csv\""
   ]
  },
  {
   "cell_type": "code",
   "execution_count": 342,
   "metadata": {
    "collapsed": false
   },
   "outputs": [],
   "source": [
    "in_names = pd.read_csv(\"in_names.csv\").columns\n",
    "cm_names = pd.read_csv(\"cm_names.csv\").columns\n",
    "cn_names = pd.read_csv(\"cn_names.csv\").columns\n",
    "cc_names = pd.read_csv(\"cc_names.csv\").columns"
   ]
  },
  {
   "cell_type": "markdown",
   "metadata": {},
   "source": [
    "# I/O\n",
    "\n",
    "Pandas makes it easy to read from and write to a variety of formats."
   ]
  },
  {
   "cell_type": "code",
   "execution_count": 107,
   "metadata": {
    "collapsed": false
   },
   "outputs": [
    {
     "data": {
      "text/plain": [
       "['read_clipboard',\n",
       " 'read_csv',\n",
       " 'read_excel',\n",
       " 'read_fwf',\n",
       " 'read_gbq',\n",
       " 'read_hdf',\n",
       " 'read_html',\n",
       " 'read_json',\n",
       " 'read_msgpack',\n",
       " 'read_pickle',\n",
       " 'read_sql',\n",
       " 'read_sql_query',\n",
       " 'read_sql_table',\n",
       " 'read_stata',\n",
       " 'read_table']"
      ]
     },
     "execution_count": 107,
     "metadata": {},
     "output_type": "execute_result"
    }
   ],
   "source": [
    "[x for x in dir(pd) if x.startswith('read_')]"
   ]
  },
  {
   "cell_type": "code",
   "execution_count": 366,
   "metadata": {
    "collapsed": false
   },
   "outputs": [],
   "source": [
    "df = pd.read_csv('itcont.txt', sep='|', names=in_names, dtype={'ZIP_CODE': str})\n",
    "cm = pd.read_csv('cm.txt', sep='|', names=cm_names)\n",
    "cn = pd.read_csv('cn.txt', sep='|', names=cn_names)\n",
    "cc = pd.read_csv(\"itpas2.txt\", sep=\"|\", names=cc_names)"
   ]
  },
  {
   "cell_type": "markdown",
   "metadata": {},
   "source": [
    "`read_csv` has a ton of options..."
   ]
  },
  {
   "cell_type": "code",
   "execution_count": 108,
   "metadata": {
    "collapsed": true
   },
   "outputs": [],
   "source": [
    "pd.read_csv?"
   ]
  },
  {
   "cell_type": "markdown",
   "metadata": {},
   "source": [
    "# The DataFrame\n",
    "\n",
    "Most used object in pandas: an in memory table"
   ]
  },
  {
   "cell_type": "code",
   "execution_count": 113,
   "metadata": {
    "collapsed": false
   },
   "outputs": [
    {
     "data": {
      "text/html": [
       "<div>\n",
       "<table border=\"1\" class=\"dataframe\">\n",
       "  <thead>\n",
       "    <tr style=\"text-align: right;\">\n",
       "      <th></th>\n",
       "      <th>CMTE_ID</th>\n",
       "      <th>AMNDT_IND</th>\n",
       "      <th>RPT_TP</th>\n",
       "      <th>TRANSACTION_PGI</th>\n",
       "      <th>IMAGE_NUM</th>\n",
       "      <th>TRANSACTION_TP</th>\n",
       "      <th>ENTITY_TP</th>\n",
       "      <th>NAME</th>\n",
       "      <th>CITY</th>\n",
       "      <th>STATE</th>\n",
       "      <th>...</th>\n",
       "      <th>EMPLOYER</th>\n",
       "      <th>OCCUPATION</th>\n",
       "      <th>TRANSACTION_DT</th>\n",
       "      <th>TRANSACTION_AMT</th>\n",
       "      <th>OTHER_ID</th>\n",
       "      <th>TRAN_ID</th>\n",
       "      <th>FILE_NUM</th>\n",
       "      <th>MEMO_CD</th>\n",
       "      <th>MEMO_TEXT</th>\n",
       "      <th>SUB_ID</th>\n",
       "    </tr>\n",
       "  </thead>\n",
       "  <tbody>\n",
       "    <tr>\n",
       "      <th>0</th>\n",
       "      <td>C00004606</td>\n",
       "      <td>N</td>\n",
       "      <td>M4</td>\n",
       "      <td>P</td>\n",
       "      <td>15951124869</td>\n",
       "      <td>15</td>\n",
       "      <td>IND</td>\n",
       "      <td>ARNOLD, ROBERT</td>\n",
       "      <td>MCPHERSON</td>\n",
       "      <td>KS</td>\n",
       "      <td>...</td>\n",
       "      <td>SELF</td>\n",
       "      <td>OPTOMETRIST</td>\n",
       "      <td>3102015</td>\n",
       "      <td>1000</td>\n",
       "      <td>NaN</td>\n",
       "      <td>SA11AI.20747</td>\n",
       "      <td>1002259</td>\n",
       "      <td>NaN</td>\n",
       "      <td>NaN</td>\n",
       "      <td>4041320151241796098</td>\n",
       "    </tr>\n",
       "    <tr>\n",
       "      <th>1</th>\n",
       "      <td>C00004606</td>\n",
       "      <td>N</td>\n",
       "      <td>M4</td>\n",
       "      <td>P</td>\n",
       "      <td>15951124869</td>\n",
       "      <td>15</td>\n",
       "      <td>IND</td>\n",
       "      <td>BICKLE, DON</td>\n",
       "      <td>HAYS</td>\n",
       "      <td>KS</td>\n",
       "      <td>...</td>\n",
       "      <td>RETIRED</td>\n",
       "      <td>RETIRED</td>\n",
       "      <td>3302015</td>\n",
       "      <td>1000</td>\n",
       "      <td>NaN</td>\n",
       "      <td>SA11AI.20772</td>\n",
       "      <td>1002259</td>\n",
       "      <td>NaN</td>\n",
       "      <td>NaN</td>\n",
       "      <td>4041320151241796099</td>\n",
       "    </tr>\n",
       "    <tr>\n",
       "      <th>2</th>\n",
       "      <td>C00004606</td>\n",
       "      <td>N</td>\n",
       "      <td>M4</td>\n",
       "      <td>P</td>\n",
       "      <td>15951124869</td>\n",
       "      <td>15</td>\n",
       "      <td>IND</td>\n",
       "      <td>ROSSMAN, RICHARD</td>\n",
       "      <td>OLATHE</td>\n",
       "      <td>KS</td>\n",
       "      <td>...</td>\n",
       "      <td>CRAWFORD SALES COMPANY</td>\n",
       "      <td>BUSINESSMAN</td>\n",
       "      <td>3302015</td>\n",
       "      <td>250</td>\n",
       "      <td>NaN</td>\n",
       "      <td>SA11AI.20759</td>\n",
       "      <td>1002259</td>\n",
       "      <td>NaN</td>\n",
       "      <td>NaN</td>\n",
       "      <td>4041320151241796100</td>\n",
       "    </tr>\n",
       "    <tr>\n",
       "      <th>3</th>\n",
       "      <td>C00452383</td>\n",
       "      <td>N</td>\n",
       "      <td>M4</td>\n",
       "      <td>P</td>\n",
       "      <td>15951124897</td>\n",
       "      <td>15</td>\n",
       "      <td>IND</td>\n",
       "      <td>LLEWELLYN, CHARLES</td>\n",
       "      <td>FREDERICK</td>\n",
       "      <td>MD</td>\n",
       "      <td>...</td>\n",
       "      <td>NaN</td>\n",
       "      <td>NaN</td>\n",
       "      <td>3112015</td>\n",
       "      <td>500</td>\n",
       "      <td>NaN</td>\n",
       "      <td>SA11AI.25088</td>\n",
       "      <td>1002261</td>\n",
       "      <td>NaN</td>\n",
       "      <td>NaN</td>\n",
       "      <td>4041320151241796102</td>\n",
       "    </tr>\n",
       "    <tr>\n",
       "      <th>4</th>\n",
       "      <td>C00452383</td>\n",
       "      <td>N</td>\n",
       "      <td>M4</td>\n",
       "      <td>P</td>\n",
       "      <td>15951124897</td>\n",
       "      <td>15</td>\n",
       "      <td>IND</td>\n",
       "      <td>TYNES, TIMOTHY MR.</td>\n",
       "      <td>VERO BEACH</td>\n",
       "      <td>FL</td>\n",
       "      <td>...</td>\n",
       "      <td>NaN</td>\n",
       "      <td>NaN</td>\n",
       "      <td>3022015</td>\n",
       "      <td>250</td>\n",
       "      <td>NaN</td>\n",
       "      <td>SA11AI.25074</td>\n",
       "      <td>1002261</td>\n",
       "      <td>NaN</td>\n",
       "      <td>NaN</td>\n",
       "      <td>4041320151241796103</td>\n",
       "    </tr>\n",
       "  </tbody>\n",
       "</table>\n",
       "<p>5 rows × 21 columns</p>\n",
       "</div>"
      ],
      "text/plain": [
       "     CMTE_ID AMNDT_IND RPT_TP TRANSACTION_PGI    IMAGE_NUM TRANSACTION_TP  \\\n",
       "0  C00004606         N     M4               P  15951124869             15   \n",
       "1  C00004606         N     M4               P  15951124869             15   \n",
       "2  C00004606         N     M4               P  15951124869             15   \n",
       "3  C00452383         N     M4               P  15951124897             15   \n",
       "4  C00452383         N     M4               P  15951124897             15   \n",
       "\n",
       "  ENTITY_TP                NAME        CITY STATE         ...           \\\n",
       "0       IND      ARNOLD, ROBERT   MCPHERSON    KS         ...            \n",
       "1       IND         BICKLE, DON        HAYS    KS         ...            \n",
       "2       IND    ROSSMAN, RICHARD      OLATHE    KS         ...            \n",
       "3       IND  LLEWELLYN, CHARLES   FREDERICK    MD         ...            \n",
       "4       IND  TYNES, TIMOTHY MR.  VERO BEACH    FL         ...            \n",
       "\n",
       "                 EMPLOYER   OCCUPATION TRANSACTION_DT  TRANSACTION_AMT  \\\n",
       "0                    SELF  OPTOMETRIST        3102015             1000   \n",
       "1                 RETIRED      RETIRED        3302015             1000   \n",
       "2  CRAWFORD SALES COMPANY  BUSINESSMAN        3302015              250   \n",
       "3                     NaN          NaN        3112015              500   \n",
       "4                     NaN          NaN        3022015              250   \n",
       "\n",
       "   OTHER_ID       TRAN_ID FILE_NUM  MEMO_CD MEMO_TEXT               SUB_ID  \n",
       "0       NaN  SA11AI.20747  1002259      NaN       NaN  4041320151241796098  \n",
       "1       NaN  SA11AI.20772  1002259      NaN       NaN  4041320151241796099  \n",
       "2       NaN  SA11AI.20759  1002259      NaN       NaN  4041320151241796100  \n",
       "3       NaN  SA11AI.25088  1002261      NaN       NaN  4041320151241796102  \n",
       "4       NaN  SA11AI.25074  1002261      NaN       NaN  4041320151241796103  \n",
       "\n",
       "[5 rows x 21 columns]"
      ]
     },
     "execution_count": 113,
     "metadata": {},
     "output_type": "execute_result"
    }
   ],
   "source": [
    "df.head()"
   ]
  },
  {
   "cell_type": "code",
   "execution_count": 114,
   "metadata": {
    "collapsed": false
   },
   "outputs": [
    {
     "name": "stdout",
     "output_type": "stream",
     "text": [
      "<class 'pandas.core.frame.DataFrame'>\n",
      "Int64Index: 205519 entries, 0 to 205518\n",
      "Data columns (total 21 columns):\n",
      "CMTE_ID            205519 non-null object\n",
      "AMNDT_IND          205519 non-null object\n",
      "RPT_TP             205519 non-null object\n",
      "TRANSACTION_PGI    205444 non-null object\n",
      "IMAGE_NUM          205519 non-null int64\n",
      "TRANSACTION_TP     205519 non-null object\n",
      "ENTITY_TP          205365 non-null object\n",
      "NAME               205510 non-null object\n",
      "CITY               205373 non-null object\n",
      "STATE              205151 non-null object\n",
      "ZIP_CODE           204899 non-null object\n",
      "EMPLOYER           165614 non-null object\n",
      "OCCUPATION         171342 non-null object\n",
      "TRANSACTION_DT     205518 non-null float64\n",
      "TRANSACTION_AMT    205519 non-null int64\n",
      "OTHER_ID           29908 non-null object\n",
      "TRAN_ID            205507 non-null object\n",
      "FILE_NUM           205519 non-null int64\n",
      "MEMO_CD            5471 non-null object\n",
      "MEMO_TEXT          48980 non-null object\n",
      "SUB_ID             205519 non-null int64\n",
      "dtypes: float64(1), int64(4), object(16)\n",
      "memory usage: 34.5+ MB\n"
     ]
    }
   ],
   "source": [
    "df.info()"
   ]
  },
  {
   "cell_type": "markdown",
   "metadata": {},
   "source": [
    "Things to notice:\n",
    "\n",
    "- tablular (like Excel)\n",
    "- columnar (like Redshift)\n",
    "- multiple dtypes (unlike NumPy)\n",
    "- missing data handling (better than redshift)\n",
    "- row-labels (unlike SQL)\n",
    "- *Tons* of useful method (`df.<TAB>`)\n",
    "\n",
    "We'll look a just a few of the methods, including aggregations, group-by, and merge."
   ]
  },
  {
   "cell_type": "markdown",
   "metadata": {},
   "source": [
    "# Joining tables"
   ]
  },
  {
   "cell_type": "code",
   "execution_count": 116,
   "metadata": {
    "collapsed": false
   },
   "outputs": [
    {
     "data": {
      "text/html": [
       "<div>\n",
       "<table border=\"1\" class=\"dataframe\">\n",
       "  <thead>\n",
       "    <tr style=\"text-align: right;\">\n",
       "      <th></th>\n",
       "      <th>CMTE_ID</th>\n",
       "      <th>AMNDT_IND</th>\n",
       "      <th>RPT_TP</th>\n",
       "      <th>TRANSACTION_PGI</th>\n",
       "      <th>IMAGE_NUM</th>\n",
       "      <th>TRANSACTION_TP</th>\n",
       "      <th>ENTITY_TP</th>\n",
       "      <th>NAME</th>\n",
       "      <th>CITY</th>\n",
       "      <th>STATE</th>\n",
       "      <th>...</th>\n",
       "      <th>EMPLOYER</th>\n",
       "      <th>OCCUPATION</th>\n",
       "      <th>TRANSACTION_DT</th>\n",
       "      <th>TRANSACTION_AMT</th>\n",
       "      <th>OTHER_ID</th>\n",
       "      <th>TRAN_ID</th>\n",
       "      <th>FILE_NUM</th>\n",
       "      <th>MEMO_CD</th>\n",
       "      <th>MEMO_TEXT</th>\n",
       "      <th>SUB_ID</th>\n",
       "    </tr>\n",
       "  </thead>\n",
       "  <tbody>\n",
       "    <tr>\n",
       "      <th>0</th>\n",
       "      <td>C00004606</td>\n",
       "      <td>N</td>\n",
       "      <td>M4</td>\n",
       "      <td>P</td>\n",
       "      <td>15951124869</td>\n",
       "      <td>15</td>\n",
       "      <td>IND</td>\n",
       "      <td>ARNOLD, ROBERT</td>\n",
       "      <td>MCPHERSON</td>\n",
       "      <td>KS</td>\n",
       "      <td>...</td>\n",
       "      <td>SELF</td>\n",
       "      <td>OPTOMETRIST</td>\n",
       "      <td>3102015</td>\n",
       "      <td>1000</td>\n",
       "      <td>NaN</td>\n",
       "      <td>SA11AI.20747</td>\n",
       "      <td>1002259</td>\n",
       "      <td>NaN</td>\n",
       "      <td>NaN</td>\n",
       "      <td>4041320151241796098</td>\n",
       "    </tr>\n",
       "    <tr>\n",
       "      <th>1</th>\n",
       "      <td>C00004606</td>\n",
       "      <td>N</td>\n",
       "      <td>M4</td>\n",
       "      <td>P</td>\n",
       "      <td>15951124869</td>\n",
       "      <td>15</td>\n",
       "      <td>IND</td>\n",
       "      <td>BICKLE, DON</td>\n",
       "      <td>HAYS</td>\n",
       "      <td>KS</td>\n",
       "      <td>...</td>\n",
       "      <td>RETIRED</td>\n",
       "      <td>RETIRED</td>\n",
       "      <td>3302015</td>\n",
       "      <td>1000</td>\n",
       "      <td>NaN</td>\n",
       "      <td>SA11AI.20772</td>\n",
       "      <td>1002259</td>\n",
       "      <td>NaN</td>\n",
       "      <td>NaN</td>\n",
       "      <td>4041320151241796099</td>\n",
       "    </tr>\n",
       "    <tr>\n",
       "      <th>2</th>\n",
       "      <td>C00004606</td>\n",
       "      <td>N</td>\n",
       "      <td>M4</td>\n",
       "      <td>P</td>\n",
       "      <td>15951124869</td>\n",
       "      <td>15</td>\n",
       "      <td>IND</td>\n",
       "      <td>ROSSMAN, RICHARD</td>\n",
       "      <td>OLATHE</td>\n",
       "      <td>KS</td>\n",
       "      <td>...</td>\n",
       "      <td>CRAWFORD SALES COMPANY</td>\n",
       "      <td>BUSINESSMAN</td>\n",
       "      <td>3302015</td>\n",
       "      <td>250</td>\n",
       "      <td>NaN</td>\n",
       "      <td>SA11AI.20759</td>\n",
       "      <td>1002259</td>\n",
       "      <td>NaN</td>\n",
       "      <td>NaN</td>\n",
       "      <td>4041320151241796100</td>\n",
       "    </tr>\n",
       "    <tr>\n",
       "      <th>3</th>\n",
       "      <td>C00452383</td>\n",
       "      <td>N</td>\n",
       "      <td>M4</td>\n",
       "      <td>P</td>\n",
       "      <td>15951124897</td>\n",
       "      <td>15</td>\n",
       "      <td>IND</td>\n",
       "      <td>LLEWELLYN, CHARLES</td>\n",
       "      <td>FREDERICK</td>\n",
       "      <td>MD</td>\n",
       "      <td>...</td>\n",
       "      <td>NaN</td>\n",
       "      <td>NaN</td>\n",
       "      <td>3112015</td>\n",
       "      <td>500</td>\n",
       "      <td>NaN</td>\n",
       "      <td>SA11AI.25088</td>\n",
       "      <td>1002261</td>\n",
       "      <td>NaN</td>\n",
       "      <td>NaN</td>\n",
       "      <td>4041320151241796102</td>\n",
       "    </tr>\n",
       "    <tr>\n",
       "      <th>4</th>\n",
       "      <td>C00452383</td>\n",
       "      <td>N</td>\n",
       "      <td>M4</td>\n",
       "      <td>P</td>\n",
       "      <td>15951124897</td>\n",
       "      <td>15</td>\n",
       "      <td>IND</td>\n",
       "      <td>TYNES, TIMOTHY MR.</td>\n",
       "      <td>VERO BEACH</td>\n",
       "      <td>FL</td>\n",
       "      <td>...</td>\n",
       "      <td>NaN</td>\n",
       "      <td>NaN</td>\n",
       "      <td>3022015</td>\n",
       "      <td>250</td>\n",
       "      <td>NaN</td>\n",
       "      <td>SA11AI.25074</td>\n",
       "      <td>1002261</td>\n",
       "      <td>NaN</td>\n",
       "      <td>NaN</td>\n",
       "      <td>4041320151241796103</td>\n",
       "    </tr>\n",
       "  </tbody>\n",
       "</table>\n",
       "<p>5 rows × 21 columns</p>\n",
       "</div>"
      ],
      "text/plain": [
       "     CMTE_ID AMNDT_IND RPT_TP TRANSACTION_PGI    IMAGE_NUM TRANSACTION_TP  \\\n",
       "0  C00004606         N     M4               P  15951124869             15   \n",
       "1  C00004606         N     M4               P  15951124869             15   \n",
       "2  C00004606         N     M4               P  15951124869             15   \n",
       "3  C00452383         N     M4               P  15951124897             15   \n",
       "4  C00452383         N     M4               P  15951124897             15   \n",
       "\n",
       "  ENTITY_TP                NAME        CITY STATE         ...           \\\n",
       "0       IND      ARNOLD, ROBERT   MCPHERSON    KS         ...            \n",
       "1       IND         BICKLE, DON        HAYS    KS         ...            \n",
       "2       IND    ROSSMAN, RICHARD      OLATHE    KS         ...            \n",
       "3       IND  LLEWELLYN, CHARLES   FREDERICK    MD         ...            \n",
       "4       IND  TYNES, TIMOTHY MR.  VERO BEACH    FL         ...            \n",
       "\n",
       "                 EMPLOYER   OCCUPATION TRANSACTION_DT  TRANSACTION_AMT  \\\n",
       "0                    SELF  OPTOMETRIST        3102015             1000   \n",
       "1                 RETIRED      RETIRED        3302015             1000   \n",
       "2  CRAWFORD SALES COMPANY  BUSINESSMAN        3302015              250   \n",
       "3                     NaN          NaN        3112015              500   \n",
       "4                     NaN          NaN        3022015              250   \n",
       "\n",
       "   OTHER_ID       TRAN_ID FILE_NUM  MEMO_CD MEMO_TEXT               SUB_ID  \n",
       "0       NaN  SA11AI.20747  1002259      NaN       NaN  4041320151241796098  \n",
       "1       NaN  SA11AI.20772  1002259      NaN       NaN  4041320151241796099  \n",
       "2       NaN  SA11AI.20759  1002259      NaN       NaN  4041320151241796100  \n",
       "3       NaN  SA11AI.25088  1002261      NaN       NaN  4041320151241796102  \n",
       "4       NaN  SA11AI.25074  1002261      NaN       NaN  4041320151241796103  \n",
       "\n",
       "[5 rows x 21 columns]"
      ]
     },
     "execution_count": 116,
     "metadata": {},
     "output_type": "execute_result"
    }
   ],
   "source": [
    "df.head()"
   ]
  },
  {
   "cell_type": "code",
   "execution_count": 117,
   "metadata": {
    "collapsed": false
   },
   "outputs": [
    {
     "data": {
      "text/html": [
       "<div>\n",
       "<table border=\"1\" class=\"dataframe\">\n",
       "  <thead>\n",
       "    <tr style=\"text-align: right;\">\n",
       "      <th></th>\n",
       "      <th>CMTE_ID</th>\n",
       "      <th>CMTE_NM</th>\n",
       "      <th>TRES_NM</th>\n",
       "      <th>CMTE_ST1</th>\n",
       "      <th>CMTE_ST2</th>\n",
       "      <th>CMTE_CITY</th>\n",
       "      <th>CMTE_ST</th>\n",
       "      <th>CMTE_ZIP</th>\n",
       "      <th>CMTE_DSGN</th>\n",
       "      <th>CMTE_TP</th>\n",
       "      <th>CMTE_PTY_AFFILIATION</th>\n",
       "      <th>CMTE_FILING_FREQ</th>\n",
       "      <th>ORG_TP</th>\n",
       "      <th>CONNECTED_ORG_NM</th>\n",
       "      <th>CAND_ID</th>\n",
       "    </tr>\n",
       "  </thead>\n",
       "  <tbody>\n",
       "    <tr>\n",
       "      <th>0</th>\n",
       "      <td>C00000059</td>\n",
       "      <td>HALLMARK CARDS PAC</td>\n",
       "      <td>DEAN RODENBOUGH</td>\n",
       "      <td>2501 MCGEE</td>\n",
       "      <td>MD#288</td>\n",
       "      <td>KANSAS CITY</td>\n",
       "      <td>MO</td>\n",
       "      <td>64108</td>\n",
       "      <td>U</td>\n",
       "      <td>Q</td>\n",
       "      <td>UNK</td>\n",
       "      <td>M</td>\n",
       "      <td>C</td>\n",
       "      <td>NaN</td>\n",
       "      <td>NaN</td>\n",
       "    </tr>\n",
       "    <tr>\n",
       "      <th>1</th>\n",
       "      <td>C00000422</td>\n",
       "      <td>AMERICAN MEDICAL ASSOCIATION POLITICAL ACTION ...</td>\n",
       "      <td>WALKER, KEVIN</td>\n",
       "      <td>25 MASSACHUSETTS AVE, NW</td>\n",
       "      <td>SUITE 600</td>\n",
       "      <td>WASHINGTON</td>\n",
       "      <td>DC</td>\n",
       "      <td>20001</td>\n",
       "      <td>B</td>\n",
       "      <td>Q</td>\n",
       "      <td>NaN</td>\n",
       "      <td>M</td>\n",
       "      <td>M</td>\n",
       "      <td>AMERICAN MEDICAL ASSOCIATION</td>\n",
       "      <td>NaN</td>\n",
       "    </tr>\n",
       "    <tr>\n",
       "      <th>2</th>\n",
       "      <td>C00000489</td>\n",
       "      <td>D R I V E POLITICAL FUND CHAPTER 886</td>\n",
       "      <td>TOM RITTER</td>\n",
       "      <td>3528 W RENO</td>\n",
       "      <td>NaN</td>\n",
       "      <td>OKLAHOMA CITY</td>\n",
       "      <td>OK</td>\n",
       "      <td>73107</td>\n",
       "      <td>U</td>\n",
       "      <td>N</td>\n",
       "      <td>NaN</td>\n",
       "      <td>Q</td>\n",
       "      <td>L</td>\n",
       "      <td>TEAMSTERS LOCAL UNION 886</td>\n",
       "      <td>NaN</td>\n",
       "    </tr>\n",
       "    <tr>\n",
       "      <th>3</th>\n",
       "      <td>C00000547</td>\n",
       "      <td>KANSAS MEDICAL SOCIETY POLITICAL ACTION COMMITTEE</td>\n",
       "      <td>C. RICHARD BONEBRAKE, M.D.</td>\n",
       "      <td>623 SW 10TH AVE</td>\n",
       "      <td>NaN</td>\n",
       "      <td>TOPEKA</td>\n",
       "      <td>KS</td>\n",
       "      <td>66612</td>\n",
       "      <td>U</td>\n",
       "      <td>Q</td>\n",
       "      <td>UNK</td>\n",
       "      <td>Q</td>\n",
       "      <td>T</td>\n",
       "      <td>NaN</td>\n",
       "      <td>NaN</td>\n",
       "    </tr>\n",
       "    <tr>\n",
       "      <th>4</th>\n",
       "      <td>C00000638</td>\n",
       "      <td>INDIANA STATE MEDICAL ASSOCIATION POLITICAL AC...</td>\n",
       "      <td>VIDYA KORA, M.D.</td>\n",
       "      <td>322 CANAL WALK, CANAL LEVEL</td>\n",
       "      <td>NaN</td>\n",
       "      <td>INDIANAPOLIS</td>\n",
       "      <td>IN</td>\n",
       "      <td>46202</td>\n",
       "      <td>U</td>\n",
       "      <td>Q</td>\n",
       "      <td>NaN</td>\n",
       "      <td>Q</td>\n",
       "      <td>M</td>\n",
       "      <td>NaN</td>\n",
       "      <td>NaN</td>\n",
       "    </tr>\n",
       "  </tbody>\n",
       "</table>\n",
       "</div>"
      ],
      "text/plain": [
       "     CMTE_ID                                            CMTE_NM  \\\n",
       "0  C00000059                                 HALLMARK CARDS PAC   \n",
       "1  C00000422  AMERICAN MEDICAL ASSOCIATION POLITICAL ACTION ...   \n",
       "2  C00000489               D R I V E POLITICAL FUND CHAPTER 886   \n",
       "3  C00000547  KANSAS MEDICAL SOCIETY POLITICAL ACTION COMMITTEE   \n",
       "4  C00000638  INDIANA STATE MEDICAL ASSOCIATION POLITICAL AC...   \n",
       "\n",
       "                      TRES_NM                     CMTE_ST1   CMTE_ST2  \\\n",
       "0             DEAN RODENBOUGH                   2501 MCGEE     MD#288   \n",
       "1               WALKER, KEVIN     25 MASSACHUSETTS AVE, NW  SUITE 600   \n",
       "2                  TOM RITTER                  3528 W RENO        NaN   \n",
       "3  C. RICHARD BONEBRAKE, M.D.              623 SW 10TH AVE        NaN   \n",
       "4            VIDYA KORA, M.D.  322 CANAL WALK, CANAL LEVEL        NaN   \n",
       "\n",
       "       CMTE_CITY CMTE_ST  CMTE_ZIP CMTE_DSGN CMTE_TP CMTE_PTY_AFFILIATION  \\\n",
       "0    KANSAS CITY      MO     64108         U       Q                  UNK   \n",
       "1     WASHINGTON      DC     20001         B       Q                  NaN   \n",
       "2  OKLAHOMA CITY      OK     73107         U       N                  NaN   \n",
       "3         TOPEKA      KS     66612         U       Q                  UNK   \n",
       "4   INDIANAPOLIS      IN     46202         U       Q                  NaN   \n",
       "\n",
       "  CMTE_FILING_FREQ ORG_TP              CONNECTED_ORG_NM CAND_ID  \n",
       "0                M      C                           NaN     NaN  \n",
       "1                M      M  AMERICAN MEDICAL ASSOCIATION     NaN  \n",
       "2                Q      L     TEAMSTERS LOCAL UNION 886     NaN  \n",
       "3                Q      T                           NaN     NaN  \n",
       "4                Q      M                           NaN     NaN  "
      ]
     },
     "execution_count": 117,
     "metadata": {},
     "output_type": "execute_result"
    }
   ],
   "source": [
    "cm.head()"
   ]
  },
  {
   "cell_type": "markdown",
   "metadata": {},
   "source": [
    "Problem: Commitee names are not in the table we're interested in.\n",
    "\n",
    "Solution: join `df` to `cm`.\n",
    "\n",
    "Tools: slicing and `pd.merge`"
   ]
  },
  {
   "cell_type": "code",
   "execution_count": 119,
   "metadata": {
    "collapsed": false
   },
   "outputs": [
    {
     "data": {
      "text/html": [
       "<div>\n",
       "<table border=\"1\" class=\"dataframe\">\n",
       "  <thead>\n",
       "    <tr style=\"text-align: right;\">\n",
       "      <th></th>\n",
       "      <th>CMTE_ID</th>\n",
       "      <th>CMTE_NM</th>\n",
       "    </tr>\n",
       "  </thead>\n",
       "  <tbody>\n",
       "    <tr>\n",
       "      <th>0</th>\n",
       "      <td>C00000059</td>\n",
       "      <td>HALLMARK CARDS PAC</td>\n",
       "    </tr>\n",
       "    <tr>\n",
       "      <th>1</th>\n",
       "      <td>C00000422</td>\n",
       "      <td>AMERICAN MEDICAL ASSOCIATION POLITICAL ACTION ...</td>\n",
       "    </tr>\n",
       "    <tr>\n",
       "      <th>2</th>\n",
       "      <td>C00000489</td>\n",
       "      <td>D R I V E POLITICAL FUND CHAPTER 886</td>\n",
       "    </tr>\n",
       "    <tr>\n",
       "      <th>3</th>\n",
       "      <td>C00000547</td>\n",
       "      <td>KANSAS MEDICAL SOCIETY POLITICAL ACTION COMMITTEE</td>\n",
       "    </tr>\n",
       "    <tr>\n",
       "      <th>4</th>\n",
       "      <td>C00000638</td>\n",
       "      <td>INDIANA STATE MEDICAL ASSOCIATION POLITICAL AC...</td>\n",
       "    </tr>\n",
       "    <tr>\n",
       "      <th>...</th>\n",
       "      <td>...</td>\n",
       "      <td>...</td>\n",
       "    </tr>\n",
       "    <tr>\n",
       "      <th>12070</th>\n",
       "      <td>C90015363</td>\n",
       "      <td>LONG ISLAND LAW ENFORCEMENT FOUNDATION</td>\n",
       "    </tr>\n",
       "    <tr>\n",
       "      <th>12071</th>\n",
       "      <td>C90015371</td>\n",
       "      <td>ENVIRONMENT FLORIDA</td>\n",
       "    </tr>\n",
       "    <tr>\n",
       "      <th>12072</th>\n",
       "      <td>C90015389</td>\n",
       "      <td>DOUG MAGEE FOR CONGRESS COMMITTEE</td>\n",
       "    </tr>\n",
       "    <tr>\n",
       "      <th>12073</th>\n",
       "      <td>C99002396</td>\n",
       "      <td>AMERICAN POLITICAL ACTION COMMITTEE</td>\n",
       "    </tr>\n",
       "    <tr>\n",
       "      <th>12074</th>\n",
       "      <td>C99003428</td>\n",
       "      <td>THIRD DISTRICT REPUBLICAN PARTY</td>\n",
       "    </tr>\n",
       "  </tbody>\n",
       "</table>\n",
       "<p>12075 rows × 2 columns</p>\n",
       "</div>"
      ],
      "text/plain": [
       "         CMTE_ID                                            CMTE_NM\n",
       "0      C00000059                                 HALLMARK CARDS PAC\n",
       "1      C00000422  AMERICAN MEDICAL ASSOCIATION POLITICAL ACTION ...\n",
       "2      C00000489               D R I V E POLITICAL FUND CHAPTER 886\n",
       "3      C00000547  KANSAS MEDICAL SOCIETY POLITICAL ACTION COMMITTEE\n",
       "4      C00000638  INDIANA STATE MEDICAL ASSOCIATION POLITICAL AC...\n",
       "...          ...                                                ...\n",
       "12070  C90015363             LONG ISLAND LAW ENFORCEMENT FOUNDATION\n",
       "12071  C90015371                                ENVIRONMENT FLORIDA\n",
       "12072  C90015389                  DOUG MAGEE FOR CONGRESS COMMITTEE\n",
       "12073  C99002396                AMERICAN POLITICAL ACTION COMMITTEE\n",
       "12074  C99003428                    THIRD DISTRICT REPUBLICAN PARTY\n",
       "\n",
       "[12075 rows x 2 columns]"
      ]
     },
     "execution_count": 119,
     "metadata": {},
     "output_type": "execute_result"
    }
   ],
   "source": [
    "# [] used for two things here\n",
    "# inner: list of column names ['CMTE_ID', 'CMTE_NM']\n",
    "# outter: sliceing (thru __getitem__) like x[0]\n",
    "\n",
    "cm[['CMTE_ID', 'CMTE_NM']]"
   ]
  },
  {
   "cell_type": "code",
   "execution_count": 170,
   "metadata": {
    "collapsed": false
   },
   "outputs": [],
   "source": [
    "df = pd.merge(df, cm[['CMTE_ID', 'CMTE_NM']])"
   ]
  },
  {
   "cell_type": "code",
   "execution_count": 127,
   "metadata": {
    "collapsed": false
   },
   "outputs": [
    {
     "name": "stdout",
     "output_type": "stream",
     "text": [
      "ACTBLUE                                                      18989\n",
      "DEMOCRATIC CONGRESSIONAL CAMPAIGN COMMITTEE                  17114\n",
      "REPUBLICAN NATIONAL COMMITTEE                                 8877\n",
      "DNC SERVICES CORPORATION/DEMOCRATIC NATIONAL COMMITTEE        7121\n",
      "DEMOCRATIC SENATORIAL CAMPAIGN COMMITTEE                      6494\n",
      "NRSC                                                          2919\n",
      "EMILY'S LIST                                                  2885\n",
      "NRCC                                                          2388\n",
      "ERNST & YOUNG POLITICAL ACTION COMMITTEE                      2355\n",
      "PRICEWATERHOUSECOOPERS POLITICAL ACTION COMMITTEE I           2209\n",
      "CRUZ FOR PRESIDENT                                            1843\n",
      "KAMALA HARRIS FOR SENATE                                      1469\n",
      "OAKLAND COUNTY DEMOCRATIC PARTY                               1392\n",
      "PORTMAN FOR SENATE COMMITTEE                                  1382\n",
      "AMERICAN CRYSTAL SUGAR COMPANY POLITICAL ACTION COMMITTEE     1307\n",
      "FRIENDS OF JOHN MCCAIN INC                                    1292\n",
      "FRIENDS OF SCHUMER                                            1291\n",
      "VOTESANE PAC                                                  1235\n",
      "FRIENDS OF PAT TOOMEY                                         1152\n",
      "BENNET FOR COLORADO                                           1096\n",
      "dtype: int64\n"
     ]
    }
   ],
   "source": [
    "with pd.option_context('display.max_rows', 20):\n",
    "    print(df['CMTE_NM'].value_counts().head(20))"
   ]
  },
  {
   "cell_type": "markdown",
   "metadata": {},
   "source": [
    "Talk about `Index`es"
   ]
  },
  {
   "cell_type": "code",
   "execution_count": 144,
   "metadata": {
    "collapsed": false
   },
   "outputs": [
    {
     "data": {
      "text/plain": [
       "CRUZ FOR PRESIDENT                                          1843\n",
       "MARCO RUBIO FOR PRESIDENT                                    232\n",
       "HARLEY BROWN FOR PRESIDENT CAMPAIGN COMMITTEE                 17\n",
       "KERRY BOWERS FOR PRESIDENT COMMITTEE                           9\n",
       "COMMITTEE TO ELECT KARIN L SWANSON FOR PRESIDENT               2\n",
       "SHOS MUSIC COMMITTEE TO ELECT SHO MUHAMMAD FOR PRESIDENT       2\n",
       "MESPLAY FOR PRESIDENT                                          1\n",
       "CHRISTOPHER HILL FOR PRESIDENT                                 1\n",
       "WILLIE CARTER FOR PRESIDENT COMMITTEE                          1\n",
       "dtype: int64"
      ]
     },
     "execution_count": 144,
     "metadata": {},
     "output_type": "execute_result"
    }
   ],
   "source": [
    "counts = df.CMTE_NM.value_counts()\n",
    "counts[counts.index.str.contains('president', case=False)]"
   ]
  },
  {
   "cell_type": "code",
   "execution_count": 284,
   "metadata": {
    "collapsed": false
   },
   "outputs": [
    {
     "data": {
      "text/plain": [
       "count    205519.000000\n",
       "mean       1024.927004\n",
       "std        4580.138090\n",
       "min     -226800.000000\n",
       "25%         250.000000\n",
       "50%         384.000000\n",
       "75%        1000.000000\n",
       "max      716585.000000\n",
       "Name: TRANSACTION_AMT, dtype: float64"
      ]
     },
     "execution_count": 284,
     "metadata": {},
     "output_type": "execute_result"
    }
   ],
   "source": [
    "df.TRANSACTION_AMT.describe()"
   ]
  },
  {
   "cell_type": "code",
   "execution_count": 291,
   "metadata": {
    "collapsed": false
   },
   "outputs": [],
   "source": [
    "df = df[df.TRANSACTION_AMT > 200 ]"
   ]
  },
  {
   "cell_type": "code",
   "execution_count": 300,
   "metadata": {
    "collapsed": false
   },
   "outputs": [
    {
     "data": {
      "image/png": "[encoded data removed]",
      "text/plain": [
       "<matplotlib.figure.Figure at 0x1470e0f60>"
      ]
     },
     "metadata": {},
     "output_type": "display_data"
    }
   ],
   "source": [
    "ax = sns.distplot(np.log(df.TRANSACTION_AMT))\n",
    "# ax.set_xticklabels([np.exp(float(x)) for x in ax.get_xticklabels()])"
   ]
  },
  {
   "cell_type": "code",
   "execution_count": 313,
   "metadata": {
    "collapsed": false
   },
   "outputs": [],
   "source": [
    "raised = df.groupby(\"CMTE_NM\").TRANSACTION_AMT.agg(['mean', 'count', 'sum'])"
   ]
  },
  {
   "cell_type": "code",
   "execution_count": 314,
   "metadata": {
    "collapsed": false
   },
   "outputs": [
    {
     "data": {
      "text/html": [
       "<div>\n",
       "<table border=\"1\" class=\"dataframe\">\n",
       "  <thead>\n",
       "    <tr style=\"text-align: right;\">\n",
       "      <th></th>\n",
       "      <th>mean</th>\n",
       "      <th>count</th>\n",
       "      <th>sum</th>\n",
       "    </tr>\n",
       "    <tr>\n",
       "      <th>CMTE_NM</th>\n",
       "      <th></th>\n",
       "      <th></th>\n",
       "      <th></th>\n",
       "    </tr>\n",
       "  </thead>\n",
       "  <tbody>\n",
       "    <tr>\n",
       "      <th>CARLY FOR CALIFORNIA INC</th>\n",
       "      <td>487410.000</td>\n",
       "      <td>1</td>\n",
       "      <td>487410</td>\n",
       "    </tr>\n",
       "    <tr>\n",
       "      <th>RENFROE FOR CONGRESS</th>\n",
       "      <td>252584.000</td>\n",
       "      <td>1</td>\n",
       "      <td>252584</td>\n",
       "    </tr>\n",
       "    <tr>\n",
       "      <th>COOPERATIVE OF AMERICAN PHYSICIANS IE COMMITTEE</th>\n",
       "      <td>167540.625</td>\n",
       "      <td>8</td>\n",
       "      <td>1340325</td>\n",
       "    </tr>\n",
       "    <tr>\n",
       "      <th>ELISABETH JENSEN FOR CONGRESS</th>\n",
       "      <td>98142.000</td>\n",
       "      <td>1</td>\n",
       "      <td>98142</td>\n",
       "    </tr>\n",
       "    <tr>\n",
       "      <th>NEW REPUBLICAN.ORG</th>\n",
       "      <td>80000.000</td>\n",
       "      <td>4</td>\n",
       "      <td>320000</td>\n",
       "    </tr>\n",
       "    <tr>\n",
       "      <th>...</th>\n",
       "      <td>...</td>\n",
       "      <td>...</td>\n",
       "      <td>...</td>\n",
       "    </tr>\n",
       "    <tr>\n",
       "      <th>DEERE &amp; COMPANY PAC (AKA JOHN DEERE PAC)</th>\n",
       "      <td>208.000</td>\n",
       "      <td>96</td>\n",
       "      <td>19968</td>\n",
       "    </tr>\n",
       "    <tr>\n",
       "      <th>PHILADELPHIA FEDERAL CREDIT UNION PAC (PFCU-PAC)</th>\n",
       "      <td>206.000</td>\n",
       "      <td>1</td>\n",
       "      <td>206</td>\n",
       "    </tr>\n",
       "    <tr>\n",
       "      <th>EATON CORPORATION PUBLIC POLICY ASSOCIATION</th>\n",
       "      <td>206.000</td>\n",
       "      <td>6</td>\n",
       "      <td>1236</td>\n",
       "    </tr>\n",
       "    <tr>\n",
       "      <th>TECO ENERGY INC EMPLOYEES' PAC</th>\n",
       "      <td>205.500</td>\n",
       "      <td>12</td>\n",
       "      <td>2466</td>\n",
       "    </tr>\n",
       "    <tr>\n",
       "      <th>EMD SERONO, INC. POLITICAL ACTION COMMITTEE</th>\n",
       "      <td>205.000</td>\n",
       "      <td>1</td>\n",
       "      <td>205</td>\n",
       "    </tr>\n",
       "  </tbody>\n",
       "</table>\n",
       "<p>2001 rows × 3 columns</p>\n",
       "</div>"
      ],
      "text/plain": [
       "                                                        mean  count      sum\n",
       "CMTE_NM                                                                     \n",
       "CARLY FOR CALIFORNIA INC                          487410.000      1   487410\n",
       "RENFROE FOR CONGRESS                              252584.000      1   252584\n",
       "COOPERATIVE OF AMERICAN PHYSICIANS IE COMMITTEE   167540.625      8  1340325\n",
       "ELISABETH JENSEN FOR CONGRESS                      98142.000      1    98142\n",
       "NEW REPUBLICAN.ORG                                 80000.000      4   320000\n",
       "...                                                      ...    ...      ...\n",
       "DEERE & COMPANY PAC (AKA JOHN DEERE PAC)             208.000     96    19968\n",
       "PHILADELPHIA FEDERAL CREDIT UNION PAC (PFCU-PAC)     206.000      1      206\n",
       "EATON CORPORATION PUBLIC POLICY ASSOCIATION          206.000      6     1236\n",
       "TECO ENERGY INC EMPLOYEES' PAC                       205.500     12     2466\n",
       "EMD SERONO, INC. POLITICAL ACTION COMMITTEE          205.000      1      205\n",
       "\n",
       "[2001 rows x 3 columns]"
      ]
     },
     "execution_count": 314,
     "metadata": {},
     "output_type": "execute_result"
    }
   ],
   "source": [
    "raised.sort('mean', ascending=False)"
   ]
  },
  {
   "cell_type": "code",
   "execution_count": 315,
   "metadata": {
    "collapsed": false
   },
   "outputs": [
    {
     "data": {
      "text/html": [
       "<div>\n",
       "<table border=\"1\" class=\"dataframe\">\n",
       "  <thead>\n",
       "    <tr style=\"text-align: right;\">\n",
       "      <th></th>\n",
       "      <th>mean</th>\n",
       "      <th>count</th>\n",
       "      <th>sum</th>\n",
       "    </tr>\n",
       "    <tr>\n",
       "      <th>CMTE_NM</th>\n",
       "      <th></th>\n",
       "      <th></th>\n",
       "      <th></th>\n",
       "    </tr>\n",
       "  </thead>\n",
       "  <tbody>\n",
       "    <tr>\n",
       "      <th>ACTBLUE</th>\n",
       "      <td>995.304199</td>\n",
       "      <td>9359</td>\n",
       "      <td>9315052</td>\n",
       "    </tr>\n",
       "    <tr>\n",
       "      <th>REPUBLICAN NATIONAL COMMITTEE</th>\n",
       "      <td>2158.789380</td>\n",
       "      <td>7891</td>\n",
       "      <td>17035007</td>\n",
       "    </tr>\n",
       "    <tr>\n",
       "      <th>DNC SERVICES CORPORATION/DEMOCRATIC NATIONAL COMMITTEE</th>\n",
       "      <td>1250.323990</td>\n",
       "      <td>6065</td>\n",
       "      <td>7583215</td>\n",
       "    </tr>\n",
       "    <tr>\n",
       "      <th>DEMOCRATIC CONGRESSIONAL CAMPAIGN COMMITTEE</th>\n",
       "      <td>1445.491882</td>\n",
       "      <td>4188</td>\n",
       "      <td>6053720</td>\n",
       "    </tr>\n",
       "    <tr>\n",
       "      <th>DEMOCRATIC SENATORIAL CAMPAIGN COMMITTEE</th>\n",
       "      <td>1906.126665</td>\n",
       "      <td>3979</td>\n",
       "      <td>7584478</td>\n",
       "    </tr>\n",
       "    <tr>\n",
       "      <th>...</th>\n",
       "      <td>...</td>\n",
       "      <td>...</td>\n",
       "      <td>...</td>\n",
       "    </tr>\n",
       "    <tr>\n",
       "      <th>FRIENDS OF RENTERIA</th>\n",
       "      <td>1000.000000</td>\n",
       "      <td>1</td>\n",
       "      <td>1000</td>\n",
       "    </tr>\n",
       "    <tr>\n",
       "      <th>FRIENDS OF RICH NUGENT</th>\n",
       "      <td>250.000000</td>\n",
       "      <td>1</td>\n",
       "      <td>250</td>\n",
       "    </tr>\n",
       "    <tr>\n",
       "      <th>SECURE PAC</th>\n",
       "      <td>5000.000000</td>\n",
       "      <td>1</td>\n",
       "      <td>5000</td>\n",
       "    </tr>\n",
       "    <tr>\n",
       "      <th>FRIENDS OF SESSIONS SENATE COMMITTEE INC</th>\n",
       "      <td>500.000000</td>\n",
       "      <td>1</td>\n",
       "      <td>500</td>\n",
       "    </tr>\n",
       "    <tr>\n",
       "      <th>18-29 PAC</th>\n",
       "      <td>5000.000000</td>\n",
       "      <td>1</td>\n",
       "      <td>5000</td>\n",
       "    </tr>\n",
       "  </tbody>\n",
       "</table>\n",
       "<p>2001 rows × 3 columns</p>\n",
       "</div>"
      ],
      "text/plain": [
       "                                                           mean  count  \\\n",
       "CMTE_NM                                                                  \n",
       "ACTBLUE                                              995.304199   9359   \n",
       "REPUBLICAN NATIONAL COMMITTEE                       2158.789380   7891   \n",
       "DNC SERVICES CORPORATION/DEMOCRATIC NATIONAL CO...  1250.323990   6065   \n",
       "DEMOCRATIC CONGRESSIONAL CAMPAIGN COMMITTEE         1445.491882   4188   \n",
       "DEMOCRATIC SENATORIAL CAMPAIGN COMMITTEE            1906.126665   3979   \n",
       "...                                                         ...    ...   \n",
       "FRIENDS OF RENTERIA                                 1000.000000      1   \n",
       "FRIENDS OF RICH NUGENT                               250.000000      1   \n",
       "SECURE PAC                                          5000.000000      1   \n",
       "FRIENDS OF SESSIONS SENATE COMMITTEE INC             500.000000      1   \n",
       "18-29 PAC                                           5000.000000      1   \n",
       "\n",
       "                                                         sum  \n",
       "CMTE_NM                                                       \n",
       "ACTBLUE                                              9315052  \n",
       "REPUBLICAN NATIONAL COMMITTEE                       17035007  \n",
       "DNC SERVICES CORPORATION/DEMOCRATIC NATIONAL CO...   7583215  \n",
       "DEMOCRATIC CONGRESSIONAL CAMPAIGN COMMITTEE          6053720  \n",
       "DEMOCRATIC SENATORIAL CAMPAIGN COMMITTEE             7584478  \n",
       "...                                                      ...  \n",
       "FRIENDS OF RENTERIA                                     1000  \n",
       "FRIENDS OF RICH NUGENT                                   250  \n",
       "SECURE PAC                                              5000  \n",
       "FRIENDS OF SESSIONS SENATE COMMITTEE INC                 500  \n",
       "18-29 PAC                                               5000  \n",
       "\n",
       "[2001 rows x 3 columns]"
      ]
     },
     "execution_count": 315,
     "metadata": {},
     "output_type": "execute_result"
    }
   ],
   "source": [
    "raised.sort('count', ascending=False)"
   ]
  },
  {
   "cell_type": "code",
   "execution_count": 319,
   "metadata": {
    "collapsed": false
   },
   "outputs": [
    {
     "data": {
      "text/plain": [
       "<matplotlib.axes._subplots.AxesSubplot at 0x13f208eb8>"
      ]
     },
     "execution_count": 319,
     "metadata": {},
     "output_type": "execute_result"
    },
    {
     "data": {
      "image/png": "[encoded data removed]",
      "text/plain": [
       "<matplotlib.figure.Figure at 0x14bd088d0>"
      ]
     },
     "metadata": {},
     "output_type": "display_data"
    }
   ],
   "source": [
    "raised.sort('sum', ascending=False).head(50).plot(kind='scatter', x='count', y='mean')"
   ]
  },
  {
   "cell_type": "code",
   "execution_count": 324,
   "metadata": {
    "collapsed": false
   },
   "outputs": [
    {
     "data": {
      "text/plain": [
       "<matplotlib.axes._subplots.AxesSubplot at 0x14db78278>"
      ]
     },
     "execution_count": 324,
     "metadata": {},
     "output_type": "execute_result"
    },
    {
     "data": {
      "image/png": "[encoded data removed]",
      "text/plain": [
       "<matplotlib.figure.Figure at 0x13d0945c0>"
      ]
     },
     "metadata": {},
     "output_type": "display_data"
    }
   ],
   "source": [
    "raised[raised['count'] > 1000].plot(kind='scatter', x='count', y='mean')"
   ]
  },
  {
   "cell_type": "code",
   "execution_count": 328,
   "metadata": {
    "collapsed": false
   },
   "outputs": [
    {
     "data": {
      "text/plain": [
       "N    155278\n",
       "A     15517\n",
       "T        99\n",
       "dtype: int64"
      ]
     },
     "execution_count": 328,
     "metadata": {},
     "output_type": "execute_result"
    }
   ],
   "source": [
    "df.AMNDT_IND.value_counts()"
   ]
  },
  {
   "cell_type": "code",
   "execution_count": 290,
   "metadata": {
    "collapsed": false
   },
   "outputs": [
    {
     "data": {
      "text/plain": [
       "CMTE_ID                              C00508804\n",
       "AMNDT_IND                                    N\n",
       "RPT_TP                                      Q1\n",
       "TRANSACTION_PGI                              P\n",
       "IMAGE_NUM                          15951163773\n",
       "                              ...             \n",
       "MEMO_CD                                      X\n",
       "MEMO_TEXT                                  NaN\n",
       "SUB_ID                     4041720151242009788\n",
       "CMTE_NM            KYRSTEN SINEMA FOR CONGRESS\n",
       "date                       2015-01-15 00:02:00\n",
       "Name: 2855, dtype: object"
      ]
     },
     "execution_count": 290,
     "metadata": {},
     "output_type": "execute_result"
    }
   ],
   "source": [
    "df.loc[df.TRANSACTION_AMT.idxmin()]"
   ]
  },
  {
   "cell_type": "code",
   "execution_count": 289,
   "metadata": {
    "collapsed": false
   },
   "outputs": [
    {
     "data": {
      "text/plain": [
       "count    196266.000000\n",
       "mean       1098.383638\n",
       "std        4628.231211\n",
       "min           1.000000\n",
       "25%         250.000000\n",
       "50%         416.000000\n",
       "75%        1000.000000\n",
       "max      716585.000000\n",
       "Name: TRANSACTION_AMT, dtype: float64"
      ]
     },
     "execution_count": 289,
     "metadata": {},
     "output_type": "execute_result"
    }
   ],
   "source": [
    "df.TRANSACTION_AMT.describe()"
   ]
  },
  {
   "cell_type": "code",
   "execution_count": 362,
   "metadata": {
    "collapsed": false
   },
   "outputs": [
    {
     "data": {
      "text/plain": [
       "C00576769    2\n",
       "C00213645    1\n",
       "C90009846    1\n",
       "C00574962    1\n",
       "C00555227    1\n",
       "            ..\n",
       "C00503581    1\n",
       "C00545004    1\n",
       "C00283135    1\n",
       "C00370643    1\n",
       "C00473025    1\n",
       "dtype: int64"
      ]
     },
     "execution_count": 362,
     "metadata": {},
     "output_type": "execute_result"
    }
   ],
   "source": [
    "cm[['CMTE_ID', \"CMTE_NM\"]].CMTE_ID.value_counts()"
   ]
  },
  {
   "cell_type": "code",
   "execution_count": 367,
   "metadata": {
    "collapsed": false
   },
   "outputs": [
    {
     "name": "stdout",
     "output_type": "stream",
     "text": [
      "<class 'pandas.core.frame.DataFrame'>\n",
      "Int64Index: 205519 entries, 0 to 205518\n",
      "Data columns (total 21 columns):\n",
      "CMTE_ID            205519 non-null object\n",
      "AMNDT_IND          205519 non-null object\n",
      "RPT_TP             205519 non-null object\n",
      "TRANSACTION_PGI    205444 non-null object\n",
      "IMAGE_NUM          205519 non-null int64\n",
      "TRANSACTION_TP     205519 non-null object\n",
      "ENTITY_TP          205365 non-null object\n",
      "NAME               205510 non-null object\n",
      "CITY               205373 non-null object\n",
      "STATE              205151 non-null object\n",
      "ZIP_CODE           204899 non-null object\n",
      "EMPLOYER           165614 non-null object\n",
      "OCCUPATION         171342 non-null object\n",
      "TRANSACTION_DT     205518 non-null float64\n",
      "TRANSACTION_AMT    205519 non-null int64\n",
      "OTHER_ID           29908 non-null object\n",
      "TRAN_ID            205507 non-null object\n",
      "FILE_NUM           205519 non-null int64\n",
      "MEMO_CD            5471 non-null object\n",
      "MEMO_TEXT          48980 non-null object\n",
      "SUB_ID             205519 non-null int64\n",
      "dtypes: float64(1), int64(4), object(16)\n",
      "memory usage: 34.5+ MB\n"
     ]
    }
   ],
   "source": [
    "df.info()"
   ]
  },
  {
   "cell_type": "code",
   "execution_count": null,
   "metadata": {
    "collapsed": true
   },
   "outputs": [],
   "source": [
    "pd.merge(cn)"
   ]
  },
  {
   "cell_type": "code",
   "execution_count": 371,
   "metadata": {
    "collapsed": false
   },
   "outputs": [
    {
     "name": "stdout",
     "output_type": "stream",
     "text": [
      "<class 'pandas.core.frame.DataFrame'>\n",
      "Int64Index: 3961 entries, 0 to 3960\n",
      "Data columns (total 15 columns):\n",
      "CAND_ID                 3961 non-null object\n",
      "CAND_NAME               3960 non-null object\n",
      "CAND_PTY_AFFILIATION    3956 non-null object\n",
      "CAND_ELECTION_YR        3961 non-null int64\n",
      "CAND_OFFICE_ST          3961 non-null object\n",
      "CAND_OFFICE             3961 non-null object\n",
      "CAND_OFFICE_DISTRICT    3949 non-null float64\n",
      "CAND_ICI                3875 non-null object\n",
      "CAND_STATUS             3956 non-null object\n",
      "CAND_PCC                3696 non-null object\n",
      "CAND_ST1                3868 non-null object\n",
      "CAND_ST2                125 non-null object\n",
      "CAND_CITY               3957 non-null object\n",
      "CAND_ST                 3896 non-null object\n",
      "CAND_ZIP                3866 non-null float64\n",
      "dtypes: float64(2), int64(1), object(12)\n",
      "memory usage: 495.1+ KB\n"
     ]
    }
   ],
   "source": [
    "cn.info()"
   ]
  },
  {
   "cell_type": "code",
   "execution_count": 415,
   "metadata": {
    "collapsed": false
   },
   "outputs": [
    {
     "data": {
      "text/plain": [
       "0       AK\n",
       "1       AL\n",
       "2       AL\n",
       "3       AL\n",
       "4       AL\n",
       "        ..\n",
       "3956    VT\n",
       "3957    WA\n",
       "3958    WA\n",
       "3959    WI\n",
       "3960    WI\n",
       "Name: CAND_ST, dtype: object"
      ]
     },
     "execution_count": 415,
     "metadata": {},
     "output_type": "execute_result"
    }
   ],
   "source": [
    "cn.CAND_ST"
   ]
  },
  {
   "cell_type": "code",
   "execution_count": 418,
   "metadata": {
    "collapsed": false
   },
   "outputs": [
    {
     "data": {
      "text/html": [
       "<div>\n",
       "<table border=\"1\" class=\"dataframe\">\n",
       "  <thead>\n",
       "    <tr style=\"text-align: right;\">\n",
       "      <th></th>\n",
       "      <th>TRANSACTION_PGI</th>\n",
       "      <th>ENTITY_TP</th>\n",
       "      <th>NAME</th>\n",
       "      <th>EMPLOYER</th>\n",
       "      <th>OCCUPATION</th>\n",
       "      <th>TRANSACTION_DT</th>\n",
       "      <th>TRANSACTION_AMT</th>\n",
       "      <th>CAND_NAME</th>\n",
       "      <th>CAND_PTY_AFFILIATION</th>\n",
       "      <th>CAND_OFFICE</th>\n",
       "      <th>CAND_ST</th>\n",
       "    </tr>\n",
       "  </thead>\n",
       "  <tbody>\n",
       "    <tr>\n",
       "      <th>0</th>\n",
       "      <td>P</td>\n",
       "      <td>COM</td>\n",
       "      <td>ADAM SCHIFF FOR CONGRESS</td>\n",
       "      <td>NaN</td>\n",
       "      <td>NaN</td>\n",
       "      <td>3062015</td>\n",
       "      <td>1000</td>\n",
       "      <td>SCHIFF, ADAM</td>\n",
       "      <td>DEM</td>\n",
       "      <td>H</td>\n",
       "      <td>CA</td>\n",
       "    </tr>\n",
       "    <tr>\n",
       "      <th>1</th>\n",
       "      <td>P</td>\n",
       "      <td>ORG</td>\n",
       "      <td>SCHIFF FOR CONGRESS</td>\n",
       "      <td>NaN</td>\n",
       "      <td>NaN</td>\n",
       "      <td>3102015</td>\n",
       "      <td>1000</td>\n",
       "      <td>SCHIFF, ADAM</td>\n",
       "      <td>DEM</td>\n",
       "      <td>H</td>\n",
       "      <td>CA</td>\n",
       "    </tr>\n",
       "    <tr>\n",
       "      <th>2</th>\n",
       "      <td>P</td>\n",
       "      <td>CCM</td>\n",
       "      <td>SCHIFF FOR CONGRESS</td>\n",
       "      <td>NaN</td>\n",
       "      <td>NaN</td>\n",
       "      <td>2202015</td>\n",
       "      <td>1000</td>\n",
       "      <td>SCHIFF, ADAM</td>\n",
       "      <td>DEM</td>\n",
       "      <td>H</td>\n",
       "      <td>CA</td>\n",
       "    </tr>\n",
       "    <tr>\n",
       "      <th>3</th>\n",
       "      <td>P</td>\n",
       "      <td>CCM</td>\n",
       "      <td>SCHIFF FOR CONGRESS</td>\n",
       "      <td>NaN</td>\n",
       "      <td>NaN</td>\n",
       "      <td>2232015</td>\n",
       "      <td>1000</td>\n",
       "      <td>SCHIFF, ADAM</td>\n",
       "      <td>DEM</td>\n",
       "      <td>H</td>\n",
       "      <td>CA</td>\n",
       "    </tr>\n",
       "    <tr>\n",
       "      <th>4</th>\n",
       "      <td>P</td>\n",
       "      <td>CCM</td>\n",
       "      <td>SCHIFF FOR CONGRESS</td>\n",
       "      <td>NaN</td>\n",
       "      <td>NaN</td>\n",
       "      <td>2252015</td>\n",
       "      <td>1000</td>\n",
       "      <td>SCHIFF, ADAM</td>\n",
       "      <td>DEM</td>\n",
       "      <td>H</td>\n",
       "      <td>CA</td>\n",
       "    </tr>\n",
       "  </tbody>\n",
       "</table>\n",
       "</div>"
      ],
      "text/plain": [
       "  TRANSACTION_PGI ENTITY_TP                      NAME  EMPLOYER  OCCUPATION  \\\n",
       "0               P       COM  ADAM SCHIFF FOR CONGRESS       NaN         NaN   \n",
       "1               P       ORG       SCHIFF FOR CONGRESS       NaN         NaN   \n",
       "2               P       CCM       SCHIFF FOR CONGRESS       NaN         NaN   \n",
       "3               P       CCM       SCHIFF FOR CONGRESS       NaN         NaN   \n",
       "4               P       CCM       SCHIFF FOR CONGRESS       NaN         NaN   \n",
       "\n",
       "   TRANSACTION_DT  TRANSACTION_AMT     CAND_NAME CAND_PTY_AFFILIATION  \\\n",
       "0         3062015             1000  SCHIFF, ADAM                  DEM   \n",
       "1         3102015             1000  SCHIFF, ADAM                  DEM   \n",
       "2         2202015             1000  SCHIFF, ADAM                  DEM   \n",
       "3         2232015             1000  SCHIFF, ADAM                  DEM   \n",
       "4         2252015             1000  SCHIFF, ADAM                  DEM   \n",
       "\n",
       "  CAND_OFFICE CAND_ST  \n",
       "0           H      CA  \n",
       "1           H      CA  \n",
       "2           H      CA  \n",
       "3           H      CA  \n",
       "4           H      CA  "
      ]
     },
     "execution_count": 418,
     "metadata": {},
     "output_type": "execute_result"
    }
   ],
   "source": [
    "don = pd.merge(cc, cn[['CAND_ID', 'CAND_NAME', 'CAND_PTY_AFFILIATION', 'CAND_OFFICE', 'CAND_ST']])\n",
    "don = don[['TRANSACTION_PGI', 'ENTITY_TP', 'NAME', 'EMPLOYER', 'OCCUPATION',\n",
    "           'TRANSACTION_DT', 'TRANSACTION_AMT', 'CAND_NAME', 'CAND_PTY_AFFILIATION',\n",
    "           'CAND_OFFICE', 'CAND_ST']]\n",
    "don.head()"
   ]
  },
  {
   "cell_type": "code",
   "execution_count": 385,
   "metadata": {
    "collapsed": false
   },
   "outputs": [
    {
     "data": {
      "text/plain": [
       "array(['DEM', 'REP', 'DFL', 'UNK', 'IND', 'LIB'], dtype=object)"
      ]
     },
     "execution_count": 385,
     "metadata": {},
     "output_type": "execute_result"
    }
   ],
   "source": [
    "don.CAND_PTY_AFFILIATION.unique()"
   ]
  },
  {
   "cell_type": "code",
   "execution_count": 386,
   "metadata": {
    "collapsed": false
   },
   "outputs": [
    {
     "data": {
      "text/plain": [
       "REP    15291\n",
       "DEM     8213\n",
       "UNK      111\n",
       "DFL      101\n",
       "IND       16\n",
       "LIB        2\n",
       "dtype: int64"
      ]
     },
     "execution_count": 386,
     "metadata": {},
     "output_type": "execute_result"
    }
   ],
   "source": [
    "don.CAND_PTY_AFFILIATION.value_counts()"
   ]
  },
  {
   "cell_type": "code",
   "execution_count": 387,
   "metadata": {
    "collapsed": false
   },
   "outputs": [
    {
     "data": {
      "text/plain": [
       "FRIENDS OF PAT TOOMEY                              232\n",
       "FRIENDS OF SCHUMER                                 221\n",
       "TIM SCOTT FOR SENATE                               188\n",
       "FRIENDS OF ROY BLUNT                               187\n",
       "PORTMAN FOR SENATE COMMITTEE                       180\n",
       "                                                  ... \n",
       "RELY ON YOUR BELIEFS POLITICAL ACTION COMMITTEE      1\n",
       "HOEVEN FOR U.S. SENATE                               1\n",
       "JOHN HARDY ISAKSON                                   1\n",
       "RICHARD NEAL FOR HOUSE                               1\n",
       "LOFGREN FOR CONGRESS/C00289603                       1\n",
       "dtype: int64"
      ]
     },
     "execution_count": 387,
     "metadata": {},
     "output_type": "execute_result"
    }
   ],
   "source": [
    "don.NAME.value_counts()"
   ]
  },
  {
   "cell_type": "code",
   "execution_count": 510,
   "metadata": {
    "collapsed": false
   },
   "outputs": [],
   "source": [
    "x = don.groupby(['CAND_PTY_AFFILIATION', 'CAND_ST']).TRANSACTION_AMT.sum().unstack('CAND_PTY_AFFILIATION')[['DEM', 'REP']]\n",
    "x = x.fillna(0)\n",
    "x[x<=0] = 0"
   ]
  },
  {
   "cell_type": "code",
   "execution_count": 514,
   "metadata": {
    "collapsed": false
   },
   "outputs": [
    {
     "data": {
      "text/plain": [
       "<matplotlib.axes._subplots.AxesSubplot at 0x17a65dd68>"
      ]
     },
     "execution_count": 514,
     "metadata": {},
     "output_type": "execute_result"
    },
    {
     "data": {
      "image/png": "[encoded data removed]",
      "text/plain": [
       "<matplotlib.figure.Figure at 0x17a633860>"
      ]
     },
     "metadata": {},
     "output_type": "display_data"
    }
   ],
   "source": [
    "x.sort('DEM').plot(kind='barh', figsize=(5, 20), color=['blue', 'red'])"
   ]
  },
  {
   "cell_type": "code",
   "execution_count": 515,
   "metadata": {
    "collapsed": true
   },
   "outputs": [],
   "source": [
    "# random"
   ]
  },
  {
   "cell_type": "code",
   "execution_count": 525,
   "metadata": {
    "collapsed": false
   },
   "outputs": [],
   "source": [
    "query = \"\"\"\n",
    "select distinct * from image natural join parsed\n",
    "where dt > TIMESTAMP \"2015-05-05T21:00:00\"\n",
    "  and parser in ('roving', 'template')\n",
    "order by dt desc;\n",
    "\"\"\"\n",
    "\n",
    "from ocr.server import make_engine\n",
    "\n",
    "engine = make_engine.make_engine(kind='rds', db='taugspurger')\n",
    "parsed = pd.read_sql_query(query, engine)"
   ]
  },
  {
   "cell_type": "code",
   "execution_count": 536,
   "metadata": {
    "collapsed": false
   },
   "outputs": [],
   "source": [
    "price = parsed.set_index(['parser', 'fuel_type', 'dt']).price.sort_index()\n",
    "price = price.groupby(level=[0, 1, 2]).first()  # dedupe 6 values"
   ]
  },
  {
   "cell_type": "code",
   "execution_count": 537,
   "metadata": {
    "collapsed": false
   },
   "outputs": [
    {
     "data": {
      "text/plain": [
       "True"
      ]
     },
     "execution_count": 537,
     "metadata": {},
     "output_type": "execute_result"
    }
   ],
   "source": [
    "price.index.is_unique"
   ]
  },
  {
   "cell_type": "code",
   "execution_count": 550,
   "metadata": {
    "collapsed": false
   },
   "outputs": [
    {
     "data": {
      "text/plain": [
       "False"
      ]
     },
     "execution_count": 550,
     "metadata": {},
     "output_type": "execute_result"
    }
   ],
   "source": [
    "x = price.unstack('parser').dropna()\n",
    "(x.roving != x.template).any()"
   ]
  },
  {
   "cell_type": "code",
   "execution_count": null,
   "metadata": {
    "collapsed": true
   },
   "outputs": [],
   "source": []
  },
  {
   "cell_type": "code",
   "execution_count": 394,
   "metadata": {
    "collapsed": false
   },
   "outputs": [
    {
     "name": "stdout",
     "output_type": "stream",
     "text": [
      "NAME\n",
      "SUSAN GAGE CATERERS                            3\n",
      "CHAMBERS LOPEZ STRATEGIES                      2\n",
      "DEMOCRATIC CONGRESSIONAL CAMPAIGN COMMITTEE    2\n",
      "WILLARD HOTEL                                  2\n",
      "MENUS                                          2\n",
      "RODNEY DAVIS FOR CONGRESS                      2\n",
      "IAO PROPERTY HOLDINGS LLC                      2\n",
      "UNITED PARCEL SERVICE INC.                     2\n",
      "AMERICAN INSTITUTE OF CPAS                     2\n",
      "WASHINGTON NATIONALS                           2\n",
      "CLUB FOR GROWTH                                2\n",
      "VAN SCOYOC ASSOCIATES, INC.                    2\n",
      "VAN SCOYOC ASSOCIATES, INC. PAC                2\n",
      "HONEYWELL INTERNATIONAL                        2\n",
      "SCHNEIDER'S OF CAPITOL HILL                    2\n",
      "AUERBACH, LEOR                                 2\n",
      "DONOVAN FOR CONGRESS                           2\n",
      "FINANCIAL INNOVATIONS                          2\n",
      "CITIZENS FOR BOYLE                             2\n",
      "RON JOHNSON FOR SENATE                         2\n",
      "Name: CAND_PTY_AFFILIATION, dtype: int64\n"
     ]
    }
   ],
   "source": [
    "with pd.option_context('display.max_rows', 20):\n",
    "    print(don.groupby(\"NAME\")\n",
    "             .CAND_PTY_AFFILIATION\n",
    "             .nunique()\n",
    "             .order(ascending=False)\n",
    "             .head(20))"
   ]
  },
  {
   "cell_type": "code",
   "execution_count": 404,
   "metadata": {
    "collapsed": false
   },
   "outputs": [
    {
     "data": {
      "text/html": [
       "<div>\n",
       "<table border=\"1\" class=\"dataframe\">\n",
       "  <thead>\n",
       "    <tr style=\"text-align: right;\">\n",
       "      <th></th>\n",
       "      <th>TRANSACTION_PGI</th>\n",
       "      <th>ENTITY_TP</th>\n",
       "      <th>NAME</th>\n",
       "      <th>EMPLOYER</th>\n",
       "      <th>OCCUPATION</th>\n",
       "      <th>TRANSACTION_DT</th>\n",
       "      <th>TRANSACTION_AMT</th>\n",
       "      <th>CAND_NAME</th>\n",
       "      <th>CAND_PTY_AFFILIATION</th>\n",
       "      <th>CAND_OFFICE</th>\n",
       "    </tr>\n",
       "  </thead>\n",
       "  <tbody>\n",
       "    <tr>\n",
       "      <th>6624</th>\n",
       "      <td>P</td>\n",
       "      <td>PTY</td>\n",
       "      <td>DEMOCRATIC CONGRESSIONAL CAMPAIGN COMMITTEE</td>\n",
       "      <td>NaN</td>\n",
       "      <td>NaN</td>\n",
       "      <td>3252015</td>\n",
       "      <td>483</td>\n",
       "      <td>NOLAN, RICHARD M.</td>\n",
       "      <td>DFL</td>\n",
       "      <td>H</td>\n",
       "    </tr>\n",
       "  </tbody>\n",
       "</table>\n",
       "</div>"
      ],
      "text/plain": [
       "     TRANSACTION_PGI ENTITY_TP                                         NAME  \\\n",
       "6624               P       PTY  DEMOCRATIC CONGRESSIONAL CAMPAIGN COMMITTEE   \n",
       "\n",
       "      EMPLOYER  OCCUPATION  TRANSACTION_DT  TRANSACTION_AMT  \\\n",
       "6624       NaN         NaN         3252015              483   \n",
       "\n",
       "              CAND_NAME CAND_PTY_AFFILIATION CAND_OFFICE  \n",
       "6624  NOLAN, RICHARD M.                  DFL           H  "
      ]
     },
     "execution_count": 404,
     "metadata": {},
     "output_type": "execute_result"
    }
   ],
   "source": [
    "don.query('NAME == \"DEMOCRATIC CONGRESSIONAL CAMPAIGN COMMITTEE\" & CAND_PTY_AFFILIATION != \"DEM\"')"
   ]
  },
  {
   "cell_type": "code",
   "execution_count": 408,
   "metadata": {
    "collapsed": false
   },
   "outputs": [
    {
     "data": {
      "text/plain": [
       "NAME                                   CAND_PTY_AFFILIATION\n",
       "JASON SMITH FOR CONGRESS               REP                     0.007055\n",
       "SUSAN GAGE CATERERS                    UNK                     0.020505\n",
       "HONEYWELL INTERNATIONAL                UNK                     0.023810\n",
       "CLUB FOR GROWTH                        DEM                     0.028845\n",
       "DONOVAN FOR CONGRESS                   DEM                     0.031024\n",
       "                                                                 ...   \n",
       "DEBBIE WASSERMAN SCHULTZ FOR CONGRESS  DEM                          NaN\n",
       "ERNST VICTORY                          REP                          NaN\n",
       "FRELINGHUYSEN, RODNEY P. REP.          REP                          NaN\n",
       "FRIENDS OF JARED POLIS COMMITTEE       DEM                          NaN\n",
       "RUDY HOBBS FOR CONGRESS                DEM                          NaN\n",
       "Name: TRANSACTION_AMT, dtype: float64"
      ]
     },
     "execution_count": 408,
     "metadata": {},
     "output_type": "execute_result"
    }
   ],
   "source": [
    "ratio = (don.groupby(['NAME', 'CAND_PTY_AFFILIATION']).TRANSACTION_AMT.sum()\n",
    "            .groupby(level='NAME').transform(lambda x: x / x.sum()))\n",
    "ratio.order()"
   ]
  },
  {
   "cell_type": "code",
   "execution_count": 412,
   "metadata": {
    "collapsed": false
   },
   "outputs": [
    {
     "data": {
      "text/plain": [
       "CAND_PTY_AFFILIATION\n",
       "REP    0.007055\n",
       "UNK    0.992945\n",
       "Name: TRANSACTION_AMT, dtype: float64"
      ]
     },
     "execution_count": 412,
     "metadata": {},
     "output_type": "execute_result"
    }
   ],
   "source": [
    "ratio.order().xs('JASON SMITH FOR CONGRESS')"
   ]
  },
  {
   "cell_type": "code",
   "execution_count": 380,
   "metadata": {
    "collapsed": true
   },
   "outputs": [],
   "source": [
    "don['CAND_PTY_AFFILIATION'] = don['CAND_PTY_AFFILIATION'].astype('category')\n",
    "don['NAME']"
   ]
  },
  {
   "cell_type": "code",
   "execution_count": null,
   "metadata": {
    "collapsed": true
   },
   "outputs": [],
   "source": [
    "don.groupby('CAND_PTY_AFFILIATION')"
   ]
  },
  {
   "cell_type": "code",
   "execution_count": 430,
   "metadata": {
    "collapsed": false
   },
   "outputs": [
    {
     "data": {
      "text/plain": [
       "<matplotlib.axes._subplots.AxesSubplot at 0x15ca7e518>"
      ]
     },
     "execution_count": 430,
     "metadata": {},
     "output_type": "execute_result"
    },
    {
     "data": {
      "image/png": "[encoded data removed]",
      "text/plain": [
       "<matplotlib.figure.Figure at 0x16445cb00>"
      ]
     },
     "metadata": {},
     "output_type": "display_data"
    }
   ],
   "source": [
    "don.groupby(\"CAND_ST\").TRANSACTION_AMT.sum().order().plot(kind='barh', figsize=(5, 20))"
   ]
  },
  {
   "cell_type": "code",
   "execution_count": 438,
   "metadata": {
    "collapsed": true
   },
   "outputs": [],
   "source": [
    "import statsmodels.api as sm"
   ]
  },
  {
   "cell_type": "code",
   "execution_count": 469,
   "metadata": {
    "collapsed": false
   },
   "outputs": [
    {
     "data": {
      "text/plain": [
       "'1700.0'"
      ]
     },
     "execution_count": 469,
     "metadata": {},
     "output_type": "execute_result"
    }
   ],
   "source": [
    "str(dta.YEAR.min())"
   ]
  },
  {
   "cell_type": "code",
   "execution_count": 472,
   "metadata": {
    "collapsed": false
   },
   "outputs": [],
   "source": [
    "dta = sm.datasets.sunspots.load_pandas().data\n",
    "dta['YEAR'] = dta.YEAR.astype(int)\n",
    "dta.index = pd.date_range(start=str(dta.YEAR.min()), end=str(dta.YEAR.max()), freq='AS')\n",
    "dta = dta.drop('YEAR', axis=1)"
   ]
  },
  {
   "cell_type": "code",
   "execution_count": 479,
   "metadata": {
    "collapsed": false
   },
   "outputs": [
    {
     "ename": "NonGuiException",
     "evalue": "",
     "output_type": "error",
     "traceback": [
      "\u001b[0;31m---------------------------------------------------------------------------\u001b[0m",
      "\u001b[0;31mNonGuiException\u001b[0m                           Traceback (most recent call last)",
      "\u001b[0;32m<ipython-input-479-fd8ef250aeb4>\u001b[0m in \u001b[0;36m<module>\u001b[0;34m()\u001b[0m\n\u001b[0;32m----> 1\u001b[0;31m \u001b[0m_\u001b[0m \u001b[0;34m=\u001b[0m \u001b[0mdta\u001b[0m\u001b[0;34m.\u001b[0m\u001b[0mplot\u001b[0m\u001b[0;34m(\u001b[0m\u001b[0;34m)\u001b[0m\u001b[0;34m;\u001b[0m\u001b[0;34m\u001b[0m\u001b[0m\n\u001b[0m",
      "\u001b[0;32m/Users/tom.augspurger/Envs/py3/lib/python3.4/site-packages/pandas-0.16.2_11_gd8a2f30-py3.4-macosx-10.10-x86_64.egg/pandas/tools/plotting.py\u001b[0m in \u001b[0;36mplot_frame\u001b[0;34m(data, x, y, kind, ax, subplots, sharex, sharey, layout, figsize, use_index, title, grid, legend, style, logx, logy, loglog, xticks, yticks, xlim, ylim, rot, fontsize, colormap, table, yerr, xerr, secondary_y, sort_columns, **kwds)\u001b[0m\n\u001b[1;32m   2486\u001b[0m                  \u001b[0myerr\u001b[0m\u001b[0;34m=\u001b[0m\u001b[0myerr\u001b[0m\u001b[0;34m,\u001b[0m \u001b[0mxerr\u001b[0m\u001b[0;34m=\u001b[0m\u001b[0mxerr\u001b[0m\u001b[0;34m,\u001b[0m\u001b[0;34m\u001b[0m\u001b[0m\n\u001b[1;32m   2487\u001b[0m                  \u001b[0msecondary_y\u001b[0m\u001b[0;34m=\u001b[0m\u001b[0msecondary_y\u001b[0m\u001b[0;34m,\u001b[0m \u001b[0msort_columns\u001b[0m\u001b[0;34m=\u001b[0m\u001b[0msort_columns\u001b[0m\u001b[0;34m,\u001b[0m\u001b[0;34m\u001b[0m\u001b[0m\n\u001b[0;32m-> 2488\u001b[0;31m                  **kwds)\n\u001b[0m\u001b[1;32m   2489\u001b[0m \u001b[0;34m\u001b[0m\u001b[0m\n\u001b[1;32m   2490\u001b[0m \u001b[0;34m\u001b[0m\u001b[0m\n",
      "\u001b[0;32m/Users/tom.augspurger/Envs/py3/lib/python3.4/site-packages/pandas-0.16.2_11_gd8a2f30-py3.4-macosx-10.10-x86_64.egg/pandas/tools/plotting.py\u001b[0m in \u001b[0;36m_plot\u001b[0;34m(data, x, y, subplots, ax, kind, **kwds)\u001b[0m\n\u001b[1;32m   2322\u001b[0m         \u001b[0mplot_obj\u001b[0m \u001b[0;34m=\u001b[0m \u001b[0mklass\u001b[0m\u001b[0;34m(\u001b[0m\u001b[0mdata\u001b[0m\u001b[0;34m,\u001b[0m \u001b[0msubplots\u001b[0m\u001b[0;34m=\u001b[0m\u001b[0msubplots\u001b[0m\u001b[0;34m,\u001b[0m \u001b[0max\u001b[0m\u001b[0;34m=\u001b[0m\u001b[0max\u001b[0m\u001b[0;34m,\u001b[0m \u001b[0mkind\u001b[0m\u001b[0;34m=\u001b[0m\u001b[0mkind\u001b[0m\u001b[0;34m,\u001b[0m \u001b[0;34m**\u001b[0m\u001b[0mkwds\u001b[0m\u001b[0;34m)\u001b[0m\u001b[0;34m\u001b[0m\u001b[0m\n\u001b[1;32m   2323\u001b[0m \u001b[0;34m\u001b[0m\u001b[0m\n\u001b[0;32m-> 2324\u001b[0;31m     \u001b[0mplot_obj\u001b[0m\u001b[0;34m.\u001b[0m\u001b[0mgenerate\u001b[0m\u001b[0;34m(\u001b[0m\u001b[0;34m)\u001b[0m\u001b[0;34m\u001b[0m\u001b[0m\n\u001b[0m\u001b[1;32m   2325\u001b[0m     \u001b[0mplot_obj\u001b[0m\u001b[0;34m.\u001b[0m\u001b[0mdraw\u001b[0m\u001b[0;34m(\u001b[0m\u001b[0;34m)\u001b[0m\u001b[0;34m\u001b[0m\u001b[0m\n\u001b[1;32m   2326\u001b[0m     \u001b[0;32mreturn\u001b[0m \u001b[0mplot_obj\u001b[0m\u001b[0;34m.\u001b[0m\u001b[0mresult\u001b[0m\u001b[0;34m\u001b[0m\u001b[0m\n",
      "\u001b[0;32m/Users/tom.augspurger/Envs/py3/lib/python3.4/site-packages/pandas-0.16.2_11_gd8a2f30-py3.4-macosx-10.10-x86_64.egg/pandas/tools/plotting.py\u001b[0m in \u001b[0;36mgenerate\u001b[0;34m(self)\u001b[0m\n\u001b[1;32m    912\u001b[0m         \u001b[0mself\u001b[0m\u001b[0;34m.\u001b[0m\u001b[0m_compute_plot_data\u001b[0m\u001b[0;34m(\u001b[0m\u001b[0;34m)\u001b[0m\u001b[0;34m\u001b[0m\u001b[0m\n\u001b[1;32m    913\u001b[0m         \u001b[0mself\u001b[0m\u001b[0;34m.\u001b[0m\u001b[0m_setup_subplots\u001b[0m\u001b[0;34m(\u001b[0m\u001b[0;34m)\u001b[0m\u001b[0;34m\u001b[0m\u001b[0m\n\u001b[0;32m--> 914\u001b[0;31m         \u001b[0mself\u001b[0m\u001b[0;34m.\u001b[0m\u001b[0m_make_plot\u001b[0m\u001b[0;34m(\u001b[0m\u001b[0;34m)\u001b[0m\u001b[0;34m\u001b[0m\u001b[0m\n\u001b[0m\u001b[1;32m    915\u001b[0m         \u001b[0mself\u001b[0m\u001b[0;34m.\u001b[0m\u001b[0m_add_table\u001b[0m\u001b[0;34m(\u001b[0m\u001b[0;34m)\u001b[0m\u001b[0;34m\u001b[0m\u001b[0m\n\u001b[1;32m    916\u001b[0m         \u001b[0mself\u001b[0m\u001b[0;34m.\u001b[0m\u001b[0m_make_legend\u001b[0m\u001b[0;34m(\u001b[0m\u001b[0;34m)\u001b[0m\u001b[0;34m\u001b[0m\u001b[0m\n",
      "\u001b[0;32m/Users/tom.augspurger/Envs/py3/lib/python3.4/site-packages/pandas-0.16.2_11_gd8a2f30-py3.4-macosx-10.10-x86_64.egg/pandas/tools/plotting.py\u001b[0m in \u001b[0;36m_make_plot\u001b[0;34m(self)\u001b[0m\n\u001b[1;32m   1623\u001b[0m             \u001b[0mkwds\u001b[0m\u001b[0;34m[\u001b[0m\u001b[0;34m'label'\u001b[0m\u001b[0;34m]\u001b[0m \u001b[0;34m=\u001b[0m \u001b[0mlabel\u001b[0m\u001b[0;34m\u001b[0m\u001b[0m\n\u001b[1;32m   1624\u001b[0m \u001b[0;34m\u001b[0m\u001b[0m\n\u001b[0;32m-> 1625\u001b[0;31m             \u001b[0mnewlines\u001b[0m \u001b[0;34m=\u001b[0m \u001b[0mplotf\u001b[0m\u001b[0;34m(\u001b[0m\u001b[0max\u001b[0m\u001b[0;34m,\u001b[0m \u001b[0mx\u001b[0m\u001b[0;34m,\u001b[0m \u001b[0my\u001b[0m\u001b[0;34m,\u001b[0m \u001b[0mstyle\u001b[0m\u001b[0;34m=\u001b[0m\u001b[0mstyle\u001b[0m\u001b[0;34m,\u001b[0m \u001b[0mcolumn_num\u001b[0m\u001b[0;34m=\u001b[0m\u001b[0mi\u001b[0m\u001b[0;34m,\u001b[0m \u001b[0;34m**\u001b[0m\u001b[0mkwds\u001b[0m\u001b[0;34m)\u001b[0m\u001b[0;34m\u001b[0m\u001b[0m\n\u001b[0m\u001b[1;32m   1626\u001b[0m             \u001b[0mself\u001b[0m\u001b[0;34m.\u001b[0m\u001b[0m_add_legend_handle\u001b[0m\u001b[0;34m(\u001b[0m\u001b[0mnewlines\u001b[0m\u001b[0;34m[\u001b[0m\u001b[0;36m0\u001b[0m\u001b[0;34m]\u001b[0m\u001b[0;34m,\u001b[0m \u001b[0mlabel\u001b[0m\u001b[0;34m,\u001b[0m \u001b[0mindex\u001b[0m\u001b[0;34m=\u001b[0m\u001b[0mi\u001b[0m\u001b[0;34m)\u001b[0m\u001b[0;34m\u001b[0m\u001b[0m\n\u001b[1;32m   1627\u001b[0m \u001b[0;34m\u001b[0m\u001b[0m\n",
      "\u001b[0;32m/Users/tom.augspurger/Envs/py3/lib/python3.4/site-packages/pandas-0.16.2_11_gd8a2f30-py3.4-macosx-10.10-x86_64.egg/pandas/tools/plotting.py\u001b[0m in \u001b[0;36m_plot\u001b[0;34m(ax, x, data, style, **kwds)\u001b[0m\n\u001b[1;32m   1660\u001b[0m             \u001b[0;31m# accept x to be consistent with normal plot func,\u001b[0m\u001b[0;34m\u001b[0m\u001b[0;34m\u001b[0m\u001b[0m\n\u001b[1;32m   1661\u001b[0m             \u001b[0;31m# x is not passed to tsplot as it uses data.index as x coordinate\u001b[0m\u001b[0;34m\u001b[0m\u001b[0;34m\u001b[0m\u001b[0m\n\u001b[0;32m-> 1662\u001b[0;31m             \u001b[0mlines\u001b[0m \u001b[0;34m=\u001b[0m \u001b[0mtsplot\u001b[0m\u001b[0;34m(\u001b[0m\u001b[0mdata\u001b[0m\u001b[0;34m,\u001b[0m \u001b[0mplotf\u001b[0m\u001b[0;34m,\u001b[0m \u001b[0max\u001b[0m\u001b[0;34m=\u001b[0m\u001b[0max\u001b[0m\u001b[0;34m,\u001b[0m \u001b[0mstyle\u001b[0m\u001b[0;34m=\u001b[0m\u001b[0mstyle\u001b[0m\u001b[0;34m,\u001b[0m \u001b[0;34m**\u001b[0m\u001b[0mkwds\u001b[0m\u001b[0;34m)\u001b[0m\u001b[0;34m\u001b[0m\u001b[0m\n\u001b[0m\u001b[1;32m   1663\u001b[0m             \u001b[0;32mreturn\u001b[0m \u001b[0mlines\u001b[0m\u001b[0;34m\u001b[0m\u001b[0m\n\u001b[1;32m   1664\u001b[0m         \u001b[0;32mreturn\u001b[0m \u001b[0m_plot\u001b[0m\u001b[0;34m\u001b[0m\u001b[0m\n",
      "\u001b[0;32m/Users/tom.augspurger/Envs/py3/lib/python3.4/site-packages/pandas-0.16.2_11_gd8a2f30-py3.4-macosx-10.10-x86_64.egg/pandas/tseries/plotting.py\u001b[0m in \u001b[0;36mtsplot\u001b[0;34m(series, plotf, **kwargs)\u001b[0m\n\u001b[1;32m     61\u001b[0m \u001b[0;34m\u001b[0m\u001b[0m\n\u001b[1;32m     62\u001b[0m     \u001b[0;31m# set date formatter, locators and rescale limits\u001b[0m\u001b[0;34m\u001b[0m\u001b[0;34m\u001b[0m\u001b[0m\n\u001b[0;32m---> 63\u001b[0;31m     \u001b[0mformat_dateaxis\u001b[0m\u001b[0;34m(\u001b[0m\u001b[0max\u001b[0m\u001b[0;34m,\u001b[0m \u001b[0max\u001b[0m\u001b[0;34m.\u001b[0m\u001b[0mfreq\u001b[0m\u001b[0;34m)\u001b[0m\u001b[0;34m\u001b[0m\u001b[0m\n\u001b[0m\u001b[1;32m     64\u001b[0m \u001b[0;34m\u001b[0m\u001b[0m\n\u001b[1;32m     65\u001b[0m     \u001b[0;31m# x and y coord info\u001b[0m\u001b[0;34m\u001b[0m\u001b[0;34m\u001b[0m\u001b[0m\n",
      "\u001b[0;32m/Users/tom.augspurger/Envs/py3/lib/python3.4/site-packages/pandas-0.16.2_11_gd8a2f30-py3.4-macosx-10.10-x86_64.egg/pandas/tseries/plotting.py\u001b[0m in \u001b[0;36mformat_dateaxis\u001b[0;34m(subplot, freq)\u001b[0m\n\u001b[1;32m    220\u001b[0m     \u001b[0msubplot\u001b[0m\u001b[0;34m.\u001b[0m\u001b[0mxaxis\u001b[0m\u001b[0;34m.\u001b[0m\u001b[0mset_major_formatter\u001b[0m\u001b[0;34m(\u001b[0m\u001b[0mmajformatter\u001b[0m\u001b[0;34m)\u001b[0m\u001b[0;34m\u001b[0m\u001b[0m\n\u001b[1;32m    221\u001b[0m     \u001b[0msubplot\u001b[0m\u001b[0;34m.\u001b[0m\u001b[0mxaxis\u001b[0m\u001b[0;34m.\u001b[0m\u001b[0mset_minor_formatter\u001b[0m\u001b[0;34m(\u001b[0m\u001b[0mminformatter\u001b[0m\u001b[0;34m)\u001b[0m\u001b[0;34m\u001b[0m\u001b[0m\n\u001b[0;32m--> 222\u001b[0;31m     \u001b[0mpylab\u001b[0m\u001b[0;34m.\u001b[0m\u001b[0mdraw_if_interactive\u001b[0m\u001b[0;34m(\u001b[0m\u001b[0;34m)\u001b[0m\u001b[0;34m\u001b[0m\u001b[0m\n\u001b[0m",
      "\u001b[0;32m/Users/tom.augspurger/Envs/py3/lib/python3.4/site-packages/IPython/utils/decorators.py\u001b[0m in \u001b[0;36mwrapper\u001b[0;34m(*args, **kw)\u001b[0m\n\u001b[1;32m     41\u001b[0m     \u001b[0;32mdef\u001b[0m \u001b[0mwrapper\u001b[0m\u001b[0;34m(\u001b[0m\u001b[0;34m*\u001b[0m\u001b[0margs\u001b[0m\u001b[0;34m,\u001b[0m\u001b[0;34m**\u001b[0m\u001b[0mkw\u001b[0m\u001b[0;34m)\u001b[0m\u001b[0;34m:\u001b[0m\u001b[0;34m\u001b[0m\u001b[0m\n\u001b[1;32m     42\u001b[0m         \u001b[0mwrapper\u001b[0m\u001b[0;34m.\u001b[0m\u001b[0mcalled\u001b[0m \u001b[0;34m=\u001b[0m \u001b[0;32mFalse\u001b[0m\u001b[0;34m\u001b[0m\u001b[0m\n\u001b[0;32m---> 43\u001b[0;31m         \u001b[0mout\u001b[0m \u001b[0;34m=\u001b[0m \u001b[0mfunc\u001b[0m\u001b[0;34m(\u001b[0m\u001b[0;34m*\u001b[0m\u001b[0margs\u001b[0m\u001b[0;34m,\u001b[0m\u001b[0;34m**\u001b[0m\u001b[0mkw\u001b[0m\u001b[0;34m)\u001b[0m\u001b[0;34m\u001b[0m\u001b[0m\n\u001b[0m\u001b[1;32m     44\u001b[0m         \u001b[0mwrapper\u001b[0m\u001b[0;34m.\u001b[0m\u001b[0mcalled\u001b[0m \u001b[0;34m=\u001b[0m \u001b[0;32mTrue\u001b[0m\u001b[0;34m\u001b[0m\u001b[0m\n\u001b[1;32m     45\u001b[0m         \u001b[0;32mreturn\u001b[0m \u001b[0mout\u001b[0m\u001b[0;34m\u001b[0m\u001b[0m\n",
      "\u001b[0;32m/Users/tom.augspurger/Envs/py3/lib/python3.4/site-packages/matplotlib/backends/backend_tkagg.py\u001b[0m in \u001b[0;36mdraw_if_interactive\u001b[0;34m()\u001b[0m\n\u001b[1;32m     65\u001b[0m         \u001b[0mfigManager\u001b[0m \u001b[0;34m=\u001b[0m  \u001b[0mGcf\u001b[0m\u001b[0;34m.\u001b[0m\u001b[0mget_active\u001b[0m\u001b[0;34m(\u001b[0m\u001b[0;34m)\u001b[0m\u001b[0;34m\u001b[0m\u001b[0m\n\u001b[1;32m     66\u001b[0m         \u001b[0;32mif\u001b[0m \u001b[0mfigManager\u001b[0m \u001b[0;32mis\u001b[0m \u001b[0;32mnot\u001b[0m \u001b[0;32mNone\u001b[0m\u001b[0;34m:\u001b[0m\u001b[0;34m\u001b[0m\u001b[0m\n\u001b[0;32m---> 67\u001b[0;31m             \u001b[0mfigManager\u001b[0m\u001b[0;34m.\u001b[0m\u001b[0mshow\u001b[0m\u001b[0;34m(\u001b[0m\u001b[0;34m)\u001b[0m\u001b[0;34m\u001b[0m\u001b[0m\n\u001b[0m\u001b[1;32m     68\u001b[0m \u001b[0;34m\u001b[0m\u001b[0m\n\u001b[1;32m     69\u001b[0m \u001b[0;32mclass\u001b[0m \u001b[0mShow\u001b[0m\u001b[0;34m(\u001b[0m\u001b[0mShowBase\u001b[0m\u001b[0;34m)\u001b[0m\u001b[0;34m:\u001b[0m\u001b[0;34m\u001b[0m\u001b[0m\n",
      "\u001b[0;32m/Users/tom.augspurger/Envs/py3/lib/python3.4/site-packages/matplotlib/backend_bases.py\u001b[0m in \u001b[0;36mshow\u001b[0;34m(self)\u001b[0m\n\u001b[1;32m   2573\u001b[0m         \u001b[0moptional\u001b[0m \u001b[0mwarning\u001b[0m\u001b[0;34m.\u001b[0m\u001b[0;34m\u001b[0m\u001b[0m\n\u001b[1;32m   2574\u001b[0m         \"\"\"\n\u001b[0;32m-> 2575\u001b[0;31m         \u001b[0;32mraise\u001b[0m \u001b[0mNonGuiException\u001b[0m\u001b[0;34m(\u001b[0m\u001b[0;34m)\u001b[0m\u001b[0;34m\u001b[0m\u001b[0m\n\u001b[0m\u001b[1;32m   2576\u001b[0m \u001b[0;34m\u001b[0m\u001b[0m\n\u001b[1;32m   2577\u001b[0m     \u001b[0;32mdef\u001b[0m \u001b[0mdestroy\u001b[0m\u001b[0;34m(\u001b[0m\u001b[0mself\u001b[0m\u001b[0;34m)\u001b[0m\u001b[0;34m:\u001b[0m\u001b[0;34m\u001b[0m\u001b[0m\n",
      "\u001b[0;31mNonGuiException\u001b[0m: "
     ]
    },
    {
     "data": {
      "image/png": "[encoded data removed]",
      "text/plain": [
       "<matplotlib.figure.Figure at 0x17864ce48>"
      ]
     },
     "metadata": {},
     "output_type": "display_data"
    }
   ],
   "source": [
    "_ = dta.plot();"
   ]
  },
  {
   "cell_type": "code",
   "execution_count": 481,
   "metadata": {
    "collapsed": false
   },
   "outputs": [
    {
     "data": {
      "image/png": "[encoded data removed]",
      "text/plain": [
       "<matplotlib.figure.Figure at 0x17893f588>"
      ]
     },
     "metadata": {},
     "output_type": "display_data"
    }
   ],
   "source": [
    "fig, ax = plt.subplots()\n",
    "fig = sm.graphics.tsa.plot_acf(dta.SUNACTIVITY, lags=40, ax=ax)\n",
    "\n"
   ]
  },
  {
   "cell_type": "code",
   "execution_count": 482,
   "metadata": {
    "collapsed": true
   },
   "outputs": [],
   "source": [
    "arma_mod20 = sm.tsa.ARMA(dta, (2,0)).fit()\n"
   ]
  },
  {
   "cell_type": "code",
   "execution_count": 183,
   "metadata": {
    "collapsed": false
   },
   "outputs": [
    {
     "data": {
      "text/plain": [
       "58627     10012014.0\n",
       "58628     10012014.0\n",
       "58632     10012014.0\n",
       "58631     10012014.0\n",
       "58629     10012014.0\n",
       "             ...    \n",
       "205017     8152014.0\n",
       "205018     8152014.0\n",
       "148728     9032014.0\n",
       "30018      9162014.0\n",
       "199906           nan\n",
       "Name: TRANSACTION_DT, dtype: object"
      ]
     },
     "execution_count": 183,
     "metadata": {},
     "output_type": "execute_result"
    }
   ],
   "source": [
    "df.TRANSACTION_DT.astype(str).order()"
   ]
  },
  {
   "cell_type": "code",
   "execution_count": 204,
   "metadata": {
    "collapsed": false
   },
   "outputs": [],
   "source": [
    "df['TRANSACTION_DT'] = df.TRANSACTION_DT.astype(str).str.rstrip('.0')"
   ]
  },
  {
   "cell_type": "code",
   "execution_count": 245,
   "metadata": {
    "collapsed": false
   },
   "outputs": [],
   "source": [
    "s = df.TRANSACTION_DT.copy()"
   ]
  },
  {
   "cell_type": "code",
   "execution_count": 246,
   "metadata": {
    "collapsed": false
   },
   "outputs": [],
   "source": [
    "s[s.str.len() == 7] =  s[(s.str.len() == 7)].str.pad(8, fillchar='0')"
   ]
  },
  {
   "cell_type": "code",
   "execution_count": 250,
   "metadata": {
    "collapsed": false
   },
   "outputs": [],
   "source": [
    "df['date'] = pd.to_datetime(s, format='%M%d%Y')"
   ]
  },
  {
   "cell_type": "code",
   "execution_count": 252,
   "metadata": {
    "collapsed": false
   },
   "outputs": [
    {
     "name": "stdout",
     "output_type": "stream",
     "text": [
      "<class 'pandas.core.frame.DataFrame'>\n",
      "Int64Index: 205519 entries, 0 to 205518\n",
      "Data columns (total 23 columns):\n",
      "CMTE_ID            205519 non-null object\n",
      "AMNDT_IND          205519 non-null object\n",
      "RPT_TP             205519 non-null object\n",
      "TRANSACTION_PGI    205444 non-null object\n",
      "IMAGE_NUM          205519 non-null int64\n",
      "TRANSACTION_TP     205519 non-null object\n",
      "ENTITY_TP          205365 non-null object\n",
      "NAME               205510 non-null object\n",
      "CITY               205373 non-null object\n",
      "STATE              205151 non-null object\n",
      "ZIP_CODE           204899 non-null object\n",
      "EMPLOYER           165614 non-null object\n",
      "OCCUPATION         171342 non-null object\n",
      "TRANSACTION_DT     205519 non-null object\n",
      "TRANSACTION_AMT    205519 non-null int64\n",
      "OTHER_ID           29908 non-null object\n",
      "TRAN_ID            205507 non-null object\n",
      "FILE_NUM           205519 non-null int64\n",
      "MEMO_CD            5471 non-null object\n",
      "MEMO_TEXT          48980 non-null object\n",
      "SUB_ID             205519 non-null int64\n",
      "CMTE_NM            205519 non-null object\n",
      "date               205518 non-null datetime64[ns]\n",
      "dtypes: datetime64[ns](1), int64(4), object(18)\n",
      "memory usage: 37.6+ MB\n"
     ]
    }
   ],
   "source": [
    "df.info()"
   ]
  },
  {
   "cell_type": "code",
   "execution_count": 254,
   "metadata": {
    "collapsed": false
   },
   "outputs": [
    {
     "data": {
      "text/plain": [
       "<pandas.core.groupby.DataFrameGroupBy object at 0x13bad77f0>"
      ]
     },
     "execution_count": 254,
     "metadata": {},
     "output_type": "execute_result"
    }
   ],
   "source": [
    "gr = df.groupby(\"date\")\n",
    "gr"
   ]
  },
  {
   "cell_type": "code",
   "execution_count": 261,
   "metadata": {
    "collapsed": false
   },
   "outputs": [],
   "source": [
    "# select avg(TRANSACTION_AMT) GROUP BY TRANSACTION_DT\n",
    "amt = gr.TRANSACTION_AMT.mean().sort_index()"
   ]
  },
  {
   "cell_type": "code",
   "execution_count": 265,
   "metadata": {
    "collapsed": false
   },
   "outputs": [
    {
     "data": {
      "text/plain": [
       "<matplotlib.axes._subplots.AxesSubplot at 0x13bafaf60>"
      ]
     },
     "execution_count": 265,
     "metadata": {},
     "output_type": "execute_result"
    },
    {
     "data": {
      "image/png": "[encoded data removed]",
      "text/plain": [
       "<matplotlib.figure.Figure at 0x14dbd8710>"
      ]
     },
     "metadata": {},
     "output_type": "display_data"
    }
   ],
   "source": [
    "amt.loc['2015':].plot()"
   ]
  },
  {
   "cell_type": "code",
   "execution_count": 270,
   "metadata": {
    "collapsed": false
   },
   "outputs": [
    {
     "data": {
      "text/plain": [
       "count    205519.000000\n",
       "mean       1024.927004\n",
       "std        4580.138090\n",
       "min     -226800.000000\n",
       "25%         250.000000\n",
       "50%         384.000000\n",
       "75%        1000.000000\n",
       "max      716585.000000\n",
       "Name: TRANSACTION_AMT, dtype: float64"
      ]
     },
     "execution_count": 270,
     "metadata": {},
     "output_type": "execute_result"
    }
   ],
   "source": [
    "df.TRANSACTION_AMT.describe()"
   ]
  },
  {
   "cell_type": "code",
   "execution_count": 277,
   "metadata": {
    "collapsed": false
   },
   "outputs": [
    {
     "name": "stdout",
     "output_type": "stream",
     "text": [
      "CMTE_ID                                      C00075820\n",
      "AMNDT_IND                                            N\n",
      "RPT_TP                                              M5\n",
      "TRANSACTION_PGI                                      P\n",
      "IMAGE_NUM                                  15951424351\n",
      "TRANSACTION_TP                                      15\n",
      "ENTITY_TP                                          IND\n",
      "NAME                            ADELSON, MIRIAM O. DR.\n",
      "CITY                                         LAS VEGAS\n",
      "STATE                                               NV\n",
      "ZIP_CODE                                  8.910989e+08\n",
      "EMPLOYER                           ADELSON DRUG CLINIC\n",
      "OCCUPATION                                   PHYSICIAN\n",
      "TRANSACTION_DT                                04092015\n",
      "TRANSACTION_AMT                                -226800\n",
      "OTHER_ID                                           NaN\n",
      "TRAN_ID                                  SA11.15889243\n",
      "FILE_NUM                                       1008869\n",
      "MEMO_CD                                            NaN\n",
      "MEMO_TEXT          REDESIGNATION REQUESTED (AUTOMATIC)\n",
      "SUB_ID                             4052220151243889691\n",
      "CMTE_NM                                           NRCC\n",
      "date                               2015-01-09 00:04:00\n",
      "Name: 76963, dtype: object\n"
     ]
    }
   ],
   "source": [
    "with pd.option_context('display.max_rows', 50):\n",
    "    print(df.loc[df.TRANSACTION_AMT.idxmin()])"
   ]
  },
  {
   "cell_type": "code",
   "execution_count": 282,
   "metadata": {
    "collapsed": false
   },
   "outputs": [
    {
     "data": {
      "text/plain": [
       "<matplotlib.axes._subplots.AxesSubplot at 0x132585550>"
      ]
     },
     "execution_count": 282,
     "metadata": {},
     "output_type": "execute_result"
    },
    {
     "data": {
      "image/png": "[encoded data removed]",
      "text/plain": [
       "<matplotlib.figure.Figure at 0x1325a4a58>"
      ]
     },
     "metadata": {},
     "output_type": "display_data"
    }
   ],
   "source": [
    "(df.query('TRANSACTION_AMT > 0')\n",
    "   .groupby('date')\n",
    "   .TRANSACTION_AMT\n",
    "   .mean()\n",
    "   .loc['2015':]\n",
    "   .pipe(np.log)\n",
    "   .plot())"
   ]
  },
  {
   "cell_type": "markdown",
   "metadata": {},
   "source": [
    "Get commitee affiliation"
   ]
  },
  {
   "cell_type": "code",
   "execution_count": 150,
   "metadata": {
    "collapsed": false
   },
   "outputs": [
    {
     "ename": "KeyError",
     "evalue": "\"['CAND_PTY'] not in index\"",
     "output_type": "error",
     "traceback": [
      "\u001b[0;31m---------------------------------------------------------------------------\u001b[0m",
      "\u001b[0;31mKeyError\u001b[0m                                  Traceback (most recent call last)",
      "\u001b[0;32m<ipython-input-150-c133c0aeaac0>\u001b[0m in \u001b[0;36m<module>\u001b[0;34m()\u001b[0m\n\u001b[0;32m----> 1\u001b[0;31m \u001b[0mcn\u001b[0m\u001b[0;34m[\u001b[0m\u001b[0;34m[\u001b[0m\u001b[0;34m'CAND_ID'\u001b[0m\u001b[0;34m,\u001b[0m \u001b[0;34m'CAND_PTY'\u001b[0m\u001b[0;34m]\u001b[0m\u001b[0;34m]\u001b[0m\u001b[0;34m\u001b[0m\u001b[0m\n\u001b[0m",
      "\u001b[0;32m/Users/tom.augspurger/Envs/py3/lib/python3.4/site-packages/pandas-0.16.2_11_gd8a2f30-py3.4-macosx-10.10-x86_64.egg/pandas/core/frame.py\u001b[0m in \u001b[0;36m__getitem__\u001b[0;34m(self, key)\u001b[0m\n\u001b[1;32m   1789\u001b[0m         \u001b[0;32mif\u001b[0m \u001b[0misinstance\u001b[0m\u001b[0;34m(\u001b[0m\u001b[0mkey\u001b[0m\u001b[0;34m,\u001b[0m \u001b[0;34m(\u001b[0m\u001b[0mSeries\u001b[0m\u001b[0;34m,\u001b[0m \u001b[0mnp\u001b[0m\u001b[0;34m.\u001b[0m\u001b[0mndarray\u001b[0m\u001b[0;34m,\u001b[0m \u001b[0mIndex\u001b[0m\u001b[0;34m,\u001b[0m \u001b[0mlist\u001b[0m\u001b[0;34m)\u001b[0m\u001b[0;34m)\u001b[0m\u001b[0;34m:\u001b[0m\u001b[0;34m\u001b[0m\u001b[0m\n\u001b[1;32m   1790\u001b[0m             \u001b[0;31m# either boolean or fancy integer index\u001b[0m\u001b[0;34m\u001b[0m\u001b[0;34m\u001b[0m\u001b[0m\n\u001b[0;32m-> 1791\u001b[0;31m             \u001b[0;32mreturn\u001b[0m \u001b[0mself\u001b[0m\u001b[0;34m.\u001b[0m\u001b[0m_getitem_array\u001b[0m\u001b[0;34m(\u001b[0m\u001b[0mkey\u001b[0m\u001b[0;34m)\u001b[0m\u001b[0;34m\u001b[0m\u001b[0m\n\u001b[0m\u001b[1;32m   1792\u001b[0m         \u001b[0;32melif\u001b[0m \u001b[0misinstance\u001b[0m\u001b[0;34m(\u001b[0m\u001b[0mkey\u001b[0m\u001b[0;34m,\u001b[0m \u001b[0mDataFrame\u001b[0m\u001b[0;34m)\u001b[0m\u001b[0;34m:\u001b[0m\u001b[0;34m\u001b[0m\u001b[0m\n\u001b[1;32m   1793\u001b[0m             \u001b[0;32mreturn\u001b[0m \u001b[0mself\u001b[0m\u001b[0;34m.\u001b[0m\u001b[0m_getitem_frame\u001b[0m\u001b[0;34m(\u001b[0m\u001b[0mkey\u001b[0m\u001b[0;34m)\u001b[0m\u001b[0;34m\u001b[0m\u001b[0m\n",
      "\u001b[0;32m/Users/tom.augspurger/Envs/py3/lib/python3.4/site-packages/pandas-0.16.2_11_gd8a2f30-py3.4-macosx-10.10-x86_64.egg/pandas/core/frame.py\u001b[0m in \u001b[0;36m_getitem_array\u001b[0;34m(self, key)\u001b[0m\n\u001b[1;32m   1833\u001b[0m             \u001b[0;32mreturn\u001b[0m \u001b[0mself\u001b[0m\u001b[0;34m.\u001b[0m\u001b[0mtake\u001b[0m\u001b[0;34m(\u001b[0m\u001b[0mindexer\u001b[0m\u001b[0;34m,\u001b[0m \u001b[0maxis\u001b[0m\u001b[0;34m=\u001b[0m\u001b[0;36m0\u001b[0m\u001b[0;34m,\u001b[0m \u001b[0mconvert\u001b[0m\u001b[0;34m=\u001b[0m\u001b[0;32mFalse\u001b[0m\u001b[0;34m)\u001b[0m\u001b[0;34m\u001b[0m\u001b[0m\n\u001b[1;32m   1834\u001b[0m         \u001b[0;32melse\u001b[0m\u001b[0;34m:\u001b[0m\u001b[0;34m\u001b[0m\u001b[0m\n\u001b[0;32m-> 1835\u001b[0;31m             \u001b[0mindexer\u001b[0m \u001b[0;34m=\u001b[0m \u001b[0mself\u001b[0m\u001b[0;34m.\u001b[0m\u001b[0mix\u001b[0m\u001b[0;34m.\u001b[0m\u001b[0m_convert_to_indexer\u001b[0m\u001b[0;34m(\u001b[0m\u001b[0mkey\u001b[0m\u001b[0;34m,\u001b[0m \u001b[0maxis\u001b[0m\u001b[0;34m=\u001b[0m\u001b[0;36m1\u001b[0m\u001b[0;34m)\u001b[0m\u001b[0;34m\u001b[0m\u001b[0m\n\u001b[0m\u001b[1;32m   1836\u001b[0m             \u001b[0;32mreturn\u001b[0m \u001b[0mself\u001b[0m\u001b[0;34m.\u001b[0m\u001b[0mtake\u001b[0m\u001b[0;34m(\u001b[0m\u001b[0mindexer\u001b[0m\u001b[0;34m,\u001b[0m \u001b[0maxis\u001b[0m\u001b[0;34m=\u001b[0m\u001b[0;36m1\u001b[0m\u001b[0;34m,\u001b[0m \u001b[0mconvert\u001b[0m\u001b[0;34m=\u001b[0m\u001b[0;32mTrue\u001b[0m\u001b[0;34m)\u001b[0m\u001b[0;34m\u001b[0m\u001b[0m\n\u001b[1;32m   1837\u001b[0m \u001b[0;34m\u001b[0m\u001b[0m\n",
      "\u001b[0;32m/Users/tom.augspurger/Envs/py3/lib/python3.4/site-packages/pandas-0.16.2_11_gd8a2f30-py3.4-macosx-10.10-x86_64.egg/pandas/core/indexing.py\u001b[0m in \u001b[0;36m_convert_to_indexer\u001b[0;34m(self, obj, axis, is_setter)\u001b[0m\n\u001b[1;32m   1110\u001b[0m                 \u001b[0mmask\u001b[0m \u001b[0;34m=\u001b[0m \u001b[0mcheck\u001b[0m \u001b[0;34m==\u001b[0m \u001b[0;34m-\u001b[0m\u001b[0;36m1\u001b[0m\u001b[0;34m\u001b[0m\u001b[0m\n\u001b[1;32m   1111\u001b[0m                 \u001b[0;32mif\u001b[0m \u001b[0mmask\u001b[0m\u001b[0;34m.\u001b[0m\u001b[0many\u001b[0m\u001b[0;34m(\u001b[0m\u001b[0;34m)\u001b[0m\u001b[0;34m:\u001b[0m\u001b[0;34m\u001b[0m\u001b[0m\n\u001b[0;32m-> 1112\u001b[0;31m                     \u001b[0;32mraise\u001b[0m \u001b[0mKeyError\u001b[0m\u001b[0;34m(\u001b[0m\u001b[0;34m'%s not in index'\u001b[0m \u001b[0;34m%\u001b[0m \u001b[0mobjarr\u001b[0m\u001b[0;34m[\u001b[0m\u001b[0mmask\u001b[0m\u001b[0;34m]\u001b[0m\u001b[0;34m)\u001b[0m\u001b[0;34m\u001b[0m\u001b[0m\n\u001b[0m\u001b[1;32m   1113\u001b[0m \u001b[0;34m\u001b[0m\u001b[0m\n\u001b[1;32m   1114\u001b[0m                 \u001b[0;32mreturn\u001b[0m \u001b[0m_values_from_object\u001b[0m\u001b[0;34m(\u001b[0m\u001b[0mindexer\u001b[0m\u001b[0;34m)\u001b[0m\u001b[0;34m\u001b[0m\u001b[0m\n",
      "\u001b[0;31mKeyError\u001b[0m: \"['CAND_PTY'] not in index\""
     ]
    }
   ],
   "source": [
    "cn[['CAND_ID', 'CAND_PTY']]"
   ]
  },
  {
   "cell_type": "code",
   "execution_count": null,
   "metadata": {
    "collapsed": true
   },
   "outputs": [],
   "source": [
    "df = pd."
   ]
  },
  {
   "cell_type": "code",
   "execution_count": null,
   "metadata": {
    "collapsed": true
   },
   "outputs": [],
   "source": []
  },
  {
   "cell_type": "code",
   "execution_count": null,
   "metadata": {
    "collapsed": true
   },
   "outputs": [],
   "source": []
  },
  {
   "cell_type": "code",
   "execution_count": 99,
   "metadata": {
    "collapsed": false
   },
   "outputs": [],
   "source": [
    "df.CMTE_NM = df.CMTE_NM.astype('category')"
   ]
  },
  {
   "cell_type": "code",
   "execution_count": 103,
   "metadata": {
    "collapsed": false
   },
   "outputs": [
    {
     "data": {
      "text/plain": [
       "ACTBLUE                                                      18989\n",
       "DEMOCRATIC CONGRESSIONAL CAMPAIGN COMMITTEE                  17114\n",
       "REPUBLICAN NATIONAL COMMITTEE                                 8877\n",
       "DNC SERVICES CORPORATION/DEMOCRATIC NATIONAL COMMITTEE        7121\n",
       "DEMOCRATIC SENATORIAL CAMPAIGN COMMITTEE                      6494\n",
       "                                                             ...  \n",
       "RIGHT TO LIFE/OREGON PAC                                         1\n",
       "LIBERTARIAN NATIONAL CONGRESSIONAL COMMITTEE INC                 1\n",
       "LAMAR STERNAD FOR CONGRESS                                       1\n",
       "KIDNEY CARE PARTNERS POLITICAL ACTION COMMITTEE (KCP PAC)        1\n",
       "18-29 PAC                                                        1\n",
       "dtype: int64"
      ]
     },
     "execution_count": 103,
     "metadata": {},
     "output_type": "execute_result"
    }
   ],
   "source": [
    "df[\"CMTE_NM\"].value_counts()"
   ]
  },
  {
   "cell_type": "code",
   "execution_count": 90,
   "metadata": {
    "collapsed": false
   },
   "outputs": [
    {
     "data": {
      "text/html": [
       "<div>\n",
       "<table border=\"1\" class=\"dataframe\">\n",
       "  <thead>\n",
       "    <tr style=\"text-align: right;\">\n",
       "      <th></th>\n",
       "      <th>CMTE_ID</th>\n",
       "      <th>AMNDT_IND</th>\n",
       "      <th>RPT_TP</th>\n",
       "      <th>TRANSACTION_PGI</th>\n",
       "      <th>IMAGE_NUM</th>\n",
       "      <th>TRANSACTION_TP</th>\n",
       "      <th>ENTITY_TP</th>\n",
       "      <th>NAME</th>\n",
       "      <th>CITY</th>\n",
       "      <th>STATE</th>\n",
       "      <th>...</th>\n",
       "      <th>EMPLOYER</th>\n",
       "      <th>OCCUPATION</th>\n",
       "      <th>TRANSACTION_DT</th>\n",
       "      <th>TRANSACTION_AMT</th>\n",
       "      <th>OTHER_ID</th>\n",
       "      <th>TRAN_ID</th>\n",
       "      <th>FILE_NUM</th>\n",
       "      <th>MEMO_CD</th>\n",
       "      <th>MEMO_TEXT</th>\n",
       "      <th>SUB_ID</th>\n",
       "    </tr>\n",
       "  </thead>\n",
       "  <tbody>\n",
       "    <tr>\n",
       "      <th>0</th>\n",
       "      <td>C00004606</td>\n",
       "      <td>N</td>\n",
       "      <td>M4</td>\n",
       "      <td>P</td>\n",
       "      <td>15951124869</td>\n",
       "      <td>15</td>\n",
       "      <td>IND</td>\n",
       "      <td>ARNOLD, ROBERT</td>\n",
       "      <td>MCPHERSON</td>\n",
       "      <td>KS</td>\n",
       "      <td>...</td>\n",
       "      <td>SELF</td>\n",
       "      <td>OPTOMETRIST</td>\n",
       "      <td>3102015</td>\n",
       "      <td>1000</td>\n",
       "      <td>NaN</td>\n",
       "      <td>SA11AI.20747</td>\n",
       "      <td>1002259</td>\n",
       "      <td>NaN</td>\n",
       "      <td>NaN</td>\n",
       "      <td>4041320151241796098</td>\n",
       "    </tr>\n",
       "    <tr>\n",
       "      <th>1</th>\n",
       "      <td>C00004606</td>\n",
       "      <td>N</td>\n",
       "      <td>M4</td>\n",
       "      <td>P</td>\n",
       "      <td>15951124869</td>\n",
       "      <td>15</td>\n",
       "      <td>IND</td>\n",
       "      <td>BICKLE, DON</td>\n",
       "      <td>HAYS</td>\n",
       "      <td>KS</td>\n",
       "      <td>...</td>\n",
       "      <td>RETIRED</td>\n",
       "      <td>RETIRED</td>\n",
       "      <td>3302015</td>\n",
       "      <td>1000</td>\n",
       "      <td>NaN</td>\n",
       "      <td>SA11AI.20772</td>\n",
       "      <td>1002259</td>\n",
       "      <td>NaN</td>\n",
       "      <td>NaN</td>\n",
       "      <td>4041320151241796099</td>\n",
       "    </tr>\n",
       "    <tr>\n",
       "      <th>2</th>\n",
       "      <td>C00004606</td>\n",
       "      <td>N</td>\n",
       "      <td>M4</td>\n",
       "      <td>P</td>\n",
       "      <td>15951124869</td>\n",
       "      <td>15</td>\n",
       "      <td>IND</td>\n",
       "      <td>ROSSMAN, RICHARD</td>\n",
       "      <td>OLATHE</td>\n",
       "      <td>KS</td>\n",
       "      <td>...</td>\n",
       "      <td>CRAWFORD SALES COMPANY</td>\n",
       "      <td>BUSINESSMAN</td>\n",
       "      <td>3302015</td>\n",
       "      <td>250</td>\n",
       "      <td>NaN</td>\n",
       "      <td>SA11AI.20759</td>\n",
       "      <td>1002259</td>\n",
       "      <td>NaN</td>\n",
       "      <td>NaN</td>\n",
       "      <td>4041320151241796100</td>\n",
       "    </tr>\n",
       "    <tr>\n",
       "      <th>3</th>\n",
       "      <td>C00452383</td>\n",
       "      <td>N</td>\n",
       "      <td>M4</td>\n",
       "      <td>P</td>\n",
       "      <td>15951124897</td>\n",
       "      <td>15</td>\n",
       "      <td>IND</td>\n",
       "      <td>LLEWELLYN, CHARLES</td>\n",
       "      <td>FREDERICK</td>\n",
       "      <td>MD</td>\n",
       "      <td>...</td>\n",
       "      <td>NaN</td>\n",
       "      <td>NaN</td>\n",
       "      <td>3112015</td>\n",
       "      <td>500</td>\n",
       "      <td>NaN</td>\n",
       "      <td>SA11AI.25088</td>\n",
       "      <td>1002261</td>\n",
       "      <td>NaN</td>\n",
       "      <td>NaN</td>\n",
       "      <td>4041320151241796102</td>\n",
       "    </tr>\n",
       "    <tr>\n",
       "      <th>4</th>\n",
       "      <td>C00452383</td>\n",
       "      <td>N</td>\n",
       "      <td>M4</td>\n",
       "      <td>P</td>\n",
       "      <td>15951124897</td>\n",
       "      <td>15</td>\n",
       "      <td>IND</td>\n",
       "      <td>TYNES, TIMOTHY MR.</td>\n",
       "      <td>VERO BEACH</td>\n",
       "      <td>FL</td>\n",
       "      <td>...</td>\n",
       "      <td>NaN</td>\n",
       "      <td>NaN</td>\n",
       "      <td>3022015</td>\n",
       "      <td>250</td>\n",
       "      <td>NaN</td>\n",
       "      <td>SA11AI.25074</td>\n",
       "      <td>1002261</td>\n",
       "      <td>NaN</td>\n",
       "      <td>NaN</td>\n",
       "      <td>4041320151241796103</td>\n",
       "    </tr>\n",
       "  </tbody>\n",
       "</table>\n",
       "<p>5 rows × 21 columns</p>\n",
       "</div>"
      ],
      "text/plain": [
       "     CMTE_ID AMNDT_IND RPT_TP TRANSACTION_PGI    IMAGE_NUM TRANSACTION_TP  \\\n",
       "0  C00004606         N     M4               P  15951124869             15   \n",
       "1  C00004606         N     M4               P  15951124869             15   \n",
       "2  C00004606         N     M4               P  15951124869             15   \n",
       "3  C00452383         N     M4               P  15951124897             15   \n",
       "4  C00452383         N     M4               P  15951124897             15   \n",
       "\n",
       "  ENTITY_TP                NAME        CITY STATE         ...           \\\n",
       "0       IND      ARNOLD, ROBERT   MCPHERSON    KS         ...            \n",
       "1       IND         BICKLE, DON        HAYS    KS         ...            \n",
       "2       IND    ROSSMAN, RICHARD      OLATHE    KS         ...            \n",
       "3       IND  LLEWELLYN, CHARLES   FREDERICK    MD         ...            \n",
       "4       IND  TYNES, TIMOTHY MR.  VERO BEACH    FL         ...            \n",
       "\n",
       "                 EMPLOYER   OCCUPATION TRANSACTION_DT  TRANSACTION_AMT  \\\n",
       "0                    SELF  OPTOMETRIST        3102015             1000   \n",
       "1                 RETIRED      RETIRED        3302015             1000   \n",
       "2  CRAWFORD SALES COMPANY  BUSINESSMAN        3302015              250   \n",
       "3                     NaN          NaN        3112015              500   \n",
       "4                     NaN          NaN        3022015              250   \n",
       "\n",
       "   OTHER_ID       TRAN_ID FILE_NUM  MEMO_CD MEMO_TEXT               SUB_ID  \n",
       "0       NaN  SA11AI.20747  1002259      NaN       NaN  4041320151241796098  \n",
       "1       NaN  SA11AI.20772  1002259      NaN       NaN  4041320151241796099  \n",
       "2       NaN  SA11AI.20759  1002259      NaN       NaN  4041320151241796100  \n",
       "3       NaN  SA11AI.25088  1002261      NaN       NaN  4041320151241796102  \n",
       "4       NaN  SA11AI.25074  1002261      NaN       NaN  4041320151241796103  \n",
       "\n",
       "[5 rows x 21 columns]"
      ]
     },
     "execution_count": 90,
     "metadata": {},
     "output_type": "execute_result"
    }
   ],
   "source": [
    "df.head()"
   ]
  },
  {
   "cell_type": "code",
   "execution_count": 88,
   "metadata": {
    "collapsed": false
   },
   "outputs": [
    {
     "data": {
      "text/plain": [
       "C00401224    18989\n",
       "C00000935    17114\n",
       "C00003418     8877\n",
       "C00010603     7121\n",
       "C00042366     6494\n",
       "             ...  \n",
       "C00556266        1\n",
       "C00573246        1\n",
       "C00169532        1\n",
       "C00541938        1\n",
       "C00552463        1\n",
       "dtype: int64"
      ]
     },
     "execution_count": 88,
     "metadata": {},
     "output_type": "execute_result"
    }
   ],
   "source": [
    "df.CMTE_ID.value_counts()"
   ]
  },
  {
   "cell_type": "code",
   "execution_count": 86,
   "metadata": {
    "collapsed": false
   },
   "outputs": [
    {
     "data": {
      "text/plain": [
       "KALEMKARIAN, TIMOTHY CHARLES         3\n",
       "MARTIN, ANDY                         3\n",
       "POLIQUIN, BRUCE L                    2\n",
       "LOWE, THUY                           2\n",
       "SINGLETON, JEROME FRANCIS MR. JR.    2\n",
       "dtype: int64"
      ]
     },
     "execution_count": 86,
     "metadata": {},
     "output_type": "execute_result"
    }
   ],
   "source": [
    "cn.CAND_NAME.value_counts().head()"
   ]
  },
  {
   "cell_type": "code",
   "execution_count": 72,
   "metadata": {
    "collapsed": false
   },
   "outputs": [],
   "source": [
    "df['TRANSACTION_DT'] = pd.to_datetime(df.TRANSACTION_DT.astype(str), format='%d%M%Y.0')"
   ]
  },
  {
   "cell_type": "markdown",
   "metadata": {},
   "source": [
    "- CAN = Candidate\n",
    "- CCM = Candidate Committee\n",
    "- COM = Committee\n",
    "- IND = Individual (a person)\n",
    "- ORG = Organization (not a committee and not a person)\n",
    "- PAC = Political Action Committee\n",
    "- PTY = Party Organization"
   ]
  },
  {
   "cell_type": "code",
   "execution_count": 79,
   "metadata": {
    "collapsed": false
   },
   "outputs": [
    {
     "data": {
      "text/plain": [
       "IND    204442\n",
       "ORG       566\n",
       "CAN       291\n",
       "PAC        27\n",
       "CCM        20\n",
       "COM        18\n",
       "PTY         1\n",
       "dtype: int64"
      ]
     },
     "execution_count": 79,
     "metadata": {},
     "output_type": "execute_result"
    }
   ],
   "source": [
    "df.ENTITY_TP.value_counts()"
   ]
  },
  {
   "cell_type": "code",
   "execution_count": 74,
   "metadata": {
    "collapsed": false
   },
   "outputs": [
    {
     "name": "stdout",
     "output_type": "stream",
     "text": [
      "<class 'pandas.core.frame.DataFrame'>\n",
      "Int64Index: 205519 entries, 0 to 205518\n",
      "Data columns (total 21 columns):\n",
      "CMTE_ID            205519 non-null object\n",
      "AMNDT_IND          205519 non-null object\n",
      "RPT_TP             205519 non-null object\n",
      "TRANSACTION_PGI    205444 non-null object\n",
      "IMAGE_NUM          205519 non-null int64\n",
      "TRANSACTION_TP     205519 non-null object\n",
      "ENTITY_TP          205365 non-null object\n",
      "NAME               205510 non-null object\n",
      "CITY               205373 non-null object\n",
      "STATE              205151 non-null object\n",
      "ZIP_CODE           204899 non-null object\n",
      "EMPLOYER           165614 non-null object\n",
      "OCCUPATION         171342 non-null object\n",
      "TRANSACTION_DT     205518 non-null datetime64[ns]\n",
      "TRANSACTION_AMT    205519 non-null int64\n",
      "OTHER_ID           29908 non-null object\n",
      "TRAN_ID            205507 non-null object\n",
      "FILE_NUM           205519 non-null int64\n",
      "MEMO_CD            5471 non-null object\n",
      "MEMO_TEXT          48980 non-null object\n",
      "SUB_ID             205519 non-null int64\n",
      "dtypes: datetime64[ns](1), int64(4), object(16)\n",
      "memory usage: 34.5+ MB\n"
     ]
    }
   ],
   "source": [
    "df.info()"
   ]
  },
  {
   "cell_type": "code",
   "execution_count": 77,
   "metadata": {
    "collapsed": false
   },
   "outputs": [
    {
     "data": {
      "text/plain": [
       "0         IND\n",
       "1         IND\n",
       "2         IND\n",
       "3         IND\n",
       "4         IND\n",
       "         ... \n",
       "205514    IND\n",
       "205515    IND\n",
       "205516    IND\n",
       "205517    IND\n",
       "205518    IND\n",
       "Name: ENTITY_TP, dtype: object"
      ]
     },
     "execution_count": 77,
     "metadata": {},
     "output_type": "execute_result"
    }
   ],
   "source": [
    "df.ENTITY_TP"
   ]
  },
  {
   "cell_type": "code",
   "execution_count": null,
   "metadata": {
    "collapsed": true
   },
   "outputs": [],
   "source": []
  },
  {
   "cell_type": "code",
   "execution_count": null,
   "metadata": {
    "collapsed": true
   },
   "outputs": [],
   "source": []
  },
  {
   "cell_type": "code",
   "execution_count": 37,
   "metadata": {
    "collapsed": false
   },
   "outputs": [
    {
     "data": {
      "text/html": [
       "<div>\n",
       "<table border=\"1\" class=\"dataframe\">\n",
       "  <thead>\n",
       "    <tr style=\"text-align: right;\">\n",
       "      <th></th>\n",
       "      <th>CMTE_ID</th>\n",
       "      <th>AMNDT_IND</th>\n",
       "      <th>RPT_TP</th>\n",
       "      <th>TRANSACTION_PGI</th>\n",
       "      <th>IMAGE_NUM</th>\n",
       "      <th>TRANSACTION_TP</th>\n",
       "      <th>ENTITY_TP</th>\n",
       "      <th>NAME</th>\n",
       "      <th>CITY</th>\n",
       "      <th>STATE</th>\n",
       "      <th>...</th>\n",
       "      <th>EMPLOYER</th>\n",
       "      <th>OCCUPATION</th>\n",
       "      <th>TRANSACTION_DT</th>\n",
       "      <th>TRANSACTION_AMT</th>\n",
       "      <th>OTHER_ID</th>\n",
       "      <th>TRAN_ID</th>\n",
       "      <th>FILE_NUM</th>\n",
       "      <th>MEMO_CD</th>\n",
       "      <th>MEMO_TEXT</th>\n",
       "      <th>SUB_ID</th>\n",
       "    </tr>\n",
       "  </thead>\n",
       "  <tbody>\n",
       "    <tr>\n",
       "      <th>0</th>\n",
       "      <td>C00004606</td>\n",
       "      <td>N</td>\n",
       "      <td>M4</td>\n",
       "      <td>P</td>\n",
       "      <td>15951124869</td>\n",
       "      <td>15</td>\n",
       "      <td>IND</td>\n",
       "      <td>ARNOLD, ROBERT</td>\n",
       "      <td>MCPHERSON</td>\n",
       "      <td>KS</td>\n",
       "      <td>...</td>\n",
       "      <td>SELF</td>\n",
       "      <td>OPTOMETRIST</td>\n",
       "      <td>3102015</td>\n",
       "      <td>1000</td>\n",
       "      <td>NaN</td>\n",
       "      <td>SA11AI.20747</td>\n",
       "      <td>1002259</td>\n",
       "      <td>NaN</td>\n",
       "      <td>NaN</td>\n",
       "      <td>4041320151241796098</td>\n",
       "    </tr>\n",
       "    <tr>\n",
       "      <th>1</th>\n",
       "      <td>C00004606</td>\n",
       "      <td>N</td>\n",
       "      <td>M4</td>\n",
       "      <td>P</td>\n",
       "      <td>15951124869</td>\n",
       "      <td>15</td>\n",
       "      <td>IND</td>\n",
       "      <td>BICKLE, DON</td>\n",
       "      <td>HAYS</td>\n",
       "      <td>KS</td>\n",
       "      <td>...</td>\n",
       "      <td>RETIRED</td>\n",
       "      <td>RETIRED</td>\n",
       "      <td>3302015</td>\n",
       "      <td>1000</td>\n",
       "      <td>NaN</td>\n",
       "      <td>SA11AI.20772</td>\n",
       "      <td>1002259</td>\n",
       "      <td>NaN</td>\n",
       "      <td>NaN</td>\n",
       "      <td>4041320151241796099</td>\n",
       "    </tr>\n",
       "    <tr>\n",
       "      <th>2</th>\n",
       "      <td>C00004606</td>\n",
       "      <td>N</td>\n",
       "      <td>M4</td>\n",
       "      <td>P</td>\n",
       "      <td>15951124869</td>\n",
       "      <td>15</td>\n",
       "      <td>IND</td>\n",
       "      <td>ROSSMAN, RICHARD</td>\n",
       "      <td>OLATHE</td>\n",
       "      <td>KS</td>\n",
       "      <td>...</td>\n",
       "      <td>CRAWFORD SALES COMPANY</td>\n",
       "      <td>BUSINESSMAN</td>\n",
       "      <td>3302015</td>\n",
       "      <td>250</td>\n",
       "      <td>NaN</td>\n",
       "      <td>SA11AI.20759</td>\n",
       "      <td>1002259</td>\n",
       "      <td>NaN</td>\n",
       "      <td>NaN</td>\n",
       "      <td>4041320151241796100</td>\n",
       "    </tr>\n",
       "    <tr>\n",
       "      <th>3</th>\n",
       "      <td>C00452383</td>\n",
       "      <td>N</td>\n",
       "      <td>M4</td>\n",
       "      <td>P</td>\n",
       "      <td>15951124897</td>\n",
       "      <td>15</td>\n",
       "      <td>IND</td>\n",
       "      <td>LLEWELLYN, CHARLES</td>\n",
       "      <td>FREDERICK</td>\n",
       "      <td>MD</td>\n",
       "      <td>...</td>\n",
       "      <td>NaN</td>\n",
       "      <td>NaN</td>\n",
       "      <td>3112015</td>\n",
       "      <td>500</td>\n",
       "      <td>NaN</td>\n",
       "      <td>SA11AI.25088</td>\n",
       "      <td>1002261</td>\n",
       "      <td>NaN</td>\n",
       "      <td>NaN</td>\n",
       "      <td>4041320151241796102</td>\n",
       "    </tr>\n",
       "    <tr>\n",
       "      <th>4</th>\n",
       "      <td>C00452383</td>\n",
       "      <td>N</td>\n",
       "      <td>M4</td>\n",
       "      <td>P</td>\n",
       "      <td>15951124897</td>\n",
       "      <td>15</td>\n",
       "      <td>IND</td>\n",
       "      <td>TYNES, TIMOTHY MR.</td>\n",
       "      <td>VERO BEACH</td>\n",
       "      <td>FL</td>\n",
       "      <td>...</td>\n",
       "      <td>NaN</td>\n",
       "      <td>NaN</td>\n",
       "      <td>3022015</td>\n",
       "      <td>250</td>\n",
       "      <td>NaN</td>\n",
       "      <td>SA11AI.25074</td>\n",
       "      <td>1002261</td>\n",
       "      <td>NaN</td>\n",
       "      <td>NaN</td>\n",
       "      <td>4041320151241796103</td>\n",
       "    </tr>\n",
       "  </tbody>\n",
       "</table>\n",
       "<p>5 rows × 21 columns</p>\n",
       "</div>"
      ],
      "text/plain": [
       "     CMTE_ID AMNDT_IND RPT_TP TRANSACTION_PGI    IMAGE_NUM TRANSACTION_TP  \\\n",
       "0  C00004606         N     M4               P  15951124869             15   \n",
       "1  C00004606         N     M4               P  15951124869             15   \n",
       "2  C00004606         N     M4               P  15951124869             15   \n",
       "3  C00452383         N     M4               P  15951124897             15   \n",
       "4  C00452383         N     M4               P  15951124897             15   \n",
       "\n",
       "  ENTITY_TP                NAME        CITY STATE         ...           \\\n",
       "0       IND      ARNOLD, ROBERT   MCPHERSON    KS         ...            \n",
       "1       IND         BICKLE, DON        HAYS    KS         ...            \n",
       "2       IND    ROSSMAN, RICHARD      OLATHE    KS         ...            \n",
       "3       IND  LLEWELLYN, CHARLES   FREDERICK    MD         ...            \n",
       "4       IND  TYNES, TIMOTHY MR.  VERO BEACH    FL         ...            \n",
       "\n",
       "                 EMPLOYER   OCCUPATION TRANSACTION_DT  TRANSACTION_AMT  \\\n",
       "0                    SELF  OPTOMETRIST        3102015             1000   \n",
       "1                 RETIRED      RETIRED        3302015             1000   \n",
       "2  CRAWFORD SALES COMPANY  BUSINESSMAN        3302015              250   \n",
       "3                     NaN          NaN        3112015              500   \n",
       "4                     NaN          NaN        3022015              250   \n",
       "\n",
       "   OTHER_ID       TRAN_ID FILE_NUM  MEMO_CD MEMO_TEXT               SUB_ID  \n",
       "0       NaN  SA11AI.20747  1002259      NaN       NaN  4041320151241796098  \n",
       "1       NaN  SA11AI.20772  1002259      NaN       NaN  4041320151241796099  \n",
       "2       NaN  SA11AI.20759  1002259      NaN       NaN  4041320151241796100  \n",
       "3       NaN  SA11AI.25088  1002261      NaN       NaN  4041320151241796102  \n",
       "4       NaN  SA11AI.25074  1002261      NaN       NaN  4041320151241796103  \n",
       "\n",
       "[5 rows x 21 columns]"
      ]
     },
     "execution_count": 37,
     "metadata": {},
     "output_type": "execute_result"
    }
   ],
   "source": [
    "df.head()"
   ]
  },
  {
   "cell_type": "code",
   "execution_count": 43,
   "metadata": {
    "collapsed": false
   },
   "outputs": [
    {
     "ename": "ValueError",
     "evalue": "Cannot convert NA to integer",
     "output_type": "error",
     "traceback": [
      "\u001b[0;31m---------------------------------------------------------------------------\u001b[0m",
      "\u001b[0;31mValueError\u001b[0m                                Traceback (most recent call last)",
      "\u001b[0;32m<ipython-input-43-a53f0a385f1d>\u001b[0m in \u001b[0;36m<module>\u001b[0;34m()\u001b[0m\n\u001b[0;32m----> 1\u001b[0;31m \u001b[0mdf\u001b[0m\u001b[0;34m.\u001b[0m\u001b[0mTRANSACTION_DT\u001b[0m\u001b[0;34m.\u001b[0m\u001b[0mastype\u001b[0m\u001b[0;34m(\u001b[0m\u001b[0mint\u001b[0m\u001b[0;34m)\u001b[0m\u001b[0;34m.\u001b[0m\u001b[0mastype\u001b[0m\u001b[0;34m(\u001b[0m\u001b[0mstr\u001b[0m\u001b[0;34m)\u001b[0m\u001b[0;34m\u001b[0m\u001b[0m\n\u001b[0m",
      "\u001b[0;32m/Users/tom.augspurger/Envs/py3/lib/python3.4/site-packages/pandas-0.16.2_11_gd8a2f30-py3.4-macosx-10.10-x86_64.egg/pandas/core/generic.py\u001b[0m in \u001b[0;36mastype\u001b[0;34m(self, dtype, copy, raise_on_error, **kwargs)\u001b[0m\n\u001b[1;32m   2409\u001b[0m \u001b[0;34m\u001b[0m\u001b[0m\n\u001b[1;32m   2410\u001b[0m         mgr = self._data.astype(\n\u001b[0;32m-> 2411\u001b[0;31m             dtype=dtype, copy=copy, raise_on_error=raise_on_error, **kwargs)\n\u001b[0m\u001b[1;32m   2412\u001b[0m         \u001b[0;32mreturn\u001b[0m \u001b[0mself\u001b[0m\u001b[0;34m.\u001b[0m\u001b[0m_constructor\u001b[0m\u001b[0;34m(\u001b[0m\u001b[0mmgr\u001b[0m\u001b[0;34m)\u001b[0m\u001b[0;34m.\u001b[0m\u001b[0m__finalize__\u001b[0m\u001b[0;34m(\u001b[0m\u001b[0mself\u001b[0m\u001b[0;34m)\u001b[0m\u001b[0;34m\u001b[0m\u001b[0m\n\u001b[1;32m   2413\u001b[0m \u001b[0;34m\u001b[0m\u001b[0m\n",
      "\u001b[0;32m/Users/tom.augspurger/Envs/py3/lib/python3.4/site-packages/pandas-0.16.2_11_gd8a2f30-py3.4-macosx-10.10-x86_64.egg/pandas/core/internals.py\u001b[0m in \u001b[0;36mastype\u001b[0;34m(self, dtype, **kwargs)\u001b[0m\n\u001b[1;32m   2505\u001b[0m \u001b[0;34m\u001b[0m\u001b[0m\n\u001b[1;32m   2506\u001b[0m     \u001b[0;32mdef\u001b[0m \u001b[0mastype\u001b[0m\u001b[0;34m(\u001b[0m\u001b[0mself\u001b[0m\u001b[0;34m,\u001b[0m \u001b[0mdtype\u001b[0m\u001b[0;34m,\u001b[0m \u001b[0;34m**\u001b[0m\u001b[0mkwargs\u001b[0m\u001b[0;34m)\u001b[0m\u001b[0;34m:\u001b[0m\u001b[0;34m\u001b[0m\u001b[0m\n\u001b[0;32m-> 2507\u001b[0;31m         \u001b[0;32mreturn\u001b[0m \u001b[0mself\u001b[0m\u001b[0;34m.\u001b[0m\u001b[0mapply\u001b[0m\u001b[0;34m(\u001b[0m\u001b[0;34m'astype'\u001b[0m\u001b[0;34m,\u001b[0m \u001b[0mdtype\u001b[0m\u001b[0;34m=\u001b[0m\u001b[0mdtype\u001b[0m\u001b[0;34m,\u001b[0m \u001b[0;34m**\u001b[0m\u001b[0mkwargs\u001b[0m\u001b[0;34m)\u001b[0m\u001b[0;34m\u001b[0m\u001b[0m\n\u001b[0m\u001b[1;32m   2508\u001b[0m \u001b[0;34m\u001b[0m\u001b[0m\n\u001b[1;32m   2509\u001b[0m     \u001b[0;32mdef\u001b[0m \u001b[0mconvert\u001b[0m\u001b[0;34m(\u001b[0m\u001b[0mself\u001b[0m\u001b[0;34m,\u001b[0m \u001b[0;34m**\u001b[0m\u001b[0mkwargs\u001b[0m\u001b[0;34m)\u001b[0m\u001b[0;34m:\u001b[0m\u001b[0;34m\u001b[0m\u001b[0m\n",
      "\u001b[0;32m/Users/tom.augspurger/Envs/py3/lib/python3.4/site-packages/pandas-0.16.2_11_gd8a2f30-py3.4-macosx-10.10-x86_64.egg/pandas/core/internals.py\u001b[0m in \u001b[0;36mapply\u001b[0;34m(self, f, axes, filter, do_integrity_check, **kwargs)\u001b[0m\n\u001b[1;32m   2460\u001b[0m                                                  copy=align_copy)\n\u001b[1;32m   2461\u001b[0m \u001b[0;34m\u001b[0m\u001b[0m\n\u001b[0;32m-> 2462\u001b[0;31m             \u001b[0mapplied\u001b[0m \u001b[0;34m=\u001b[0m \u001b[0mgetattr\u001b[0m\u001b[0;34m(\u001b[0m\u001b[0mb\u001b[0m\u001b[0;34m,\u001b[0m \u001b[0mf\u001b[0m\u001b[0;34m)\u001b[0m\u001b[0;34m(\u001b[0m\u001b[0;34m**\u001b[0m\u001b[0mkwargs\u001b[0m\u001b[0;34m)\u001b[0m\u001b[0;34m\u001b[0m\u001b[0m\n\u001b[0m\u001b[1;32m   2463\u001b[0m \u001b[0;34m\u001b[0m\u001b[0m\n\u001b[1;32m   2464\u001b[0m             \u001b[0;32mif\u001b[0m \u001b[0misinstance\u001b[0m\u001b[0;34m(\u001b[0m\u001b[0mapplied\u001b[0m\u001b[0;34m,\u001b[0m \u001b[0mlist\u001b[0m\u001b[0;34m)\u001b[0m\u001b[0;34m:\u001b[0m\u001b[0;34m\u001b[0m\u001b[0m\n",
      "\u001b[0;32m/Users/tom.augspurger/Envs/py3/lib/python3.4/site-packages/pandas-0.16.2_11_gd8a2f30-py3.4-macosx-10.10-x86_64.egg/pandas/core/internals.py\u001b[0m in \u001b[0;36mastype\u001b[0;34m(self, dtype, copy, raise_on_error, values, **kwargs)\u001b[0m\n\u001b[1;32m    371\u001b[0m     \u001b[0;32mdef\u001b[0m \u001b[0mastype\u001b[0m\u001b[0;34m(\u001b[0m\u001b[0mself\u001b[0m\u001b[0;34m,\u001b[0m \u001b[0mdtype\u001b[0m\u001b[0;34m,\u001b[0m \u001b[0mcopy\u001b[0m\u001b[0;34m=\u001b[0m\u001b[0;32mFalse\u001b[0m\u001b[0;34m,\u001b[0m \u001b[0mraise_on_error\u001b[0m\u001b[0;34m=\u001b[0m\u001b[0;32mTrue\u001b[0m\u001b[0;34m,\u001b[0m \u001b[0mvalues\u001b[0m\u001b[0;34m=\u001b[0m\u001b[0;32mNone\u001b[0m\u001b[0;34m,\u001b[0m \u001b[0;34m**\u001b[0m\u001b[0mkwargs\u001b[0m\u001b[0;34m)\u001b[0m\u001b[0;34m:\u001b[0m\u001b[0;34m\u001b[0m\u001b[0m\n\u001b[1;32m    372\u001b[0m         return self._astype(dtype, copy=copy, raise_on_error=raise_on_error,\n\u001b[0;32m--> 373\u001b[0;31m                             values=values, **kwargs)\n\u001b[0m\u001b[1;32m    374\u001b[0m \u001b[0;34m\u001b[0m\u001b[0m\n\u001b[1;32m    375\u001b[0m     def _astype(self, dtype, copy=False, raise_on_error=True, values=None,\n",
      "\u001b[0;32m/Users/tom.augspurger/Envs/py3/lib/python3.4/site-packages/pandas-0.16.2_11_gd8a2f30-py3.4-macosx-10.10-x86_64.egg/pandas/core/internals.py\u001b[0m in \u001b[0;36m_astype\u001b[0;34m(self, dtype, copy, raise_on_error, values, klass, **kwargs)\u001b[0m\n\u001b[1;32m    401\u001b[0m             \u001b[0;32mif\u001b[0m \u001b[0mvalues\u001b[0m \u001b[0;32mis\u001b[0m \u001b[0;32mNone\u001b[0m\u001b[0;34m:\u001b[0m\u001b[0;34m\u001b[0m\u001b[0m\n\u001b[1;32m    402\u001b[0m                 \u001b[0;31m# _astype_nansafe works fine with 1-d only\u001b[0m\u001b[0;34m\u001b[0m\u001b[0;34m\u001b[0m\u001b[0m\n\u001b[0;32m--> 403\u001b[0;31m                 \u001b[0mvalues\u001b[0m \u001b[0;34m=\u001b[0m \u001b[0mcom\u001b[0m\u001b[0;34m.\u001b[0m\u001b[0m_astype_nansafe\u001b[0m\u001b[0;34m(\u001b[0m\u001b[0mself\u001b[0m\u001b[0;34m.\u001b[0m\u001b[0mvalues\u001b[0m\u001b[0;34m.\u001b[0m\u001b[0mravel\u001b[0m\u001b[0;34m(\u001b[0m\u001b[0;34m)\u001b[0m\u001b[0;34m,\u001b[0m \u001b[0mdtype\u001b[0m\u001b[0;34m,\u001b[0m \u001b[0mcopy\u001b[0m\u001b[0;34m=\u001b[0m\u001b[0;32mTrue\u001b[0m\u001b[0;34m)\u001b[0m\u001b[0;34m\u001b[0m\u001b[0m\n\u001b[0m\u001b[1;32m    404\u001b[0m                 \u001b[0mvalues\u001b[0m \u001b[0;34m=\u001b[0m \u001b[0mvalues\u001b[0m\u001b[0;34m.\u001b[0m\u001b[0mreshape\u001b[0m\u001b[0;34m(\u001b[0m\u001b[0mself\u001b[0m\u001b[0;34m.\u001b[0m\u001b[0mvalues\u001b[0m\u001b[0;34m.\u001b[0m\u001b[0mshape\u001b[0m\u001b[0;34m)\u001b[0m\u001b[0;34m\u001b[0m\u001b[0m\n\u001b[1;32m    405\u001b[0m             newb = make_block(values,\n",
      "\u001b[0;32m/Users/tom.augspurger/Envs/py3/lib/python3.4/site-packages/pandas-0.16.2_11_gd8a2f30-py3.4-macosx-10.10-x86_64.egg/pandas/core/common.py\u001b[0m in \u001b[0;36m_astype_nansafe\u001b[0;34m(arr, dtype, copy)\u001b[0m\n\u001b[1;32m   2726\u001b[0m \u001b[0;34m\u001b[0m\u001b[0m\n\u001b[1;32m   2727\u001b[0m         \u001b[0;32mif\u001b[0m \u001b[0mnp\u001b[0m\u001b[0;34m.\u001b[0m\u001b[0misnan\u001b[0m\u001b[0;34m(\u001b[0m\u001b[0marr\u001b[0m\u001b[0;34m)\u001b[0m\u001b[0;34m.\u001b[0m\u001b[0many\u001b[0m\u001b[0;34m(\u001b[0m\u001b[0;34m)\u001b[0m\u001b[0;34m:\u001b[0m\u001b[0;34m\u001b[0m\u001b[0m\n\u001b[0;32m-> 2728\u001b[0;31m             \u001b[0;32mraise\u001b[0m \u001b[0mValueError\u001b[0m\u001b[0;34m(\u001b[0m\u001b[0;34m'Cannot convert NA to integer'\u001b[0m\u001b[0;34m)\u001b[0m\u001b[0;34m\u001b[0m\u001b[0m\n\u001b[0m\u001b[1;32m   2729\u001b[0m     \u001b[0;32melif\u001b[0m \u001b[0marr\u001b[0m\u001b[0;34m.\u001b[0m\u001b[0mdtype\u001b[0m \u001b[0;34m==\u001b[0m \u001b[0mnp\u001b[0m\u001b[0;34m.\u001b[0m\u001b[0mobject_\u001b[0m \u001b[0;32mand\u001b[0m \u001b[0mnp\u001b[0m\u001b[0;34m.\u001b[0m\u001b[0missubdtype\u001b[0m\u001b[0;34m(\u001b[0m\u001b[0mdtype\u001b[0m\u001b[0;34m.\u001b[0m\u001b[0mtype\u001b[0m\u001b[0;34m,\u001b[0m \u001b[0mnp\u001b[0m\u001b[0;34m.\u001b[0m\u001b[0minteger\u001b[0m\u001b[0;34m)\u001b[0m\u001b[0;34m:\u001b[0m\u001b[0;34m\u001b[0m\u001b[0m\n\u001b[1;32m   2730\u001b[0m         \u001b[0;31m# work around NumPy brokenness, #1987\u001b[0m\u001b[0;34m\u001b[0m\u001b[0;34m\u001b[0m\u001b[0m\n",
      "\u001b[0;31mValueError\u001b[0m: Cannot convert NA to integer"
     ]
    }
   ],
   "source": [
    "df.TRANSACTION_DT"
   ]
  },
  {
   "cell_type": "code",
   "execution_count": 38,
   "metadata": {
    "collapsed": false
   },
   "outputs": [
    {
     "name": "stdout",
     "output_type": "stream",
     "text": [
      "<class 'pandas.core.frame.DataFrame'>\n",
      "Int64Index: 205519 entries, 0 to 205518\n",
      "Data columns (total 21 columns):\n",
      "CMTE_ID            205519 non-null object\n",
      "AMNDT_IND          205519 non-null object\n",
      "RPT_TP             205519 non-null object\n",
      "TRANSACTION_PGI    205444 non-null object\n",
      "IMAGE_NUM          205519 non-null int64\n",
      "TRANSACTION_TP     205519 non-null object\n",
      "ENTITY_TP          205365 non-null object\n",
      "NAME               205510 non-null object\n",
      "CITY               205373 non-null object\n",
      "STATE              205151 non-null object\n",
      "ZIP_CODE           204899 non-null object\n",
      "EMPLOYER           165614 non-null object\n",
      "OCCUPATION         171342 non-null object\n",
      "TRANSACTION_DT     205518 non-null float64\n",
      "TRANSACTION_AMT    205519 non-null int64\n",
      "OTHER_ID           29908 non-null object\n",
      "TRAN_ID            205507 non-null object\n",
      "FILE_NUM           205519 non-null int64\n",
      "MEMO_CD            5471 non-null object\n",
      "MEMO_TEXT          48980 non-null object\n",
      "SUB_ID             205519 non-null int64\n",
      "dtypes: float64(1), int64(4), object(16)\n",
      "memory usage: 34.5+ MB\n"
     ]
    }
   ],
   "source": [
    "df.info()"
   ]
  },
  {
   "cell_type": "code",
   "execution_count": 27,
   "metadata": {
    "collapsed": false
   },
   "outputs": [
    {
     "data": {
      "text/html": [
       "<div>\n",
       "<table border=\"1\" class=\"dataframe\">\n",
       "  <thead>\n",
       "    <tr style=\"text-align: right;\">\n",
       "      <th></th>\n",
       "      <th>C00000059</th>\n",
       "      <th>HALLMARK CARDS PAC</th>\n",
       "      <th>DEAN RODENBOUGH</th>\n",
       "      <th>2501 MCGEE</th>\n",
       "      <th>MD#288</th>\n",
       "      <th>KANSAS CITY</th>\n",
       "      <th>MO</th>\n",
       "      <th>64108</th>\n",
       "      <th>U</th>\n",
       "      <th>Q</th>\n",
       "      <th>UNK</th>\n",
       "      <th>M</th>\n",
       "      <th>C</th>\n",
       "      <th>Unnamed: 13</th>\n",
       "      <th>Unnamed: 14</th>\n",
       "    </tr>\n",
       "  </thead>\n",
       "  <tbody>\n",
       "    <tr>\n",
       "      <th>0</th>\n",
       "      <td>C00000422</td>\n",
       "      <td>AMERICAN MEDICAL ASSOCIATION POLITICAL ACTION ...</td>\n",
       "      <td>WALKER, KEVIN</td>\n",
       "      <td>25 MASSACHUSETTS AVE, NW</td>\n",
       "      <td>SUITE 600</td>\n",
       "      <td>WASHINGTON</td>\n",
       "      <td>DC</td>\n",
       "      <td>20001</td>\n",
       "      <td>B</td>\n",
       "      <td>Q</td>\n",
       "      <td>NaN</td>\n",
       "      <td>M</td>\n",
       "      <td>M</td>\n",
       "      <td>AMERICAN MEDICAL ASSOCIATION</td>\n",
       "      <td>NaN</td>\n",
       "    </tr>\n",
       "    <tr>\n",
       "      <th>1</th>\n",
       "      <td>C00000489</td>\n",
       "      <td>D R I V E POLITICAL FUND CHAPTER 886</td>\n",
       "      <td>TOM RITTER</td>\n",
       "      <td>3528 W RENO</td>\n",
       "      <td>NaN</td>\n",
       "      <td>OKLAHOMA CITY</td>\n",
       "      <td>OK</td>\n",
       "      <td>73107</td>\n",
       "      <td>U</td>\n",
       "      <td>N</td>\n",
       "      <td>NaN</td>\n",
       "      <td>Q</td>\n",
       "      <td>L</td>\n",
       "      <td>TEAMSTERS LOCAL UNION 886</td>\n",
       "      <td>NaN</td>\n",
       "    </tr>\n",
       "    <tr>\n",
       "      <th>2</th>\n",
       "      <td>C00000547</td>\n",
       "      <td>KANSAS MEDICAL SOCIETY POLITICAL ACTION COMMITTEE</td>\n",
       "      <td>C. RICHARD BONEBRAKE, M.D.</td>\n",
       "      <td>623 SW 10TH AVE</td>\n",
       "      <td>NaN</td>\n",
       "      <td>TOPEKA</td>\n",
       "      <td>KS</td>\n",
       "      <td>66612</td>\n",
       "      <td>U</td>\n",
       "      <td>Q</td>\n",
       "      <td>UNK</td>\n",
       "      <td>Q</td>\n",
       "      <td>T</td>\n",
       "      <td>NaN</td>\n",
       "      <td>NaN</td>\n",
       "    </tr>\n",
       "    <tr>\n",
       "      <th>3</th>\n",
       "      <td>C00000638</td>\n",
       "      <td>INDIANA STATE MEDICAL ASSOCIATION POLITICAL AC...</td>\n",
       "      <td>VIDYA KORA, M.D.</td>\n",
       "      <td>322 CANAL WALK, CANAL LEVEL</td>\n",
       "      <td>NaN</td>\n",
       "      <td>INDIANAPOLIS</td>\n",
       "      <td>IN</td>\n",
       "      <td>46202</td>\n",
       "      <td>U</td>\n",
       "      <td>Q</td>\n",
       "      <td>NaN</td>\n",
       "      <td>Q</td>\n",
       "      <td>M</td>\n",
       "      <td>NaN</td>\n",
       "      <td>NaN</td>\n",
       "    </tr>\n",
       "    <tr>\n",
       "      <th>4</th>\n",
       "      <td>C00000729</td>\n",
       "      <td>AMERICAN DENTAL ASSOCIATION POLITICAL ACTION C...</td>\n",
       "      <td>HARRISON, THOMAS C. DR</td>\n",
       "      <td>1111 14TH STREET, NW</td>\n",
       "      <td>SUITE 1100</td>\n",
       "      <td>WASHINGTON</td>\n",
       "      <td>DC</td>\n",
       "      <td>20005</td>\n",
       "      <td>B</td>\n",
       "      <td>Q</td>\n",
       "      <td>UNK</td>\n",
       "      <td>M</td>\n",
       "      <td>M</td>\n",
       "      <td>AMERICAN DENTAL ASSOCIATION</td>\n",
       "      <td>NaN</td>\n",
       "    </tr>\n",
       "    <tr>\n",
       "      <th>...</th>\n",
       "      <td>...</td>\n",
       "      <td>...</td>\n",
       "      <td>...</td>\n",
       "      <td>...</td>\n",
       "      <td>...</td>\n",
       "      <td>...</td>\n",
       "      <td>...</td>\n",
       "      <td>...</td>\n",
       "      <td>...</td>\n",
       "      <td>...</td>\n",
       "      <td>...</td>\n",
       "      <td>...</td>\n",
       "      <td>...</td>\n",
       "      <td>...</td>\n",
       "      <td>...</td>\n",
       "    </tr>\n",
       "    <tr>\n",
       "      <th>12069</th>\n",
       "      <td>C90015363</td>\n",
       "      <td>LONG ISLAND LAW ENFORCEMENT FOUNDATION</td>\n",
       "      <td>NaN</td>\n",
       "      <td>868 CHURCH STREET - SUITE 1</td>\n",
       "      <td>NaN</td>\n",
       "      <td>BOHEMIA</td>\n",
       "      <td>NY</td>\n",
       "      <td>NaN</td>\n",
       "      <td>U</td>\n",
       "      <td>I</td>\n",
       "      <td>NaN</td>\n",
       "      <td>Q</td>\n",
       "      <td>NaN</td>\n",
       "      <td>NaN</td>\n",
       "      <td>NaN</td>\n",
       "    </tr>\n",
       "    <tr>\n",
       "      <th>12070</th>\n",
       "      <td>C90015371</td>\n",
       "      <td>ENVIRONMENT FLORIDA</td>\n",
       "      <td>NaN</td>\n",
       "      <td>3110 1ST AVE. N. SUITE 2K</td>\n",
       "      <td>NaN</td>\n",
       "      <td>ST. PETERSBURG</td>\n",
       "      <td>FL</td>\n",
       "      <td>33713</td>\n",
       "      <td>U</td>\n",
       "      <td>I</td>\n",
       "      <td>NaN</td>\n",
       "      <td>Q</td>\n",
       "      <td>NaN</td>\n",
       "      <td>NaN</td>\n",
       "      <td>NaN</td>\n",
       "    </tr>\n",
       "    <tr>\n",
       "      <th>12071</th>\n",
       "      <td>C90015389</td>\n",
       "      <td>DOUG MAGEE FOR CONGRESS COMMITTEE</td>\n",
       "      <td>NaN</td>\n",
       "      <td>3040 FAIRWAY DRIVE</td>\n",
       "      <td>NaN</td>\n",
       "      <td>BRANDON</td>\n",
       "      <td>MS</td>\n",
       "      <td>39047</td>\n",
       "      <td>U</td>\n",
       "      <td>I</td>\n",
       "      <td>NaN</td>\n",
       "      <td>Q</td>\n",
       "      <td>NaN</td>\n",
       "      <td>NaN</td>\n",
       "      <td>NaN</td>\n",
       "    </tr>\n",
       "    <tr>\n",
       "      <th>12072</th>\n",
       "      <td>C99002396</td>\n",
       "      <td>AMERICAN POLITICAL ACTION COMMITTEE</td>\n",
       "      <td>VERSNEL, J.H.</td>\n",
       "      <td>PO BOX 1682</td>\n",
       "      <td>NaN</td>\n",
       "      <td>BELLEVUE</td>\n",
       "      <td>WA</td>\n",
       "      <td>98009</td>\n",
       "      <td>U</td>\n",
       "      <td>Q</td>\n",
       "      <td>NaN</td>\n",
       "      <td>Q</td>\n",
       "      <td>M</td>\n",
       "      <td>NONE</td>\n",
       "      <td>NaN</td>\n",
       "    </tr>\n",
       "    <tr>\n",
       "      <th>12073</th>\n",
       "      <td>C99003428</td>\n",
       "      <td>THIRD DISTRICT REPUBLICAN PARTY</td>\n",
       "      <td>GERALD J HAMILL</td>\n",
       "      <td>C/O GERALD J HAMILL</td>\n",
       "      <td>PO BOX 36</td>\n",
       "      <td>EAU CLAIRE</td>\n",
       "      <td>WI</td>\n",
       "      <td>547020036</td>\n",
       "      <td>U</td>\n",
       "      <td>Y</td>\n",
       "      <td>REP</td>\n",
       "      <td>Q</td>\n",
       "      <td>NaN</td>\n",
       "      <td>NaN</td>\n",
       "      <td>NaN</td>\n",
       "    </tr>\n",
       "  </tbody>\n",
       "</table>\n",
       "<p>12074 rows × 15 columns</p>\n",
       "</div>"
      ],
      "text/plain": [
       "       C00000059                                 HALLMARK CARDS PAC  \\\n",
       "0      C00000422  AMERICAN MEDICAL ASSOCIATION POLITICAL ACTION ...   \n",
       "1      C00000489               D R I V E POLITICAL FUND CHAPTER 886   \n",
       "2      C00000547  KANSAS MEDICAL SOCIETY POLITICAL ACTION COMMITTEE   \n",
       "3      C00000638  INDIANA STATE MEDICAL ASSOCIATION POLITICAL AC...   \n",
       "4      C00000729  AMERICAN DENTAL ASSOCIATION POLITICAL ACTION C...   \n",
       "...          ...                                                ...   \n",
       "12069  C90015363             LONG ISLAND LAW ENFORCEMENT FOUNDATION   \n",
       "12070  C90015371                                ENVIRONMENT FLORIDA   \n",
       "12071  C90015389                  DOUG MAGEE FOR CONGRESS COMMITTEE   \n",
       "12072  C99002396                AMERICAN POLITICAL ACTION COMMITTEE   \n",
       "12073  C99003428                    THIRD DISTRICT REPUBLICAN PARTY   \n",
       "\n",
       "                  DEAN RODENBOUGH                   2501 MCGEE      MD#288  \\\n",
       "0                   WALKER, KEVIN     25 MASSACHUSETTS AVE, NW   SUITE 600   \n",
       "1                      TOM RITTER                  3528 W RENO         NaN   \n",
       "2      C. RICHARD BONEBRAKE, M.D.              623 SW 10TH AVE         NaN   \n",
       "3                VIDYA KORA, M.D.  322 CANAL WALK, CANAL LEVEL         NaN   \n",
       "4          HARRISON, THOMAS C. DR         1111 14TH STREET, NW  SUITE 1100   \n",
       "...                           ...                          ...         ...   \n",
       "12069                         NaN  868 CHURCH STREET - SUITE 1         NaN   \n",
       "12070                         NaN    3110 1ST AVE. N. SUITE 2K         NaN   \n",
       "12071                         NaN           3040 FAIRWAY DRIVE         NaN   \n",
       "12072               VERSNEL, J.H.                  PO BOX 1682         NaN   \n",
       "12073             GERALD J HAMILL          C/O GERALD J HAMILL   PO BOX 36   \n",
       "\n",
       "          KANSAS CITY  MO      64108  U  Q  UNK  M    C  \\\n",
       "0          WASHINGTON  DC      20001  B  Q  NaN  M    M   \n",
       "1       OKLAHOMA CITY  OK      73107  U  N  NaN  Q    L   \n",
       "2              TOPEKA  KS      66612  U  Q  UNK  Q    T   \n",
       "3        INDIANAPOLIS  IN      46202  U  Q  NaN  Q    M   \n",
       "4          WASHINGTON  DC      20005  B  Q  UNK  M    M   \n",
       "...               ...  ..        ... .. ..  ... ..  ...   \n",
       "12069         BOHEMIA  NY        NaN  U  I  NaN  Q  NaN   \n",
       "12070  ST. PETERSBURG  FL      33713  U  I  NaN  Q  NaN   \n",
       "12071         BRANDON  MS      39047  U  I  NaN  Q  NaN   \n",
       "12072        BELLEVUE  WA      98009  U  Q  NaN  Q    M   \n",
       "12073      EAU CLAIRE  WI  547020036  U  Y  REP  Q  NaN   \n",
       "\n",
       "                        Unnamed: 13 Unnamed: 14  \n",
       "0      AMERICAN MEDICAL ASSOCIATION         NaN  \n",
       "1         TEAMSTERS LOCAL UNION 886         NaN  \n",
       "2                               NaN         NaN  \n",
       "3                               NaN         NaN  \n",
       "4       AMERICAN DENTAL ASSOCIATION         NaN  \n",
       "...                             ...         ...  \n",
       "12069                           NaN         NaN  \n",
       "12070                           NaN         NaN  \n",
       "12071                           NaN         NaN  \n",
       "12072                          NONE         NaN  \n",
       "12073                           NaN         NaN  \n",
       "\n",
       "[12074 rows x 15 columns]"
      ]
     },
     "execution_count": 27,
     "metadata": {},
     "output_type": "execute_result"
    }
   ],
   "source": [
    "pd.read_csv('cm.txt', sep='|')"
   ]
  },
  {
   "cell_type": "code",
   "execution_count": 24,
   "metadata": {
    "collapsed": false
   },
   "outputs": [
    {
     "data": {
      "text/html": [
       "<div>\n",
       "<table border=\"1\" class=\"dataframe\">\n",
       "  <thead>\n",
       "    <tr style=\"text-align: right;\">\n",
       "      <th></th>\n",
       "      <th>CMTE_ID</th>\n",
       "      <th>AMNDT_IND</th>\n",
       "      <th>RPT_TP</th>\n",
       "      <th>TRANSACTION_PGI</th>\n",
       "      <th>IMAGE_NUM</th>\n",
       "      <th>TRANSACTION_TP</th>\n",
       "      <th>ENTITY_TP</th>\n",
       "      <th>NAME</th>\n",
       "      <th>CITY</th>\n",
       "      <th>STATE</th>\n",
       "      <th>...</th>\n",
       "      <th>EMPLOYER</th>\n",
       "      <th>OCCUPATION</th>\n",
       "      <th>TRANSACTION_DT</th>\n",
       "      <th>TRANSACTION_AMT</th>\n",
       "      <th>OTHER_ID</th>\n",
       "      <th>TRAN_ID</th>\n",
       "      <th>FILE_NUM</th>\n",
       "      <th>MEMO_CD</th>\n",
       "      <th>MEMO_TEXT</th>\n",
       "      <th>SUB_ID</th>\n",
       "    </tr>\n",
       "  </thead>\n",
       "  <tbody>\n",
       "    <tr>\n",
       "      <th>0</th>\n",
       "      <td>C00004606</td>\n",
       "      <td>N</td>\n",
       "      <td>M4</td>\n",
       "      <td>P</td>\n",
       "      <td>15951124869</td>\n",
       "      <td>15</td>\n",
       "      <td>IND</td>\n",
       "      <td>ARNOLD, ROBERT</td>\n",
       "      <td>MCPHERSON</td>\n",
       "      <td>KS</td>\n",
       "      <td>...</td>\n",
       "      <td>SELF</td>\n",
       "      <td>OPTOMETRIST</td>\n",
       "      <td>3102015</td>\n",
       "      <td>1000</td>\n",
       "      <td>NaN</td>\n",
       "      <td>SA11AI.20747</td>\n",
       "      <td>1002259</td>\n",
       "      <td>NaN</td>\n",
       "      <td>NaN</td>\n",
       "      <td>4041320151241796098</td>\n",
       "    </tr>\n",
       "    <tr>\n",
       "      <th>1</th>\n",
       "      <td>C00004606</td>\n",
       "      <td>N</td>\n",
       "      <td>M4</td>\n",
       "      <td>P</td>\n",
       "      <td>15951124869</td>\n",
       "      <td>15</td>\n",
       "      <td>IND</td>\n",
       "      <td>BICKLE, DON</td>\n",
       "      <td>HAYS</td>\n",
       "      <td>KS</td>\n",
       "      <td>...</td>\n",
       "      <td>RETIRED</td>\n",
       "      <td>RETIRED</td>\n",
       "      <td>3302015</td>\n",
       "      <td>1000</td>\n",
       "      <td>NaN</td>\n",
       "      <td>SA11AI.20772</td>\n",
       "      <td>1002259</td>\n",
       "      <td>NaN</td>\n",
       "      <td>NaN</td>\n",
       "      <td>4041320151241796099</td>\n",
       "    </tr>\n",
       "    <tr>\n",
       "      <th>2</th>\n",
       "      <td>C00004606</td>\n",
       "      <td>N</td>\n",
       "      <td>M4</td>\n",
       "      <td>P</td>\n",
       "      <td>15951124869</td>\n",
       "      <td>15</td>\n",
       "      <td>IND</td>\n",
       "      <td>ROSSMAN, RICHARD</td>\n",
       "      <td>OLATHE</td>\n",
       "      <td>KS</td>\n",
       "      <td>...</td>\n",
       "      <td>CRAWFORD SALES COMPANY</td>\n",
       "      <td>BUSINESSMAN</td>\n",
       "      <td>3302015</td>\n",
       "      <td>250</td>\n",
       "      <td>NaN</td>\n",
       "      <td>SA11AI.20759</td>\n",
       "      <td>1002259</td>\n",
       "      <td>NaN</td>\n",
       "      <td>NaN</td>\n",
       "      <td>4041320151241796100</td>\n",
       "    </tr>\n",
       "    <tr>\n",
       "      <th>3</th>\n",
       "      <td>C00452383</td>\n",
       "      <td>N</td>\n",
       "      <td>M4</td>\n",
       "      <td>P</td>\n",
       "      <td>15951124897</td>\n",
       "      <td>15</td>\n",
       "      <td>IND</td>\n",
       "      <td>LLEWELLYN, CHARLES</td>\n",
       "      <td>FREDERICK</td>\n",
       "      <td>MD</td>\n",
       "      <td>...</td>\n",
       "      <td>NaN</td>\n",
       "      <td>NaN</td>\n",
       "      <td>3112015</td>\n",
       "      <td>500</td>\n",
       "      <td>NaN</td>\n",
       "      <td>SA11AI.25088</td>\n",
       "      <td>1002261</td>\n",
       "      <td>NaN</td>\n",
       "      <td>NaN</td>\n",
       "      <td>4041320151241796102</td>\n",
       "    </tr>\n",
       "    <tr>\n",
       "      <th>4</th>\n",
       "      <td>C00452383</td>\n",
       "      <td>N</td>\n",
       "      <td>M4</td>\n",
       "      <td>P</td>\n",
       "      <td>15951124897</td>\n",
       "      <td>15</td>\n",
       "      <td>IND</td>\n",
       "      <td>TYNES, TIMOTHY MR.</td>\n",
       "      <td>VERO BEACH</td>\n",
       "      <td>FL</td>\n",
       "      <td>...</td>\n",
       "      <td>NaN</td>\n",
       "      <td>NaN</td>\n",
       "      <td>3022015</td>\n",
       "      <td>250</td>\n",
       "      <td>NaN</td>\n",
       "      <td>SA11AI.25074</td>\n",
       "      <td>1002261</td>\n",
       "      <td>NaN</td>\n",
       "      <td>NaN</td>\n",
       "      <td>4041320151241796103</td>\n",
       "    </tr>\n",
       "  </tbody>\n",
       "</table>\n",
       "<p>5 rows × 21 columns</p>\n",
       "</div>"
      ],
      "text/plain": [
       "     CMTE_ID AMNDT_IND RPT_TP TRANSACTION_PGI    IMAGE_NUM TRANSACTION_TP  \\\n",
       "0  C00004606         N     M4               P  15951124869             15   \n",
       "1  C00004606         N     M4               P  15951124869             15   \n",
       "2  C00004606         N     M4               P  15951124869             15   \n",
       "3  C00452383         N     M4               P  15951124897             15   \n",
       "4  C00452383         N     M4               P  15951124897             15   \n",
       "\n",
       "  ENTITY_TP                NAME        CITY STATE         ...           \\\n",
       "0       IND      ARNOLD, ROBERT   MCPHERSON    KS         ...            \n",
       "1       IND         BICKLE, DON        HAYS    KS         ...            \n",
       "2       IND    ROSSMAN, RICHARD      OLATHE    KS         ...            \n",
       "3       IND  LLEWELLYN, CHARLES   FREDERICK    MD         ...            \n",
       "4       IND  TYNES, TIMOTHY MR.  VERO BEACH    FL         ...            \n",
       "\n",
       "                 EMPLOYER   OCCUPATION TRANSACTION_DT  TRANSACTION_AMT  \\\n",
       "0                    SELF  OPTOMETRIST        3102015             1000   \n",
       "1                 RETIRED      RETIRED        3302015             1000   \n",
       "2  CRAWFORD SALES COMPANY  BUSINESSMAN        3302015              250   \n",
       "3                     NaN          NaN        3112015              500   \n",
       "4                     NaN          NaN        3022015              250   \n",
       "\n",
       "   OTHER_ID       TRAN_ID FILE_NUM  MEMO_CD MEMO_TEXT               SUB_ID  \n",
       "0       NaN  SA11AI.20747  1002259      NaN       NaN  4041320151241796098  \n",
       "1       NaN  SA11AI.20772  1002259      NaN       NaN  4041320151241796099  \n",
       "2       NaN  SA11AI.20759  1002259      NaN       NaN  4041320151241796100  \n",
       "3       NaN  SA11AI.25088  1002261      NaN       NaN  4041320151241796102  \n",
       "4       NaN  SA11AI.25074  1002261      NaN       NaN  4041320151241796103  \n",
       "\n",
       "[5 rows x 21 columns]"
      ]
     },
     "execution_count": 24,
     "metadata": {},
     "output_type": "execute_result"
    }
   ],
   "source": [
    "df.head()"
   ]
  },
  {
   "cell_type": "code",
   "execution_count": 25,
   "metadata": {
    "collapsed": false
   },
   "outputs": [
    {
     "name": "stdout",
     "output_type": "stream",
     "text": [
      "<class 'pandas.core.frame.DataFrame'>\n",
      "Int64Index: 205519 entries, 0 to 205518\n",
      "Data columns (total 21 columns):\n",
      "CMTE_ID            205519 non-null object\n",
      "AMNDT_IND          205519 non-null object\n",
      "RPT_TP             205519 non-null object\n",
      "TRANSACTION_PGI    205444 non-null object\n",
      "IMAGE_NUM          205519 non-null int64\n",
      "TRANSACTION_TP     205519 non-null object\n",
      "ENTITY_TP          205365 non-null object\n",
      "NAME               205510 non-null object\n",
      "CITY               205373 non-null object\n",
      "STATE              205151 non-null object\n",
      "ZIP_CODE           204899 non-null object\n",
      "EMPLOYER           165614 non-null object\n",
      "OCCUPATION         171342 non-null object\n",
      "TRANSACTION_DT     205518 non-null float64\n",
      "TRANSACTION_AMT    205519 non-null int64\n",
      "OTHER_ID           29908 non-null object\n",
      "TRAN_ID            205507 non-null object\n",
      "FILE_NUM           205519 non-null int64\n",
      "MEMO_CD            5471 non-null object\n",
      "MEMO_TEXT          48980 non-null object\n",
      "SUB_ID             205519 non-null int64\n",
      "dtypes: float64(1), int64(4), object(16)\n",
      "memory usage: 34.5+ MB\n"
     ]
    }
   ],
   "source": [
    "df.info()"
   ]
  },
  {
   "cell_type": "code",
   "execution_count": null,
   "metadata": {
    "collapsed": true
   },
   "outputs": [],
   "source": [
    "jk"
   ]
  }
 ],
 "metadata": {
  "kernelspec": {
   "display_name": "Python 3",
   "language": "python",
   "name": "python3"
  },
  "language_info": {
   "codemirror_mode": {
    "name": "ipython",
    "version": 3
   },
   "file_extension": ".py",
   "mimetype": "text/x-python",
   "name": "python",
   "nbconvert_exporter": "python",
   "pygments_lexer": "ipython3",
   "version": "3.4.3"
  }
 },
 "nbformat": 4,
 "nbformat_minor": 0
}
