{
 "cells": [
  {
   "cell_type": "markdown",
   "metadata": {},
   "source": [
    "- http://www.fec.gov/finance/disclosure/ftpdet.shtml#a2015_2016\n",
    "- ftp://ftp.fec.gov/FEC/2016/indiv16.zip\n",
    "- http://www.fec.gov/finance/disclosure/metadata/DataDictionaryContributionsbyIndividuals.shtml"
   ]
  },
  {
   "cell_type": "code",
   "execution_count": 34,
   "metadata": {
    "collapsed": true
   },
   "outputs": [],
   "source": [
    "import numpy as np\n",
    "import pandas as pd\n",
    "import seaborn as sns\n",
    "import matplotlib.pyplot as plt\n",
    "\n",
    "sns.set_style('ticks')\n",
    "\n",
    "pd.options.display.max_rows = 10\n",
    "%matplotlib inline\n",
    "plt.rcParams['figure.figsize'] = (16, 9)"
   ]
  },
  {
   "cell_type": "code",
   "execution_count": 26,
   "metadata": {
    "collapsed": false
   },
   "outputs": [
    {
     "name": "stdout",
     "output_type": "stream",
     "text": [
      "Archive:  cm16.zip\n",
      "  inflating: cm.txt                  \n",
      "Archive:  cn16.zip\n",
      "  inflating: cn.txt                  \n"
     ]
    }
   ],
   "source": [
    "!mv /Users/tom.augspurger/Downloads/cm16.zip .\n",
    "!mv /Users/tom.augspurger/Downloads/cn16.zip .\n",
    "\n",
    "!unzip cm16.zip\n",
    "!unzip cn16.zip "
   ]
  },
  {
   "cell_type": "code",
   "execution_count": 340,
   "metadata": {
    "collapsed": false
   },
   "outputs": [
    {
     "name": "stdout",
     "output_type": "stream",
     "text": [
      "  % Total    % Received % Xferd  Average Speed   Time    Time     Time  Current\n",
      "                                 Dload  Upload   Total   Spent    Left  Speed\n",
      "100  910k  100  910k    0     0   582k      0  0:00:01  0:00:01 --:--:--  582k\n",
      "Archive:  pas216.zip\n",
      "  inflating: itpas2.txt              \n"
     ]
    }
   ],
   "source": [
    "!curl -O \"ftp://ftp.fec.gov/FEC/2016/pas216.zip\"\n",
    "!unzip pas216.zip"
   ]
  },
  {
   "cell_type": "code",
   "execution_count": 341,
   "metadata": {
    "collapsed": false
   },
   "outputs": [
    {
     "name": "stdout",
     "output_type": "stream",
     "text": [
      "  % Total    % Received % Xferd  Average Speed   Time    Time     Time  Current\n",
      "                                 Dload  Upload   Total   Spent    Left  Speed\n",
      "100   158  100   158    0     0    962      0 --:--:-- --:--:-- --:--:--   963\n",
      "  % Total    % Received % Xferd  Average Speed   Time    Time     Time  Current\n",
      "                                 Dload  Upload   Total   Spent    Left  Speed\n",
      "100   180  100   180    0     0   1834      0 --:--:-- --:--:-- --:--:--  1836\n",
      "  % Total    % Received % Xferd  Average Speed   Time    Time     Time  Current\n",
      "                                 Dload  Upload   Total   Spent    Left  Speed\n",
      "100   204  100   204    0     0   1980      0 --:--:-- --:--:-- --:--:--  2000\n",
      "  % Total    % Received % Xferd  Average Speed   Time    Time     Time  Current\n",
      "                                 Dload  Upload   Total   Spent    Left  Speed\n",
      "100   212  100   212    0     0   2153      0 --:--:-- --:--:-- --:--:--  2163\n"
     ]
    }
   ],
   "source": [
    "!curl -o cm_names.csv \"http://www.fec.gov/finance/disclosure/metadata/cm_header_file.csv\"\n",
    "!curl -o cn_names.csv \"http://www.fec.gov/finance/disclosure/metadata/cn_header_file.csv\"\n",
    "!curl -o in_names.csv \"http://www.fec.gov/finance/disclosure/metadata/indiv_header_file.csv\"\n",
    "!curl -o cc_names.csv \"http://www.fec.gov/finance/disclosure/metadata/pas2_header_file.csv\""
   ]
  },
  {
   "cell_type": "code",
   "execution_count": 37,
   "metadata": {
    "collapsed": false
   },
   "outputs": [],
   "source": [
    "in_names = pd.read_csv(\"in_names.csv\").columns\n",
    "cm_names = pd.read_csv(\"cm_names.csv\").columns\n",
    "cn_names = pd.read_csv(\"cn_names.csv\").columns\n",
    "cc_names = pd.read_csv(\"cc_names.csv\").columns"
   ]
  },
  {
   "cell_type": "markdown",
   "metadata": {},
   "source": [
    "# I/O\n",
    "\n",
    "Pandas makes it easy to read from and write to a variety of formats."
   ]
  },
  {
   "cell_type": "code",
   "execution_count": 38,
   "metadata": {
    "collapsed": false
   },
   "outputs": [
    {
     "data": {
      "text/plain": [
       "['read_clipboard',\n",
       " 'read_csv',\n",
       " 'read_excel',\n",
       " 'read_fwf',\n",
       " 'read_gbq',\n",
       " 'read_hdf',\n",
       " 'read_html',\n",
       " 'read_json',\n",
       " 'read_msgpack',\n",
       " 'read_pickle',\n",
       " 'read_sql',\n",
       " 'read_sql_query',\n",
       " 'read_sql_table',\n",
       " 'read_stata',\n",
       " 'read_table']"
      ]
     },
     "execution_count": 38,
     "metadata": {},
     "output_type": "execute_result"
    }
   ],
   "source": [
    "[x for x in dir(pd) if x.startswith('read_')]"
   ]
  },
  {
   "cell_type": "markdown",
   "metadata": {},
   "source": [
    "`read_csv` has a ton of options..."
   ]
  },
  {
   "cell_type": "code",
   "execution_count": 4,
   "metadata": {
    "collapsed": true
   },
   "outputs": [],
   "source": [
    "pd.read_csv?"
   ]
  },
  {
   "cell_type": "code",
   "execution_count": 39,
   "metadata": {
    "collapsed": false
   },
   "outputs": [],
   "source": [
    "df = pd.read_csv('itcont.txt', sep='|', names=in_names, dtype={'ZIP_CODE': str})\n",
    "cm = pd.read_csv('cm.txt', sep='|', names=cm_names)\n",
    "cn = pd.read_csv('cn.txt', sep='|', names=cn_names)\n",
    "cc = pd.read_csv(\"itpas2.txt\", sep=\"|\", names=cc_names)"
   ]
  },
  {
   "cell_type": "markdown",
   "metadata": {},
   "source": [
    "Quick look at what we have..."
   ]
  },
  {
   "cell_type": "code",
   "execution_count": 40,
   "metadata": {
    "collapsed": false
   },
   "outputs": [
    {
     "data": {
      "text/html": [
       "<div>\n",
       "<table border=\"1\" class=\"dataframe\">\n",
       "  <thead>\n",
       "    <tr style=\"text-align: right;\">\n",
       "      <th></th>\n",
       "      <th>CMTE_ID</th>\n",
       "      <th>AMNDT_IND</th>\n",
       "      <th>RPT_TP</th>\n",
       "      <th>TRANSACTION_PGI</th>\n",
       "      <th>IMAGE_NUM</th>\n",
       "      <th>TRANSACTION_TP</th>\n",
       "      <th>ENTITY_TP</th>\n",
       "      <th>NAME</th>\n",
       "      <th>CITY</th>\n",
       "      <th>STATE</th>\n",
       "      <th>...</th>\n",
       "      <th>EMPLOYER</th>\n",
       "      <th>OCCUPATION</th>\n",
       "      <th>TRANSACTION_DT</th>\n",
       "      <th>TRANSACTION_AMT</th>\n",
       "      <th>OTHER_ID</th>\n",
       "      <th>TRAN_ID</th>\n",
       "      <th>FILE_NUM</th>\n",
       "      <th>MEMO_CD</th>\n",
       "      <th>MEMO_TEXT</th>\n",
       "      <th>SUB_ID</th>\n",
       "    </tr>\n",
       "  </thead>\n",
       "  <tbody>\n",
       "    <tr>\n",
       "      <th>0</th>\n",
       "      <td>C00004606</td>\n",
       "      <td>N</td>\n",
       "      <td>M4</td>\n",
       "      <td>P</td>\n",
       "      <td>15951124869</td>\n",
       "      <td>15</td>\n",
       "      <td>IND</td>\n",
       "      <td>ARNOLD, ROBERT</td>\n",
       "      <td>MCPHERSON</td>\n",
       "      <td>KS</td>\n",
       "      <td>...</td>\n",
       "      <td>SELF</td>\n",
       "      <td>OPTOMETRIST</td>\n",
       "      <td>3102015</td>\n",
       "      <td>1000</td>\n",
       "      <td>NaN</td>\n",
       "      <td>SA11AI.20747</td>\n",
       "      <td>1002259</td>\n",
       "      <td>NaN</td>\n",
       "      <td>NaN</td>\n",
       "      <td>4041320151241796098</td>\n",
       "    </tr>\n",
       "    <tr>\n",
       "      <th>1</th>\n",
       "      <td>C00004606</td>\n",
       "      <td>N</td>\n",
       "      <td>M4</td>\n",
       "      <td>P</td>\n",
       "      <td>15951124869</td>\n",
       "      <td>15</td>\n",
       "      <td>IND</td>\n",
       "      <td>BICKLE, DON</td>\n",
       "      <td>HAYS</td>\n",
       "      <td>KS</td>\n",
       "      <td>...</td>\n",
       "      <td>RETIRED</td>\n",
       "      <td>RETIRED</td>\n",
       "      <td>3302015</td>\n",
       "      <td>1000</td>\n",
       "      <td>NaN</td>\n",
       "      <td>SA11AI.20772</td>\n",
       "      <td>1002259</td>\n",
       "      <td>NaN</td>\n",
       "      <td>NaN</td>\n",
       "      <td>4041320151241796099</td>\n",
       "    </tr>\n",
       "    <tr>\n",
       "      <th>2</th>\n",
       "      <td>C00004606</td>\n",
       "      <td>N</td>\n",
       "      <td>M4</td>\n",
       "      <td>P</td>\n",
       "      <td>15951124869</td>\n",
       "      <td>15</td>\n",
       "      <td>IND</td>\n",
       "      <td>ROSSMAN, RICHARD</td>\n",
       "      <td>OLATHE</td>\n",
       "      <td>KS</td>\n",
       "      <td>...</td>\n",
       "      <td>CRAWFORD SALES COMPANY</td>\n",
       "      <td>BUSINESSMAN</td>\n",
       "      <td>3302015</td>\n",
       "      <td>250</td>\n",
       "      <td>NaN</td>\n",
       "      <td>SA11AI.20759</td>\n",
       "      <td>1002259</td>\n",
       "      <td>NaN</td>\n",
       "      <td>NaN</td>\n",
       "      <td>4041320151241796100</td>\n",
       "    </tr>\n",
       "    <tr>\n",
       "      <th>3</th>\n",
       "      <td>C00452383</td>\n",
       "      <td>N</td>\n",
       "      <td>M4</td>\n",
       "      <td>P</td>\n",
       "      <td>15951124897</td>\n",
       "      <td>15</td>\n",
       "      <td>IND</td>\n",
       "      <td>LLEWELLYN, CHARLES</td>\n",
       "      <td>FREDERICK</td>\n",
       "      <td>MD</td>\n",
       "      <td>...</td>\n",
       "      <td>NaN</td>\n",
       "      <td>NaN</td>\n",
       "      <td>3112015</td>\n",
       "      <td>500</td>\n",
       "      <td>NaN</td>\n",
       "      <td>SA11AI.25088</td>\n",
       "      <td>1002261</td>\n",
       "      <td>NaN</td>\n",
       "      <td>NaN</td>\n",
       "      <td>4041320151241796102</td>\n",
       "    </tr>\n",
       "    <tr>\n",
       "      <th>4</th>\n",
       "      <td>C00452383</td>\n",
       "      <td>N</td>\n",
       "      <td>M4</td>\n",
       "      <td>P</td>\n",
       "      <td>15951124897</td>\n",
       "      <td>15</td>\n",
       "      <td>IND</td>\n",
       "      <td>TYNES, TIMOTHY MR.</td>\n",
       "      <td>VERO BEACH</td>\n",
       "      <td>FL</td>\n",
       "      <td>...</td>\n",
       "      <td>NaN</td>\n",
       "      <td>NaN</td>\n",
       "      <td>3022015</td>\n",
       "      <td>250</td>\n",
       "      <td>NaN</td>\n",
       "      <td>SA11AI.25074</td>\n",
       "      <td>1002261</td>\n",
       "      <td>NaN</td>\n",
       "      <td>NaN</td>\n",
       "      <td>4041320151241796103</td>\n",
       "    </tr>\n",
       "  </tbody>\n",
       "</table>\n",
       "<p>5 rows × 21 columns</p>\n",
       "</div>"
      ],
      "text/plain": [
       "     CMTE_ID AMNDT_IND RPT_TP TRANSACTION_PGI    IMAGE_NUM TRANSACTION_TP  \\\n",
       "0  C00004606         N     M4               P  15951124869             15   \n",
       "1  C00004606         N     M4               P  15951124869             15   \n",
       "2  C00004606         N     M4               P  15951124869             15   \n",
       "3  C00452383         N     M4               P  15951124897             15   \n",
       "4  C00452383         N     M4               P  15951124897             15   \n",
       "\n",
       "  ENTITY_TP                NAME        CITY STATE         ...           \\\n",
       "0       IND      ARNOLD, ROBERT   MCPHERSON    KS         ...            \n",
       "1       IND         BICKLE, DON        HAYS    KS         ...            \n",
       "2       IND    ROSSMAN, RICHARD      OLATHE    KS         ...            \n",
       "3       IND  LLEWELLYN, CHARLES   FREDERICK    MD         ...            \n",
       "4       IND  TYNES, TIMOTHY MR.  VERO BEACH    FL         ...            \n",
       "\n",
       "                 EMPLOYER   OCCUPATION TRANSACTION_DT  TRANSACTION_AMT  \\\n",
       "0                    SELF  OPTOMETRIST        3102015             1000   \n",
       "1                 RETIRED      RETIRED        3302015             1000   \n",
       "2  CRAWFORD SALES COMPANY  BUSINESSMAN        3302015              250   \n",
       "3                     NaN          NaN        3112015              500   \n",
       "4                     NaN          NaN        3022015              250   \n",
       "\n",
       "   OTHER_ID       TRAN_ID FILE_NUM  MEMO_CD MEMO_TEXT               SUB_ID  \n",
       "0       NaN  SA11AI.20747  1002259      NaN       NaN  4041320151241796098  \n",
       "1       NaN  SA11AI.20772  1002259      NaN       NaN  4041320151241796099  \n",
       "2       NaN  SA11AI.20759  1002259      NaN       NaN  4041320151241796100  \n",
       "3       NaN  SA11AI.25088  1002261      NaN       NaN  4041320151241796102  \n",
       "4       NaN  SA11AI.25074  1002261      NaN       NaN  4041320151241796103  \n",
       "\n",
       "[5 rows x 21 columns]"
      ]
     },
     "execution_count": 40,
     "metadata": {},
     "output_type": "execute_result"
    }
   ],
   "source": [
    "df.head()"
   ]
  },
  {
   "cell_type": "code",
   "execution_count": 9,
   "metadata": {
    "collapsed": false
   },
   "outputs": [
    {
     "name": "stdout",
     "output_type": "stream",
     "text": [
      "<class 'pandas.core.frame.DataFrame'>\n",
      "Int64Index: 205519 entries, 0 to 205518\n",
      "Data columns (total 21 columns):\n",
      "CMTE_ID            205519 non-null object\n",
      "AMNDT_IND          205519 non-null object\n",
      "RPT_TP             205519 non-null object\n",
      "TRANSACTION_PGI    205444 non-null object\n",
      "IMAGE_NUM          205519 non-null int64\n",
      "TRANSACTION_TP     205519 non-null object\n",
      "ENTITY_TP          205365 non-null object\n",
      "NAME               205510 non-null object\n",
      "CITY               205373 non-null object\n",
      "STATE              205151 non-null object\n",
      "ZIP_CODE           204899 non-null object\n",
      "EMPLOYER           165614 non-null object\n",
      "OCCUPATION         171342 non-null object\n",
      "TRANSACTION_DT     205518 non-null float64\n",
      "TRANSACTION_AMT    205519 non-null int64\n",
      "OTHER_ID           29908 non-null object\n",
      "TRAN_ID            205507 non-null object\n",
      "FILE_NUM           205519 non-null int64\n",
      "MEMO_CD            5471 non-null object\n",
      "MEMO_TEXT          48980 non-null object\n",
      "SUB_ID             205519 non-null int64\n",
      "dtypes: float64(1), int64(4), object(16)\n",
      "memory usage: 34.5+ MB\n"
     ]
    }
   ],
   "source": [
    "df.info()"
   ]
  },
  {
   "cell_type": "markdown",
   "metadata": {},
   "source": [
    "Things to notice:\n",
    "\n",
    "- tablular (like Excel)\n",
    "- columnar (like Redshift)\n",
    "- multiple dtypes (unlike NumPy)\n",
    "- missing data handling (better than redshift)\n",
    "- row-labels (unlike SQL)\n",
    "- *Tons* of useful method (`df.<TAB>`)\n",
    "\n",
    "We'll look a just a few of the methods, including aggregations, group-by, and merge."
   ]
  },
  {
   "cell_type": "markdown",
   "metadata": {},
   "source": [
    "# Counting"
   ]
  },
  {
   "cell_type": "code",
   "execution_count": 47,
   "metadata": {
    "collapsed": false
   },
   "outputs": [
    {
     "name": "stdout",
     "output_type": "stream",
     "text": [
      "RETIRED                   23416\n",
      "ATTORNEY                  10620\n",
      "PRESIDENT                  6610\n",
      "PARTNER                    5883\n",
      "PHYSICIAN                  4683\n",
      "NOT EMPLOYED               4100\n",
      "HOMEMAKER                  3775\n",
      "EXECUTIVE                  3191\n",
      "CEO                        3190\n",
      "CONSULTANT                 2668\n",
      "OWNER                      2633\n",
      "REAL ESTATE BROKER         2565\n",
      "FARMER                     2368\n",
      "PARTNER/PRINCIPAL          1984\n",
      "DIRECTOR                   1750\n",
      "VICE PRESIDENT             1697\n",
      "PRINCIPAL                  1322\n",
      "CHAIRMAN                   1185\n",
      "PROFESSOR                  1069\n",
      "LAWYER                     1038\n",
      "MANAGER                     997\n",
      "MANAGING DIRECTOR           987\n",
      "INVESTOR                    949\n",
      "REAL ESTATE                 937\n",
      "BINGO PLAYER                937\n",
      "PRESIDENT & CEO             807\n",
      "NONE                        802\n",
      "EXECUTIVE DIRECTOR          787\n",
      "CPA                         695\n",
      "DIAGNOSTIC RADIOLOGIST      675\n",
      "dtype: int64\n"
     ]
    }
   ],
   "source": [
    "with pd.option_context('display.max_rows', 30):\n",
    "    print(df.OCCUPATION.value_counts().head(30))"
   ]
  },
  {
   "cell_type": "code",
   "execution_count": 49,
   "metadata": {
    "collapsed": false
   },
   "outputs": [
    {
     "data": {
      "text/plain": [
       "2061"
      ]
     },
     "execution_count": 49,
     "metadata": {},
     "output_type": "execute_result"
    }
   ],
   "source": [
    "df.CMTE_ID.nunique()"
   ]
  },
  {
   "cell_type": "markdown",
   "metadata": {},
   "source": [
    "# Selecting\n",
    "\n",
    "Give me the donations from Iowa."
   ]
  },
  {
   "cell_type": "code",
   "execution_count": 82,
   "metadata": {
    "collapsed": false
   },
   "outputs": [
    {
     "data": {
      "text/html": [
       "<div>\n",
       "<table border=\"1\" class=\"dataframe\">\n",
       "  <thead>\n",
       "    <tr style=\"text-align: right;\">\n",
       "      <th></th>\n",
       "      <th>CMTE_ID</th>\n",
       "      <th>AMNDT_IND</th>\n",
       "      <th>RPT_TP</th>\n",
       "      <th>TRANSACTION_PGI</th>\n",
       "      <th>IMAGE_NUM</th>\n",
       "      <th>TRANSACTION_TP</th>\n",
       "      <th>ENTITY_TP</th>\n",
       "      <th>NAME</th>\n",
       "      <th>CITY</th>\n",
       "      <th>STATE</th>\n",
       "      <th>...</th>\n",
       "      <th>EMPLOYER</th>\n",
       "      <th>OCCUPATION</th>\n",
       "      <th>TRANSACTION_DT</th>\n",
       "      <th>TRANSACTION_AMT</th>\n",
       "      <th>OTHER_ID</th>\n",
       "      <th>TRAN_ID</th>\n",
       "      <th>FILE_NUM</th>\n",
       "      <th>MEMO_CD</th>\n",
       "      <th>MEMO_TEXT</th>\n",
       "      <th>SUB_ID</th>\n",
       "    </tr>\n",
       "  </thead>\n",
       "  <tbody>\n",
       "    <tr>\n",
       "      <th>194</th>\n",
       "      <td>C00076182</td>\n",
       "      <td>N</td>\n",
       "      <td>Q1</td>\n",
       "      <td>P</td>\n",
       "      <td>15951125078</td>\n",
       "      <td>15</td>\n",
       "      <td>IND</td>\n",
       "      <td>HERMANSON, NICK</td>\n",
       "      <td>STORY CITY</td>\n",
       "      <td>IA</td>\n",
       "      <td>...</td>\n",
       "      <td>WOODLAND FARMS</td>\n",
       "      <td>VP</td>\n",
       "      <td>3242015</td>\n",
       "      <td>300</td>\n",
       "      <td>NaN</td>\n",
       "      <td>AE741E5B4102D4A17A7A</td>\n",
       "      <td>1002289</td>\n",
       "      <td>NaN</td>\n",
       "      <td>NaN</td>\n",
       "      <td>4041320151241796898</td>\n",
       "    </tr>\n",
       "    <tr>\n",
       "      <th>195</th>\n",
       "      <td>C00076182</td>\n",
       "      <td>N</td>\n",
       "      <td>Q1</td>\n",
       "      <td>P</td>\n",
       "      <td>15951125078</td>\n",
       "      <td>15</td>\n",
       "      <td>IND</td>\n",
       "      <td>HERMANSON, PETE</td>\n",
       "      <td>STORY CITY</td>\n",
       "      <td>IA</td>\n",
       "      <td>...</td>\n",
       "      <td>WEST LIBERTY FOODS</td>\n",
       "      <td>BOARD MEMBER</td>\n",
       "      <td>3242015</td>\n",
       "      <td>500</td>\n",
       "      <td>NaN</td>\n",
       "      <td>A75434D2CA00247BD99C</td>\n",
       "      <td>1002289</td>\n",
       "      <td>NaN</td>\n",
       "      <td>NaN</td>\n",
       "      <td>4041320151241796899</td>\n",
       "    </tr>\n",
       "    <tr>\n",
       "      <th>196</th>\n",
       "      <td>C00076182</td>\n",
       "      <td>N</td>\n",
       "      <td>Q1</td>\n",
       "      <td>P</td>\n",
       "      <td>15951125078</td>\n",
       "      <td>15</td>\n",
       "      <td>IND</td>\n",
       "      <td>HILL, PAUL</td>\n",
       "      <td>ELLSWORTH</td>\n",
       "      <td>IA</td>\n",
       "      <td>...</td>\n",
       "      <td>WEST LIBERTY FOODS</td>\n",
       "      <td>CHAIRMAN</td>\n",
       "      <td>3242015</td>\n",
       "      <td>200</td>\n",
       "      <td>NaN</td>\n",
       "      <td>AABD3CA36211A4689A11</td>\n",
       "      <td>1002289</td>\n",
       "      <td>NaN</td>\n",
       "      <td>NaN</td>\n",
       "      <td>4041320151241796900</td>\n",
       "    </tr>\n",
       "    <tr>\n",
       "      <th>230</th>\n",
       "      <td>C00076182</td>\n",
       "      <td>N</td>\n",
       "      <td>Q1</td>\n",
       "      <td>P</td>\n",
       "      <td>15951125059</td>\n",
       "      <td>15</td>\n",
       "      <td>IND</td>\n",
       "      <td>KARDEL, RON MR.</td>\n",
       "      <td>WALCOTT</td>\n",
       "      <td>IA</td>\n",
       "      <td>...</td>\n",
       "      <td>WEST LIBERTY FOODS</td>\n",
       "      <td>VICE CHAIRMAN</td>\n",
       "      <td>2182015</td>\n",
       "      <td>500</td>\n",
       "      <td>NaN</td>\n",
       "      <td>A63E4DF55E8EA4D3F93D</td>\n",
       "      <td>1002289</td>\n",
       "      <td>NaN</td>\n",
       "      <td>NaN</td>\n",
       "      <td>4041320151241796843</td>\n",
       "    </tr>\n",
       "    <tr>\n",
       "      <th>232</th>\n",
       "      <td>C00076182</td>\n",
       "      <td>N</td>\n",
       "      <td>Q1</td>\n",
       "      <td>P</td>\n",
       "      <td>15951125060</td>\n",
       "      <td>15</td>\n",
       "      <td>IND</td>\n",
       "      <td>MOLINE, JOHN</td>\n",
       "      <td>MANSON</td>\n",
       "      <td>IA</td>\n",
       "      <td>...</td>\n",
       "      <td>MOLINE BROTHERS FARMS</td>\n",
       "      <td>WLF BOARD MEMBER</td>\n",
       "      <td>2182015</td>\n",
       "      <td>300</td>\n",
       "      <td>NaN</td>\n",
       "      <td>A20CD3B31FBFB41599D5</td>\n",
       "      <td>1002289</td>\n",
       "      <td>NaN</td>\n",
       "      <td>NaN</td>\n",
       "      <td>4041320151241796845</td>\n",
       "    </tr>\n",
       "  </tbody>\n",
       "</table>\n",
       "<p>5 rows × 21 columns</p>\n",
       "</div>"
      ],
      "text/plain": [
       "       CMTE_ID AMNDT_IND RPT_TP TRANSACTION_PGI    IMAGE_NUM TRANSACTION_TP  \\\n",
       "194  C00076182         N     Q1               P  15951125078             15   \n",
       "195  C00076182         N     Q1               P  15951125078             15   \n",
       "196  C00076182         N     Q1               P  15951125078             15   \n",
       "230  C00076182         N     Q1               P  15951125059             15   \n",
       "232  C00076182         N     Q1               P  15951125060             15   \n",
       "\n",
       "    ENTITY_TP             NAME        CITY STATE         ...           \\\n",
       "194       IND  HERMANSON, NICK  STORY CITY    IA         ...            \n",
       "195       IND  HERMANSON, PETE  STORY CITY    IA         ...            \n",
       "196       IND       HILL, PAUL   ELLSWORTH    IA         ...            \n",
       "230       IND  KARDEL, RON MR.     WALCOTT    IA         ...            \n",
       "232       IND     MOLINE, JOHN      MANSON    IA         ...            \n",
       "\n",
       "                  EMPLOYER        OCCUPATION TRANSACTION_DT  TRANSACTION_AMT  \\\n",
       "194         WOODLAND FARMS                VP        3242015              300   \n",
       "195     WEST LIBERTY FOODS      BOARD MEMBER        3242015              500   \n",
       "196     WEST LIBERTY FOODS          CHAIRMAN        3242015              200   \n",
       "230     WEST LIBERTY FOODS     VICE CHAIRMAN        2182015              500   \n",
       "232  MOLINE BROTHERS FARMS  WLF BOARD MEMBER        2182015              300   \n",
       "\n",
       "     OTHER_ID               TRAN_ID FILE_NUM  MEMO_CD MEMO_TEXT  \\\n",
       "194       NaN  AE741E5B4102D4A17A7A  1002289      NaN       NaN   \n",
       "195       NaN  A75434D2CA00247BD99C  1002289      NaN       NaN   \n",
       "196       NaN  AABD3CA36211A4689A11  1002289      NaN       NaN   \n",
       "230       NaN  A63E4DF55E8EA4D3F93D  1002289      NaN       NaN   \n",
       "232       NaN  A20CD3B31FBFB41599D5  1002289      NaN       NaN   \n",
       "\n",
       "                  SUB_ID  \n",
       "194  4041320151241796898  \n",
       "195  4041320151241796899  \n",
       "196  4041320151241796900  \n",
       "230  4041320151241796843  \n",
       "232  4041320151241796845  \n",
       "\n",
       "[5 rows x 21 columns]"
      ]
     },
     "execution_count": 82,
     "metadata": {},
     "output_type": "execute_result"
    }
   ],
   "source": [
    "df[df.STATE == 'IA'].head()"
   ]
  },
  {
   "cell_type": "code",
   "execution_count": 84,
   "metadata": {
    "collapsed": false
   },
   "outputs": [
    {
     "data": {
      "text/html": [
       "<div>\n",
       "<table border=\"1\" class=\"dataframe\">\n",
       "  <thead>\n",
       "    <tr style=\"text-align: right;\">\n",
       "      <th></th>\n",
       "      <th>CMTE_ID</th>\n",
       "      <th>AMNDT_IND</th>\n",
       "      <th>RPT_TP</th>\n",
       "      <th>TRANSACTION_PGI</th>\n",
       "      <th>IMAGE_NUM</th>\n",
       "      <th>TRANSACTION_TP</th>\n",
       "      <th>ENTITY_TP</th>\n",
       "      <th>NAME</th>\n",
       "      <th>CITY</th>\n",
       "      <th>STATE</th>\n",
       "      <th>...</th>\n",
       "      <th>EMPLOYER</th>\n",
       "      <th>OCCUPATION</th>\n",
       "      <th>TRANSACTION_DT</th>\n",
       "      <th>TRANSACTION_AMT</th>\n",
       "      <th>OTHER_ID</th>\n",
       "      <th>TRAN_ID</th>\n",
       "      <th>FILE_NUM</th>\n",
       "      <th>MEMO_CD</th>\n",
       "      <th>MEMO_TEXT</th>\n",
       "      <th>SUB_ID</th>\n",
       "    </tr>\n",
       "  </thead>\n",
       "  <tbody>\n",
       "    <tr>\n",
       "      <th>194</th>\n",
       "      <td>C00076182</td>\n",
       "      <td>N</td>\n",
       "      <td>Q1</td>\n",
       "      <td>P</td>\n",
       "      <td>15951125078</td>\n",
       "      <td>15</td>\n",
       "      <td>IND</td>\n",
       "      <td>HERMANSON, NICK</td>\n",
       "      <td>STORY CITY</td>\n",
       "      <td>IA</td>\n",
       "      <td>...</td>\n",
       "      <td>WOODLAND FARMS</td>\n",
       "      <td>VP</td>\n",
       "      <td>3242015</td>\n",
       "      <td>300</td>\n",
       "      <td>NaN</td>\n",
       "      <td>AE741E5B4102D4A17A7A</td>\n",
       "      <td>1002289</td>\n",
       "      <td>NaN</td>\n",
       "      <td>NaN</td>\n",
       "      <td>4041320151241796898</td>\n",
       "    </tr>\n",
       "    <tr>\n",
       "      <th>195</th>\n",
       "      <td>C00076182</td>\n",
       "      <td>N</td>\n",
       "      <td>Q1</td>\n",
       "      <td>P</td>\n",
       "      <td>15951125078</td>\n",
       "      <td>15</td>\n",
       "      <td>IND</td>\n",
       "      <td>HERMANSON, PETE</td>\n",
       "      <td>STORY CITY</td>\n",
       "      <td>IA</td>\n",
       "      <td>...</td>\n",
       "      <td>WEST LIBERTY FOODS</td>\n",
       "      <td>BOARD MEMBER</td>\n",
       "      <td>3242015</td>\n",
       "      <td>500</td>\n",
       "      <td>NaN</td>\n",
       "      <td>A75434D2CA00247BD99C</td>\n",
       "      <td>1002289</td>\n",
       "      <td>NaN</td>\n",
       "      <td>NaN</td>\n",
       "      <td>4041320151241796899</td>\n",
       "    </tr>\n",
       "    <tr>\n",
       "      <th>196</th>\n",
       "      <td>C00076182</td>\n",
       "      <td>N</td>\n",
       "      <td>Q1</td>\n",
       "      <td>P</td>\n",
       "      <td>15951125078</td>\n",
       "      <td>15</td>\n",
       "      <td>IND</td>\n",
       "      <td>HILL, PAUL</td>\n",
       "      <td>ELLSWORTH</td>\n",
       "      <td>IA</td>\n",
       "      <td>...</td>\n",
       "      <td>WEST LIBERTY FOODS</td>\n",
       "      <td>CHAIRMAN</td>\n",
       "      <td>3242015</td>\n",
       "      <td>200</td>\n",
       "      <td>NaN</td>\n",
       "      <td>AABD3CA36211A4689A11</td>\n",
       "      <td>1002289</td>\n",
       "      <td>NaN</td>\n",
       "      <td>NaN</td>\n",
       "      <td>4041320151241796900</td>\n",
       "    </tr>\n",
       "    <tr>\n",
       "      <th>230</th>\n",
       "      <td>C00076182</td>\n",
       "      <td>N</td>\n",
       "      <td>Q1</td>\n",
       "      <td>P</td>\n",
       "      <td>15951125059</td>\n",
       "      <td>15</td>\n",
       "      <td>IND</td>\n",
       "      <td>KARDEL, RON MR.</td>\n",
       "      <td>WALCOTT</td>\n",
       "      <td>IA</td>\n",
       "      <td>...</td>\n",
       "      <td>WEST LIBERTY FOODS</td>\n",
       "      <td>VICE CHAIRMAN</td>\n",
       "      <td>2182015</td>\n",
       "      <td>500</td>\n",
       "      <td>NaN</td>\n",
       "      <td>A63E4DF55E8EA4D3F93D</td>\n",
       "      <td>1002289</td>\n",
       "      <td>NaN</td>\n",
       "      <td>NaN</td>\n",
       "      <td>4041320151241796843</td>\n",
       "    </tr>\n",
       "    <tr>\n",
       "      <th>232</th>\n",
       "      <td>C00076182</td>\n",
       "      <td>N</td>\n",
       "      <td>Q1</td>\n",
       "      <td>P</td>\n",
       "      <td>15951125060</td>\n",
       "      <td>15</td>\n",
       "      <td>IND</td>\n",
       "      <td>MOLINE, JOHN</td>\n",
       "      <td>MANSON</td>\n",
       "      <td>IA</td>\n",
       "      <td>...</td>\n",
       "      <td>MOLINE BROTHERS FARMS</td>\n",
       "      <td>WLF BOARD MEMBER</td>\n",
       "      <td>2182015</td>\n",
       "      <td>300</td>\n",
       "      <td>NaN</td>\n",
       "      <td>A20CD3B31FBFB41599D5</td>\n",
       "      <td>1002289</td>\n",
       "      <td>NaN</td>\n",
       "      <td>NaN</td>\n",
       "      <td>4041320151241796845</td>\n",
       "    </tr>\n",
       "  </tbody>\n",
       "</table>\n",
       "<p>5 rows × 21 columns</p>\n",
       "</div>"
      ],
      "text/plain": [
       "       CMTE_ID AMNDT_IND RPT_TP TRANSACTION_PGI    IMAGE_NUM TRANSACTION_TP  \\\n",
       "194  C00076182         N     Q1               P  15951125078             15   \n",
       "195  C00076182         N     Q1               P  15951125078             15   \n",
       "196  C00076182         N     Q1               P  15951125078             15   \n",
       "230  C00076182         N     Q1               P  15951125059             15   \n",
       "232  C00076182         N     Q1               P  15951125060             15   \n",
       "\n",
       "    ENTITY_TP             NAME        CITY STATE         ...           \\\n",
       "194       IND  HERMANSON, NICK  STORY CITY    IA         ...            \n",
       "195       IND  HERMANSON, PETE  STORY CITY    IA         ...            \n",
       "196       IND       HILL, PAUL   ELLSWORTH    IA         ...            \n",
       "230       IND  KARDEL, RON MR.     WALCOTT    IA         ...            \n",
       "232       IND     MOLINE, JOHN      MANSON    IA         ...            \n",
       "\n",
       "                  EMPLOYER        OCCUPATION TRANSACTION_DT  TRANSACTION_AMT  \\\n",
       "194         WOODLAND FARMS                VP        3242015              300   \n",
       "195     WEST LIBERTY FOODS      BOARD MEMBER        3242015              500   \n",
       "196     WEST LIBERTY FOODS          CHAIRMAN        3242015              200   \n",
       "230     WEST LIBERTY FOODS     VICE CHAIRMAN        2182015              500   \n",
       "232  MOLINE BROTHERS FARMS  WLF BOARD MEMBER        2182015              300   \n",
       "\n",
       "     OTHER_ID               TRAN_ID FILE_NUM  MEMO_CD MEMO_TEXT  \\\n",
       "194       NaN  AE741E5B4102D4A17A7A  1002289      NaN       NaN   \n",
       "195       NaN  A75434D2CA00247BD99C  1002289      NaN       NaN   \n",
       "196       NaN  AABD3CA36211A4689A11  1002289      NaN       NaN   \n",
       "230       NaN  A63E4DF55E8EA4D3F93D  1002289      NaN       NaN   \n",
       "232       NaN  A20CD3B31FBFB41599D5  1002289      NaN       NaN   \n",
       "\n",
       "                  SUB_ID  \n",
       "194  4041320151241796898  \n",
       "195  4041320151241796899  \n",
       "196  4041320151241796900  \n",
       "230  4041320151241796843  \n",
       "232  4041320151241796845  \n",
       "\n",
       "[5 rows x 21 columns]"
      ]
     },
     "execution_count": 84,
     "metadata": {},
     "output_type": "execute_result"
    }
   ],
   "source": [
    "df.query(\"STATE == 'IA'\").head()"
   ]
  },
  {
   "cell_type": "code",
   "execution_count": 92,
   "metadata": {
    "collapsed": false
   },
   "outputs": [
    {
     "data": {
      "text/html": [
       "<div>\n",
       "<table border=\"1\" class=\"dataframe\">\n",
       "  <thead>\n",
       "    <tr style=\"text-align: right;\">\n",
       "      <th></th>\n",
       "      <th>CMTE_ID</th>\n",
       "      <th>AMNDT_IND</th>\n",
       "      <th>RPT_TP</th>\n",
       "      <th>TRANSACTION_PGI</th>\n",
       "      <th>IMAGE_NUM</th>\n",
       "      <th>TRANSACTION_TP</th>\n",
       "      <th>ENTITY_TP</th>\n",
       "      <th>NAME</th>\n",
       "      <th>CITY</th>\n",
       "      <th>STATE</th>\n",
       "      <th>...</th>\n",
       "      <th>EMPLOYER</th>\n",
       "      <th>OCCUPATION</th>\n",
       "      <th>TRANSACTION_DT</th>\n",
       "      <th>TRANSACTION_AMT</th>\n",
       "      <th>OTHER_ID</th>\n",
       "      <th>TRAN_ID</th>\n",
       "      <th>FILE_NUM</th>\n",
       "      <th>MEMO_CD</th>\n",
       "      <th>MEMO_TEXT</th>\n",
       "      <th>SUB_ID</th>\n",
       "    </tr>\n",
       "  </thead>\n",
       "  <tbody>\n",
       "    <tr>\n",
       "      <th>246</th>\n",
       "      <td>C00076182</td>\n",
       "      <td>N</td>\n",
       "      <td>Q1</td>\n",
       "      <td>P</td>\n",
       "      <td>15951125084</td>\n",
       "      <td>15</td>\n",
       "      <td>IND</td>\n",
       "      <td>LESSARD, GERALD</td>\n",
       "      <td>CORALVILLE</td>\n",
       "      <td>IA</td>\n",
       "      <td>...</td>\n",
       "      <td>WEST LIBERTY FOODS</td>\n",
       "      <td>CHIEF OPERATING OFFICER</td>\n",
       "      <td>3242015</td>\n",
       "      <td>4750</td>\n",
       "      <td>NaN</td>\n",
       "      <td>A37432E2AE25D4CC69D7</td>\n",
       "      <td>1002289</td>\n",
       "      <td>NaN</td>\n",
       "      <td>NaN</td>\n",
       "      <td>4041320151241796916</td>\n",
       "    </tr>\n",
       "    <tr>\n",
       "      <th>3097</th>\n",
       "      <td>C00499053</td>\n",
       "      <td>N</td>\n",
       "      <td>Q1</td>\n",
       "      <td>G</td>\n",
       "      <td>15951164221</td>\n",
       "      <td>15</td>\n",
       "      <td>IND</td>\n",
       "      <td>KARON, ROY</td>\n",
       "      <td>CEDAR RAPIDS</td>\n",
       "      <td>IA</td>\n",
       "      <td>...</td>\n",
       "      <td>BVS PERFORMANCE SOLUTIONS</td>\n",
       "      <td>EXECUTIVE</td>\n",
       "      <td>3312015</td>\n",
       "      <td>2700</td>\n",
       "      <td>NaN</td>\n",
       "      <td>C10656769</td>\n",
       "      <td>1003940</td>\n",
       "      <td>NaN</td>\n",
       "      <td>NaN</td>\n",
       "      <td>4041620151241921283</td>\n",
       "    </tr>\n",
       "    <tr>\n",
       "      <th>3099</th>\n",
       "      <td>C00499053</td>\n",
       "      <td>N</td>\n",
       "      <td>Q1</td>\n",
       "      <td>P</td>\n",
       "      <td>15951164221</td>\n",
       "      <td>15</td>\n",
       "      <td>IND</td>\n",
       "      <td>BEDELL, ELINOR</td>\n",
       "      <td>SPIRIT LAKE</td>\n",
       "      <td>IA</td>\n",
       "      <td>...</td>\n",
       "      <td>NaN</td>\n",
       "      <td>RETIRED</td>\n",
       "      <td>3312015</td>\n",
       "      <td>2000</td>\n",
       "      <td>NaN</td>\n",
       "      <td>C10657369</td>\n",
       "      <td>1003940</td>\n",
       "      <td>NaN</td>\n",
       "      <td>NaN</td>\n",
       "      <td>4041620151241921285</td>\n",
       "    </tr>\n",
       "    <tr>\n",
       "      <th>3113</th>\n",
       "      <td>C00499053</td>\n",
       "      <td>N</td>\n",
       "      <td>Q1</td>\n",
       "      <td>P</td>\n",
       "      <td>15951164208</td>\n",
       "      <td>15</td>\n",
       "      <td>IND</td>\n",
       "      <td>KARON, ROY</td>\n",
       "      <td>CEDAR RAPIDS</td>\n",
       "      <td>IA</td>\n",
       "      <td>...</td>\n",
       "      <td>BVS PERFORMANCE SOLUTIONS</td>\n",
       "      <td>EXECUTIVE</td>\n",
       "      <td>3312015</td>\n",
       "      <td>2700</td>\n",
       "      <td>NaN</td>\n",
       "      <td>C10656475</td>\n",
       "      <td>1003940</td>\n",
       "      <td>NaN</td>\n",
       "      <td>NaN</td>\n",
       "      <td>4041620151241921245</td>\n",
       "    </tr>\n",
       "    <tr>\n",
       "      <th>3155</th>\n",
       "      <td>C00499053</td>\n",
       "      <td>N</td>\n",
       "      <td>Q1</td>\n",
       "      <td>P</td>\n",
       "      <td>15951164198</td>\n",
       "      <td>15</td>\n",
       "      <td>IND</td>\n",
       "      <td>SIMON, PHYLLIS</td>\n",
       "      <td>CEDAR RAPIDS</td>\n",
       "      <td>IA</td>\n",
       "      <td>...</td>\n",
       "      <td>SELF-EMPLOYED</td>\n",
       "      <td>CONSULTANT</td>\n",
       "      <td>3302015</td>\n",
       "      <td>2700</td>\n",
       "      <td>NaN</td>\n",
       "      <td>C10654592</td>\n",
       "      <td>1003940</td>\n",
       "      <td>NaN</td>\n",
       "      <td>NaN</td>\n",
       "      <td>4041620151241921214</td>\n",
       "    </tr>\n",
       "  </tbody>\n",
       "</table>\n",
       "<p>5 rows × 21 columns</p>\n",
       "</div>"
      ],
      "text/plain": [
       "        CMTE_ID AMNDT_IND RPT_TP TRANSACTION_PGI    IMAGE_NUM TRANSACTION_TP  \\\n",
       "246   C00076182         N     Q1               P  15951125084             15   \n",
       "3097  C00499053         N     Q1               G  15951164221             15   \n",
       "3099  C00499053         N     Q1               P  15951164221             15   \n",
       "3113  C00499053         N     Q1               P  15951164208             15   \n",
       "3155  C00499053         N     Q1               P  15951164198             15   \n",
       "\n",
       "     ENTITY_TP             NAME          CITY STATE         ...           \\\n",
       "246        IND  LESSARD, GERALD    CORALVILLE    IA         ...            \n",
       "3097       IND       KARON, ROY  CEDAR RAPIDS    IA         ...            \n",
       "3099       IND   BEDELL, ELINOR   SPIRIT LAKE    IA         ...            \n",
       "3113       IND       KARON, ROY  CEDAR RAPIDS    IA         ...            \n",
       "3155       IND   SIMON, PHYLLIS  CEDAR RAPIDS    IA         ...            \n",
       "\n",
       "                       EMPLOYER               OCCUPATION TRANSACTION_DT  \\\n",
       "246          WEST LIBERTY FOODS  CHIEF OPERATING OFFICER        3242015   \n",
       "3097  BVS PERFORMANCE SOLUTIONS                EXECUTIVE        3312015   \n",
       "3099                        NaN                  RETIRED        3312015   \n",
       "3113  BVS PERFORMANCE SOLUTIONS                EXECUTIVE        3312015   \n",
       "3155              SELF-EMPLOYED               CONSULTANT        3302015   \n",
       "\n",
       "      TRANSACTION_AMT  OTHER_ID               TRAN_ID FILE_NUM  MEMO_CD  \\\n",
       "246              4750       NaN  A37432E2AE25D4CC69D7  1002289      NaN   \n",
       "3097             2700       NaN             C10656769  1003940      NaN   \n",
       "3099             2000       NaN             C10657369  1003940      NaN   \n",
       "3113             2700       NaN             C10656475  1003940      NaN   \n",
       "3155             2700       NaN             C10654592  1003940      NaN   \n",
       "\n",
       "     MEMO_TEXT               SUB_ID  \n",
       "246        NaN  4041320151241796916  \n",
       "3097       NaN  4041620151241921283  \n",
       "3099       NaN  4041620151241921285  \n",
       "3113       NaN  4041620151241921245  \n",
       "3155       NaN  4041620151241921214  \n",
       "\n",
       "[5 rows x 21 columns]"
      ]
     },
     "execution_count": 92,
     "metadata": {},
     "output_type": "execute_result"
    }
   ],
   "source": [
    "df[(df.STATE == 'IA') & (df.TRANSACTION_AMT >= 1000)].head()"
   ]
  },
  {
   "cell_type": "code",
   "execution_count": 94,
   "metadata": {
    "collapsed": false
   },
   "outputs": [
    {
     "data": {
      "text/html": [
       "<div>\n",
       "<table border=\"1\" class=\"dataframe\">\n",
       "  <thead>\n",
       "    <tr style=\"text-align: right;\">\n",
       "      <th></th>\n",
       "      <th>CMTE_ID</th>\n",
       "      <th>AMNDT_IND</th>\n",
       "      <th>RPT_TP</th>\n",
       "      <th>TRANSACTION_PGI</th>\n",
       "      <th>IMAGE_NUM</th>\n",
       "      <th>TRANSACTION_TP</th>\n",
       "      <th>ENTITY_TP</th>\n",
       "      <th>NAME</th>\n",
       "      <th>CITY</th>\n",
       "      <th>STATE</th>\n",
       "      <th>...</th>\n",
       "      <th>EMPLOYER</th>\n",
       "      <th>OCCUPATION</th>\n",
       "      <th>TRANSACTION_DT</th>\n",
       "      <th>TRANSACTION_AMT</th>\n",
       "      <th>OTHER_ID</th>\n",
       "      <th>TRAN_ID</th>\n",
       "      <th>FILE_NUM</th>\n",
       "      <th>MEMO_CD</th>\n",
       "      <th>MEMO_TEXT</th>\n",
       "      <th>SUB_ID</th>\n",
       "    </tr>\n",
       "  </thead>\n",
       "  <tbody>\n",
       "    <tr>\n",
       "      <th>246</th>\n",
       "      <td>C00076182</td>\n",
       "      <td>N</td>\n",
       "      <td>Q1</td>\n",
       "      <td>P</td>\n",
       "      <td>15951125084</td>\n",
       "      <td>15</td>\n",
       "      <td>IND</td>\n",
       "      <td>LESSARD, GERALD</td>\n",
       "      <td>CORALVILLE</td>\n",
       "      <td>IA</td>\n",
       "      <td>...</td>\n",
       "      <td>WEST LIBERTY FOODS</td>\n",
       "      <td>CHIEF OPERATING OFFICER</td>\n",
       "      <td>3242015</td>\n",
       "      <td>4750</td>\n",
       "      <td>NaN</td>\n",
       "      <td>A37432E2AE25D4CC69D7</td>\n",
       "      <td>1002289</td>\n",
       "      <td>NaN</td>\n",
       "      <td>NaN</td>\n",
       "      <td>4041320151241796916</td>\n",
       "    </tr>\n",
       "    <tr>\n",
       "      <th>3097</th>\n",
       "      <td>C00499053</td>\n",
       "      <td>N</td>\n",
       "      <td>Q1</td>\n",
       "      <td>G</td>\n",
       "      <td>15951164221</td>\n",
       "      <td>15</td>\n",
       "      <td>IND</td>\n",
       "      <td>KARON, ROY</td>\n",
       "      <td>CEDAR RAPIDS</td>\n",
       "      <td>IA</td>\n",
       "      <td>...</td>\n",
       "      <td>BVS PERFORMANCE SOLUTIONS</td>\n",
       "      <td>EXECUTIVE</td>\n",
       "      <td>3312015</td>\n",
       "      <td>2700</td>\n",
       "      <td>NaN</td>\n",
       "      <td>C10656769</td>\n",
       "      <td>1003940</td>\n",
       "      <td>NaN</td>\n",
       "      <td>NaN</td>\n",
       "      <td>4041620151241921283</td>\n",
       "    </tr>\n",
       "    <tr>\n",
       "      <th>3099</th>\n",
       "      <td>C00499053</td>\n",
       "      <td>N</td>\n",
       "      <td>Q1</td>\n",
       "      <td>P</td>\n",
       "      <td>15951164221</td>\n",
       "      <td>15</td>\n",
       "      <td>IND</td>\n",
       "      <td>BEDELL, ELINOR</td>\n",
       "      <td>SPIRIT LAKE</td>\n",
       "      <td>IA</td>\n",
       "      <td>...</td>\n",
       "      <td>NaN</td>\n",
       "      <td>RETIRED</td>\n",
       "      <td>3312015</td>\n",
       "      <td>2000</td>\n",
       "      <td>NaN</td>\n",
       "      <td>C10657369</td>\n",
       "      <td>1003940</td>\n",
       "      <td>NaN</td>\n",
       "      <td>NaN</td>\n",
       "      <td>4041620151241921285</td>\n",
       "    </tr>\n",
       "    <tr>\n",
       "      <th>3113</th>\n",
       "      <td>C00499053</td>\n",
       "      <td>N</td>\n",
       "      <td>Q1</td>\n",
       "      <td>P</td>\n",
       "      <td>15951164208</td>\n",
       "      <td>15</td>\n",
       "      <td>IND</td>\n",
       "      <td>KARON, ROY</td>\n",
       "      <td>CEDAR RAPIDS</td>\n",
       "      <td>IA</td>\n",
       "      <td>...</td>\n",
       "      <td>BVS PERFORMANCE SOLUTIONS</td>\n",
       "      <td>EXECUTIVE</td>\n",
       "      <td>3312015</td>\n",
       "      <td>2700</td>\n",
       "      <td>NaN</td>\n",
       "      <td>C10656475</td>\n",
       "      <td>1003940</td>\n",
       "      <td>NaN</td>\n",
       "      <td>NaN</td>\n",
       "      <td>4041620151241921245</td>\n",
       "    </tr>\n",
       "    <tr>\n",
       "      <th>3155</th>\n",
       "      <td>C00499053</td>\n",
       "      <td>N</td>\n",
       "      <td>Q1</td>\n",
       "      <td>P</td>\n",
       "      <td>15951164198</td>\n",
       "      <td>15</td>\n",
       "      <td>IND</td>\n",
       "      <td>SIMON, PHYLLIS</td>\n",
       "      <td>CEDAR RAPIDS</td>\n",
       "      <td>IA</td>\n",
       "      <td>...</td>\n",
       "      <td>SELF-EMPLOYED</td>\n",
       "      <td>CONSULTANT</td>\n",
       "      <td>3302015</td>\n",
       "      <td>2700</td>\n",
       "      <td>NaN</td>\n",
       "      <td>C10654592</td>\n",
       "      <td>1003940</td>\n",
       "      <td>NaN</td>\n",
       "      <td>NaN</td>\n",
       "      <td>4041620151241921214</td>\n",
       "    </tr>\n",
       "  </tbody>\n",
       "</table>\n",
       "<p>5 rows × 21 columns</p>\n",
       "</div>"
      ],
      "text/plain": [
       "        CMTE_ID AMNDT_IND RPT_TP TRANSACTION_PGI    IMAGE_NUM TRANSACTION_TP  \\\n",
       "246   C00076182         N     Q1               P  15951125084             15   \n",
       "3097  C00499053         N     Q1               G  15951164221             15   \n",
       "3099  C00499053         N     Q1               P  15951164221             15   \n",
       "3113  C00499053         N     Q1               P  15951164208             15   \n",
       "3155  C00499053         N     Q1               P  15951164198             15   \n",
       "\n",
       "     ENTITY_TP             NAME          CITY STATE         ...           \\\n",
       "246        IND  LESSARD, GERALD    CORALVILLE    IA         ...            \n",
       "3097       IND       KARON, ROY  CEDAR RAPIDS    IA         ...            \n",
       "3099       IND   BEDELL, ELINOR   SPIRIT LAKE    IA         ...            \n",
       "3113       IND       KARON, ROY  CEDAR RAPIDS    IA         ...            \n",
       "3155       IND   SIMON, PHYLLIS  CEDAR RAPIDS    IA         ...            \n",
       "\n",
       "                       EMPLOYER               OCCUPATION TRANSACTION_DT  \\\n",
       "246          WEST LIBERTY FOODS  CHIEF OPERATING OFFICER        3242015   \n",
       "3097  BVS PERFORMANCE SOLUTIONS                EXECUTIVE        3312015   \n",
       "3099                        NaN                  RETIRED        3312015   \n",
       "3113  BVS PERFORMANCE SOLUTIONS                EXECUTIVE        3312015   \n",
       "3155              SELF-EMPLOYED               CONSULTANT        3302015   \n",
       "\n",
       "      TRANSACTION_AMT  OTHER_ID               TRAN_ID FILE_NUM  MEMO_CD  \\\n",
       "246              4750       NaN  A37432E2AE25D4CC69D7  1002289      NaN   \n",
       "3097             2700       NaN             C10656769  1003940      NaN   \n",
       "3099             2000       NaN             C10657369  1003940      NaN   \n",
       "3113             2700       NaN             C10656475  1003940      NaN   \n",
       "3155             2700       NaN             C10654592  1003940      NaN   \n",
       "\n",
       "     MEMO_TEXT               SUB_ID  \n",
       "246        NaN  4041320151241796916  \n",
       "3097       NaN  4041620151241921283  \n",
       "3099       NaN  4041620151241921285  \n",
       "3113       NaN  4041620151241921245  \n",
       "3155       NaN  4041620151241921214  \n",
       "\n",
       "[5 rows x 21 columns]"
      ]
     },
     "execution_count": 94,
     "metadata": {},
     "output_type": "execute_result"
    }
   ],
   "source": [
    "df.query(\"STATE == 'IA' & TRANSACTION_AMT >= 1000\").head()"
   ]
  },
  {
   "cell_type": "markdown",
   "metadata": {},
   "source": [
    "Then you have your `.loc` and `.iloc`."
   ]
  },
  {
   "cell_type": "markdown",
   "metadata": {},
   "source": [
    "# Aggregations"
   ]
  },
  {
   "cell_type": "markdown",
   "metadata": {},
   "source": [
    "A lot of them."
   ]
  },
  {
   "cell_type": "code",
   "execution_count": 96,
   "metadata": {
    "collapsed": false
   },
   "outputs": [
    {
     "data": {
      "text/plain": [
       "0    1000\n",
       "1    1000\n",
       "2     250\n",
       "3     500\n",
       "4     250\n",
       "Name: TRANSACTION_AMT, dtype: int64"
      ]
     },
     "execution_count": 96,
     "metadata": {},
     "output_type": "execute_result"
    }
   ],
   "source": [
    "amt = df['TRANSACTION_AMT']\n",
    "amt.head()"
   ]
  },
  {
   "cell_type": "code",
   "execution_count": 97,
   "metadata": {
    "collapsed": false
   },
   "outputs": [
    {
     "data": {
      "text/plain": [
       "1024.9270043159026"
      ]
     },
     "execution_count": 97,
     "metadata": {},
     "output_type": "execute_result"
    }
   ],
   "source": [
    "amt.mean()"
   ]
  },
  {
   "cell_type": "code",
   "execution_count": 98,
   "metadata": {
    "collapsed": false
   },
   "outputs": [
    {
     "data": {
      "text/plain": [
       "716585"
      ]
     },
     "execution_count": 98,
     "metadata": {},
     "output_type": "execute_result"
    }
   ],
   "source": [
    "amt.max()"
   ]
  },
  {
   "cell_type": "code",
   "execution_count": 99,
   "metadata": {
    "collapsed": false
   },
   "outputs": [
    {
     "data": {
      "text/plain": [
       "0.25     250\n",
       "0.50     384\n",
       "0.75    1000\n",
       "dtype: float64"
      ]
     },
     "execution_count": 99,
     "metadata": {},
     "output_type": "execute_result"
    }
   ],
   "source": [
    "amt.quantile([.25, .5, .75])"
   ]
  },
  {
   "cell_type": "code",
   "execution_count": 100,
   "metadata": {
    "collapsed": false
   },
   "outputs": [
    {
     "data": {
      "text/plain": [
       "4580.1380898525385"
      ]
     },
     "execution_count": 100,
     "metadata": {},
     "output_type": "execute_result"
    }
   ],
   "source": [
    "amt.std()"
   ]
  },
  {
   "cell_type": "code",
   "execution_count": 101,
   "metadata": {
    "collapsed": false
   },
   "outputs": [
    {
     "data": {
      "text/plain": [
       "6777.4850803467698"
      ]
     },
     "execution_count": 101,
     "metadata": {},
     "output_type": "execute_result"
    }
   ],
   "source": [
    "amt.kurtosis()"
   ]
  },
  {
   "cell_type": "code",
   "execution_count": 102,
   "metadata": {
    "collapsed": false
   },
   "outputs": [
    {
     "data": {
      "text/plain": [
       "count    205519.000000\n",
       "mean       1024.927004\n",
       "std        4580.138090\n",
       "min     -226800.000000\n",
       "25%         250.000000\n",
       "50%         384.000000\n",
       "75%        1000.000000\n",
       "max      716585.000000\n",
       "Name: TRANSACTION_AMT, dtype: float64"
      ]
     },
     "execution_count": 102,
     "metadata": {},
     "output_type": "execute_result"
    }
   ],
   "source": [
    "amt.describe()"
   ]
  },
  {
   "cell_type": "code",
   "execution_count": 106,
   "metadata": {
    "collapsed": false
   },
   "outputs": [
    {
     "data": {
      "text/plain": [
       "STATE                          \n",
       "AK     BP                          24\n",
       "       SELF EMPLOYED               24\n",
       "       SELF                        23\n",
       "       RETIRED                     22\n",
       "       SELF-EMPLOYED               14\n",
       "                                   ..\n",
       "ZZ     CATERPILLAR INC.             4\n",
       "       ALSTON & BIRD LLP            4\n",
       "       UBS CORPORATE CENTER         4\n",
       "       CAPITAL RESEARCH COMPANY     4\n",
       "       FORD - AUSTRALIA             3\n",
       "dtype: int64"
      ]
     },
     "execution_count": 106,
     "metadata": {},
     "output_type": "execute_result"
    }
   ],
   "source": [
    "top10 = df.groupby('STATE').EMPLOYER.apply(lambda x: x.value_counts().nlargest(10))\n",
    "top10"
   ]
  },
  {
   "cell_type": "markdown",
   "metadata": {},
   "source": [
    "# Sampling"
   ]
  },
  {
   "cell_type": "code",
   "execution_count": 111,
   "metadata": {
    "collapsed": false
   },
   "outputs": [
    {
     "data": {
      "text/html": [
       "<div>\n",
       "<table border=\"1\" class=\"dataframe\">\n",
       "  <thead>\n",
       "    <tr style=\"text-align: right;\">\n",
       "      <th></th>\n",
       "      <th>CMTE_ID</th>\n",
       "      <th>AMNDT_IND</th>\n",
       "      <th>RPT_TP</th>\n",
       "      <th>TRANSACTION_PGI</th>\n",
       "      <th>IMAGE_NUM</th>\n",
       "      <th>TRANSACTION_TP</th>\n",
       "      <th>ENTITY_TP</th>\n",
       "      <th>NAME</th>\n",
       "      <th>CITY</th>\n",
       "      <th>STATE</th>\n",
       "      <th>...</th>\n",
       "      <th>EMPLOYER</th>\n",
       "      <th>OCCUPATION</th>\n",
       "      <th>TRANSACTION_DT</th>\n",
       "      <th>TRANSACTION_AMT</th>\n",
       "      <th>OTHER_ID</th>\n",
       "      <th>TRAN_ID</th>\n",
       "      <th>FILE_NUM</th>\n",
       "      <th>MEMO_CD</th>\n",
       "      <th>MEMO_TEXT</th>\n",
       "      <th>SUB_ID</th>\n",
       "    </tr>\n",
       "  </thead>\n",
       "  <tbody>\n",
       "    <tr>\n",
       "      <th>33032</th>\n",
       "      <td>C00364109</td>\n",
       "      <td>N</td>\n",
       "      <td>M4</td>\n",
       "      <td>P</td>\n",
       "      <td>15970353176</td>\n",
       "      <td>15</td>\n",
       "      <td>IND</td>\n",
       "      <td>MATLOCK, CLARENCE</td>\n",
       "      <td>CHANUTE</td>\n",
       "      <td>KS</td>\n",
       "      <td>...</td>\n",
       "      <td>CABLE ONE, INC.</td>\n",
       "      <td>GENERAL MANAGER</td>\n",
       "      <td>3252015</td>\n",
       "      <td>300</td>\n",
       "      <td>NaN</td>\n",
       "      <td>SA11AI.9051</td>\n",
       "      <td>1003683</td>\n",
       "      <td>NaN</td>\n",
       "      <td>NaN</td>\n",
       "      <td>4041720151241968198</td>\n",
       "    </tr>\n",
       "    <tr>\n",
       "      <th>102608</th>\n",
       "      <td>C00258855</td>\n",
       "      <td>N</td>\n",
       "      <td>Q1</td>\n",
       "      <td>P</td>\n",
       "      <td>15951129818</td>\n",
       "      <td>15</td>\n",
       "      <td>IND</td>\n",
       "      <td>CRANFORD, JAY</td>\n",
       "      <td>ARLINGTON</td>\n",
       "      <td>VA</td>\n",
       "      <td>...</td>\n",
       "      <td>CLARK, GEDULDIG, CRANFORD AND NEIL</td>\n",
       "      <td>PARTNER</td>\n",
       "      <td>2242015</td>\n",
       "      <td>1000</td>\n",
       "      <td>NaN</td>\n",
       "      <td>AC8F836F248CF480CB1F</td>\n",
       "      <td>1002624</td>\n",
       "      <td>NaN</td>\n",
       "      <td>NaN</td>\n",
       "      <td>4041520151241825734</td>\n",
       "    </tr>\n",
       "    <tr>\n",
       "      <th>80057</th>\n",
       "      <td>C00003418</td>\n",
       "      <td>A</td>\n",
       "      <td>M2</td>\n",
       "      <td>P</td>\n",
       "      <td>15970302289</td>\n",
       "      <td>15</td>\n",
       "      <td>IND</td>\n",
       "      <td>MADDEN, WILLIAM J. MR.</td>\n",
       "      <td>MCLEAN</td>\n",
       "      <td>VA</td>\n",
       "      <td>...</td>\n",
       "      <td>NaN</td>\n",
       "      <td>NaN</td>\n",
       "      <td>1232015</td>\n",
       "      <td>220</td>\n",
       "      <td>NaN</td>\n",
       "      <td>2015M02L11AI01794</td>\n",
       "      <td>998013</td>\n",
       "      <td>NaN</td>\n",
       "      <td>NaN</td>\n",
       "      <td>4031920151240849837</td>\n",
       "    </tr>\n",
       "    <tr>\n",
       "      <th>137657</th>\n",
       "      <td>C00010603</td>\n",
       "      <td>N</td>\n",
       "      <td>M4</td>\n",
       "      <td>P</td>\n",
       "      <td>15951205531</td>\n",
       "      <td>22Y</td>\n",
       "      <td>IND</td>\n",
       "      <td>BASS, FAYE</td>\n",
       "      <td>LITTLE ROCK</td>\n",
       "      <td>AR</td>\n",
       "      <td>...</td>\n",
       "      <td>NaN</td>\n",
       "      <td>NaN</td>\n",
       "      <td>3182015</td>\n",
       "      <td>25</td>\n",
       "      <td>NaN</td>\n",
       "      <td>D30820</td>\n",
       "      <td>1005384</td>\n",
       "      <td>NaN</td>\n",
       "      <td>NaN</td>\n",
       "      <td>4042320151242255484</td>\n",
       "    </tr>\n",
       "    <tr>\n",
       "      <th>74188</th>\n",
       "      <td>C00144766</td>\n",
       "      <td>N</td>\n",
       "      <td>M3</td>\n",
       "      <td>P</td>\n",
       "      <td>15970301312</td>\n",
       "      <td>15</td>\n",
       "      <td>IND</td>\n",
       "      <td>GOODLATTE, BILL MR.</td>\n",
       "      <td>WICHITA</td>\n",
       "      <td>KS</td>\n",
       "      <td>...</td>\n",
       "      <td>LDF SALES &amp; DISTRIBUTING, INC.</td>\n",
       "      <td>SENIOR VICE PRESIDENT</td>\n",
       "      <td>2122015</td>\n",
       "      <td>5000</td>\n",
       "      <td>NaN</td>\n",
       "      <td>AAA49EA9C2A9B404D9EE</td>\n",
       "      <td>997691</td>\n",
       "      <td>NaN</td>\n",
       "      <td>NaN</td>\n",
       "      <td>4031820151240818405</td>\n",
       "    </tr>\n",
       "    <tr>\n",
       "      <th>...</th>\n",
       "      <td>...</td>\n",
       "      <td>...</td>\n",
       "      <td>...</td>\n",
       "      <td>...</td>\n",
       "      <td>...</td>\n",
       "      <td>...</td>\n",
       "      <td>...</td>\n",
       "      <td>...</td>\n",
       "      <td>...</td>\n",
       "      <td>...</td>\n",
       "      <td>...</td>\n",
       "      <td>...</td>\n",
       "      <td>...</td>\n",
       "      <td>...</td>\n",
       "      <td>...</td>\n",
       "      <td>...</td>\n",
       "      <td>...</td>\n",
       "      <td>...</td>\n",
       "      <td>...</td>\n",
       "      <td>...</td>\n",
       "      <td>...</td>\n",
       "    </tr>\n",
       "    <tr>\n",
       "      <th>112489</th>\n",
       "      <td>C00571562</td>\n",
       "      <td>A</td>\n",
       "      <td>Q1</td>\n",
       "      <td>P</td>\n",
       "      <td>15970691049</td>\n",
       "      <td>15</td>\n",
       "      <td>IND</td>\n",
       "      <td>MOONEY, TIM</td>\n",
       "      <td>MARION</td>\n",
       "      <td>IA</td>\n",
       "      <td>...</td>\n",
       "      <td>MOONEY-ENGLE LAND CO, LLC</td>\n",
       "      <td>OWNER</td>\n",
       "      <td>3272015</td>\n",
       "      <td>250</td>\n",
       "      <td>NaN</td>\n",
       "      <td>VN8P2DD9H08</td>\n",
       "      <td>1007160</td>\n",
       "      <td>NaN</td>\n",
       "      <td>NaN</td>\n",
       "      <td>4051120151243673398</td>\n",
       "    </tr>\n",
       "    <tr>\n",
       "      <th>15711</th>\n",
       "      <td>C00461046</td>\n",
       "      <td>N</td>\n",
       "      <td>Q1</td>\n",
       "      <td>G</td>\n",
       "      <td>15020141965</td>\n",
       "      <td>15</td>\n",
       "      <td>IND</td>\n",
       "      <td>STUART, ALEXANDER</td>\n",
       "      <td>LAKE FOREST</td>\n",
       "      <td>IL</td>\n",
       "      <td>...</td>\n",
       "      <td>NORTH STAR INVESTMENTS</td>\n",
       "      <td>INVESTMENT MGMT.</td>\n",
       "      <td>3312015</td>\n",
       "      <td>2700</td>\n",
       "      <td>NaN</td>\n",
       "      <td>SA0430151965632</td>\n",
       "      <td>1006100</td>\n",
       "      <td>NaN</td>\n",
       "      <td>NaN</td>\n",
       "      <td>2043020151242363021</td>\n",
       "    </tr>\n",
       "    <tr>\n",
       "      <th>201814</th>\n",
       "      <td>C00236778</td>\n",
       "      <td>N</td>\n",
       "      <td>M5</td>\n",
       "      <td>P</td>\n",
       "      <td>15951383264</td>\n",
       "      <td>15</td>\n",
       "      <td>IND</td>\n",
       "      <td>ESLER, ROBERT E</td>\n",
       "      <td>TAYLOR</td>\n",
       "      <td>MI</td>\n",
       "      <td>...</td>\n",
       "      <td>SELF-EMPLOYED</td>\n",
       "      <td>OWNER-OPERATOR</td>\n",
       "      <td>4292015</td>\n",
       "      <td>500</td>\n",
       "      <td>NaN</td>\n",
       "      <td>C2994166</td>\n",
       "      <td>1007731</td>\n",
       "      <td>NaN</td>\n",
       "      <td>NaN</td>\n",
       "      <td>4051820151243738881</td>\n",
       "    </tr>\n",
       "    <tr>\n",
       "      <th>205201</th>\n",
       "      <td>C00574244</td>\n",
       "      <td>N</td>\n",
       "      <td>12S</td>\n",
       "      <td>S</td>\n",
       "      <td>15951233884</td>\n",
       "      <td>15</td>\n",
       "      <td>IND</td>\n",
       "      <td>BALLWEBER, JEFF</td>\n",
       "      <td>FORT COLLINS</td>\n",
       "      <td>CO</td>\n",
       "      <td>...</td>\n",
       "      <td>PICKERING FIRM</td>\n",
       "      <td>SPECIAL PROJECTS</td>\n",
       "      <td>4222015</td>\n",
       "      <td>250</td>\n",
       "      <td>NaN</td>\n",
       "      <td>SA11AI.5248</td>\n",
       "      <td>1006214</td>\n",
       "      <td>NaN</td>\n",
       "      <td>NaN</td>\n",
       "      <td>4050120151242374000</td>\n",
       "    </tr>\n",
       "    <tr>\n",
       "      <th>94228</th>\n",
       "      <td>C00458679</td>\n",
       "      <td>N</td>\n",
       "      <td>Q1</td>\n",
       "      <td>P</td>\n",
       "      <td>15951149175</td>\n",
       "      <td>15</td>\n",
       "      <td>IND</td>\n",
       "      <td>GRADLER, GEOFFREY</td>\n",
       "      <td>ARLINGTON</td>\n",
       "      <td>VA</td>\n",
       "      <td>...</td>\n",
       "      <td>ROBERTS, RAHAB &amp; GRADLER</td>\n",
       "      <td>PRINCIPAL</td>\n",
       "      <td>2272015</td>\n",
       "      <td>1000</td>\n",
       "      <td>NaN</td>\n",
       "      <td>SA11AI.14242</td>\n",
       "      <td>1003332</td>\n",
       "      <td>NaN</td>\n",
       "      <td>NaN</td>\n",
       "      <td>4041720151241964219</td>\n",
       "    </tr>\n",
       "  </tbody>\n",
       "</table>\n",
       "<p>100 rows × 21 columns</p>\n",
       "</div>"
      ],
      "text/plain": [
       "          CMTE_ID AMNDT_IND RPT_TP TRANSACTION_PGI    IMAGE_NUM  \\\n",
       "33032   C00364109         N     M4               P  15970353176   \n",
       "102608  C00258855         N     Q1               P  15951129818   \n",
       "80057   C00003418         A     M2               P  15970302289   \n",
       "137657  C00010603         N     M4               P  15951205531   \n",
       "74188   C00144766         N     M3               P  15970301312   \n",
       "...           ...       ...    ...             ...          ...   \n",
       "112489  C00571562         A     Q1               P  15970691049   \n",
       "15711   C00461046         N     Q1               G  15020141965   \n",
       "201814  C00236778         N     M5               P  15951383264   \n",
       "205201  C00574244         N    12S               S  15951233884   \n",
       "94228   C00458679         N     Q1               P  15951149175   \n",
       "\n",
       "       TRANSACTION_TP ENTITY_TP                    NAME          CITY STATE  \\\n",
       "33032              15       IND       MATLOCK, CLARENCE       CHANUTE    KS   \n",
       "102608             15       IND           CRANFORD, JAY     ARLINGTON    VA   \n",
       "80057              15       IND  MADDEN, WILLIAM J. MR.        MCLEAN    VA   \n",
       "137657            22Y       IND              BASS, FAYE   LITTLE ROCK    AR   \n",
       "74188              15       IND     GOODLATTE, BILL MR.       WICHITA    KS   \n",
       "...               ...       ...                     ...           ...   ...   \n",
       "112489             15       IND             MOONEY, TIM        MARION    IA   \n",
       "15711              15       IND       STUART, ALEXANDER   LAKE FOREST    IL   \n",
       "201814             15       IND         ESLER, ROBERT E        TAYLOR    MI   \n",
       "205201             15       IND         BALLWEBER, JEFF  FORT COLLINS    CO   \n",
       "94228              15       IND       GRADLER, GEOFFREY     ARLINGTON    VA   \n",
       "\n",
       "               ...                                     EMPLOYER  \\\n",
       "33032          ...                              CABLE ONE, INC.   \n",
       "102608         ...           CLARK, GEDULDIG, CRANFORD AND NEIL   \n",
       "80057          ...                                          NaN   \n",
       "137657         ...                                          NaN   \n",
       "74188          ...               LDF SALES & DISTRIBUTING, INC.   \n",
       "...            ...                                          ...   \n",
       "112489         ...                    MOONEY-ENGLE LAND CO, LLC   \n",
       "15711          ...                       NORTH STAR INVESTMENTS   \n",
       "201814         ...                                SELF-EMPLOYED   \n",
       "205201         ...                               PICKERING FIRM   \n",
       "94228          ...                     ROBERTS, RAHAB & GRADLER   \n",
       "\n",
       "                   OCCUPATION TRANSACTION_DT  TRANSACTION_AMT  OTHER_ID  \\\n",
       "33032         GENERAL MANAGER        3252015              300       NaN   \n",
       "102608                PARTNER        2242015             1000       NaN   \n",
       "80057                     NaN        1232015              220       NaN   \n",
       "137657                    NaN        3182015               25       NaN   \n",
       "74188   SENIOR VICE PRESIDENT        2122015             5000       NaN   \n",
       "...                       ...            ...              ...       ...   \n",
       "112489                  OWNER        3272015              250       NaN   \n",
       "15711        INVESTMENT MGMT.        3312015             2700       NaN   \n",
       "201814         OWNER-OPERATOR        4292015              500       NaN   \n",
       "205201       SPECIAL PROJECTS        4222015              250       NaN   \n",
       "94228               PRINCIPAL        2272015             1000       NaN   \n",
       "\n",
       "                     TRAN_ID FILE_NUM  MEMO_CD MEMO_TEXT               SUB_ID  \n",
       "33032            SA11AI.9051  1003683      NaN       NaN  4041720151241968198  \n",
       "102608  AC8F836F248CF480CB1F  1002624      NaN       NaN  4041520151241825734  \n",
       "80057      2015M02L11AI01794   998013      NaN       NaN  4031920151240849837  \n",
       "137657                D30820  1005384      NaN       NaN  4042320151242255484  \n",
       "74188   AAA49EA9C2A9B404D9EE   997691      NaN       NaN  4031820151240818405  \n",
       "...                      ...      ...      ...       ...                  ...  \n",
       "112489           VN8P2DD9H08  1007160      NaN       NaN  4051120151243673398  \n",
       "15711        SA0430151965632  1006100      NaN       NaN  2043020151242363021  \n",
       "201814              C2994166  1007731      NaN       NaN  4051820151243738881  \n",
       "205201           SA11AI.5248  1006214      NaN       NaN  4050120151242374000  \n",
       "94228           SA11AI.14242  1003332      NaN       NaN  4041720151241964219  \n",
       "\n",
       "[100 rows x 21 columns]"
      ]
     },
     "execution_count": 111,
     "metadata": {},
     "output_type": "execute_result"
    }
   ],
   "source": [
    "df.sample(n=100)"
   ]
  },
  {
   "cell_type": "code",
   "execution_count": 110,
   "metadata": {
    "collapsed": false
   },
   "outputs": [
    {
     "data": {
      "text/html": [
       "<div>\n",
       "<table border=\"1\" class=\"dataframe\">\n",
       "  <thead>\n",
       "    <tr style=\"text-align: right;\">\n",
       "      <th></th>\n",
       "      <th>CMTE_ID</th>\n",
       "      <th>AMNDT_IND</th>\n",
       "      <th>RPT_TP</th>\n",
       "      <th>TRANSACTION_PGI</th>\n",
       "      <th>IMAGE_NUM</th>\n",
       "      <th>TRANSACTION_TP</th>\n",
       "      <th>ENTITY_TP</th>\n",
       "      <th>NAME</th>\n",
       "      <th>CITY</th>\n",
       "      <th>STATE</th>\n",
       "      <th>...</th>\n",
       "      <th>EMPLOYER</th>\n",
       "      <th>OCCUPATION</th>\n",
       "      <th>TRANSACTION_DT</th>\n",
       "      <th>TRANSACTION_AMT</th>\n",
       "      <th>OTHER_ID</th>\n",
       "      <th>TRAN_ID</th>\n",
       "      <th>FILE_NUM</th>\n",
       "      <th>MEMO_CD</th>\n",
       "      <th>MEMO_TEXT</th>\n",
       "      <th>SUB_ID</th>\n",
       "    </tr>\n",
       "  </thead>\n",
       "  <tbody>\n",
       "    <tr>\n",
       "      <th>165354</th>\n",
       "      <td>C00214981</td>\n",
       "      <td>N</td>\n",
       "      <td>M6</td>\n",
       "      <td>P</td>\n",
       "      <td>15951452357</td>\n",
       "      <td>15</td>\n",
       "      <td>IND</td>\n",
       "      <td>BOENING, MILDRED J.</td>\n",
       "      <td>FLORESVILLE</td>\n",
       "      <td>TX</td>\n",
       "      <td>...</td>\n",
       "      <td>BOENING BROS. INC.</td>\n",
       "      <td>ASSISTANT TREASURER</td>\n",
       "      <td>5222015</td>\n",
       "      <td>300</td>\n",
       "      <td>NaN</td>\n",
       "      <td>7065648</td>\n",
       "      <td>1009616</td>\n",
       "      <td>NaN</td>\n",
       "      <td>NaN</td>\n",
       "      <td>4060420151244025166</td>\n",
       "    </tr>\n",
       "    <tr>\n",
       "      <th>84958</th>\n",
       "      <td>C00211318</td>\n",
       "      <td>N</td>\n",
       "      <td>M2</td>\n",
       "      <td>P</td>\n",
       "      <td>15970279849</td>\n",
       "      <td>15</td>\n",
       "      <td>IND</td>\n",
       "      <td>SLYH, JOHN W</td>\n",
       "      <td>RICHMOND</td>\n",
       "      <td>VA</td>\n",
       "      <td>...</td>\n",
       "      <td>DELOITTE &amp; TOUCHE LLP</td>\n",
       "      <td>PARTNER</td>\n",
       "      <td>1152015</td>\n",
       "      <td>250</td>\n",
       "      <td>NaN</td>\n",
       "      <td>AB011BAD2356F4625BFB</td>\n",
       "      <td>994967</td>\n",
       "      <td>NaN</td>\n",
       "      <td>NaN</td>\n",
       "      <td>4022320151239097167</td>\n",
       "    </tr>\n",
       "    <tr>\n",
       "      <th>145071</th>\n",
       "      <td>C00034132</td>\n",
       "      <td>N</td>\n",
       "      <td>M5</td>\n",
       "      <td>P</td>\n",
       "      <td>15970709260</td>\n",
       "      <td>15</td>\n",
       "      <td>IND</td>\n",
       "      <td>BERKERY, ROSEMARY T. MS.</td>\n",
       "      <td>WEEHAWKEN</td>\n",
       "      <td>NJ</td>\n",
       "      <td>...</td>\n",
       "      <td>FLUOR CORPORATION</td>\n",
       "      <td>BOARD OF DIRECTORS</td>\n",
       "      <td>4212015</td>\n",
       "      <td>5000</td>\n",
       "      <td>NaN</td>\n",
       "      <td>65386898</td>\n",
       "      <td>1008263</td>\n",
       "      <td>NaN</td>\n",
       "      <td>NaN</td>\n",
       "      <td>4051920151243795781</td>\n",
       "    </tr>\n",
       "    <tr>\n",
       "      <th>89556</th>\n",
       "      <td>C00503185</td>\n",
       "      <td>N</td>\n",
       "      <td>Q1</td>\n",
       "      <td>G</td>\n",
       "      <td>15970347060</td>\n",
       "      <td>15</td>\n",
       "      <td>IND</td>\n",
       "      <td>SALWAN, SONIA</td>\n",
       "      <td>FREMONT</td>\n",
       "      <td>CA</td>\n",
       "      <td>...</td>\n",
       "      <td>SELF-EMPLOYED</td>\n",
       "      <td>VETERINARIAN</td>\n",
       "      <td>3152015</td>\n",
       "      <td>2700</td>\n",
       "      <td>NaN</td>\n",
       "      <td>VN8J3DC7W86</td>\n",
       "      <td>1003297</td>\n",
       "      <td>NaN</td>\n",
       "      <td>NaN</td>\n",
       "      <td>4041520151241869065</td>\n",
       "    </tr>\n",
       "    <tr>\n",
       "      <th>204485</th>\n",
       "      <td>C00484535</td>\n",
       "      <td>N</td>\n",
       "      <td>M6</td>\n",
       "      <td>P</td>\n",
       "      <td>15971204602</td>\n",
       "      <td>24I</td>\n",
       "      <td>IND</td>\n",
       "      <td>PRODEHL, EDWARD</td>\n",
       "      <td>BURR RIDGE</td>\n",
       "      <td>IL</td>\n",
       "      <td>...</td>\n",
       "      <td>COLDWELL BANKER HONIG-BELL</td>\n",
       "      <td>REAL ESTATE BROKER</td>\n",
       "      <td>5142015</td>\n",
       "      <td>1000</td>\n",
       "      <td>C00352849</td>\n",
       "      <td>SA11AI.9194</td>\n",
       "      <td>1010215</td>\n",
       "      <td>NaN</td>\n",
       "      <td>NaN</td>\n",
       "      <td>4061220151245692663</td>\n",
       "    </tr>\n",
       "    <tr>\n",
       "      <th>...</th>\n",
       "      <td>...</td>\n",
       "      <td>...</td>\n",
       "      <td>...</td>\n",
       "      <td>...</td>\n",
       "      <td>...</td>\n",
       "      <td>...</td>\n",
       "      <td>...</td>\n",
       "      <td>...</td>\n",
       "      <td>...</td>\n",
       "      <td>...</td>\n",
       "      <td>...</td>\n",
       "      <td>...</td>\n",
       "      <td>...</td>\n",
       "      <td>...</td>\n",
       "      <td>...</td>\n",
       "      <td>...</td>\n",
       "      <td>...</td>\n",
       "      <td>...</td>\n",
       "      <td>...</td>\n",
       "      <td>...</td>\n",
       "      <td>...</td>\n",
       "    </tr>\n",
       "    <tr>\n",
       "      <th>110292</th>\n",
       "      <td>C00027466</td>\n",
       "      <td>A</td>\n",
       "      <td>M4</td>\n",
       "      <td>P</td>\n",
       "      <td>15020149621</td>\n",
       "      <td>15</td>\n",
       "      <td>IND</td>\n",
       "      <td>PELLECCHIA, JOSEPH F MR</td>\n",
       "      <td>ALLENTOWN</td>\n",
       "      <td>NJ</td>\n",
       "      <td>...</td>\n",
       "      <td>RETIRED</td>\n",
       "      <td>RETIRED</td>\n",
       "      <td>3252015</td>\n",
       "      <td>250</td>\n",
       "      <td>NaN</td>\n",
       "      <td>SA0505159621981</td>\n",
       "      <td>1006502</td>\n",
       "      <td>NaN</td>\n",
       "      <td>CONTRIBUTION</td>\n",
       "      <td>1060320150017597465</td>\n",
       "    </tr>\n",
       "    <tr>\n",
       "      <th>200520</th>\n",
       "      <td>C00041269</td>\n",
       "      <td>A</td>\n",
       "      <td>M2</td>\n",
       "      <td>P</td>\n",
       "      <td>15971201699</td>\n",
       "      <td>15</td>\n",
       "      <td>IND</td>\n",
       "      <td>ROBINSON III, ROY B</td>\n",
       "      <td>ATLANTA</td>\n",
       "      <td>GA</td>\n",
       "      <td>...</td>\n",
       "      <td>SELF</td>\n",
       "      <td>PUBLIC AFFAIRS</td>\n",
       "      <td>1072015</td>\n",
       "      <td>5000</td>\n",
       "      <td>NaN</td>\n",
       "      <td>C10051286</td>\n",
       "      <td>1009855</td>\n",
       "      <td>NaN</td>\n",
       "      <td>NaN</td>\n",
       "      <td>4060920151244229804</td>\n",
       "    </tr>\n",
       "    <tr>\n",
       "      <th>128710</th>\n",
       "      <td>C00478800</td>\n",
       "      <td>N</td>\n",
       "      <td>M5</td>\n",
       "      <td>P</td>\n",
       "      <td>15970699543</td>\n",
       "      <td>15</td>\n",
       "      <td>IND</td>\n",
       "      <td>WHITEHURST, JAY</td>\n",
       "      <td>RALEIGH</td>\n",
       "      <td>NC</td>\n",
       "      <td>...</td>\n",
       "      <td>TELECOMMUNICATION SYSTEMS, INC.</td>\n",
       "      <td>SVP &amp; PRES- PLATFORMS &amp; APPS</td>\n",
       "      <td>4242015</td>\n",
       "      <td>400</td>\n",
       "      <td>NaN</td>\n",
       "      <td>A6FB8B5D295EE40BABF6</td>\n",
       "      <td>1007665</td>\n",
       "      <td>NaN</td>\n",
       "      <td>NaN</td>\n",
       "      <td>4051820151243738128</td>\n",
       "    </tr>\n",
       "    <tr>\n",
       "      <th>103077</th>\n",
       "      <td>C00550863</td>\n",
       "      <td>N</td>\n",
       "      <td>Q1</td>\n",
       "      <td>G</td>\n",
       "      <td>15951131411</td>\n",
       "      <td>22Y</td>\n",
       "      <td>IND</td>\n",
       "      <td>BURRUS, PAMELA</td>\n",
       "      <td>LAGUNA BEACH</td>\n",
       "      <td>CA</td>\n",
       "      <td>...</td>\n",
       "      <td>NaN</td>\n",
       "      <td>NaN</td>\n",
       "      <td>2232015</td>\n",
       "      <td>-100</td>\n",
       "      <td>NaN</td>\n",
       "      <td>EXPB12226</td>\n",
       "      <td>1002845</td>\n",
       "      <td>NaN</td>\n",
       "      <td>NaN</td>\n",
       "      <td>4041520151241877600</td>\n",
       "    </tr>\n",
       "    <tr>\n",
       "      <th>35835</th>\n",
       "      <td>C00552547</td>\n",
       "      <td>N</td>\n",
       "      <td>Q1</td>\n",
       "      <td>P</td>\n",
       "      <td>15951172477</td>\n",
       "      <td>15</td>\n",
       "      <td>IND</td>\n",
       "      <td>MCCORMICK, PATRICK</td>\n",
       "      <td>KINGS PARK</td>\n",
       "      <td>NY</td>\n",
       "      <td>...</td>\n",
       "      <td>CAMPOLO MIDDLETON &amp; MCCORMICK</td>\n",
       "      <td>ATTORNEY</td>\n",
       "      <td>3112015</td>\n",
       "      <td>250</td>\n",
       "      <td>NaN</td>\n",
       "      <td>SA11AI.16200.2</td>\n",
       "      <td>1004197</td>\n",
       "      <td>X</td>\n",
       "      <td>NaN</td>\n",
       "      <td>4042020151242051645</td>\n",
       "    </tr>\n",
       "  </tbody>\n",
       "</table>\n",
       "<p>102760 rows × 21 columns</p>\n",
       "</div>"
      ],
      "text/plain": [
       "          CMTE_ID AMNDT_IND RPT_TP TRANSACTION_PGI    IMAGE_NUM  \\\n",
       "165354  C00214981         N     M6               P  15951452357   \n",
       "84958   C00211318         N     M2               P  15970279849   \n",
       "145071  C00034132         N     M5               P  15970709260   \n",
       "89556   C00503185         N     Q1               G  15970347060   \n",
       "204485  C00484535         N     M6               P  15971204602   \n",
       "...           ...       ...    ...             ...          ...   \n",
       "110292  C00027466         A     M4               P  15020149621   \n",
       "200520  C00041269         A     M2               P  15971201699   \n",
       "128710  C00478800         N     M5               P  15970699543   \n",
       "103077  C00550863         N     Q1               G  15951131411   \n",
       "35835   C00552547         N     Q1               P  15951172477   \n",
       "\n",
       "       TRANSACTION_TP ENTITY_TP                      NAME          CITY STATE  \\\n",
       "165354             15       IND       BOENING, MILDRED J.   FLORESVILLE    TX   \n",
       "84958              15       IND              SLYH, JOHN W      RICHMOND    VA   \n",
       "145071             15       IND  BERKERY, ROSEMARY T. MS.     WEEHAWKEN    NJ   \n",
       "89556              15       IND             SALWAN, SONIA       FREMONT    CA   \n",
       "204485            24I       IND           PRODEHL, EDWARD    BURR RIDGE    IL   \n",
       "...               ...       ...                       ...           ...   ...   \n",
       "110292             15       IND   PELLECCHIA, JOSEPH F MR     ALLENTOWN    NJ   \n",
       "200520             15       IND       ROBINSON III, ROY B       ATLANTA    GA   \n",
       "128710             15       IND           WHITEHURST, JAY       RALEIGH    NC   \n",
       "103077            22Y       IND            BURRUS, PAMELA  LAGUNA BEACH    CA   \n",
       "35835              15       IND        MCCORMICK, PATRICK    KINGS PARK    NY   \n",
       "\n",
       "               ...                                  EMPLOYER  \\\n",
       "165354         ...                        BOENING BROS. INC.   \n",
       "84958          ...                     DELOITTE & TOUCHE LLP   \n",
       "145071         ...                         FLUOR CORPORATION   \n",
       "89556          ...                             SELF-EMPLOYED   \n",
       "204485         ...                COLDWELL BANKER HONIG-BELL   \n",
       "...            ...                                       ...   \n",
       "110292         ...                                   RETIRED   \n",
       "200520         ...                                      SELF   \n",
       "128710         ...           TELECOMMUNICATION SYSTEMS, INC.   \n",
       "103077         ...                                       NaN   \n",
       "35835          ...             CAMPOLO MIDDLETON & MCCORMICK   \n",
       "\n",
       "                          OCCUPATION TRANSACTION_DT  TRANSACTION_AMT  \\\n",
       "165354           ASSISTANT TREASURER        5222015              300   \n",
       "84958                        PARTNER        1152015              250   \n",
       "145071            BOARD OF DIRECTORS        4212015             5000   \n",
       "89556                   VETERINARIAN        3152015             2700   \n",
       "204485            REAL ESTATE BROKER        5142015             1000   \n",
       "...                              ...            ...              ...   \n",
       "110292                       RETIRED        3252015              250   \n",
       "200520                PUBLIC AFFAIRS        1072015             5000   \n",
       "128710  SVP & PRES- PLATFORMS & APPS        4242015              400   \n",
       "103077                           NaN        2232015             -100   \n",
       "35835                       ATTORNEY        3112015              250   \n",
       "\n",
       "         OTHER_ID               TRAN_ID FILE_NUM  MEMO_CD     MEMO_TEXT  \\\n",
       "165354        NaN               7065648  1009616      NaN           NaN   \n",
       "84958         NaN  AB011BAD2356F4625BFB   994967      NaN           NaN   \n",
       "145071        NaN              65386898  1008263      NaN           NaN   \n",
       "89556         NaN           VN8J3DC7W86  1003297      NaN           NaN   \n",
       "204485  C00352849           SA11AI.9194  1010215      NaN           NaN   \n",
       "...           ...                   ...      ...      ...           ...   \n",
       "110292        NaN       SA0505159621981  1006502      NaN  CONTRIBUTION   \n",
       "200520        NaN             C10051286  1009855      NaN           NaN   \n",
       "128710        NaN  A6FB8B5D295EE40BABF6  1007665      NaN           NaN   \n",
       "103077        NaN             EXPB12226  1002845      NaN           NaN   \n",
       "35835         NaN        SA11AI.16200.2  1004197        X           NaN   \n",
       "\n",
       "                     SUB_ID  \n",
       "165354  4060420151244025166  \n",
       "84958   4022320151239097167  \n",
       "145071  4051920151243795781  \n",
       "89556   4041520151241869065  \n",
       "204485  4061220151245692663  \n",
       "...                     ...  \n",
       "110292  1060320150017597465  \n",
       "200520  4060920151244229804  \n",
       "128710  4051820151243738128  \n",
       "103077  4041520151241877600  \n",
       "35835   4042020151242051645  \n",
       "\n",
       "[102760 rows x 21 columns]"
      ]
     },
     "execution_count": 110,
     "metadata": {},
     "output_type": "execute_result"
    }
   ],
   "source": [
    "df.sample(frac=.5)"
   ]
  },
  {
   "cell_type": "markdown",
   "metadata": {},
   "source": [
    "# Sorting\n",
    "\n",
    "Overly-complicated for historical reasons.\n",
    "\n",
    "- `.order` on Series\n",
    "- `.sort` on DataFrames\n",
    "\n",
    "Series does have a `.sort`, but it (like NumPy's `.sort`) mutates `self` and sorts inplace."
   ]
  },
  {
   "cell_type": "code",
   "execution_count": 115,
   "metadata": {
    "collapsed": false
   },
   "outputs": [
    {
     "data": {
      "text/html": [
       "<div>\n",
       "<table border=\"1\" class=\"dataframe\">\n",
       "  <thead>\n",
       "    <tr style=\"text-align: right;\">\n",
       "      <th></th>\n",
       "      <th>CMTE_ID</th>\n",
       "      <th>AMNDT_IND</th>\n",
       "      <th>RPT_TP</th>\n",
       "      <th>TRANSACTION_PGI</th>\n",
       "      <th>IMAGE_NUM</th>\n",
       "      <th>TRANSACTION_TP</th>\n",
       "      <th>ENTITY_TP</th>\n",
       "      <th>NAME</th>\n",
       "      <th>CITY</th>\n",
       "      <th>STATE</th>\n",
       "      <th>...</th>\n",
       "      <th>EMPLOYER</th>\n",
       "      <th>OCCUPATION</th>\n",
       "      <th>TRANSACTION_DT</th>\n",
       "      <th>TRANSACTION_AMT</th>\n",
       "      <th>OTHER_ID</th>\n",
       "      <th>TRAN_ID</th>\n",
       "      <th>FILE_NUM</th>\n",
       "      <th>MEMO_CD</th>\n",
       "      <th>MEMO_TEXT</th>\n",
       "      <th>SUB_ID</th>\n",
       "    </tr>\n",
       "  </thead>\n",
       "  <tbody>\n",
       "    <tr>\n",
       "      <th>204167</th>\n",
       "      <td>C00000422</td>\n",
       "      <td>A</td>\n",
       "      <td>M5</td>\n",
       "      <td>P</td>\n",
       "      <td>15971204451</td>\n",
       "      <td>15</td>\n",
       "      <td>IND</td>\n",
       "      <td>DEAN, LESLIE PATRICIA MD</td>\n",
       "      <td>ANCHORAGE</td>\n",
       "      <td>AK</td>\n",
       "      <td>...</td>\n",
       "      <td>ANCHORAGE FRACTURE &amp; ORTHOPEDIC CLINIC</td>\n",
       "      <td>PHYSICIAN</td>\n",
       "      <td>4102015</td>\n",
       "      <td>1000</td>\n",
       "      <td>NaN</td>\n",
       "      <td>65183036</td>\n",
       "      <td>1010211</td>\n",
       "      <td>NaN</td>\n",
       "      <td>NaN</td>\n",
       "      <td>4061120151245681074</td>\n",
       "    </tr>\n",
       "    <tr>\n",
       "      <th>204048</th>\n",
       "      <td>C00000422</td>\n",
       "      <td>A</td>\n",
       "      <td>M4</td>\n",
       "      <td>P</td>\n",
       "      <td>15971204352</td>\n",
       "      <td>15</td>\n",
       "      <td>IND</td>\n",
       "      <td>HEDBERG, CURTIS LARS MD</td>\n",
       "      <td>SPRINGDALE</td>\n",
       "      <td>AR</td>\n",
       "      <td>...</td>\n",
       "      <td>HEDBERG ALLERGY</td>\n",
       "      <td>PHYSICIAN</td>\n",
       "      <td>3192015</td>\n",
       "      <td>1000</td>\n",
       "      <td>NaN</td>\n",
       "      <td>64931940</td>\n",
       "      <td>1010208</td>\n",
       "      <td>NaN</td>\n",
       "      <td>NaN</td>\n",
       "      <td>4061120151245680816</td>\n",
       "    </tr>\n",
       "    <tr>\n",
       "      <th>204049</th>\n",
       "      <td>C00000422</td>\n",
       "      <td>A</td>\n",
       "      <td>M4</td>\n",
       "      <td>P</td>\n",
       "      <td>15971204352</td>\n",
       "      <td>15</td>\n",
       "      <td>IND</td>\n",
       "      <td>HEDBERG, CURTIS LARS MD</td>\n",
       "      <td>SPRINGDALE</td>\n",
       "      <td>AR</td>\n",
       "      <td>...</td>\n",
       "      <td>HEDBERG ALLERGY</td>\n",
       "      <td>PHYSICIAN</td>\n",
       "      <td>3192015</td>\n",
       "      <td>1000</td>\n",
       "      <td>NaN</td>\n",
       "      <td>64931941</td>\n",
       "      <td>1010208</td>\n",
       "      <td>NaN</td>\n",
       "      <td>NaN</td>\n",
       "      <td>4061120151245680817</td>\n",
       "    </tr>\n",
       "    <tr>\n",
       "      <th>204097</th>\n",
       "      <td>C00000422</td>\n",
       "      <td>A</td>\n",
       "      <td>M4</td>\n",
       "      <td>P</td>\n",
       "      <td>15971204442</td>\n",
       "      <td>22Y</td>\n",
       "      <td>IND</td>\n",
       "      <td>HEDBERG, CURTIS LARS MD</td>\n",
       "      <td>SPRINGDALE</td>\n",
       "      <td>AR</td>\n",
       "      <td>...</td>\n",
       "      <td>NaN</td>\n",
       "      <td>NaN</td>\n",
       "      <td>3192015</td>\n",
       "      <td>1000</td>\n",
       "      <td>NaN</td>\n",
       "      <td>64936512</td>\n",
       "      <td>1010208</td>\n",
       "      <td>NaN</td>\n",
       "      <td>REFUND</td>\n",
       "      <td>4061120151245691766</td>\n",
       "    </tr>\n",
       "    <tr>\n",
       "      <th>203915</th>\n",
       "      <td>C00000422</td>\n",
       "      <td>A</td>\n",
       "      <td>M3</td>\n",
       "      <td>P</td>\n",
       "      <td>15951467021</td>\n",
       "      <td>15</td>\n",
       "      <td>IND</td>\n",
       "      <td>BRYANT, GLEN EDWARD JR MD</td>\n",
       "      <td>WEST MEMPHIS</td>\n",
       "      <td>AR</td>\n",
       "      <td>...</td>\n",
       "      <td>WEST MEMPHIS EYE CENTER</td>\n",
       "      <td>PHYSICIAN</td>\n",
       "      <td>2172015</td>\n",
       "      <td>500</td>\n",
       "      <td>NaN</td>\n",
       "      <td>64212247</td>\n",
       "      <td>1010207</td>\n",
       "      <td>NaN</td>\n",
       "      <td>NaN</td>\n",
       "      <td>4061120151245680650</td>\n",
       "    </tr>\n",
       "  </tbody>\n",
       "</table>\n",
       "<p>5 rows × 21 columns</p>\n",
       "</div>"
      ],
      "text/plain": [
       "          CMTE_ID AMNDT_IND RPT_TP TRANSACTION_PGI    IMAGE_NUM  \\\n",
       "204167  C00000422         A     M5               P  15971204451   \n",
       "204048  C00000422         A     M4               P  15971204352   \n",
       "204049  C00000422         A     M4               P  15971204352   \n",
       "204097  C00000422         A     M4               P  15971204442   \n",
       "203915  C00000422         A     M3               P  15951467021   \n",
       "\n",
       "       TRANSACTION_TP ENTITY_TP                       NAME          CITY  \\\n",
       "204167             15       IND   DEAN, LESLIE PATRICIA MD     ANCHORAGE   \n",
       "204048             15       IND    HEDBERG, CURTIS LARS MD    SPRINGDALE   \n",
       "204049             15       IND    HEDBERG, CURTIS LARS MD    SPRINGDALE   \n",
       "204097            22Y       IND    HEDBERG, CURTIS LARS MD    SPRINGDALE   \n",
       "203915             15       IND  BRYANT, GLEN EDWARD JR MD  WEST MEMPHIS   \n",
       "\n",
       "       STATE         ...                                         EMPLOYER  \\\n",
       "204167    AK         ...           ANCHORAGE FRACTURE & ORTHOPEDIC CLINIC   \n",
       "204048    AR         ...                                  HEDBERG ALLERGY   \n",
       "204049    AR         ...                                  HEDBERG ALLERGY   \n",
       "204097    AR         ...                                              NaN   \n",
       "203915    AR         ...                          WEST MEMPHIS EYE CENTER   \n",
       "\n",
       "       OCCUPATION TRANSACTION_DT  TRANSACTION_AMT  OTHER_ID   TRAN_ID  \\\n",
       "204167  PHYSICIAN        4102015             1000       NaN  65183036   \n",
       "204048  PHYSICIAN        3192015             1000       NaN  64931940   \n",
       "204049  PHYSICIAN        3192015             1000       NaN  64931941   \n",
       "204097        NaN        3192015             1000       NaN  64936512   \n",
       "203915  PHYSICIAN        2172015              500       NaN  64212247   \n",
       "\n",
       "       FILE_NUM  MEMO_CD MEMO_TEXT               SUB_ID  \n",
       "204167  1010211      NaN       NaN  4061120151245681074  \n",
       "204048  1010208      NaN       NaN  4061120151245680816  \n",
       "204049  1010208      NaN       NaN  4061120151245680817  \n",
       "204097  1010208      NaN    REFUND  4061120151245691766  \n",
       "203915  1010207      NaN       NaN  4061120151245680650  \n",
       "\n",
       "[5 rows x 21 columns]"
      ]
     },
     "execution_count": 115,
     "metadata": {},
     "output_type": "execute_result"
    }
   ],
   "source": [
    "df.sort(['CMTE_ID', 'STATE', 'CITY', 'TRANSACTION_AMT'], ascending=[True, True, True, False]).head()"
   ]
  },
  {
   "cell_type": "code",
   "execution_count": 117,
   "metadata": {
    "collapsed": false
   },
   "outputs": [
    {
     "data": {
      "text/plain": [
       "170562   -226800\n",
       "145320   -100200\n",
       "145374   -100200\n",
       "27991     -33400\n",
       "148985    -21700\n",
       "           ...  \n",
       "41624     487410\n",
       "106030    500000\n",
       "16604     545000\n",
       "137789    571140\n",
       "63782     716585\n",
       "Name: TRANSACTION_AMT, dtype: int64"
      ]
     },
     "execution_count": 117,
     "metadata": {},
     "output_type": "execute_result"
    }
   ],
   "source": [
    "df.TRANSACTION_AMT.order()"
   ]
  },
  {
   "cell_type": "code",
   "execution_count": 123,
   "metadata": {
    "collapsed": false
   },
   "outputs": [],
   "source": [
    "s = df.set_index(['CMTE_ID', 'OTHER_ID', 'TRAN_ID'])"
   ]
  },
  {
   "cell_type": "code",
   "execution_count": 136,
   "metadata": {
    "collapsed": false
   },
   "outputs": [],
   "source": [
    "cols = ['CMTE_ID', 'OTHER_ID', 'TRAN_ID']\n",
    "s = df.dropna(subset=cols).set_index(cols)"
   ]
  },
  {
   "cell_type": "code",
   "execution_count": 137,
   "metadata": {
    "collapsed": false
   },
   "outputs": [
    {
     "data": {
      "text/html": [
       "<div>\n",
       "<table border=\"1\" class=\"dataframe\">\n",
       "  <thead>\n",
       "    <tr style=\"text-align: right;\">\n",
       "      <th></th>\n",
       "      <th></th>\n",
       "      <th></th>\n",
       "      <th>AMNDT_IND</th>\n",
       "      <th>RPT_TP</th>\n",
       "      <th>TRANSACTION_PGI</th>\n",
       "      <th>IMAGE_NUM</th>\n",
       "      <th>TRANSACTION_TP</th>\n",
       "      <th>ENTITY_TP</th>\n",
       "      <th>NAME</th>\n",
       "      <th>CITY</th>\n",
       "      <th>STATE</th>\n",
       "      <th>ZIP_CODE</th>\n",
       "      <th>EMPLOYER</th>\n",
       "      <th>OCCUPATION</th>\n",
       "      <th>TRANSACTION_DT</th>\n",
       "      <th>TRANSACTION_AMT</th>\n",
       "      <th>FILE_NUM</th>\n",
       "      <th>MEMO_CD</th>\n",
       "      <th>MEMO_TEXT</th>\n",
       "      <th>SUB_ID</th>\n",
       "    </tr>\n",
       "    <tr>\n",
       "      <th>CMTE_ID</th>\n",
       "      <th>OTHER_ID</th>\n",
       "      <th>TRAN_ID</th>\n",
       "      <th></th>\n",
       "      <th></th>\n",
       "      <th></th>\n",
       "      <th></th>\n",
       "      <th></th>\n",
       "      <th></th>\n",
       "      <th></th>\n",
       "      <th></th>\n",
       "      <th></th>\n",
       "      <th></th>\n",
       "      <th></th>\n",
       "      <th></th>\n",
       "      <th></th>\n",
       "      <th></th>\n",
       "      <th></th>\n",
       "      <th></th>\n",
       "      <th></th>\n",
       "      <th></th>\n",
       "    </tr>\n",
       "  </thead>\n",
       "  <tbody>\n",
       "    <tr>\n",
       "      <th>C00370056</th>\n",
       "      <th>C00484535</th>\n",
       "      <th>SA11AI.25060</th>\n",
       "      <td>N</td>\n",
       "      <td>Q1</td>\n",
       "      <td>P</td>\n",
       "      <td>15970339588</td>\n",
       "      <td>15E</td>\n",
       "      <td>IND</td>\n",
       "      <td>AVEDIAN, MARK A</td>\n",
       "      <td>VISALIA</td>\n",
       "      <td>CA</td>\n",
       "      <td>94391</td>\n",
       "      <td>SELF EMPLOYED</td>\n",
       "      <td>REAL ESTATE SALES</td>\n",
       "      <td>1222015</td>\n",
       "      <td>500</td>\n",
       "      <td>1002470</td>\n",
       "      <td>NaN</td>\n",
       "      <td>NaN</td>\n",
       "      <td>4041420151241810355</td>\n",
       "    </tr>\n",
       "    <tr>\n",
       "      <th>C00445015</th>\n",
       "      <th>C00484535</th>\n",
       "      <th>A-CF13762</th>\n",
       "      <td>N</td>\n",
       "      <td>Q1</td>\n",
       "      <td>P</td>\n",
       "      <td>15951128123</td>\n",
       "      <td>15E</td>\n",
       "      <td>IND</td>\n",
       "      <td>ROBERTS, BRUCE G. MR.</td>\n",
       "      <td>SHREVEPORT</td>\n",
       "      <td>LA</td>\n",
       "      <td>711377125</td>\n",
       "      <td>ROBERTS PROPERTY MANAGEMENT</td>\n",
       "      <td>REALTOR</td>\n",
       "      <td>2022015</td>\n",
       "      <td>500</td>\n",
       "      <td>1002485</td>\n",
       "      <td>NaN</td>\n",
       "      <td>EARMARKED THROUGH VOTESANE PAC. CONDUIT RECEIV...</td>\n",
       "      <td>4041420151241812377</td>\n",
       "    </tr>\n",
       "    <tr>\n",
       "      <th>C00550848</th>\n",
       "      <th>H4FL20064</th>\n",
       "      <th>SA11D.4403</th>\n",
       "      <td>N</td>\n",
       "      <td>Q1</td>\n",
       "      <td>G</td>\n",
       "      <td>15951128213</td>\n",
       "      <td>15C</td>\n",
       "      <td>CAN</td>\n",
       "      <td>BONNER, JAY ALAN MR.</td>\n",
       "      <td>PALM BEACH GARDENS</td>\n",
       "      <td>FL</td>\n",
       "      <td>33420</td>\n",
       "      <td>SELF-EMPLOYED</td>\n",
       "      <td>SURVEYOR</td>\n",
       "      <td>3312015</td>\n",
       "      <td>88</td>\n",
       "      <td>1002486</td>\n",
       "      <td>NaN</td>\n",
       "      <td>NaN</td>\n",
       "      <td>4041420151241812439</td>\n",
       "    </tr>\n",
       "    <tr>\n",
       "      <th rowspan=\"2\" valign=\"top\">C00573915</th>\n",
       "      <th rowspan=\"2\" valign=\"top\">H6CA53047</th>\n",
       "      <th>SA11D.4104</th>\n",
       "      <td>N</td>\n",
       "      <td>Q1</td>\n",
       "      <td>P</td>\n",
       "      <td>15970340286</td>\n",
       "      <td>15C</td>\n",
       "      <td>CAN</td>\n",
       "      <td>ASH, JIM MR.</td>\n",
       "      <td>SPRING VALLEY</td>\n",
       "      <td>CA</td>\n",
       "      <td>91976</td>\n",
       "      <td>NASUNI CORP</td>\n",
       "      <td>BUSINESS MANAGER</td>\n",
       "      <td>2162015</td>\n",
       "      <td>35</td>\n",
       "      <td>1002491</td>\n",
       "      <td>NaN</td>\n",
       "      <td>NaN</td>\n",
       "      <td>4041420151241812444</td>\n",
       "    </tr>\n",
       "    <tr>\n",
       "      <th>SA11D.4111</th>\n",
       "      <td>N</td>\n",
       "      <td>Q1</td>\n",
       "      <td>P</td>\n",
       "      <td>15970340286</td>\n",
       "      <td>15C</td>\n",
       "      <td>CAN</td>\n",
       "      <td>ASH, JIM MR.</td>\n",
       "      <td>SPRING VALLEY</td>\n",
       "      <td>CA</td>\n",
       "      <td>91976</td>\n",
       "      <td>NASUNI CORP</td>\n",
       "      <td>BUSINESS MANAGER</td>\n",
       "      <td>2252015</td>\n",
       "      <td>130</td>\n",
       "      <td>1002491</td>\n",
       "      <td>NaN</td>\n",
       "      <td>NaN</td>\n",
       "      <td>4041420151241812445</td>\n",
       "    </tr>\n",
       "  </tbody>\n",
       "</table>\n",
       "</div>"
      ],
      "text/plain": [
       "                                 AMNDT_IND RPT_TP TRANSACTION_PGI  \\\n",
       "CMTE_ID   OTHER_ID  TRAN_ID                                         \n",
       "C00370056 C00484535 SA11AI.25060         N     Q1               P   \n",
       "C00445015 C00484535 A-CF13762            N     Q1               P   \n",
       "C00550848 H4FL20064 SA11D.4403           N     Q1               G   \n",
       "C00573915 H6CA53047 SA11D.4104           N     Q1               P   \n",
       "                    SA11D.4111           N     Q1               P   \n",
       "\n",
       "                                    IMAGE_NUM TRANSACTION_TP ENTITY_TP  \\\n",
       "CMTE_ID   OTHER_ID  TRAN_ID                                              \n",
       "C00370056 C00484535 SA11AI.25060  15970339588            15E       IND   \n",
       "C00445015 C00484535 A-CF13762     15951128123            15E       IND   \n",
       "C00550848 H4FL20064 SA11D.4403    15951128213            15C       CAN   \n",
       "C00573915 H6CA53047 SA11D.4104    15970340286            15C       CAN   \n",
       "                    SA11D.4111    15970340286            15C       CAN   \n",
       "\n",
       "                                                   NAME                CITY  \\\n",
       "CMTE_ID   OTHER_ID  TRAN_ID                                                   \n",
       "C00370056 C00484535 SA11AI.25060        AVEDIAN, MARK A             VISALIA   \n",
       "C00445015 C00484535 A-CF13762     ROBERTS, BRUCE G. MR.          SHREVEPORT   \n",
       "C00550848 H4FL20064 SA11D.4403     BONNER, JAY ALAN MR.  PALM BEACH GARDENS   \n",
       "C00573915 H6CA53047 SA11D.4104             ASH, JIM MR.       SPRING VALLEY   \n",
       "                    SA11D.4111             ASH, JIM MR.       SPRING VALLEY   \n",
       "\n",
       "                                 STATE   ZIP_CODE  \\\n",
       "CMTE_ID   OTHER_ID  TRAN_ID                         \n",
       "C00370056 C00484535 SA11AI.25060    CA      94391   \n",
       "C00445015 C00484535 A-CF13762       LA  711377125   \n",
       "C00550848 H4FL20064 SA11D.4403      FL      33420   \n",
       "C00573915 H6CA53047 SA11D.4104      CA      91976   \n",
       "                    SA11D.4111      CA      91976   \n",
       "\n",
       "                                                     EMPLOYER  \\\n",
       "CMTE_ID   OTHER_ID  TRAN_ID                                     \n",
       "C00370056 C00484535 SA11AI.25060                SELF EMPLOYED   \n",
       "C00445015 C00484535 A-CF13762     ROBERTS PROPERTY MANAGEMENT   \n",
       "C00550848 H4FL20064 SA11D.4403                  SELF-EMPLOYED   \n",
       "C00573915 H6CA53047 SA11D.4104                    NASUNI CORP   \n",
       "                    SA11D.4111                    NASUNI CORP   \n",
       "\n",
       "                                         OCCUPATION  TRANSACTION_DT  \\\n",
       "CMTE_ID   OTHER_ID  TRAN_ID                                           \n",
       "C00370056 C00484535 SA11AI.25060  REAL ESTATE SALES         1222015   \n",
       "C00445015 C00484535 A-CF13762               REALTOR         2022015   \n",
       "C00550848 H4FL20064 SA11D.4403             SURVEYOR         3312015   \n",
       "C00573915 H6CA53047 SA11D.4104     BUSINESS MANAGER         2162015   \n",
       "                    SA11D.4111     BUSINESS MANAGER         2252015   \n",
       "\n",
       "                                  TRANSACTION_AMT  FILE_NUM MEMO_CD  \\\n",
       "CMTE_ID   OTHER_ID  TRAN_ID                                           \n",
       "C00370056 C00484535 SA11AI.25060              500   1002470     NaN   \n",
       "C00445015 C00484535 A-CF13762                 500   1002485     NaN   \n",
       "C00550848 H4FL20064 SA11D.4403                 88   1002486     NaN   \n",
       "C00573915 H6CA53047 SA11D.4104                 35   1002491     NaN   \n",
       "                    SA11D.4111                130   1002491     NaN   \n",
       "\n",
       "                                                                          MEMO_TEXT  \\\n",
       "CMTE_ID   OTHER_ID  TRAN_ID                                                           \n",
       "C00370056 C00484535 SA11AI.25060                                                NaN   \n",
       "C00445015 C00484535 A-CF13762     EARMARKED THROUGH VOTESANE PAC. CONDUIT RECEIV...   \n",
       "C00550848 H4FL20064 SA11D.4403                                                  NaN   \n",
       "C00573915 H6CA53047 SA11D.4104                                                  NaN   \n",
       "                    SA11D.4111                                                  NaN   \n",
       "\n",
       "                                               SUB_ID  \n",
       "CMTE_ID   OTHER_ID  TRAN_ID                            \n",
       "C00370056 C00484535 SA11AI.25060  4041420151241810355  \n",
       "C00445015 C00484535 A-CF13762     4041420151241812377  \n",
       "C00550848 H4FL20064 SA11D.4403    4041420151241812439  \n",
       "C00573915 H6CA53047 SA11D.4104    4041420151241812444  \n",
       "                    SA11D.4111    4041420151241812445  "
      ]
     },
     "execution_count": 137,
     "metadata": {},
     "output_type": "execute_result"
    }
   ],
   "source": [
    "s.head()"
   ]
  },
  {
   "cell_type": "code",
   "execution_count": 138,
   "metadata": {
    "collapsed": false
   },
   "outputs": [
    {
     "data": {
      "text/html": [
       "<div>\n",
       "<table border=\"1\" class=\"dataframe\">\n",
       "  <thead>\n",
       "    <tr style=\"text-align: right;\">\n",
       "      <th></th>\n",
       "      <th></th>\n",
       "      <th></th>\n",
       "      <th>AMNDT_IND</th>\n",
       "      <th>RPT_TP</th>\n",
       "      <th>TRANSACTION_PGI</th>\n",
       "      <th>IMAGE_NUM</th>\n",
       "      <th>TRANSACTION_TP</th>\n",
       "      <th>ENTITY_TP</th>\n",
       "      <th>NAME</th>\n",
       "      <th>CITY</th>\n",
       "      <th>STATE</th>\n",
       "      <th>ZIP_CODE</th>\n",
       "      <th>EMPLOYER</th>\n",
       "      <th>OCCUPATION</th>\n",
       "      <th>TRANSACTION_DT</th>\n",
       "      <th>TRANSACTION_AMT</th>\n",
       "      <th>FILE_NUM</th>\n",
       "      <th>MEMO_CD</th>\n",
       "      <th>MEMO_TEXT</th>\n",
       "      <th>SUB_ID</th>\n",
       "    </tr>\n",
       "    <tr>\n",
       "      <th>CMTE_ID</th>\n",
       "      <th>OTHER_ID</th>\n",
       "      <th>TRAN_ID</th>\n",
       "      <th></th>\n",
       "      <th></th>\n",
       "      <th></th>\n",
       "      <th></th>\n",
       "      <th></th>\n",
       "      <th></th>\n",
       "      <th></th>\n",
       "      <th></th>\n",
       "      <th></th>\n",
       "      <th></th>\n",
       "      <th></th>\n",
       "      <th></th>\n",
       "      <th></th>\n",
       "      <th></th>\n",
       "      <th></th>\n",
       "      <th></th>\n",
       "      <th></th>\n",
       "      <th></th>\n",
       "    </tr>\n",
       "  </thead>\n",
       "  <tbody>\n",
       "    <tr>\n",
       "      <th rowspan=\"5\" valign=\"top\">C00000935</th>\n",
       "      <th>C00274431</th>\n",
       "      <th>C15736976</th>\n",
       "      <td>N</td>\n",
       "      <td>M3</td>\n",
       "      <td>P</td>\n",
       "      <td>15951091104</td>\n",
       "      <td>15E</td>\n",
       "      <td>PAC</td>\n",
       "      <td>UNITEDHEALTH GROUP INC. PAC (UNITEDFORHEALTH)</td>\n",
       "      <td>MINNETONKA</td>\n",
       "      <td>MN</td>\n",
       "      <td>553439664</td>\n",
       "      <td>NaN</td>\n",
       "      <td>NaN</td>\n",
       "      <td>2252015</td>\n",
       "      <td>15000</td>\n",
       "      <td>999261</td>\n",
       "      <td>NaN</td>\n",
       "      <td>EARMARKED THROUGH AMERIPAC</td>\n",
       "      <td>4032620151240977160</td>\n",
       "    </tr>\n",
       "    <tr>\n",
       "      <th rowspan=\"4\" valign=\"top\">C00401224</th>\n",
       "      <th>C15471321A</th>\n",
       "      <td>N</td>\n",
       "      <td>M2</td>\n",
       "      <td>P</td>\n",
       "      <td>15970277709</td>\n",
       "      <td>15E</td>\n",
       "      <td>IND</td>\n",
       "      <td>ODONNELL-SCHUSTER, SHEILA</td>\n",
       "      <td>LOUISVILLE</td>\n",
       "      <td>KY</td>\n",
       "      <td>402072477</td>\n",
       "      <td>SELF-EMPLOYED</td>\n",
       "      <td>PSYCHOLOGIST</td>\n",
       "      <td>1012015</td>\n",
       "      <td>250</td>\n",
       "      <td>994922</td>\n",
       "      <td>NaN</td>\n",
       "      <td>* EARMARKED CONTRIBUTION: SEE BELOWEARMARKED T...</td>\n",
       "      <td>4022420151239121722</td>\n",
       "    </tr>\n",
       "    <tr>\n",
       "      <th>C15471550A</th>\n",
       "      <td>N</td>\n",
       "      <td>M2</td>\n",
       "      <td>P</td>\n",
       "      <td>15970276644</td>\n",
       "      <td>15E</td>\n",
       "      <td>IND</td>\n",
       "      <td>CYR, BRYAN</td>\n",
       "      <td>SAN ANTONIO</td>\n",
       "      <td>TX</td>\n",
       "      <td>782383803</td>\n",
       "      <td>SELF-EMPLOYED</td>\n",
       "      <td>MEDICAL DEVICE CONSULTANT</td>\n",
       "      <td>1012015</td>\n",
       "      <td>250</td>\n",
       "      <td>994922</td>\n",
       "      <td>NaN</td>\n",
       "      <td>* EARMARKED CONTRIBUTION: SEE BELOWEARMARKED T...</td>\n",
       "      <td>4022420151239118526</td>\n",
       "    </tr>\n",
       "    <tr>\n",
       "      <th>C15471662A</th>\n",
       "      <td>N</td>\n",
       "      <td>M2</td>\n",
       "      <td>P</td>\n",
       "      <td>15970278057</td>\n",
       "      <td>15E</td>\n",
       "      <td>IND</td>\n",
       "      <td>SEELEY, BETTY J.</td>\n",
       "      <td>NEW FRANKLIN</td>\n",
       "      <td>OH</td>\n",
       "      <td>443193318</td>\n",
       "      <td>NaN</td>\n",
       "      <td>RETIRED</td>\n",
       "      <td>1012015</td>\n",
       "      <td>500</td>\n",
       "      <td>994922</td>\n",
       "      <td>NaN</td>\n",
       "      <td>* EARMARKED CONTRIBUTION: SEE BELOWEARMARKED T...</td>\n",
       "      <td>4022420151239122766</td>\n",
       "    </tr>\n",
       "    <tr>\n",
       "      <th>C15472273A</th>\n",
       "      <td>N</td>\n",
       "      <td>M2</td>\n",
       "      <td>P</td>\n",
       "      <td>15970277498</td>\n",
       "      <td>15E</td>\n",
       "      <td>IND</td>\n",
       "      <td>MCLEES, JOHN</td>\n",
       "      <td>CHICAGO</td>\n",
       "      <td>IL</td>\n",
       "      <td>606052729</td>\n",
       "      <td>BAKER &amp; MCKENZIE</td>\n",
       "      <td>ATTORNEY</td>\n",
       "      <td>1012015</td>\n",
       "      <td>1000</td>\n",
       "      <td>994922</td>\n",
       "      <td>NaN</td>\n",
       "      <td>* EARMARKED CONTRIBUTION: SEE BELOWEARMARKED T...</td>\n",
       "      <td>4022420151239121088</td>\n",
       "    </tr>\n",
       "  </tbody>\n",
       "</table>\n",
       "</div>"
      ],
      "text/plain": [
       "                               AMNDT_IND RPT_TP TRANSACTION_PGI    IMAGE_NUM  \\\n",
       "CMTE_ID   OTHER_ID  TRAN_ID                                                    \n",
       "C00000935 C00274431 C15736976          N     M3               P  15951091104   \n",
       "          C00401224 C15471321A         N     M2               P  15970277709   \n",
       "                    C15471550A         N     M2               P  15970276644   \n",
       "                    C15471662A         N     M2               P  15970278057   \n",
       "                    C15472273A         N     M2               P  15970277498   \n",
       "\n",
       "                               TRANSACTION_TP ENTITY_TP  \\\n",
       "CMTE_ID   OTHER_ID  TRAN_ID                               \n",
       "C00000935 C00274431 C15736976             15E       PAC   \n",
       "          C00401224 C15471321A            15E       IND   \n",
       "                    C15471550A            15E       IND   \n",
       "                    C15471662A            15E       IND   \n",
       "                    C15472273A            15E       IND   \n",
       "\n",
       "                                                                         NAME  \\\n",
       "CMTE_ID   OTHER_ID  TRAN_ID                                                     \n",
       "C00000935 C00274431 C15736976   UNITEDHEALTH GROUP INC. PAC (UNITEDFORHEALTH)   \n",
       "          C00401224 C15471321A                      ODONNELL-SCHUSTER, SHEILA   \n",
       "                    C15471550A                                     CYR, BRYAN   \n",
       "                    C15471662A                               SEELEY, BETTY J.   \n",
       "                    C15472273A                                   MCLEES, JOHN   \n",
       "\n",
       "                                        CITY STATE   ZIP_CODE  \\\n",
       "CMTE_ID   OTHER_ID  TRAN_ID                                     \n",
       "C00000935 C00274431 C15736976     MINNETONKA    MN  553439664   \n",
       "          C00401224 C15471321A    LOUISVILLE    KY  402072477   \n",
       "                    C15471550A   SAN ANTONIO    TX  782383803   \n",
       "                    C15471662A  NEW FRANKLIN    OH  443193318   \n",
       "                    C15472273A       CHICAGO    IL  606052729   \n",
       "\n",
       "                                        EMPLOYER                 OCCUPATION  \\\n",
       "CMTE_ID   OTHER_ID  TRAN_ID                                                   \n",
       "C00000935 C00274431 C15736976                NaN                        NaN   \n",
       "          C00401224 C15471321A     SELF-EMPLOYED               PSYCHOLOGIST   \n",
       "                    C15471550A     SELF-EMPLOYED  MEDICAL DEVICE CONSULTANT   \n",
       "                    C15471662A               NaN                    RETIRED   \n",
       "                    C15472273A  BAKER & MCKENZIE                   ATTORNEY   \n",
       "\n",
       "                                TRANSACTION_DT  TRANSACTION_AMT  FILE_NUM  \\\n",
       "CMTE_ID   OTHER_ID  TRAN_ID                                                 \n",
       "C00000935 C00274431 C15736976          2252015            15000    999261   \n",
       "          C00401224 C15471321A         1012015              250    994922   \n",
       "                    C15471550A         1012015              250    994922   \n",
       "                    C15471662A         1012015              500    994922   \n",
       "                    C15472273A         1012015             1000    994922   \n",
       "\n",
       "                               MEMO_CD  \\\n",
       "CMTE_ID   OTHER_ID  TRAN_ID              \n",
       "C00000935 C00274431 C15736976      NaN   \n",
       "          C00401224 C15471321A     NaN   \n",
       "                    C15471550A     NaN   \n",
       "                    C15471662A     NaN   \n",
       "                    C15472273A     NaN   \n",
       "\n",
       "                                                                        MEMO_TEXT  \\\n",
       "CMTE_ID   OTHER_ID  TRAN_ID                                                         \n",
       "C00000935 C00274431 C15736976                          EARMARKED THROUGH AMERIPAC   \n",
       "          C00401224 C15471321A  * EARMARKED CONTRIBUTION: SEE BELOWEARMARKED T...   \n",
       "                    C15471550A  * EARMARKED CONTRIBUTION: SEE BELOWEARMARKED T...   \n",
       "                    C15471662A  * EARMARKED CONTRIBUTION: SEE BELOWEARMARKED T...   \n",
       "                    C15472273A  * EARMARKED CONTRIBUTION: SEE BELOWEARMARKED T...   \n",
       "\n",
       "                                             SUB_ID  \n",
       "CMTE_ID   OTHER_ID  TRAN_ID                          \n",
       "C00000935 C00274431 C15736976   4032620151240977160  \n",
       "          C00401224 C15471321A  4022420151239121722  \n",
       "                    C15471550A  4022420151239118526  \n",
       "                    C15471662A  4022420151239122766  \n",
       "                    C15472273A  4022420151239121088  "
      ]
     },
     "execution_count": 138,
     "metadata": {},
     "output_type": "execute_result"
    }
   ],
   "source": [
    "s = s.sort_index()\n",
    "s.head()"
   ]
  },
  {
   "cell_type": "code",
   "execution_count": 139,
   "metadata": {
    "collapsed": false
   },
   "outputs": [
    {
     "data": {
      "text/html": [
       "<div>\n",
       "<table border=\"1\" class=\"dataframe\">\n",
       "  <thead>\n",
       "    <tr style=\"text-align: right;\">\n",
       "      <th></th>\n",
       "      <th></th>\n",
       "      <th>AMNDT_IND</th>\n",
       "      <th>RPT_TP</th>\n",
       "      <th>TRANSACTION_PGI</th>\n",
       "      <th>IMAGE_NUM</th>\n",
       "      <th>TRANSACTION_TP</th>\n",
       "      <th>ENTITY_TP</th>\n",
       "      <th>NAME</th>\n",
       "      <th>CITY</th>\n",
       "      <th>STATE</th>\n",
       "      <th>ZIP_CODE</th>\n",
       "      <th>EMPLOYER</th>\n",
       "      <th>OCCUPATION</th>\n",
       "      <th>TRANSACTION_DT</th>\n",
       "      <th>TRANSACTION_AMT</th>\n",
       "      <th>FILE_NUM</th>\n",
       "      <th>MEMO_CD</th>\n",
       "      <th>MEMO_TEXT</th>\n",
       "      <th>SUB_ID</th>\n",
       "    </tr>\n",
       "    <tr>\n",
       "      <th>CMTE_ID</th>\n",
       "      <th>TRAN_ID</th>\n",
       "      <th></th>\n",
       "      <th></th>\n",
       "      <th></th>\n",
       "      <th></th>\n",
       "      <th></th>\n",
       "      <th></th>\n",
       "      <th></th>\n",
       "      <th></th>\n",
       "      <th></th>\n",
       "      <th></th>\n",
       "      <th></th>\n",
       "      <th></th>\n",
       "      <th></th>\n",
       "      <th></th>\n",
       "      <th></th>\n",
       "      <th></th>\n",
       "      <th></th>\n",
       "      <th></th>\n",
       "    </tr>\n",
       "  </thead>\n",
       "  <tbody>\n",
       "    <tr>\n",
       "      <th rowspan=\"5\" valign=\"top\">C00000935</th>\n",
       "      <th>C15471321A</th>\n",
       "      <td>N</td>\n",
       "      <td>M2</td>\n",
       "      <td>P</td>\n",
       "      <td>15970277709</td>\n",
       "      <td>15E</td>\n",
       "      <td>IND</td>\n",
       "      <td>ODONNELL-SCHUSTER, SHEILA</td>\n",
       "      <td>LOUISVILLE</td>\n",
       "      <td>KY</td>\n",
       "      <td>402072477</td>\n",
       "      <td>SELF-EMPLOYED</td>\n",
       "      <td>PSYCHOLOGIST</td>\n",
       "      <td>1012015</td>\n",
       "      <td>250</td>\n",
       "      <td>994922</td>\n",
       "      <td>NaN</td>\n",
       "      <td>* EARMARKED CONTRIBUTION: SEE BELOWEARMARKED T...</td>\n",
       "      <td>4022420151239121722</td>\n",
       "    </tr>\n",
       "    <tr>\n",
       "      <th>C15471550A</th>\n",
       "      <td>N</td>\n",
       "      <td>M2</td>\n",
       "      <td>P</td>\n",
       "      <td>15970276644</td>\n",
       "      <td>15E</td>\n",
       "      <td>IND</td>\n",
       "      <td>CYR, BRYAN</td>\n",
       "      <td>SAN ANTONIO</td>\n",
       "      <td>TX</td>\n",
       "      <td>782383803</td>\n",
       "      <td>SELF-EMPLOYED</td>\n",
       "      <td>MEDICAL DEVICE CONSULTANT</td>\n",
       "      <td>1012015</td>\n",
       "      <td>250</td>\n",
       "      <td>994922</td>\n",
       "      <td>NaN</td>\n",
       "      <td>* EARMARKED CONTRIBUTION: SEE BELOWEARMARKED T...</td>\n",
       "      <td>4022420151239118526</td>\n",
       "    </tr>\n",
       "    <tr>\n",
       "      <th>C15471662A</th>\n",
       "      <td>N</td>\n",
       "      <td>M2</td>\n",
       "      <td>P</td>\n",
       "      <td>15970278057</td>\n",
       "      <td>15E</td>\n",
       "      <td>IND</td>\n",
       "      <td>SEELEY, BETTY J.</td>\n",
       "      <td>NEW FRANKLIN</td>\n",
       "      <td>OH</td>\n",
       "      <td>443193318</td>\n",
       "      <td>NaN</td>\n",
       "      <td>RETIRED</td>\n",
       "      <td>1012015</td>\n",
       "      <td>500</td>\n",
       "      <td>994922</td>\n",
       "      <td>NaN</td>\n",
       "      <td>* EARMARKED CONTRIBUTION: SEE BELOWEARMARKED T...</td>\n",
       "      <td>4022420151239122766</td>\n",
       "    </tr>\n",
       "    <tr>\n",
       "      <th>C15472273A</th>\n",
       "      <td>N</td>\n",
       "      <td>M2</td>\n",
       "      <td>P</td>\n",
       "      <td>15970277498</td>\n",
       "      <td>15E</td>\n",
       "      <td>IND</td>\n",
       "      <td>MCLEES, JOHN</td>\n",
       "      <td>CHICAGO</td>\n",
       "      <td>IL</td>\n",
       "      <td>606052729</td>\n",
       "      <td>BAKER &amp; MCKENZIE</td>\n",
       "      <td>ATTORNEY</td>\n",
       "      <td>1012015</td>\n",
       "      <td>1000</td>\n",
       "      <td>994922</td>\n",
       "      <td>NaN</td>\n",
       "      <td>* EARMARKED CONTRIBUTION: SEE BELOWEARMARKED T...</td>\n",
       "      <td>4022420151239121088</td>\n",
       "    </tr>\n",
       "    <tr>\n",
       "      <th>C15472397A</th>\n",
       "      <td>N</td>\n",
       "      <td>M2</td>\n",
       "      <td>P</td>\n",
       "      <td>15970278535</td>\n",
       "      <td>15E</td>\n",
       "      <td>IND</td>\n",
       "      <td>WOLFEN, WERNER F.</td>\n",
       "      <td>PACIFIC PALISADES</td>\n",
       "      <td>CA</td>\n",
       "      <td>902722718</td>\n",
       "      <td>SELF-EMPLOYED</td>\n",
       "      <td>INVESTMENT ADVISER</td>\n",
       "      <td>1012015</td>\n",
       "      <td>250</td>\n",
       "      <td>994922</td>\n",
       "      <td>NaN</td>\n",
       "      <td>* EARMARKED CONTRIBUTION: SEE BELOWEARMARKED T...</td>\n",
       "      <td>4022420151239124200</td>\n",
       "    </tr>\n",
       "    <tr>\n",
       "      <th>...</th>\n",
       "      <th>...</th>\n",
       "      <td>...</td>\n",
       "      <td>...</td>\n",
       "      <td>...</td>\n",
       "      <td>...</td>\n",
       "      <td>...</td>\n",
       "      <td>...</td>\n",
       "      <td>...</td>\n",
       "      <td>...</td>\n",
       "      <td>...</td>\n",
       "      <td>...</td>\n",
       "      <td>...</td>\n",
       "      <td>...</td>\n",
       "      <td>...</td>\n",
       "      <td>...</td>\n",
       "      <td>...</td>\n",
       "      <td>...</td>\n",
       "      <td>...</td>\n",
       "      <td>...</td>\n",
       "    </tr>\n",
       "    <tr>\n",
       "      <th rowspan=\"2\" valign=\"top\">C00574889</th>\n",
       "      <th>SA0505150984147</th>\n",
       "      <td>N</td>\n",
       "      <td>Q1</td>\n",
       "      <td>P</td>\n",
       "      <td>15020150984</td>\n",
       "      <td>15E</td>\n",
       "      <td>IND</td>\n",
       "      <td>YUHAS, DONALD E</td>\n",
       "      <td>MORRIS</td>\n",
       "      <td>IL</td>\n",
       "      <td>604501038</td>\n",
       "      <td>IMS INC</td>\n",
       "      <td>OWNER</td>\n",
       "      <td>3302015</td>\n",
       "      <td>500</td>\n",
       "      <td>1006499</td>\n",
       "      <td>NaN</td>\n",
       "      <td>* EARMARKED CONTRIBUTION: SEE BELOW</td>\n",
       "      <td>2050620151243652407</td>\n",
       "    </tr>\n",
       "    <tr>\n",
       "      <th>SA0505150985149</th>\n",
       "      <td>N</td>\n",
       "      <td>Q1</td>\n",
       "      <td>P</td>\n",
       "      <td>15020150985</td>\n",
       "      <td>15E</td>\n",
       "      <td>IND</td>\n",
       "      <td>ZAR, LEON R</td>\n",
       "      <td>NORTHBROOK</td>\n",
       "      <td>IL</td>\n",
       "      <td>600626977</td>\n",
       "      <td>NaN</td>\n",
       "      <td>RETIRED</td>\n",
       "      <td>3312015</td>\n",
       "      <td>2000</td>\n",
       "      <td>1006499</td>\n",
       "      <td>NaN</td>\n",
       "      <td>* EARMARKED CONTRIBUTION: SEE BELOW</td>\n",
       "      <td>2050620151243652409</td>\n",
       "    </tr>\n",
       "    <tr>\n",
       "      <th rowspan=\"3\" valign=\"top\">C00575480</th>\n",
       "      <th>SA11AI.4258</th>\n",
       "      <td>N</td>\n",
       "      <td>12R</td>\n",
       "      <td>R</td>\n",
       "      <td>15971083713</td>\n",
       "      <td>15E</td>\n",
       "      <td>IND</td>\n",
       "      <td>WHITLEY, LEE</td>\n",
       "      <td>NEW YORK</td>\n",
       "      <td>NY</td>\n",
       "      <td>10003</td>\n",
       "      <td>BAML</td>\n",
       "      <td>BANKING</td>\n",
       "      <td>4242015</td>\n",
       "      <td>500</td>\n",
       "      <td>1008995</td>\n",
       "      <td>NaN</td>\n",
       "      <td>NaN</td>\n",
       "      <td>4052220151243893578</td>\n",
       "    </tr>\n",
       "    <tr>\n",
       "      <th>SA11AI.4273</th>\n",
       "      <td>N</td>\n",
       "      <td>12R</td>\n",
       "      <td>R</td>\n",
       "      <td>15971083712</td>\n",
       "      <td>15E</td>\n",
       "      <td>IND</td>\n",
       "      <td>COLOM, WILBUR</td>\n",
       "      <td>COLUMBUS</td>\n",
       "      <td>MS</td>\n",
       "      <td>39703</td>\n",
       "      <td>THE COLOM LAW FIRM</td>\n",
       "      <td>ATTORNEY</td>\n",
       "      <td>4242015</td>\n",
       "      <td>500</td>\n",
       "      <td>1008995</td>\n",
       "      <td>NaN</td>\n",
       "      <td>NaN</td>\n",
       "      <td>4052220151243893574</td>\n",
       "    </tr>\n",
       "    <tr>\n",
       "      <th>SA11AI.4297</th>\n",
       "      <td>N</td>\n",
       "      <td>12R</td>\n",
       "      <td>R</td>\n",
       "      <td>15971083713</td>\n",
       "      <td>15E</td>\n",
       "      <td>IND</td>\n",
       "      <td>REEVEY, KEVIN</td>\n",
       "      <td>CINCINNATTI</td>\n",
       "      <td>OH</td>\n",
       "      <td>45220</td>\n",
       "      <td>FSL GROUP</td>\n",
       "      <td>MANAGING DIRECTOR</td>\n",
       "      <td>5122015</td>\n",
       "      <td>250</td>\n",
       "      <td>1008995</td>\n",
       "      <td>NaN</td>\n",
       "      <td>NaN</td>\n",
       "      <td>4052220151243893576</td>\n",
       "    </tr>\n",
       "  </tbody>\n",
       "</table>\n",
       "<p>9858 rows × 18 columns</p>\n",
       "</div>"
      ],
      "text/plain": [
       "                          AMNDT_IND RPT_TP TRANSACTION_PGI    IMAGE_NUM  \\\n",
       "CMTE_ID   TRAN_ID                                                         \n",
       "C00000935 C15471321A              N     M2               P  15970277709   \n",
       "          C15471550A              N     M2               P  15970276644   \n",
       "          C15471662A              N     M2               P  15970278057   \n",
       "          C15472273A              N     M2               P  15970277498   \n",
       "          C15472397A              N     M2               P  15970278535   \n",
       "...                             ...    ...             ...          ...   \n",
       "C00574889 SA0505150984147         N     Q1               P  15020150984   \n",
       "          SA0505150985149         N     Q1               P  15020150985   \n",
       "C00575480 SA11AI.4258             N    12R               R  15971083713   \n",
       "          SA11AI.4273             N    12R               R  15971083712   \n",
       "          SA11AI.4297             N    12R               R  15971083713   \n",
       "\n",
       "                          TRANSACTION_TP ENTITY_TP                       NAME  \\\n",
       "CMTE_ID   TRAN_ID                                                               \n",
       "C00000935 C15471321A                 15E       IND  ODONNELL-SCHUSTER, SHEILA   \n",
       "          C15471550A                 15E       IND                 CYR, BRYAN   \n",
       "          C15471662A                 15E       IND           SEELEY, BETTY J.   \n",
       "          C15472273A                 15E       IND               MCLEES, JOHN   \n",
       "          C15472397A                 15E       IND          WOLFEN, WERNER F.   \n",
       "...                                  ...       ...                        ...   \n",
       "C00574889 SA0505150984147            15E       IND            YUHAS, DONALD E   \n",
       "          SA0505150985149            15E       IND                ZAR, LEON R   \n",
       "C00575480 SA11AI.4258                15E       IND               WHITLEY, LEE   \n",
       "          SA11AI.4273                15E       IND              COLOM, WILBUR   \n",
       "          SA11AI.4297                15E       IND              REEVEY, KEVIN   \n",
       "\n",
       "                                        CITY STATE   ZIP_CODE  \\\n",
       "CMTE_ID   TRAN_ID                                               \n",
       "C00000935 C15471321A              LOUISVILLE    KY  402072477   \n",
       "          C15471550A             SAN ANTONIO    TX  782383803   \n",
       "          C15471662A            NEW FRANKLIN    OH  443193318   \n",
       "          C15472273A                 CHICAGO    IL  606052729   \n",
       "          C15472397A       PACIFIC PALISADES    CA  902722718   \n",
       "...                                      ...   ...        ...   \n",
       "C00574889 SA0505150984147             MORRIS    IL  604501038   \n",
       "          SA0505150985149         NORTHBROOK    IL  600626977   \n",
       "C00575480 SA11AI.4258               NEW YORK    NY      10003   \n",
       "          SA11AI.4273               COLUMBUS    MS      39703   \n",
       "          SA11AI.4297            CINCINNATTI    OH      45220   \n",
       "\n",
       "                                     EMPLOYER                 OCCUPATION  \\\n",
       "CMTE_ID   TRAN_ID                                                          \n",
       "C00000935 C15471321A            SELF-EMPLOYED               PSYCHOLOGIST   \n",
       "          C15471550A            SELF-EMPLOYED  MEDICAL DEVICE CONSULTANT   \n",
       "          C15471662A                      NaN                    RETIRED   \n",
       "          C15472273A         BAKER & MCKENZIE                   ATTORNEY   \n",
       "          C15472397A            SELF-EMPLOYED         INVESTMENT ADVISER   \n",
       "...                                       ...                        ...   \n",
       "C00574889 SA0505150984147             IMS INC                      OWNER   \n",
       "          SA0505150985149                 NaN                    RETIRED   \n",
       "C00575480 SA11AI.4258                    BAML                    BANKING   \n",
       "          SA11AI.4273      THE COLOM LAW FIRM                   ATTORNEY   \n",
       "          SA11AI.4297               FSL GROUP          MANAGING DIRECTOR   \n",
       "\n",
       "                           TRANSACTION_DT  TRANSACTION_AMT  FILE_NUM MEMO_CD  \\\n",
       "CMTE_ID   TRAN_ID                                                              \n",
       "C00000935 C15471321A              1012015              250    994922     NaN   \n",
       "          C15471550A              1012015              250    994922     NaN   \n",
       "          C15471662A              1012015              500    994922     NaN   \n",
       "          C15472273A              1012015             1000    994922     NaN   \n",
       "          C15472397A              1012015              250    994922     NaN   \n",
       "...                                   ...              ...       ...     ...   \n",
       "C00574889 SA0505150984147         3302015              500   1006499     NaN   \n",
       "          SA0505150985149         3312015             2000   1006499     NaN   \n",
       "C00575480 SA11AI.4258             4242015              500   1008995     NaN   \n",
       "          SA11AI.4273             4242015              500   1008995     NaN   \n",
       "          SA11AI.4297             5122015              250   1008995     NaN   \n",
       "\n",
       "                                                                   MEMO_TEXT  \\\n",
       "CMTE_ID   TRAN_ID                                                              \n",
       "C00000935 C15471321A       * EARMARKED CONTRIBUTION: SEE BELOWEARMARKED T...   \n",
       "          C15471550A       * EARMARKED CONTRIBUTION: SEE BELOWEARMARKED T...   \n",
       "          C15471662A       * EARMARKED CONTRIBUTION: SEE BELOWEARMARKED T...   \n",
       "          C15472273A       * EARMARKED CONTRIBUTION: SEE BELOWEARMARKED T...   \n",
       "          C15472397A       * EARMARKED CONTRIBUTION: SEE BELOWEARMARKED T...   \n",
       "...                                                                      ...   \n",
       "C00574889 SA0505150984147                * EARMARKED CONTRIBUTION: SEE BELOW   \n",
       "          SA0505150985149                * EARMARKED CONTRIBUTION: SEE BELOW   \n",
       "C00575480 SA11AI.4258                                                    NaN   \n",
       "          SA11AI.4273                                                    NaN   \n",
       "          SA11AI.4297                                                    NaN   \n",
       "\n",
       "                                        SUB_ID  \n",
       "CMTE_ID   TRAN_ID                               \n",
       "C00000935 C15471321A       4022420151239121722  \n",
       "          C15471550A       4022420151239118526  \n",
       "          C15471662A       4022420151239122766  \n",
       "          C15472273A       4022420151239121088  \n",
       "          C15472397A       4022420151239124200  \n",
       "...                                        ...  \n",
       "C00574889 SA0505150984147  2050620151243652407  \n",
       "          SA0505150985149  2050620151243652409  \n",
       "C00575480 SA11AI.4258      4052220151243893578  \n",
       "          SA11AI.4273      4052220151243893574  \n",
       "          SA11AI.4297      4052220151243893576  \n",
       "\n",
       "[9858 rows x 18 columns]"
      ]
     },
     "execution_count": 139,
     "metadata": {},
     "output_type": "execute_result"
    }
   ],
   "source": [
    "s.xs(df.CMTE_ID.value_counts().index[0], level=\"OTHER_ID\")"
   ]
  },
  {
   "cell_type": "markdown",
   "metadata": {},
   "source": [
    "# Adding additional columns\n",
    "\n",
    "This is also the way to update values inplace.\n",
    "\n",
    "````\n",
    "df[new_column] = new_value\n",
    "```\n",
    "\n",
    "or more explicilty\n",
    "\n",
    "```python\n",
    "df.loc[row_indexer, column_indexer] = new_value\n",
    "```\n",
    "\n",
    "That hides a bunch of complexity. What if `new_value` isn't the same shape as the thing you're inserting it into? (it broadcasts). What if `new_value` is a `Series` with it's own labels (`new_value` is reindexed to conform to its new home)?\n"
   ]
  },
  {
   "cell_type": "code",
   "execution_count": 141,
   "metadata": {
    "collapsed": false
   },
   "outputs": [
    {
     "data": {
      "text/html": [
       "<div>\n",
       "<table border=\"1\" class=\"dataframe\">\n",
       "  <thead>\n",
       "    <tr style=\"text-align: right;\">\n",
       "      <th></th>\n",
       "      <th>A</th>\n",
       "      <th>B</th>\n",
       "    </tr>\n",
       "  </thead>\n",
       "  <tbody>\n",
       "    <tr>\n",
       "      <th>0</th>\n",
       "      <td>1</td>\n",
       "      <td>-1</td>\n",
       "    </tr>\n",
       "    <tr>\n",
       "      <th>1</th>\n",
       "      <td>2</td>\n",
       "      <td>-2</td>\n",
       "    </tr>\n",
       "    <tr>\n",
       "      <th>2</th>\n",
       "      <td>3</td>\n",
       "      <td>-3</td>\n",
       "    </tr>\n",
       "  </tbody>\n",
       "</table>\n",
       "</div>"
      ],
      "text/plain": [
       "   A  B\n",
       "0  1 -1\n",
       "1  2 -2\n",
       "2  3 -3"
      ]
     },
     "execution_count": 141,
     "metadata": {},
     "output_type": "execute_result"
    }
   ],
   "source": [
    "fake = pd.DataFrame({'A': [1, 2, 3], 'B': [-1, -2, -3]})\n",
    "fake"
   ]
  },
  {
   "cell_type": "code",
   "execution_count": 143,
   "metadata": {
    "collapsed": false
   },
   "outputs": [
    {
     "data": {
      "text/html": [
       "<div>\n",
       "<table border=\"1\" class=\"dataframe\">\n",
       "  <thead>\n",
       "    <tr style=\"text-align: right;\">\n",
       "      <th></th>\n",
       "      <th>A</th>\n",
       "      <th>B</th>\n",
       "      <th>one</th>\n",
       "    </tr>\n",
       "  </thead>\n",
       "  <tbody>\n",
       "    <tr>\n",
       "      <th>0</th>\n",
       "      <td>1</td>\n",
       "      <td>-1</td>\n",
       "      <td>1</td>\n",
       "    </tr>\n",
       "    <tr>\n",
       "      <th>1</th>\n",
       "      <td>2</td>\n",
       "      <td>-2</td>\n",
       "      <td>1</td>\n",
       "    </tr>\n",
       "    <tr>\n",
       "      <th>2</th>\n",
       "      <td>3</td>\n",
       "      <td>-3</td>\n",
       "      <td>1</td>\n",
       "    </tr>\n",
       "  </tbody>\n",
       "</table>\n",
       "</div>"
      ],
      "text/plain": [
       "   A  B  one\n",
       "0  1 -1    1\n",
       "1  2 -2    1\n",
       "2  3 -3    1"
      ]
     },
     "execution_count": 143,
     "metadata": {},
     "output_type": "execute_result"
    }
   ],
   "source": [
    "fake['one'] = 1\n",
    "fake"
   ]
  },
  {
   "cell_type": "code",
   "execution_count": 144,
   "metadata": {
    "collapsed": false
   },
   "outputs": [
    {
     "data": {
      "text/html": [
       "<div>\n",
       "<table border=\"1\" class=\"dataframe\">\n",
       "  <thead>\n",
       "    <tr style=\"text-align: right;\">\n",
       "      <th></th>\n",
       "      <th>A</th>\n",
       "      <th>B</th>\n",
       "      <th>one</th>\n",
       "      <th>C</th>\n",
       "    </tr>\n",
       "  </thead>\n",
       "  <tbody>\n",
       "    <tr>\n",
       "      <th>0</th>\n",
       "      <td>1</td>\n",
       "      <td>-1</td>\n",
       "      <td>1</td>\n",
       "      <td>-1</td>\n",
       "    </tr>\n",
       "    <tr>\n",
       "      <th>1</th>\n",
       "      <td>2</td>\n",
       "      <td>-2</td>\n",
       "      <td>1</td>\n",
       "      <td>-4</td>\n",
       "    </tr>\n",
       "    <tr>\n",
       "      <th>2</th>\n",
       "      <td>3</td>\n",
       "      <td>-3</td>\n",
       "      <td>1</td>\n",
       "      <td>-9</td>\n",
       "    </tr>\n",
       "  </tbody>\n",
       "</table>\n",
       "</div>"
      ],
      "text/plain": [
       "   A  B  one  C\n",
       "0  1 -1    1 -1\n",
       "1  2 -2    1 -4\n",
       "2  3 -3    1 -9"
      ]
     },
     "execution_count": 144,
     "metadata": {},
     "output_type": "execute_result"
    }
   ],
   "source": [
    "fake['C'] = fake['A'] * fake['B']\n",
    "fake"
   ]
  },
  {
   "cell_type": "code",
   "execution_count": 146,
   "metadata": {
    "collapsed": false
   },
   "outputs": [
    {
     "data": {
      "text/plain": [
       "1    2\n",
       "2    3\n",
       "3    4\n",
       "dtype: int64"
      ]
     },
     "execution_count": 146,
     "metadata": {},
     "output_type": "execute_result"
    }
   ],
   "source": [
    "fake_unaligned = pd.Series([2, 3, 4], index=[1, 2, 3])\n",
    "fake_unaligned"
   ]
  },
  {
   "cell_type": "code",
   "execution_count": 147,
   "metadata": {
    "collapsed": false
   },
   "outputs": [
    {
     "data": {
      "text/html": [
       "<div>\n",
       "<table border=\"1\" class=\"dataframe\">\n",
       "  <thead>\n",
       "    <tr style=\"text-align: right;\">\n",
       "      <th></th>\n",
       "      <th>A</th>\n",
       "      <th>B</th>\n",
       "      <th>one</th>\n",
       "      <th>C</th>\n",
       "      <th>unaligned</th>\n",
       "    </tr>\n",
       "  </thead>\n",
       "  <tbody>\n",
       "    <tr>\n",
       "      <th>0</th>\n",
       "      <td>1</td>\n",
       "      <td>-1</td>\n",
       "      <td>1</td>\n",
       "      <td>-1</td>\n",
       "      <td>NaN</td>\n",
       "    </tr>\n",
       "    <tr>\n",
       "      <th>1</th>\n",
       "      <td>2</td>\n",
       "      <td>-2</td>\n",
       "      <td>1</td>\n",
       "      <td>-4</td>\n",
       "      <td>2</td>\n",
       "    </tr>\n",
       "    <tr>\n",
       "      <th>2</th>\n",
       "      <td>3</td>\n",
       "      <td>-3</td>\n",
       "      <td>1</td>\n",
       "      <td>-9</td>\n",
       "      <td>3</td>\n",
       "    </tr>\n",
       "  </tbody>\n",
       "</table>\n",
       "</div>"
      ],
      "text/plain": [
       "   A  B  one  C  unaligned\n",
       "0  1 -1    1 -1        NaN\n",
       "1  2 -2    1 -4          2\n",
       "2  3 -3    1 -9          3"
      ]
     },
     "execution_count": 147,
     "metadata": {},
     "output_type": "execute_result"
    }
   ],
   "source": [
    "fake['unaligned'] = fake_unaligned\n",
    "fake"
   ]
  },
  {
   "cell_type": "markdown",
   "metadata": {},
   "source": [
    "Usually pandas does the \"intuitively correct\" thing."
   ]
  },
  {
   "cell_type": "code",
   "execution_count": 160,
   "metadata": {
    "collapsed": false
   },
   "outputs": [
    {
     "data": {
      "text/plain": [
       "0         1000\n",
       "1         1000\n",
       "2          250\n",
       "3          500\n",
       "4          250\n",
       "          ... \n",
       "205514    1000\n",
       "205515     500\n",
       "205516     500\n",
       "205517    1900\n",
       "205518    1000\n",
       "Name: TRANSACTION_AMT, dtype: int64"
      ]
     },
     "execution_count": 160,
     "metadata": {},
     "output_type": "execute_result"
    }
   ],
   "source": [
    "(df.TRANSACTION_AMT * df.TRANSACTION_AMT.gt(0))"
   ]
  },
  {
   "cell_type": "code",
   "execution_count": 167,
   "metadata": {
    "collapsed": true
   },
   "outputs": [],
   "source": [
    "def truncated_amt(x):\n",
    "    return (x.TRANSACTION_AMT > 0) * x.TRANSACTION_AMT"
   ]
  },
  {
   "cell_type": "code",
   "execution_count": 170,
   "metadata": {
    "collapsed": false
   },
   "outputs": [
    {
     "data": {
      "text/plain": [
       "<matplotlib.axes._subplots.AxesSubplot at 0x11cb5e518>"
      ]
     },
     "execution_count": 170,
     "metadata": {},
     "output_type": "execute_result"
    },
    {
     "data": {
      "image/png": "[encoded data removed]",
      "text/plain": [
       "<matplotlib.figure.Figure at 0x1100d12b0>"
      ]
     },
     "metadata": {},
     "output_type": "display_data"
    }
   ],
   "source": [
    "top_states = df.STATE.value_counts().index\n",
    "df.query('STATE in @top_states').assign(truncated_amt=truncated_amt).plot(kind='scatter', x='truncated_amt',\n",
    "                                                                          y='TRANSACTION_AMT', figsize=(8, 8))"
   ]
  },
  {
   "cell_type": "code",
   "execution_count": 105,
   "metadata": {
    "collapsed": true
   },
   "outputs": [],
   "source": [
    "def top_ten_share(employers):\n",
    "    counts = employers.value_counts()\n",
    "    return counts.nlargest(10).sum() / counts.sum()"
   ]
  },
  {
   "cell_type": "code",
   "execution_count": 65,
   "metadata": {
    "collapsed": false
   },
   "outputs": [
    {
     "data": {
      "text/plain": [
       "<matplotlib.axes._subplots.AxesSubplot at 0x10d8b7ef0>"
      ]
     },
     "execution_count": 65,
     "metadata": {},
     "output_type": "execute_result"
    },
    {
     "data": {
      "image/png": "[encoded data removed]",
      "text/plain": [
       "<matplotlib.figure.Figure at 0x10e3afc50>"
      ]
     },
     "metadata": {},
     "output_type": "display_data"
    }
   ],
   "source": [
    "df.groupby('STATE').EMPLOYER.agg(top_ten_share).order().plot(kind='barh', figsize=(5, 15))"
   ]
  },
  {
   "cell_type": "code",
   "execution_count": 71,
   "metadata": {
    "collapsed": false
   },
   "outputs": [
    {
     "data": {
      "text/plain": [
       "RETIRED                            143\n",
       "SELF                               120\n",
       "NONE                               110\n",
       "JOHN DEERE SHARED SERVICES INC.     64\n",
       "NOT EMPLOYED                        51\n",
       "SELF EMPLOYED                       45\n",
       "SELF-EMPLOYED                       45\n",
       "HY-VEE INC                          27\n",
       "UNIVERSITY OF IOWA                  24\n",
       "UNIV OF IOWA                        16\n",
       "dtype: int64"
      ]
     },
     "execution_count": 71,
     "metadata": {},
     "output_type": "execute_result"
    }
   ],
   "source": [
    "top10.loc['IA']"
   ]
  },
  {
   "cell_type": "markdown",
   "metadata": {},
   "source": [
    "# Joining tables"
   ]
  },
  {
   "cell_type": "markdown",
   "metadata": {},
   "source": [
    "Easy to do sql-style joins"
   ]
  },
  {
   "cell_type": "code",
   "execution_count": 116,
   "metadata": {
    "collapsed": false
   },
   "outputs": [
    {
     "data": {
      "text/html": [
       "<div>\n",
       "<table border=\"1\" class=\"dataframe\">\n",
       "  <thead>\n",
       "    <tr style=\"text-align: right;\">\n",
       "      <th></th>\n",
       "      <th>CMTE_ID</th>\n",
       "      <th>AMNDT_IND</th>\n",
       "      <th>RPT_TP</th>\n",
       "      <th>TRANSACTION_PGI</th>\n",
       "      <th>IMAGE_NUM</th>\n",
       "      <th>TRANSACTION_TP</th>\n",
       "      <th>ENTITY_TP</th>\n",
       "      <th>NAME</th>\n",
       "      <th>CITY</th>\n",
       "      <th>STATE</th>\n",
       "      <th>...</th>\n",
       "      <th>EMPLOYER</th>\n",
       "      <th>OCCUPATION</th>\n",
       "      <th>TRANSACTION_DT</th>\n",
       "      <th>TRANSACTION_AMT</th>\n",
       "      <th>OTHER_ID</th>\n",
       "      <th>TRAN_ID</th>\n",
       "      <th>FILE_NUM</th>\n",
       "      <th>MEMO_CD</th>\n",
       "      <th>MEMO_TEXT</th>\n",
       "      <th>SUB_ID</th>\n",
       "    </tr>\n",
       "  </thead>\n",
       "  <tbody>\n",
       "    <tr>\n",
       "      <th>0</th>\n",
       "      <td>C00004606</td>\n",
       "      <td>N</td>\n",
       "      <td>M4</td>\n",
       "      <td>P</td>\n",
       "      <td>15951124869</td>\n",
       "      <td>15</td>\n",
       "      <td>IND</td>\n",
       "      <td>ARNOLD, ROBERT</td>\n",
       "      <td>MCPHERSON</td>\n",
       "      <td>KS</td>\n",
       "      <td>...</td>\n",
       "      <td>SELF</td>\n",
       "      <td>OPTOMETRIST</td>\n",
       "      <td>3102015</td>\n",
       "      <td>1000</td>\n",
       "      <td>NaN</td>\n",
       "      <td>SA11AI.20747</td>\n",
       "      <td>1002259</td>\n",
       "      <td>NaN</td>\n",
       "      <td>NaN</td>\n",
       "      <td>4041320151241796098</td>\n",
       "    </tr>\n",
       "    <tr>\n",
       "      <th>1</th>\n",
       "      <td>C00004606</td>\n",
       "      <td>N</td>\n",
       "      <td>M4</td>\n",
       "      <td>P</td>\n",
       "      <td>15951124869</td>\n",
       "      <td>15</td>\n",
       "      <td>IND</td>\n",
       "      <td>BICKLE, DON</td>\n",
       "      <td>HAYS</td>\n",
       "      <td>KS</td>\n",
       "      <td>...</td>\n",
       "      <td>RETIRED</td>\n",
       "      <td>RETIRED</td>\n",
       "      <td>3302015</td>\n",
       "      <td>1000</td>\n",
       "      <td>NaN</td>\n",
       "      <td>SA11AI.20772</td>\n",
       "      <td>1002259</td>\n",
       "      <td>NaN</td>\n",
       "      <td>NaN</td>\n",
       "      <td>4041320151241796099</td>\n",
       "    </tr>\n",
       "    <tr>\n",
       "      <th>2</th>\n",
       "      <td>C00004606</td>\n",
       "      <td>N</td>\n",
       "      <td>M4</td>\n",
       "      <td>P</td>\n",
       "      <td>15951124869</td>\n",
       "      <td>15</td>\n",
       "      <td>IND</td>\n",
       "      <td>ROSSMAN, RICHARD</td>\n",
       "      <td>OLATHE</td>\n",
       "      <td>KS</td>\n",
       "      <td>...</td>\n",
       "      <td>CRAWFORD SALES COMPANY</td>\n",
       "      <td>BUSINESSMAN</td>\n",
       "      <td>3302015</td>\n",
       "      <td>250</td>\n",
       "      <td>NaN</td>\n",
       "      <td>SA11AI.20759</td>\n",
       "      <td>1002259</td>\n",
       "      <td>NaN</td>\n",
       "      <td>NaN</td>\n",
       "      <td>4041320151241796100</td>\n",
       "    </tr>\n",
       "    <tr>\n",
       "      <th>3</th>\n",
       "      <td>C00452383</td>\n",
       "      <td>N</td>\n",
       "      <td>M4</td>\n",
       "      <td>P</td>\n",
       "      <td>15951124897</td>\n",
       "      <td>15</td>\n",
       "      <td>IND</td>\n",
       "      <td>LLEWELLYN, CHARLES</td>\n",
       "      <td>FREDERICK</td>\n",
       "      <td>MD</td>\n",
       "      <td>...</td>\n",
       "      <td>NaN</td>\n",
       "      <td>NaN</td>\n",
       "      <td>3112015</td>\n",
       "      <td>500</td>\n",
       "      <td>NaN</td>\n",
       "      <td>SA11AI.25088</td>\n",
       "      <td>1002261</td>\n",
       "      <td>NaN</td>\n",
       "      <td>NaN</td>\n",
       "      <td>4041320151241796102</td>\n",
       "    </tr>\n",
       "    <tr>\n",
       "      <th>4</th>\n",
       "      <td>C00452383</td>\n",
       "      <td>N</td>\n",
       "      <td>M4</td>\n",
       "      <td>P</td>\n",
       "      <td>15951124897</td>\n",
       "      <td>15</td>\n",
       "      <td>IND</td>\n",
       "      <td>TYNES, TIMOTHY MR.</td>\n",
       "      <td>VERO BEACH</td>\n",
       "      <td>FL</td>\n",
       "      <td>...</td>\n",
       "      <td>NaN</td>\n",
       "      <td>NaN</td>\n",
       "      <td>3022015</td>\n",
       "      <td>250</td>\n",
       "      <td>NaN</td>\n",
       "      <td>SA11AI.25074</td>\n",
       "      <td>1002261</td>\n",
       "      <td>NaN</td>\n",
       "      <td>NaN</td>\n",
       "      <td>4041320151241796103</td>\n",
       "    </tr>\n",
       "  </tbody>\n",
       "</table>\n",
       "<p>5 rows × 21 columns</p>\n",
       "</div>"
      ],
      "text/plain": [
       "     CMTE_ID AMNDT_IND RPT_TP TRANSACTION_PGI    IMAGE_NUM TRANSACTION_TP  \\\n",
       "0  C00004606         N     M4               P  15951124869             15   \n",
       "1  C00004606         N     M4               P  15951124869             15   \n",
       "2  C00004606         N     M4               P  15951124869             15   \n",
       "3  C00452383         N     M4               P  15951124897             15   \n",
       "4  C00452383         N     M4               P  15951124897             15   \n",
       "\n",
       "  ENTITY_TP                NAME        CITY STATE         ...           \\\n",
       "0       IND      ARNOLD, ROBERT   MCPHERSON    KS         ...            \n",
       "1       IND         BICKLE, DON        HAYS    KS         ...            \n",
       "2       IND    ROSSMAN, RICHARD      OLATHE    KS         ...            \n",
       "3       IND  LLEWELLYN, CHARLES   FREDERICK    MD         ...            \n",
       "4       IND  TYNES, TIMOTHY MR.  VERO BEACH    FL         ...            \n",
       "\n",
       "                 EMPLOYER   OCCUPATION TRANSACTION_DT  TRANSACTION_AMT  \\\n",
       "0                    SELF  OPTOMETRIST        3102015             1000   \n",
       "1                 RETIRED      RETIRED        3302015             1000   \n",
       "2  CRAWFORD SALES COMPANY  BUSINESSMAN        3302015              250   \n",
       "3                     NaN          NaN        3112015              500   \n",
       "4                     NaN          NaN        3022015              250   \n",
       "\n",
       "   OTHER_ID       TRAN_ID FILE_NUM  MEMO_CD MEMO_TEXT               SUB_ID  \n",
       "0       NaN  SA11AI.20747  1002259      NaN       NaN  4041320151241796098  \n",
       "1       NaN  SA11AI.20772  1002259      NaN       NaN  4041320151241796099  \n",
       "2       NaN  SA11AI.20759  1002259      NaN       NaN  4041320151241796100  \n",
       "3       NaN  SA11AI.25088  1002261      NaN       NaN  4041320151241796102  \n",
       "4       NaN  SA11AI.25074  1002261      NaN       NaN  4041320151241796103  \n",
       "\n",
       "[5 rows x 21 columns]"
      ]
     },
     "execution_count": 116,
     "metadata": {},
     "output_type": "execute_result"
    }
   ],
   "source": [
    "df.head()"
   ]
  },
  {
   "cell_type": "code",
   "execution_count": 10,
   "metadata": {
    "collapsed": false
   },
   "outputs": [
    {
     "data": {
      "text/html": [
       "<div>\n",
       "<table border=\"1\" class=\"dataframe\">\n",
       "  <thead>\n",
       "    <tr style=\"text-align: right;\">\n",
       "      <th></th>\n",
       "      <th>CMTE_ID</th>\n",
       "      <th>CMTE_NM</th>\n",
       "      <th>TRES_NM</th>\n",
       "      <th>CMTE_ST1</th>\n",
       "      <th>CMTE_ST2</th>\n",
       "      <th>CMTE_CITY</th>\n",
       "      <th>CMTE_ST</th>\n",
       "      <th>CMTE_ZIP</th>\n",
       "      <th>CMTE_DSGN</th>\n",
       "      <th>CMTE_TP</th>\n",
       "      <th>CMTE_PTY_AFFILIATION</th>\n",
       "      <th>CMTE_FILING_FREQ</th>\n",
       "      <th>ORG_TP</th>\n",
       "      <th>CONNECTED_ORG_NM</th>\n",
       "      <th>CAND_ID</th>\n",
       "    </tr>\n",
       "  </thead>\n",
       "  <tbody>\n",
       "    <tr>\n",
       "      <th>0</th>\n",
       "      <td>C00000059</td>\n",
       "      <td>HALLMARK CARDS PAC</td>\n",
       "      <td>DEAN RODENBOUGH</td>\n",
       "      <td>2501 MCGEE</td>\n",
       "      <td>MD#288</td>\n",
       "      <td>KANSAS CITY</td>\n",
       "      <td>MO</td>\n",
       "      <td>64108</td>\n",
       "      <td>U</td>\n",
       "      <td>Q</td>\n",
       "      <td>UNK</td>\n",
       "      <td>M</td>\n",
       "      <td>C</td>\n",
       "      <td>NaN</td>\n",
       "      <td>NaN</td>\n",
       "    </tr>\n",
       "    <tr>\n",
       "      <th>1</th>\n",
       "      <td>C00000422</td>\n",
       "      <td>AMERICAN MEDICAL ASSOCIATION POLITICAL ACTION ...</td>\n",
       "      <td>WALKER, KEVIN</td>\n",
       "      <td>25 MASSACHUSETTS AVE, NW</td>\n",
       "      <td>SUITE 600</td>\n",
       "      <td>WASHINGTON</td>\n",
       "      <td>DC</td>\n",
       "      <td>20001</td>\n",
       "      <td>B</td>\n",
       "      <td>Q</td>\n",
       "      <td>NaN</td>\n",
       "      <td>M</td>\n",
       "      <td>M</td>\n",
       "      <td>AMERICAN MEDICAL ASSOCIATION</td>\n",
       "      <td>NaN</td>\n",
       "    </tr>\n",
       "    <tr>\n",
       "      <th>2</th>\n",
       "      <td>C00000489</td>\n",
       "      <td>D R I V E POLITICAL FUND CHAPTER 886</td>\n",
       "      <td>TOM RITTER</td>\n",
       "      <td>3528 W RENO</td>\n",
       "      <td>NaN</td>\n",
       "      <td>OKLAHOMA CITY</td>\n",
       "      <td>OK</td>\n",
       "      <td>73107</td>\n",
       "      <td>U</td>\n",
       "      <td>N</td>\n",
       "      <td>NaN</td>\n",
       "      <td>Q</td>\n",
       "      <td>L</td>\n",
       "      <td>TEAMSTERS LOCAL UNION 886</td>\n",
       "      <td>NaN</td>\n",
       "    </tr>\n",
       "    <tr>\n",
       "      <th>3</th>\n",
       "      <td>C00000547</td>\n",
       "      <td>KANSAS MEDICAL SOCIETY POLITICAL ACTION COMMITTEE</td>\n",
       "      <td>C. RICHARD BONEBRAKE, M.D.</td>\n",
       "      <td>623 SW 10TH AVE</td>\n",
       "      <td>NaN</td>\n",
       "      <td>TOPEKA</td>\n",
       "      <td>KS</td>\n",
       "      <td>66612</td>\n",
       "      <td>U</td>\n",
       "      <td>Q</td>\n",
       "      <td>UNK</td>\n",
       "      <td>Q</td>\n",
       "      <td>T</td>\n",
       "      <td>NaN</td>\n",
       "      <td>NaN</td>\n",
       "    </tr>\n",
       "    <tr>\n",
       "      <th>4</th>\n",
       "      <td>C00000638</td>\n",
       "      <td>INDIANA STATE MEDICAL ASSOCIATION POLITICAL AC...</td>\n",
       "      <td>VIDYA KORA, M.D.</td>\n",
       "      <td>322 CANAL WALK, CANAL LEVEL</td>\n",
       "      <td>NaN</td>\n",
       "      <td>INDIANAPOLIS</td>\n",
       "      <td>IN</td>\n",
       "      <td>46202</td>\n",
       "      <td>U</td>\n",
       "      <td>Q</td>\n",
       "      <td>NaN</td>\n",
       "      <td>Q</td>\n",
       "      <td>M</td>\n",
       "      <td>NaN</td>\n",
       "      <td>NaN</td>\n",
       "    </tr>\n",
       "  </tbody>\n",
       "</table>\n",
       "</div>"
      ],
      "text/plain": [
       "     CMTE_ID                                            CMTE_NM  \\\n",
       "0  C00000059                                 HALLMARK CARDS PAC   \n",
       "1  C00000422  AMERICAN MEDICAL ASSOCIATION POLITICAL ACTION ...   \n",
       "2  C00000489               D R I V E POLITICAL FUND CHAPTER 886   \n",
       "3  C00000547  KANSAS MEDICAL SOCIETY POLITICAL ACTION COMMITTEE   \n",
       "4  C00000638  INDIANA STATE MEDICAL ASSOCIATION POLITICAL AC...   \n",
       "\n",
       "                      TRES_NM                     CMTE_ST1   CMTE_ST2  \\\n",
       "0             DEAN RODENBOUGH                   2501 MCGEE     MD#288   \n",
       "1               WALKER, KEVIN     25 MASSACHUSETTS AVE, NW  SUITE 600   \n",
       "2                  TOM RITTER                  3528 W RENO        NaN   \n",
       "3  C. RICHARD BONEBRAKE, M.D.              623 SW 10TH AVE        NaN   \n",
       "4            VIDYA KORA, M.D.  322 CANAL WALK, CANAL LEVEL        NaN   \n",
       "\n",
       "       CMTE_CITY CMTE_ST  CMTE_ZIP CMTE_DSGN CMTE_TP CMTE_PTY_AFFILIATION  \\\n",
       "0    KANSAS CITY      MO     64108         U       Q                  UNK   \n",
       "1     WASHINGTON      DC     20001         B       Q                  NaN   \n",
       "2  OKLAHOMA CITY      OK     73107         U       N                  NaN   \n",
       "3         TOPEKA      KS     66612         U       Q                  UNK   \n",
       "4   INDIANAPOLIS      IN     46202         U       Q                  NaN   \n",
       "\n",
       "  CMTE_FILING_FREQ ORG_TP              CONNECTED_ORG_NM CAND_ID  \n",
       "0                M      C                           NaN     NaN  \n",
       "1                M      M  AMERICAN MEDICAL ASSOCIATION     NaN  \n",
       "2                Q      L     TEAMSTERS LOCAL UNION 886     NaN  \n",
       "3                Q      T                           NaN     NaN  \n",
       "4                Q      M                           NaN     NaN  "
      ]
     },
     "execution_count": 10,
     "metadata": {},
     "output_type": "execute_result"
    }
   ],
   "source": [
    "cm.head()"
   ]
  },
  {
   "cell_type": "markdown",
   "metadata": {},
   "source": [
    "Problem: Commitee names are not in the table we're interested in.\n",
    "\n",
    "Solution: join `df` to `cm`.\n",
    "\n",
    "Tools: slicing and `pd.merge`"
   ]
  },
  {
   "cell_type": "code",
   "execution_count": 12,
   "metadata": {
    "collapsed": false
   },
   "outputs": [
    {
     "data": {
      "text/html": [
       "<div>\n",
       "<table border=\"1\" class=\"dataframe\">\n",
       "  <thead>\n",
       "    <tr style=\"text-align: right;\">\n",
       "      <th></th>\n",
       "      <th>CMTE_ID</th>\n",
       "      <th>CMTE_NM</th>\n",
       "    </tr>\n",
       "  </thead>\n",
       "  <tbody>\n",
       "    <tr>\n",
       "      <th>0</th>\n",
       "      <td>C00000059</td>\n",
       "      <td>HALLMARK CARDS PAC</td>\n",
       "    </tr>\n",
       "    <tr>\n",
       "      <th>1</th>\n",
       "      <td>C00000422</td>\n",
       "      <td>AMERICAN MEDICAL ASSOCIATION POLITICAL ACTION ...</td>\n",
       "    </tr>\n",
       "    <tr>\n",
       "      <th>2</th>\n",
       "      <td>C00000489</td>\n",
       "      <td>D R I V E POLITICAL FUND CHAPTER 886</td>\n",
       "    </tr>\n",
       "    <tr>\n",
       "      <th>3</th>\n",
       "      <td>C00000547</td>\n",
       "      <td>KANSAS MEDICAL SOCIETY POLITICAL ACTION COMMITTEE</td>\n",
       "    </tr>\n",
       "    <tr>\n",
       "      <th>4</th>\n",
       "      <td>C00000638</td>\n",
       "      <td>INDIANA STATE MEDICAL ASSOCIATION POLITICAL AC...</td>\n",
       "    </tr>\n",
       "    <tr>\n",
       "      <th>...</th>\n",
       "      <td>...</td>\n",
       "      <td>...</td>\n",
       "    </tr>\n",
       "    <tr>\n",
       "      <th>12070</th>\n",
       "      <td>C90015363</td>\n",
       "      <td>LONG ISLAND LAW ENFORCEMENT FOUNDATION</td>\n",
       "    </tr>\n",
       "    <tr>\n",
       "      <th>12071</th>\n",
       "      <td>C90015371</td>\n",
       "      <td>ENVIRONMENT FLORIDA</td>\n",
       "    </tr>\n",
       "    <tr>\n",
       "      <th>12072</th>\n",
       "      <td>C90015389</td>\n",
       "      <td>DOUG MAGEE FOR CONGRESS COMMITTEE</td>\n",
       "    </tr>\n",
       "    <tr>\n",
       "      <th>12073</th>\n",
       "      <td>C99002396</td>\n",
       "      <td>AMERICAN POLITICAL ACTION COMMITTEE</td>\n",
       "    </tr>\n",
       "    <tr>\n",
       "      <th>12074</th>\n",
       "      <td>C99003428</td>\n",
       "      <td>THIRD DISTRICT REPUBLICAN PARTY</td>\n",
       "    </tr>\n",
       "  </tbody>\n",
       "</table>\n",
       "<p>12075 rows × 2 columns</p>\n",
       "</div>"
      ],
      "text/plain": [
       "         CMTE_ID                                            CMTE_NM\n",
       "0      C00000059                                 HALLMARK CARDS PAC\n",
       "1      C00000422  AMERICAN MEDICAL ASSOCIATION POLITICAL ACTION ...\n",
       "2      C00000489               D R I V E POLITICAL FUND CHAPTER 886\n",
       "3      C00000547  KANSAS MEDICAL SOCIETY POLITICAL ACTION COMMITTEE\n",
       "4      C00000638  INDIANA STATE MEDICAL ASSOCIATION POLITICAL AC...\n",
       "...          ...                                                ...\n",
       "12070  C90015363             LONG ISLAND LAW ENFORCEMENT FOUNDATION\n",
       "12071  C90015371                                ENVIRONMENT FLORIDA\n",
       "12072  C90015389                  DOUG MAGEE FOR CONGRESS COMMITTEE\n",
       "12073  C99002396                AMERICAN POLITICAL ACTION COMMITTEE\n",
       "12074  C99003428                    THIRD DISTRICT REPUBLICAN PARTY\n",
       "\n",
       "[12075 rows x 2 columns]"
      ]
     },
     "execution_count": 12,
     "metadata": {},
     "output_type": "execute_result"
    }
   ],
   "source": [
    "cm[['CMTE_ID', 'CMTE_NM']]"
   ]
  },
  {
   "cell_type": "code",
   "execution_count": 13,
   "metadata": {
    "collapsed": false
   },
   "outputs": [],
   "source": [
    "df = pd.merge(df, cm[['CMTE_ID', 'CMTE_NM']])"
   ]
  },
  {
   "cell_type": "markdown",
   "metadata": {},
   "source": [
    "Default is like a `NATURAL JOIN`. Join on column names that overlap.\n",
    "You can specify inner or outer with `how`, and which columns to join on with `on`."
   ]
  },
  {
   "cell_type": "code",
   "execution_count": 16,
   "metadata": {
    "collapsed": false
   },
   "outputs": [
    {
     "name": "stdout",
     "output_type": "stream",
     "text": [
      "ACTBLUE                                                      18989\n",
      "DEMOCRATIC CONGRESSIONAL CAMPAIGN COMMITTEE                  17114\n",
      "REPUBLICAN NATIONAL COMMITTEE                                 8877\n",
      "DNC SERVICES CORPORATION/DEMOCRATIC NATIONAL COMMITTEE        7121\n",
      "DEMOCRATIC SENATORIAL CAMPAIGN COMMITTEE                      6494\n",
      "NRSC                                                          2919\n",
      "EMILY'S LIST                                                  2885\n",
      "NRCC                                                          2388\n",
      "ERNST & YOUNG POLITICAL ACTION COMMITTEE                      2355\n",
      "PRICEWATERHOUSECOOPERS POLITICAL ACTION COMMITTEE I           2209\n",
      "CRUZ FOR PRESIDENT                                            1843\n",
      "KAMALA HARRIS FOR SENATE                                      1469\n",
      "OAKLAND COUNTY DEMOCRATIC PARTY                               1392\n",
      "PORTMAN FOR SENATE COMMITTEE                                  1382\n",
      "AMERICAN CRYSTAL SUGAR COMPANY POLITICAL ACTION COMMITTEE     1307\n",
      "FRIENDS OF JOHN MCCAIN INC                                    1292\n",
      "FRIENDS OF SCHUMER                                            1291\n",
      "VOTESANE PAC                                                  1235\n",
      "FRIENDS OF PAT TOOMEY                                         1152\n",
      "BENNET FOR COLORADO                                           1096\n",
      "dtype: int64\n"
     ]
    }
   ],
   "source": [
    "with pd.option_context('display.max_rows', 20):\n",
    "    print(df['CMTE_NM'].value_counts().head(20))"
   ]
  },
  {
   "cell_type": "code",
   "execution_count": 21,
   "metadata": {
    "collapsed": false
   },
   "outputs": [
    {
     "data": {
      "text/plain": [
       "ACTBLUE                                                   18989\n",
       "DEMOCRATIC CONGRESSIONAL CAMPAIGN COMMITTEE               17114\n",
       "REPUBLICAN NATIONAL COMMITTEE                              8877\n",
       "DNC SERVICES CORPORATION/DEMOCRATIC NATIONAL COMMITTEE     7121\n",
       "DEMOCRATIC SENATORIAL CAMPAIGN COMMITTEE                   6494\n",
       "dtype: int64"
      ]
     },
     "execution_count": 21,
     "metadata": {},
     "output_type": "execute_result"
    }
   ],
   "source": [
    "counts = df.CMTE_NM.value_counts()\n",
    "counts.head()"
   ]
  },
  {
   "cell_type": "code",
   "execution_count": 22,
   "metadata": {
    "collapsed": false
   },
   "outputs": [
    {
     "data": {
      "text/plain": [
       "CRUZ FOR PRESIDENT                                          1843\n",
       "MARCO RUBIO FOR PRESIDENT                                    232\n",
       "HARLEY BROWN FOR PRESIDENT CAMPAIGN COMMITTEE                 17\n",
       "KERRY BOWERS FOR PRESIDENT COMMITTEE                           9\n",
       "COMMITTEE TO ELECT KARIN L SWANSON FOR PRESIDENT               2\n",
       "SHOS MUSIC COMMITTEE TO ELECT SHO MUHAMMAD FOR PRESIDENT       2\n",
       "CHRISTOPHER HILL FOR PRESIDENT                                 1\n",
       "MESPLAY FOR PRESIDENT                                          1\n",
       "WILLIE CARTER FOR PRESIDENT COMMITTEE                          1\n",
       "dtype: int64"
      ]
     },
     "execution_count": 22,
     "metadata": {},
     "output_type": "execute_result"
    }
   ],
   "source": [
    "counts[counts.index.str.contains('president', case=False)]"
   ]
  },
  {
   "cell_type": "code",
   "execution_count": 23,
   "metadata": {
    "collapsed": false
   },
   "outputs": [
    {
     "data": {
      "text/plain": [
       "count    205519.000000\n",
       "mean       1024.927004\n",
       "std        4580.138090\n",
       "min     -226800.000000\n",
       "25%         250.000000\n",
       "50%         384.000000\n",
       "75%        1000.000000\n",
       "max      716585.000000\n",
       "Name: TRANSACTION_AMT, dtype: float64"
      ]
     },
     "execution_count": 23,
     "metadata": {},
     "output_type": "execute_result"
    }
   ],
   "source": [
    "df.TRANSACTION_AMT.describe()"
   ]
  },
  {
   "cell_type": "code",
   "execution_count": 24,
   "metadata": {
    "collapsed": false
   },
   "outputs": [],
   "source": [
    "df = df[df.TRANSACTION_AMT > 200 ]"
   ]
  },
  {
   "cell_type": "code",
   "execution_count": 25,
   "metadata": {
    "collapsed": false
   },
   "outputs": [
    {
     "data": {
      "text/plain": [
       "<matplotlib.axes._subplots.AxesSubplot at 0x10e90b3c8>"
      ]
     },
     "execution_count": 25,
     "metadata": {},
     "output_type": "execute_result"
    },
    {
     "data": {
      "image/png": "[encoded data removed]",
      "text/plain": [
       "<matplotlib.figure.Figure at 0x10e9192b0>"
      ]
     },
     "metadata": {},
     "output_type": "display_data"
    }
   ],
   "source": [
    "sns.distplot(np.log(df.TRANSACTION_AMT))\n",
    "# ax.set_xticklabels([np.exp(float(x)) for x in ax.get_xticklabels()])"
   ]
  },
  {
   "cell_type": "code",
   "execution_count": 26,
   "metadata": {
    "collapsed": false
   },
   "outputs": [],
   "source": [
    "raised = df.groupby(\"CMTE_NM\").TRANSACTION_AMT.agg(['mean', 'count', 'sum'])"
   ]
  },
  {
   "cell_type": "code",
   "execution_count": 28,
   "metadata": {
    "collapsed": false
   },
   "outputs": [
    {
     "data": {
      "text/html": [
       "<div>\n",
       "<table border=\"1\" class=\"dataframe\">\n",
       "  <thead>\n",
       "    <tr style=\"text-align: right;\">\n",
       "      <th></th>\n",
       "      <th>mean</th>\n",
       "      <th>count</th>\n",
       "      <th>sum</th>\n",
       "    </tr>\n",
       "    <tr>\n",
       "      <th>CMTE_NM</th>\n",
       "      <th></th>\n",
       "      <th></th>\n",
       "      <th></th>\n",
       "    </tr>\n",
       "  </thead>\n",
       "  <tbody>\n",
       "    <tr>\n",
       "      <th>CARLY FOR CALIFORNIA INC</th>\n",
       "      <td>487410.000</td>\n",
       "      <td>1</td>\n",
       "      <td>487410</td>\n",
       "    </tr>\n",
       "    <tr>\n",
       "      <th>RENFROE FOR CONGRESS</th>\n",
       "      <td>252584.000</td>\n",
       "      <td>1</td>\n",
       "      <td>252584</td>\n",
       "    </tr>\n",
       "    <tr>\n",
       "      <th>COOPERATIVE OF AMERICAN PHYSICIANS IE COMMITTEE</th>\n",
       "      <td>167540.625</td>\n",
       "      <td>8</td>\n",
       "      <td>1340325</td>\n",
       "    </tr>\n",
       "    <tr>\n",
       "      <th>ELISABETH JENSEN FOR CONGRESS</th>\n",
       "      <td>98142.000</td>\n",
       "      <td>1</td>\n",
       "      <td>98142</td>\n",
       "    </tr>\n",
       "    <tr>\n",
       "      <th>NEW REPUBLICAN.ORG</th>\n",
       "      <td>80000.000</td>\n",
       "      <td>4</td>\n",
       "      <td>320000</td>\n",
       "    </tr>\n",
       "    <tr>\n",
       "      <th>...</th>\n",
       "      <td>...</td>\n",
       "      <td>...</td>\n",
       "      <td>...</td>\n",
       "    </tr>\n",
       "    <tr>\n",
       "      <th>DEERE &amp; COMPANY PAC (AKA JOHN DEERE PAC)</th>\n",
       "      <td>208.000</td>\n",
       "      <td>96</td>\n",
       "      <td>19968</td>\n",
       "    </tr>\n",
       "    <tr>\n",
       "      <th>PHILADELPHIA FEDERAL CREDIT UNION PAC (PFCU-PAC)</th>\n",
       "      <td>206.000</td>\n",
       "      <td>1</td>\n",
       "      <td>206</td>\n",
       "    </tr>\n",
       "    <tr>\n",
       "      <th>EATON CORPORATION PUBLIC POLICY ASSOCIATION</th>\n",
       "      <td>206.000</td>\n",
       "      <td>6</td>\n",
       "      <td>1236</td>\n",
       "    </tr>\n",
       "    <tr>\n",
       "      <th>TECO ENERGY INC EMPLOYEES' PAC</th>\n",
       "      <td>205.500</td>\n",
       "      <td>12</td>\n",
       "      <td>2466</td>\n",
       "    </tr>\n",
       "    <tr>\n",
       "      <th>EMD SERONO, INC. POLITICAL ACTION COMMITTEE</th>\n",
       "      <td>205.000</td>\n",
       "      <td>1</td>\n",
       "      <td>205</td>\n",
       "    </tr>\n",
       "  </tbody>\n",
       "</table>\n",
       "<p>2001 rows × 3 columns</p>\n",
       "</div>"
      ],
      "text/plain": [
       "                                                        mean  count      sum\n",
       "CMTE_NM                                                                     \n",
       "CARLY FOR CALIFORNIA INC                          487410.000      1   487410\n",
       "RENFROE FOR CONGRESS                              252584.000      1   252584\n",
       "COOPERATIVE OF AMERICAN PHYSICIANS IE COMMITTEE   167540.625      8  1340325\n",
       "ELISABETH JENSEN FOR CONGRESS                      98142.000      1    98142\n",
       "NEW REPUBLICAN.ORG                                 80000.000      4   320000\n",
       "...                                                      ...    ...      ...\n",
       "DEERE & COMPANY PAC (AKA JOHN DEERE PAC)             208.000     96    19968\n",
       "PHILADELPHIA FEDERAL CREDIT UNION PAC (PFCU-PAC)     206.000      1      206\n",
       "EATON CORPORATION PUBLIC POLICY ASSOCIATION          206.000      6     1236\n",
       "TECO ENERGY INC EMPLOYEES' PAC                       205.500     12     2466\n",
       "EMD SERONO, INC. POLITICAL ACTION COMMITTEE          205.000      1      205\n",
       "\n",
       "[2001 rows x 3 columns]"
      ]
     },
     "execution_count": 28,
     "metadata": {},
     "output_type": "execute_result"
    }
   ],
   "source": [
    "raised.sort('mean', ascending=False)"
   ]
  },
  {
   "cell_type": "code",
   "execution_count": 29,
   "metadata": {
    "collapsed": false
   },
   "outputs": [
    {
     "data": {
      "text/html": [
       "<div>\n",
       "<table border=\"1\" class=\"dataframe\">\n",
       "  <thead>\n",
       "    <tr style=\"text-align: right;\">\n",
       "      <th></th>\n",
       "      <th>mean</th>\n",
       "      <th>count</th>\n",
       "      <th>sum</th>\n",
       "    </tr>\n",
       "    <tr>\n",
       "      <th>CMTE_NM</th>\n",
       "      <th></th>\n",
       "      <th></th>\n",
       "      <th></th>\n",
       "    </tr>\n",
       "  </thead>\n",
       "  <tbody>\n",
       "    <tr>\n",
       "      <th>ACTBLUE</th>\n",
       "      <td>995.304199</td>\n",
       "      <td>9359</td>\n",
       "      <td>9315052</td>\n",
       "    </tr>\n",
       "    <tr>\n",
       "      <th>REPUBLICAN NATIONAL COMMITTEE</th>\n",
       "      <td>2158.789380</td>\n",
       "      <td>7891</td>\n",
       "      <td>17035007</td>\n",
       "    </tr>\n",
       "    <tr>\n",
       "      <th>DNC SERVICES CORPORATION/DEMOCRATIC NATIONAL COMMITTEE</th>\n",
       "      <td>1250.323990</td>\n",
       "      <td>6065</td>\n",
       "      <td>7583215</td>\n",
       "    </tr>\n",
       "    <tr>\n",
       "      <th>DEMOCRATIC CONGRESSIONAL CAMPAIGN COMMITTEE</th>\n",
       "      <td>1445.491882</td>\n",
       "      <td>4188</td>\n",
       "      <td>6053720</td>\n",
       "    </tr>\n",
       "    <tr>\n",
       "      <th>DEMOCRATIC SENATORIAL CAMPAIGN COMMITTEE</th>\n",
       "      <td>1906.126665</td>\n",
       "      <td>3979</td>\n",
       "      <td>7584478</td>\n",
       "    </tr>\n",
       "    <tr>\n",
       "      <th>...</th>\n",
       "      <td>...</td>\n",
       "      <td>...</td>\n",
       "      <td>...</td>\n",
       "    </tr>\n",
       "    <tr>\n",
       "      <th>FRIENDS OF RENTERIA</th>\n",
       "      <td>1000.000000</td>\n",
       "      <td>1</td>\n",
       "      <td>1000</td>\n",
       "    </tr>\n",
       "    <tr>\n",
       "      <th>FRIENDS OF RICH NUGENT</th>\n",
       "      <td>250.000000</td>\n",
       "      <td>1</td>\n",
       "      <td>250</td>\n",
       "    </tr>\n",
       "    <tr>\n",
       "      <th>SECURE PAC</th>\n",
       "      <td>5000.000000</td>\n",
       "      <td>1</td>\n",
       "      <td>5000</td>\n",
       "    </tr>\n",
       "    <tr>\n",
       "      <th>FRIENDS OF SESSIONS SENATE COMMITTEE INC</th>\n",
       "      <td>500.000000</td>\n",
       "      <td>1</td>\n",
       "      <td>500</td>\n",
       "    </tr>\n",
       "    <tr>\n",
       "      <th>18-29 PAC</th>\n",
       "      <td>5000.000000</td>\n",
       "      <td>1</td>\n",
       "      <td>5000</td>\n",
       "    </tr>\n",
       "  </tbody>\n",
       "</table>\n",
       "<p>2001 rows × 3 columns</p>\n",
       "</div>"
      ],
      "text/plain": [
       "                                                           mean  count  \\\n",
       "CMTE_NM                                                                  \n",
       "ACTBLUE                                              995.304199   9359   \n",
       "REPUBLICAN NATIONAL COMMITTEE                       2158.789380   7891   \n",
       "DNC SERVICES CORPORATION/DEMOCRATIC NATIONAL CO...  1250.323990   6065   \n",
       "DEMOCRATIC CONGRESSIONAL CAMPAIGN COMMITTEE         1445.491882   4188   \n",
       "DEMOCRATIC SENATORIAL CAMPAIGN COMMITTEE            1906.126665   3979   \n",
       "...                                                         ...    ...   \n",
       "FRIENDS OF RENTERIA                                 1000.000000      1   \n",
       "FRIENDS OF RICH NUGENT                               250.000000      1   \n",
       "SECURE PAC                                          5000.000000      1   \n",
       "FRIENDS OF SESSIONS SENATE COMMITTEE INC             500.000000      1   \n",
       "18-29 PAC                                           5000.000000      1   \n",
       "\n",
       "                                                         sum  \n",
       "CMTE_NM                                                       \n",
       "ACTBLUE                                              9315052  \n",
       "REPUBLICAN NATIONAL COMMITTEE                       17035007  \n",
       "DNC SERVICES CORPORATION/DEMOCRATIC NATIONAL CO...   7583215  \n",
       "DEMOCRATIC CONGRESSIONAL CAMPAIGN COMMITTEE          6053720  \n",
       "DEMOCRATIC SENATORIAL CAMPAIGN COMMITTEE             7584478  \n",
       "...                                                      ...  \n",
       "FRIENDS OF RENTERIA                                     1000  \n",
       "FRIENDS OF RICH NUGENT                                   250  \n",
       "SECURE PAC                                              5000  \n",
       "FRIENDS OF SESSIONS SENATE COMMITTEE INC                 500  \n",
       "18-29 PAC                                               5000  \n",
       "\n",
       "[2001 rows x 3 columns]"
      ]
     },
     "execution_count": 29,
     "metadata": {},
     "output_type": "execute_result"
    }
   ],
   "source": [
    "raised.sort('count', ascending=False)"
   ]
  },
  {
   "cell_type": "code",
   "execution_count": 30,
   "metadata": {
    "collapsed": false
   },
   "outputs": [
    {
     "data": {
      "text/plain": [
       "<matplotlib.axes._subplots.AxesSubplot at 0x10d8e0198>"
      ]
     },
     "execution_count": 30,
     "metadata": {},
     "output_type": "execute_result"
    },
    {
     "data": {
      "image/png": "[encoded data removed]",
      "text/plain": [
       "<matplotlib.figure.Figure at 0x10ca2c4a8>"
      ]
     },
     "metadata": {},
     "output_type": "display_data"
    }
   ],
   "source": [
    "raised.sort('sum', ascending=False).head(50).plot(kind='scatter', x='count', y='mean')"
   ]
  },
  {
   "cell_type": "code",
   "execution_count": 31,
   "metadata": {
    "collapsed": false
   },
   "outputs": [
    {
     "data": {
      "text/plain": [
       "<matplotlib.axes._subplots.AxesSubplot at 0x10d88d668>"
      ]
     },
     "execution_count": 31,
     "metadata": {},
     "output_type": "execute_result"
    },
    {
     "data": {
      "image/png": "[encoded data removed]",
      "text/plain": [
       "<matplotlib.figure.Figure at 0x10df63160>"
      ]
     },
     "metadata": {},
     "output_type": "display_data"
    }
   ],
   "source": [
    "raised[raised['count'] > 1000].plot(kind='scatter', x='count', y='mean')"
   ]
  },
  {
   "cell_type": "code",
   "execution_count": 32,
   "metadata": {
    "collapsed": false
   },
   "outputs": [
    {
     "data": {
      "text/plain": [
       "N    155278\n",
       "A     15517\n",
       "T        99\n",
       "dtype: int64"
      ]
     },
     "execution_count": 32,
     "metadata": {},
     "output_type": "execute_result"
    }
   ],
   "source": [
    "df.AMNDT_IND.value_counts()"
   ]
  },
  {
   "cell_type": "code",
   "execution_count": 33,
   "metadata": {
    "collapsed": false
   },
   "outputs": [
    {
     "data": {
      "text/plain": [
       "CMTE_ID                                                    C00010470\n",
       "AMNDT_IND                                                          N\n",
       "RPT_TP                                                            M2\n",
       "TRANSACTION_PGI                                                    P\n",
       "IMAGE_NUM                                                15950610535\n",
       "                                         ...                        \n",
       "FILE_NUM                                                      993044\n",
       "MEMO_CD                                                          NaN\n",
       "MEMO_TEXT                            P/R DEDUCTION ($201.50 MONTHLY)\n",
       "SUB_ID                                           4021220151238903467\n",
       "CMTE_NM            UNION PACIFIC CORP. FUND FOR EFFECTIVE GOVERNMENT\n",
       "Name: 229, dtype: object"
      ]
     },
     "execution_count": 33,
     "metadata": {},
     "output_type": "execute_result"
    }
   ],
   "source": [
    "df.loc[df.TRANSACTION_AMT.idxmin()]"
   ]
  },
  {
   "cell_type": "code",
   "execution_count": 289,
   "metadata": {
    "collapsed": false
   },
   "outputs": [
    {
     "data": {
      "text/plain": [
       "count    196266.000000\n",
       "mean       1098.383638\n",
       "std        4628.231211\n",
       "min           1.000000\n",
       "25%         250.000000\n",
       "50%         416.000000\n",
       "75%        1000.000000\n",
       "max      716585.000000\n",
       "Name: TRANSACTION_AMT, dtype: float64"
      ]
     },
     "execution_count": 289,
     "metadata": {},
     "output_type": "execute_result"
    }
   ],
   "source": [
    "df.TRANSACTION_AMT.describe()"
   ]
  },
  {
   "cell_type": "code",
   "execution_count": 362,
   "metadata": {
    "collapsed": false
   },
   "outputs": [
    {
     "data": {
      "text/plain": [
       "C00576769    2\n",
       "C00213645    1\n",
       "C90009846    1\n",
       "C00574962    1\n",
       "C00555227    1\n",
       "            ..\n",
       "C00503581    1\n",
       "C00545004    1\n",
       "C00283135    1\n",
       "C00370643    1\n",
       "C00473025    1\n",
       "dtype: int64"
      ]
     },
     "execution_count": 362,
     "metadata": {},
     "output_type": "execute_result"
    }
   ],
   "source": [
    "cm[['CMTE_ID', \"CMTE_NM\"]].CMTE_ID.value_counts()"
   ]
  },
  {
   "cell_type": "code",
   "execution_count": 367,
   "metadata": {
    "collapsed": false
   },
   "outputs": [
    {
     "name": "stdout",
     "output_type": "stream",
     "text": [
      "<class 'pandas.core.frame.DataFrame'>\n",
      "Int64Index: 205519 entries, 0 to 205518\n",
      "Data columns (total 21 columns):\n",
      "CMTE_ID            205519 non-null object\n",
      "AMNDT_IND          205519 non-null object\n",
      "RPT_TP             205519 non-null object\n",
      "TRANSACTION_PGI    205444 non-null object\n",
      "IMAGE_NUM          205519 non-null int64\n",
      "TRANSACTION_TP     205519 non-null object\n",
      "ENTITY_TP          205365 non-null object\n",
      "NAME               205510 non-null object\n",
      "CITY               205373 non-null object\n",
      "STATE              205151 non-null object\n",
      "ZIP_CODE           204899 non-null object\n",
      "EMPLOYER           165614 non-null object\n",
      "OCCUPATION         171342 non-null object\n",
      "TRANSACTION_DT     205518 non-null float64\n",
      "TRANSACTION_AMT    205519 non-null int64\n",
      "OTHER_ID           29908 non-null object\n",
      "TRAN_ID            205507 non-null object\n",
      "FILE_NUM           205519 non-null int64\n",
      "MEMO_CD            5471 non-null object\n",
      "MEMO_TEXT          48980 non-null object\n",
      "SUB_ID             205519 non-null int64\n",
      "dtypes: float64(1), int64(4), object(16)\n",
      "memory usage: 34.5+ MB\n"
     ]
    }
   ],
   "source": [
    "df.info()"
   ]
  },
  {
   "cell_type": "code",
   "execution_count": null,
   "metadata": {
    "collapsed": true
   },
   "outputs": [],
   "source": [
    "pd.merge(cn)"
   ]
  },
  {
   "cell_type": "code",
   "execution_count": 371,
   "metadata": {
    "collapsed": false
   },
   "outputs": [
    {
     "name": "stdout",
     "output_type": "stream",
     "text": [
      "<class 'pandas.core.frame.DataFrame'>\n",
      "Int64Index: 3961 entries, 0 to 3960\n",
      "Data columns (total 15 columns):\n",
      "CAND_ID                 3961 non-null object\n",
      "CAND_NAME               3960 non-null object\n",
      "CAND_PTY_AFFILIATION    3956 non-null object\n",
      "CAND_ELECTION_YR        3961 non-null int64\n",
      "CAND_OFFICE_ST          3961 non-null object\n",
      "CAND_OFFICE             3961 non-null object\n",
      "CAND_OFFICE_DISTRICT    3949 non-null float64\n",
      "CAND_ICI                3875 non-null object\n",
      "CAND_STATUS             3956 non-null object\n",
      "CAND_PCC                3696 non-null object\n",
      "CAND_ST1                3868 non-null object\n",
      "CAND_ST2                125 non-null object\n",
      "CAND_CITY               3957 non-null object\n",
      "CAND_ST                 3896 non-null object\n",
      "CAND_ZIP                3866 non-null float64\n",
      "dtypes: float64(2), int64(1), object(12)\n",
      "memory usage: 495.1+ KB\n"
     ]
    }
   ],
   "source": [
    "cn.info()"
   ]
  },
  {
   "cell_type": "code",
   "execution_count": 415,
   "metadata": {
    "collapsed": false
   },
   "outputs": [
    {
     "data": {
      "text/plain": [
       "0       AK\n",
       "1       AL\n",
       "2       AL\n",
       "3       AL\n",
       "4       AL\n",
       "        ..\n",
       "3956    VT\n",
       "3957    WA\n",
       "3958    WA\n",
       "3959    WI\n",
       "3960    WI\n",
       "Name: CAND_ST, dtype: object"
      ]
     },
     "execution_count": 415,
     "metadata": {},
     "output_type": "execute_result"
    }
   ],
   "source": [
    "cn.CAND_ST"
   ]
  },
  {
   "cell_type": "code",
   "execution_count": 418,
   "metadata": {
    "collapsed": false
   },
   "outputs": [
    {
     "data": {
      "text/html": [
       "<div>\n",
       "<table border=\"1\" class=\"dataframe\">\n",
       "  <thead>\n",
       "    <tr style=\"text-align: right;\">\n",
       "      <th></th>\n",
       "      <th>TRANSACTION_PGI</th>\n",
       "      <th>ENTITY_TP</th>\n",
       "      <th>NAME</th>\n",
       "      <th>EMPLOYER</th>\n",
       "      <th>OCCUPATION</th>\n",
       "      <th>TRANSACTION_DT</th>\n",
       "      <th>TRANSACTION_AMT</th>\n",
       "      <th>CAND_NAME</th>\n",
       "      <th>CAND_PTY_AFFILIATION</th>\n",
       "      <th>CAND_OFFICE</th>\n",
       "      <th>CAND_ST</th>\n",
       "    </tr>\n",
       "  </thead>\n",
       "  <tbody>\n",
       "    <tr>\n",
       "      <th>0</th>\n",
       "      <td>P</td>\n",
       "      <td>COM</td>\n",
       "      <td>ADAM SCHIFF FOR CONGRESS</td>\n",
       "      <td>NaN</td>\n",
       "      <td>NaN</td>\n",
       "      <td>3062015</td>\n",
       "      <td>1000</td>\n",
       "      <td>SCHIFF, ADAM</td>\n",
       "      <td>DEM</td>\n",
       "      <td>H</td>\n",
       "      <td>CA</td>\n",
       "    </tr>\n",
       "    <tr>\n",
       "      <th>1</th>\n",
       "      <td>P</td>\n",
       "      <td>ORG</td>\n",
       "      <td>SCHIFF FOR CONGRESS</td>\n",
       "      <td>NaN</td>\n",
       "      <td>NaN</td>\n",
       "      <td>3102015</td>\n",
       "      <td>1000</td>\n",
       "      <td>SCHIFF, ADAM</td>\n",
       "      <td>DEM</td>\n",
       "      <td>H</td>\n",
       "      <td>CA</td>\n",
       "    </tr>\n",
       "    <tr>\n",
       "      <th>2</th>\n",
       "      <td>P</td>\n",
       "      <td>CCM</td>\n",
       "      <td>SCHIFF FOR CONGRESS</td>\n",
       "      <td>NaN</td>\n",
       "      <td>NaN</td>\n",
       "      <td>2202015</td>\n",
       "      <td>1000</td>\n",
       "      <td>SCHIFF, ADAM</td>\n",
       "      <td>DEM</td>\n",
       "      <td>H</td>\n",
       "      <td>CA</td>\n",
       "    </tr>\n",
       "    <tr>\n",
       "      <th>3</th>\n",
       "      <td>P</td>\n",
       "      <td>CCM</td>\n",
       "      <td>SCHIFF FOR CONGRESS</td>\n",
       "      <td>NaN</td>\n",
       "      <td>NaN</td>\n",
       "      <td>2232015</td>\n",
       "      <td>1000</td>\n",
       "      <td>SCHIFF, ADAM</td>\n",
       "      <td>DEM</td>\n",
       "      <td>H</td>\n",
       "      <td>CA</td>\n",
       "    </tr>\n",
       "    <tr>\n",
       "      <th>4</th>\n",
       "      <td>P</td>\n",
       "      <td>CCM</td>\n",
       "      <td>SCHIFF FOR CONGRESS</td>\n",
       "      <td>NaN</td>\n",
       "      <td>NaN</td>\n",
       "      <td>2252015</td>\n",
       "      <td>1000</td>\n",
       "      <td>SCHIFF, ADAM</td>\n",
       "      <td>DEM</td>\n",
       "      <td>H</td>\n",
       "      <td>CA</td>\n",
       "    </tr>\n",
       "  </tbody>\n",
       "</table>\n",
       "</div>"
      ],
      "text/plain": [
       "  TRANSACTION_PGI ENTITY_TP                      NAME  EMPLOYER  OCCUPATION  \\\n",
       "0               P       COM  ADAM SCHIFF FOR CONGRESS       NaN         NaN   \n",
       "1               P       ORG       SCHIFF FOR CONGRESS       NaN         NaN   \n",
       "2               P       CCM       SCHIFF FOR CONGRESS       NaN         NaN   \n",
       "3               P       CCM       SCHIFF FOR CONGRESS       NaN         NaN   \n",
       "4               P       CCM       SCHIFF FOR CONGRESS       NaN         NaN   \n",
       "\n",
       "   TRANSACTION_DT  TRANSACTION_AMT     CAND_NAME CAND_PTY_AFFILIATION  \\\n",
       "0         3062015             1000  SCHIFF, ADAM                  DEM   \n",
       "1         3102015             1000  SCHIFF, ADAM                  DEM   \n",
       "2         2202015             1000  SCHIFF, ADAM                  DEM   \n",
       "3         2232015             1000  SCHIFF, ADAM                  DEM   \n",
       "4         2252015             1000  SCHIFF, ADAM                  DEM   \n",
       "\n",
       "  CAND_OFFICE CAND_ST  \n",
       "0           H      CA  \n",
       "1           H      CA  \n",
       "2           H      CA  \n",
       "3           H      CA  \n",
       "4           H      CA  "
      ]
     },
     "execution_count": 418,
     "metadata": {},
     "output_type": "execute_result"
    }
   ],
   "source": [
    "don = pd.merge(cc, cn[['CAND_ID', 'CAND_NAME', 'CAND_PTY_AFFILIATION', 'CAND_OFFICE', 'CAND_ST']])\n",
    "don = don[['TRANSACTION_PGI', 'ENTITY_TP', 'NAME', 'EMPLOYER', 'OCCUPATION',\n",
    "           'TRANSACTION_DT', 'TRANSACTION_AMT', 'CAND_NAME', 'CAND_PTY_AFFILIATION',\n",
    "           'CAND_OFFICE', 'CAND_ST']]\n",
    "don.head()"
   ]
  },
  {
   "cell_type": "code",
   "execution_count": 385,
   "metadata": {
    "collapsed": false
   },
   "outputs": [
    {
     "data": {
      "text/plain": [
       "array(['DEM', 'REP', 'DFL', 'UNK', 'IND', 'LIB'], dtype=object)"
      ]
     },
     "execution_count": 385,
     "metadata": {},
     "output_type": "execute_result"
    }
   ],
   "source": [
    "don.CAND_PTY_AFFILIATION.unique()"
   ]
  },
  {
   "cell_type": "code",
   "execution_count": 386,
   "metadata": {
    "collapsed": false
   },
   "outputs": [
    {
     "data": {
      "text/plain": [
       "REP    15291\n",
       "DEM     8213\n",
       "UNK      111\n",
       "DFL      101\n",
       "IND       16\n",
       "LIB        2\n",
       "dtype: int64"
      ]
     },
     "execution_count": 386,
     "metadata": {},
     "output_type": "execute_result"
    }
   ],
   "source": [
    "don.CAND_PTY_AFFILIATION.value_counts()"
   ]
  },
  {
   "cell_type": "code",
   "execution_count": 387,
   "metadata": {
    "collapsed": false
   },
   "outputs": [
    {
     "data": {
      "text/plain": [
       "FRIENDS OF PAT TOOMEY                              232\n",
       "FRIENDS OF SCHUMER                                 221\n",
       "TIM SCOTT FOR SENATE                               188\n",
       "FRIENDS OF ROY BLUNT                               187\n",
       "PORTMAN FOR SENATE COMMITTEE                       180\n",
       "                                                  ... \n",
       "RELY ON YOUR BELIEFS POLITICAL ACTION COMMITTEE      1\n",
       "HOEVEN FOR U.S. SENATE                               1\n",
       "JOHN HARDY ISAKSON                                   1\n",
       "RICHARD NEAL FOR HOUSE                               1\n",
       "LOFGREN FOR CONGRESS/C00289603                       1\n",
       "dtype: int64"
      ]
     },
     "execution_count": 387,
     "metadata": {},
     "output_type": "execute_result"
    }
   ],
   "source": [
    "don.NAME.value_counts()"
   ]
  },
  {
   "cell_type": "code",
   "execution_count": 510,
   "metadata": {
    "collapsed": false
   },
   "outputs": [],
   "source": [
    "x = don.groupby(['CAND_PTY_AFFILIATION', 'CAND_ST']).TRANSACTION_AMT.sum().unstack('CAND_PTY_AFFILIATION')[['DEM', 'REP']]\n",
    "x = x.fillna(0)\n",
    "x[x<=0] = 0"
   ]
  },
  {
   "cell_type": "code",
   "execution_count": 514,
   "metadata": {
    "collapsed": false
   },
   "outputs": [
    {
     "data": {
      "text/plain": [
       "<matplotlib.axes._subplots.AxesSubplot at 0x17a65dd68>"
      ]
     },
     "execution_count": 514,
     "metadata": {},
     "output_type": "execute_result"
    },
    {
     "data": {
      "image/png": "[encoded data removed]",
      "text/plain": [
       "<matplotlib.figure.Figure at 0x17a633860>"
      ]
     },
     "metadata": {},
     "output_type": "display_data"
    }
   ],
   "source": [
    "x.sort('DEM').plot(kind='barh', figsize=(5, 20), color=['blue', 'red'])"
   ]
  },
  {
   "cell_type": "code",
   "execution_count": 515,
   "metadata": {
    "collapsed": true
   },
   "outputs": [],
   "source": [
    "# random"
   ]
  },
  {
   "cell_type": "code",
   "execution_count": 525,
   "metadata": {
    "collapsed": false
   },
   "outputs": [],
   "source": [
    "query = \"\"\"\n",
    "select distinct * from image natural join parsed\n",
    "where dt > TIMESTAMP \"2015-05-05T21:00:00\"\n",
    "  and parser in ('roving', 'template')\n",
    "order by dt desc;\n",
    "\"\"\"\n",
    "\n",
    "from ocr.server import make_engine\n",
    "\n",
    "engine = make_engine.make_engine(kind='rds', db='taugspurger')\n",
    "parsed = pd.read_sql_query(query, engine)"
   ]
  },
  {
   "cell_type": "code",
   "execution_count": 536,
   "metadata": {
    "collapsed": false
   },
   "outputs": [],
   "source": [
    "price = parsed.set_index(['parser', 'fuel_type', 'dt']).price.sort_index()\n",
    "price = price.groupby(level=[0, 1, 2]).first()  # dedupe 6 values"
   ]
  },
  {
   "cell_type": "code",
   "execution_count": 537,
   "metadata": {
    "collapsed": false
   },
   "outputs": [
    {
     "data": {
      "text/plain": [
       "True"
      ]
     },
     "execution_count": 537,
     "metadata": {},
     "output_type": "execute_result"
    }
   ],
   "source": [
    "price.index.is_unique"
   ]
  },
  {
   "cell_type": "code",
   "execution_count": 550,
   "metadata": {
    "collapsed": false
   },
   "outputs": [
    {
     "data": {
      "text/plain": [
       "False"
      ]
     },
     "execution_count": 550,
     "metadata": {},
     "output_type": "execute_result"
    }
   ],
   "source": [
    "x = price.unstack('parser').dropna()\n",
    "(x.roving != x.template).any()"
   ]
  },
  {
   "cell_type": "code",
   "execution_count": null,
   "metadata": {
    "collapsed": true
   },
   "outputs": [],
   "source": []
  },
  {
   "cell_type": "code",
   "execution_count": 394,
   "metadata": {
    "collapsed": false
   },
   "outputs": [
    {
     "name": "stdout",
     "output_type": "stream",
     "text": [
      "NAME\n",
      "SUSAN GAGE CATERERS                            3\n",
      "CHAMBERS LOPEZ STRATEGIES                      2\n",
      "DEMOCRATIC CONGRESSIONAL CAMPAIGN COMMITTEE    2\n",
      "WILLARD HOTEL                                  2\n",
      "MENUS                                          2\n",
      "RODNEY DAVIS FOR CONGRESS                      2\n",
      "IAO PROPERTY HOLDINGS LLC                      2\n",
      "UNITED PARCEL SERVICE INC.                     2\n",
      "AMERICAN INSTITUTE OF CPAS                     2\n",
      "WASHINGTON NATIONALS                           2\n",
      "CLUB FOR GROWTH                                2\n",
      "VAN SCOYOC ASSOCIATES, INC.                    2\n",
      "VAN SCOYOC ASSOCIATES, INC. PAC                2\n",
      "HONEYWELL INTERNATIONAL                        2\n",
      "SCHNEIDER'S OF CAPITOL HILL                    2\n",
      "AUERBACH, LEOR                                 2\n",
      "DONOVAN FOR CONGRESS                           2\n",
      "FINANCIAL INNOVATIONS                          2\n",
      "CITIZENS FOR BOYLE                             2\n",
      "RON JOHNSON FOR SENATE                         2\n",
      "Name: CAND_PTY_AFFILIATION, dtype: int64\n"
     ]
    }
   ],
   "source": [
    "with pd.option_context('display.max_rows', 20):\n",
    "    print(don.groupby(\"NAME\")\n",
    "             .CAND_PTY_AFFILIATION\n",
    "             .nunique()\n",
    "             .order(ascending=False)\n",
    "             .head(20))"
   ]
  },
  {
   "cell_type": "code",
   "execution_count": 404,
   "metadata": {
    "collapsed": false
   },
   "outputs": [
    {
     "data": {
      "text/html": [
       "<div>\n",
       "<table border=\"1\" class=\"dataframe\">\n",
       "  <thead>\n",
       "    <tr style=\"text-align: right;\">\n",
       "      <th></th>\n",
       "      <th>TRANSACTION_PGI</th>\n",
       "      <th>ENTITY_TP</th>\n",
       "      <th>NAME</th>\n",
       "      <th>EMPLOYER</th>\n",
       "      <th>OCCUPATION</th>\n",
       "      <th>TRANSACTION_DT</th>\n",
       "      <th>TRANSACTION_AMT</th>\n",
       "      <th>CAND_NAME</th>\n",
       "      <th>CAND_PTY_AFFILIATION</th>\n",
       "      <th>CAND_OFFICE</th>\n",
       "    </tr>\n",
       "  </thead>\n",
       "  <tbody>\n",
       "    <tr>\n",
       "      <th>6624</th>\n",
       "      <td>P</td>\n",
       "      <td>PTY</td>\n",
       "      <td>DEMOCRATIC CONGRESSIONAL CAMPAIGN COMMITTEE</td>\n",
       "      <td>NaN</td>\n",
       "      <td>NaN</td>\n",
       "      <td>3252015</td>\n",
       "      <td>483</td>\n",
       "      <td>NOLAN, RICHARD M.</td>\n",
       "      <td>DFL</td>\n",
       "      <td>H</td>\n",
       "    </tr>\n",
       "  </tbody>\n",
       "</table>\n",
       "</div>"
      ],
      "text/plain": [
       "     TRANSACTION_PGI ENTITY_TP                                         NAME  \\\n",
       "6624               P       PTY  DEMOCRATIC CONGRESSIONAL CAMPAIGN COMMITTEE   \n",
       "\n",
       "      EMPLOYER  OCCUPATION  TRANSACTION_DT  TRANSACTION_AMT  \\\n",
       "6624       NaN         NaN         3252015              483   \n",
       "\n",
       "              CAND_NAME CAND_PTY_AFFILIATION CAND_OFFICE  \n",
       "6624  NOLAN, RICHARD M.                  DFL           H  "
      ]
     },
     "execution_count": 404,
     "metadata": {},
     "output_type": "execute_result"
    }
   ],
   "source": [
    "don.query('NAME == \"DEMOCRATIC CONGRESSIONAL CAMPAIGN COMMITTEE\" & CAND_PTY_AFFILIATION != \"DEM\"')"
   ]
  },
  {
   "cell_type": "code",
   "execution_count": 408,
   "metadata": {
    "collapsed": false
   },
   "outputs": [
    {
     "data": {
      "text/plain": [
       "NAME                                   CAND_PTY_AFFILIATION\n",
       "JASON SMITH FOR CONGRESS               REP                     0.007055\n",
       "SUSAN GAGE CATERERS                    UNK                     0.020505\n",
       "HONEYWELL INTERNATIONAL                UNK                     0.023810\n",
       "CLUB FOR GROWTH                        DEM                     0.028845\n",
       "DONOVAN FOR CONGRESS                   DEM                     0.031024\n",
       "                                                                 ...   \n",
       "DEBBIE WASSERMAN SCHULTZ FOR CONGRESS  DEM                          NaN\n",
       "ERNST VICTORY                          REP                          NaN\n",
       "FRELINGHUYSEN, RODNEY P. REP.          REP                          NaN\n",
       "FRIENDS OF JARED POLIS COMMITTEE       DEM                          NaN\n",
       "RUDY HOBBS FOR CONGRESS                DEM                          NaN\n",
       "Name: TRANSACTION_AMT, dtype: float64"
      ]
     },
     "execution_count": 408,
     "metadata": {},
     "output_type": "execute_result"
    }
   ],
   "source": [
    "ratio = (don.groupby(['NAME', 'CAND_PTY_AFFILIATION']).TRANSACTION_AMT.sum()\n",
    "            .groupby(level='NAME').transform(lambda x: x / x.sum()))\n",
    "ratio.order()"
   ]
  },
  {
   "cell_type": "code",
   "execution_count": 412,
   "metadata": {
    "collapsed": false
   },
   "outputs": [
    {
     "data": {
      "text/plain": [
       "CAND_PTY_AFFILIATION\n",
       "REP    0.007055\n",
       "UNK    0.992945\n",
       "Name: TRANSACTION_AMT, dtype: float64"
      ]
     },
     "execution_count": 412,
     "metadata": {},
     "output_type": "execute_result"
    }
   ],
   "source": [
    "ratio.order().xs('JASON SMITH FOR CONGRESS')"
   ]
  },
  {
   "cell_type": "code",
   "execution_count": 380,
   "metadata": {
    "collapsed": true
   },
   "outputs": [],
   "source": [
    "don['CAND_PTY_AFFILIATION'] = don['CAND_PTY_AFFILIATION'].astype('category')\n",
    "don['NAME']"
   ]
  },
  {
   "cell_type": "code",
   "execution_count": null,
   "metadata": {
    "collapsed": true
   },
   "outputs": [],
   "source": [
    "don.groupby('CAND_PTY_AFFILIATION')"
   ]
  },
  {
   "cell_type": "code",
   "execution_count": 430,
   "metadata": {
    "collapsed": false
   },
   "outputs": [
    {
     "data": {
      "text/plain": [
       "<matplotlib.axes._subplots.AxesSubplot at 0x15ca7e518>"
      ]
     },
     "execution_count": 430,
     "metadata": {},
     "output_type": "execute_result"
    },
    {
     "data": {
      "image/png": "[encoded data removed]",
      "text/plain": [
       "<matplotlib.figure.Figure at 0x16445cb00>"
      ]
     },
     "metadata": {},
     "output_type": "display_data"
    }
   ],
   "source": [
    "don.groupby(\"CAND_ST\").TRANSACTION_AMT.sum().order().plot(kind='barh', figsize=(5, 20))"
   ]
  },
  {
   "cell_type": "code",
   "execution_count": 438,
   "metadata": {
    "collapsed": true
   },
   "outputs": [],
   "source": [
    "import statsmodels.api as sm"
   ]
  },
  {
   "cell_type": "code",
   "execution_count": 469,
   "metadata": {
    "collapsed": false
   },
   "outputs": [
    {
     "data": {
      "text/plain": [
       "'1700.0'"
      ]
     },
     "execution_count": 469,
     "metadata": {},
     "output_type": "execute_result"
    }
   ],
   "source": [
    "str(dta.YEAR.min())"
   ]
  },
  {
   "cell_type": "code",
   "execution_count": 472,
   "metadata": {
    "collapsed": false
   },
   "outputs": [],
   "source": [
    "dta = sm.datasets.sunspots.load_pandas().data\n",
    "dta['YEAR'] = dta.YEAR.astype(int)\n",
    "dta.index = pd.date_range(start=str(dta.YEAR.min()), end=str(dta.YEAR.max()), freq='AS')\n",
    "dta = dta.drop('YEAR', axis=1)"
   ]
  },
  {
   "cell_type": "code",
   "execution_count": 479,
   "metadata": {
    "collapsed": false
   },
   "outputs": [
    {
     "ename": "NonGuiException",
     "evalue": "",
     "output_type": "error",
     "traceback": [
      "\u001b[0;31m---------------------------------------------------------------------------\u001b[0m",
      "\u001b[0;31mNonGuiException\u001b[0m                           Traceback (most recent call last)",
      "\u001b[0;32m<ipython-input-479-fd8ef250aeb4>\u001b[0m in \u001b[0;36m<module>\u001b[0;34m()\u001b[0m\n\u001b[0;32m----> 1\u001b[0;31m \u001b[0m_\u001b[0m \u001b[0;34m=\u001b[0m \u001b[0mdta\u001b[0m\u001b[0;34m.\u001b[0m\u001b[0mplot\u001b[0m\u001b[0;34m(\u001b[0m\u001b[0;34m)\u001b[0m\u001b[0;34m;\u001b[0m\u001b[0;34m\u001b[0m\u001b[0m\n\u001b[0m",
      "\u001b[0;32m/Users/tom.augspurger/Envs/py3/lib/python3.4/site-packages/pandas-0.16.2_11_gd8a2f30-py3.4-macosx-10.10-x86_64.egg/pandas/tools/plotting.py\u001b[0m in \u001b[0;36mplot_frame\u001b[0;34m(data, x, y, kind, ax, subplots, sharex, sharey, layout, figsize, use_index, title, grid, legend, style, logx, logy, loglog, xticks, yticks, xlim, ylim, rot, fontsize, colormap, table, yerr, xerr, secondary_y, sort_columns, **kwds)\u001b[0m\n\u001b[1;32m   2486\u001b[0m                  \u001b[0myerr\u001b[0m\u001b[0;34m=\u001b[0m\u001b[0myerr\u001b[0m\u001b[0;34m,\u001b[0m \u001b[0mxerr\u001b[0m\u001b[0;34m=\u001b[0m\u001b[0mxerr\u001b[0m\u001b[0;34m,\u001b[0m\u001b[0;34m\u001b[0m\u001b[0m\n\u001b[1;32m   2487\u001b[0m                  \u001b[0msecondary_y\u001b[0m\u001b[0;34m=\u001b[0m\u001b[0msecondary_y\u001b[0m\u001b[0;34m,\u001b[0m \u001b[0msort_columns\u001b[0m\u001b[0;34m=\u001b[0m\u001b[0msort_columns\u001b[0m\u001b[0;34m,\u001b[0m\u001b[0;34m\u001b[0m\u001b[0m\n\u001b[0;32m-> 2488\u001b[0;31m                  **kwds)\n\u001b[0m\u001b[1;32m   2489\u001b[0m \u001b[0;34m\u001b[0m\u001b[0m\n\u001b[1;32m   2490\u001b[0m \u001b[0;34m\u001b[0m\u001b[0m\n",
      "\u001b[0;32m/Users/tom.augspurger/Envs/py3/lib/python3.4/site-packages/pandas-0.16.2_11_gd8a2f30-py3.4-macosx-10.10-x86_64.egg/pandas/tools/plotting.py\u001b[0m in \u001b[0;36m_plot\u001b[0;34m(data, x, y, subplots, ax, kind, **kwds)\u001b[0m\n\u001b[1;32m   2322\u001b[0m         \u001b[0mplot_obj\u001b[0m \u001b[0;34m=\u001b[0m \u001b[0mklass\u001b[0m\u001b[0;34m(\u001b[0m\u001b[0mdata\u001b[0m\u001b[0;34m,\u001b[0m \u001b[0msubplots\u001b[0m\u001b[0;34m=\u001b[0m\u001b[0msubplots\u001b[0m\u001b[0;34m,\u001b[0m \u001b[0max\u001b[0m\u001b[0;34m=\u001b[0m\u001b[0max\u001b[0m\u001b[0;34m,\u001b[0m \u001b[0mkind\u001b[0m\u001b[0;34m=\u001b[0m\u001b[0mkind\u001b[0m\u001b[0;34m,\u001b[0m \u001b[0;34m**\u001b[0m\u001b[0mkwds\u001b[0m\u001b[0;34m)\u001b[0m\u001b[0;34m\u001b[0m\u001b[0m\n\u001b[1;32m   2323\u001b[0m \u001b[0;34m\u001b[0m\u001b[0m\n\u001b[0;32m-> 2324\u001b[0;31m     \u001b[0mplot_obj\u001b[0m\u001b[0;34m.\u001b[0m\u001b[0mgenerate\u001b[0m\u001b[0;34m(\u001b[0m\u001b[0;34m)\u001b[0m\u001b[0;34m\u001b[0m\u001b[0m\n\u001b[0m\u001b[1;32m   2325\u001b[0m     \u001b[0mplot_obj\u001b[0m\u001b[0;34m.\u001b[0m\u001b[0mdraw\u001b[0m\u001b[0;34m(\u001b[0m\u001b[0;34m)\u001b[0m\u001b[0;34m\u001b[0m\u001b[0m\n\u001b[1;32m   2326\u001b[0m     \u001b[0;32mreturn\u001b[0m \u001b[0mplot_obj\u001b[0m\u001b[0;34m.\u001b[0m\u001b[0mresult\u001b[0m\u001b[0;34m\u001b[0m\u001b[0m\n",
      "\u001b[0;32m/Users/tom.augspurger/Envs/py3/lib/python3.4/site-packages/pandas-0.16.2_11_gd8a2f30-py3.4-macosx-10.10-x86_64.egg/pandas/tools/plotting.py\u001b[0m in \u001b[0;36mgenerate\u001b[0;34m(self)\u001b[0m\n\u001b[1;32m    912\u001b[0m         \u001b[0mself\u001b[0m\u001b[0;34m.\u001b[0m\u001b[0m_compute_plot_data\u001b[0m\u001b[0;34m(\u001b[0m\u001b[0;34m)\u001b[0m\u001b[0;34m\u001b[0m\u001b[0m\n\u001b[1;32m    913\u001b[0m         \u001b[0mself\u001b[0m\u001b[0;34m.\u001b[0m\u001b[0m_setup_subplots\u001b[0m\u001b[0;34m(\u001b[0m\u001b[0;34m)\u001b[0m\u001b[0;34m\u001b[0m\u001b[0m\n\u001b[0;32m--> 914\u001b[0;31m         \u001b[0mself\u001b[0m\u001b[0;34m.\u001b[0m\u001b[0m_make_plot\u001b[0m\u001b[0;34m(\u001b[0m\u001b[0;34m)\u001b[0m\u001b[0;34m\u001b[0m\u001b[0m\n\u001b[0m\u001b[1;32m    915\u001b[0m         \u001b[0mself\u001b[0m\u001b[0;34m.\u001b[0m\u001b[0m_add_table\u001b[0m\u001b[0;34m(\u001b[0m\u001b[0;34m)\u001b[0m\u001b[0;34m\u001b[0m\u001b[0m\n\u001b[1;32m    916\u001b[0m         \u001b[0mself\u001b[0m\u001b[0;34m.\u001b[0m\u001b[0m_make_legend\u001b[0m\u001b[0;34m(\u001b[0m\u001b[0;34m)\u001b[0m\u001b[0;34m\u001b[0m\u001b[0m\n",
      "\u001b[0;32m/Users/tom.augspurger/Envs/py3/lib/python3.4/site-packages/pandas-0.16.2_11_gd8a2f30-py3.4-macosx-10.10-x86_64.egg/pandas/tools/plotting.py\u001b[0m in \u001b[0;36m_make_plot\u001b[0;34m(self)\u001b[0m\n\u001b[1;32m   1623\u001b[0m             \u001b[0mkwds\u001b[0m\u001b[0;34m[\u001b[0m\u001b[0;34m'label'\u001b[0m\u001b[0;34m]\u001b[0m \u001b[0;34m=\u001b[0m \u001b[0mlabel\u001b[0m\u001b[0;34m\u001b[0m\u001b[0m\n\u001b[1;32m   1624\u001b[0m \u001b[0;34m\u001b[0m\u001b[0m\n\u001b[0;32m-> 1625\u001b[0;31m             \u001b[0mnewlines\u001b[0m \u001b[0;34m=\u001b[0m \u001b[0mplotf\u001b[0m\u001b[0;34m(\u001b[0m\u001b[0max\u001b[0m\u001b[0;34m,\u001b[0m \u001b[0mx\u001b[0m\u001b[0;34m,\u001b[0m \u001b[0my\u001b[0m\u001b[0;34m,\u001b[0m \u001b[0mstyle\u001b[0m\u001b[0;34m=\u001b[0m\u001b[0mstyle\u001b[0m\u001b[0;34m,\u001b[0m \u001b[0mcolumn_num\u001b[0m\u001b[0;34m=\u001b[0m\u001b[0mi\u001b[0m\u001b[0;34m,\u001b[0m \u001b[0;34m**\u001b[0m\u001b[0mkwds\u001b[0m\u001b[0;34m)\u001b[0m\u001b[0;34m\u001b[0m\u001b[0m\n\u001b[0m\u001b[1;32m   1626\u001b[0m             \u001b[0mself\u001b[0m\u001b[0;34m.\u001b[0m\u001b[0m_add_legend_handle\u001b[0m\u001b[0;34m(\u001b[0m\u001b[0mnewlines\u001b[0m\u001b[0;34m[\u001b[0m\u001b[0;36m0\u001b[0m\u001b[0;34m]\u001b[0m\u001b[0;34m,\u001b[0m \u001b[0mlabel\u001b[0m\u001b[0;34m,\u001b[0m \u001b[0mindex\u001b[0m\u001b[0;34m=\u001b[0m\u001b[0mi\u001b[0m\u001b[0;34m)\u001b[0m\u001b[0;34m\u001b[0m\u001b[0m\n\u001b[1;32m   1627\u001b[0m \u001b[0;34m\u001b[0m\u001b[0m\n",
      "\u001b[0;32m/Users/tom.augspurger/Envs/py3/lib/python3.4/site-packages/pandas-0.16.2_11_gd8a2f30-py3.4-macosx-10.10-x86_64.egg/pandas/tools/plotting.py\u001b[0m in \u001b[0;36m_plot\u001b[0;34m(ax, x, data, style, **kwds)\u001b[0m\n\u001b[1;32m   1660\u001b[0m             \u001b[0;31m# accept x to be consistent with normal plot func,\u001b[0m\u001b[0;34m\u001b[0m\u001b[0;34m\u001b[0m\u001b[0m\n\u001b[1;32m   1661\u001b[0m             \u001b[0;31m# x is not passed to tsplot as it uses data.index as x coordinate\u001b[0m\u001b[0;34m\u001b[0m\u001b[0;34m\u001b[0m\u001b[0m\n\u001b[0;32m-> 1662\u001b[0;31m             \u001b[0mlines\u001b[0m \u001b[0;34m=\u001b[0m \u001b[0mtsplot\u001b[0m\u001b[0;34m(\u001b[0m\u001b[0mdata\u001b[0m\u001b[0;34m,\u001b[0m \u001b[0mplotf\u001b[0m\u001b[0;34m,\u001b[0m \u001b[0max\u001b[0m\u001b[0;34m=\u001b[0m\u001b[0max\u001b[0m\u001b[0;34m,\u001b[0m \u001b[0mstyle\u001b[0m\u001b[0;34m=\u001b[0m\u001b[0mstyle\u001b[0m\u001b[0;34m,\u001b[0m \u001b[0;34m**\u001b[0m\u001b[0mkwds\u001b[0m\u001b[0;34m)\u001b[0m\u001b[0;34m\u001b[0m\u001b[0m\n\u001b[0m\u001b[1;32m   1663\u001b[0m             \u001b[0;32mreturn\u001b[0m \u001b[0mlines\u001b[0m\u001b[0;34m\u001b[0m\u001b[0m\n\u001b[1;32m   1664\u001b[0m         \u001b[0;32mreturn\u001b[0m \u001b[0m_plot\u001b[0m\u001b[0;34m\u001b[0m\u001b[0m\n",
      "\u001b[0;32m/Users/tom.augspurger/Envs/py3/lib/python3.4/site-packages/pandas-0.16.2_11_gd8a2f30-py3.4-macosx-10.10-x86_64.egg/pandas/tseries/plotting.py\u001b[0m in \u001b[0;36mtsplot\u001b[0;34m(series, plotf, **kwargs)\u001b[0m\n\u001b[1;32m     61\u001b[0m \u001b[0;34m\u001b[0m\u001b[0m\n\u001b[1;32m     62\u001b[0m     \u001b[0;31m# set date formatter, locators and rescale limits\u001b[0m\u001b[0;34m\u001b[0m\u001b[0;34m\u001b[0m\u001b[0m\n\u001b[0;32m---> 63\u001b[0;31m     \u001b[0mformat_dateaxis\u001b[0m\u001b[0;34m(\u001b[0m\u001b[0max\u001b[0m\u001b[0;34m,\u001b[0m \u001b[0max\u001b[0m\u001b[0;34m.\u001b[0m\u001b[0mfreq\u001b[0m\u001b[0;34m)\u001b[0m\u001b[0;34m\u001b[0m\u001b[0m\n\u001b[0m\u001b[1;32m     64\u001b[0m \u001b[0;34m\u001b[0m\u001b[0m\n\u001b[1;32m     65\u001b[0m     \u001b[0;31m# x and y coord info\u001b[0m\u001b[0;34m\u001b[0m\u001b[0;34m\u001b[0m\u001b[0m\n",
      "\u001b[0;32m/Users/tom.augspurger/Envs/py3/lib/python3.4/site-packages/pandas-0.16.2_11_gd8a2f30-py3.4-macosx-10.10-x86_64.egg/pandas/tseries/plotting.py\u001b[0m in \u001b[0;36mformat_dateaxis\u001b[0;34m(subplot, freq)\u001b[0m\n\u001b[1;32m    220\u001b[0m     \u001b[0msubplot\u001b[0m\u001b[0;34m.\u001b[0m\u001b[0mxaxis\u001b[0m\u001b[0;34m.\u001b[0m\u001b[0mset_major_formatter\u001b[0m\u001b[0;34m(\u001b[0m\u001b[0mmajformatter\u001b[0m\u001b[0;34m)\u001b[0m\u001b[0;34m\u001b[0m\u001b[0m\n\u001b[1;32m    221\u001b[0m     \u001b[0msubplot\u001b[0m\u001b[0;34m.\u001b[0m\u001b[0mxaxis\u001b[0m\u001b[0;34m.\u001b[0m\u001b[0mset_minor_formatter\u001b[0m\u001b[0;34m(\u001b[0m\u001b[0mminformatter\u001b[0m\u001b[0;34m)\u001b[0m\u001b[0;34m\u001b[0m\u001b[0m\n\u001b[0;32m--> 222\u001b[0;31m     \u001b[0mpylab\u001b[0m\u001b[0;34m.\u001b[0m\u001b[0mdraw_if_interactive\u001b[0m\u001b[0;34m(\u001b[0m\u001b[0;34m)\u001b[0m\u001b[0;34m\u001b[0m\u001b[0m\n\u001b[0m",
      "\u001b[0;32m/Users/tom.augspurger/Envs/py3/lib/python3.4/site-packages/IPython/utils/decorators.py\u001b[0m in \u001b[0;36mwrapper\u001b[0;34m(*args, **kw)\u001b[0m\n\u001b[1;32m     41\u001b[0m     \u001b[0;32mdef\u001b[0m \u001b[0mwrapper\u001b[0m\u001b[0;34m(\u001b[0m\u001b[0;34m*\u001b[0m\u001b[0margs\u001b[0m\u001b[0;34m,\u001b[0m\u001b[0;34m**\u001b[0m\u001b[0mkw\u001b[0m\u001b[0;34m)\u001b[0m\u001b[0;34m:\u001b[0m\u001b[0;34m\u001b[0m\u001b[0m\n\u001b[1;32m     42\u001b[0m         \u001b[0mwrapper\u001b[0m\u001b[0;34m.\u001b[0m\u001b[0mcalled\u001b[0m \u001b[0;34m=\u001b[0m \u001b[0;32mFalse\u001b[0m\u001b[0;34m\u001b[0m\u001b[0m\n\u001b[0;32m---> 43\u001b[0;31m         \u001b[0mout\u001b[0m \u001b[0;34m=\u001b[0m \u001b[0mfunc\u001b[0m\u001b[0;34m(\u001b[0m\u001b[0;34m*\u001b[0m\u001b[0margs\u001b[0m\u001b[0;34m,\u001b[0m\u001b[0;34m**\u001b[0m\u001b[0mkw\u001b[0m\u001b[0;34m)\u001b[0m\u001b[0;34m\u001b[0m\u001b[0m\n\u001b[0m\u001b[1;32m     44\u001b[0m         \u001b[0mwrapper\u001b[0m\u001b[0;34m.\u001b[0m\u001b[0mcalled\u001b[0m \u001b[0;34m=\u001b[0m \u001b[0;32mTrue\u001b[0m\u001b[0;34m\u001b[0m\u001b[0m\n\u001b[1;32m     45\u001b[0m         \u001b[0;32mreturn\u001b[0m \u001b[0mout\u001b[0m\u001b[0;34m\u001b[0m\u001b[0m\n",
      "\u001b[0;32m/Users/tom.augspurger/Envs/py3/lib/python3.4/site-packages/matplotlib/backends/backend_tkagg.py\u001b[0m in \u001b[0;36mdraw_if_interactive\u001b[0;34m()\u001b[0m\n\u001b[1;32m     65\u001b[0m         \u001b[0mfigManager\u001b[0m \u001b[0;34m=\u001b[0m  \u001b[0mGcf\u001b[0m\u001b[0;34m.\u001b[0m\u001b[0mget_active\u001b[0m\u001b[0;34m(\u001b[0m\u001b[0;34m)\u001b[0m\u001b[0;34m\u001b[0m\u001b[0m\n\u001b[1;32m     66\u001b[0m         \u001b[0;32mif\u001b[0m \u001b[0mfigManager\u001b[0m \u001b[0;32mis\u001b[0m \u001b[0;32mnot\u001b[0m \u001b[0;32mNone\u001b[0m\u001b[0;34m:\u001b[0m\u001b[0;34m\u001b[0m\u001b[0m\n\u001b[0;32m---> 67\u001b[0;31m             \u001b[0mfigManager\u001b[0m\u001b[0;34m.\u001b[0m\u001b[0mshow\u001b[0m\u001b[0;34m(\u001b[0m\u001b[0;34m)\u001b[0m\u001b[0;34m\u001b[0m\u001b[0m\n\u001b[0m\u001b[1;32m     68\u001b[0m \u001b[0;34m\u001b[0m\u001b[0m\n\u001b[1;32m     69\u001b[0m \u001b[0;32mclass\u001b[0m \u001b[0mShow\u001b[0m\u001b[0;34m(\u001b[0m\u001b[0mShowBase\u001b[0m\u001b[0;34m)\u001b[0m\u001b[0;34m:\u001b[0m\u001b[0;34m\u001b[0m\u001b[0m\n",
      "\u001b[0;32m/Users/tom.augspurger/Envs/py3/lib/python3.4/site-packages/matplotlib/backend_bases.py\u001b[0m in \u001b[0;36mshow\u001b[0;34m(self)\u001b[0m\n\u001b[1;32m   2573\u001b[0m         \u001b[0moptional\u001b[0m \u001b[0mwarning\u001b[0m\u001b[0;34m.\u001b[0m\u001b[0;34m\u001b[0m\u001b[0m\n\u001b[1;32m   2574\u001b[0m         \"\"\"\n\u001b[0;32m-> 2575\u001b[0;31m         \u001b[0;32mraise\u001b[0m \u001b[0mNonGuiException\u001b[0m\u001b[0;34m(\u001b[0m\u001b[0;34m)\u001b[0m\u001b[0;34m\u001b[0m\u001b[0m\n\u001b[0m\u001b[1;32m   2576\u001b[0m \u001b[0;34m\u001b[0m\u001b[0m\n\u001b[1;32m   2577\u001b[0m     \u001b[0;32mdef\u001b[0m \u001b[0mdestroy\u001b[0m\u001b[0;34m(\u001b[0m\u001b[0mself\u001b[0m\u001b[0;34m)\u001b[0m\u001b[0;34m:\u001b[0m\u001b[0;34m\u001b[0m\u001b[0m\n",
      "\u001b[0;31mNonGuiException\u001b[0m: "
     ]
    },
    {
     "data": {
      "image/png": "[encoded data removed]",
      "text/plain": [
       "<matplotlib.figure.Figure at 0x17864ce48>"
      ]
     },
     "metadata": {},
     "output_type": "display_data"
    }
   ],
   "source": [
    "_ = dta.plot();"
   ]
  },
  {
   "cell_type": "code",
   "execution_count": 481,
   "metadata": {
    "collapsed": false
   },
   "outputs": [
    {
     "data": {
      "image/png": "[encoded data removed]",
      "text/plain": [
       "<matplotlib.figure.Figure at 0x17893f588>"
      ]
     },
     "metadata": {},
     "output_type": "display_data"
    }
   ],
   "source": [
    "fig, ax = plt.subplots()\n",
    "fig = sm.graphics.tsa.plot_acf(dta.SUNACTIVITY, lags=40, ax=ax)\n",
    "\n"
   ]
  },
  {
   "cell_type": "code",
   "execution_count": 482,
   "metadata": {
    "collapsed": true
   },
   "outputs": [],
   "source": [
    "arma_mod20 = sm.tsa.ARMA(dta, (2,0)).fit()\n"
   ]
  },
  {
   "cell_type": "code",
   "execution_count": 181,
   "metadata": {
    "collapsed": false
   },
   "outputs": [
    {
     "data": {
      "text/plain": [
       "41620     10012014.0\n",
       "41622     10012014.0\n",
       "41621     10012014.0\n",
       "41623     10012014.0\n",
       "41618     10012014.0\n",
       "             ...    \n",
       "203011     8152014.0\n",
       "203010     8152014.0\n",
       "90369      9032014.0\n",
       "22662      9162014.0\n",
       "145121           nan\n",
       "Name: TRANSACTION_DT, dtype: object"
      ]
     },
     "execution_count": 181,
     "metadata": {},
     "output_type": "execute_result"
    }
   ],
   "source": [
    "df.TRANSACTION_DT.astype(str).order()"
   ]
  },
  {
   "cell_type": "code",
   "execution_count": 186,
   "metadata": {
    "collapsed": false
   },
   "outputs": [],
   "source": [
    "s = df.TRANSACTION_DT.astype(str).str.rstrip('.0')\n",
    "s[s.str.len() == 7] = s[s.str.len() == 7].str.pad(8, fillchar='0')\n",
    "df['date'] = pd.to_datetime(s, format='%M%d%Y')"
   ]
  },
  {
   "cell_type": "code",
   "execution_count": 204,
   "metadata": {
    "collapsed": false
   },
   "outputs": [],
   "source": [
    "df['TRANSACTION_DT'] = df.TRANSACTION_DT.astype(str).str.rstrip('.0')"
   ]
  },
  {
   "cell_type": "code",
   "execution_count": 245,
   "metadata": {
    "collapsed": false
   },
   "outputs": [],
   "source": [
    "s = df.TRANSACTION_DT.copy()"
   ]
  },
  {
   "cell_type": "code",
   "execution_count": 246,
   "metadata": {
    "collapsed": false
   },
   "outputs": [],
   "source": [
    "s[s.str.len() == 7] =  s[(s.str.len() == 7)].str.pad(8, fillchar='0')"
   ]
  },
  {
   "cell_type": "code",
   "execution_count": 250,
   "metadata": {
    "collapsed": false
   },
   "outputs": [],
   "source": [
    "df['date'] = pd.to_datetime(s, format='%M%d%Y')"
   ]
  },
  {
   "cell_type": "code",
   "execution_count": 252,
   "metadata": {
    "collapsed": false
   },
   "outputs": [
    {
     "name": "stdout",
     "output_type": "stream",
     "text": [
      "<class 'pandas.core.frame.DataFrame'>\n",
      "Int64Index: 205519 entries, 0 to 205518\n",
      "Data columns (total 23 columns):\n",
      "CMTE_ID            205519 non-null object\n",
      "AMNDT_IND          205519 non-null object\n",
      "RPT_TP             205519 non-null object\n",
      "TRANSACTION_PGI    205444 non-null object\n",
      "IMAGE_NUM          205519 non-null int64\n",
      "TRANSACTION_TP     205519 non-null object\n",
      "ENTITY_TP          205365 non-null object\n",
      "NAME               205510 non-null object\n",
      "CITY               205373 non-null object\n",
      "STATE              205151 non-null object\n",
      "ZIP_CODE           204899 non-null object\n",
      "EMPLOYER           165614 non-null object\n",
      "OCCUPATION         171342 non-null object\n",
      "TRANSACTION_DT     205519 non-null object\n",
      "TRANSACTION_AMT    205519 non-null int64\n",
      "OTHER_ID           29908 non-null object\n",
      "TRAN_ID            205507 non-null object\n",
      "FILE_NUM           205519 non-null int64\n",
      "MEMO_CD            5471 non-null object\n",
      "MEMO_TEXT          48980 non-null object\n",
      "SUB_ID             205519 non-null int64\n",
      "CMTE_NM            205519 non-null object\n",
      "date               205518 non-null datetime64[ns]\n",
      "dtypes: datetime64[ns](1), int64(4), object(18)\n",
      "memory usage: 37.6+ MB\n"
     ]
    }
   ],
   "source": [
    "df.info()"
   ]
  },
  {
   "cell_type": "code",
   "execution_count": 254,
   "metadata": {
    "collapsed": false
   },
   "outputs": [
    {
     "data": {
      "text/plain": [
       "<pandas.core.groupby.DataFrameGroupBy object at 0x13bad77f0>"
      ]
     },
     "execution_count": 254,
     "metadata": {},
     "output_type": "execute_result"
    }
   ],
   "source": [
    "gr = df.groupby(\"date\")\n",
    "gr"
   ]
  },
  {
   "cell_type": "code",
   "execution_count": 261,
   "metadata": {
    "collapsed": false
   },
   "outputs": [],
   "source": [
    "# select avg(TRANSACTION_AMT) GROUP BY TRANSACTION_DT\n",
    "amt = gr.TRANSACTION_AMT.mean().sort_index()"
   ]
  },
  {
   "cell_type": "code",
   "execution_count": 265,
   "metadata": {
    "collapsed": false
   },
   "outputs": [
    {
     "data": {
      "text/plain": [
       "<matplotlib.axes._subplots.AxesSubplot at 0x13bafaf60>"
      ]
     },
     "execution_count": 265,
     "metadata": {},
     "output_type": "execute_result"
    },
    {
     "data": {
      "image/png": "[encoded data removed]",
      "text/plain": [
       "<matplotlib.figure.Figure at 0x14dbd8710>"
      ]
     },
     "metadata": {},
     "output_type": "display_data"
    }
   ],
   "source": [
    "amt.loc['2015':].plot()"
   ]
  },
  {
   "cell_type": "code",
   "execution_count": 270,
   "metadata": {
    "collapsed": false
   },
   "outputs": [
    {
     "data": {
      "text/plain": [
       "count    205519.000000\n",
       "mean       1024.927004\n",
       "std        4580.138090\n",
       "min     -226800.000000\n",
       "25%         250.000000\n",
       "50%         384.000000\n",
       "75%        1000.000000\n",
       "max      716585.000000\n",
       "Name: TRANSACTION_AMT, dtype: float64"
      ]
     },
     "execution_count": 270,
     "metadata": {},
     "output_type": "execute_result"
    }
   ],
   "source": [
    "df.TRANSACTION_AMT.describe()"
   ]
  },
  {
   "cell_type": "code",
   "execution_count": 277,
   "metadata": {
    "collapsed": false
   },
   "outputs": [
    {
     "name": "stdout",
     "output_type": "stream",
     "text": [
      "CMTE_ID                                      C00075820\n",
      "AMNDT_IND                                            N\n",
      "RPT_TP                                              M5\n",
      "TRANSACTION_PGI                                      P\n",
      "IMAGE_NUM                                  15951424351\n",
      "TRANSACTION_TP                                      15\n",
      "ENTITY_TP                                          IND\n",
      "NAME                            ADELSON, MIRIAM O. DR.\n",
      "CITY                                         LAS VEGAS\n",
      "STATE                                               NV\n",
      "ZIP_CODE                                  8.910989e+08\n",
      "EMPLOYER                           ADELSON DRUG CLINIC\n",
      "OCCUPATION                                   PHYSICIAN\n",
      "TRANSACTION_DT                                04092015\n",
      "TRANSACTION_AMT                                -226800\n",
      "OTHER_ID                                           NaN\n",
      "TRAN_ID                                  SA11.15889243\n",
      "FILE_NUM                                       1008869\n",
      "MEMO_CD                                            NaN\n",
      "MEMO_TEXT          REDESIGNATION REQUESTED (AUTOMATIC)\n",
      "SUB_ID                             4052220151243889691\n",
      "CMTE_NM                                           NRCC\n",
      "date                               2015-01-09 00:04:00\n",
      "Name: 76963, dtype: object\n"
     ]
    }
   ],
   "source": [
    "with pd.option_context('display.max_rows', 50):\n",
    "    print(df.loc[df.TRANSACTION_AMT.idxmin()])"
   ]
  },
  {
   "cell_type": "code",
   "execution_count": 282,
   "metadata": {
    "collapsed": false
   },
   "outputs": [
    {
     "data": {
      "text/plain": [
       "<matplotlib.axes._subplots.AxesSubplot at 0x132585550>"
      ]
     },
     "execution_count": 282,
     "metadata": {},
     "output_type": "execute_result"
    },
    {
     "data": {
      "image/png": "[encoded data removed]",
      "text/plain": [
       "<matplotlib.figure.Figure at 0x1325a4a58>"
      ]
     },
     "metadata": {},
     "output_type": "display_data"
    }
   ],
   "source": [
    "(df.query('TRANSACTION_AMT > 0')\n",
    "   .groupby('date')\n",
    "   .TRANSACTION_AMT\n",
    "   .mean()\n",
    "   .loc['2015':]\n",
    "   .pipe(np.log)\n",
    "   .plot())"
   ]
  },
  {
   "cell_type": "markdown",
   "metadata": {},
   "source": [
    "Get commitee affiliation"
   ]
  },
  {
   "cell_type": "code",
   "execution_count": 150,
   "metadata": {
    "collapsed": false
   },
   "outputs": [
    {
     "ename": "KeyError",
     "evalue": "\"['CAND_PTY'] not in index\"",
     "output_type": "error",
     "traceback": [
      "\u001b[0;31m---------------------------------------------------------------------------\u001b[0m",
      "\u001b[0;31mKeyError\u001b[0m                                  Traceback (most recent call last)",
      "\u001b[0;32m<ipython-input-150-c133c0aeaac0>\u001b[0m in \u001b[0;36m<module>\u001b[0;34m()\u001b[0m\n\u001b[0;32m----> 1\u001b[0;31m \u001b[0mcn\u001b[0m\u001b[0;34m[\u001b[0m\u001b[0;34m[\u001b[0m\u001b[0;34m'CAND_ID'\u001b[0m\u001b[0;34m,\u001b[0m \u001b[0;34m'CAND_PTY'\u001b[0m\u001b[0;34m]\u001b[0m\u001b[0;34m]\u001b[0m\u001b[0;34m\u001b[0m\u001b[0m\n\u001b[0m",
      "\u001b[0;32m/Users/tom.augspurger/Envs/py3/lib/python3.4/site-packages/pandas-0.16.2_11_gd8a2f30-py3.4-macosx-10.10-x86_64.egg/pandas/core/frame.py\u001b[0m in \u001b[0;36m__getitem__\u001b[0;34m(self, key)\u001b[0m\n\u001b[1;32m   1789\u001b[0m         \u001b[0;32mif\u001b[0m \u001b[0misinstance\u001b[0m\u001b[0;34m(\u001b[0m\u001b[0mkey\u001b[0m\u001b[0;34m,\u001b[0m \u001b[0;34m(\u001b[0m\u001b[0mSeries\u001b[0m\u001b[0;34m,\u001b[0m \u001b[0mnp\u001b[0m\u001b[0;34m.\u001b[0m\u001b[0mndarray\u001b[0m\u001b[0;34m,\u001b[0m \u001b[0mIndex\u001b[0m\u001b[0;34m,\u001b[0m \u001b[0mlist\u001b[0m\u001b[0;34m)\u001b[0m\u001b[0;34m)\u001b[0m\u001b[0;34m:\u001b[0m\u001b[0;34m\u001b[0m\u001b[0m\n\u001b[1;32m   1790\u001b[0m             \u001b[0;31m# either boolean or fancy integer index\u001b[0m\u001b[0;34m\u001b[0m\u001b[0;34m\u001b[0m\u001b[0m\n\u001b[0;32m-> 1791\u001b[0;31m             \u001b[0;32mreturn\u001b[0m \u001b[0mself\u001b[0m\u001b[0;34m.\u001b[0m\u001b[0m_getitem_array\u001b[0m\u001b[0;34m(\u001b[0m\u001b[0mkey\u001b[0m\u001b[0;34m)\u001b[0m\u001b[0;34m\u001b[0m\u001b[0m\n\u001b[0m\u001b[1;32m   1792\u001b[0m         \u001b[0;32melif\u001b[0m \u001b[0misinstance\u001b[0m\u001b[0;34m(\u001b[0m\u001b[0mkey\u001b[0m\u001b[0;34m,\u001b[0m \u001b[0mDataFrame\u001b[0m\u001b[0;34m)\u001b[0m\u001b[0;34m:\u001b[0m\u001b[0;34m\u001b[0m\u001b[0m\n\u001b[1;32m   1793\u001b[0m             \u001b[0;32mreturn\u001b[0m \u001b[0mself\u001b[0m\u001b[0;34m.\u001b[0m\u001b[0m_getitem_frame\u001b[0m\u001b[0;34m(\u001b[0m\u001b[0mkey\u001b[0m\u001b[0;34m)\u001b[0m\u001b[0;34m\u001b[0m\u001b[0m\n",
      "\u001b[0;32m/Users/tom.augspurger/Envs/py3/lib/python3.4/site-packages/pandas-0.16.2_11_gd8a2f30-py3.4-macosx-10.10-x86_64.egg/pandas/core/frame.py\u001b[0m in \u001b[0;36m_getitem_array\u001b[0;34m(self, key)\u001b[0m\n\u001b[1;32m   1833\u001b[0m             \u001b[0;32mreturn\u001b[0m \u001b[0mself\u001b[0m\u001b[0;34m.\u001b[0m\u001b[0mtake\u001b[0m\u001b[0;34m(\u001b[0m\u001b[0mindexer\u001b[0m\u001b[0;34m,\u001b[0m \u001b[0maxis\u001b[0m\u001b[0;34m=\u001b[0m\u001b[0;36m0\u001b[0m\u001b[0;34m,\u001b[0m \u001b[0mconvert\u001b[0m\u001b[0;34m=\u001b[0m\u001b[0;32mFalse\u001b[0m\u001b[0;34m)\u001b[0m\u001b[0;34m\u001b[0m\u001b[0m\n\u001b[1;32m   1834\u001b[0m         \u001b[0;32melse\u001b[0m\u001b[0;34m:\u001b[0m\u001b[0;34m\u001b[0m\u001b[0m\n\u001b[0;32m-> 1835\u001b[0;31m             \u001b[0mindexer\u001b[0m \u001b[0;34m=\u001b[0m \u001b[0mself\u001b[0m\u001b[0;34m.\u001b[0m\u001b[0mix\u001b[0m\u001b[0;34m.\u001b[0m\u001b[0m_convert_to_indexer\u001b[0m\u001b[0;34m(\u001b[0m\u001b[0mkey\u001b[0m\u001b[0;34m,\u001b[0m \u001b[0maxis\u001b[0m\u001b[0;34m=\u001b[0m\u001b[0;36m1\u001b[0m\u001b[0;34m)\u001b[0m\u001b[0;34m\u001b[0m\u001b[0m\n\u001b[0m\u001b[1;32m   1836\u001b[0m             \u001b[0;32mreturn\u001b[0m \u001b[0mself\u001b[0m\u001b[0;34m.\u001b[0m\u001b[0mtake\u001b[0m\u001b[0;34m(\u001b[0m\u001b[0mindexer\u001b[0m\u001b[0;34m,\u001b[0m \u001b[0maxis\u001b[0m\u001b[0;34m=\u001b[0m\u001b[0;36m1\u001b[0m\u001b[0;34m,\u001b[0m \u001b[0mconvert\u001b[0m\u001b[0;34m=\u001b[0m\u001b[0;32mTrue\u001b[0m\u001b[0;34m)\u001b[0m\u001b[0;34m\u001b[0m\u001b[0m\n\u001b[1;32m   1837\u001b[0m \u001b[0;34m\u001b[0m\u001b[0m\n",
      "\u001b[0;32m/Users/tom.augspurger/Envs/py3/lib/python3.4/site-packages/pandas-0.16.2_11_gd8a2f30-py3.4-macosx-10.10-x86_64.egg/pandas/core/indexing.py\u001b[0m in \u001b[0;36m_convert_to_indexer\u001b[0;34m(self, obj, axis, is_setter)\u001b[0m\n\u001b[1;32m   1110\u001b[0m                 \u001b[0mmask\u001b[0m \u001b[0;34m=\u001b[0m \u001b[0mcheck\u001b[0m \u001b[0;34m==\u001b[0m \u001b[0;34m-\u001b[0m\u001b[0;36m1\u001b[0m\u001b[0;34m\u001b[0m\u001b[0m\n\u001b[1;32m   1111\u001b[0m                 \u001b[0;32mif\u001b[0m \u001b[0mmask\u001b[0m\u001b[0;34m.\u001b[0m\u001b[0many\u001b[0m\u001b[0;34m(\u001b[0m\u001b[0;34m)\u001b[0m\u001b[0;34m:\u001b[0m\u001b[0;34m\u001b[0m\u001b[0m\n\u001b[0;32m-> 1112\u001b[0;31m                     \u001b[0;32mraise\u001b[0m \u001b[0mKeyError\u001b[0m\u001b[0;34m(\u001b[0m\u001b[0;34m'%s not in index'\u001b[0m \u001b[0;34m%\u001b[0m \u001b[0mobjarr\u001b[0m\u001b[0;34m[\u001b[0m\u001b[0mmask\u001b[0m\u001b[0;34m]\u001b[0m\u001b[0;34m)\u001b[0m\u001b[0;34m\u001b[0m\u001b[0m\n\u001b[0m\u001b[1;32m   1113\u001b[0m \u001b[0;34m\u001b[0m\u001b[0m\n\u001b[1;32m   1114\u001b[0m                 \u001b[0;32mreturn\u001b[0m \u001b[0m_values_from_object\u001b[0m\u001b[0;34m(\u001b[0m\u001b[0mindexer\u001b[0m\u001b[0;34m)\u001b[0m\u001b[0;34m\u001b[0m\u001b[0m\n",
      "\u001b[0;31mKeyError\u001b[0m: \"['CAND_PTY'] not in index\""
     ]
    }
   ],
   "source": [
    "cn[['CAND_ID', 'CAND_PTY']]"
   ]
  },
  {
   "cell_type": "code",
   "execution_count": null,
   "metadata": {
    "collapsed": true
   },
   "outputs": [],
   "source": [
    "df = pd."
   ]
  },
  {
   "cell_type": "code",
   "execution_count": null,
   "metadata": {
    "collapsed": true
   },
   "outputs": [],
   "source": []
  },
  {
   "cell_type": "code",
   "execution_count": null,
   "metadata": {
    "collapsed": true
   },
   "outputs": [],
   "source": []
  },
  {
   "cell_type": "code",
   "execution_count": 99,
   "metadata": {
    "collapsed": false
   },
   "outputs": [],
   "source": [
    "df.CMTE_NM = df.CMTE_NM.astype('category')"
   ]
  },
  {
   "cell_type": "code",
   "execution_count": 103,
   "metadata": {
    "collapsed": false
   },
   "outputs": [
    {
     "data": {
      "text/plain": [
       "ACTBLUE                                                      18989\n",
       "DEMOCRATIC CONGRESSIONAL CAMPAIGN COMMITTEE                  17114\n",
       "REPUBLICAN NATIONAL COMMITTEE                                 8877\n",
       "DNC SERVICES CORPORATION/DEMOCRATIC NATIONAL COMMITTEE        7121\n",
       "DEMOCRATIC SENATORIAL CAMPAIGN COMMITTEE                      6494\n",
       "                                                             ...  \n",
       "RIGHT TO LIFE/OREGON PAC                                         1\n",
       "LIBERTARIAN NATIONAL CONGRESSIONAL COMMITTEE INC                 1\n",
       "LAMAR STERNAD FOR CONGRESS                                       1\n",
       "KIDNEY CARE PARTNERS POLITICAL ACTION COMMITTEE (KCP PAC)        1\n",
       "18-29 PAC                                                        1\n",
       "dtype: int64"
      ]
     },
     "execution_count": 103,
     "metadata": {},
     "output_type": "execute_result"
    }
   ],
   "source": [
    "df[\"CMTE_NM\"].value_counts()"
   ]
  },
  {
   "cell_type": "code",
   "execution_count": 90,
   "metadata": {
    "collapsed": false
   },
   "outputs": [
    {
     "data": {
      "text/html": [
       "<div>\n",
       "<table border=\"1\" class=\"dataframe\">\n",
       "  <thead>\n",
       "    <tr style=\"text-align: right;\">\n",
       "      <th></th>\n",
       "      <th>CMTE_ID</th>\n",
       "      <th>AMNDT_IND</th>\n",
       "      <th>RPT_TP</th>\n",
       "      <th>TRANSACTION_PGI</th>\n",
       "      <th>IMAGE_NUM</th>\n",
       "      <th>TRANSACTION_TP</th>\n",
       "      <th>ENTITY_TP</th>\n",
       "      <th>NAME</th>\n",
       "      <th>CITY</th>\n",
       "      <th>STATE</th>\n",
       "      <th>...</th>\n",
       "      <th>EMPLOYER</th>\n",
       "      <th>OCCUPATION</th>\n",
       "      <th>TRANSACTION_DT</th>\n",
       "      <th>TRANSACTION_AMT</th>\n",
       "      <th>OTHER_ID</th>\n",
       "      <th>TRAN_ID</th>\n",
       "      <th>FILE_NUM</th>\n",
       "      <th>MEMO_CD</th>\n",
       "      <th>MEMO_TEXT</th>\n",
       "      <th>SUB_ID</th>\n",
       "    </tr>\n",
       "  </thead>\n",
       "  <tbody>\n",
       "    <tr>\n",
       "      <th>0</th>\n",
       "      <td>C00004606</td>\n",
       "      <td>N</td>\n",
       "      <td>M4</td>\n",
       "      <td>P</td>\n",
       "      <td>15951124869</td>\n",
       "      <td>15</td>\n",
       "      <td>IND</td>\n",
       "      <td>ARNOLD, ROBERT</td>\n",
       "      <td>MCPHERSON</td>\n",
       "      <td>KS</td>\n",
       "      <td>...</td>\n",
       "      <td>SELF</td>\n",
       "      <td>OPTOMETRIST</td>\n",
       "      <td>3102015</td>\n",
       "      <td>1000</td>\n",
       "      <td>NaN</td>\n",
       "      <td>SA11AI.20747</td>\n",
       "      <td>1002259</td>\n",
       "      <td>NaN</td>\n",
       "      <td>NaN</td>\n",
       "      <td>4041320151241796098</td>\n",
       "    </tr>\n",
       "    <tr>\n",
       "      <th>1</th>\n",
       "      <td>C00004606</td>\n",
       "      <td>N</td>\n",
       "      <td>M4</td>\n",
       "      <td>P</td>\n",
       "      <td>15951124869</td>\n",
       "      <td>15</td>\n",
       "      <td>IND</td>\n",
       "      <td>BICKLE, DON</td>\n",
       "      <td>HAYS</td>\n",
       "      <td>KS</td>\n",
       "      <td>...</td>\n",
       "      <td>RETIRED</td>\n",
       "      <td>RETIRED</td>\n",
       "      <td>3302015</td>\n",
       "      <td>1000</td>\n",
       "      <td>NaN</td>\n",
       "      <td>SA11AI.20772</td>\n",
       "      <td>1002259</td>\n",
       "      <td>NaN</td>\n",
       "      <td>NaN</td>\n",
       "      <td>4041320151241796099</td>\n",
       "    </tr>\n",
       "    <tr>\n",
       "      <th>2</th>\n",
       "      <td>C00004606</td>\n",
       "      <td>N</td>\n",
       "      <td>M4</td>\n",
       "      <td>P</td>\n",
       "      <td>15951124869</td>\n",
       "      <td>15</td>\n",
       "      <td>IND</td>\n",
       "      <td>ROSSMAN, RICHARD</td>\n",
       "      <td>OLATHE</td>\n",
       "      <td>KS</td>\n",
       "      <td>...</td>\n",
       "      <td>CRAWFORD SALES COMPANY</td>\n",
       "      <td>BUSINESSMAN</td>\n",
       "      <td>3302015</td>\n",
       "      <td>250</td>\n",
       "      <td>NaN</td>\n",
       "      <td>SA11AI.20759</td>\n",
       "      <td>1002259</td>\n",
       "      <td>NaN</td>\n",
       "      <td>NaN</td>\n",
       "      <td>4041320151241796100</td>\n",
       "    </tr>\n",
       "    <tr>\n",
       "      <th>3</th>\n",
       "      <td>C00452383</td>\n",
       "      <td>N</td>\n",
       "      <td>M4</td>\n",
       "      <td>P</td>\n",
       "      <td>15951124897</td>\n",
       "      <td>15</td>\n",
       "      <td>IND</td>\n",
       "      <td>LLEWELLYN, CHARLES</td>\n",
       "      <td>FREDERICK</td>\n",
       "      <td>MD</td>\n",
       "      <td>...</td>\n",
       "      <td>NaN</td>\n",
       "      <td>NaN</td>\n",
       "      <td>3112015</td>\n",
       "      <td>500</td>\n",
       "      <td>NaN</td>\n",
       "      <td>SA11AI.25088</td>\n",
       "      <td>1002261</td>\n",
       "      <td>NaN</td>\n",
       "      <td>NaN</td>\n",
       "      <td>4041320151241796102</td>\n",
       "    </tr>\n",
       "    <tr>\n",
       "      <th>4</th>\n",
       "      <td>C00452383</td>\n",
       "      <td>N</td>\n",
       "      <td>M4</td>\n",
       "      <td>P</td>\n",
       "      <td>15951124897</td>\n",
       "      <td>15</td>\n",
       "      <td>IND</td>\n",
       "      <td>TYNES, TIMOTHY MR.</td>\n",
       "      <td>VERO BEACH</td>\n",
       "      <td>FL</td>\n",
       "      <td>...</td>\n",
       "      <td>NaN</td>\n",
       "      <td>NaN</td>\n",
       "      <td>3022015</td>\n",
       "      <td>250</td>\n",
       "      <td>NaN</td>\n",
       "      <td>SA11AI.25074</td>\n",
       "      <td>1002261</td>\n",
       "      <td>NaN</td>\n",
       "      <td>NaN</td>\n",
       "      <td>4041320151241796103</td>\n",
       "    </tr>\n",
       "  </tbody>\n",
       "</table>\n",
       "<p>5 rows × 21 columns</p>\n",
       "</div>"
      ],
      "text/plain": [
       "     CMTE_ID AMNDT_IND RPT_TP TRANSACTION_PGI    IMAGE_NUM TRANSACTION_TP  \\\n",
       "0  C00004606         N     M4               P  15951124869             15   \n",
       "1  C00004606         N     M4               P  15951124869             15   \n",
       "2  C00004606         N     M4               P  15951124869             15   \n",
       "3  C00452383         N     M4               P  15951124897             15   \n",
       "4  C00452383         N     M4               P  15951124897             15   \n",
       "\n",
       "  ENTITY_TP                NAME        CITY STATE         ...           \\\n",
       "0       IND      ARNOLD, ROBERT   MCPHERSON    KS         ...            \n",
       "1       IND         BICKLE, DON        HAYS    KS         ...            \n",
       "2       IND    ROSSMAN, RICHARD      OLATHE    KS         ...            \n",
       "3       IND  LLEWELLYN, CHARLES   FREDERICK    MD         ...            \n",
       "4       IND  TYNES, TIMOTHY MR.  VERO BEACH    FL         ...            \n",
       "\n",
       "                 EMPLOYER   OCCUPATION TRANSACTION_DT  TRANSACTION_AMT  \\\n",
       "0                    SELF  OPTOMETRIST        3102015             1000   \n",
       "1                 RETIRED      RETIRED        3302015             1000   \n",
       "2  CRAWFORD SALES COMPANY  BUSINESSMAN        3302015              250   \n",
       "3                     NaN          NaN        3112015              500   \n",
       "4                     NaN          NaN        3022015              250   \n",
       "\n",
       "   OTHER_ID       TRAN_ID FILE_NUM  MEMO_CD MEMO_TEXT               SUB_ID  \n",
       "0       NaN  SA11AI.20747  1002259      NaN       NaN  4041320151241796098  \n",
       "1       NaN  SA11AI.20772  1002259      NaN       NaN  4041320151241796099  \n",
       "2       NaN  SA11AI.20759  1002259      NaN       NaN  4041320151241796100  \n",
       "3       NaN  SA11AI.25088  1002261      NaN       NaN  4041320151241796102  \n",
       "4       NaN  SA11AI.25074  1002261      NaN       NaN  4041320151241796103  \n",
       "\n",
       "[5 rows x 21 columns]"
      ]
     },
     "execution_count": 90,
     "metadata": {},
     "output_type": "execute_result"
    }
   ],
   "source": [
    "df.head()"
   ]
  },
  {
   "cell_type": "code",
   "execution_count": 88,
   "metadata": {
    "collapsed": false
   },
   "outputs": [
    {
     "data": {
      "text/plain": [
       "C00401224    18989\n",
       "C00000935    17114\n",
       "C00003418     8877\n",
       "C00010603     7121\n",
       "C00042366     6494\n",
       "             ...  \n",
       "C00556266        1\n",
       "C00573246        1\n",
       "C00169532        1\n",
       "C00541938        1\n",
       "C00552463        1\n",
       "dtype: int64"
      ]
     },
     "execution_count": 88,
     "metadata": {},
     "output_type": "execute_result"
    }
   ],
   "source": [
    "df.CMTE_ID.value_counts()"
   ]
  },
  {
   "cell_type": "code",
   "execution_count": 86,
   "metadata": {
    "collapsed": false
   },
   "outputs": [
    {
     "data": {
      "text/plain": [
       "KALEMKARIAN, TIMOTHY CHARLES         3\n",
       "MARTIN, ANDY                         3\n",
       "POLIQUIN, BRUCE L                    2\n",
       "LOWE, THUY                           2\n",
       "SINGLETON, JEROME FRANCIS MR. JR.    2\n",
       "dtype: int64"
      ]
     },
     "execution_count": 86,
     "metadata": {},
     "output_type": "execute_result"
    }
   ],
   "source": [
    "cn.CAND_NAME.value_counts().head()"
   ]
  },
  {
   "cell_type": "code",
   "execution_count": 72,
   "metadata": {
    "collapsed": false
   },
   "outputs": [],
   "source": [
    "df['TRANSACTION_DT'] = pd.to_datetime(df.TRANSACTION_DT.astype(str), format='%d%M%Y.0')"
   ]
  },
  {
   "cell_type": "markdown",
   "metadata": {},
   "source": [
    "- CAN = Candidate\n",
    "- CCM = Candidate Committee\n",
    "- COM = Committee\n",
    "- IND = Individual (a person)\n",
    "- ORG = Organization (not a committee and not a person)\n",
    "- PAC = Political Action Committee\n",
    "- PTY = Party Organization"
   ]
  },
  {
   "cell_type": "code",
   "execution_count": 79,
   "metadata": {
    "collapsed": false
   },
   "outputs": [
    {
     "data": {
      "text/plain": [
       "IND    204442\n",
       "ORG       566\n",
       "CAN       291\n",
       "PAC        27\n",
       "CCM        20\n",
       "COM        18\n",
       "PTY         1\n",
       "dtype: int64"
      ]
     },
     "execution_count": 79,
     "metadata": {},
     "output_type": "execute_result"
    }
   ],
   "source": [
    "df.ENTITY_TP.value_counts()"
   ]
  },
  {
   "cell_type": "code",
   "execution_count": 74,
   "metadata": {
    "collapsed": false
   },
   "outputs": [
    {
     "name": "stdout",
     "output_type": "stream",
     "text": [
      "<class 'pandas.core.frame.DataFrame'>\n",
      "Int64Index: 205519 entries, 0 to 205518\n",
      "Data columns (total 21 columns):\n",
      "CMTE_ID            205519 non-null object\n",
      "AMNDT_IND          205519 non-null object\n",
      "RPT_TP             205519 non-null object\n",
      "TRANSACTION_PGI    205444 non-null object\n",
      "IMAGE_NUM          205519 non-null int64\n",
      "TRANSACTION_TP     205519 non-null object\n",
      "ENTITY_TP          205365 non-null object\n",
      "NAME               205510 non-null object\n",
      "CITY               205373 non-null object\n",
      "STATE              205151 non-null object\n",
      "ZIP_CODE           204899 non-null object\n",
      "EMPLOYER           165614 non-null object\n",
      "OCCUPATION         171342 non-null object\n",
      "TRANSACTION_DT     205518 non-null datetime64[ns]\n",
      "TRANSACTION_AMT    205519 non-null int64\n",
      "OTHER_ID           29908 non-null object\n",
      "TRAN_ID            205507 non-null object\n",
      "FILE_NUM           205519 non-null int64\n",
      "MEMO_CD            5471 non-null object\n",
      "MEMO_TEXT          48980 non-null object\n",
      "SUB_ID             205519 non-null int64\n",
      "dtypes: datetime64[ns](1), int64(4), object(16)\n",
      "memory usage: 34.5+ MB\n"
     ]
    }
   ],
   "source": [
    "df.info()"
   ]
  },
  {
   "cell_type": "code",
   "execution_count": 77,
   "metadata": {
    "collapsed": false
   },
   "outputs": [
    {
     "data": {
      "text/plain": [
       "0         IND\n",
       "1         IND\n",
       "2         IND\n",
       "3         IND\n",
       "4         IND\n",
       "         ... \n",
       "205514    IND\n",
       "205515    IND\n",
       "205516    IND\n",
       "205517    IND\n",
       "205518    IND\n",
       "Name: ENTITY_TP, dtype: object"
      ]
     },
     "execution_count": 77,
     "metadata": {},
     "output_type": "execute_result"
    }
   ],
   "source": [
    "df.ENTITY_TP"
   ]
  },
  {
   "cell_type": "code",
   "execution_count": null,
   "metadata": {
    "collapsed": true
   },
   "outputs": [],
   "source": []
  },
  {
   "cell_type": "code",
   "execution_count": null,
   "metadata": {
    "collapsed": true
   },
   "outputs": [],
   "source": []
  },
  {
   "cell_type": "code",
   "execution_count": 37,
   "metadata": {
    "collapsed": false
   },
   "outputs": [
    {
     "data": {
      "text/html": [
       "<div>\n",
       "<table border=\"1\" class=\"dataframe\">\n",
       "  <thead>\n",
       "    <tr style=\"text-align: right;\">\n",
       "      <th></th>\n",
       "      <th>CMTE_ID</th>\n",
       "      <th>AMNDT_IND</th>\n",
       "      <th>RPT_TP</th>\n",
       "      <th>TRANSACTION_PGI</th>\n",
       "      <th>IMAGE_NUM</th>\n",
       "      <th>TRANSACTION_TP</th>\n",
       "      <th>ENTITY_TP</th>\n",
       "      <th>NAME</th>\n",
       "      <th>CITY</th>\n",
       "      <th>STATE</th>\n",
       "      <th>...</th>\n",
       "      <th>EMPLOYER</th>\n",
       "      <th>OCCUPATION</th>\n",
       "      <th>TRANSACTION_DT</th>\n",
       "      <th>TRANSACTION_AMT</th>\n",
       "      <th>OTHER_ID</th>\n",
       "      <th>TRAN_ID</th>\n",
       "      <th>FILE_NUM</th>\n",
       "      <th>MEMO_CD</th>\n",
       "      <th>MEMO_TEXT</th>\n",
       "      <th>SUB_ID</th>\n",
       "    </tr>\n",
       "  </thead>\n",
       "  <tbody>\n",
       "    <tr>\n",
       "      <th>0</th>\n",
       "      <td>C00004606</td>\n",
       "      <td>N</td>\n",
       "      <td>M4</td>\n",
       "      <td>P</td>\n",
       "      <td>15951124869</td>\n",
       "      <td>15</td>\n",
       "      <td>IND</td>\n",
       "      <td>ARNOLD, ROBERT</td>\n",
       "      <td>MCPHERSON</td>\n",
       "      <td>KS</td>\n",
       "      <td>...</td>\n",
       "      <td>SELF</td>\n",
       "      <td>OPTOMETRIST</td>\n",
       "      <td>3102015</td>\n",
       "      <td>1000</td>\n",
       "      <td>NaN</td>\n",
       "      <td>SA11AI.20747</td>\n",
       "      <td>1002259</td>\n",
       "      <td>NaN</td>\n",
       "      <td>NaN</td>\n",
       "      <td>4041320151241796098</td>\n",
       "    </tr>\n",
       "    <tr>\n",
       "      <th>1</th>\n",
       "      <td>C00004606</td>\n",
       "      <td>N</td>\n",
       "      <td>M4</td>\n",
       "      <td>P</td>\n",
       "      <td>15951124869</td>\n",
       "      <td>15</td>\n",
       "      <td>IND</td>\n",
       "      <td>BICKLE, DON</td>\n",
       "      <td>HAYS</td>\n",
       "      <td>KS</td>\n",
       "      <td>...</td>\n",
       "      <td>RETIRED</td>\n",
       "      <td>RETIRED</td>\n",
       "      <td>3302015</td>\n",
       "      <td>1000</td>\n",
       "      <td>NaN</td>\n",
       "      <td>SA11AI.20772</td>\n",
       "      <td>1002259</td>\n",
       "      <td>NaN</td>\n",
       "      <td>NaN</td>\n",
       "      <td>4041320151241796099</td>\n",
       "    </tr>\n",
       "    <tr>\n",
       "      <th>2</th>\n",
       "      <td>C00004606</td>\n",
       "      <td>N</td>\n",
       "      <td>M4</td>\n",
       "      <td>P</td>\n",
       "      <td>15951124869</td>\n",
       "      <td>15</td>\n",
       "      <td>IND</td>\n",
       "      <td>ROSSMAN, RICHARD</td>\n",
       "      <td>OLATHE</td>\n",
       "      <td>KS</td>\n",
       "      <td>...</td>\n",
       "      <td>CRAWFORD SALES COMPANY</td>\n",
       "      <td>BUSINESSMAN</td>\n",
       "      <td>3302015</td>\n",
       "      <td>250</td>\n",
       "      <td>NaN</td>\n",
       "      <td>SA11AI.20759</td>\n",
       "      <td>1002259</td>\n",
       "      <td>NaN</td>\n",
       "      <td>NaN</td>\n",
       "      <td>4041320151241796100</td>\n",
       "    </tr>\n",
       "    <tr>\n",
       "      <th>3</th>\n",
       "      <td>C00452383</td>\n",
       "      <td>N</td>\n",
       "      <td>M4</td>\n",
       "      <td>P</td>\n",
       "      <td>15951124897</td>\n",
       "      <td>15</td>\n",
       "      <td>IND</td>\n",
       "      <td>LLEWELLYN, CHARLES</td>\n",
       "      <td>FREDERICK</td>\n",
       "      <td>MD</td>\n",
       "      <td>...</td>\n",
       "      <td>NaN</td>\n",
       "      <td>NaN</td>\n",
       "      <td>3112015</td>\n",
       "      <td>500</td>\n",
       "      <td>NaN</td>\n",
       "      <td>SA11AI.25088</td>\n",
       "      <td>1002261</td>\n",
       "      <td>NaN</td>\n",
       "      <td>NaN</td>\n",
       "      <td>4041320151241796102</td>\n",
       "    </tr>\n",
       "    <tr>\n",
       "      <th>4</th>\n",
       "      <td>C00452383</td>\n",
       "      <td>N</td>\n",
       "      <td>M4</td>\n",
       "      <td>P</td>\n",
       "      <td>15951124897</td>\n",
       "      <td>15</td>\n",
       "      <td>IND</td>\n",
       "      <td>TYNES, TIMOTHY MR.</td>\n",
       "      <td>VERO BEACH</td>\n",
       "      <td>FL</td>\n",
       "      <td>...</td>\n",
       "      <td>NaN</td>\n",
       "      <td>NaN</td>\n",
       "      <td>3022015</td>\n",
       "      <td>250</td>\n",
       "      <td>NaN</td>\n",
       "      <td>SA11AI.25074</td>\n",
       "      <td>1002261</td>\n",
       "      <td>NaN</td>\n",
       "      <td>NaN</td>\n",
       "      <td>4041320151241796103</td>\n",
       "    </tr>\n",
       "  </tbody>\n",
       "</table>\n",
       "<p>5 rows × 21 columns</p>\n",
       "</div>"
      ],
      "text/plain": [
       "     CMTE_ID AMNDT_IND RPT_TP TRANSACTION_PGI    IMAGE_NUM TRANSACTION_TP  \\\n",
       "0  C00004606         N     M4               P  15951124869             15   \n",
       "1  C00004606         N     M4               P  15951124869             15   \n",
       "2  C00004606         N     M4               P  15951124869             15   \n",
       "3  C00452383         N     M4               P  15951124897             15   \n",
       "4  C00452383         N     M4               P  15951124897             15   \n",
       "\n",
       "  ENTITY_TP                NAME        CITY STATE         ...           \\\n",
       "0       IND      ARNOLD, ROBERT   MCPHERSON    KS         ...            \n",
       "1       IND         BICKLE, DON        HAYS    KS         ...            \n",
       "2       IND    ROSSMAN, RICHARD      OLATHE    KS         ...            \n",
       "3       IND  LLEWELLYN, CHARLES   FREDERICK    MD         ...            \n",
       "4       IND  TYNES, TIMOTHY MR.  VERO BEACH    FL         ...            \n",
       "\n",
       "                 EMPLOYER   OCCUPATION TRANSACTION_DT  TRANSACTION_AMT  \\\n",
       "0                    SELF  OPTOMETRIST        3102015             1000   \n",
       "1                 RETIRED      RETIRED        3302015             1000   \n",
       "2  CRAWFORD SALES COMPANY  BUSINESSMAN        3302015              250   \n",
       "3                     NaN          NaN        3112015              500   \n",
       "4                     NaN          NaN        3022015              250   \n",
       "\n",
       "   OTHER_ID       TRAN_ID FILE_NUM  MEMO_CD MEMO_TEXT               SUB_ID  \n",
       "0       NaN  SA11AI.20747  1002259      NaN       NaN  4041320151241796098  \n",
       "1       NaN  SA11AI.20772  1002259      NaN       NaN  4041320151241796099  \n",
       "2       NaN  SA11AI.20759  1002259      NaN       NaN  4041320151241796100  \n",
       "3       NaN  SA11AI.25088  1002261      NaN       NaN  4041320151241796102  \n",
       "4       NaN  SA11AI.25074  1002261      NaN       NaN  4041320151241796103  \n",
       "\n",
       "[5 rows x 21 columns]"
      ]
     },
     "execution_count": 37,
     "metadata": {},
     "output_type": "execute_result"
    }
   ],
   "source": [
    "df.head()"
   ]
  },
  {
   "cell_type": "code",
   "execution_count": 43,
   "metadata": {
    "collapsed": false
   },
   "outputs": [
    {
     "ename": "ValueError",
     "evalue": "Cannot convert NA to integer",
     "output_type": "error",
     "traceback": [
      "\u001b[0;31m---------------------------------------------------------------------------\u001b[0m",
      "\u001b[0;31mValueError\u001b[0m                                Traceback (most recent call last)",
      "\u001b[0;32m<ipython-input-43-a53f0a385f1d>\u001b[0m in \u001b[0;36m<module>\u001b[0;34m()\u001b[0m\n\u001b[0;32m----> 1\u001b[0;31m \u001b[0mdf\u001b[0m\u001b[0;34m.\u001b[0m\u001b[0mTRANSACTION_DT\u001b[0m\u001b[0;34m.\u001b[0m\u001b[0mastype\u001b[0m\u001b[0;34m(\u001b[0m\u001b[0mint\u001b[0m\u001b[0;34m)\u001b[0m\u001b[0;34m.\u001b[0m\u001b[0mastype\u001b[0m\u001b[0;34m(\u001b[0m\u001b[0mstr\u001b[0m\u001b[0;34m)\u001b[0m\u001b[0;34m\u001b[0m\u001b[0m\n\u001b[0m",
      "\u001b[0;32m/Users/tom.augspurger/Envs/py3/lib/python3.4/site-packages/pandas-0.16.2_11_gd8a2f30-py3.4-macosx-10.10-x86_64.egg/pandas/core/generic.py\u001b[0m in \u001b[0;36mastype\u001b[0;34m(self, dtype, copy, raise_on_error, **kwargs)\u001b[0m\n\u001b[1;32m   2409\u001b[0m \u001b[0;34m\u001b[0m\u001b[0m\n\u001b[1;32m   2410\u001b[0m         mgr = self._data.astype(\n\u001b[0;32m-> 2411\u001b[0;31m             dtype=dtype, copy=copy, raise_on_error=raise_on_error, **kwargs)\n\u001b[0m\u001b[1;32m   2412\u001b[0m         \u001b[0;32mreturn\u001b[0m \u001b[0mself\u001b[0m\u001b[0;34m.\u001b[0m\u001b[0m_constructor\u001b[0m\u001b[0;34m(\u001b[0m\u001b[0mmgr\u001b[0m\u001b[0;34m)\u001b[0m\u001b[0;34m.\u001b[0m\u001b[0m__finalize__\u001b[0m\u001b[0;34m(\u001b[0m\u001b[0mself\u001b[0m\u001b[0;34m)\u001b[0m\u001b[0;34m\u001b[0m\u001b[0m\n\u001b[1;32m   2413\u001b[0m \u001b[0;34m\u001b[0m\u001b[0m\n",
      "\u001b[0;32m/Users/tom.augspurger/Envs/py3/lib/python3.4/site-packages/pandas-0.16.2_11_gd8a2f30-py3.4-macosx-10.10-x86_64.egg/pandas/core/internals.py\u001b[0m in \u001b[0;36mastype\u001b[0;34m(self, dtype, **kwargs)\u001b[0m\n\u001b[1;32m   2505\u001b[0m \u001b[0;34m\u001b[0m\u001b[0m\n\u001b[1;32m   2506\u001b[0m     \u001b[0;32mdef\u001b[0m \u001b[0mastype\u001b[0m\u001b[0;34m(\u001b[0m\u001b[0mself\u001b[0m\u001b[0;34m,\u001b[0m \u001b[0mdtype\u001b[0m\u001b[0;34m,\u001b[0m \u001b[0;34m**\u001b[0m\u001b[0mkwargs\u001b[0m\u001b[0;34m)\u001b[0m\u001b[0;34m:\u001b[0m\u001b[0;34m\u001b[0m\u001b[0m\n\u001b[0;32m-> 2507\u001b[0;31m         \u001b[0;32mreturn\u001b[0m \u001b[0mself\u001b[0m\u001b[0;34m.\u001b[0m\u001b[0mapply\u001b[0m\u001b[0;34m(\u001b[0m\u001b[0;34m'astype'\u001b[0m\u001b[0;34m,\u001b[0m \u001b[0mdtype\u001b[0m\u001b[0;34m=\u001b[0m\u001b[0mdtype\u001b[0m\u001b[0;34m,\u001b[0m \u001b[0;34m**\u001b[0m\u001b[0mkwargs\u001b[0m\u001b[0;34m)\u001b[0m\u001b[0;34m\u001b[0m\u001b[0m\n\u001b[0m\u001b[1;32m   2508\u001b[0m \u001b[0;34m\u001b[0m\u001b[0m\n\u001b[1;32m   2509\u001b[0m     \u001b[0;32mdef\u001b[0m \u001b[0mconvert\u001b[0m\u001b[0;34m(\u001b[0m\u001b[0mself\u001b[0m\u001b[0;34m,\u001b[0m \u001b[0;34m**\u001b[0m\u001b[0mkwargs\u001b[0m\u001b[0;34m)\u001b[0m\u001b[0;34m:\u001b[0m\u001b[0;34m\u001b[0m\u001b[0m\n",
      "\u001b[0;32m/Users/tom.augspurger/Envs/py3/lib/python3.4/site-packages/pandas-0.16.2_11_gd8a2f30-py3.4-macosx-10.10-x86_64.egg/pandas/core/internals.py\u001b[0m in \u001b[0;36mapply\u001b[0;34m(self, f, axes, filter, do_integrity_check, **kwargs)\u001b[0m\n\u001b[1;32m   2460\u001b[0m                                                  copy=align_copy)\n\u001b[1;32m   2461\u001b[0m \u001b[0;34m\u001b[0m\u001b[0m\n\u001b[0;32m-> 2462\u001b[0;31m             \u001b[0mapplied\u001b[0m \u001b[0;34m=\u001b[0m \u001b[0mgetattr\u001b[0m\u001b[0;34m(\u001b[0m\u001b[0mb\u001b[0m\u001b[0;34m,\u001b[0m \u001b[0mf\u001b[0m\u001b[0;34m)\u001b[0m\u001b[0;34m(\u001b[0m\u001b[0;34m**\u001b[0m\u001b[0mkwargs\u001b[0m\u001b[0;34m)\u001b[0m\u001b[0;34m\u001b[0m\u001b[0m\n\u001b[0m\u001b[1;32m   2463\u001b[0m \u001b[0;34m\u001b[0m\u001b[0m\n\u001b[1;32m   2464\u001b[0m             \u001b[0;32mif\u001b[0m \u001b[0misinstance\u001b[0m\u001b[0;34m(\u001b[0m\u001b[0mapplied\u001b[0m\u001b[0;34m,\u001b[0m \u001b[0mlist\u001b[0m\u001b[0;34m)\u001b[0m\u001b[0;34m:\u001b[0m\u001b[0;34m\u001b[0m\u001b[0m\n",
      "\u001b[0;32m/Users/tom.augspurger/Envs/py3/lib/python3.4/site-packages/pandas-0.16.2_11_gd8a2f30-py3.4-macosx-10.10-x86_64.egg/pandas/core/internals.py\u001b[0m in \u001b[0;36mastype\u001b[0;34m(self, dtype, copy, raise_on_error, values, **kwargs)\u001b[0m\n\u001b[1;32m    371\u001b[0m     \u001b[0;32mdef\u001b[0m \u001b[0mastype\u001b[0m\u001b[0;34m(\u001b[0m\u001b[0mself\u001b[0m\u001b[0;34m,\u001b[0m \u001b[0mdtype\u001b[0m\u001b[0;34m,\u001b[0m \u001b[0mcopy\u001b[0m\u001b[0;34m=\u001b[0m\u001b[0;32mFalse\u001b[0m\u001b[0;34m,\u001b[0m \u001b[0mraise_on_error\u001b[0m\u001b[0;34m=\u001b[0m\u001b[0;32mTrue\u001b[0m\u001b[0;34m,\u001b[0m \u001b[0mvalues\u001b[0m\u001b[0;34m=\u001b[0m\u001b[0;32mNone\u001b[0m\u001b[0;34m,\u001b[0m \u001b[0;34m**\u001b[0m\u001b[0mkwargs\u001b[0m\u001b[0;34m)\u001b[0m\u001b[0;34m:\u001b[0m\u001b[0;34m\u001b[0m\u001b[0m\n\u001b[1;32m    372\u001b[0m         return self._astype(dtype, copy=copy, raise_on_error=raise_on_error,\n\u001b[0;32m--> 373\u001b[0;31m                             values=values, **kwargs)\n\u001b[0m\u001b[1;32m    374\u001b[0m \u001b[0;34m\u001b[0m\u001b[0m\n\u001b[1;32m    375\u001b[0m     def _astype(self, dtype, copy=False, raise_on_error=True, values=None,\n",
      "\u001b[0;32m/Users/tom.augspurger/Envs/py3/lib/python3.4/site-packages/pandas-0.16.2_11_gd8a2f30-py3.4-macosx-10.10-x86_64.egg/pandas/core/internals.py\u001b[0m in \u001b[0;36m_astype\u001b[0;34m(self, dtype, copy, raise_on_error, values, klass, **kwargs)\u001b[0m\n\u001b[1;32m    401\u001b[0m             \u001b[0;32mif\u001b[0m \u001b[0mvalues\u001b[0m \u001b[0;32mis\u001b[0m \u001b[0;32mNone\u001b[0m\u001b[0;34m:\u001b[0m\u001b[0;34m\u001b[0m\u001b[0m\n\u001b[1;32m    402\u001b[0m                 \u001b[0;31m# _astype_nansafe works fine with 1-d only\u001b[0m\u001b[0;34m\u001b[0m\u001b[0;34m\u001b[0m\u001b[0m\n\u001b[0;32m--> 403\u001b[0;31m                 \u001b[0mvalues\u001b[0m \u001b[0;34m=\u001b[0m \u001b[0mcom\u001b[0m\u001b[0;34m.\u001b[0m\u001b[0m_astype_nansafe\u001b[0m\u001b[0;34m(\u001b[0m\u001b[0mself\u001b[0m\u001b[0;34m.\u001b[0m\u001b[0mvalues\u001b[0m\u001b[0;34m.\u001b[0m\u001b[0mravel\u001b[0m\u001b[0;34m(\u001b[0m\u001b[0;34m)\u001b[0m\u001b[0;34m,\u001b[0m \u001b[0mdtype\u001b[0m\u001b[0;34m,\u001b[0m \u001b[0mcopy\u001b[0m\u001b[0;34m=\u001b[0m\u001b[0;32mTrue\u001b[0m\u001b[0;34m)\u001b[0m\u001b[0;34m\u001b[0m\u001b[0m\n\u001b[0m\u001b[1;32m    404\u001b[0m                 \u001b[0mvalues\u001b[0m \u001b[0;34m=\u001b[0m \u001b[0mvalues\u001b[0m\u001b[0;34m.\u001b[0m\u001b[0mreshape\u001b[0m\u001b[0;34m(\u001b[0m\u001b[0mself\u001b[0m\u001b[0;34m.\u001b[0m\u001b[0mvalues\u001b[0m\u001b[0;34m.\u001b[0m\u001b[0mshape\u001b[0m\u001b[0;34m)\u001b[0m\u001b[0;34m\u001b[0m\u001b[0m\n\u001b[1;32m    405\u001b[0m             newb = make_block(values,\n",
      "\u001b[0;32m/Users/tom.augspurger/Envs/py3/lib/python3.4/site-packages/pandas-0.16.2_11_gd8a2f30-py3.4-macosx-10.10-x86_64.egg/pandas/core/common.py\u001b[0m in \u001b[0;36m_astype_nansafe\u001b[0;34m(arr, dtype, copy)\u001b[0m\n\u001b[1;32m   2726\u001b[0m \u001b[0;34m\u001b[0m\u001b[0m\n\u001b[1;32m   2727\u001b[0m         \u001b[0;32mif\u001b[0m \u001b[0mnp\u001b[0m\u001b[0;34m.\u001b[0m\u001b[0misnan\u001b[0m\u001b[0;34m(\u001b[0m\u001b[0marr\u001b[0m\u001b[0;34m)\u001b[0m\u001b[0;34m.\u001b[0m\u001b[0many\u001b[0m\u001b[0;34m(\u001b[0m\u001b[0;34m)\u001b[0m\u001b[0;34m:\u001b[0m\u001b[0;34m\u001b[0m\u001b[0m\n\u001b[0;32m-> 2728\u001b[0;31m             \u001b[0;32mraise\u001b[0m \u001b[0mValueError\u001b[0m\u001b[0;34m(\u001b[0m\u001b[0;34m'Cannot convert NA to integer'\u001b[0m\u001b[0;34m)\u001b[0m\u001b[0;34m\u001b[0m\u001b[0m\n\u001b[0m\u001b[1;32m   2729\u001b[0m     \u001b[0;32melif\u001b[0m \u001b[0marr\u001b[0m\u001b[0;34m.\u001b[0m\u001b[0mdtype\u001b[0m \u001b[0;34m==\u001b[0m \u001b[0mnp\u001b[0m\u001b[0;34m.\u001b[0m\u001b[0mobject_\u001b[0m \u001b[0;32mand\u001b[0m \u001b[0mnp\u001b[0m\u001b[0;34m.\u001b[0m\u001b[0missubdtype\u001b[0m\u001b[0;34m(\u001b[0m\u001b[0mdtype\u001b[0m\u001b[0;34m.\u001b[0m\u001b[0mtype\u001b[0m\u001b[0;34m,\u001b[0m \u001b[0mnp\u001b[0m\u001b[0;34m.\u001b[0m\u001b[0minteger\u001b[0m\u001b[0;34m)\u001b[0m\u001b[0;34m:\u001b[0m\u001b[0;34m\u001b[0m\u001b[0m\n\u001b[1;32m   2730\u001b[0m         \u001b[0;31m# work around NumPy brokenness, #1987\u001b[0m\u001b[0;34m\u001b[0m\u001b[0;34m\u001b[0m\u001b[0m\n",
      "\u001b[0;31mValueError\u001b[0m: Cannot convert NA to integer"
     ]
    }
   ],
   "source": [
    "df.TRANSACTION_DT"
   ]
  },
  {
   "cell_type": "code",
   "execution_count": 38,
   "metadata": {
    "collapsed": false
   },
   "outputs": [
    {
     "name": "stdout",
     "output_type": "stream",
     "text": [
      "<class 'pandas.core.frame.DataFrame'>\n",
      "Int64Index: 205519 entries, 0 to 205518\n",
      "Data columns (total 21 columns):\n",
      "CMTE_ID            205519 non-null object\n",
      "AMNDT_IND          205519 non-null object\n",
      "RPT_TP             205519 non-null object\n",
      "TRANSACTION_PGI    205444 non-null object\n",
      "IMAGE_NUM          205519 non-null int64\n",
      "TRANSACTION_TP     205519 non-null object\n",
      "ENTITY_TP          205365 non-null object\n",
      "NAME               205510 non-null object\n",
      "CITY               205373 non-null object\n",
      "STATE              205151 non-null object\n",
      "ZIP_CODE           204899 non-null object\n",
      "EMPLOYER           165614 non-null object\n",
      "OCCUPATION         171342 non-null object\n",
      "TRANSACTION_DT     205518 non-null float64\n",
      "TRANSACTION_AMT    205519 non-null int64\n",
      "OTHER_ID           29908 non-null object\n",
      "TRAN_ID            205507 non-null object\n",
      "FILE_NUM           205519 non-null int64\n",
      "MEMO_CD            5471 non-null object\n",
      "MEMO_TEXT          48980 non-null object\n",
      "SUB_ID             205519 non-null int64\n",
      "dtypes: float64(1), int64(4), object(16)\n",
      "memory usage: 34.5+ MB\n"
     ]
    }
   ],
   "source": [
    "df.info()"
   ]
  },
  {
   "cell_type": "code",
   "execution_count": 27,
   "metadata": {
    "collapsed": false
   },
   "outputs": [
    {
     "data": {
      "text/html": [
       "<div>\n",
       "<table border=\"1\" class=\"dataframe\">\n",
       "  <thead>\n",
       "    <tr style=\"text-align: right;\">\n",
       "      <th></th>\n",
       "      <th>C00000059</th>\n",
       "      <th>HALLMARK CARDS PAC</th>\n",
       "      <th>DEAN RODENBOUGH</th>\n",
       "      <th>2501 MCGEE</th>\n",
       "      <th>MD#288</th>\n",
       "      <th>KANSAS CITY</th>\n",
       "      <th>MO</th>\n",
       "      <th>64108</th>\n",
       "      <th>U</th>\n",
       "      <th>Q</th>\n",
       "      <th>UNK</th>\n",
       "      <th>M</th>\n",
       "      <th>C</th>\n",
       "      <th>Unnamed: 13</th>\n",
       "      <th>Unnamed: 14</th>\n",
       "    </tr>\n",
       "  </thead>\n",
       "  <tbody>\n",
       "    <tr>\n",
       "      <th>0</th>\n",
       "      <td>C00000422</td>\n",
       "      <td>AMERICAN MEDICAL ASSOCIATION POLITICAL ACTION ...</td>\n",
       "      <td>WALKER, KEVIN</td>\n",
       "      <td>25 MASSACHUSETTS AVE, NW</td>\n",
       "      <td>SUITE 600</td>\n",
       "      <td>WASHINGTON</td>\n",
       "      <td>DC</td>\n",
       "      <td>20001</td>\n",
       "      <td>B</td>\n",
       "      <td>Q</td>\n",
       "      <td>NaN</td>\n",
       "      <td>M</td>\n",
       "      <td>M</td>\n",
       "      <td>AMERICAN MEDICAL ASSOCIATION</td>\n",
       "      <td>NaN</td>\n",
       "    </tr>\n",
       "    <tr>\n",
       "      <th>1</th>\n",
       "      <td>C00000489</td>\n",
       "      <td>D R I V E POLITICAL FUND CHAPTER 886</td>\n",
       "      <td>TOM RITTER</td>\n",
       "      <td>3528 W RENO</td>\n",
       "      <td>NaN</td>\n",
       "      <td>OKLAHOMA CITY</td>\n",
       "      <td>OK</td>\n",
       "      <td>73107</td>\n",
       "      <td>U</td>\n",
       "      <td>N</td>\n",
       "      <td>NaN</td>\n",
       "      <td>Q</td>\n",
       "      <td>L</td>\n",
       "      <td>TEAMSTERS LOCAL UNION 886</td>\n",
       "      <td>NaN</td>\n",
       "    </tr>\n",
       "    <tr>\n",
       "      <th>2</th>\n",
       "      <td>C00000547</td>\n",
       "      <td>KANSAS MEDICAL SOCIETY POLITICAL ACTION COMMITTEE</td>\n",
       "      <td>C. RICHARD BONEBRAKE, M.D.</td>\n",
       "      <td>623 SW 10TH AVE</td>\n",
       "      <td>NaN</td>\n",
       "      <td>TOPEKA</td>\n",
       "      <td>KS</td>\n",
       "      <td>66612</td>\n",
       "      <td>U</td>\n",
       "      <td>Q</td>\n",
       "      <td>UNK</td>\n",
       "      <td>Q</td>\n",
       "      <td>T</td>\n",
       "      <td>NaN</td>\n",
       "      <td>NaN</td>\n",
       "    </tr>\n",
       "    <tr>\n",
       "      <th>3</th>\n",
       "      <td>C00000638</td>\n",
       "      <td>INDIANA STATE MEDICAL ASSOCIATION POLITICAL AC...</td>\n",
       "      <td>VIDYA KORA, M.D.</td>\n",
       "      <td>322 CANAL WALK, CANAL LEVEL</td>\n",
       "      <td>NaN</td>\n",
       "      <td>INDIANAPOLIS</td>\n",
       "      <td>IN</td>\n",
       "      <td>46202</td>\n",
       "      <td>U</td>\n",
       "      <td>Q</td>\n",
       "      <td>NaN</td>\n",
       "      <td>Q</td>\n",
       "      <td>M</td>\n",
       "      <td>NaN</td>\n",
       "      <td>NaN</td>\n",
       "    </tr>\n",
       "    <tr>\n",
       "      <th>4</th>\n",
       "      <td>C00000729</td>\n",
       "      <td>AMERICAN DENTAL ASSOCIATION POLITICAL ACTION C...</td>\n",
       "      <td>HARRISON, THOMAS C. DR</td>\n",
       "      <td>1111 14TH STREET, NW</td>\n",
       "      <td>SUITE 1100</td>\n",
       "      <td>WASHINGTON</td>\n",
       "      <td>DC</td>\n",
       "      <td>20005</td>\n",
       "      <td>B</td>\n",
       "      <td>Q</td>\n",
       "      <td>UNK</td>\n",
       "      <td>M</td>\n",
       "      <td>M</td>\n",
       "      <td>AMERICAN DENTAL ASSOCIATION</td>\n",
       "      <td>NaN</td>\n",
       "    </tr>\n",
       "    <tr>\n",
       "      <th>...</th>\n",
       "      <td>...</td>\n",
       "      <td>...</td>\n",
       "      <td>...</td>\n",
       "      <td>...</td>\n",
       "      <td>...</td>\n",
       "      <td>...</td>\n",
       "      <td>...</td>\n",
       "      <td>...</td>\n",
       "      <td>...</td>\n",
       "      <td>...</td>\n",
       "      <td>...</td>\n",
       "      <td>...</td>\n",
       "      <td>...</td>\n",
       "      <td>...</td>\n",
       "      <td>...</td>\n",
       "    </tr>\n",
       "    <tr>\n",
       "      <th>12069</th>\n",
       "      <td>C90015363</td>\n",
       "      <td>LONG ISLAND LAW ENFORCEMENT FOUNDATION</td>\n",
       "      <td>NaN</td>\n",
       "      <td>868 CHURCH STREET - SUITE 1</td>\n",
       "      <td>NaN</td>\n",
       "      <td>BOHEMIA</td>\n",
       "      <td>NY</td>\n",
       "      <td>NaN</td>\n",
       "      <td>U</td>\n",
       "      <td>I</td>\n",
       "      <td>NaN</td>\n",
       "      <td>Q</td>\n",
       "      <td>NaN</td>\n",
       "      <td>NaN</td>\n",
       "      <td>NaN</td>\n",
       "    </tr>\n",
       "    <tr>\n",
       "      <th>12070</th>\n",
       "      <td>C90015371</td>\n",
       "      <td>ENVIRONMENT FLORIDA</td>\n",
       "      <td>NaN</td>\n",
       "      <td>3110 1ST AVE. N. SUITE 2K</td>\n",
       "      <td>NaN</td>\n",
       "      <td>ST. PETERSBURG</td>\n",
       "      <td>FL</td>\n",
       "      <td>33713</td>\n",
       "      <td>U</td>\n",
       "      <td>I</td>\n",
       "      <td>NaN</td>\n",
       "      <td>Q</td>\n",
       "      <td>NaN</td>\n",
       "      <td>NaN</td>\n",
       "      <td>NaN</td>\n",
       "    </tr>\n",
       "    <tr>\n",
       "      <th>12071</th>\n",
       "      <td>C90015389</td>\n",
       "      <td>DOUG MAGEE FOR CONGRESS COMMITTEE</td>\n",
       "      <td>NaN</td>\n",
       "      <td>3040 FAIRWAY DRIVE</td>\n",
       "      <td>NaN</td>\n",
       "      <td>BRANDON</td>\n",
       "      <td>MS</td>\n",
       "      <td>39047</td>\n",
       "      <td>U</td>\n",
       "      <td>I</td>\n",
       "      <td>NaN</td>\n",
       "      <td>Q</td>\n",
       "      <td>NaN</td>\n",
       "      <td>NaN</td>\n",
       "      <td>NaN</td>\n",
       "    </tr>\n",
       "    <tr>\n",
       "      <th>12072</th>\n",
       "      <td>C99002396</td>\n",
       "      <td>AMERICAN POLITICAL ACTION COMMITTEE</td>\n",
       "      <td>VERSNEL, J.H.</td>\n",
       "      <td>PO BOX 1682</td>\n",
       "      <td>NaN</td>\n",
       "      <td>BELLEVUE</td>\n",
       "      <td>WA</td>\n",
       "      <td>98009</td>\n",
       "      <td>U</td>\n",
       "      <td>Q</td>\n",
       "      <td>NaN</td>\n",
       "      <td>Q</td>\n",
       "      <td>M</td>\n",
       "      <td>NONE</td>\n",
       "      <td>NaN</td>\n",
       "    </tr>\n",
       "    <tr>\n",
       "      <th>12073</th>\n",
       "      <td>C99003428</td>\n",
       "      <td>THIRD DISTRICT REPUBLICAN PARTY</td>\n",
       "      <td>GERALD J HAMILL</td>\n",
       "      <td>C/O GERALD J HAMILL</td>\n",
       "      <td>PO BOX 36</td>\n",
       "      <td>EAU CLAIRE</td>\n",
       "      <td>WI</td>\n",
       "      <td>547020036</td>\n",
       "      <td>U</td>\n",
       "      <td>Y</td>\n",
       "      <td>REP</td>\n",
       "      <td>Q</td>\n",
       "      <td>NaN</td>\n",
       "      <td>NaN</td>\n",
       "      <td>NaN</td>\n",
       "    </tr>\n",
       "  </tbody>\n",
       "</table>\n",
       "<p>12074 rows × 15 columns</p>\n",
       "</div>"
      ],
      "text/plain": [
       "       C00000059                                 HALLMARK CARDS PAC  \\\n",
       "0      C00000422  AMERICAN MEDICAL ASSOCIATION POLITICAL ACTION ...   \n",
       "1      C00000489               D R I V E POLITICAL FUND CHAPTER 886   \n",
       "2      C00000547  KANSAS MEDICAL SOCIETY POLITICAL ACTION COMMITTEE   \n",
       "3      C00000638  INDIANA STATE MEDICAL ASSOCIATION POLITICAL AC...   \n",
       "4      C00000729  AMERICAN DENTAL ASSOCIATION POLITICAL ACTION C...   \n",
       "...          ...                                                ...   \n",
       "12069  C90015363             LONG ISLAND LAW ENFORCEMENT FOUNDATION   \n",
       "12070  C90015371                                ENVIRONMENT FLORIDA   \n",
       "12071  C90015389                  DOUG MAGEE FOR CONGRESS COMMITTEE   \n",
       "12072  C99002396                AMERICAN POLITICAL ACTION COMMITTEE   \n",
       "12073  C99003428                    THIRD DISTRICT REPUBLICAN PARTY   \n",
       "\n",
       "                  DEAN RODENBOUGH                   2501 MCGEE      MD#288  \\\n",
       "0                   WALKER, KEVIN     25 MASSACHUSETTS AVE, NW   SUITE 600   \n",
       "1                      TOM RITTER                  3528 W RENO         NaN   \n",
       "2      C. RICHARD BONEBRAKE, M.D.              623 SW 10TH AVE         NaN   \n",
       "3                VIDYA KORA, M.D.  322 CANAL WALK, CANAL LEVEL         NaN   \n",
       "4          HARRISON, THOMAS C. DR         1111 14TH STREET, NW  SUITE 1100   \n",
       "...                           ...                          ...         ...   \n",
       "12069                         NaN  868 CHURCH STREET - SUITE 1         NaN   \n",
       "12070                         NaN    3110 1ST AVE. N. SUITE 2K         NaN   \n",
       "12071                         NaN           3040 FAIRWAY DRIVE         NaN   \n",
       "12072               VERSNEL, J.H.                  PO BOX 1682         NaN   \n",
       "12073             GERALD J HAMILL          C/O GERALD J HAMILL   PO BOX 36   \n",
       "\n",
       "          KANSAS CITY  MO      64108  U  Q  UNK  M    C  \\\n",
       "0          WASHINGTON  DC      20001  B  Q  NaN  M    M   \n",
       "1       OKLAHOMA CITY  OK      73107  U  N  NaN  Q    L   \n",
       "2              TOPEKA  KS      66612  U  Q  UNK  Q    T   \n",
       "3        INDIANAPOLIS  IN      46202  U  Q  NaN  Q    M   \n",
       "4          WASHINGTON  DC      20005  B  Q  UNK  M    M   \n",
       "...               ...  ..        ... .. ..  ... ..  ...   \n",
       "12069         BOHEMIA  NY        NaN  U  I  NaN  Q  NaN   \n",
       "12070  ST. PETERSBURG  FL      33713  U  I  NaN  Q  NaN   \n",
       "12071         BRANDON  MS      39047  U  I  NaN  Q  NaN   \n",
       "12072        BELLEVUE  WA      98009  U  Q  NaN  Q    M   \n",
       "12073      EAU CLAIRE  WI  547020036  U  Y  REP  Q  NaN   \n",
       "\n",
       "                        Unnamed: 13 Unnamed: 14  \n",
       "0      AMERICAN MEDICAL ASSOCIATION         NaN  \n",
       "1         TEAMSTERS LOCAL UNION 886         NaN  \n",
       "2                               NaN         NaN  \n",
       "3                               NaN         NaN  \n",
       "4       AMERICAN DENTAL ASSOCIATION         NaN  \n",
       "...                             ...         ...  \n",
       "12069                           NaN         NaN  \n",
       "12070                           NaN         NaN  \n",
       "12071                           NaN         NaN  \n",
       "12072                          NONE         NaN  \n",
       "12073                           NaN         NaN  \n",
       "\n",
       "[12074 rows x 15 columns]"
      ]
     },
     "execution_count": 27,
     "metadata": {},
     "output_type": "execute_result"
    }
   ],
   "source": [
    "pd.read_csv('cm.txt', sep='|')"
   ]
  },
  {
   "cell_type": "code",
   "execution_count": 24,
   "metadata": {
    "collapsed": false
   },
   "outputs": [
    {
     "data": {
      "text/html": [
       "<div>\n",
       "<table border=\"1\" class=\"dataframe\">\n",
       "  <thead>\n",
       "    <tr style=\"text-align: right;\">\n",
       "      <th></th>\n",
       "      <th>CMTE_ID</th>\n",
       "      <th>AMNDT_IND</th>\n",
       "      <th>RPT_TP</th>\n",
       "      <th>TRANSACTION_PGI</th>\n",
       "      <th>IMAGE_NUM</th>\n",
       "      <th>TRANSACTION_TP</th>\n",
       "      <th>ENTITY_TP</th>\n",
       "      <th>NAME</th>\n",
       "      <th>CITY</th>\n",
       "      <th>STATE</th>\n",
       "      <th>...</th>\n",
       "      <th>EMPLOYER</th>\n",
       "      <th>OCCUPATION</th>\n",
       "      <th>TRANSACTION_DT</th>\n",
       "      <th>TRANSACTION_AMT</th>\n",
       "      <th>OTHER_ID</th>\n",
       "      <th>TRAN_ID</th>\n",
       "      <th>FILE_NUM</th>\n",
       "      <th>MEMO_CD</th>\n",
       "      <th>MEMO_TEXT</th>\n",
       "      <th>SUB_ID</th>\n",
       "    </tr>\n",
       "  </thead>\n",
       "  <tbody>\n",
       "    <tr>\n",
       "      <th>0</th>\n",
       "      <td>C00004606</td>\n",
       "      <td>N</td>\n",
       "      <td>M4</td>\n",
       "      <td>P</td>\n",
       "      <td>15951124869</td>\n",
       "      <td>15</td>\n",
       "      <td>IND</td>\n",
       "      <td>ARNOLD, ROBERT</td>\n",
       "      <td>MCPHERSON</td>\n",
       "      <td>KS</td>\n",
       "      <td>...</td>\n",
       "      <td>SELF</td>\n",
       "      <td>OPTOMETRIST</td>\n",
       "      <td>3102015</td>\n",
       "      <td>1000</td>\n",
       "      <td>NaN</td>\n",
       "      <td>SA11AI.20747</td>\n",
       "      <td>1002259</td>\n",
       "      <td>NaN</td>\n",
       "      <td>NaN</td>\n",
       "      <td>4041320151241796098</td>\n",
       "    </tr>\n",
       "    <tr>\n",
       "      <th>1</th>\n",
       "      <td>C00004606</td>\n",
       "      <td>N</td>\n",
       "      <td>M4</td>\n",
       "      <td>P</td>\n",
       "      <td>15951124869</td>\n",
       "      <td>15</td>\n",
       "      <td>IND</td>\n",
       "      <td>BICKLE, DON</td>\n",
       "      <td>HAYS</td>\n",
       "      <td>KS</td>\n",
       "      <td>...</td>\n",
       "      <td>RETIRED</td>\n",
       "      <td>RETIRED</td>\n",
       "      <td>3302015</td>\n",
       "      <td>1000</td>\n",
       "      <td>NaN</td>\n",
       "      <td>SA11AI.20772</td>\n",
       "      <td>1002259</td>\n",
       "      <td>NaN</td>\n",
       "      <td>NaN</td>\n",
       "      <td>4041320151241796099</td>\n",
       "    </tr>\n",
       "    <tr>\n",
       "      <th>2</th>\n",
       "      <td>C00004606</td>\n",
       "      <td>N</td>\n",
       "      <td>M4</td>\n",
       "      <td>P</td>\n",
       "      <td>15951124869</td>\n",
       "      <td>15</td>\n",
       "      <td>IND</td>\n",
       "      <td>ROSSMAN, RICHARD</td>\n",
       "      <td>OLATHE</td>\n",
       "      <td>KS</td>\n",
       "      <td>...</td>\n",
       "      <td>CRAWFORD SALES COMPANY</td>\n",
       "      <td>BUSINESSMAN</td>\n",
       "      <td>3302015</td>\n",
       "      <td>250</td>\n",
       "      <td>NaN</td>\n",
       "      <td>SA11AI.20759</td>\n",
       "      <td>1002259</td>\n",
       "      <td>NaN</td>\n",
       "      <td>NaN</td>\n",
       "      <td>4041320151241796100</td>\n",
       "    </tr>\n",
       "    <tr>\n",
       "      <th>3</th>\n",
       "      <td>C00452383</td>\n",
       "      <td>N</td>\n",
       "      <td>M4</td>\n",
       "      <td>P</td>\n",
       "      <td>15951124897</td>\n",
       "      <td>15</td>\n",
       "      <td>IND</td>\n",
       "      <td>LLEWELLYN, CHARLES</td>\n",
       "      <td>FREDERICK</td>\n",
       "      <td>MD</td>\n",
       "      <td>...</td>\n",
       "      <td>NaN</td>\n",
       "      <td>NaN</td>\n",
       "      <td>3112015</td>\n",
       "      <td>500</td>\n",
       "      <td>NaN</td>\n",
       "      <td>SA11AI.25088</td>\n",
       "      <td>1002261</td>\n",
       "      <td>NaN</td>\n",
       "      <td>NaN</td>\n",
       "      <td>4041320151241796102</td>\n",
       "    </tr>\n",
       "    <tr>\n",
       "      <th>4</th>\n",
       "      <td>C00452383</td>\n",
       "      <td>N</td>\n",
       "      <td>M4</td>\n",
       "      <td>P</td>\n",
       "      <td>15951124897</td>\n",
       "      <td>15</td>\n",
       "      <td>IND</td>\n",
       "      <td>TYNES, TIMOTHY MR.</td>\n",
       "      <td>VERO BEACH</td>\n",
       "      <td>FL</td>\n",
       "      <td>...</td>\n",
       "      <td>NaN</td>\n",
       "      <td>NaN</td>\n",
       "      <td>3022015</td>\n",
       "      <td>250</td>\n",
       "      <td>NaN</td>\n",
       "      <td>SA11AI.25074</td>\n",
       "      <td>1002261</td>\n",
       "      <td>NaN</td>\n",
       "      <td>NaN</td>\n",
       "      <td>4041320151241796103</td>\n",
       "    </tr>\n",
       "  </tbody>\n",
       "</table>\n",
       "<p>5 rows × 21 columns</p>\n",
       "</div>"
      ],
      "text/plain": [
       "     CMTE_ID AMNDT_IND RPT_TP TRANSACTION_PGI    IMAGE_NUM TRANSACTION_TP  \\\n",
       "0  C00004606         N     M4               P  15951124869             15   \n",
       "1  C00004606         N     M4               P  15951124869             15   \n",
       "2  C00004606         N     M4               P  15951124869             15   \n",
       "3  C00452383         N     M4               P  15951124897             15   \n",
       "4  C00452383         N     M4               P  15951124897             15   \n",
       "\n",
       "  ENTITY_TP                NAME        CITY STATE         ...           \\\n",
       "0       IND      ARNOLD, ROBERT   MCPHERSON    KS         ...            \n",
       "1       IND         BICKLE, DON        HAYS    KS         ...            \n",
       "2       IND    ROSSMAN, RICHARD      OLATHE    KS         ...            \n",
       "3       IND  LLEWELLYN, CHARLES   FREDERICK    MD         ...            \n",
       "4       IND  TYNES, TIMOTHY MR.  VERO BEACH    FL         ...            \n",
       "\n",
       "                 EMPLOYER   OCCUPATION TRANSACTION_DT  TRANSACTION_AMT  \\\n",
       "0                    SELF  OPTOMETRIST        3102015             1000   \n",
       "1                 RETIRED      RETIRED        3302015             1000   \n",
       "2  CRAWFORD SALES COMPANY  BUSINESSMAN        3302015              250   \n",
       "3                     NaN          NaN        3112015              500   \n",
       "4                     NaN          NaN        3022015              250   \n",
       "\n",
       "   OTHER_ID       TRAN_ID FILE_NUM  MEMO_CD MEMO_TEXT               SUB_ID  \n",
       "0       NaN  SA11AI.20747  1002259      NaN       NaN  4041320151241796098  \n",
       "1       NaN  SA11AI.20772  1002259      NaN       NaN  4041320151241796099  \n",
       "2       NaN  SA11AI.20759  1002259      NaN       NaN  4041320151241796100  \n",
       "3       NaN  SA11AI.25088  1002261      NaN       NaN  4041320151241796102  \n",
       "4       NaN  SA11AI.25074  1002261      NaN       NaN  4041320151241796103  \n",
       "\n",
       "[5 rows x 21 columns]"
      ]
     },
     "execution_count": 24,
     "metadata": {},
     "output_type": "execute_result"
    }
   ],
   "source": [
    "df.head()"
   ]
  },
  {
   "cell_type": "code",
   "execution_count": 25,
   "metadata": {
    "collapsed": false
   },
   "outputs": [
    {
     "name": "stdout",
     "output_type": "stream",
     "text": [
      "<class 'pandas.core.frame.DataFrame'>\n",
      "Int64Index: 205519 entries, 0 to 205518\n",
      "Data columns (total 21 columns):\n",
      "CMTE_ID            205519 non-null object\n",
      "AMNDT_IND          205519 non-null object\n",
      "RPT_TP             205519 non-null object\n",
      "TRANSACTION_PGI    205444 non-null object\n",
      "IMAGE_NUM          205519 non-null int64\n",
      "TRANSACTION_TP     205519 non-null object\n",
      "ENTITY_TP          205365 non-null object\n",
      "NAME               205510 non-null object\n",
      "CITY               205373 non-null object\n",
      "STATE              205151 non-null object\n",
      "ZIP_CODE           204899 non-null object\n",
      "EMPLOYER           165614 non-null object\n",
      "OCCUPATION         171342 non-null object\n",
      "TRANSACTION_DT     205518 non-null float64\n",
      "TRANSACTION_AMT    205519 non-null int64\n",
      "OTHER_ID           29908 non-null object\n",
      "TRAN_ID            205507 non-null object\n",
      "FILE_NUM           205519 non-null int64\n",
      "MEMO_CD            5471 non-null object\n",
      "MEMO_TEXT          48980 non-null object\n",
      "SUB_ID             205519 non-null int64\n",
      "dtypes: float64(1), int64(4), object(16)\n",
      "memory usage: 34.5+ MB\n"
     ]
    }
   ],
   "source": [
    "df.info()"
   ]
  },
  {
   "cell_type": "code",
   "execution_count": null,
   "metadata": {
    "collapsed": true
   },
   "outputs": [],
   "source": []
  },
  {
   "cell_type": "code",
   "execution_count": 211,
   "metadata": {
    "collapsed": false
   },
   "outputs": [
    {
     "data": {
      "text/plain": [
       "<matplotlib.axes._subplots.AxesSubplot at 0x12a5ccd30>"
      ]
     },
     "execution_count": 211,
     "metadata": {},
     "output_type": "execute_result"
    },
    {
     "data": {
      "image/png": "[encoded data removed]",
      "text/plain": [
       "<matplotlib.figure.Figure at 0x1314b7dd8>"
      ]
     },
     "metadata": {},
     "output_type": "display_data"
    }
   ],
   "source": [
    "df.groupby('date').TRANSACTION_AMT.sum().loc['2015':].resample('D', how='sum').plot()"
   ]
  },
  {
   "cell_type": "code",
   "execution_count": 199,
   "metadata": {
    "collapsed": false
   },
   "outputs": [
    {
     "data": {
      "text/plain": [
       "<matplotlib.axes._subplots.AxesSubplot at 0x131c11160>"
      ]
     },
     "execution_count": 199,
     "metadata": {},
     "output_type": "execute_result"
    },
    {
     "data": {
      "image/png": "[encoded data removed]",
      "text/plain": [
       "<matplotlib.figure.Figure at 0x110b92fd0>"
      ]
     },
     "metadata": {},
     "output_type": "display_data"
    }
   ],
   "source": [
    "ts = df.groupby('date').TRANSACTION_AMT.sum().resample('W', how='sum')\n",
    "ts.loc['2014':].plot()"
   ]
  },
  {
   "cell_type": "code",
   "execution_count": null,
   "metadata": {
    "collapsed": true
   },
   "outputs": [],
   "source": []
  }
 ],
 "metadata": {
  "kernelspec": {
   "display_name": "Python 3",
   "language": "python",
   "name": "python3"
  },
  "language_info": {
   "codemirror_mode": {
    "name": "ipython",
    "version": 3
   },
   "file_extension": ".py",
   "mimetype": "text/x-python",
   "name": "python",
   "nbconvert_exporter": "python",
   "pygments_lexer": "ipython3",
   "version": "3.4.3"
  }
 },
 "nbformat": 4,
 "nbformat_minor": 0
}
