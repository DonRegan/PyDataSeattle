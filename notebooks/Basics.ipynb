{
 "cells": [
  {
   "cell_type": "markdown",
   "metadata": {},
   "source": [
    "We'll cover the basics here.\n",
    "\n",
    "Outline:\n",
    "\n",
    "- Philosophy\n",
    "- numpy fondation\n",
    "- basic IO\n",
    "- Data Structures\n",
    "\n",
    "## Philosophy\n",
    "\n",
    "It's helpful to understand the goals of pandas, in the context of the problems it tries to solve.\n",
    "pandas aims to provide an API that enables you to exprsively(?) and concisely eppjalwij.\n",
    "Achieving this goal is complicated the nature of the world: datasets are messy or incomplete.\n",
    "\n",
    "## Numpy Foundation\n",
    "\n",
    "pandas is builds atop NumPy, historically and in the actual library.\n",
    "It's helpful to have a good understanding of some NumPyisms. [Speak the vernacular](https://www.youtube.com/watch?v=u2yvNw49AX4).\n",
    "\n",
    "### dtypes\n",
    "\n",
    "It's an unfortunate fact that at some point in using pandas (or NumPy), you'll have to worry about data-types.\n",
    "\n",
    "The full list of NumPy dtypes can be found in the [NumPy documentation](http://docs.scipy.org/doc/numpy/user/basics.types.html).\n",
    "\n",
    "The two biggest things to remember are\n",
    "\n",
    "- Missing values (NaN) cast integer or boolean to floats\n",
    "- the object dtype is the fallback\n",
    "\n",
    "You'll want to avoid object dtypes.\n",
    "\n",
    "### Broadcasting\n",
    "\n",
    "It's super cool and super useful."
   ]
  },
  {
   "cell_type": "markdown",
   "metadata": {},
   "source": [
    "We'll breeze through the basics here, and get onto some interesting applications in a bit. I want to provide the *barest* of intuition so things stick down the road.\n",
    "\n",
    "## Data Structures\n",
    "\n",
    "This is the typical starting point for any intro to pandas.\n",
    "We'll follow suit.\n",
    "\n",
    "### The DataFrame\n",
    "\n",
    "Here we have the workhorse data structure for pandas.\n",
    "It's an in-memory table holding your data, which provides a few conviniences over lists of lists or NumPy arrays\n",
    "\n",
    "- labeled indexing\n",
    "- hetorogeneous data\n",
    "- missing data\n",
    "- convinience methods"
   ]
  },
  {
   "cell_type": "code",
   "execution_count": 8,
   "metadata": {
    "collapsed": true
   },
   "outputs": [],
   "source": [
    "import numpy as np\n",
    "import pandas as pd"
   ]
  },
  {
   "cell_type": "code",
   "execution_count": 3,
   "metadata": {
    "collapsed": false
   },
   "outputs": [
    {
     "data": {
      "text/html": [
       "<div>\n",
       "<table border=\"1\" class=\"dataframe\">\n",
       "  <thead>\n",
       "    <tr style=\"text-align: right;\">\n",
       "      <th></th>\n",
       "      <th>A</th>\n",
       "      <th>B</th>\n",
       "      <th>C</th>\n",
       "    </tr>\n",
       "  </thead>\n",
       "  <tbody>\n",
       "    <tr>\n",
       "      <th>a</th>\n",
       "      <td>1</td>\n",
       "      <td>True</td>\n",
       "      <td>0.496714</td>\n",
       "    </tr>\n",
       "    <tr>\n",
       "      <th>b</th>\n",
       "      <td>2</td>\n",
       "      <td>True</td>\n",
       "      <td>-0.138264</td>\n",
       "    </tr>\n",
       "    <tr>\n",
       "      <th>c</th>\n",
       "      <td>3</td>\n",
       "      <td>False</td>\n",
       "      <td>0.647689</td>\n",
       "    </tr>\n",
       "  </tbody>\n",
       "</table>\n",
       "</div>"
      ],
      "text/plain": [
       "   A      B         C\n",
       "a  1   True  0.496714\n",
       "b  2   True -0.138264\n",
       "c  3  False  0.647689"
      ]
     },
     "execution_count": 3,
     "metadata": {},
     "output_type": "execute_result"
    }
   ],
   "source": [
    "# Many ways to construct a DataFrame\n",
    "# We pass a dict of {column name: column values}\n",
    "np.random.seed(42)\n",
    "df = pd.DataFrame({'A': [1, 2, 3], 'B': [True, True, False],\n",
    "                   'C': np.random.randn(3)},\n",
    "                  index=['a', 'b', 'c'])  # also this weird index thing\n",
    "df"
   ]
  },
  {
   "cell_type": "markdown",
   "metadata": {},
   "source": [
    "### Selecting\n",
    "\n",
    "Our first improvement over numpy arrays is labeled indexing. We can select subsets by column, row, or both. Column selection uses the regular python `__getitem__` machinery. Pass in a single column label `'A'` or a list of labels `['A', 'C']` to select subsets of the original `DataFrame`."
   ]
  },
  {
   "cell_type": "code",
   "execution_count": 4,
   "metadata": {
    "collapsed": false
   },
   "outputs": [
    {
     "data": {
      "text/html": [
       "<div>\n",
       "<table border=\"1\" class=\"dataframe\">\n",
       "  <thead>\n",
       "    <tr style=\"text-align: right;\">\n",
       "      <th></th>\n",
       "      <th>A</th>\n",
       "      <th>C</th>\n",
       "    </tr>\n",
       "  </thead>\n",
       "  <tbody>\n",
       "    <tr>\n",
       "      <th>a</th>\n",
       "      <td>1</td>\n",
       "      <td>0.496714</td>\n",
       "    </tr>\n",
       "    <tr>\n",
       "      <th>b</th>\n",
       "      <td>2</td>\n",
       "      <td>-0.138264</td>\n",
       "    </tr>\n",
       "    <tr>\n",
       "      <th>c</th>\n",
       "      <td>3</td>\n",
       "      <td>0.647689</td>\n",
       "    </tr>\n",
       "  </tbody>\n",
       "</table>\n",
       "</div>"
      ],
      "text/plain": [
       "   A         C\n",
       "a  1  0.496714\n",
       "b  2 -0.138264\n",
       "c  3  0.647689"
      ]
     },
     "execution_count": 4,
     "metadata": {},
     "output_type": "execute_result"
    }
   ],
   "source": [
    "df[['A', 'C']]"
   ]
  },
  {
   "cell_type": "markdown",
   "metadata": {},
   "source": [
    "For row-wise selection, use the special `.loc` accessor."
   ]
  },
  {
   "cell_type": "code",
   "execution_count": 5,
   "metadata": {
    "collapsed": false
   },
   "outputs": [
    {
     "data": {
      "text/plain": [
       "A            1\n",
       "B         True\n",
       "C    0.4967142\n",
       "Name: a, dtype: object"
      ]
     },
     "execution_count": 5,
     "metadata": {},
     "output_type": "execute_result"
    }
   ],
   "source": [
    "df.loc['a']"
   ]
  },
  {
   "cell_type": "markdown",
   "metadata": {},
   "source": [
    "When your index labels are ordered, you can use *ranges* to rows or columns."
   ]
  },
  {
   "cell_type": "code",
   "execution_count": 17,
   "metadata": {
    "collapsed": false
   },
   "outputs": [
    {
     "data": {
      "text/html": [
       "<div>\n",
       "<table border=\"1\" class=\"dataframe\">\n",
       "  <thead>\n",
       "    <tr style=\"text-align: right;\">\n",
       "      <th></th>\n",
       "      <th>A</th>\n",
       "      <th>B</th>\n",
       "      <th>C</th>\n",
       "    </tr>\n",
       "  </thead>\n",
       "  <tbody>\n",
       "    <tr>\n",
       "      <th>a</th>\n",
       "      <td>1</td>\n",
       "      <td>True</td>\n",
       "      <td>-0.941808</td>\n",
       "    </tr>\n",
       "    <tr>\n",
       "      <th>b</th>\n",
       "      <td>2</td>\n",
       "      <td>True</td>\n",
       "      <td>-0.921615</td>\n",
       "    </tr>\n",
       "  </tbody>\n",
       "</table>\n",
       "</div>"
      ],
      "text/plain": [
       "   A     B         C\n",
       "a  1  True -0.941808\n",
       "b  2  True -0.921615"
      ]
     },
     "execution_count": 17,
     "metadata": {},
     "output_type": "execute_result"
    }
   ],
   "source": [
    "df.loc['a':'b']"
   ]
  },
  {
   "cell_type": "markdown",
   "metadata": {},
   "source": [
    "Notice that the slice is *inclusive* on both sides,  unlike your typical slicing of a list. Sometimes, you'd rather slice by *position* instead of label. `.iloc` has you covered:"
   ]
  },
  {
   "cell_type": "code",
   "execution_count": 21,
   "metadata": {
    "collapsed": false
   },
   "outputs": [
    {
     "data": {
      "text/plain": [
       "A            1\n",
       "B         True\n",
       "C   -0.9418082\n",
       "Name: a, dtype: object"
      ]
     },
     "execution_count": 21,
     "metadata": {},
     "output_type": "execute_result"
    }
   ],
   "source": [
    "df.iloc[0]"
   ]
  },
  {
   "cell_type": "markdown",
   "metadata": {},
   "source": [
    "As I mentioned, you can slice both rows and columns. Use `.loc` for label or `.iloc` for position indexing."
   ]
  },
  {
   "cell_type": "code",
   "execution_count": 24,
   "metadata": {
    "collapsed": false
   },
   "outputs": [
    {
     "data": {
      "text/plain": [
       "True"
      ]
     },
     "execution_count": 24,
     "metadata": {},
     "output_type": "execute_result"
    }
   ],
   "source": [
    "df.loc['a', 'B']"
   ]
  },
  {
   "cell_type": "markdown",
   "metadata": {},
   "source": [
    "Pandas, like NumPy, will reduce dimensions when possible. Select a single column and you get back `Series` (see below). Select a single row and single column, you get a scalar.\n",
    "\n",
    "You can get pretty fancy:"
   ]
  },
  {
   "cell_type": "code",
   "execution_count": 26,
   "metadata": {
    "collapsed": false
   },
   "outputs": [
    {
     "data": {
      "text/html": [
       "<div>\n",
       "<table border=\"1\" class=\"dataframe\">\n",
       "  <thead>\n",
       "    <tr style=\"text-align: right;\">\n",
       "      <th></th>\n",
       "      <th>A</th>\n",
       "      <th>C</th>\n",
       "    </tr>\n",
       "  </thead>\n",
       "  <tbody>\n",
       "    <tr>\n",
       "      <th>a</th>\n",
       "      <td>1</td>\n",
       "      <td>-0.941808</td>\n",
       "    </tr>\n",
       "    <tr>\n",
       "      <th>b</th>\n",
       "      <td>2</td>\n",
       "      <td>-0.921615</td>\n",
       "    </tr>\n",
       "  </tbody>\n",
       "</table>\n",
       "</div>"
      ],
      "text/plain": [
       "   A         C\n",
       "a  1 -0.941808\n",
       "b  2 -0.921615"
      ]
     },
     "execution_count": 26,
     "metadata": {},
     "output_type": "execute_result"
    }
   ],
   "source": [
    "df.loc['a':'b', ['A', 'C']]"
   ]
  },
  {
   "cell_type": "markdown",
   "metadata": {},
   "source": [
    "### Series\n",
    "\n",
    "You've already seen some `Series` up above. It's the 1-dimensional analog of the DataFrame. Each column in a `DataFrame` is in some sense a `Series`. You can select a `Series` from a DataFrame in a few ways:"
   ]
  },
  {
   "cell_type": "code",
   "execution_count": 43,
   "metadata": {
    "collapsed": false
   },
   "outputs": [
    {
     "data": {
      "text/plain": [
       "a    1\n",
       "b    2\n",
       "c    3\n",
       "Name: A, dtype: int64"
      ]
     },
     "execution_count": 43,
     "metadata": {},
     "output_type": "execute_result"
    }
   ],
   "source": [
    "# __getitem__ like before\n",
    "df['A']"
   ]
  },
  {
   "cell_type": "code",
   "execution_count": 44,
   "metadata": {
    "collapsed": false
   },
   "outputs": [
    {
     "data": {
      "text/plain": [
       "a    1\n",
       "b    2\n",
       "c    3\n",
       "Name: A, dtype: int64"
      ]
     },
     "execution_count": 44,
     "metadata": {},
     "output_type": "execute_result"
    }
   ],
   "source": [
    "# .loc, like before\n",
    "df.loc[:, 'A']"
   ]
  },
  {
   "cell_type": "code",
   "execution_count": 46,
   "metadata": {
    "collapsed": false
   },
   "outputs": [
    {
     "data": {
      "text/plain": [
       "a    1\n",
       "b    2\n",
       "c    3\n",
       "Name: A, dtype: int64"
      ]
     },
     "execution_count": 46,
     "metadata": {},
     "output_type": "execute_result"
    }
   ],
   "source": [
    "# using `.` attribute lookup\n",
    "df.A"
   ]
  },
  {
   "cell_type": "markdown",
   "metadata": {},
   "source": [
    "You'll have to be careful with the last one. It won't work if you're column name isn't a valid python identifier (say it has a space) or if it conflicts with one of the (many) methods on `DataFrame`. The `.` accessor is extremely convient for interactive use though.\n",
    "\n",
    "You should never *assign* a column with `.` e.g. don't do\n",
    "\n",
    "```python\n",
    "# bad\n",
    "df.A = [1, 2, 3]\n",
    "```\n",
    "\n",
    "It's unclear whether your attaching the list `[1, 2, 3]` as an attirbute of `df`, or whether you want it as a column. It's better to just say\n",
    "\n",
    "```python\n",
    "df['A'] = [1, 2, 3]\n",
    "# or\n",
    "df.loc[:, 'A'] = [1, 2, 3]\n",
    "```"
   ]
  },
  {
   "cell_type": "markdown",
   "metadata": {},
   "source": [
    "`Series` share many of the same methods as DataFrames."
   ]
  },
  {
   "cell_type": "code",
   "execution_count": 18,
   "metadata": {
    "collapsed": false
   },
   "outputs": [
    {
     "data": {
      "text/plain": [
       "0.6937984496124031"
      ]
     },
     "execution_count": 18,
     "metadata": {},
     "output_type": "execute_result"
    }
   ],
   "source": [
    "frame_methods = set(filter(lambda x: not x.startswith('_'), dir(df)))\n",
    "series_methods = set(filter(lambda x: not x.startswith('_'), dir(df['A'])))\n",
    "len(frame_methods & series_methods) / len(frame_methods | series_methods)"
   ]
  },
  {
   "cell_type": "markdown",
   "metadata": {},
   "source": [
    "About 70% overlap."
   ]
  },
  {
   "cell_type": "markdown",
   "metadata": {},
   "source": [
    "You might wonder what benefit having a separate class for `Series` has over just having a `DataFrame` with a single column. As we uncover more of pandas, I'll be sure to point them out. But as a preview, `Series` are mappable"
   ]
  },
  {
   "cell_type": "code",
   "execution_count": 64,
   "metadata": {
    "collapsed": false
   },
   "outputs": [
    {
     "name": "stdout",
     "output_type": "stream",
     "text": [
      "Series:\n",
      "a    one\n",
      "b    two\n",
      "c    NaN\n",
      "Name: A, dtype: object\n",
      "\n",
      "DataFrames are not mappable!\n"
     ]
    }
   ],
   "source": [
    "print('Series:\\n', df.A.map({1: 'one', 2: 'two'}), end='\\n\\n', sep='')\n",
    "\n",
    "try:\n",
    "    print(df[['A']].map({1: 'one', 2: 'two'}))\n",
    "except:\n",
    "    print('DataFrames are not mappable!')"
   ]
  },
  {
   "cell_type": "markdown",
   "metadata": {},
   "source": [
    "Series can be used as boolean indexers (more later)"
   ]
  },
  {
   "cell_type": "code",
   "execution_count": 75,
   "metadata": {
    "collapsed": false
   },
   "outputs": [
    {
     "name": "stdout",
     "output_type": "stream",
     "text": [
      "Series:\n",
      "   A     B         C\n",
      "a  1  True -0.941808\n",
      "b  2  True -0.921615\n",
      "\n",
      "DataFrame:\n",
      "    A   B   C\n",
      "a NaN   1 NaN\n",
      "b NaN   1 NaN\n",
      "c NaN NaN NaN\n"
     ]
    }
   ],
   "source": [
    "# return rows where 'B' is True\n",
    "print(\"Series:\", df[df.B], sep='\\n', end='\\n\\n')\n",
    "\n",
    "print(\"DataFrame:\", df[df[['B']]], sep='\\n')"
   ]
  },
  {
   "cell_type": "markdown",
   "metadata": {},
   "source": [
    "The DataFrame result probably isn't what you expected to get. I'll explain why in `reindexing`.\n",
    "\n",
    "Seires can be used in `groupby`."
   ]
  },
  {
   "cell_type": "code",
   "execution_count": 84,
   "metadata": {
    "collapsed": false
   },
   "outputs": [
    {
     "name": "stdout",
     "output_type": "stream",
     "text": [
      "Series\n",
      "B\n",
      "False    1\n",
      "True     2\n",
      "Name: A, dtype: int64\n",
      "Can't group by DataFrame\n"
     ]
    },
    {
     "name": "stderr",
     "output_type": "stream",
     "text": [
      "/Users/tom.augspurger/Envs/py3/lib/python3.4/site-packages/pandas-0.16.2_11_gd8a2f30-py3.4-macosx-10.10-x86_64.egg/pandas/core/internals.py:956: FutureWarning: elementwise comparison failed; returning scalar instead, but in the future will perform elementwise comparison\n",
      "  return self._try_coerce_result(func(values, other))\n"
     ]
    }
   ],
   "source": [
    "print(\"Series\", df.groupby(df['B']).A.count(), sep='\\n', end='\\n')\n",
    "\n",
    "try:\n",
    "    df.groupby(df[['B']]).A.count()\n",
    "except ValueError:\n",
    "    print(\"Can't group by DataFrame\")"
   ]
  },
  {
   "cell_type": "markdown",
   "metadata": {},
   "source": [
    "And other methods like `value_counts` or the `.str` methods either haven't been implemented on `DataFrame` or don't make as much sense."
   ]
  },
  {
   "cell_type": "markdown",
   "metadata": {},
   "source": [
    "### Index\n",
    "\n",
    "Indexes are something of a peculiarity to pandas.\n",
    "First off, they are not the kind of Indexes you'll find in SQL, which are used to help the engine speed up certain queries.\n",
    "In pandas, Indexes are about row-lables.\n",
    "\n",
    "R does have row labels, but they're nowhere near as powerful (or complicated) as the are in pandas. You can access the index of a `DataFrame` or `Series` with the `.index` attribute."
   ]
  },
  {
   "cell_type": "code",
   "execution_count": 88,
   "metadata": {
    "collapsed": false
   },
   "outputs": [
    {
     "data": {
      "text/plain": [
       "Index(['a', 'b', 'c'], dtype='object')"
      ]
     },
     "execution_count": 88,
     "metadata": {},
     "output_type": "execute_result"
    }
   ],
   "source": [
    "df.index"
   ]
  },
  {
   "cell_type": "markdown",
   "metadata": {},
   "source": [
    "What are indexes useful for? Without getting too into the weeds you can slice with them"
   ]
  },
  {
   "cell_type": "code",
   "execution_count": 94,
   "metadata": {
    "collapsed": false
   },
   "outputs": [
    {
     "data": {
      "text/html": [
       "<div>\n",
       "<table border=\"1\" class=\"dataframe\">\n",
       "  <thead>\n",
       "    <tr style=\"text-align: right;\">\n",
       "      <th></th>\n",
       "      <th>A</th>\n",
       "      <th>B</th>\n",
       "      <th>C</th>\n",
       "    </tr>\n",
       "  </thead>\n",
       "  <tbody>\n",
       "    <tr>\n",
       "      <th>a</th>\n",
       "      <td>1</td>\n",
       "      <td>True</td>\n",
       "      <td>-0.941808</td>\n",
       "    </tr>\n",
       "    <tr>\n",
       "      <th>b</th>\n",
       "      <td>2</td>\n",
       "      <td>True</td>\n",
       "      <td>-0.921615</td>\n",
       "    </tr>\n",
       "  </tbody>\n",
       "</table>\n",
       "</div>"
      ],
      "text/plain": [
       "   A     B         C\n",
       "a  1  True -0.941808\n",
       "b  2  True -0.921615"
      ]
     },
     "execution_count": 94,
     "metadata": {},
     "output_type": "execute_result"
    }
   ],
   "source": [
    "df.loc[df.index[:2]]"
   ]
  },
  {
   "cell_type": "markdown",
   "metadata": {},
   "source": [
    "There are specical kinds of `Index`es that you'll come across. Some of these are\n",
    "\n",
    "- `MultiIndex` for multidimensional (Hierarchical) labels\n",
    "- `DatetimeIndex` for datetimes\n",
    "- `Float64Index` for floats\n",
    "- `CategoricalIndex` for, you guessed it, `Categorical`s\n",
    "\n",
    "We'll talk *a lot* more about indexes. They're a complex topic and can introduce headaches.\n",
    "\n",
    "<blockquote class=\"twitter-tweet\" lang=\"en\"><p lang=\"en\" dir=\"ltr\"><a href=\"https://twitter.com/gjreda\">@gjreda</a> <a href=\"https://twitter.com/treycausey\">@treycausey</a> in some cases row indexes are the best thing since sliced bread, in others they simply get in the way. Hard problem</p>&mdash; Wes McKinney (@wesmckinn) <a href=\"https://twitter.com/wesmckinn/status/547177248768659457\">December 22, 2014</a></blockquote> <script async src=\"//platform.twitter.com/widgets.js\" charset=\"utf-8\"></script>\n",
    "\n",
    "Pandas, for better or for worse, does provide ways around row indexes getting in the way. The problem is knowing *when* they are just getting in the way, which mostly comes by experience. Sorry."
   ]
  }
 ],
 "metadata": {
  "kernelspec": {
   "display_name": "Python 3",
   "language": "python",
   "name": "python3"
  },
  "language_info": {
   "codemirror_mode": {
    "name": "ipython",
    "version": 3
   },
   "file_extension": ".py",
   "mimetype": "text/x-python",
   "name": "python",
   "nbconvert_exporter": "python",
   "pygments_lexer": "ipython3",
   "version": "3.4.3"
  }
 },
 "nbformat": 4,
 "nbformat_minor": 0
}
