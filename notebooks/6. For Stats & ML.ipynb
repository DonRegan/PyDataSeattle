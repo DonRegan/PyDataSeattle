{
 "cells": [
  {
   "cell_type": "markdown",
   "metadata": {},
   "source": [
    "# Statistics and Machine Learning\n",
    "\n",
    "Some operations are especially useful for statistics\n",
    "\n",
    "- `get_dummies`\n",
    "- `from_dummies` ([someday](https://github.com/pydata/pandas/issues/8745)?)\n",
    "- Categoricals\n",
    "- `sample`\n"
   ]
  },
  {
   "cell_type": "code",
   "execution_count": 1,
   "metadata": {
    "collapsed": true
   },
   "outputs": [],
   "source": [
    "import numpy as np\n",
    "import pandas as pd\n",
    "import seaborn as sns\n",
    "import matplotlib.pyplot as plt\n",
    "\n",
    "pd.options.display.max_rows = 10\n",
    "%matplotlib inline"
   ]
  },
  {
   "cell_type": "markdown",
   "metadata": {},
   "source": [
    "It's quite common to have categorical data (in the statistical sense), which must be transformed before putting them into an algorithm. There are a couple ways to handle this.\n",
    "\n",
    "### Categoricals\n",
    "\n",
    "This basically creates a mapping between the categories and integers. This sometimes makes sense if you're representing soemthing like responses to a survey where the responses are `bad`, `neutral` and `good`."
   ]
  },
  {
   "cell_type": "code",
   "execution_count": 2,
   "metadata": {
    "collapsed": false
   },
   "outputs": [
    {
     "data": {
      "text/plain": [
       "0         bad\n",
       "1         bad\n",
       "2         bad\n",
       "3         bad\n",
       "4     neutral\n",
       "       ...   \n",
       "35       good\n",
       "36    neutral\n",
       "37        bad\n",
       "38        bad\n",
       "39    neutral\n",
       "dtype: object"
      ]
     },
     "execution_count": 2,
     "metadata": {},
     "output_type": "execute_result"
    }
   ],
   "source": [
    "np.random.seed(27)\n",
    "s = pd.Series(np.random.choice(['bad', 'neutral', 'good'], size=40))\n",
    "s"
   ]
  },
  {
   "cell_type": "code",
   "execution_count": 3,
   "metadata": {
    "collapsed": false
   },
   "outputs": [
    {
     "data": {
      "text/plain": [
       "0         bad\n",
       "1         bad\n",
       "2         bad\n",
       "3         bad\n",
       "4     neutral\n",
       "       ...   \n",
       "35       good\n",
       "36    neutral\n",
       "37        bad\n",
       "38        bad\n",
       "39    neutral\n",
       "dtype: category\n",
       "Categories (3, object): [bad, neutral, good]"
      ]
     },
     "execution_count": 3,
     "metadata": {},
     "output_type": "execute_result"
    }
   ],
   "source": [
    "np.random.seed(27)\n",
    "s = pd.Series(pd.Categorical(np.random.choice(['bad', 'neutral', 'good'], size=40),\n",
    "                             categories=['bad', 'neutral', 'good'], ordered=True))\n",
    "s"
   ]
  },
  {
   "cell_type": "markdown",
   "metadata": {},
   "source": [
    "Categoricals can put inside Series or DataFrames just like any other column. The have a\n",
    "a special `.cat` namespace."
   ]
  },
  {
   "cell_type": "code",
   "execution_count": 4,
   "metadata": {
    "collapsed": false
   },
   "outputs": [
    {
     "data": {
      "text/plain": [
       "Index(['bad', 'neutral', 'good'], dtype='object')"
      ]
     },
     "execution_count": 4,
     "metadata": {},
     "output_type": "execute_result"
    }
   ],
   "source": [
    "s.cat.categories"
   ]
  },
  {
   "cell_type": "code",
   "execution_count": 5,
   "metadata": {
    "collapsed": false
   },
   "outputs": [
    {
     "data": {
      "text/plain": [
       "0     0\n",
       "1     0\n",
       "2     0\n",
       "3     0\n",
       "4     1\n",
       "     ..\n",
       "35    2\n",
       "36    1\n",
       "37    0\n",
       "38    0\n",
       "39    1\n",
       "dtype: int8"
      ]
     },
     "execution_count": 5,
     "metadata": {},
     "output_type": "execute_result"
    }
   ],
   "source": [
    "s.cat.codes"
   ]
  },
  {
   "cell_type": "code",
   "execution_count": 6,
   "metadata": {
    "collapsed": false
   },
   "outputs": [
    {
     "data": {
      "text/html": [
       "<div>\n",
       "<table border=\"1\" class=\"dataframe\">\n",
       "  <thead>\n",
       "    <tr style=\"text-align: right;\">\n",
       "      <th></th>\n",
       "      <th>a</th>\n",
       "      <th>b</th>\n",
       "      <th>c</th>\n",
       "      <th>0</th>\n",
       "    </tr>\n",
       "  </thead>\n",
       "  <tbody>\n",
       "    <tr>\n",
       "      <th>0</th>\n",
       "      <td>0.371535</td>\n",
       "      <td>-1.335292</td>\n",
       "      <td>0.158730</td>\n",
       "      <td>bad</td>\n",
       "    </tr>\n",
       "    <tr>\n",
       "      <th>1</th>\n",
       "      <td>-0.484234</td>\n",
       "      <td>-0.829893</td>\n",
       "      <td>0.669012</td>\n",
       "      <td>bad</td>\n",
       "    </tr>\n",
       "    <tr>\n",
       "      <th>2</th>\n",
       "      <td>0.036602</td>\n",
       "      <td>1.026895</td>\n",
       "      <td>1.042563</td>\n",
       "      <td>bad</td>\n",
       "    </tr>\n",
       "    <tr>\n",
       "      <th>3</th>\n",
       "      <td>-0.867395</td>\n",
       "      <td>-0.556583</td>\n",
       "      <td>2.068296</td>\n",
       "      <td>bad</td>\n",
       "    </tr>\n",
       "    <tr>\n",
       "      <th>4</th>\n",
       "      <td>-0.241162</td>\n",
       "      <td>-0.416430</td>\n",
       "      <td>1.738168</td>\n",
       "      <td>neutral</td>\n",
       "    </tr>\n",
       "    <tr>\n",
       "      <th>...</th>\n",
       "      <td>...</td>\n",
       "      <td>...</td>\n",
       "      <td>...</td>\n",
       "      <td>...</td>\n",
       "    </tr>\n",
       "    <tr>\n",
       "      <th>35</th>\n",
       "      <td>-0.488712</td>\n",
       "      <td>-0.070807</td>\n",
       "      <td>0.220182</td>\n",
       "      <td>good</td>\n",
       "    </tr>\n",
       "    <tr>\n",
       "      <th>36</th>\n",
       "      <td>1.960017</td>\n",
       "      <td>0.600225</td>\n",
       "      <td>0.807731</td>\n",
       "      <td>neutral</td>\n",
       "    </tr>\n",
       "    <tr>\n",
       "      <th>37</th>\n",
       "      <td>0.620891</td>\n",
       "      <td>1.151247</td>\n",
       "      <td>-0.158203</td>\n",
       "      <td>bad</td>\n",
       "    </tr>\n",
       "    <tr>\n",
       "      <th>38</th>\n",
       "      <td>0.071992</td>\n",
       "      <td>0.574698</td>\n",
       "      <td>-0.603291</td>\n",
       "      <td>bad</td>\n",
       "    </tr>\n",
       "    <tr>\n",
       "      <th>39</th>\n",
       "      <td>0.298054</td>\n",
       "      <td>1.214289</td>\n",
       "      <td>-0.625867</td>\n",
       "      <td>neutral</td>\n",
       "    </tr>\n",
       "  </tbody>\n",
       "</table>\n",
       "<p>40 rows × 4 columns</p>\n",
       "</div>"
      ],
      "text/plain": [
       "           a         b         c        0\n",
       "0   0.371535 -1.335292  0.158730      bad\n",
       "1  -0.484234 -0.829893  0.669012      bad\n",
       "2   0.036602  1.026895  1.042563      bad\n",
       "3  -0.867395 -0.556583  2.068296      bad\n",
       "4  -0.241162 -0.416430  1.738168  neutral\n",
       "..       ...       ...       ...      ...\n",
       "35 -0.488712 -0.070807  0.220182     good\n",
       "36  1.960017  0.600225  0.807731  neutral\n",
       "37  0.620891  1.151247 -0.158203      bad\n",
       "38  0.071992  0.574698 -0.603291      bad\n",
       "39  0.298054  1.214289 -0.625867  neutral\n",
       "\n",
       "[40 rows x 4 columns]"
      ]
     },
     "execution_count": 6,
     "metadata": {},
     "output_type": "execute_result"
    }
   ],
   "source": [
    "df = pd.concat([pd.DataFrame(np.random.randn(40, 3), columns=list('abc')),\n",
    "                s],\n",
    "               axis=1)\n",
    "df"
   ]
  },
  {
   "cell_type": "markdown",
   "metadata": {},
   "source": [
    "Categoricals are still quite new. Other packages are starting to support them (notably seaborn and patsy).\n",
    "\n",
    "There is also `get_dummies`."
   ]
  },
  {
   "cell_type": "code",
   "execution_count": 7,
   "metadata": {
    "collapsed": false
   },
   "outputs": [
    {
     "data": {
      "text/html": [
       "<div>\n",
       "<table border=\"1\" class=\"dataframe\">\n",
       "  <thead>\n",
       "    <tr style=\"text-align: right;\">\n",
       "      <th></th>\n",
       "      <th>bad</th>\n",
       "      <th>neutral</th>\n",
       "      <th>good</th>\n",
       "    </tr>\n",
       "  </thead>\n",
       "  <tbody>\n",
       "    <tr>\n",
       "      <th>0</th>\n",
       "      <td>1</td>\n",
       "      <td>0</td>\n",
       "      <td>0</td>\n",
       "    </tr>\n",
       "    <tr>\n",
       "      <th>1</th>\n",
       "      <td>1</td>\n",
       "      <td>0</td>\n",
       "      <td>0</td>\n",
       "    </tr>\n",
       "    <tr>\n",
       "      <th>2</th>\n",
       "      <td>1</td>\n",
       "      <td>0</td>\n",
       "      <td>0</td>\n",
       "    </tr>\n",
       "    <tr>\n",
       "      <th>3</th>\n",
       "      <td>1</td>\n",
       "      <td>0</td>\n",
       "      <td>0</td>\n",
       "    </tr>\n",
       "    <tr>\n",
       "      <th>4</th>\n",
       "      <td>0</td>\n",
       "      <td>1</td>\n",
       "      <td>0</td>\n",
       "    </tr>\n",
       "    <tr>\n",
       "      <th>...</th>\n",
       "      <td>...</td>\n",
       "      <td>...</td>\n",
       "      <td>...</td>\n",
       "    </tr>\n",
       "    <tr>\n",
       "      <th>35</th>\n",
       "      <td>0</td>\n",
       "      <td>0</td>\n",
       "      <td>1</td>\n",
       "    </tr>\n",
       "    <tr>\n",
       "      <th>36</th>\n",
       "      <td>0</td>\n",
       "      <td>1</td>\n",
       "      <td>0</td>\n",
       "    </tr>\n",
       "    <tr>\n",
       "      <th>37</th>\n",
       "      <td>1</td>\n",
       "      <td>0</td>\n",
       "      <td>0</td>\n",
       "    </tr>\n",
       "    <tr>\n",
       "      <th>38</th>\n",
       "      <td>1</td>\n",
       "      <td>0</td>\n",
       "      <td>0</td>\n",
       "    </tr>\n",
       "    <tr>\n",
       "      <th>39</th>\n",
       "      <td>0</td>\n",
       "      <td>1</td>\n",
       "      <td>0</td>\n",
       "    </tr>\n",
       "  </tbody>\n",
       "</table>\n",
       "<p>40 rows × 3 columns</p>\n",
       "</div>"
      ],
      "text/plain": [
       "    bad  neutral  good\n",
       "0     1        0     0\n",
       "1     1        0     0\n",
       "2     1        0     0\n",
       "3     1        0     0\n",
       "4     0        1     0\n",
       "..  ...      ...   ...\n",
       "35    0        0     1\n",
       "36    0        1     0\n",
       "37    1        0     0\n",
       "38    1        0     0\n",
       "39    0        1     0\n",
       "\n",
       "[40 rows x 3 columns]"
      ]
     },
     "execution_count": 7,
     "metadata": {},
     "output_type": "execute_result"
    }
   ],
   "source": [
    "pd.get_dummies(s)"
   ]
  },
  {
   "cell_type": "code",
   "execution_count": 8,
   "metadata": {
    "collapsed": false
   },
   "outputs": [
    {
     "data": {
      "text/plain": [
       "0      A|B\n",
       "1    A|B|C\n",
       "2        C\n",
       "3      B|A\n",
       "4      A|B\n",
       "dtype: object"
      ]
     },
     "execution_count": 8,
     "metadata": {},
     "output_type": "execute_result"
    }
   ],
   "source": [
    "kinds = [\n",
    "    'A|B',\n",
    "    'A|B|C',\n",
    "    'C',\n",
    "    'B|A',\n",
    "    'A|B'\n",
    "]\n",
    "s = pd.Series(kinds)\n",
    "s"
   ]
  },
  {
   "cell_type": "code",
   "execution_count": 9,
   "metadata": {
    "collapsed": false
   },
   "outputs": [
    {
     "data": {
      "text/html": [
       "<div>\n",
       "<table border=\"1\" class=\"dataframe\">\n",
       "  <thead>\n",
       "    <tr style=\"text-align: right;\">\n",
       "      <th></th>\n",
       "      <th>A</th>\n",
       "      <th>B</th>\n",
       "      <th>C</th>\n",
       "    </tr>\n",
       "  </thead>\n",
       "  <tbody>\n",
       "    <tr>\n",
       "      <th>0</th>\n",
       "      <td>1</td>\n",
       "      <td>1</td>\n",
       "      <td>0</td>\n",
       "    </tr>\n",
       "    <tr>\n",
       "      <th>1</th>\n",
       "      <td>1</td>\n",
       "      <td>1</td>\n",
       "      <td>1</td>\n",
       "    </tr>\n",
       "    <tr>\n",
       "      <th>2</th>\n",
       "      <td>0</td>\n",
       "      <td>0</td>\n",
       "      <td>1</td>\n",
       "    </tr>\n",
       "    <tr>\n",
       "      <th>3</th>\n",
       "      <td>1</td>\n",
       "      <td>1</td>\n",
       "      <td>0</td>\n",
       "    </tr>\n",
       "    <tr>\n",
       "      <th>4</th>\n",
       "      <td>1</td>\n",
       "      <td>1</td>\n",
       "      <td>0</td>\n",
       "    </tr>\n",
       "  </tbody>\n",
       "</table>\n",
       "</div>"
      ],
      "text/plain": [
       "   A  B  C\n",
       "0  1  1  0\n",
       "1  1  1  1\n",
       "2  0  0  1\n",
       "3  1  1  0\n",
       "4  1  1  0"
      ]
     },
     "execution_count": 9,
     "metadata": {},
     "output_type": "execute_result"
    }
   ],
   "source": [
    "s.str.get_dummies(sep='|')"
   ]
  },
  {
   "cell_type": "markdown",
   "metadata": {},
   "source": [
    "# Integration with other libraries\n",
    "\n",
    "The two foundational libraries for stats in python are statsmodels and scikit-learn.\n",
    "Everyone speaks the *lingua franca* of NumPy arrays, but there is some integration at the higher level of DataFrames."
   ]
  },
  {
   "cell_type": "markdown",
   "metadata": {},
   "source": [
    "# Statsmodels"
   ]
  },
  {
   "cell_type": "markdown",
   "metadata": {},
   "source": [
    "Brief primer: you give a **estimator** (OLS, WLS, GLM) a **formula** and **dataset**. You then fit that model. The integration with pandas here is fantastic."
   ]
  },
  {
   "cell_type": "markdown",
   "metadata": {},
   "source": [
    "http://nbviewer.ipython.org/urls/umich.box.com/shared/static/zyl08wsmxwoh6ts70v4o.ipynb?\n"
   ]
  },
  {
   "cell_type": "code",
   "execution_count": 13,
   "metadata": {
    "collapsed": false
   },
   "outputs": [],
   "source": [
    "import statsmodels.api as sm\n",
    "import seaborn as sns\n",
    "import matplotlib.pyplot as plt\n",
    "\n",
    "%matplotlib inline\n",
    "pd.options.display.max_rows = 10"
   ]
  },
  {
   "cell_type": "markdown",
   "metadata": {},
   "source": [
    "We've got some longintudinal data (repeated measures of the same individual on children with HIV. There are two treatment arms, and each child receives an anti-retroviral theropy or are  in the control. Here's the data:"
   ]
  },
  {
   "cell_type": "code",
   "execution_count": 12,
   "metadata": {
    "collapsed": false
   },
   "outputs": [
    {
     "data": {
      "text/html": [
       "<div>\n",
       "<table border=\"1\" class=\"dataframe\">\n",
       "  <thead>\n",
       "    <tr style=\"text-align: right;\">\n",
       "      <th></th>\n",
       "      <th></th>\n",
       "      <th>VDATE</th>\n",
       "      <th>CD4PCT</th>\n",
       "      <th>arv</th>\n",
       "      <th>treatmnt</th>\n",
       "      <th>CD4CNT</th>\n",
       "      <th>baseage</th>\n",
       "    </tr>\n",
       "    <tr>\n",
       "      <th>newpid</th>\n",
       "      <th>VISIT</th>\n",
       "      <th></th>\n",
       "      <th></th>\n",
       "      <th></th>\n",
       "      <th></th>\n",
       "      <th></th>\n",
       "      <th></th>\n",
       "    </tr>\n",
       "  </thead>\n",
       "  <tbody>\n",
       "    <tr>\n",
       "      <th rowspan=\"5\" valign=\"top\">1</th>\n",
       "      <th>1</th>\n",
       "      <td>1988-06-29</td>\n",
       "      <td>18</td>\n",
       "      <td>0</td>\n",
       "      <td>1</td>\n",
       "      <td>323</td>\n",
       "      <td>3.91</td>\n",
       "    </tr>\n",
       "    <tr>\n",
       "      <th>4</th>\n",
       "      <td>1989-01-19</td>\n",
       "      <td>37</td>\n",
       "      <td>0</td>\n",
       "      <td>1</td>\n",
       "      <td>610</td>\n",
       "      <td>3.91</td>\n",
       "    </tr>\n",
       "    <tr>\n",
       "      <th>7</th>\n",
       "      <td>1989-04-13</td>\n",
       "      <td>13</td>\n",
       "      <td>0</td>\n",
       "      <td>1</td>\n",
       "      <td>324</td>\n",
       "      <td>3.91</td>\n",
       "    </tr>\n",
       "    <tr>\n",
       "      <th>13</th>\n",
       "      <td>1989-11-30</td>\n",
       "      <td>13</td>\n",
       "      <td>0</td>\n",
       "      <td>1</td>\n",
       "      <td>626</td>\n",
       "      <td>3.91</td>\n",
       "    </tr>\n",
       "    <tr>\n",
       "      <th>19</th>\n",
       "      <td>1990-06-07</td>\n",
       "      <td>12</td>\n",
       "      <td>1</td>\n",
       "      <td>1</td>\n",
       "      <td>220</td>\n",
       "      <td>3.91</td>\n",
       "    </tr>\n",
       "  </tbody>\n",
       "</table>\n",
       "</div>"
      ],
      "text/plain": [
       "                  VDATE  CD4PCT  arv  treatmnt  CD4CNT  baseage\n",
       "newpid VISIT                                                   \n",
       "1      1     1988-06-29      18    0         1     323     3.91\n",
       "       4     1989-01-19      37    0         1     610     3.91\n",
       "       7     1989-04-13      13    0         1     324     3.91\n",
       "       13    1989-11-30      13    0         1     626     3.91\n",
       "       19    1990-06-07      12    1         1     220     3.91"
      ]
     },
     "execution_count": 12,
     "metadata": {},
     "output_type": "execute_result"
    }
   ],
   "source": [
    "df = pd.read_csv('data/cd4.csv', parse_dates=['VDATE'], index_col=['newpid', 'VISIT'])\n",
    "df = df.dropna()  # estimator can't handle NaNs so ignore for now.\n",
    "df.head()"
   ]
  },
  {
   "cell_type": "markdown",
   "metadata": {},
   "source": [
    "Some basic statistics:"
   ]
  },
  {
   "cell_type": "code",
   "execution_count": 19,
   "metadata": {
    "collapsed": false
   },
   "outputs": [
    {
     "data": {
      "text/html": [
       "<div>\n",
       "<table border=\"1\" class=\"dataframe\">\n",
       "  <thead>\n",
       "    <tr style=\"text-align: right;\">\n",
       "      <th>treatmnt</th>\n",
       "      <th>1</th>\n",
       "      <th>2</th>\n",
       "    </tr>\n",
       "    <tr>\n",
       "      <th>arv</th>\n",
       "      <th></th>\n",
       "      <th></th>\n",
       "    </tr>\n",
       "  </thead>\n",
       "  <tbody>\n",
       "    <tr>\n",
       "      <th>0</th>\n",
       "      <td>486</td>\n",
       "      <td>402</td>\n",
       "    </tr>\n",
       "    <tr>\n",
       "      <th>1</th>\n",
       "      <td>48</td>\n",
       "      <td>42</td>\n",
       "    </tr>\n",
       "  </tbody>\n",
       "</table>\n",
       "</div>"
      ],
      "text/plain": [
       "treatmnt    1    2\n",
       "arv               \n",
       "0         486  402\n",
       "1          48   42"
      ]
     },
     "execution_count": 19,
     "metadata": {},
     "output_type": "execute_result"
    }
   ],
   "source": [
    "df.groupby(['arv', 'treatmnt']).CD4PCT.count().unstack()"
   ]
  },
  {
   "cell_type": "code",
   "execution_count": 20,
   "metadata": {
    "collapsed": false
   },
   "outputs": [
    {
     "data": {
      "text/plain": [
       "arv\n",
       "0    947.930180\n",
       "1    926.166667\n",
       "Name: CD4CNT, dtype: float64"
      ]
     },
     "execution_count": 20,
     "metadata": {},
     "output_type": "execute_result"
    }
   ],
   "source": [
    "df.groupby('arv').CD4CNT.mean()"
   ]
  },
  {
   "cell_type": "code",
   "execution_count": 21,
   "metadata": {
    "collapsed": false
   },
   "outputs": [
    {
     "data": {
      "text/plain": [
       "<seaborn.axisgrid.FacetGrid at 0x10f3b9240>"
      ]
     },
     "execution_count": 21,
     "metadata": {},
     "output_type": "execute_result"
    },
    {
     "data": {
      "image/png": "[encoded data removed]",
      "text/plain": [
       "<matplotlib.figure.Figure at 0x10f8fad68>"
      ]
     },
     "metadata": {},
     "output_type": "display_data"
    }
   ],
   "source": [
    "sns.factorplot(x='arv', y='CD4CNT', col='treatmnt', data=df)"
   ]
  },
  {
   "cell_type": "code",
   "execution_count": 22,
   "metadata": {
    "collapsed": false
   },
   "outputs": [],
   "source": [
    "years_since = df.groupby(level='newpid').VDATE.apply(lambda x: (x - x.min()).dt.days / 365)\n",
    "df['age'] = df.baseage + years_since"
   ]
  },
  {
   "cell_type": "code",
   "execution_count": 23,
   "metadata": {
    "collapsed": false
   },
   "outputs": [
    {
     "data": {
      "text/plain": [
       "<seaborn.axisgrid.FacetGrid at 0x10f9f7898>"
      ]
     },
     "execution_count": 23,
     "metadata": {},
     "output_type": "execute_result"
    },
    {
     "data": {
      "image/png": "[encoded data removed]",
      "text/plain": [
       "<matplotlib.figure.Figure at 0x10f947438>"
      ]
     },
     "metadata": {},
     "output_type": "display_data"
    }
   ],
   "source": [
    "sns.lmplot(\"age\", \"CD4PCT\", data=df, hue=\"arv\")"
   ]
  },
  {
   "cell_type": "markdown",
   "metadata": {},
   "source": [
    "These statistics are throwing away information. They don't tie one observation of an individual to the second observation *of the same individual*. We'd expect some people to consistently have higher or lower `CD4PCT` than others. We'll use a GEE model, but we have to extract the age at the time of each observation to get there."
   ]
  },
  {
   "cell_type": "code",
   "execution_count": 24,
   "metadata": {
    "collapsed": false
   },
   "outputs": [
    {
     "data": {
      "text/html": [
       "<table class=\"simpletable\">\n",
       "<caption>GEE Regression Results</caption>\n",
       "<tr>\n",
       "  <th>Dep. Variable:</th>               <td>CD4PCT</td>        <th>  No. Observations:  </th>    <td>978</td>  \n",
       "</tr>\n",
       "<tr>\n",
       "  <th>Model:</th>                         <td>GEE</td>         <th>  No. clusters:      </th>    <td>226</td>  \n",
       "</tr>\n",
       "<tr>\n",
       "  <th>Method:</th>                    <td>Generalized</td>     <th>  Min. cluster size: </th>     <td>1</td>   \n",
       "</tr>\n",
       "<tr>\n",
       "  <th></th>                      <td>Estimating Equations</td> <th>  Max. cluster size: </th>     <td>7</td>   \n",
       "</tr>\n",
       "<tr>\n",
       "  <th>Family:</th>                     <td>Gaussian</td>       <th>  Mean cluster size: </th>    <td>4.3</td>  \n",
       "</tr>\n",
       "<tr>\n",
       "  <th>Dependence structure:</th>     <td>Independence</td>     <th>  Num. iterations:   </th>     <td>2</td>   \n",
       "</tr>\n",
       "<tr>\n",
       "  <th>Date:</th>                   <td>Thu, 23 Jul 2015</td>   <th>  Scale:             </th>  <td>171.820</td>\n",
       "</tr>\n",
       "<tr>\n",
       "  <th>Covariance type: </th>            <td>robust</td>        <th>  Time:              </th> <td>14:01:36</td>\n",
       "</tr>\n",
       "</table>\n",
       "<table class=\"simpletable\">\n",
       "<tr>\n",
       "      <td></td>         <th>coef</th>     <th>std err</th>      <th>z</th>      <th>P>|z|</th> <th>[95.0% Conf. Int.]</th> \n",
       "</tr>\n",
       "<tr>\n",
       "  <th>Intercept</th> <td>   23.9086</td> <td>    2.997</td> <td>    7.977</td> <td> 0.000</td> <td>   18.034    29.783</td>\n",
       "</tr>\n",
       "<tr>\n",
       "  <th>age</th>       <td>   -0.9923</td> <td>    0.373</td> <td>   -2.661</td> <td> 0.008</td> <td>   -1.723    -0.261</td>\n",
       "</tr>\n",
       "<tr>\n",
       "  <th>arv</th>       <td>    1.6919</td> <td>    2.070</td> <td>    0.817</td> <td> 0.414</td> <td>   -2.365     5.749</td>\n",
       "</tr>\n",
       "<tr>\n",
       "  <th>treatmnt</th>  <td>    2.7020</td> <td>    1.635</td> <td>    1.653</td> <td> 0.098</td> <td>   -0.503     5.907</td>\n",
       "</tr>\n",
       "</table>\n",
       "<table class=\"simpletable\">\n",
       "<tr>\n",
       "  <th>Skew:</th>          <td>      0.2773</td> <th>  Kurtosis:          </th> <td>     -0.3432</td>\n",
       "</tr>\n",
       "<tr>\n",
       "  <th>Centered skew:</th> <td>      0.2924</td> <th>  Centered kurtosis: </th> <td>      3.2945</td>\n",
       "</tr>\n",
       "</table>"
      ],
      "text/plain": [
       "<class 'statsmodels.iolib.summary.Summary'>\n",
       "\"\"\"\n",
       "                               GEE Regression Results                              \n",
       "===================================================================================\n",
       "Dep. Variable:                      CD4PCT   No. Observations:                  978\n",
       "Model:                                 GEE   No. clusters:                      226\n",
       "Method:                        Generalized   Min. cluster size:                   1\n",
       "                      Estimating Equations   Max. cluster size:                   7\n",
       "Family:                           Gaussian   Mean cluster size:                 4.3\n",
       "Dependence structure:         Independence   Num. iterations:                     2\n",
       "Date:                     Thu, 23 Jul 2015   Scale:                         171.820\n",
       "Covariance type:                    robust   Time:                         14:01:36\n",
       "==============================================================================\n",
       "                 coef    std err          z      P>|z|      [95.0% Conf. Int.]\n",
       "------------------------------------------------------------------------------\n",
       "Intercept     23.9086      2.997      7.977      0.000        18.034    29.783\n",
       "age           -0.9923      0.373     -2.661      0.008        -1.723    -0.261\n",
       "arv            1.6919      2.070      0.817      0.414        -2.365     5.749\n",
       "treatmnt       2.7020      1.635      1.653      0.098        -0.503     5.907\n",
       "==============================================================================\n",
       "Skew:                          0.2773   Kurtosis:                      -0.3432\n",
       "Centered skew:                 0.2924   Centered kurtosis:              3.2945\n",
       "==============================================================================\n",
       "\"\"\""
      ]
     },
     "execution_count": 24,
     "metadata": {},
     "output_type": "execute_result"
    }
   ],
   "source": [
    "mod_basic = sm.GEE.from_formula(\"CD4PCT ~ age + arv + treatmnt\", \"newpid\", df.reset_index())\n",
    "res_basic = mod_basic.fit()\n",
    "res_basic.summary()"
   ]
  },
  {
   "cell_type": "code",
   "execution_count": 25,
   "metadata": {
    "collapsed": false
   },
   "outputs": [
    {
     "data": {
      "text/html": [
       "<table class=\"simpletable\">\n",
       "<caption>GEE Regression Results</caption>\n",
       "<tr>\n",
       "  <th>Dep. Variable:</th>               <td>CD4PCT</td>        <th>  No. Observations:  </th>    <td>978</td>  \n",
       "</tr>\n",
       "<tr>\n",
       "  <th>Model:</th>                         <td>GEE</td>         <th>  No. clusters:      </th>    <td>226</td>  \n",
       "</tr>\n",
       "<tr>\n",
       "  <th>Method:</th>                    <td>Generalized</td>     <th>  Min. cluster size: </th>     <td>1</td>   \n",
       "</tr>\n",
       "<tr>\n",
       "  <th></th>                      <td>Estimating Equations</td> <th>  Max. cluster size: </th>     <td>7</td>   \n",
       "</tr>\n",
       "<tr>\n",
       "  <th>Family:</th>                     <td>Gaussian</td>       <th>  Mean cluster size: </th>    <td>4.3</td>  \n",
       "</tr>\n",
       "<tr>\n",
       "  <th>Dependence structure:</th>     <td>Exchangeable</td>     <th>  Num. iterations:   </th>    <td>10</td>   \n",
       "</tr>\n",
       "<tr>\n",
       "  <th>Date:</th>                   <td>Thu, 23 Jul 2015</td>   <th>  Scale:             </th>  <td>175.419</td>\n",
       "</tr>\n",
       "<tr>\n",
       "  <th>Covariance type: </th>            <td>robust</td>        <th>  Time:              </th> <td>14:01:38</td>\n",
       "</tr>\n",
       "</table>\n",
       "<table class=\"simpletable\">\n",
       "<tr>\n",
       "      <td></td>         <th>coef</th>     <th>std err</th>      <th>z</th>      <th>P>|z|</th> <th>[95.0% Conf. Int.]</th> \n",
       "</tr>\n",
       "<tr>\n",
       "  <th>Intercept</th> <td>   27.4284</td> <td>    2.801</td> <td>    9.792</td> <td> 0.000</td> <td>   21.939    32.918</td>\n",
       "</tr>\n",
       "<tr>\n",
       "  <th>age</th>       <td>   -1.7609</td> <td>    0.336</td> <td>   -5.244</td> <td> 0.000</td> <td>   -2.419    -1.103</td>\n",
       "</tr>\n",
       "<tr>\n",
       "  <th>arv</th>       <td>    1.9451</td> <td>    1.181</td> <td>    1.647</td> <td> 0.100</td> <td>   -0.369     4.260</td>\n",
       "</tr>\n",
       "<tr>\n",
       "  <th>treatmnt</th>  <td>    1.9567</td> <td>    1.569</td> <td>    1.247</td> <td> 0.212</td> <td>   -1.119     5.032</td>\n",
       "</tr>\n",
       "</table>\n",
       "<table class=\"simpletable\">\n",
       "<tr>\n",
       "  <th>Skew:</th>          <td>      0.2521</td> <th>  Kurtosis:          </th> <td>     -0.3788</td>\n",
       "</tr>\n",
       "<tr>\n",
       "  <th>Centered skew:</th> <td>      0.2914</td> <th>  Centered kurtosis: </th> <td>      3.3861</td>\n",
       "</tr>\n",
       "</table>"
      ],
      "text/plain": [
       "<class 'statsmodels.iolib.summary.Summary'>\n",
       "\"\"\"\n",
       "                               GEE Regression Results                              \n",
       "===================================================================================\n",
       "Dep. Variable:                      CD4PCT   No. Observations:                  978\n",
       "Model:                                 GEE   No. clusters:                      226\n",
       "Method:                        Generalized   Min. cluster size:                   1\n",
       "                      Estimating Equations   Max. cluster size:                   7\n",
       "Family:                           Gaussian   Mean cluster size:                 4.3\n",
       "Dependence structure:         Exchangeable   Num. iterations:                    10\n",
       "Date:                     Thu, 23 Jul 2015   Scale:                         175.419\n",
       "Covariance type:                    robust   Time:                         14:01:38\n",
       "==============================================================================\n",
       "                 coef    std err          z      P>|z|      [95.0% Conf. Int.]\n",
       "------------------------------------------------------------------------------\n",
       "Intercept     27.4284      2.801      9.792      0.000        21.939    32.918\n",
       "age           -1.7609      0.336     -5.244      0.000        -2.419    -1.103\n",
       "arv            1.9451      1.181      1.647      0.100        -0.369     4.260\n",
       "treatmnt       1.9567      1.569      1.247      0.212        -1.119     5.032\n",
       "==============================================================================\n",
       "Skew:                          0.2521   Kurtosis:                      -0.3788\n",
       "Centered skew:                 0.2914   Centered kurtosis:              3.3861\n",
       "==============================================================================\n",
       "\"\"\""
      ]
     },
     "execution_count": 25,
     "metadata": {},
     "output_type": "execute_result"
    }
   ],
   "source": [
    "ex = sm.cov_struct.Exchangeable()\n",
    "mod_exchangable = sm.GEE.from_formula(\"CD4PCT ~ age + arv + treatmnt\", \"newpid\", df.reset_index(),\n",
    "                                      cov_struct=ex)\n",
    "res_exchangable = mod_exchangable.fit()\n",
    "res_exchangable.summary()"
   ]
  },
  {
   "cell_type": "code",
   "execution_count": 26,
   "metadata": {
    "collapsed": false
   },
   "outputs": [
    {
     "data": {
      "text/plain": [
       "<matplotlib.collections.PathCollection at 0x11076ab70>"
      ]
     },
     "execution_count": 26,
     "metadata": {},
     "output_type": "execute_result"
    },
    {
     "data": {
      "image/png": "[encoded data removed]",
      "text/plain": [
       "<matplotlib.figure.Figure at 0x10fa7a0b8>"
      ]
     },
     "metadata": {},
     "output_type": "display_data"
    }
   ],
   "source": [
    "fig, axes = plt.subplots(figsize=(15, 5), ncols=2, sharey=True)\n",
    "axes[0].scatter(res_basic.fittedvalues, res_basic.resid)\n",
    "axes[1].scatter(res_exchangable.fittedvalues, res_exchangable.resid)"
   ]
  },
  {
   "cell_type": "markdown",
   "metadata": {
    "collapsed": true
   },
   "source": [
    "# Scikit-Learn"
   ]
  },
  {
   "cell_type": "markdown",
   "metadata": {},
   "source": [
    "Scikit-Learn's algorithms all deal with numpy arrays. My workflow is typically\n",
    "\n",
    "- data munging in pandas\n",
    "- pass numpy array to an Estimator\n",
    "- wrap result in a DataFrame or Series"
   ]
  },
  {
   "cell_type": "code",
   "execution_count": 27,
   "metadata": {
    "collapsed": false
   },
   "outputs": [],
   "source": [
    "from sklearn.datasets import california_housing\n",
    "data = california_housing.fetch_california_housing()"
   ]
  },
  {
   "cell_type": "code",
   "execution_count": 28,
   "metadata": {
    "collapsed": false
   },
   "outputs": [],
   "source": [
    "X = pd.DataFrame(data.data, columns=data.feature_names)\n",
    "y = pd.Series(data.target)"
   ]
  },
  {
   "cell_type": "code",
   "execution_count": 29,
   "metadata": {
    "collapsed": false
   },
   "outputs": [
    {
     "data": {
      "text/html": [
       "<div>\n",
       "<table border=\"1\" class=\"dataframe\">\n",
       "  <thead>\n",
       "    <tr style=\"text-align: right;\">\n",
       "      <th></th>\n",
       "      <th>MedInc</th>\n",
       "      <th>HouseAge</th>\n",
       "      <th>AveRooms</th>\n",
       "      <th>AveBedrms</th>\n",
       "      <th>Population</th>\n",
       "      <th>AveOccup</th>\n",
       "      <th>Latitude</th>\n",
       "      <th>Longitude</th>\n",
       "    </tr>\n",
       "  </thead>\n",
       "  <tbody>\n",
       "    <tr>\n",
       "      <th>0</th>\n",
       "      <td>8.3252</td>\n",
       "      <td>41</td>\n",
       "      <td>6.984127</td>\n",
       "      <td>1.023810</td>\n",
       "      <td>322</td>\n",
       "      <td>2.555556</td>\n",
       "      <td>37.88</td>\n",
       "      <td>-122.23</td>\n",
       "    </tr>\n",
       "    <tr>\n",
       "      <th>1</th>\n",
       "      <td>8.3014</td>\n",
       "      <td>21</td>\n",
       "      <td>6.238137</td>\n",
       "      <td>0.971880</td>\n",
       "      <td>2401</td>\n",
       "      <td>2.109842</td>\n",
       "      <td>37.86</td>\n",
       "      <td>-122.22</td>\n",
       "    </tr>\n",
       "    <tr>\n",
       "      <th>2</th>\n",
       "      <td>7.2574</td>\n",
       "      <td>52</td>\n",
       "      <td>8.288136</td>\n",
       "      <td>1.073446</td>\n",
       "      <td>496</td>\n",
       "      <td>2.802260</td>\n",
       "      <td>37.85</td>\n",
       "      <td>-122.24</td>\n",
       "    </tr>\n",
       "    <tr>\n",
       "      <th>3</th>\n",
       "      <td>5.6431</td>\n",
       "      <td>52</td>\n",
       "      <td>5.817352</td>\n",
       "      <td>1.073059</td>\n",
       "      <td>558</td>\n",
       "      <td>2.547945</td>\n",
       "      <td>37.85</td>\n",
       "      <td>-122.25</td>\n",
       "    </tr>\n",
       "    <tr>\n",
       "      <th>4</th>\n",
       "      <td>3.8462</td>\n",
       "      <td>52</td>\n",
       "      <td>6.281853</td>\n",
       "      <td>1.081081</td>\n",
       "      <td>565</td>\n",
       "      <td>2.181467</td>\n",
       "      <td>37.85</td>\n",
       "      <td>-122.25</td>\n",
       "    </tr>\n",
       "  </tbody>\n",
       "</table>\n",
       "</div>"
      ],
      "text/plain": [
       "   MedInc  HouseAge  AveRooms  AveBedrms  Population  AveOccup  Latitude  \\\n",
       "0  8.3252        41  6.984127   1.023810         322  2.555556     37.88   \n",
       "1  8.3014        21  6.238137   0.971880        2401  2.109842     37.86   \n",
       "2  7.2574        52  8.288136   1.073446         496  2.802260     37.85   \n",
       "3  5.6431        52  5.817352   1.073059         558  2.547945     37.85   \n",
       "4  3.8462        52  6.281853   1.081081         565  2.181467     37.85   \n",
       "\n",
       "   Longitude  \n",
       "0    -122.23  \n",
       "1    -122.22  \n",
       "2    -122.24  \n",
       "3    -122.25  \n",
       "4    -122.25  "
      ]
     },
     "execution_count": 29,
     "metadata": {},
     "output_type": "execute_result"
    }
   ],
   "source": [
    "X.head()"
   ]
  },
  {
   "cell_type": "code",
   "execution_count": 30,
   "metadata": {
    "collapsed": false
   },
   "outputs": [
    {
     "data": {
      "text/plain": [
       "0    4.526\n",
       "1    3.585\n",
       "2    3.521\n",
       "3    3.413\n",
       "4    3.422\n",
       "dtype: float64"
      ]
     },
     "execution_count": 30,
     "metadata": {},
     "output_type": "execute_result"
    }
   ],
   "source": [
    "y.head()"
   ]
  },
  {
   "cell_type": "code",
   "execution_count": 31,
   "metadata": {
    "collapsed": false
   },
   "outputs": [],
   "source": [
    "from sklearn.ensemble import RandomForestRegressor\n",
    "from sklearn.grid_search import GridSearchCV"
   ]
  },
  {
   "cell_type": "code",
   "execution_count": 32,
   "metadata": {
    "collapsed": false
   },
   "outputs": [
    {
     "name": "stdout",
     "output_type": "stream",
     "text": [
      "CPU times: user 1.76 s, sys: 152 ms, total: 1.91 s\n",
      "Wall time: 18 s\n"
     ]
    }
   ],
   "source": [
    "%%time\n",
    "param_grid = dict(\n",
    "    max_features=np.arange(2, 8),\n",
    "    max_depth=[2, 4],\n",
    "    min_samples_split=[5, 10, 15, 20],\n",
    ")\n",
    "rfc = RandomForestRegressor(n_estimators=10)\n",
    "gs = GridSearchCV(rfc, param_grid, cv=5, n_jobs=-1)\n",
    "gs.fit(X.values, y.values)"
   ]
  },
  {
   "cell_type": "code",
   "execution_count": 33,
   "metadata": {
    "collapsed": false
   },
   "outputs": [
    {
     "data": {
      "text/plain": [
       "[mean: 0.30444, std: 0.04210, params: {'max_features': 2, 'min_samples_split': 5, 'max_depth': 2},\n",
       " mean: 0.23836, std: 0.06680, params: {'max_features': 2, 'min_samples_split': 10, 'max_depth': 2},\n",
       " mean: 0.22371, std: 0.05632, params: {'max_features': 2, 'min_samples_split': 15, 'max_depth': 2},\n",
       " mean: 0.29494, std: 0.09932, params: {'max_features': 2, 'min_samples_split': 20, 'max_depth': 2},\n",
       " mean: 0.33448, std: 0.07986, params: {'max_features': 3, 'min_samples_split': 5, 'max_depth': 2},\n",
       " mean: 0.31830, std: 0.05949, params: {'max_features': 3, 'min_samples_split': 10, 'max_depth': 2},\n",
       " mean: 0.29274, std: 0.07056, params: {'max_features': 3, 'min_samples_split': 15, 'max_depth': 2},\n",
       " mean: 0.28704, std: 0.10248, params: {'max_features': 3, 'min_samples_split': 20, 'max_depth': 2},\n",
       " mean: 0.35378, std: 0.07959, params: {'max_features': 4, 'min_samples_split': 5, 'max_depth': 2},\n",
       " mean: 0.36234, std: 0.08106, params: {'max_features': 4, 'min_samples_split': 10, 'max_depth': 2}]"
      ]
     },
     "execution_count": 33,
     "metadata": {},
     "output_type": "execute_result"
    }
   ],
   "source": [
    "scores = gs.grid_scores_\n",
    "scores[:10]"
   ]
  },
  {
   "cell_type": "code",
   "execution_count": 34,
   "metadata": {
    "collapsed": true
   },
   "outputs": [],
   "source": [
    "def unpack_grid_scores(scores):\n",
    "    rows = []\n",
    "    params = sorted(scores[0].parameters)\n",
    "    for row in scores:\n",
    "        mean = row.mean_validation_score\n",
    "        std = row.cv_validation_scores.std()\n",
    "        rows.append([mean, std] + [row.parameters[k] for k in params])\n",
    "    return pd.DataFrame(rows, columns=['mean_', 'std_'] + params)"
   ]
  },
  {
   "cell_type": "code",
   "execution_count": 35,
   "metadata": {
    "collapsed": false
   },
   "outputs": [
    {
     "data": {
      "text/html": [
       "<div>\n",
       "<table border=\"1\" class=\"dataframe\">\n",
       "  <thead>\n",
       "    <tr style=\"text-align: right;\">\n",
       "      <th></th>\n",
       "      <th>mean_</th>\n",
       "      <th>std_</th>\n",
       "      <th>max_depth</th>\n",
       "      <th>max_features</th>\n",
       "      <th>min_samples_split</th>\n",
       "    </tr>\n",
       "  </thead>\n",
       "  <tbody>\n",
       "    <tr>\n",
       "      <th>0</th>\n",
       "      <td>0.304441</td>\n",
       "      <td>0.042104</td>\n",
       "      <td>2</td>\n",
       "      <td>2</td>\n",
       "      <td>5</td>\n",
       "    </tr>\n",
       "    <tr>\n",
       "      <th>1</th>\n",
       "      <td>0.238355</td>\n",
       "      <td>0.066803</td>\n",
       "      <td>2</td>\n",
       "      <td>2</td>\n",
       "      <td>10</td>\n",
       "    </tr>\n",
       "    <tr>\n",
       "      <th>2</th>\n",
       "      <td>0.223713</td>\n",
       "      <td>0.056323</td>\n",
       "      <td>2</td>\n",
       "      <td>2</td>\n",
       "      <td>15</td>\n",
       "    </tr>\n",
       "    <tr>\n",
       "      <th>3</th>\n",
       "      <td>0.294940</td>\n",
       "      <td>0.099322</td>\n",
       "      <td>2</td>\n",
       "      <td>2</td>\n",
       "      <td>20</td>\n",
       "    </tr>\n",
       "    <tr>\n",
       "      <th>4</th>\n",
       "      <td>0.334480</td>\n",
       "      <td>0.079860</td>\n",
       "      <td>2</td>\n",
       "      <td>3</td>\n",
       "      <td>5</td>\n",
       "    </tr>\n",
       "  </tbody>\n",
       "</table>\n",
       "</div>"
      ],
      "text/plain": [
       "      mean_      std_  max_depth  max_features  min_samples_split\n",
       "0  0.304441  0.042104          2             2                  5\n",
       "1  0.238355  0.066803          2             2                 10\n",
       "2  0.223713  0.056323          2             2                 15\n",
       "3  0.294940  0.099322          2             2                 20\n",
       "4  0.334480  0.079860          2             3                  5"
      ]
     },
     "execution_count": 35,
     "metadata": {},
     "output_type": "execute_result"
    }
   ],
   "source": [
    "scores = unpack_grid_scores(gs.grid_scores_)\n",
    "scores.head()"
   ]
  },
  {
   "cell_type": "code",
   "execution_count": 36,
   "metadata": {
    "collapsed": false
   },
   "outputs": [
    {
     "data": {
      "text/plain": [
       "<seaborn.axisgrid.FacetGrid at 0x111236470>"
      ]
     },
     "execution_count": 36,
     "metadata": {},
     "output_type": "execute_result"
    },
    {
     "data": {
      "image/png": "[encoded data removed]",
      "text/plain": [
       "<matplotlib.figure.Figure at 0x111236358>"
      ]
     },
     "metadata": {},
     "output_type": "display_data"
    }
   ],
   "source": [
    "sns.factorplot(x='max_features', y='mean_', hue='max_depth', col='min_samples_split', data=scores)"
   ]
  },
  {
   "cell_type": "code",
   "execution_count": 37,
   "metadata": {
    "collapsed": false
   },
   "outputs": [
    {
     "data": {
      "text/plain": [
       "<matplotlib.axes._subplots.AxesSubplot at 0x111236780>"
      ]
     },
     "execution_count": 37,
     "metadata": {},
     "output_type": "execute_result"
    },
    {
     "data": {
      "image/png": "[encoded data removed]",
      "text/plain": [
       "<matplotlib.figure.Figure at 0x1116614a8>"
      ]
     },
     "metadata": {},
     "output_type": "display_data"
    }
   ],
   "source": [
    "pd.Series(gs.best_estimator_.feature_importances_,\n",
    "          index=X.columns).order().plot(kind='barh')"
   ]
  },
  {
   "cell_type": "code",
   "execution_count": null,
   "metadata": {
    "collapsed": true
   },
   "outputs": [],
   "source": []
  }
 ],
 "metadata": {
  "kernelspec": {
   "display_name": "Python 3",
   "language": "python",
   "name": "python3"
  },
  "language_info": {
   "codemirror_mode": {
    "name": "ipython",
    "version": 3
   },
   "file_extension": ".py",
   "mimetype": "text/x-python",
   "name": "python",
   "nbconvert_exporter": "python",
   "pygments_lexer": "ipython3",
   "version": "3.4.3"
  }
 },
 "nbformat": 4,
 "nbformat_minor": 0
}
